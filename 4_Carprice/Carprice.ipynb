{
 "cells": [
  {
   "cell_type": "markdown",
   "metadata": {},
   "source": [
    "# Определение стоимости автомобилей"
   ]
  },
  {
   "cell_type": "markdown",
   "metadata": {},
   "source": [
    "Сервис по продаже автомобилей с пробегом «Не бит, не крашен» разрабатывает приложение для привлечения новых клиентов. В нём можно быстро узнать рыночную стоимость своего автомобиля. В нашем распоряжении исторические данные: технические характеристики, комплектации и цены автомобилей. Нужно построить модель для определения стоимости. \n",
    "\n",
    "Заказчику важны:\n",
    "\n",
    "- качество предсказания;\n",
    "- скорость предсказания;\n",
    "- время обучения."
   ]
  },
  {
   "cell_type": "markdown",
   "metadata": {},
   "source": [
    "## Подготовка данных"
   ]
  },
  {
   "cell_type": "markdown",
   "metadata": {},
   "source": [
    "### Библиотеки"
   ]
  },
  {
   "cell_type": "markdown",
   "metadata": {},
   "source": [
    "Загружаю необходимые библиотеки."
   ]
  },
  {
   "cell_type": "code",
   "execution_count": 1,
   "metadata": {},
   "outputs": [],
   "source": [
    "import pandas as pd\n",
    "import numpy as np\n",
    "from sklearn.model_selection import train_test_split\n",
    "from sklearn.preprocessing import StandardScaler\n",
    "from sklearn.preprocessing import OrdinalEncoder\n",
    "from sklearn.metrics import mean_squared_error\n",
    "from sklearn.dummy import DummyRegressor\n",
    "from sklearn.linear_model import LinearRegression\n",
    "import catboost as cb\n",
    "import lightgbm as lgb\n",
    "import seaborn as sns\n",
    "import matplotlib as plt\n",
    "from datetime import datetime"
   ]
  },
  {
   "cell_type": "markdown",
   "metadata": {},
   "source": [
    "### Общие данные"
   ]
  },
  {
   "cell_type": "code",
   "execution_count": 2,
   "metadata": {},
   "outputs": [],
   "source": [
    "df = pd.read_csv('/datasets/autos.csv')"
   ]
  },
  {
   "cell_type": "code",
   "execution_count": 3,
   "metadata": {},
   "outputs": [
    {
     "name": "stdout",
     "output_type": "stream",
     "text": [
      "<class 'pandas.core.frame.DataFrame'>\n",
      "RangeIndex: 354369 entries, 0 to 354368\n",
      "Data columns (total 16 columns):\n",
      "DateCrawled          354369 non-null object\n",
      "Price                354369 non-null int64\n",
      "VehicleType          316879 non-null object\n",
      "RegistrationYear     354369 non-null int64\n",
      "Gearbox              334536 non-null object\n",
      "Power                354369 non-null int64\n",
      "Model                334664 non-null object\n",
      "Kilometer            354369 non-null int64\n",
      "RegistrationMonth    354369 non-null int64\n",
      "FuelType             321474 non-null object\n",
      "Brand                354369 non-null object\n",
      "NotRepaired          283215 non-null object\n",
      "DateCreated          354369 non-null object\n",
      "NumberOfPictures     354369 non-null int64\n",
      "PostalCode           354369 non-null int64\n",
      "LastSeen             354369 non-null object\n",
      "dtypes: int64(7), object(9)\n",
      "memory usage: 43.3+ MB\n"
     ]
    }
   ],
   "source": [
    "df.info()"
   ]
  },
  {
   "cell_type": "markdown",
   "metadata": {},
   "source": [
    "Имеем 354369 строк и 16 столбцов, данные int & object, много пропусков."
   ]
  },
  {
   "cell_type": "code",
   "execution_count": 4,
   "metadata": {},
   "outputs": [
    {
     "data": {
      "text/html": [
       "<div>\n",
       "<style scoped>\n",
       "    .dataframe tbody tr th:only-of-type {\n",
       "        vertical-align: middle;\n",
       "    }\n",
       "\n",
       "    .dataframe tbody tr th {\n",
       "        vertical-align: top;\n",
       "    }\n",
       "\n",
       "    .dataframe thead th {\n",
       "        text-align: right;\n",
       "    }\n",
       "</style>\n",
       "<table border=\"1\" class=\"dataframe\">\n",
       "  <thead>\n",
       "    <tr style=\"text-align: right;\">\n",
       "      <th></th>\n",
       "      <th>DateCrawled</th>\n",
       "      <th>Price</th>\n",
       "      <th>VehicleType</th>\n",
       "      <th>RegistrationYear</th>\n",
       "      <th>Gearbox</th>\n",
       "      <th>Power</th>\n",
       "      <th>Model</th>\n",
       "      <th>Kilometer</th>\n",
       "      <th>RegistrationMonth</th>\n",
       "      <th>FuelType</th>\n",
       "      <th>Brand</th>\n",
       "      <th>NotRepaired</th>\n",
       "      <th>DateCreated</th>\n",
       "      <th>NumberOfPictures</th>\n",
       "      <th>PostalCode</th>\n",
       "      <th>LastSeen</th>\n",
       "    </tr>\n",
       "  </thead>\n",
       "  <tbody>\n",
       "    <tr>\n",
       "      <td>0</td>\n",
       "      <td>2016-03-24 11:52:17</td>\n",
       "      <td>480</td>\n",
       "      <td>NaN</td>\n",
       "      <td>1993</td>\n",
       "      <td>manual</td>\n",
       "      <td>0</td>\n",
       "      <td>golf</td>\n",
       "      <td>150000</td>\n",
       "      <td>0</td>\n",
       "      <td>petrol</td>\n",
       "      <td>volkswagen</td>\n",
       "      <td>NaN</td>\n",
       "      <td>2016-03-24 00:00:00</td>\n",
       "      <td>0</td>\n",
       "      <td>70435</td>\n",
       "      <td>2016-04-07 03:16:57</td>\n",
       "    </tr>\n",
       "    <tr>\n",
       "      <td>1</td>\n",
       "      <td>2016-03-24 10:58:45</td>\n",
       "      <td>18300</td>\n",
       "      <td>coupe</td>\n",
       "      <td>2011</td>\n",
       "      <td>manual</td>\n",
       "      <td>190</td>\n",
       "      <td>NaN</td>\n",
       "      <td>125000</td>\n",
       "      <td>5</td>\n",
       "      <td>gasoline</td>\n",
       "      <td>audi</td>\n",
       "      <td>yes</td>\n",
       "      <td>2016-03-24 00:00:00</td>\n",
       "      <td>0</td>\n",
       "      <td>66954</td>\n",
       "      <td>2016-04-07 01:46:50</td>\n",
       "    </tr>\n",
       "    <tr>\n",
       "      <td>2</td>\n",
       "      <td>2016-03-14 12:52:21</td>\n",
       "      <td>9800</td>\n",
       "      <td>suv</td>\n",
       "      <td>2004</td>\n",
       "      <td>auto</td>\n",
       "      <td>163</td>\n",
       "      <td>grand</td>\n",
       "      <td>125000</td>\n",
       "      <td>8</td>\n",
       "      <td>gasoline</td>\n",
       "      <td>jeep</td>\n",
       "      <td>NaN</td>\n",
       "      <td>2016-03-14 00:00:00</td>\n",
       "      <td>0</td>\n",
       "      <td>90480</td>\n",
       "      <td>2016-04-05 12:47:46</td>\n",
       "    </tr>\n",
       "    <tr>\n",
       "      <td>3</td>\n",
       "      <td>2016-03-17 16:54:04</td>\n",
       "      <td>1500</td>\n",
       "      <td>small</td>\n",
       "      <td>2001</td>\n",
       "      <td>manual</td>\n",
       "      <td>75</td>\n",
       "      <td>golf</td>\n",
       "      <td>150000</td>\n",
       "      <td>6</td>\n",
       "      <td>petrol</td>\n",
       "      <td>volkswagen</td>\n",
       "      <td>no</td>\n",
       "      <td>2016-03-17 00:00:00</td>\n",
       "      <td>0</td>\n",
       "      <td>91074</td>\n",
       "      <td>2016-03-17 17:40:17</td>\n",
       "    </tr>\n",
       "    <tr>\n",
       "      <td>4</td>\n",
       "      <td>2016-03-31 17:25:20</td>\n",
       "      <td>3600</td>\n",
       "      <td>small</td>\n",
       "      <td>2008</td>\n",
       "      <td>manual</td>\n",
       "      <td>69</td>\n",
       "      <td>fabia</td>\n",
       "      <td>90000</td>\n",
       "      <td>7</td>\n",
       "      <td>gasoline</td>\n",
       "      <td>skoda</td>\n",
       "      <td>no</td>\n",
       "      <td>2016-03-31 00:00:00</td>\n",
       "      <td>0</td>\n",
       "      <td>60437</td>\n",
       "      <td>2016-04-06 10:17:21</td>\n",
       "    </tr>\n",
       "  </tbody>\n",
       "</table>\n",
       "</div>"
      ],
      "text/plain": [
       "           DateCrawled  Price VehicleType  RegistrationYear Gearbox  Power  \\\n",
       "0  2016-03-24 11:52:17    480         NaN              1993  manual      0   \n",
       "1  2016-03-24 10:58:45  18300       coupe              2011  manual    190   \n",
       "2  2016-03-14 12:52:21   9800         suv              2004    auto    163   \n",
       "3  2016-03-17 16:54:04   1500       small              2001  manual     75   \n",
       "4  2016-03-31 17:25:20   3600       small              2008  manual     69   \n",
       "\n",
       "   Model  Kilometer  RegistrationMonth  FuelType       Brand NotRepaired  \\\n",
       "0   golf     150000                  0    petrol  volkswagen         NaN   \n",
       "1    NaN     125000                  5  gasoline        audi         yes   \n",
       "2  grand     125000                  8  gasoline        jeep         NaN   \n",
       "3   golf     150000                  6    petrol  volkswagen          no   \n",
       "4  fabia      90000                  7  gasoline       skoda          no   \n",
       "\n",
       "           DateCreated  NumberOfPictures  PostalCode             LastSeen  \n",
       "0  2016-03-24 00:00:00                 0       70435  2016-04-07 03:16:57  \n",
       "1  2016-03-24 00:00:00                 0       66954  2016-04-07 01:46:50  \n",
       "2  2016-03-14 00:00:00                 0       90480  2016-04-05 12:47:46  \n",
       "3  2016-03-17 00:00:00                 0       91074  2016-03-17 17:40:17  \n",
       "4  2016-03-31 00:00:00                 0       60437  2016-04-06 10:17:21  "
      ]
     },
     "execution_count": 4,
     "metadata": {},
     "output_type": "execute_result"
    }
   ],
   "source": [
    "df.head()"
   ]
  },
  {
   "cell_type": "markdown",
   "metadata": {},
   "source": [
    "Смотрю глазами, видны пропущенные значения в типе кузова, модели и сведениях о ремонте, нулевые значения в мощности и месяце регистрации автомобиля."
   ]
  },
  {
   "cell_type": "code",
   "execution_count": 5,
   "metadata": {},
   "outputs": [
    {
     "data": {
      "text/plain": [
       "DateCrawled              0\n",
       "Price                    0\n",
       "VehicleType          37490\n",
       "RegistrationYear         0\n",
       "Gearbox              19833\n",
       "Power                    0\n",
       "Model                19705\n",
       "Kilometer                0\n",
       "RegistrationMonth        0\n",
       "FuelType             32895\n",
       "Brand                    0\n",
       "NotRepaired          71154\n",
       "DateCreated              0\n",
       "NumberOfPictures         0\n",
       "PostalCode               0\n",
       "LastSeen                 0\n",
       "dtype: int64"
      ]
     },
     "execution_count": 5,
     "metadata": {},
     "output_type": "execute_result"
    }
   ],
   "source": [
    "df.isna().sum()"
   ]
  },
  {
   "cell_type": "markdown",
   "metadata": {},
   "source": [
    "Пропущенные значения также имеются в типе коробки передач и типе двигателя - сведения важные для оценки стоимости."
   ]
  },
  {
   "cell_type": "markdown",
   "metadata": {},
   "source": [
    "### Работа с датами"
   ]
  },
  {
   "cell_type": "code",
   "execution_count": 6,
   "metadata": {},
   "outputs": [
    {
     "data": {
      "text/plain": [
       "('2016-03-05 14:06:22', '2016-04-07 14:36:58')"
      ]
     },
     "execution_count": 6,
     "metadata": {},
     "output_type": "execute_result"
    }
   ],
   "source": [
    "df.DateCrawled.min(), df.DateCrawled.max()"
   ]
  },
  {
   "cell_type": "markdown",
   "metadata": {},
   "source": [
    "Все анкеты скачаны в пределах месяца в 2016 году."
   ]
  },
  {
   "cell_type": "code",
   "execution_count": 7,
   "metadata": {},
   "outputs": [
    {
     "data": {
      "text/plain": [
       "('2014-03-10 00:00:00', '2016-04-07 00:00:00')"
      ]
     },
     "execution_count": 7,
     "metadata": {},
     "output_type": "execute_result"
    }
   ],
   "source": [
    "df.DateCreated.min(), df.DateCreated.max()"
   ]
  },
  {
   "cell_type": "markdown",
   "metadata": {},
   "source": [
    "Самые старые объявления 2014 г, свежие - 2016 г."
   ]
  },
  {
   "cell_type": "code",
   "execution_count": 8,
   "metadata": {},
   "outputs": [
    {
     "data": {
      "text/plain": [
       "('2016-03-05 14:15:08', '2016-04-07 14:58:51')"
      ]
     },
     "execution_count": 8,
     "metadata": {},
     "output_type": "execute_result"
    }
   ],
   "source": [
    "df.LastSeen.min(), df.LastSeen.max()"
   ]
  },
  {
   "cell_type": "markdown",
   "metadata": {},
   "source": [
    "Предполагаю, что все размещенные автомобили - это активные объявления, а дата последней активности - дата продажи. Разница составляет длительность продажи."
   ]
  },
  {
   "cell_type": "code",
   "execution_count": 9,
   "metadata": {},
   "outputs": [],
   "source": [
    "df.DateCreated = pd.to_datetime(df.DateCreated, format='%Y-%m-%d %H:%M:%S')\n",
    "df.LastSeen = pd.to_datetime(df.LastSeen, format='%Y-%m-%d %H:%M:%S')"
   ]
  },
  {
   "cell_type": "code",
   "execution_count": 10,
   "metadata": {},
   "outputs": [],
   "source": [
    "df['SaleDuration'] = df.LastSeen - df.DateCreated"
   ]
  },
  {
   "cell_type": "code",
   "execution_count": 11,
   "metadata": {},
   "outputs": [
    {
     "data": {
      "text/plain": [
       "Timedelta('759 days 04:46:24')"
      ]
     },
     "execution_count": 11,
     "metadata": {},
     "output_type": "execute_result"
    }
   ],
   "source": [
    "df.SaleDuration.max()"
   ]
  },
  {
   "cell_type": "markdown",
   "metadata": {},
   "source": [
    "Какой-то несчастный продает авто более двух лет."
   ]
  },
  {
   "cell_type": "code",
   "execution_count": 12,
   "metadata": {},
   "outputs": [
    {
     "data": {
      "text/plain": [
       "Timedelta('0 days 00:25:36')"
      ]
     },
     "execution_count": 12,
     "metadata": {},
     "output_type": "execute_result"
    }
   ],
   "source": [
    "df.SaleDuration.min()"
   ]
  },
  {
   "cell_type": "markdown",
   "metadata": {},
   "source": [
    "А кто-то справился за 25 минут."
   ]
  },
  {
   "cell_type": "code",
   "execution_count": 13,
   "metadata": {},
   "outputs": [],
   "source": [
    "df.SaleDuration = df.SaleDuration.dt.ceil('d').dt.days"
   ]
  },
  {
   "cell_type": "code",
   "execution_count": 14,
   "metadata": {},
   "outputs": [
    {
     "data": {
      "text/plain": [
       "1     50589\n",
       "3     38279\n",
       "5     26534\n",
       "2     21358\n",
       "7     19991\n",
       "4     17921\n",
       "9     16355\n",
       "10    12524\n",
       "6     12466\n",
       "8     12082\n",
       "Name: SaleDuration, dtype: int64"
      ]
     },
     "execution_count": 14,
     "metadata": {},
     "output_type": "execute_result"
    }
   ],
   "source": [
    "df.SaleDuration.value_counts().head(10)"
   ]
  },
  {
   "cell_type": "markdown",
   "metadata": {},
   "source": [
    "Большинство автомобилей продается достаточно быстро."
   ]
  },
  {
   "cell_type": "markdown",
   "metadata": {},
   "source": [
    "Перевожу datetime к int, сведения о дате объявления важны для формирования цены."
   ]
  },
  {
   "cell_type": "code",
   "execution_count": 15,
   "metadata": {},
   "outputs": [],
   "source": [
    "df['DateCreated'] = df.DateCreated.dt.year"
   ]
  },
  {
   "cell_type": "markdown",
   "metadata": {},
   "source": [
    "### Цена"
   ]
  },
  {
   "cell_type": "markdown",
   "metadata": {},
   "source": [
    "Посмотрю на стоимость."
   ]
  },
  {
   "cell_type": "code",
   "execution_count": 16,
   "metadata": {},
   "outputs": [
    {
     "data": {
      "text/plain": [
       "count    354369.000000\n",
       "mean       4416.656776\n",
       "std        4514.158514\n",
       "min           0.000000\n",
       "25%        1050.000000\n",
       "50%        2700.000000\n",
       "75%        6400.000000\n",
       "max       20000.000000\n",
       "Name: Price, dtype: float64"
      ]
     },
     "execution_count": 16,
     "metadata": {},
     "output_type": "execute_result"
    }
   ],
   "source": [
    "df.Price.describe()"
   ]
  },
  {
   "cell_type": "code",
   "execution_count": 17,
   "metadata": {},
   "outputs": [
    {
     "data": {
      "image/png": "[encoded data removed]",
      "text/plain": [
       "<Figure size 432x288 with 1 Axes>"
      ]
     },
     "metadata": {
      "needs_background": "light"
     },
     "output_type": "display_data"
    }
   ],
   "source": [
    "sns.boxplot(df.Price);"
   ]
  },
  {
   "cell_type": "code",
   "execution_count": 18,
   "metadata": {},
   "outputs": [
    {
     "name": "stdout",
     "output_type": "stream",
     "text": [
      "<class 'pandas.core.frame.DataFrame'>\n",
      "Int64Index: 23163 entries, 7 to 354364\n",
      "Data columns (total 17 columns):\n",
      "DateCrawled          23163 non-null object\n",
      "Price                23163 non-null int64\n",
      "VehicleType          15608 non-null object\n",
      "RegistrationYear     23163 non-null int64\n",
      "Gearbox              18091 non-null object\n",
      "Power                23163 non-null int64\n",
      "Model                19430 non-null object\n",
      "Kilometer            23163 non-null int64\n",
      "RegistrationMonth    23163 non-null int64\n",
      "FuelType             16157 non-null object\n",
      "Brand                23163 non-null object\n",
      "NotRepaired          11998 non-null object\n",
      "DateCreated          23163 non-null int64\n",
      "NumberOfPictures     23163 non-null int64\n",
      "PostalCode           23163 non-null int64\n",
      "LastSeen             23163 non-null datetime64[ns]\n",
      "SaleDuration         23163 non-null int64\n",
      "dtypes: datetime64[ns](1), int64(9), object(7)\n",
      "memory usage: 3.2+ MB\n"
     ]
    }
   ],
   "source": [
    "df.query('Price < 300').info()"
   ]
  },
  {
   "cell_type": "code",
   "execution_count": 19,
   "metadata": {},
   "outputs": [
    {
     "data": {
      "text/plain": [
       "count    354369.000000\n",
       "mean       4416.656776\n",
       "std        4514.158514\n",
       "min           0.000000\n",
       "25%        1050.000000\n",
       "50%        2700.000000\n",
       "75%        6400.000000\n",
       "max       20000.000000\n",
       "Name: Price, dtype: float64"
      ]
     },
     "execution_count": 19,
     "metadata": {},
     "output_type": "execute_result"
    }
   ],
   "source": [
    "df.Price.describe()"
   ]
  },
  {
   "cell_type": "markdown",
   "metadata": {},
   "source": [
    "Цена варьирует от 0 до 20000 €.\n",
    "\n",
    "С максимальной стоимостью всё понятно, но вот представить себе автомобиль дешевле 300€ сложно.\n",
    "\n",
    "Удаляю сторки с неадекватным целевым признаком."
   ]
  },
  {
   "cell_type": "code",
   "execution_count": 20,
   "metadata": {},
   "outputs": [],
   "source": [
    "df = df.loc[df['Price'] > 300].copy()"
   ]
  },
  {
   "cell_type": "markdown",
   "metadata": {},
   "source": [
    "### Год выпуска"
   ]
  },
  {
   "cell_type": "markdown",
   "metadata": {},
   "source": [
    "Посмотрю на год выпуска."
   ]
  },
  {
   "cell_type": "code",
   "execution_count": 21,
   "metadata": {},
   "outputs": [
    {
     "data": {
      "text/plain": [
       "count    328475.000000\n",
       "mean       2004.047547\n",
       "std          67.523796\n",
       "min        1000.000000\n",
       "25%        1999.000000\n",
       "50%        2003.000000\n",
       "75%        2008.000000\n",
       "max        9999.000000\n",
       "Name: RegistrationYear, dtype: float64"
      ]
     },
     "execution_count": 21,
     "metadata": {},
     "output_type": "execute_result"
    }
   ],
   "source": [
    "df.RegistrationYear.describe()"
   ]
  },
  {
   "cell_type": "code",
   "execution_count": 22,
   "metadata": {},
   "outputs": [
    {
     "data": {
      "text/html": [
       "<div>\n",
       "<style scoped>\n",
       "    .dataframe tbody tr th:only-of-type {\n",
       "        vertical-align: middle;\n",
       "    }\n",
       "\n",
       "    .dataframe tbody tr th {\n",
       "        vertical-align: top;\n",
       "    }\n",
       "\n",
       "    .dataframe thead th {\n",
       "        text-align: right;\n",
       "    }\n",
       "</style>\n",
       "<table border=\"1\" class=\"dataframe\">\n",
       "  <thead>\n",
       "    <tr style=\"text-align: right;\">\n",
       "      <th></th>\n",
       "      <th>Price</th>\n",
       "      <th>RegistrationYear</th>\n",
       "      <th>Power</th>\n",
       "      <th>Kilometer</th>\n",
       "      <th>RegistrationMonth</th>\n",
       "      <th>DateCreated</th>\n",
       "      <th>NumberOfPictures</th>\n",
       "      <th>PostalCode</th>\n",
       "      <th>SaleDuration</th>\n",
       "    </tr>\n",
       "  </thead>\n",
       "  <tbody>\n",
       "    <tr>\n",
       "      <td>count</td>\n",
       "      <td>13406.000000</td>\n",
       "      <td>13406.000000</td>\n",
       "      <td>13406.000000</td>\n",
       "      <td>13406.000000</td>\n",
       "      <td>13406.000000</td>\n",
       "      <td>13406.0</td>\n",
       "      <td>13406.0</td>\n",
       "      <td>13406.000000</td>\n",
       "      <td>13406.000000</td>\n",
       "    </tr>\n",
       "    <tr>\n",
       "      <td>mean</td>\n",
       "      <td>3411.497165</td>\n",
       "      <td>2035.990825</td>\n",
       "      <td>88.510368</td>\n",
       "      <td>132316.873042</td>\n",
       "      <td>4.854394</td>\n",
       "      <td>2016.0</td>\n",
       "      <td>0.0</td>\n",
       "      <td>48543.673281</td>\n",
       "      <td>8.548933</td>\n",
       "    </tr>\n",
       "    <tr>\n",
       "      <td>std</td>\n",
       "      <td>3478.404223</td>\n",
       "      <td>328.076429</td>\n",
       "      <td>227.092862</td>\n",
       "      <td>35914.740021</td>\n",
       "      <td>3.992475</td>\n",
       "      <td>0.0</td>\n",
       "      <td>0.0</td>\n",
       "      <td>25076.443535</td>\n",
       "      <td>7.771386</td>\n",
       "    </tr>\n",
       "    <tr>\n",
       "      <td>min</td>\n",
       "      <td>315.000000</td>\n",
       "      <td>2017.000000</td>\n",
       "      <td>0.000000</td>\n",
       "      <td>5000.000000</td>\n",
       "      <td>0.000000</td>\n",
       "      <td>2016.0</td>\n",
       "      <td>0.0</td>\n",
       "      <td>1067.000000</td>\n",
       "      <td>1.000000</td>\n",
       "    </tr>\n",
       "    <tr>\n",
       "      <td>25%</td>\n",
       "      <td>1150.000000</td>\n",
       "      <td>2017.000000</td>\n",
       "      <td>40.000000</td>\n",
       "      <td>125000.000000</td>\n",
       "      <td>1.000000</td>\n",
       "      <td>2016.0</td>\n",
       "      <td>0.0</td>\n",
       "      <td>28219.000000</td>\n",
       "      <td>3.000000</td>\n",
       "    </tr>\n",
       "    <tr>\n",
       "      <td>50%</td>\n",
       "      <td>2025.000000</td>\n",
       "      <td>2017.000000</td>\n",
       "      <td>80.000000</td>\n",
       "      <td>150000.000000</td>\n",
       "      <td>4.000000</td>\n",
       "      <td>2016.0</td>\n",
       "      <td>0.0</td>\n",
       "      <td>46527.000000</td>\n",
       "      <td>6.000000</td>\n",
       "    </tr>\n",
       "    <tr>\n",
       "      <td>75%</td>\n",
       "      <td>4350.000000</td>\n",
       "      <td>2018.000000</td>\n",
       "      <td>120.000000</td>\n",
       "      <td>150000.000000</td>\n",
       "      <td>8.000000</td>\n",
       "      <td>2016.0</td>\n",
       "      <td>0.0</td>\n",
       "      <td>66482.000000</td>\n",
       "      <td>12.000000</td>\n",
       "    </tr>\n",
       "    <tr>\n",
       "      <td>max</td>\n",
       "      <td>20000.000000</td>\n",
       "      <td>9999.000000</td>\n",
       "      <td>16011.000000</td>\n",
       "      <td>150000.000000</td>\n",
       "      <td>12.000000</td>\n",
       "      <td>2016.0</td>\n",
       "      <td>0.0</td>\n",
       "      <td>99994.000000</td>\n",
       "      <td>71.000000</td>\n",
       "    </tr>\n",
       "  </tbody>\n",
       "</table>\n",
       "</div>"
      ],
      "text/plain": [
       "              Price  RegistrationYear         Power      Kilometer  \\\n",
       "count  13406.000000      13406.000000  13406.000000   13406.000000   \n",
       "mean    3411.497165       2035.990825     88.510368  132316.873042   \n",
       "std     3478.404223        328.076429    227.092862   35914.740021   \n",
       "min      315.000000       2017.000000      0.000000    5000.000000   \n",
       "25%     1150.000000       2017.000000     40.000000  125000.000000   \n",
       "50%     2025.000000       2017.000000     80.000000  150000.000000   \n",
       "75%     4350.000000       2018.000000    120.000000  150000.000000   \n",
       "max    20000.000000       9999.000000  16011.000000  150000.000000   \n",
       "\n",
       "       RegistrationMonth  DateCreated  NumberOfPictures    PostalCode  \\\n",
       "count       13406.000000      13406.0           13406.0  13406.000000   \n",
       "mean            4.854394       2016.0               0.0  48543.673281   \n",
       "std             3.992475          0.0               0.0  25076.443535   \n",
       "min             0.000000       2016.0               0.0   1067.000000   \n",
       "25%             1.000000       2016.0               0.0  28219.000000   \n",
       "50%             4.000000       2016.0               0.0  46527.000000   \n",
       "75%             8.000000       2016.0               0.0  66482.000000   \n",
       "max            12.000000       2016.0               0.0  99994.000000   \n",
       "\n",
       "       SaleDuration  \n",
       "count  13406.000000  \n",
       "mean       8.548933  \n",
       "std        7.771386  \n",
       "min        1.000000  \n",
       "25%        3.000000  \n",
       "50%        6.000000  \n",
       "75%       12.000000  \n",
       "max       71.000000  "
      ]
     },
     "execution_count": 22,
     "metadata": {},
     "output_type": "execute_result"
    }
   ],
   "source": [
    "df.query('RegistrationYear > 2016').describe()"
   ]
  },
  {
   "cell_type": "code",
   "execution_count": 23,
   "metadata": {},
   "outputs": [
    {
     "data": {
      "text/html": [
       "<div>\n",
       "<style scoped>\n",
       "    .dataframe tbody tr th:only-of-type {\n",
       "        vertical-align: middle;\n",
       "    }\n",
       "\n",
       "    .dataframe tbody tr th {\n",
       "        vertical-align: top;\n",
       "    }\n",
       "\n",
       "    .dataframe thead th {\n",
       "        text-align: right;\n",
       "    }\n",
       "</style>\n",
       "<table border=\"1\" class=\"dataframe\">\n",
       "  <thead>\n",
       "    <tr style=\"text-align: right;\">\n",
       "      <th></th>\n",
       "      <th>Price</th>\n",
       "      <th>RegistrationYear</th>\n",
       "      <th>Power</th>\n",
       "      <th>Kilometer</th>\n",
       "      <th>RegistrationMonth</th>\n",
       "      <th>DateCreated</th>\n",
       "      <th>NumberOfPictures</th>\n",
       "      <th>PostalCode</th>\n",
       "      <th>SaleDuration</th>\n",
       "    </tr>\n",
       "  </thead>\n",
       "  <tbody>\n",
       "    <tr>\n",
       "      <td>count</td>\n",
       "      <td>36.000000</td>\n",
       "      <td>36.000000</td>\n",
       "      <td>36.000000</td>\n",
       "      <td>36.000000</td>\n",
       "      <td>36.000000</td>\n",
       "      <td>36.0</td>\n",
       "      <td>36.0</td>\n",
       "      <td>36.000000</td>\n",
       "      <td>36.000000</td>\n",
       "    </tr>\n",
       "    <tr>\n",
       "      <td>mean</td>\n",
       "      <td>2608.111111</td>\n",
       "      <td>1203.361111</td>\n",
       "      <td>233.055556</td>\n",
       "      <td>12361.111111</td>\n",
       "      <td>1.138889</td>\n",
       "      <td>2016.0</td>\n",
       "      <td>0.0</td>\n",
       "      <td>42639.750000</td>\n",
       "      <td>10.805556</td>\n",
       "    </tr>\n",
       "    <tr>\n",
       "      <td>std</td>\n",
       "      <td>3997.649987</td>\n",
       "      <td>294.082219</td>\n",
       "      <td>540.397417</td>\n",
       "      <td>30925.858600</td>\n",
       "      <td>2.058471</td>\n",
       "      <td>0.0</td>\n",
       "      <td>0.0</td>\n",
       "      <td>27785.535084</td>\n",
       "      <td>10.411037</td>\n",
       "    </tr>\n",
       "    <tr>\n",
       "      <td>min</td>\n",
       "      <td>330.000000</td>\n",
       "      <td>1000.000000</td>\n",
       "      <td>0.000000</td>\n",
       "      <td>5000.000000</td>\n",
       "      <td>0.000000</td>\n",
       "      <td>2016.0</td>\n",
       "      <td>0.0</td>\n",
       "      <td>2906.000000</td>\n",
       "      <td>1.000000</td>\n",
       "    </tr>\n",
       "    <tr>\n",
       "      <td>25%</td>\n",
       "      <td>450.000000</td>\n",
       "      <td>1000.000000</td>\n",
       "      <td>0.000000</td>\n",
       "      <td>5000.000000</td>\n",
       "      <td>0.000000</td>\n",
       "      <td>2016.0</td>\n",
       "      <td>0.0</td>\n",
       "      <td>18639.000000</td>\n",
       "      <td>3.000000</td>\n",
       "    </tr>\n",
       "    <tr>\n",
       "      <td>50%</td>\n",
       "      <td>625.000000</td>\n",
       "      <td>1000.000000</td>\n",
       "      <td>0.000000</td>\n",
       "      <td>5000.000000</td>\n",
       "      <td>0.000000</td>\n",
       "      <td>2016.0</td>\n",
       "      <td>0.0</td>\n",
       "      <td>41332.500000</td>\n",
       "      <td>6.500000</td>\n",
       "    </tr>\n",
       "    <tr>\n",
       "      <td>75%</td>\n",
       "      <td>2125.000000</td>\n",
       "      <td>1425.000000</td>\n",
       "      <td>28.000000</td>\n",
       "      <td>5000.000000</td>\n",
       "      <td>1.250000</td>\n",
       "      <td>2016.0</td>\n",
       "      <td>0.0</td>\n",
       "      <td>63322.000000</td>\n",
       "      <td>16.750000</td>\n",
       "    </tr>\n",
       "    <tr>\n",
       "      <td>max</td>\n",
       "      <td>16500.000000</td>\n",
       "      <td>1800.000000</td>\n",
       "      <td>1800.000000</td>\n",
       "      <td>150000.000000</td>\n",
       "      <td>6.000000</td>\n",
       "      <td>2016.0</td>\n",
       "      <td>0.0</td>\n",
       "      <td>96160.000000</td>\n",
       "      <td>40.000000</td>\n",
       "    </tr>\n",
       "  </tbody>\n",
       "</table>\n",
       "</div>"
      ],
      "text/plain": [
       "              Price  RegistrationYear        Power      Kilometer  \\\n",
       "count     36.000000         36.000000    36.000000      36.000000   \n",
       "mean    2608.111111       1203.361111   233.055556   12361.111111   \n",
       "std     3997.649987        294.082219   540.397417   30925.858600   \n",
       "min      330.000000       1000.000000     0.000000    5000.000000   \n",
       "25%      450.000000       1000.000000     0.000000    5000.000000   \n",
       "50%      625.000000       1000.000000     0.000000    5000.000000   \n",
       "75%     2125.000000       1425.000000    28.000000    5000.000000   \n",
       "max    16500.000000       1800.000000  1800.000000  150000.000000   \n",
       "\n",
       "       RegistrationMonth  DateCreated  NumberOfPictures    PostalCode  \\\n",
       "count          36.000000         36.0              36.0     36.000000   \n",
       "mean            1.138889       2016.0               0.0  42639.750000   \n",
       "std             2.058471          0.0               0.0  27785.535084   \n",
       "min             0.000000       2016.0               0.0   2906.000000   \n",
       "25%             0.000000       2016.0               0.0  18639.000000   \n",
       "50%             0.000000       2016.0               0.0  41332.500000   \n",
       "75%             1.250000       2016.0               0.0  63322.000000   \n",
       "max             6.000000       2016.0               0.0  96160.000000   \n",
       "\n",
       "       SaleDuration  \n",
       "count     36.000000  \n",
       "mean      10.805556  \n",
       "std       10.411037  \n",
       "min        1.000000  \n",
       "25%        3.000000  \n",
       "50%        6.500000  \n",
       "75%       16.750000  \n",
       "max       40.000000  "
      ]
     },
     "execution_count": 23,
     "metadata": {},
     "output_type": "execute_result"
    }
   ],
   "source": [
    "df.query('RegistrationYear < 1900').describe()"
   ]
  },
  {
   "cell_type": "code",
   "execution_count": 24,
   "metadata": {},
   "outputs": [
    {
     "data": {
      "text/plain": [
       "2005    21187\n",
       "2000    21004\n",
       "1999    20708\n",
       "2006    19632\n",
       "2003    19379\n",
       "Name: RegistrationYear, dtype: int64"
      ]
     },
     "execution_count": 24,
     "metadata": {},
     "output_type": "execute_result"
    }
   ],
   "source": [
    "df.RegistrationYear.value_counts().head()"
   ]
  },
  {
   "cell_type": "markdown",
   "metadata": {},
   "source": [
    "Предположу, что автомобили начала XX века могут продваваться, но автомобили из будущего - сомнительно (дата последней выгрузки - '2016-04-07 14:36:58')."
   ]
  },
  {
   "cell_type": "code",
   "execution_count": 25,
   "metadata": {},
   "outputs": [],
   "source": [
    "df = df.loc[~((df['RegistrationYear'] < 1900) | (df['RegistrationYear'] > 2016))]"
   ]
  },
  {
   "cell_type": "code",
   "execution_count": 26,
   "metadata": {
    "scrolled": true
   },
   "outputs": [
    {
     "data": {
      "text/plain": [
       "DateCrawled              0\n",
       "Price                    0\n",
       "VehicleType          15872\n",
       "RegistrationYear         0\n",
       "Gearbox              12779\n",
       "Power                    0\n",
       "Model                13863\n",
       "Kilometer                0\n",
       "RegistrationMonth        0\n",
       "FuelType             20192\n",
       "Brand                    0\n",
       "NotRepaired          53012\n",
       "DateCreated              0\n",
       "NumberOfPictures         0\n",
       "PostalCode               0\n",
       "LastSeen                 0\n",
       "SaleDuration             0\n",
       "dtype: int64"
      ]
     },
     "execution_count": 26,
     "metadata": {},
     "output_type": "execute_result"
    }
   ],
   "source": [
    "df.isna().sum()"
   ]
  },
  {
   "cell_type": "markdown",
   "metadata": {},
   "source": [
    "### Мощность"
   ]
  },
  {
   "cell_type": "code",
   "execution_count": 27,
   "metadata": {},
   "outputs": [
    {
     "data": {
      "text/plain": [
       "count    315033.000000\n",
       "mean        114.458168\n",
       "std         185.192684\n",
       "min           0.000000\n",
       "25%          75.000000\n",
       "50%         106.000000\n",
       "75%         144.000000\n",
       "max       20000.000000\n",
       "Name: Power, dtype: float64"
      ]
     },
     "execution_count": 27,
     "metadata": {},
     "output_type": "execute_result"
    }
   ],
   "source": [
    "df.Power.describe()"
   ]
  },
  {
   "cell_type": "code",
   "execution_count": 28,
   "metadata": {},
   "outputs": [
    {
     "data": {
      "image/png": "[encoded data removed]",
      "text/plain": [
       "<Figure size 432x288 with 1 Axes>"
      ]
     },
     "metadata": {
      "needs_background": "light"
     },
     "output_type": "display_data"
    }
   ],
   "source": [
    "sns.boxplot(df.Power);"
   ]
  },
  {
   "cell_type": "markdown",
   "metadata": {},
   "source": [
    "Мощность в некоторых объявлениях явно указана не в л.с., это или объем двигателя или максимальный крутящий момент.\n",
    "\n",
    "Встретить авто с мощностью более 500 л.с. можно, но явление нечастое."
   ]
  },
  {
   "cell_type": "code",
   "execution_count": 29,
   "metadata": {},
   "outputs": [
    {
     "data": {
      "text/plain": [
       "366"
      ]
     },
     "metadata": {},
     "output_type": "display_data"
    }
   ],
   "source": [
    "display(len(df.loc[df['Power'] > 500]))"
   ]
  },
  {
   "cell_type": "markdown",
   "metadata": {},
   "source": [
    "366 автомобилей более 500 л.с."
   ]
  },
  {
   "cell_type": "code",
   "execution_count": 30,
   "metadata": {},
   "outputs": [
    {
     "data": {
      "text/html": [
       "<div>\n",
       "<style scoped>\n",
       "    .dataframe tbody tr th:only-of-type {\n",
       "        vertical-align: middle;\n",
       "    }\n",
       "\n",
       "    .dataframe tbody tr th {\n",
       "        vertical-align: top;\n",
       "    }\n",
       "\n",
       "    .dataframe thead th {\n",
       "        text-align: right;\n",
       "    }\n",
       "</style>\n",
       "<table border=\"1\" class=\"dataframe\">\n",
       "  <thead>\n",
       "    <tr style=\"text-align: right;\">\n",
       "      <th></th>\n",
       "      <th>DateCrawled</th>\n",
       "      <th>Price</th>\n",
       "      <th>VehicleType</th>\n",
       "      <th>RegistrationYear</th>\n",
       "      <th>Gearbox</th>\n",
       "      <th>Power</th>\n",
       "      <th>Model</th>\n",
       "      <th>Kilometer</th>\n",
       "      <th>RegistrationMonth</th>\n",
       "      <th>FuelType</th>\n",
       "      <th>Brand</th>\n",
       "      <th>NotRepaired</th>\n",
       "      <th>DateCreated</th>\n",
       "      <th>NumberOfPictures</th>\n",
       "      <th>PostalCode</th>\n",
       "      <th>LastSeen</th>\n",
       "      <th>SaleDuration</th>\n",
       "    </tr>\n",
       "  </thead>\n",
       "  <tbody>\n",
       "    <tr>\n",
       "      <td>1816</td>\n",
       "      <td>2016-03-22 20:52:00</td>\n",
       "      <td>3200</td>\n",
       "      <td>small</td>\n",
       "      <td>2004</td>\n",
       "      <td>manual</td>\n",
       "      <td>1398</td>\n",
       "      <td>corolla</td>\n",
       "      <td>5000</td>\n",
       "      <td>6</td>\n",
       "      <td>petrol</td>\n",
       "      <td>toyota</td>\n",
       "      <td>no</td>\n",
       "      <td>2016</td>\n",
       "      <td>0</td>\n",
       "      <td>22043</td>\n",
       "      <td>2016-03-22 21:43:26</td>\n",
       "      <td>1</td>\n",
       "    </tr>\n",
       "    <tr>\n",
       "      <td>4060</td>\n",
       "      <td>2016-04-03 20:31:00</td>\n",
       "      <td>3100</td>\n",
       "      <td>sedan</td>\n",
       "      <td>2005</td>\n",
       "      <td>manual</td>\n",
       "      <td>953</td>\n",
       "      <td>colt</td>\n",
       "      <td>150000</td>\n",
       "      <td>4</td>\n",
       "      <td>gasoline</td>\n",
       "      <td>mitsubishi</td>\n",
       "      <td>no</td>\n",
       "      <td>2016</td>\n",
       "      <td>0</td>\n",
       "      <td>60326</td>\n",
       "      <td>2016-04-07 14:56:46</td>\n",
       "      <td>5</td>\n",
       "    </tr>\n",
       "    <tr>\n",
       "      <td>5328</td>\n",
       "      <td>2016-03-29 19:44:48</td>\n",
       "      <td>500</td>\n",
       "      <td>wagon</td>\n",
       "      <td>1999</td>\n",
       "      <td>manual</td>\n",
       "      <td>1001</td>\n",
       "      <td>astra</td>\n",
       "      <td>150000</td>\n",
       "      <td>7</td>\n",
       "      <td>petrol</td>\n",
       "      <td>opel</td>\n",
       "      <td>NaN</td>\n",
       "      <td>2016</td>\n",
       "      <td>0</td>\n",
       "      <td>33154</td>\n",
       "      <td>2016-04-06 05:44:36</td>\n",
       "      <td>9</td>\n",
       "    </tr>\n",
       "    <tr>\n",
       "      <td>6296</td>\n",
       "      <td>2016-03-31 23:50:47</td>\n",
       "      <td>599</td>\n",
       "      <td>small</td>\n",
       "      <td>2002</td>\n",
       "      <td>manual</td>\n",
       "      <td>603</td>\n",
       "      <td>matiz</td>\n",
       "      <td>5000</td>\n",
       "      <td>11</td>\n",
       "      <td>petrol</td>\n",
       "      <td>chevrolet</td>\n",
       "      <td>yes</td>\n",
       "      <td>2016</td>\n",
       "      <td>0</td>\n",
       "      <td>44379</td>\n",
       "      <td>2016-04-01 03:41:52</td>\n",
       "      <td>2</td>\n",
       "    </tr>\n",
       "    <tr>\n",
       "      <td>6504</td>\n",
       "      <td>2016-03-14 15:54:34</td>\n",
       "      <td>3000</td>\n",
       "      <td>small</td>\n",
       "      <td>2009</td>\n",
       "      <td>manual</td>\n",
       "      <td>771</td>\n",
       "      <td>punto</td>\n",
       "      <td>125000</td>\n",
       "      <td>0</td>\n",
       "      <td>petrol</td>\n",
       "      <td>fiat</td>\n",
       "      <td>NaN</td>\n",
       "      <td>2016</td>\n",
       "      <td>0</td>\n",
       "      <td>40721</td>\n",
       "      <td>2016-03-14 15:54:34</td>\n",
       "      <td>1</td>\n",
       "    </tr>\n",
       "  </tbody>\n",
       "</table>\n",
       "</div>"
      ],
      "text/plain": [
       "              DateCrawled  Price VehicleType  RegistrationYear Gearbox  Power  \\\n",
       "1816  2016-03-22 20:52:00   3200       small              2004  manual   1398   \n",
       "4060  2016-04-03 20:31:00   3100       sedan              2005  manual    953   \n",
       "5328  2016-03-29 19:44:48    500       wagon              1999  manual   1001   \n",
       "6296  2016-03-31 23:50:47    599       small              2002  manual    603   \n",
       "6504  2016-03-14 15:54:34   3000       small              2009  manual    771   \n",
       "\n",
       "        Model  Kilometer  RegistrationMonth  FuelType       Brand NotRepaired  \\\n",
       "1816  corolla       5000                  6    petrol      toyota          no   \n",
       "4060     colt     150000                  4  gasoline  mitsubishi          no   \n",
       "5328    astra     150000                  7    petrol        opel         NaN   \n",
       "6296    matiz       5000                 11    petrol   chevrolet         yes   \n",
       "6504    punto     125000                  0    petrol        fiat         NaN   \n",
       "\n",
       "      DateCreated  NumberOfPictures  PostalCode            LastSeen  \\\n",
       "1816         2016                 0       22043 2016-03-22 21:43:26   \n",
       "4060         2016                 0       60326 2016-04-07 14:56:46   \n",
       "5328         2016                 0       33154 2016-04-06 05:44:36   \n",
       "6296         2016                 0       44379 2016-04-01 03:41:52   \n",
       "6504         2016                 0       40721 2016-03-14 15:54:34   \n",
       "\n",
       "      SaleDuration  \n",
       "1816             1  \n",
       "4060             5  \n",
       "5328             9  \n",
       "6296             2  \n",
       "6504             1  "
      ]
     },
     "metadata": {},
     "output_type": "display_data"
    }
   ],
   "source": [
    "display(df.loc[df['Power'] > 500].head())"
   ]
  },
  {
   "cell_type": "markdown",
   "metadata": {},
   "source": [
    "На первый взгляд: 60% - малолитражки, остальные тоже не тянут на спорт."
   ]
  },
  {
   "cell_type": "code",
   "execution_count": 31,
   "metadata": {},
   "outputs": [
    {
     "data": {
      "text/plain": [
       "volkswagen        63\n",
       "opel              47\n",
       "mercedes_benz     42\n",
       "bmw               41\n",
       "audi              36\n",
       "ford              24\n",
       "renault           19\n",
       "citroen           12\n",
       "fiat              11\n",
       "chevrolet          7\n",
       "peugeot            6\n",
       "nissan             6\n",
       "smart              5\n",
       "seat               5\n",
       "porsche            5\n",
       "toyota             5\n",
       "mitsubishi         4\n",
       "sonstige_autos     3\n",
       "jaguar             3\n",
       "mini               3\n",
       "volvo              3\n",
       "honda              3\n",
       "lancia             2\n",
       "skoda              2\n",
       "suzuki             2\n",
       "kia                2\n",
       "alfa_romeo         2\n",
       "hyundai            1\n",
       "mazda              1\n",
       "daewoo             1\n",
       "Name: Brand, dtype: int64"
      ]
     },
     "metadata": {},
     "output_type": "display_data"
    }
   ],
   "source": [
    "display(df.loc[df['Power'] > 500, 'Brand'].value_counts())"
   ]
  },
  {
   "cell_type": "markdown",
   "metadata": {},
   "source": [
    "Некоторые бренды могут прятать под капотом 500 л.с."
   ]
  },
  {
   "cell_type": "code",
   "execution_count": 32,
   "metadata": {},
   "outputs": [
    {
     "data": {
      "text/html": [
       "<div>\n",
       "<style scoped>\n",
       "    .dataframe tbody tr th:only-of-type {\n",
       "        vertical-align: middle;\n",
       "    }\n",
       "\n",
       "    .dataframe tbody tr th {\n",
       "        vertical-align: top;\n",
       "    }\n",
       "\n",
       "    .dataframe thead th {\n",
       "        text-align: right;\n",
       "    }\n",
       "</style>\n",
       "<table border=\"1\" class=\"dataframe\">\n",
       "  <thead>\n",
       "    <tr style=\"text-align: right;\">\n",
       "      <th></th>\n",
       "      <th>DateCrawled</th>\n",
       "      <th>Price</th>\n",
       "      <th>VehicleType</th>\n",
       "      <th>RegistrationYear</th>\n",
       "      <th>Gearbox</th>\n",
       "      <th>Power</th>\n",
       "      <th>Model</th>\n",
       "      <th>Kilometer</th>\n",
       "      <th>RegistrationMonth</th>\n",
       "      <th>FuelType</th>\n",
       "      <th>Brand</th>\n",
       "      <th>NotRepaired</th>\n",
       "      <th>DateCreated</th>\n",
       "      <th>NumberOfPictures</th>\n",
       "      <th>PostalCode</th>\n",
       "      <th>LastSeen</th>\n",
       "      <th>SaleDuration</th>\n",
       "    </tr>\n",
       "  </thead>\n",
       "  <tbody>\n",
       "    <tr>\n",
       "      <td>20145</td>\n",
       "      <td>2016-03-21 10:37:15</td>\n",
       "      <td>18500</td>\n",
       "      <td>suv</td>\n",
       "      <td>2006</td>\n",
       "      <td>auto</td>\n",
       "      <td>521</td>\n",
       "      <td>cayenne</td>\n",
       "      <td>150000</td>\n",
       "      <td>5</td>\n",
       "      <td>petrol</td>\n",
       "      <td>porsche</td>\n",
       "      <td>no</td>\n",
       "      <td>2016</td>\n",
       "      <td>0</td>\n",
       "      <td>24939</td>\n",
       "      <td>2016-04-06 03:16:48</td>\n",
       "      <td>17</td>\n",
       "    </tr>\n",
       "    <tr>\n",
       "      <td>82421</td>\n",
       "      <td>2016-03-07 00:51:56</td>\n",
       "      <td>13500</td>\n",
       "      <td>suv</td>\n",
       "      <td>2006</td>\n",
       "      <td>auto</td>\n",
       "      <td>521</td>\n",
       "      <td>cayenne</td>\n",
       "      <td>150000</td>\n",
       "      <td>5</td>\n",
       "      <td>NaN</td>\n",
       "      <td>porsche</td>\n",
       "      <td>yes</td>\n",
       "      <td>2016</td>\n",
       "      <td>0</td>\n",
       "      <td>17235</td>\n",
       "      <td>2016-03-11 13:15:27</td>\n",
       "      <td>6</td>\n",
       "    </tr>\n",
       "    <tr>\n",
       "      <td>96747</td>\n",
       "      <td>2016-03-08 15:57:41</td>\n",
       "      <td>13500</td>\n",
       "      <td>NaN</td>\n",
       "      <td>2006</td>\n",
       "      <td>auto</td>\n",
       "      <td>521</td>\n",
       "      <td>cayenne</td>\n",
       "      <td>150000</td>\n",
       "      <td>6</td>\n",
       "      <td>petrol</td>\n",
       "      <td>porsche</td>\n",
       "      <td>yes</td>\n",
       "      <td>2016</td>\n",
       "      <td>0</td>\n",
       "      <td>17235</td>\n",
       "      <td>2016-03-11 11:16:18</td>\n",
       "      <td>4</td>\n",
       "    </tr>\n",
       "    <tr>\n",
       "      <td>173074</td>\n",
       "      <td>2016-03-07 14:53:33</td>\n",
       "      <td>11900</td>\n",
       "      <td>suv</td>\n",
       "      <td>2006</td>\n",
       "      <td>auto</td>\n",
       "      <td>521</td>\n",
       "      <td>cayenne</td>\n",
       "      <td>125000</td>\n",
       "      <td>8</td>\n",
       "      <td>petrol</td>\n",
       "      <td>porsche</td>\n",
       "      <td>yes</td>\n",
       "      <td>2016</td>\n",
       "      <td>0</td>\n",
       "      <td>70567</td>\n",
       "      <td>2016-03-15 23:17:56</td>\n",
       "      <td>9</td>\n",
       "    </tr>\n",
       "    <tr>\n",
       "      <td>344689</td>\n",
       "      <td>2016-03-19 18:54:09</td>\n",
       "      <td>14900</td>\n",
       "      <td>suv</td>\n",
       "      <td>2006</td>\n",
       "      <td>auto</td>\n",
       "      <td>521</td>\n",
       "      <td>cayenne</td>\n",
       "      <td>150000</td>\n",
       "      <td>6</td>\n",
       "      <td>petrol</td>\n",
       "      <td>porsche</td>\n",
       "      <td>no</td>\n",
       "      <td>2016</td>\n",
       "      <td>0</td>\n",
       "      <td>67487</td>\n",
       "      <td>2016-04-07 06:16:42</td>\n",
       "      <td>20</td>\n",
       "    </tr>\n",
       "  </tbody>\n",
       "</table>\n",
       "</div>"
      ],
      "text/plain": [
       "                DateCrawled  Price VehicleType  RegistrationYear Gearbox  \\\n",
       "20145   2016-03-21 10:37:15  18500         suv              2006    auto   \n",
       "82421   2016-03-07 00:51:56  13500         suv              2006    auto   \n",
       "96747   2016-03-08 15:57:41  13500         NaN              2006    auto   \n",
       "173074  2016-03-07 14:53:33  11900         suv              2006    auto   \n",
       "344689  2016-03-19 18:54:09  14900         suv              2006    auto   \n",
       "\n",
       "        Power    Model  Kilometer  RegistrationMonth FuelType    Brand  \\\n",
       "20145     521  cayenne     150000                  5   petrol  porsche   \n",
       "82421     521  cayenne     150000                  5      NaN  porsche   \n",
       "96747     521  cayenne     150000                  6   petrol  porsche   \n",
       "173074    521  cayenne     125000                  8   petrol  porsche   \n",
       "344689    521  cayenne     150000                  6   petrol  porsche   \n",
       "\n",
       "       NotRepaired  DateCreated  NumberOfPictures  PostalCode  \\\n",
       "20145           no         2016                 0       24939   \n",
       "82421          yes         2016                 0       17235   \n",
       "96747          yes         2016                 0       17235   \n",
       "173074         yes         2016                 0       70567   \n",
       "344689          no         2016                 0       67487   \n",
       "\n",
       "                  LastSeen  SaleDuration  \n",
       "20145  2016-04-06 03:16:48            17  \n",
       "82421  2016-03-11 13:15:27             6  \n",
       "96747  2016-03-11 11:16:18             4  \n",
       "173074 2016-03-15 23:17:56             9  \n",
       "344689 2016-04-07 06:16:42            20  "
      ]
     },
     "metadata": {},
     "output_type": "display_data"
    }
   ],
   "source": [
    "display(df.loc[(df['Power'] > 500) & (df['Brand'] == 'porsche')])"
   ]
  },
  {
   "cell_type": "markdown",
   "metadata": {},
   "source": [
    " Проведу сортировку по цене. Ориентир - самый дешевый Порш."
   ]
  },
  {
   "cell_type": "code",
   "execution_count": 33,
   "metadata": {},
   "outputs": [
    {
     "data": {
      "text/html": [
       "<div>\n",
       "<style scoped>\n",
       "    .dataframe tbody tr th:only-of-type {\n",
       "        vertical-align: middle;\n",
       "    }\n",
       "\n",
       "    .dataframe tbody tr th {\n",
       "        vertical-align: top;\n",
       "    }\n",
       "\n",
       "    .dataframe thead th {\n",
       "        text-align: right;\n",
       "    }\n",
       "</style>\n",
       "<table border=\"1\" class=\"dataframe\">\n",
       "  <thead>\n",
       "    <tr style=\"text-align: right;\">\n",
       "      <th></th>\n",
       "      <th>DateCrawled</th>\n",
       "      <th>Price</th>\n",
       "      <th>VehicleType</th>\n",
       "      <th>RegistrationYear</th>\n",
       "      <th>Gearbox</th>\n",
       "      <th>Power</th>\n",
       "      <th>Model</th>\n",
       "      <th>Kilometer</th>\n",
       "      <th>RegistrationMonth</th>\n",
       "      <th>FuelType</th>\n",
       "      <th>Brand</th>\n",
       "      <th>NotRepaired</th>\n",
       "      <th>DateCreated</th>\n",
       "      <th>NumberOfPictures</th>\n",
       "      <th>PostalCode</th>\n",
       "      <th>LastSeen</th>\n",
       "      <th>SaleDuration</th>\n",
       "    </tr>\n",
       "  </thead>\n",
       "  <tbody>\n",
       "    <tr>\n",
       "      <td>13373</td>\n",
       "      <td>2016-03-31 12:38:14</td>\n",
       "      <td>18500</td>\n",
       "      <td>small</td>\n",
       "      <td>2002</td>\n",
       "      <td>auto</td>\n",
       "      <td>600</td>\n",
       "      <td>s_type</td>\n",
       "      <td>150000</td>\n",
       "      <td>12</td>\n",
       "      <td>NaN</td>\n",
       "      <td>jaguar</td>\n",
       "      <td>no</td>\n",
       "      <td>2016</td>\n",
       "      <td>0</td>\n",
       "      <td>13595</td>\n",
       "      <td>2016-04-06 04:46:34</td>\n",
       "      <td>7</td>\n",
       "    </tr>\n",
       "    <tr>\n",
       "      <td>17510</td>\n",
       "      <td>2016-03-23 18:59:00</td>\n",
       "      <td>15500</td>\n",
       "      <td>coupe</td>\n",
       "      <td>2009</td>\n",
       "      <td>auto</td>\n",
       "      <td>507</td>\n",
       "      <td>m_reihe</td>\n",
       "      <td>150000</td>\n",
       "      <td>1</td>\n",
       "      <td>petrol</td>\n",
       "      <td>bmw</td>\n",
       "      <td>yes</td>\n",
       "      <td>2016</td>\n",
       "      <td>0</td>\n",
       "      <td>74254</td>\n",
       "      <td>2016-03-31 07:44:43</td>\n",
       "      <td>9</td>\n",
       "    </tr>\n",
       "    <tr>\n",
       "      <td>20145</td>\n",
       "      <td>2016-03-21 10:37:15</td>\n",
       "      <td>18500</td>\n",
       "      <td>suv</td>\n",
       "      <td>2006</td>\n",
       "      <td>auto</td>\n",
       "      <td>521</td>\n",
       "      <td>cayenne</td>\n",
       "      <td>150000</td>\n",
       "      <td>5</td>\n",
       "      <td>petrol</td>\n",
       "      <td>porsche</td>\n",
       "      <td>no</td>\n",
       "      <td>2016</td>\n",
       "      <td>0</td>\n",
       "      <td>24939</td>\n",
       "      <td>2016-04-06 03:16:48</td>\n",
       "      <td>17</td>\n",
       "    </tr>\n",
       "    <tr>\n",
       "      <td>23188</td>\n",
       "      <td>2016-03-15 21:36:24</td>\n",
       "      <td>11999</td>\n",
       "      <td>wagon</td>\n",
       "      <td>2002</td>\n",
       "      <td>auto</td>\n",
       "      <td>504</td>\n",
       "      <td>other</td>\n",
       "      <td>150000</td>\n",
       "      <td>12</td>\n",
       "      <td>petrol</td>\n",
       "      <td>audi</td>\n",
       "      <td>no</td>\n",
       "      <td>2016</td>\n",
       "      <td>0</td>\n",
       "      <td>54294</td>\n",
       "      <td>2016-04-07 07:17:28</td>\n",
       "      <td>24</td>\n",
       "    </tr>\n",
       "    <tr>\n",
       "      <td>25684</td>\n",
       "      <td>2016-03-05 18:58:19</td>\n",
       "      <td>20000</td>\n",
       "      <td>sedan</td>\n",
       "      <td>2006</td>\n",
       "      <td>auto</td>\n",
       "      <td>507</td>\n",
       "      <td>m_reihe</td>\n",
       "      <td>150000</td>\n",
       "      <td>6</td>\n",
       "      <td>petrol</td>\n",
       "      <td>bmw</td>\n",
       "      <td>no</td>\n",
       "      <td>2016</td>\n",
       "      <td>0</td>\n",
       "      <td>94032</td>\n",
       "      <td>2016-03-30 21:47:45</td>\n",
       "      <td>26</td>\n",
       "    </tr>\n",
       "    <tr>\n",
       "      <td>...</td>\n",
       "      <td>...</td>\n",
       "      <td>...</td>\n",
       "      <td>...</td>\n",
       "      <td>...</td>\n",
       "      <td>...</td>\n",
       "      <td>...</td>\n",
       "      <td>...</td>\n",
       "      <td>...</td>\n",
       "      <td>...</td>\n",
       "      <td>...</td>\n",
       "      <td>...</td>\n",
       "      <td>...</td>\n",
       "      <td>...</td>\n",
       "      <td>...</td>\n",
       "      <td>...</td>\n",
       "      <td>...</td>\n",
       "      <td>...</td>\n",
       "    </tr>\n",
       "    <tr>\n",
       "      <td>320566</td>\n",
       "      <td>2016-03-22 10:52:36</td>\n",
       "      <td>14750</td>\n",
       "      <td>wagon</td>\n",
       "      <td>2008</td>\n",
       "      <td>auto</td>\n",
       "      <td>579</td>\n",
       "      <td>other</td>\n",
       "      <td>150000</td>\n",
       "      <td>9</td>\n",
       "      <td>petrol</td>\n",
       "      <td>audi</td>\n",
       "      <td>yes</td>\n",
       "      <td>2016</td>\n",
       "      <td>0</td>\n",
       "      <td>55608</td>\n",
       "      <td>2016-03-22 11:42:09</td>\n",
       "      <td>1</td>\n",
       "    </tr>\n",
       "    <tr>\n",
       "      <td>327247</td>\n",
       "      <td>2016-03-30 19:58:09</td>\n",
       "      <td>12000</td>\n",
       "      <td>wagon</td>\n",
       "      <td>2008</td>\n",
       "      <td>manual</td>\n",
       "      <td>1700</td>\n",
       "      <td>c_klasse</td>\n",
       "      <td>150000</td>\n",
       "      <td>8</td>\n",
       "      <td>gasoline</td>\n",
       "      <td>mercedes_benz</td>\n",
       "      <td>no</td>\n",
       "      <td>2016</td>\n",
       "      <td>0</td>\n",
       "      <td>81241</td>\n",
       "      <td>2016-04-07 11:45:58</td>\n",
       "      <td>9</td>\n",
       "    </tr>\n",
       "    <tr>\n",
       "      <td>328276</td>\n",
       "      <td>2016-03-25 19:50:23</td>\n",
       "      <td>16500</td>\n",
       "      <td>sedan</td>\n",
       "      <td>2005</td>\n",
       "      <td>auto</td>\n",
       "      <td>507</td>\n",
       "      <td>m_reihe</td>\n",
       "      <td>150000</td>\n",
       "      <td>4</td>\n",
       "      <td>petrol</td>\n",
       "      <td>bmw</td>\n",
       "      <td>no</td>\n",
       "      <td>2016</td>\n",
       "      <td>0</td>\n",
       "      <td>92421</td>\n",
       "      <td>2016-03-28 19:47:12</td>\n",
       "      <td>4</td>\n",
       "    </tr>\n",
       "    <tr>\n",
       "      <td>344689</td>\n",
       "      <td>2016-03-19 18:54:09</td>\n",
       "      <td>14900</td>\n",
       "      <td>suv</td>\n",
       "      <td>2006</td>\n",
       "      <td>auto</td>\n",
       "      <td>521</td>\n",
       "      <td>cayenne</td>\n",
       "      <td>150000</td>\n",
       "      <td>6</td>\n",
       "      <td>petrol</td>\n",
       "      <td>porsche</td>\n",
       "      <td>no</td>\n",
       "      <td>2016</td>\n",
       "      <td>0</td>\n",
       "      <td>67487</td>\n",
       "      <td>2016-04-07 06:16:42</td>\n",
       "      <td>20</td>\n",
       "    </tr>\n",
       "    <tr>\n",
       "      <td>346165</td>\n",
       "      <td>2016-03-25 17:53:40</td>\n",
       "      <td>20000</td>\n",
       "      <td>NaN</td>\n",
       "      <td>2016</td>\n",
       "      <td>auto</td>\n",
       "      <td>507</td>\n",
       "      <td>m_reihe</td>\n",
       "      <td>150000</td>\n",
       "      <td>6</td>\n",
       "      <td>NaN</td>\n",
       "      <td>bmw</td>\n",
       "      <td>NaN</td>\n",
       "      <td>2016</td>\n",
       "      <td>0</td>\n",
       "      <td>94032</td>\n",
       "      <td>2016-04-02 22:52:36</td>\n",
       "      <td>9</td>\n",
       "    </tr>\n",
       "  </tbody>\n",
       "</table>\n",
       "<p>61 rows × 17 columns</p>\n",
       "</div>"
      ],
      "text/plain": [
       "                DateCrawled  Price VehicleType  RegistrationYear Gearbox  \\\n",
       "13373   2016-03-31 12:38:14  18500       small              2002    auto   \n",
       "17510   2016-03-23 18:59:00  15500       coupe              2009    auto   \n",
       "20145   2016-03-21 10:37:15  18500         suv              2006    auto   \n",
       "23188   2016-03-15 21:36:24  11999       wagon              2002    auto   \n",
       "25684   2016-03-05 18:58:19  20000       sedan              2006    auto   \n",
       "...                     ...    ...         ...               ...     ...   \n",
       "320566  2016-03-22 10:52:36  14750       wagon              2008    auto   \n",
       "327247  2016-03-30 19:58:09  12000       wagon              2008  manual   \n",
       "328276  2016-03-25 19:50:23  16500       sedan              2005    auto   \n",
       "344689  2016-03-19 18:54:09  14900         suv              2006    auto   \n",
       "346165  2016-03-25 17:53:40  20000         NaN              2016    auto   \n",
       "\n",
       "        Power     Model  Kilometer  RegistrationMonth  FuelType  \\\n",
       "13373     600    s_type     150000                 12       NaN   \n",
       "17510     507   m_reihe     150000                  1    petrol   \n",
       "20145     521   cayenne     150000                  5    petrol   \n",
       "23188     504     other     150000                 12    petrol   \n",
       "25684     507   m_reihe     150000                  6    petrol   \n",
       "...       ...       ...        ...                ...       ...   \n",
       "320566    579     other     150000                  9    petrol   \n",
       "327247   1700  c_klasse     150000                  8  gasoline   \n",
       "328276    507   m_reihe     150000                  4    petrol   \n",
       "344689    521   cayenne     150000                  6    petrol   \n",
       "346165    507   m_reihe     150000                  6       NaN   \n",
       "\n",
       "                Brand NotRepaired  DateCreated  NumberOfPictures  PostalCode  \\\n",
       "13373          jaguar          no         2016                 0       13595   \n",
       "17510             bmw         yes         2016                 0       74254   \n",
       "20145         porsche          no         2016                 0       24939   \n",
       "23188            audi          no         2016                 0       54294   \n",
       "25684             bmw          no         2016                 0       94032   \n",
       "...               ...         ...          ...               ...         ...   \n",
       "320566           audi         yes         2016                 0       55608   \n",
       "327247  mercedes_benz          no         2016                 0       81241   \n",
       "328276            bmw          no         2016                 0       92421   \n",
       "344689        porsche          no         2016                 0       67487   \n",
       "346165            bmw         NaN         2016                 0       94032   \n",
       "\n",
       "                  LastSeen  SaleDuration  \n",
       "13373  2016-04-06 04:46:34             7  \n",
       "17510  2016-03-31 07:44:43             9  \n",
       "20145  2016-04-06 03:16:48            17  \n",
       "23188  2016-04-07 07:17:28            24  \n",
       "25684  2016-03-30 21:47:45            26  \n",
       "...                    ...           ...  \n",
       "320566 2016-03-22 11:42:09             1  \n",
       "327247 2016-04-07 11:45:58             9  \n",
       "328276 2016-03-28 19:47:12             4  \n",
       "344689 2016-04-07 06:16:42            20  \n",
       "346165 2016-04-02 22:52:36             9  \n",
       "\n",
       "[61 rows x 17 columns]"
      ]
     },
     "execution_count": 33,
     "metadata": {},
     "output_type": "execute_result"
    }
   ],
   "source": [
    "df.loc[(df['Power'] > 500) & (df['Price'] > 11900)]"
   ]
  },
  {
   "cell_type": "markdown",
   "metadata": {},
   "source": [
    "Предположу, что вероятность встретить автомобиль с реальной мощностью менее 20 л.с. или более 800 л.с. крайне мала."
   ]
  },
  {
   "cell_type": "code",
   "execution_count": 34,
   "metadata": {},
   "outputs": [],
   "source": [
    "power_median = df.loc[(df['Power'] > 20) | (df['Power'] < 800)]['Power'].median()"
   ]
  },
  {
   "cell_type": "code",
   "execution_count": 35,
   "metadata": {},
   "outputs": [
    {
     "data": {
      "text/plain": [
       "106.0"
      ]
     },
     "execution_count": 35,
     "metadata": {},
     "output_type": "execute_result"
    }
   ],
   "source": [
    "power_median"
   ]
  },
  {
   "cell_type": "markdown",
   "metadata": {},
   "source": [
    "Заменю сомнительные значения на медианные."
   ]
  },
  {
   "cell_type": "code",
   "execution_count": 36,
   "metadata": {},
   "outputs": [],
   "source": [
    "df.loc[(df['Power'] < 20) | (df['Power'] >= 800) | ((df['Power'] > 500) & (df['Price'] < 11900)), ['Power']] = power_median"
   ]
  },
  {
   "cell_type": "code",
   "execution_count": 37,
   "metadata": {},
   "outputs": [
    {
     "data": {
      "text/plain": [
       "count    315033.000000\n",
       "mean        120.616580\n",
       "std          51.432874\n",
       "min          20.000000\n",
       "25%          86.000000\n",
       "50%         106.000000\n",
       "75%         143.000000\n",
       "max         751.000000\n",
       "Name: Power, dtype: float64"
      ]
     },
     "execution_count": 37,
     "metadata": {},
     "output_type": "execute_result"
    }
   ],
   "source": [
    "df.Power.describe()"
   ]
  },
  {
   "cell_type": "markdown",
   "metadata": {},
   "source": [
    "### Борьба с пропусками"
   ]
  },
  {
   "cell_type": "markdown",
   "metadata": {},
   "source": [
    "Пропуски в данных имеются в столбцах с категориальными значениями. Удалять ничего не буду, введу категорию \"other\". К тому же, пропусков не так много, максимум в информации о ремонте - чуть более 15%.\n",
    "\n",
    "Разберу по частям."
   ]
  },
  {
   "cell_type": "code",
   "execution_count": 38,
   "metadata": {},
   "outputs": [
    {
     "data": {
      "text/plain": [
       "sedan          87238\n",
       "small          72183\n",
       "wagon          62156\n",
       "bus            28073\n",
       "convertible    19702\n",
       "coupe          15178\n",
       "suv            11736\n",
       "other           2895\n",
       "Name: VehicleType, dtype: int64"
      ]
     },
     "execution_count": 38,
     "metadata": {},
     "output_type": "execute_result"
    }
   ],
   "source": [
    "df.VehicleType.value_counts()"
   ]
  },
  {
   "cell_type": "markdown",
   "metadata": {},
   "source": [
    "\"Other\" уже есть."
   ]
  },
  {
   "cell_type": "code",
   "execution_count": 39,
   "metadata": {},
   "outputs": [],
   "source": [
    "df['VehicleType'] = df.VehicleType.fillna('other')"
   ]
  },
  {
   "cell_type": "code",
   "execution_count": 40,
   "metadata": {},
   "outputs": [
    {
     "data": {
      "text/plain": [
       "0"
      ]
     },
     "execution_count": 40,
     "metadata": {},
     "output_type": "execute_result"
    }
   ],
   "source": [
    "df.VehicleType.isna().sum()"
   ]
  },
  {
   "cell_type": "code",
   "execution_count": 41,
   "metadata": {},
   "outputs": [
    {
     "data": {
      "text/plain": [
       "manual    240038\n",
       "auto       62216\n",
       "Name: Gearbox, dtype: int64"
      ]
     },
     "execution_count": 41,
     "metadata": {},
     "output_type": "execute_result"
    }
   ],
   "source": [
    "df.Gearbox.value_counts()"
   ]
  },
  {
   "cell_type": "code",
   "execution_count": 42,
   "metadata": {},
   "outputs": [],
   "source": [
    "df['Gearbox'] = df.Gearbox.fillna('other')"
   ]
  },
  {
   "cell_type": "code",
   "execution_count": 43,
   "metadata": {},
   "outputs": [
    {
     "data": {
      "text/plain": [
       "0"
      ]
     },
     "execution_count": 43,
     "metadata": {},
     "output_type": "execute_result"
    }
   ],
   "source": [
    "df.Gearbox.isna().sum()"
   ]
  },
  {
   "cell_type": "code",
   "execution_count": 44,
   "metadata": {},
   "outputs": [
    {
     "data": {
      "text/plain": [
       "251"
      ]
     },
     "execution_count": 44,
     "metadata": {},
     "output_type": "execute_result"
    }
   ],
   "source": [
    "len(df.Model.unique())"
   ]
  },
  {
   "cell_type": "code",
   "execution_count": 45,
   "metadata": {},
   "outputs": [
    {
     "data": {
      "text/plain": [
       "golf     25601\n",
       "other    22161\n",
       "3er      18294\n",
       "polo     10814\n",
       "corsa    10161\n",
       "Name: Model, dtype: int64"
      ]
     },
     "execution_count": 45,
     "metadata": {},
     "output_type": "execute_result"
    }
   ],
   "source": [
    "df.Model.value_counts().head()"
   ]
  },
  {
   "cell_type": "markdown",
   "metadata": {},
   "source": [
    "\"Other\" тоже уже есть. В данной категории 251 уникальное значение, если 13 тыс. пропущенных значений заменить на other, то это будет самая большая группа, заменяю на \"another\"."
   ]
  },
  {
   "cell_type": "code",
   "execution_count": 46,
   "metadata": {},
   "outputs": [],
   "source": [
    "df['Model'] = df.Model.fillna('another')"
   ]
  },
  {
   "cell_type": "code",
   "execution_count": 47,
   "metadata": {},
   "outputs": [
    {
     "data": {
      "text/plain": [
       "0"
      ]
     },
     "execution_count": 47,
     "metadata": {},
     "output_type": "execute_result"
    }
   ],
   "source": [
    "df.Model.isna().sum()"
   ]
  },
  {
   "cell_type": "code",
   "execution_count": 48,
   "metadata": {},
   "outputs": [
    {
     "data": {
      "text/plain": [
       "petrol      194675\n",
       "gasoline     94264\n",
       "lpg           4952\n",
       "cng            519\n",
       "hybrid         218\n",
       "other          130\n",
       "electric        83\n",
       "Name: FuelType, dtype: int64"
      ]
     },
     "execution_count": 48,
     "metadata": {},
     "output_type": "execute_result"
    }
   ],
   "source": [
    "df.FuelType.value_counts()"
   ]
  },
  {
   "cell_type": "markdown",
   "metadata": {},
   "source": [
    "20 тыс. пропусков при таком раскладе хочется удалить, но для начала попробую заменить на other."
   ]
  },
  {
   "cell_type": "code",
   "execution_count": 49,
   "metadata": {},
   "outputs": [],
   "source": [
    "df['FuelType'] = df.FuelType.fillna('other')"
   ]
  },
  {
   "cell_type": "code",
   "execution_count": 50,
   "metadata": {},
   "outputs": [
    {
     "data": {
      "text/plain": [
       "petrol      194675\n",
       "gasoline     94264\n",
       "other        20322\n",
       "lpg           4952\n",
       "cng            519\n",
       "hybrid         218\n",
       "electric        83\n",
       "Name: FuelType, dtype: int64"
      ]
     },
     "execution_count": 50,
     "metadata": {},
     "output_type": "execute_result"
    }
   ],
   "source": [
    "df.FuelType.value_counts()"
   ]
  },
  {
   "cell_type": "markdown",
   "metadata": {},
   "source": [
    "Осталось разобраться с ремонтом."
   ]
  },
  {
   "cell_type": "code",
   "execution_count": 51,
   "metadata": {},
   "outputs": [
    {
     "data": {
      "text/plain": [
       "1999    2518\n",
       "2000    2452\n",
       "2001    2176\n",
       "1998    1974\n",
       "2003    1870\n",
       "2002    1861\n",
       "2005    1721\n",
       "2004    1597\n",
       "1997    1577\n",
       "2006    1406\n",
       "2007    1083\n",
       "1996    1044\n",
       "1995     870\n",
       "2016     842\n",
       "2008     803\n",
       "Name: RegistrationYear, dtype: int64"
      ]
     },
     "execution_count": 51,
     "metadata": {},
     "output_type": "execute_result"
    }
   ],
   "source": [
    "repaired_cars = df.loc[df['NotRepaired'] == 'yes', ['RegistrationYear']]\n",
    "repaired_cars['RegistrationYear'].value_counts().head(15)"
   ]
  },
  {
   "cell_type": "code",
   "execution_count": 52,
   "metadata": {},
   "outputs": [
    {
     "data": {
      "image/png": "[encoded data removed]",
      "text/plain": [
       "<Figure size 432x288 with 1 Axes>"
      ]
     },
     "metadata": {
      "needs_background": "light"
     },
     "output_type": "display_data"
    }
   ],
   "source": [
    "repaired_cars['RegistrationYear'].hist(bins=100);"
   ]
  },
  {
   "cell_type": "markdown",
   "metadata": {},
   "source": [
    "Логично, что чем старше автомобиль, тем вероятность необходимости ремонта выше, однако в 2016 г. имеется скачок ремонтированных авто (возможно был ураган)."
   ]
  },
  {
   "cell_type": "code",
   "execution_count": 53,
   "metadata": {},
   "outputs": [
    {
     "data": {
      "text/plain": [
       "no     233782\n",
       "yes     28239\n",
       "Name: NotRepaired, dtype: int64"
      ]
     },
     "execution_count": 53,
     "metadata": {},
     "output_type": "execute_result"
    }
   ],
   "source": [
    "df.NotRepaired.value_counts()"
   ]
  },
  {
   "cell_type": "markdown",
   "metadata": {},
   "source": [
    "Менее 10% указывают на то, что был ремонт. Сомнительно. Очень.\n",
    "\n",
    "Заменяю пропуски на other. Будет \"сомнительная\" категория."
   ]
  },
  {
   "cell_type": "code",
   "execution_count": 54,
   "metadata": {},
   "outputs": [],
   "source": [
    "df['NotRepaired'] = df.NotRepaired.fillna('other')"
   ]
  },
  {
   "cell_type": "code",
   "execution_count": 55,
   "metadata": {},
   "outputs": [
    {
     "data": {
      "text/plain": [
       "DateCrawled          0\n",
       "Price                0\n",
       "VehicleType          0\n",
       "RegistrationYear     0\n",
       "Gearbox              0\n",
       "Power                0\n",
       "Model                0\n",
       "Kilometer            0\n",
       "RegistrationMonth    0\n",
       "FuelType             0\n",
       "Brand                0\n",
       "NotRepaired          0\n",
       "DateCreated          0\n",
       "NumberOfPictures     0\n",
       "PostalCode           0\n",
       "LastSeen             0\n",
       "SaleDuration         0\n",
       "dtype: int64"
      ]
     },
     "execution_count": 55,
     "metadata": {},
     "output_type": "execute_result"
    }
   ],
   "source": [
    "df.isna().sum()"
   ]
  },
  {
   "cell_type": "markdown",
   "metadata": {},
   "source": [
    "Пропусков больше нет."
   ]
  },
  {
   "cell_type": "markdown",
   "metadata": {},
   "source": [
    "### Разделение данных"
   ]
  },
  {
   "cell_type": "code",
   "execution_count": 56,
   "metadata": {},
   "outputs": [
    {
     "data": {
      "text/plain": [
       "0    315033\n",
       "Name: NumberOfPictures, dtype: int64"
      ]
     },
     "execution_count": 56,
     "metadata": {},
     "output_type": "execute_result"
    }
   ],
   "source": [
    "df.NumberOfPictures.value_counts()"
   ]
  },
  {
   "cell_type": "markdown",
   "metadata": {},
   "source": [
    "Ни в одном объявлении нет фотографий."
   ]
  },
  {
   "cell_type": "markdown",
   "metadata": {},
   "source": [
    "Разделю датасет."
   ]
  },
  {
   "cell_type": "code",
   "execution_count": 57,
   "metadata": {},
   "outputs": [
    {
     "data": {
      "text/plain": [
       "((315033, 12), (315033,))"
      ]
     },
     "execution_count": 57,
     "metadata": {},
     "output_type": "execute_result"
    }
   ],
   "source": [
    "X = df.drop(['Price', 'DateCrawled', 'RegistrationMonth', 'NumberOfPictures', 'LastSeen'], axis=1)\n",
    "y = df['Price']\n",
    "X.shape, y.shape"
   ]
  },
  {
   "cell_type": "markdown",
   "metadata": {},
   "source": [
    "### Преобразование категориальных переменных"
   ]
  },
  {
   "cell_type": "code",
   "execution_count": 58,
   "metadata": {
    "scrolled": true
   },
   "outputs": [
    {
     "data": {
      "text/html": [
       "<div>\n",
       "<style scoped>\n",
       "    .dataframe tbody tr th:only-of-type {\n",
       "        vertical-align: middle;\n",
       "    }\n",
       "\n",
       "    .dataframe tbody tr th {\n",
       "        vertical-align: top;\n",
       "    }\n",
       "\n",
       "    .dataframe thead th {\n",
       "        text-align: right;\n",
       "    }\n",
       "</style>\n",
       "<table border=\"1\" class=\"dataframe\">\n",
       "  <thead>\n",
       "    <tr style=\"text-align: right;\">\n",
       "      <th></th>\n",
       "      <th>VehicleType</th>\n",
       "      <th>RegistrationYear</th>\n",
       "      <th>Gearbox</th>\n",
       "      <th>Power</th>\n",
       "      <th>Model</th>\n",
       "      <th>Kilometer</th>\n",
       "      <th>FuelType</th>\n",
       "      <th>Brand</th>\n",
       "      <th>NotRepaired</th>\n",
       "      <th>DateCreated</th>\n",
       "      <th>PostalCode</th>\n",
       "      <th>SaleDuration</th>\n",
       "    </tr>\n",
       "  </thead>\n",
       "  <tbody>\n",
       "    <tr>\n",
       "      <td>0</td>\n",
       "      <td>3.0</td>\n",
       "      <td>1993</td>\n",
       "      <td>1.0</td>\n",
       "      <td>106.0</td>\n",
       "      <td>117.0</td>\n",
       "      <td>150000</td>\n",
       "      <td>6.0</td>\n",
       "      <td>38.0</td>\n",
       "      <td>1.0</td>\n",
       "      <td>2016</td>\n",
       "      <td>70435</td>\n",
       "      <td>15</td>\n",
       "    </tr>\n",
       "    <tr>\n",
       "      <td>1</td>\n",
       "      <td>2.0</td>\n",
       "      <td>2011</td>\n",
       "      <td>1.0</td>\n",
       "      <td>190.0</td>\n",
       "      <td>40.0</td>\n",
       "      <td>125000</td>\n",
       "      <td>2.0</td>\n",
       "      <td>1.0</td>\n",
       "      <td>2.0</td>\n",
       "      <td>2016</td>\n",
       "      <td>66954</td>\n",
       "      <td>15</td>\n",
       "    </tr>\n",
       "    <tr>\n",
       "      <td>2</td>\n",
       "      <td>6.0</td>\n",
       "      <td>2004</td>\n",
       "      <td>0.0</td>\n",
       "      <td>163.0</td>\n",
       "      <td>118.0</td>\n",
       "      <td>125000</td>\n",
       "      <td>2.0</td>\n",
       "      <td>14.0</td>\n",
       "      <td>1.0</td>\n",
       "      <td>2016</td>\n",
       "      <td>90480</td>\n",
       "      <td>23</td>\n",
       "    </tr>\n",
       "    <tr>\n",
       "      <td>3</td>\n",
       "      <td>5.0</td>\n",
       "      <td>2001</td>\n",
       "      <td>1.0</td>\n",
       "      <td>75.0</td>\n",
       "      <td>117.0</td>\n",
       "      <td>150000</td>\n",
       "      <td>6.0</td>\n",
       "      <td>38.0</td>\n",
       "      <td>0.0</td>\n",
       "      <td>2016</td>\n",
       "      <td>91074</td>\n",
       "      <td>1</td>\n",
       "    </tr>\n",
       "    <tr>\n",
       "      <td>4</td>\n",
       "      <td>5.0</td>\n",
       "      <td>2008</td>\n",
       "      <td>1.0</td>\n",
       "      <td>69.0</td>\n",
       "      <td>102.0</td>\n",
       "      <td>90000</td>\n",
       "      <td>2.0</td>\n",
       "      <td>31.0</td>\n",
       "      <td>0.0</td>\n",
       "      <td>2016</td>\n",
       "      <td>60437</td>\n",
       "      <td>7</td>\n",
       "    </tr>\n",
       "  </tbody>\n",
       "</table>\n",
       "</div>"
      ],
      "text/plain": [
       "   VehicleType  RegistrationYear  Gearbox  Power  Model  Kilometer  FuelType  \\\n",
       "0          3.0              1993      1.0  106.0  117.0     150000       6.0   \n",
       "1          2.0              2011      1.0  190.0   40.0     125000       2.0   \n",
       "2          6.0              2004      0.0  163.0  118.0     125000       2.0   \n",
       "3          5.0              2001      1.0   75.0  117.0     150000       6.0   \n",
       "4          5.0              2008      1.0   69.0  102.0      90000       2.0   \n",
       "\n",
       "   Brand  NotRepaired  DateCreated  PostalCode  SaleDuration  \n",
       "0   38.0          1.0         2016       70435            15  \n",
       "1    1.0          2.0         2016       66954            15  \n",
       "2   14.0          1.0         2016       90480            23  \n",
       "3   38.0          0.0         2016       91074             1  \n",
       "4   31.0          0.0         2016       60437             7  "
      ]
     },
     "execution_count": 58,
     "metadata": {},
     "output_type": "execute_result"
    }
   ],
   "source": [
    "encoded = ['VehicleType', 'Gearbox', 'Model', 'FuelType', 'Brand', 'NotRepaired']\n",
    "enc = OrdinalEncoder()\n",
    "X[encoded] = enc.fit_transform(X[encoded])\n",
    "X.head()"
   ]
  },
  {
   "cell_type": "markdown",
   "metadata": {},
   "source": [
    "### Сплит"
   ]
  },
  {
   "cell_type": "code",
   "execution_count": 59,
   "metadata": {},
   "outputs": [],
   "source": [
    "x_train, x_test, y_train, y_test = train_test_split(X, y, test_size = 0.25, random_state = 1024)"
   ]
  },
  {
   "cell_type": "code",
   "execution_count": 60,
   "metadata": {},
   "outputs": [
    {
     "data": {
      "text/plain": [
       "((236274, 12), (78759, 12), (236274,), (78759,))"
      ]
     },
     "execution_count": 60,
     "metadata": {},
     "output_type": "execute_result"
    }
   ],
   "source": [
    "x_train.shape, x_test.shape, y_train.shape, y_test.shape"
   ]
  },
  {
   "cell_type": "markdown",
   "metadata": {},
   "source": [
    "### Масштабирование"
   ]
  },
  {
   "cell_type": "code",
   "execution_count": 61,
   "metadata": {},
   "outputs": [],
   "source": [
    "scaler = StandardScaler()\n",
    "x_train = scaler.fit_transform(x_train)\n",
    "x_test = scaler.transform(x_test)"
   ]
  },
  {
   "cell_type": "markdown",
   "metadata": {},
   "source": [
    "## Обучение моделей"
   ]
  },
  {
   "cell_type": "markdown",
   "metadata": {},
   "source": [
    "Для того, чтобы было с чем сравнить, использую манекенную модель."
   ]
  },
  {
   "cell_type": "markdown",
   "metadata": {},
   "source": [
    "### DummyRegressor"
   ]
  },
  {
   "cell_type": "code",
   "execution_count": 62,
   "metadata": {},
   "outputs": [
    {
     "name": "stdout",
     "output_type": "stream",
     "text": [
      "CPU times: user 1.62 ms, sys: 196 µs, total: 1.82 ms\n",
      "Wall time: 1.08 ms\n"
     ]
    },
    {
     "data": {
      "text/plain": [
       "DummyRegressor(constant=None, quantile=None, strategy='mean')"
      ]
     },
     "execution_count": 62,
     "metadata": {},
     "output_type": "execute_result"
    }
   ],
   "source": [
    "%%time\n",
    "dummy = DummyRegressor()\n",
    "dummy.fit(x_train, y_train)"
   ]
  },
  {
   "cell_type": "code",
   "execution_count": 63,
   "metadata": {},
   "outputs": [
    {
     "name": "stdout",
     "output_type": "stream",
     "text": [
      "RMSE DummyRegressor: 4531.45\n",
      "CPU times: user 2 ms, sys: 0 ns, total: 2 ms\n",
      "Wall time: 1.61 ms\n"
     ]
    }
   ],
   "source": [
    "%%time\n",
    "dummy_predict = dummy.predict(x_test)\n",
    "dummy_rmse = np.sqrt(mean_squared_error(dummy_predict, y_test))\n",
    "print('RMSE DummyRegressor: {:.2f}'.format(dummy_rmse))"
   ]
  },
  {
   "cell_type": "markdown",
   "metadata": {},
   "source": [
    "RMSE 4531, обучение и предсказание за миллисекунды."
   ]
  },
  {
   "cell_type": "markdown",
   "metadata": {},
   "source": [
    "### LinearRegression"
   ]
  },
  {
   "cell_type": "code",
   "execution_count": 64,
   "metadata": {},
   "outputs": [
    {
     "name": "stdout",
     "output_type": "stream",
     "text": [
      "CPU times: user 92.7 ms, sys: 20.8 ms, total: 113 ms\n",
      "Wall time: 80.7 ms\n"
     ]
    }
   ],
   "source": [
    "%%time\n",
    "lr = LinearRegression().fit(x_train, y_train)"
   ]
  },
  {
   "cell_type": "code",
   "execution_count": 65,
   "metadata": {},
   "outputs": [
    {
     "data": {
      "text/plain": [
       "array([ -288.47261904,  1067.768064  ,  -215.96948102,  2038.80380544,\n",
       "          39.63510844, -1684.15679527,  -817.92215731,   121.15666944,\n",
       "        -648.49855872,    70.8596996 ,   136.98910059,   370.30748199])"
      ]
     },
     "execution_count": 65,
     "metadata": {},
     "output_type": "execute_result"
    }
   ],
   "source": [
    "lr.coef_"
   ]
  },
  {
   "cell_type": "code",
   "execution_count": 66,
   "metadata": {},
   "outputs": [
    {
     "name": "stdout",
     "output_type": "stream",
     "text": [
      "RMSE LinearRegression: 2963.14\n",
      "CPU times: user 16 ms, sys: 41 ms, total: 57 ms\n",
      "Wall time: 90.8 ms\n"
     ]
    }
   ],
   "source": [
    "%%time\n",
    "lr_predict = lr.predict(x_test)\n",
    "lr_rmse = np.sqrt(mean_squared_error(lr_predict, y_test))\n",
    "print('RMSE LinearRegression: {:.2f}'.format(lr_rmse))"
   ]
  },
  {
   "cell_type": "markdown",
   "metadata": {},
   "source": [
    "Скорость отличная, показатель RMSE несколько лучше, по сравнению с Dummy."
   ]
  },
  {
   "cell_type": "markdown",
   "metadata": {},
   "source": [
    "### CatBoostRegressor"
   ]
  },
  {
   "cell_type": "code",
   "execution_count": 75,
   "metadata": {},
   "outputs": [],
   "source": [
    "#%%time\n",
    "#train_dataset = cb.Pool(x_train, y_train)\n",
    "#cbr = cb.CatBoostRegressor(loss_function='RMSE', random_state = 1024)\n",
    "\n",
    "#grid = {\n",
    "#    'iterations': [100, 150, 200],\n",
    "#    'learning_rate': [0.003, 0.3, 0.1],\n",
    "#    'depth': [4, 6, 8, 10]\n",
    "#}\n",
    "#cbr.grid_search(grid, train_dataset)"
   ]
  },
  {
   "cell_type": "markdown",
   "metadata": {},
   "source": [
    "CPU times: user 18min 5s, sys: 1min 55s, total: 20min\n",
    "\n",
    "Wall time: 20min 13s"
   ]
  },
  {
   "cell_type": "code",
   "execution_count": 76,
   "metadata": {},
   "outputs": [],
   "source": [
    "#%%time\n",
    "#cbr_predict = cbr.predict(x_test)\n",
    "#cbr_rmse = np.sqrt(mean_squared_error(cbr_predict, y_test))\n",
    "#print('RMSE CatBoostRegressor: {:.2f}'.format(cbr_rmse))"
   ]
  },
  {
   "cell_type": "markdown",
   "metadata": {},
   "source": [
    "RMSE CatBoostRegressor: 1540.91\n",
    "\n",
    "CPU times: user 153 ms, sys: 7.32 ms, total: 160 ms\n",
    "\n",
    "Wall time: 114 ms"
   ]
  },
  {
   "cell_type": "markdown",
   "metadata": {},
   "source": [
    "Закомментировал здесь и ниже для удобства.\n",
    "\n",
    "В CatBoost встроен grid - очень удобно.\n",
    "\n",
    "Поиграв с параметрами (шаг, глубина и итерации), получил RMSE 1540.91 за 20 минут обучения и 0.114 с предсказания."
   ]
  },
  {
   "cell_type": "markdown",
   "metadata": {},
   "source": [
    "### Light GBM"
   ]
  },
  {
   "cell_type": "markdown",
   "metadata": {},
   "source": [
    "#### "
   ]
  },
  {
   "cell_type": "code",
   "execution_count": 69,
   "metadata": {},
   "outputs": [
    {
     "name": "stdout",
     "output_type": "stream",
     "text": [
      "CPU times: user 16.9 s, sys: 0 ns, total: 16.9 s\n",
      "Wall time: 17.1 s\n"
     ]
    }
   ],
   "source": [
    "%%time\n",
    "dataset = lgb.Dataset(x_train, label=y_train)\n",
    "params_1 = {\n",
    "    'random_state' : 1024,\n",
    "    'boosting_type' : 'gbdt',\n",
    "    'learning_rate' : 0.003,\n",
    "    'max_depth' : 10,\n",
    "    'num_leaves' : 20\n",
    "}\n",
    "gbm = lgb.train(params_1, dataset, 100)"
   ]
  },
  {
   "cell_type": "code",
   "execution_count": 70,
   "metadata": {},
   "outputs": [
    {
     "name": "stdout",
     "output_type": "stream",
     "text": [
      "RMSE Light GBM: 3749.26\n",
      "CPU times: user 471 ms, sys: 0 ns, total: 471 ms\n",
      "Wall time: 496 ms\n"
     ]
    }
   ],
   "source": [
    "%%time\n",
    "gbm_predict = gbm.predict(x_test)\n",
    "gbm_rmse = np.sqrt(mean_squared_error(gbm_predict, y_test))\n",
    "print('RMSE Light GBM: {:.2f}'.format(gbm_rmse))"
   ]
  },
  {
   "cell_type": "markdown",
   "metadata": {},
   "source": [
    "Не многим лучше манекена."
   ]
  },
  {
   "cell_type": "markdown",
   "metadata": {},
   "source": [
    "#### "
   ]
  },
  {
   "cell_type": "code",
   "execution_count": 71,
   "metadata": {},
   "outputs": [
    {
     "name": "stdout",
     "output_type": "stream",
     "text": [
      "CPU times: user 10.5 s, sys: 0 ns, total: 10.5 s\n",
      "Wall time: 10.7 s\n"
     ]
    }
   ],
   "source": [
    "%%time\n",
    "params_2 = {\n",
    "    'random_state' : 1024,\n",
    "    'boosting_type' : 'gbdt',\n",
    "    'learning_rate' : 0.1,\n",
    "    'max_depth' : 10,\n",
    "    'num_leaves' : 31\n",
    "}\n",
    "gbm_2 = lgb.train(params_2, dataset, 150)"
   ]
  },
  {
   "cell_type": "code",
   "execution_count": 72,
   "metadata": {},
   "outputs": [
    {
     "name": "stdout",
     "output_type": "stream",
     "text": [
      "RMSE Light GBM: 1641.83\n",
      "CPU times: user 1.39 s, sys: 0 ns, total: 1.39 s\n",
      "Wall time: 1.4 s\n"
     ]
    }
   ],
   "source": [
    "%%time\n",
    "gbm_predict_2 = gbm_2.predict(x_test)\n",
    "gbm_rmse_2 = np.sqrt(mean_squared_error(gbm_predict_2, y_test))\n",
    "print('RMSE Light GBM: {:.2f}'.format(gbm_rmse_2))"
   ]
  },
  {
   "cell_type": "markdown",
   "metadata": {},
   "source": [
    "Изменив шаг с 0,003 на 0,1 и количество листьев с 20 до 31 на глубине 10 получил RMSE 1641.83 за 12 секунд."
   ]
  },
  {
   "cell_type": "markdown",
   "metadata": {},
   "source": [
    "## Анализ моделей"
   ]
  },
  {
   "cell_type": "code",
   "execution_count": 77,
   "metadata": {},
   "outputs": [],
   "source": [
    "d = {\n",
    "    'DummyRegressor': [dummy_rmse, 0.01, 2.34],\n",
    "    'LinearRegression' : [lr_rmse, 80.7, 90.8],\n",
    "    'CatBoostRegressor' : [1540.91, 1213000, 114],   #введено прямое значение RMSE, т.к. модель закомметирована\n",
    "    'LightGBM' : [gbm_rmse_2, 10700, 1400]}\n",
    "resume = pd.DataFrame(data=d, index=['RMSE', 'Train time, ms', 'Predict time, ms'], dtype=np.int64)"
   ]
  },
  {
   "cell_type": "code",
   "execution_count": 78,
   "metadata": {},
   "outputs": [
    {
     "data": {
      "text/html": [
       "<div>\n",
       "<style scoped>\n",
       "    .dataframe tbody tr th:only-of-type {\n",
       "        vertical-align: middle;\n",
       "    }\n",
       "\n",
       "    .dataframe tbody tr th {\n",
       "        vertical-align: top;\n",
       "    }\n",
       "\n",
       "    .dataframe thead th {\n",
       "        text-align: right;\n",
       "    }\n",
       "</style>\n",
       "<table border=\"1\" class=\"dataframe\">\n",
       "  <thead>\n",
       "    <tr style=\"text-align: right;\">\n",
       "      <th></th>\n",
       "      <th>DummyRegressor</th>\n",
       "      <th>LinearRegression</th>\n",
       "      <th>CatBoostRegressor</th>\n",
       "      <th>LightGBM</th>\n",
       "    </tr>\n",
       "  </thead>\n",
       "  <tbody>\n",
       "    <tr>\n",
       "      <td>RMSE</td>\n",
       "      <td>4531.45</td>\n",
       "      <td>2963.14</td>\n",
       "      <td>1540.91</td>\n",
       "      <td>1641.83</td>\n",
       "    </tr>\n",
       "    <tr>\n",
       "      <td>Train time, ms</td>\n",
       "      <td>0.01</td>\n",
       "      <td>80.7</td>\n",
       "      <td>1213000</td>\n",
       "      <td>10700</td>\n",
       "    </tr>\n",
       "    <tr>\n",
       "      <td>Predict time, ms</td>\n",
       "      <td>2.34</td>\n",
       "      <td>90.8</td>\n",
       "      <td>114</td>\n",
       "      <td>1400</td>\n",
       "    </tr>\n",
       "  </tbody>\n",
       "</table>\n",
       "</div>"
      ],
      "text/plain": [
       "                 DummyRegressor LinearRegression CatBoostRegressor LightGBM\n",
       "RMSE                    4531.45          2963.14           1540.91  1641.83\n",
       "Train time, ms             0.01             80.7           1213000    10700\n",
       "Predict time, ms           2.34             90.8               114     1400"
      ]
     },
     "metadata": {},
     "output_type": "display_data"
    }
   ],
   "source": [
    "display(resume)"
   ]
  },
  {
   "cell_type": "markdown",
   "metadata": {},
   "source": [
    "Самой скоростной моделью оказался манекен, из реальных моделей лидирует ЛинейнаяРегрессия 0,171 с, медленнее всего отработал КэтБуст - 1213 секунд, однако предсказание он делает всего лишь за 0,114 секунды.\n",
    "\n",
    "Все исследуемые модели показали метрику RMSE лучше, чем манекен, однако заказчику важно не только качество, но и время обучения и скорость предсказания.\n",
    "\n",
    "Исходя из заказа, первое место отдаю LightGBM - оптимальное соотношение качества (RMSE 1641.83) и времени (12100 ms).\n",
    "\n",
    "Однако не исключаю, что при более глубокой настройке гиперпараметров, КэтБуст может составить серьезную конкуренцию. Да, он медленнее обучается, но скорость предсказания на порядок выше, а RMSE ниже на 6%, что в реалиях больших продаж может выливаться в значительные суммы."
   ]
  },
  {
   "cell_type": "code",
   "execution_count": null,
   "metadata": {},
   "outputs": [],
   "source": []
  }
 ],
 "metadata": {
  "ExecuteTimeLog": [
   {
    "duration": 579,
    "start_time": "2021-08-07T21:49:04.324Z"
   },
   {
    "duration": 733,
    "start_time": "2021-08-07T21:49:27.986Z"
   },
   {
    "duration": 21,
    "start_time": "2021-08-07T21:49:39.249Z"
   },
   {
    "duration": 120,
    "start_time": "2021-08-07T21:50:07.740Z"
   },
   {
    "duration": 114,
    "start_time": "2021-08-07T21:52:52.677Z"
   },
   {
    "duration": 117,
    "start_time": "2021-08-07T21:53:09.924Z"
   },
   {
    "duration": 116,
    "start_time": "2021-08-07T21:53:21.246Z"
   },
   {
    "duration": 113,
    "start_time": "2021-08-07T21:53:30.772Z"
   },
   {
    "duration": 9,
    "start_time": "2021-08-07T22:40:47.513Z"
   },
   {
    "duration": 323,
    "start_time": "2021-08-07T22:43:46.998Z"
   },
   {
    "duration": 257,
    "start_time": "2021-08-07T22:44:25.032Z"
   },
   {
    "duration": 251,
    "start_time": "2021-08-07T22:44:40.284Z"
   },
   {
    "duration": 25,
    "start_time": "2021-08-07T22:44:54.082Z"
   },
   {
    "duration": 268,
    "start_time": "2021-08-07T22:48:19.079Z"
   },
   {
    "duration": 261,
    "start_time": "2021-08-07T22:48:34.134Z"
   },
   {
    "duration": 246,
    "start_time": "2021-08-07T22:48:43.444Z"
   },
   {
    "duration": 247,
    "start_time": "2021-08-07T22:49:36.568Z"
   },
   {
    "duration": 279,
    "start_time": "2021-08-07T22:49:45.328Z"
   },
   {
    "duration": 27,
    "start_time": "2021-08-07T22:50:12.633Z"
   },
   {
    "duration": 21,
    "start_time": "2021-08-07T22:50:46.198Z"
   },
   {
    "duration": 244,
    "start_time": "2021-08-07T22:51:13.898Z"
   },
   {
    "duration": 27,
    "start_time": "2021-08-07T22:51:40.439Z"
   },
   {
    "duration": 22,
    "start_time": "2021-08-07T22:51:54.492Z"
   },
   {
    "duration": 11,
    "start_time": "2021-08-07T23:41:42.623Z"
   },
   {
    "duration": 9,
    "start_time": "2021-08-07T23:42:22.328Z"
   },
   {
    "duration": 9,
    "start_time": "2021-08-07T23:42:30.902Z"
   },
   {
    "duration": 252,
    "start_time": "2021-08-07T23:43:24.497Z"
   },
   {
    "duration": 247,
    "start_time": "2021-08-07T23:43:42.677Z"
   },
   {
    "duration": 269,
    "start_time": "2021-08-07T23:44:03.595Z"
   },
   {
    "duration": 36,
    "start_time": "2021-08-07T23:44:17.943Z"
   },
   {
    "duration": 40,
    "start_time": "2021-08-07T23:45:04.763Z"
   },
   {
    "duration": 4,
    "start_time": "2021-08-07T23:45:29.977Z"
   },
   {
    "duration": 251,
    "start_time": "2021-08-07T23:45:38.790Z"
   },
   {
    "duration": 4,
    "start_time": "2021-08-07T23:45:46.333Z"
   },
   {
    "duration": 312,
    "start_time": "2021-08-07T23:45:57.281Z"
   },
   {
    "duration": 4,
    "start_time": "2021-08-07T23:46:20.858Z"
   },
   {
    "duration": 16,
    "start_time": "2021-08-07T23:47:05.438Z"
   },
   {
    "duration": 281,
    "start_time": "2021-08-08T08:12:03.093Z"
   },
   {
    "duration": 1082,
    "start_time": "2021-08-08T08:12:12.102Z"
   },
   {
    "duration": -7,
    "start_time": "2021-08-08T08:12:13.193Z"
   },
   {
    "duration": -12,
    "start_time": "2021-08-08T08:12:13.199Z"
   },
   {
    "duration": -15,
    "start_time": "2021-08-08T08:12:13.203Z"
   },
   {
    "duration": -18,
    "start_time": "2021-08-08T08:12:13.207Z"
   },
   {
    "duration": -22,
    "start_time": "2021-08-08T08:12:13.211Z"
   },
   {
    "duration": -24,
    "start_time": "2021-08-08T08:12:13.214Z"
   },
   {
    "duration": 246,
    "start_time": "2021-08-08T08:12:43.137Z"
   },
   {
    "duration": 185,
    "start_time": "2021-08-08T08:13:42.219Z"
   },
   {
    "duration": 970,
    "start_time": "2021-08-08T08:13:50.309Z"
   },
   {
    "duration": 692,
    "start_time": "2021-08-08T08:13:51.281Z"
   },
   {
    "duration": 17,
    "start_time": "2021-08-08T08:13:51.975Z"
   },
   {
    "duration": 125,
    "start_time": "2021-08-08T08:13:51.993Z"
   },
   {
    "duration": 16,
    "start_time": "2021-08-08T08:13:52.120Z"
   },
   {
    "duration": 374,
    "start_time": "2021-08-08T08:13:52.137Z"
   },
   {
    "duration": -7,
    "start_time": "2021-08-08T08:13:52.520Z"
   },
   {
    "duration": 271,
    "start_time": "2021-08-08T08:14:42.574Z"
   },
   {
    "duration": 32,
    "start_time": "2021-08-08T08:14:51.424Z"
   },
   {
    "duration": 30,
    "start_time": "2021-08-08T08:15:41.648Z"
   },
   {
    "duration": 27,
    "start_time": "2021-08-08T08:16:04.301Z"
   },
   {
    "duration": 257,
    "start_time": "2021-08-08T08:18:02.139Z"
   },
   {
    "duration": 25,
    "start_time": "2021-08-08T08:18:07.385Z"
   },
   {
    "duration": 17,
    "start_time": "2021-08-08T08:19:05.120Z"
   },
   {
    "duration": 25,
    "start_time": "2021-08-08T08:19:43.475Z"
   },
   {
    "duration": 26,
    "start_time": "2021-08-08T08:19:50.906Z"
   },
   {
    "duration": 40,
    "start_time": "2021-08-08T08:25:15.649Z"
   },
   {
    "duration": 25,
    "start_time": "2021-08-08T08:26:14.083Z"
   },
   {
    "duration": 25,
    "start_time": "2021-08-08T08:26:32.111Z"
   },
   {
    "duration": 26,
    "start_time": "2021-08-08T08:26:39.473Z"
   },
   {
    "duration": 346,
    "start_time": "2021-08-08T08:29:12.527Z"
   },
   {
    "duration": 3,
    "start_time": "2021-08-08T08:29:36.638Z"
   },
   {
    "duration": 795,
    "start_time": "2021-08-08T08:30:29.839Z"
   },
   {
    "duration": 181,
    "start_time": "2021-08-08T08:30:47.966Z"
   },
   {
    "duration": 420,
    "start_time": "2021-08-08T08:33:13.941Z"
   },
   {
    "duration": 408,
    "start_time": "2021-08-08T08:33:31.928Z"
   },
   {
    "duration": 408,
    "start_time": "2021-08-08T08:33:36.992Z"
   },
   {
    "duration": 412,
    "start_time": "2021-08-08T08:34:35.911Z"
   },
   {
    "duration": 354,
    "start_time": "2021-08-08T08:34:57.941Z"
   },
   {
    "duration": 235,
    "start_time": "2021-08-08T08:35:24.787Z"
   },
   {
    "duration": 68,
    "start_time": "2021-08-08T08:36:50.098Z"
   },
   {
    "duration": 39,
    "start_time": "2021-08-08T08:47:28.095Z"
   },
   {
    "duration": 32,
    "start_time": "2021-08-08T08:47:52.588Z"
   },
   {
    "duration": 29,
    "start_time": "2021-08-08T08:47:59.829Z"
   },
   {
    "duration": 26,
    "start_time": "2021-08-08T08:48:05.280Z"
   },
   {
    "duration": 22,
    "start_time": "2021-08-08T08:51:14.602Z"
   },
   {
    "duration": 25,
    "start_time": "2021-08-08T08:53:23.370Z"
   },
   {
    "duration": 33,
    "start_time": "2021-08-08T08:54:11.036Z"
   },
   {
    "duration": 113,
    "start_time": "2021-08-08T08:55:24.080Z"
   },
   {
    "duration": 35,
    "start_time": "2021-08-08T08:56:21.551Z"
   },
   {
    "duration": 32,
    "start_time": "2021-08-08T08:56:52.258Z"
   },
   {
    "duration": 109,
    "start_time": "2021-08-08T08:59:57.156Z"
   },
   {
    "duration": 21,
    "start_time": "2021-08-08T09:00:04.747Z"
   },
   {
    "duration": 21,
    "start_time": "2021-08-08T09:00:28.657Z"
   },
   {
    "duration": 119,
    "start_time": "2021-08-08T09:00:47.891Z"
   },
   {
    "duration": 26,
    "start_time": "2021-08-08T09:00:51.514Z"
   },
   {
    "duration": 5,
    "start_time": "2021-08-08T09:02:15.763Z"
   },
   {
    "duration": 8,
    "start_time": "2021-08-08T09:02:52.090Z"
   },
   {
    "duration": 8,
    "start_time": "2021-08-08T09:03:26.553Z"
   },
   {
    "duration": 8,
    "start_time": "2021-08-08T09:04:53.407Z"
   },
   {
    "duration": 25,
    "start_time": "2021-08-08T09:07:12.420Z"
   },
   {
    "duration": 13,
    "start_time": "2021-08-08T09:07:24.086Z"
   },
   {
    "duration": 7,
    "start_time": "2021-08-08T09:08:21.804Z"
   },
   {
    "duration": 8,
    "start_time": "2021-08-08T09:08:26.834Z"
   },
   {
    "duration": 24,
    "start_time": "2021-08-08T09:10:01.688Z"
   },
   {
    "duration": 284,
    "start_time": "2021-08-08T09:10:46.144Z"
   },
   {
    "duration": 242,
    "start_time": "2021-08-08T09:10:55.801Z"
   },
   {
    "duration": 12,
    "start_time": "2021-08-08T09:11:40.708Z"
   },
   {
    "duration": 24,
    "start_time": "2021-08-08T09:11:48.557Z"
   },
   {
    "duration": 28,
    "start_time": "2021-08-08T09:12:00.496Z"
   },
   {
    "duration": 16,
    "start_time": "2021-08-08T09:14:39.918Z"
   },
   {
    "duration": 21,
    "start_time": "2021-08-08T09:43:07.983Z"
   },
   {
    "duration": 39,
    "start_time": "2021-08-08T09:43:21.481Z"
   },
   {
    "duration": 33,
    "start_time": "2021-08-08T09:44:08.957Z"
   },
   {
    "duration": 62,
    "start_time": "2021-08-08T09:44:22.721Z"
   },
   {
    "duration": 33,
    "start_time": "2021-08-08T09:46:03.140Z"
   },
   {
    "duration": 56,
    "start_time": "2021-08-08T09:46:15.268Z"
   },
   {
    "duration": 181,
    "start_time": "2021-08-08T09:48:33.221Z"
   },
   {
    "duration": 57,
    "start_time": "2021-08-08T09:49:19.870Z"
   },
   {
    "duration": 301,
    "start_time": "2021-08-08T09:53:22.277Z"
   },
   {
    "duration": 3,
    "start_time": "2021-08-08T09:53:53.487Z"
   },
   {
    "duration": 1137,
    "start_time": "2021-08-08T09:54:00.769Z"
   },
   {
    "duration": 720,
    "start_time": "2021-08-08T09:54:01.908Z"
   },
   {
    "duration": 109,
    "start_time": "2021-08-08T09:54:02.631Z"
   },
   {
    "duration": 14,
    "start_time": "2021-08-08T09:54:02.742Z"
   },
   {
    "duration": 127,
    "start_time": "2021-08-08T09:54:02.758Z"
   },
   {
    "duration": 58,
    "start_time": "2021-08-08T09:54:02.887Z"
   },
   {
    "duration": 57,
    "start_time": "2021-08-08T09:54:02.947Z"
   },
   {
    "duration": 58,
    "start_time": "2021-08-08T09:54:03.006Z"
   },
   {
    "duration": 312,
    "start_time": "2021-08-08T09:54:03.067Z"
   },
   {
    "duration": 48,
    "start_time": "2021-08-08T09:54:03.333Z"
   },
   {
    "duration": 45,
    "start_time": "2021-08-08T09:54:03.338Z"
   },
   {
    "duration": 42,
    "start_time": "2021-08-08T09:54:03.342Z"
   },
   {
    "duration": 39,
    "start_time": "2021-08-08T09:54:03.346Z"
   },
   {
    "duration": 37,
    "start_time": "2021-08-08T09:54:03.350Z"
   },
   {
    "duration": 33,
    "start_time": "2021-08-08T09:54:03.355Z"
   },
   {
    "duration": 31,
    "start_time": "2021-08-08T09:54:03.358Z"
   },
   {
    "duration": 22,
    "start_time": "2021-08-08T09:54:03.368Z"
   },
   {
    "duration": 704,
    "start_time": "2021-08-08T09:54:10.672Z"
   },
   {
    "duration": 1637,
    "start_time": "2021-08-08T09:57:27.591Z"
   },
   {
    "duration": 1861,
    "start_time": "2021-08-08T09:58:20.121Z"
   },
   {
    "duration": 74,
    "start_time": "2021-08-08T09:59:41.993Z"
   },
   {
    "duration": 10,
    "start_time": "2021-08-08T10:00:15.334Z"
   },
   {
    "duration": 1160,
    "start_time": "2021-08-08T10:00:22.357Z"
   },
   {
    "duration": 729,
    "start_time": "2021-08-08T10:00:23.518Z"
   },
   {
    "duration": 118,
    "start_time": "2021-08-08T10:00:24.249Z"
   },
   {
    "duration": 14,
    "start_time": "2021-08-08T10:00:24.369Z"
   },
   {
    "duration": 113,
    "start_time": "2021-08-08T10:00:24.391Z"
   },
   {
    "duration": 63,
    "start_time": "2021-08-08T10:00:24.506Z"
   },
   {
    "duration": 56,
    "start_time": "2021-08-08T10:00:24.571Z"
   },
   {
    "duration": 70,
    "start_time": "2021-08-08T10:00:24.630Z"
   },
   {
    "duration": 75,
    "start_time": "2021-08-08T10:00:24.702Z"
   },
   {
    "duration": 25,
    "start_time": "2021-08-08T10:00:24.779Z"
   },
   {
    "duration": 191,
    "start_time": "2021-08-08T10:00:24.806Z"
   },
   {
    "duration": 37,
    "start_time": "2021-08-08T10:00:24.999Z"
   },
   {
    "duration": 33,
    "start_time": "2021-08-08T10:00:25.038Z"
   },
   {
    "duration": 123,
    "start_time": "2021-08-08T10:00:25.072Z"
   },
   {
    "duration": 16,
    "start_time": "2021-08-08T10:00:25.197Z"
   },
   {
    "duration": 7,
    "start_time": "2021-08-08T10:00:25.215Z"
   },
   {
    "duration": 25,
    "start_time": "2021-08-08T10:00:25.223Z"
   },
   {
    "duration": 104,
    "start_time": "2021-08-08T10:00:59.763Z"
   },
   {
    "duration": 86,
    "start_time": "2021-08-08T10:05:27.570Z"
   },
   {
    "duration": 9,
    "start_time": "2021-08-08T10:07:20.510Z"
   },
   {
    "duration": 6,
    "start_time": "2021-08-08T10:07:50.602Z"
   },
   {
    "duration": 528,
    "start_time": "2021-08-08T10:08:30.189Z"
   },
   {
    "duration": 8,
    "start_time": "2021-08-08T10:08:49.244Z"
   },
   {
    "duration": 6,
    "start_time": "2021-08-08T10:08:52.368Z"
   },
   {
    "duration": 19,
    "start_time": "2021-08-08T10:10:17.169Z"
   },
   {
    "duration": 10,
    "start_time": "2021-08-08T10:11:44.541Z"
   },
   {
    "duration": 9,
    "start_time": "2021-08-08T10:11:46.638Z"
   },
   {
    "duration": 18,
    "start_time": "2021-08-08T10:11:47.309Z"
   },
   {
    "duration": 10,
    "start_time": "2021-08-08T10:11:53.138Z"
   },
   {
    "duration": 9,
    "start_time": "2021-08-08T10:11:53.696Z"
   },
   {
    "duration": 17,
    "start_time": "2021-08-08T10:11:54.370Z"
   },
   {
    "duration": 91,
    "start_time": "2021-08-08T10:12:58.848Z"
   },
   {
    "duration": 28,
    "start_time": "2021-08-08T10:15:41.869Z"
   },
   {
    "duration": 619,
    "start_time": "2021-08-08T10:18:15.019Z"
   },
   {
    "duration": 382,
    "start_time": "2021-08-08T10:18:24.480Z"
   },
   {
    "duration": 174,
    "start_time": "2021-08-08T10:18:40.088Z"
   },
   {
    "duration": 83,
    "start_time": "2021-08-08T10:20:11.440Z"
   },
   {
    "duration": 275,
    "start_time": "2021-08-08T10:20:30.297Z"
   },
   {
    "duration": 243,
    "start_time": "2021-08-08T10:22:23.594Z"
   },
   {
    "duration": 350,
    "start_time": "2021-08-08T10:22:58.392Z"
   },
   {
    "duration": 12,
    "start_time": "2021-08-08T10:23:05.200Z"
   },
   {
    "duration": 5,
    "start_time": "2021-08-08T10:23:28.552Z"
   },
   {
    "duration": 2825,
    "start_time": "2021-08-08T10:23:43.179Z"
   },
   {
    "duration": 1067,
    "start_time": "2021-08-08T10:23:58.330Z"
   },
   {
    "duration": 721,
    "start_time": "2021-08-08T10:23:59.399Z"
   },
   {
    "duration": 114,
    "start_time": "2021-08-08T10:24:00.122Z"
   },
   {
    "duration": 15,
    "start_time": "2021-08-08T10:24:00.239Z"
   },
   {
    "duration": 128,
    "start_time": "2021-08-08T10:24:00.256Z"
   },
   {
    "duration": 65,
    "start_time": "2021-08-08T10:24:00.386Z"
   },
   {
    "duration": 59,
    "start_time": "2021-08-08T10:24:00.453Z"
   },
   {
    "duration": 62,
    "start_time": "2021-08-08T10:24:00.515Z"
   },
   {
    "duration": 182,
    "start_time": "2021-08-08T10:24:00.592Z"
   },
   {
    "duration": 16,
    "start_time": "2021-08-08T10:24:00.776Z"
   },
   {
    "duration": 25,
    "start_time": "2021-08-08T10:24:00.793Z"
   },
   {
    "duration": 18,
    "start_time": "2021-08-08T10:24:00.820Z"
   },
   {
    "duration": 205,
    "start_time": "2021-08-08T10:24:00.840Z"
   },
   {
    "duration": 52,
    "start_time": "2021-08-08T10:24:01.047Z"
   },
   {
    "duration": 40,
    "start_time": "2021-08-08T10:24:01.102Z"
   },
   {
    "duration": 118,
    "start_time": "2021-08-08T10:24:01.144Z"
   },
   {
    "duration": 31,
    "start_time": "2021-08-08T10:24:01.264Z"
   },
   {
    "duration": 9,
    "start_time": "2021-08-08T10:24:01.297Z"
   },
   {
    "duration": 96,
    "start_time": "2021-08-08T10:24:01.307Z"
   },
   {
    "duration": 36,
    "start_time": "2021-08-08T10:24:01.406Z"
   },
   {
    "duration": 40,
    "start_time": "2021-08-08T10:24:01.443Z"
   },
   {
    "duration": 341,
    "start_time": "2021-08-08T10:41:33.702Z"
   },
   {
    "duration": 680,
    "start_time": "2021-08-08T10:41:45.866Z"
   },
   {
    "duration": 14,
    "start_time": "2021-08-08T10:42:13.862Z"
   },
   {
    "duration": 245,
    "start_time": "2021-08-08T10:42:32.885Z"
   },
   {
    "duration": 1086,
    "start_time": "2021-08-08T10:42:39.818Z"
   },
   {
    "duration": 771,
    "start_time": "2021-08-08T10:42:40.905Z"
   },
   {
    "duration": 120,
    "start_time": "2021-08-08T10:42:41.679Z"
   },
   {
    "duration": 14,
    "start_time": "2021-08-08T10:42:41.801Z"
   },
   {
    "duration": 117,
    "start_time": "2021-08-08T10:42:41.817Z"
   },
   {
    "duration": 68,
    "start_time": "2021-08-08T10:42:41.935Z"
   },
   {
    "duration": 40,
    "start_time": "2021-08-08T10:42:42.005Z"
   },
   {
    "duration": 75,
    "start_time": "2021-08-08T10:42:42.047Z"
   },
   {
    "duration": 168,
    "start_time": "2021-08-08T10:42:42.124Z"
   },
   {
    "duration": 9,
    "start_time": "2021-08-08T10:42:42.294Z"
   },
   {
    "duration": 13,
    "start_time": "2021-08-08T10:42:42.305Z"
   },
   {
    "duration": 15,
    "start_time": "2021-08-08T10:42:42.319Z"
   },
   {
    "duration": 15,
    "start_time": "2021-08-08T10:42:42.335Z"
   },
   {
    "duration": 205,
    "start_time": "2021-08-08T10:42:42.352Z"
   },
   {
    "duration": 58,
    "start_time": "2021-08-08T10:42:42.559Z"
   },
   {
    "duration": 31,
    "start_time": "2021-08-08T10:42:42.619Z"
   },
   {
    "duration": 95,
    "start_time": "2021-08-08T10:42:42.652Z"
   },
   {
    "duration": 16,
    "start_time": "2021-08-08T10:42:42.748Z"
   },
   {
    "duration": 7,
    "start_time": "2021-08-08T10:42:42.765Z"
   },
   {
    "duration": 50,
    "start_time": "2021-08-08T10:42:42.774Z"
   },
   {
    "duration": 22,
    "start_time": "2021-08-08T10:42:42.825Z"
   },
   {
    "duration": 43,
    "start_time": "2021-08-08T10:42:42.848Z"
   },
   {
    "duration": 312,
    "start_time": "2021-08-08T10:43:15.272Z"
   },
   {
    "duration": 308,
    "start_time": "2021-08-08T10:44:09.072Z"
   },
   {
    "duration": 260,
    "start_time": "2021-08-08T10:44:21.341Z"
   },
   {
    "duration": 1099,
    "start_time": "2021-08-08T10:44:28.995Z"
   },
   {
    "duration": 715,
    "start_time": "2021-08-08T10:44:30.096Z"
   },
   {
    "duration": 117,
    "start_time": "2021-08-08T10:44:30.813Z"
   },
   {
    "duration": 14,
    "start_time": "2021-08-08T10:44:30.932Z"
   },
   {
    "duration": 122,
    "start_time": "2021-08-08T10:44:30.947Z"
   },
   {
    "duration": 66,
    "start_time": "2021-08-08T10:44:31.071Z"
   },
   {
    "duration": 53,
    "start_time": "2021-08-08T10:44:31.139Z"
   },
   {
    "duration": 61,
    "start_time": "2021-08-08T10:44:31.194Z"
   },
   {
    "duration": 185,
    "start_time": "2021-08-08T10:44:31.257Z"
   },
   {
    "duration": 9,
    "start_time": "2021-08-08T10:44:31.444Z"
   },
   {
    "duration": 12,
    "start_time": "2021-08-08T10:44:31.455Z"
   },
   {
    "duration": 28,
    "start_time": "2021-08-08T10:44:31.468Z"
   },
   {
    "duration": 15,
    "start_time": "2021-08-08T10:44:31.498Z"
   },
   {
    "duration": 190,
    "start_time": "2021-08-08T10:44:31.515Z"
   },
   {
    "duration": 53,
    "start_time": "2021-08-08T10:44:31.706Z"
   },
   {
    "duration": 43,
    "start_time": "2021-08-08T10:44:31.761Z"
   },
   {
    "duration": 88,
    "start_time": "2021-08-08T10:44:31.806Z"
   },
   {
    "duration": 15,
    "start_time": "2021-08-08T10:44:31.895Z"
   },
   {
    "duration": 7,
    "start_time": "2021-08-08T10:44:31.911Z"
   },
   {
    "duration": 40,
    "start_time": "2021-08-08T10:44:31.919Z"
   },
   {
    "duration": 47,
    "start_time": "2021-08-08T10:44:31.961Z"
   },
   {
    "duration": 27,
    "start_time": "2021-08-08T10:44:32.009Z"
   },
   {
    "duration": 33,
    "start_time": "2021-08-08T10:46:19.923Z"
   },
   {
    "duration": 14,
    "start_time": "2021-08-08T10:46:36.727Z"
   },
   {
    "duration": 34,
    "start_time": "2021-08-08T10:46:44.435Z"
   },
   {
    "duration": 347,
    "start_time": "2021-08-08T10:48:14.639Z"
   },
   {
    "duration": 1080,
    "start_time": "2021-08-08T10:48:25.413Z"
   },
   {
    "duration": 694,
    "start_time": "2021-08-08T10:48:26.495Z"
   },
   {
    "duration": 114,
    "start_time": "2021-08-08T10:48:27.192Z"
   },
   {
    "duration": 14,
    "start_time": "2021-08-08T10:48:27.308Z"
   },
   {
    "duration": 123,
    "start_time": "2021-08-08T10:48:27.324Z"
   },
   {
    "duration": 61,
    "start_time": "2021-08-08T10:48:27.449Z"
   },
   {
    "duration": 40,
    "start_time": "2021-08-08T10:48:27.512Z"
   },
   {
    "duration": 70,
    "start_time": "2021-08-08T10:48:27.553Z"
   },
   {
    "duration": 176,
    "start_time": "2021-08-08T10:48:27.625Z"
   },
   {
    "duration": 10,
    "start_time": "2021-08-08T10:48:27.802Z"
   },
   {
    "duration": 318,
    "start_time": "2021-08-08T10:48:27.813Z"
   },
   {
    "duration": 100,
    "start_time": "2021-08-08T10:48:28.033Z"
   },
   {
    "duration": 81,
    "start_time": "2021-08-08T10:48:28.053Z"
   },
   {
    "duration": 71,
    "start_time": "2021-08-08T10:48:28.064Z"
   },
   {
    "duration": 67,
    "start_time": "2021-08-08T10:48:28.069Z"
   },
   {
    "duration": 64,
    "start_time": "2021-08-08T10:48:28.073Z"
   },
   {
    "duration": 60,
    "start_time": "2021-08-08T10:48:28.078Z"
   },
   {
    "duration": 55,
    "start_time": "2021-08-08T10:48:28.083Z"
   },
   {
    "duration": 52,
    "start_time": "2021-08-08T10:48:28.088Z"
   },
   {
    "duration": 48,
    "start_time": "2021-08-08T10:48:28.092Z"
   },
   {
    "duration": 44,
    "start_time": "2021-08-08T10:48:28.097Z"
   },
   {
    "duration": 41,
    "start_time": "2021-08-08T10:48:28.101Z"
   },
   {
    "duration": 37,
    "start_time": "2021-08-08T10:48:28.106Z"
   },
   {
    "duration": 6,
    "start_time": "2021-08-08T10:49:03.848Z"
   },
   {
    "duration": 272,
    "start_time": "2021-08-08T10:49:50.396Z"
   },
   {
    "duration": 1111,
    "start_time": "2021-08-08T10:50:02.091Z"
   },
   {
    "duration": 746,
    "start_time": "2021-08-08T10:50:03.204Z"
   },
   {
    "duration": 112,
    "start_time": "2021-08-08T10:50:03.952Z"
   },
   {
    "duration": 14,
    "start_time": "2021-08-08T10:50:04.066Z"
   },
   {
    "duration": 119,
    "start_time": "2021-08-08T10:50:04.081Z"
   },
   {
    "duration": 57,
    "start_time": "2021-08-08T10:50:04.202Z"
   },
   {
    "duration": 56,
    "start_time": "2021-08-08T10:50:04.260Z"
   },
   {
    "duration": 57,
    "start_time": "2021-08-08T10:50:04.319Z"
   },
   {
    "duration": 177,
    "start_time": "2021-08-08T10:50:04.378Z"
   },
   {
    "duration": 10,
    "start_time": "2021-08-08T10:50:04.556Z"
   },
   {
    "duration": 5,
    "start_time": "2021-08-08T10:50:04.567Z"
   },
   {
    "duration": 333,
    "start_time": "2021-08-08T10:50:04.574Z"
   },
   {
    "duration": 80,
    "start_time": "2021-08-08T10:50:04.829Z"
   },
   {
    "duration": 77,
    "start_time": "2021-08-08T10:50:04.833Z"
   },
   {
    "duration": 72,
    "start_time": "2021-08-08T10:50:04.838Z"
   },
   {
    "duration": 59,
    "start_time": "2021-08-08T10:50:04.852Z"
   },
   {
    "duration": 56,
    "start_time": "2021-08-08T10:50:04.856Z"
   },
   {
    "duration": 54,
    "start_time": "2021-08-08T10:50:04.859Z"
   },
   {
    "duration": 51,
    "start_time": "2021-08-08T10:50:04.863Z"
   },
   {
    "duration": 49,
    "start_time": "2021-08-08T10:50:04.866Z"
   },
   {
    "duration": 47,
    "start_time": "2021-08-08T10:50:04.869Z"
   },
   {
    "duration": 44,
    "start_time": "2021-08-08T10:50:04.872Z"
   },
   {
    "duration": 42,
    "start_time": "2021-08-08T10:50:04.875Z"
   },
   {
    "duration": 40,
    "start_time": "2021-08-08T10:50:04.878Z"
   },
   {
    "duration": 4,
    "start_time": "2021-08-08T10:54:03.201Z"
   },
   {
    "duration": 1036,
    "start_time": "2021-08-08T10:54:16.751Z"
   },
   {
    "duration": 689,
    "start_time": "2021-08-08T10:54:17.789Z"
   },
   {
    "duration": 111,
    "start_time": "2021-08-08T10:54:18.480Z"
   },
   {
    "duration": 13,
    "start_time": "2021-08-08T10:54:18.594Z"
   },
   {
    "duration": 122,
    "start_time": "2021-08-08T10:54:18.609Z"
   },
   {
    "duration": 64,
    "start_time": "2021-08-08T10:54:18.732Z"
   },
   {
    "duration": 42,
    "start_time": "2021-08-08T10:54:18.798Z"
   },
   {
    "duration": 70,
    "start_time": "2021-08-08T10:54:18.844Z"
   },
   {
    "duration": 174,
    "start_time": "2021-08-08T10:54:18.917Z"
   },
   {
    "duration": 10,
    "start_time": "2021-08-08T10:54:19.093Z"
   },
   {
    "duration": 6,
    "start_time": "2021-08-08T10:54:19.104Z"
   },
   {
    "duration": 7,
    "start_time": "2021-08-08T10:54:19.112Z"
   },
   {
    "duration": 42,
    "start_time": "2021-08-08T10:54:19.121Z"
   },
   {
    "duration": 132,
    "start_time": "2021-08-08T10:54:19.165Z"
   },
   {
    "duration": 17,
    "start_time": "2021-08-08T10:54:19.299Z"
   },
   {
    "duration": 193,
    "start_time": "2021-08-08T10:54:19.317Z"
   },
   {
    "duration": 35,
    "start_time": "2021-08-08T10:54:19.512Z"
   },
   {
    "duration": 54,
    "start_time": "2021-08-08T10:54:19.549Z"
   },
   {
    "duration": 98,
    "start_time": "2021-08-08T10:54:19.605Z"
   },
   {
    "duration": 15,
    "start_time": "2021-08-08T10:54:19.705Z"
   },
   {
    "duration": 7,
    "start_time": "2021-08-08T10:54:19.721Z"
   },
   {
    "duration": 40,
    "start_time": "2021-08-08T10:54:19.729Z"
   },
   {
    "duration": 41,
    "start_time": "2021-08-08T10:54:19.771Z"
   },
   {
    "duration": 29,
    "start_time": "2021-08-08T10:54:19.814Z"
   },
   {
    "duration": 6,
    "start_time": "2021-08-08T10:54:42.505Z"
   },
   {
    "duration": 324,
    "start_time": "2021-08-08T10:56:09.693Z"
   },
   {
    "duration": 1112,
    "start_time": "2021-08-08T10:56:18.881Z"
   },
   {
    "duration": 690,
    "start_time": "2021-08-08T10:56:19.995Z"
   },
   {
    "duration": 115,
    "start_time": "2021-08-08T10:56:20.687Z"
   },
   {
    "duration": 15,
    "start_time": "2021-08-08T10:56:20.804Z"
   },
   {
    "duration": 122,
    "start_time": "2021-08-08T10:56:20.820Z"
   },
   {
    "duration": 67,
    "start_time": "2021-08-08T10:56:20.944Z"
   },
   {
    "duration": 42,
    "start_time": "2021-08-08T10:56:21.013Z"
   },
   {
    "duration": 76,
    "start_time": "2021-08-08T10:56:21.058Z"
   },
   {
    "duration": 173,
    "start_time": "2021-08-08T10:56:21.137Z"
   },
   {
    "duration": 10,
    "start_time": "2021-08-08T10:56:21.312Z"
   },
   {
    "duration": 5,
    "start_time": "2021-08-08T10:56:21.324Z"
   },
   {
    "duration": 11,
    "start_time": "2021-08-08T10:56:21.331Z"
   },
   {
    "duration": 6,
    "start_time": "2021-08-08T10:56:21.343Z"
   },
   {
    "duration": 43,
    "start_time": "2021-08-08T10:56:21.350Z"
   },
   {
    "duration": 16,
    "start_time": "2021-08-08T10:56:21.395Z"
   },
   {
    "duration": 194,
    "start_time": "2021-08-08T10:56:21.413Z"
   },
   {
    "duration": 29,
    "start_time": "2021-08-08T10:56:21.609Z"
   },
   {
    "duration": 32,
    "start_time": "2021-08-08T10:56:21.639Z"
   },
   {
    "duration": 106,
    "start_time": "2021-08-08T10:56:21.672Z"
   },
   {
    "duration": 19,
    "start_time": "2021-08-08T10:56:21.780Z"
   },
   {
    "duration": 6,
    "start_time": "2021-08-08T10:56:21.801Z"
   },
   {
    "duration": 39,
    "start_time": "2021-08-08T10:56:21.809Z"
   },
   {
    "duration": 47,
    "start_time": "2021-08-08T10:56:21.851Z"
   },
   {
    "duration": 29,
    "start_time": "2021-08-08T10:56:21.899Z"
   },
   {
    "duration": 11,
    "start_time": "2021-08-08T10:56:51.468Z"
   },
   {
    "duration": 5,
    "start_time": "2021-08-08T10:56:53.891Z"
   },
   {
    "duration": 16,
    "start_time": "2021-08-08T10:57:24.887Z"
   },
   {
    "duration": 5,
    "start_time": "2021-08-08T10:57:26.208Z"
   },
   {
    "duration": 29,
    "start_time": "2021-08-08T10:57:30.454Z"
   },
   {
    "duration": 7,
    "start_time": "2021-08-08T11:00:21.675Z"
   },
   {
    "duration": 7,
    "start_time": "2021-08-08T12:36:04.899Z"
   },
   {
    "duration": 5,
    "start_time": "2021-08-08T12:37:10.445Z"
   },
   {
    "duration": 12,
    "start_time": "2021-08-08T12:39:51.153Z"
   },
   {
    "duration": 1105,
    "start_time": "2021-08-08T12:40:05.806Z"
   },
   {
    "duration": 1173,
    "start_time": "2021-08-08T12:40:06.913Z"
   },
   {
    "duration": 151,
    "start_time": "2021-08-08T12:40:08.088Z"
   },
   {
    "duration": 14,
    "start_time": "2021-08-08T12:40:08.241Z"
   },
   {
    "duration": 165,
    "start_time": "2021-08-08T12:40:08.256Z"
   },
   {
    "duration": 81,
    "start_time": "2021-08-08T12:40:08.423Z"
   },
   {
    "duration": 39,
    "start_time": "2021-08-08T12:40:08.506Z"
   },
   {
    "duration": 74,
    "start_time": "2021-08-08T12:40:08.547Z"
   },
   {
    "duration": 181,
    "start_time": "2021-08-08T12:40:08.623Z"
   },
   {
    "duration": 10,
    "start_time": "2021-08-08T12:40:08.805Z"
   },
   {
    "duration": 5,
    "start_time": "2021-08-08T12:40:08.816Z"
   },
   {
    "duration": 19,
    "start_time": "2021-08-08T12:40:08.822Z"
   },
   {
    "duration": 7,
    "start_time": "2021-08-08T12:40:08.843Z"
   },
   {
    "duration": 18,
    "start_time": "2021-08-08T12:40:08.851Z"
   },
   {
    "duration": 188,
    "start_time": "2021-08-08T12:40:08.891Z"
   },
   {
    "duration": 62,
    "start_time": "2021-08-08T12:40:09.081Z"
   },
   {
    "duration": 25,
    "start_time": "2021-08-08T12:40:09.144Z"
   },
   {
    "duration": 101,
    "start_time": "2021-08-08T12:40:09.171Z"
   },
   {
    "duration": 29,
    "start_time": "2021-08-08T12:40:09.274Z"
   },
   {
    "duration": 8,
    "start_time": "2021-08-08T12:40:09.304Z"
   },
   {
    "duration": 43,
    "start_time": "2021-08-08T12:40:09.314Z"
   },
   {
    "duration": 44,
    "start_time": "2021-08-08T12:40:09.358Z"
   },
   {
    "duration": 28,
    "start_time": "2021-08-08T12:40:09.404Z"
   },
   {
    "duration": 8,
    "start_time": "2021-08-08T12:41:19.101Z"
   },
   {
    "duration": 7,
    "start_time": "2021-08-08T12:41:27.445Z"
   },
   {
    "duration": 2014,
    "start_time": "2021-08-08T17:44:44.747Z"
   },
   {
    "duration": 1162,
    "start_time": "2021-08-08T17:44:46.763Z"
   },
   {
    "duration": 167,
    "start_time": "2021-08-08T17:44:47.928Z"
   },
   {
    "duration": 26,
    "start_time": "2021-08-08T17:44:48.097Z"
   },
   {
    "duration": 180,
    "start_time": "2021-08-08T17:44:48.125Z"
   },
   {
    "duration": 96,
    "start_time": "2021-08-08T17:44:48.308Z"
   },
   {
    "duration": 89,
    "start_time": "2021-08-08T17:44:48.406Z"
   },
   {
    "duration": 92,
    "start_time": "2021-08-08T17:44:48.498Z"
   },
   {
    "duration": 268,
    "start_time": "2021-08-08T17:44:48.593Z"
   },
   {
    "duration": 23,
    "start_time": "2021-08-08T17:44:48.865Z"
   },
   {
    "duration": 9,
    "start_time": "2021-08-08T17:44:48.892Z"
   },
   {
    "duration": 25,
    "start_time": "2021-08-08T17:44:48.904Z"
   },
   {
    "duration": 54,
    "start_time": "2021-08-08T17:44:48.932Z"
   },
   {
    "duration": 25,
    "start_time": "2021-08-08T17:44:48.988Z"
   },
   {
    "duration": 373,
    "start_time": "2021-08-08T17:44:49.016Z"
   },
   {
    "duration": 76,
    "start_time": "2021-08-08T17:44:49.392Z"
   },
   {
    "duration": 57,
    "start_time": "2021-08-08T17:44:49.486Z"
   },
   {
    "duration": 163,
    "start_time": "2021-08-08T17:44:49.546Z"
   },
   {
    "duration": 21,
    "start_time": "2021-08-08T17:44:49.712Z"
   },
   {
    "duration": 13,
    "start_time": "2021-08-08T17:44:49.736Z"
   },
   {
    "duration": 97,
    "start_time": "2021-08-08T17:44:49.751Z"
   },
   {
    "duration": 59,
    "start_time": "2021-08-08T17:44:49.851Z"
   },
   {
    "duration": 50,
    "start_time": "2021-08-08T17:44:49.915Z"
   },
   {
    "duration": 17,
    "start_time": "2021-08-08T17:46:33.536Z"
   },
   {
    "duration": 48,
    "start_time": "2021-08-08T17:46:40.484Z"
   },
   {
    "duration": 78,
    "start_time": "2021-08-08T17:49:12.974Z"
   },
   {
    "duration": 52,
    "start_time": "2021-08-08T17:50:56.217Z"
   },
   {
    "duration": 30,
    "start_time": "2021-08-08T17:51:11.110Z"
   },
   {
    "duration": 29,
    "start_time": "2021-08-08T17:52:55.813Z"
   },
   {
    "duration": 61,
    "start_time": "2021-08-08T17:53:07.770Z"
   },
   {
    "duration": 9,
    "start_time": "2021-08-08T17:54:18.310Z"
   },
   {
    "duration": 22,
    "start_time": "2021-08-08T17:54:23.796Z"
   },
   {
    "duration": 1734,
    "start_time": "2021-08-08T17:54:47.393Z"
   },
   {
    "duration": 1309,
    "start_time": "2021-08-08T17:54:49.131Z"
   },
   {
    "duration": 175,
    "start_time": "2021-08-08T17:54:50.444Z"
   },
   {
    "duration": 29,
    "start_time": "2021-08-08T17:54:50.622Z"
   },
   {
    "duration": 207,
    "start_time": "2021-08-08T17:54:50.654Z"
   },
   {
    "duration": 104,
    "start_time": "2021-08-08T17:54:50.863Z"
   },
   {
    "duration": 92,
    "start_time": "2021-08-08T17:54:50.971Z"
   },
   {
    "duration": 138,
    "start_time": "2021-08-08T17:54:51.066Z"
   },
   {
    "duration": 289,
    "start_time": "2021-08-08T17:54:51.209Z"
   },
   {
    "duration": 13,
    "start_time": "2021-08-08T17:54:51.502Z"
   },
   {
    "duration": 7,
    "start_time": "2021-08-08T17:54:51.518Z"
   },
   {
    "duration": 28,
    "start_time": "2021-08-08T17:54:51.527Z"
   },
   {
    "duration": 47,
    "start_time": "2021-08-08T17:54:51.557Z"
   },
   {
    "duration": 24,
    "start_time": "2021-08-08T17:54:51.607Z"
   },
   {
    "duration": 380,
    "start_time": "2021-08-08T17:54:51.634Z"
   },
   {
    "duration": 89,
    "start_time": "2021-08-08T17:54:52.017Z"
   },
   {
    "duration": 23,
    "start_time": "2021-08-08T17:54:52.109Z"
   },
   {
    "duration": 170,
    "start_time": "2021-08-08T17:54:52.134Z"
   },
   {
    "duration": 23,
    "start_time": "2021-08-08T17:54:52.306Z"
   },
   {
    "duration": 86,
    "start_time": "2021-08-08T17:54:52.332Z"
   },
   {
    "duration": 14,
    "start_time": "2021-08-08T17:54:52.421Z"
   },
   {
    "duration": 87,
    "start_time": "2021-08-08T17:54:52.438Z"
   },
   {
    "duration": 62,
    "start_time": "2021-08-08T17:54:52.528Z"
   },
   {
    "duration": 54,
    "start_time": "2021-08-08T17:54:52.595Z"
   },
   {
    "duration": 48,
    "start_time": "2021-08-08T17:55:27.303Z"
   },
   {
    "duration": 114,
    "start_time": "2021-08-08T17:55:52.585Z"
   },
   {
    "duration": 71,
    "start_time": "2021-08-08T17:57:42.044Z"
   },
   {
    "duration": 1859,
    "start_time": "2021-08-08T17:57:52.561Z"
   },
   {
    "duration": 1326,
    "start_time": "2021-08-08T17:57:54.426Z"
   },
   {
    "duration": 189,
    "start_time": "2021-08-08T17:57:55.755Z"
   },
   {
    "duration": 43,
    "start_time": "2021-08-08T17:57:55.947Z"
   },
   {
    "duration": 173,
    "start_time": "2021-08-08T17:57:55.993Z"
   },
   {
    "duration": 115,
    "start_time": "2021-08-08T17:57:56.170Z"
   },
   {
    "duration": 115,
    "start_time": "2021-08-08T17:57:56.288Z"
   },
   {
    "duration": 175,
    "start_time": "2021-08-08T17:57:56.407Z"
   },
   {
    "duration": 450,
    "start_time": "2021-08-08T17:57:56.589Z"
   },
   {
    "duration": 16,
    "start_time": "2021-08-08T17:57:57.045Z"
   },
   {
    "duration": 25,
    "start_time": "2021-08-08T17:57:57.065Z"
   },
   {
    "duration": 35,
    "start_time": "2021-08-08T17:57:57.094Z"
   },
   {
    "duration": 16,
    "start_time": "2021-08-08T17:57:57.131Z"
   },
   {
    "duration": 65,
    "start_time": "2021-08-08T17:57:57.150Z"
   },
   {
    "duration": 389,
    "start_time": "2021-08-08T17:57:57.218Z"
   },
   {
    "duration": 89,
    "start_time": "2021-08-08T17:57:57.611Z"
   },
   {
    "duration": 24,
    "start_time": "2021-08-08T17:57:57.704Z"
   },
   {
    "duration": 180,
    "start_time": "2021-08-08T17:57:57.731Z"
   },
   {
    "duration": 23,
    "start_time": "2021-08-08T17:57:57.914Z"
   },
   {
    "duration": 102,
    "start_time": "2021-08-08T17:57:57.940Z"
   },
   {
    "duration": 81,
    "start_time": "2021-08-08T17:57:58.045Z"
   },
   {
    "duration": 12,
    "start_time": "2021-08-08T17:57:58.129Z"
   },
   {
    "duration": 98,
    "start_time": "2021-08-08T17:57:58.144Z"
   },
   {
    "duration": 59,
    "start_time": "2021-08-08T17:57:58.245Z"
   },
   {
    "duration": 42,
    "start_time": "2021-08-08T17:57:58.306Z"
   },
   {
    "duration": 13,
    "start_time": "2021-08-08T17:59:00.405Z"
   },
   {
    "duration": 18,
    "start_time": "2021-08-08T18:03:18.944Z"
   },
   {
    "duration": 96,
    "start_time": "2021-08-08T18:03:37.723Z"
   },
   {
    "duration": 160,
    "start_time": "2021-08-08T18:04:17.908Z"
   },
   {
    "duration": 42,
    "start_time": "2021-08-08T18:08:30.531Z"
   },
   {
    "duration": 28,
    "start_time": "2021-08-08T18:12:18.908Z"
   },
   {
    "duration": 25,
    "start_time": "2021-08-08T18:12:50.865Z"
   },
   {
    "duration": 49,
    "start_time": "2021-08-08T18:13:05.478Z"
   },
   {
    "duration": 621,
    "start_time": "2021-08-08T18:13:42.534Z"
   },
   {
    "duration": 6,
    "start_time": "2021-08-08T18:14:07.243Z"
   },
   {
    "duration": 122,
    "start_time": "2021-08-08T18:14:31.953Z"
   },
   {
    "duration": 20,
    "start_time": "2021-08-08T18:14:56.307Z"
   },
   {
    "duration": 27,
    "start_time": "2021-08-08T18:15:04.175Z"
   },
   {
    "duration": 47,
    "start_time": "2021-08-08T18:16:09.474Z"
   },
   {
    "duration": 23,
    "start_time": "2021-08-08T18:16:56.702Z"
   },
   {
    "duration": 22,
    "start_time": "2021-08-08T18:17:38.528Z"
   },
   {
    "duration": 28,
    "start_time": "2021-08-08T18:17:45.690Z"
   },
   {
    "duration": 1641,
    "start_time": "2021-08-08T18:18:21.712Z"
   },
   {
    "duration": 1243,
    "start_time": "2021-08-08T18:18:23.355Z"
   },
   {
    "duration": 172,
    "start_time": "2021-08-08T18:18:24.602Z"
   },
   {
    "duration": 38,
    "start_time": "2021-08-08T18:18:24.777Z"
   },
   {
    "duration": 203,
    "start_time": "2021-08-08T18:18:24.818Z"
   },
   {
    "duration": 127,
    "start_time": "2021-08-08T18:18:25.025Z"
   },
   {
    "duration": 82,
    "start_time": "2021-08-08T18:18:25.155Z"
   },
   {
    "duration": 118,
    "start_time": "2021-08-08T18:18:25.240Z"
   },
   {
    "duration": 273,
    "start_time": "2021-08-08T18:18:25.363Z"
   },
   {
    "duration": 11,
    "start_time": "2021-08-08T18:18:25.638Z"
   },
   {
    "duration": 7,
    "start_time": "2021-08-08T18:18:25.651Z"
   },
   {
    "duration": 42,
    "start_time": "2021-08-08T18:18:25.660Z"
   },
   {
    "duration": 14,
    "start_time": "2021-08-08T18:18:25.705Z"
   },
   {
    "duration": 28,
    "start_time": "2021-08-08T18:18:25.723Z"
   },
   {
    "duration": 348,
    "start_time": "2021-08-08T18:18:25.788Z"
   },
   {
    "duration": 88,
    "start_time": "2021-08-08T18:18:26.139Z"
   },
   {
    "duration": 23,
    "start_time": "2021-08-08T18:18:26.230Z"
   },
   {
    "duration": 154,
    "start_time": "2021-08-08T18:18:26.256Z"
   },
   {
    "duration": 21,
    "start_time": "2021-08-08T18:18:26.412Z"
   },
   {
    "duration": 82,
    "start_time": "2021-08-08T18:18:26.435Z"
   },
   {
    "duration": 85,
    "start_time": "2021-08-08T18:18:26.520Z"
   },
   {
    "duration": 12,
    "start_time": "2021-08-08T18:18:26.609Z"
   },
   {
    "duration": 99,
    "start_time": "2021-08-08T18:18:26.626Z"
   },
   {
    "duration": 124,
    "start_time": "2021-08-08T18:18:26.728Z"
   },
   {
    "duration": 59,
    "start_time": "2021-08-08T18:18:26.855Z"
   },
   {
    "duration": 26,
    "start_time": "2021-08-08T18:18:26.917Z"
   },
   {
    "duration": 46,
    "start_time": "2021-08-08T18:18:26.945Z"
   },
   {
    "duration": 43,
    "start_time": "2021-08-08T18:18:26.995Z"
   },
   {
    "duration": 62,
    "start_time": "2021-08-08T18:18:27.040Z"
   },
   {
    "duration": 21,
    "start_time": "2021-08-08T18:18:27.105Z"
   },
   {
    "duration": 62,
    "start_time": "2021-08-08T18:18:27.130Z"
   },
   {
    "duration": 30,
    "start_time": "2021-08-08T18:19:24.349Z"
   },
   {
    "duration": 20,
    "start_time": "2021-08-08T18:19:26.721Z"
   },
   {
    "duration": 40,
    "start_time": "2021-08-08T18:19:32.101Z"
   },
   {
    "duration": 24,
    "start_time": "2021-08-08T18:19:59.772Z"
   },
   {
    "duration": 20,
    "start_time": "2021-08-08T18:20:04.169Z"
   },
   {
    "duration": 48,
    "start_time": "2021-08-08T18:21:18.607Z"
   },
   {
    "duration": 567,
    "start_time": "2021-08-08T18:22:19.397Z"
   },
   {
    "duration": 466,
    "start_time": "2021-08-08T18:22:32.189Z"
   },
   {
    "duration": 2319,
    "start_time": "2021-08-08T18:22:45.762Z"
   },
   {
    "duration": 1750,
    "start_time": "2021-08-08T18:22:48.087Z"
   },
   {
    "duration": 269,
    "start_time": "2021-08-08T18:22:49.842Z"
   },
   {
    "duration": 36,
    "start_time": "2021-08-08T18:22:50.114Z"
   },
   {
    "duration": 275,
    "start_time": "2021-08-08T18:22:50.153Z"
   },
   {
    "duration": 100,
    "start_time": "2021-08-08T18:22:50.431Z"
   },
   {
    "duration": 76,
    "start_time": "2021-08-08T18:22:50.534Z"
   },
   {
    "duration": 104,
    "start_time": "2021-08-08T18:22:50.613Z"
   },
   {
    "duration": 275,
    "start_time": "2021-08-08T18:22:50.722Z"
   },
   {
    "duration": 12,
    "start_time": "2021-08-08T18:22:51.000Z"
   },
   {
    "duration": 20,
    "start_time": "2021-08-08T18:22:51.015Z"
   },
   {
    "duration": 47,
    "start_time": "2021-08-08T18:22:51.038Z"
   },
   {
    "duration": 16,
    "start_time": "2021-08-08T18:22:51.088Z"
   },
   {
    "duration": 26,
    "start_time": "2021-08-08T18:22:51.107Z"
   },
   {
    "duration": 357,
    "start_time": "2021-08-08T18:22:51.136Z"
   },
   {
    "duration": 88,
    "start_time": "2021-08-08T18:22:51.497Z"
   },
   {
    "duration": 24,
    "start_time": "2021-08-08T18:22:51.588Z"
   },
   {
    "duration": 160,
    "start_time": "2021-08-08T18:22:51.615Z"
   },
   {
    "duration": 27,
    "start_time": "2021-08-08T18:22:51.778Z"
   },
   {
    "duration": 92,
    "start_time": "2021-08-08T18:22:51.808Z"
   },
   {
    "duration": 53,
    "start_time": "2021-08-08T18:22:51.903Z"
   },
   {
    "duration": 35,
    "start_time": "2021-08-08T18:22:51.960Z"
   },
   {
    "duration": 88,
    "start_time": "2021-08-08T18:22:51.999Z"
   },
   {
    "duration": 126,
    "start_time": "2021-08-08T18:22:52.089Z"
   },
   {
    "duration": 42,
    "start_time": "2021-08-08T18:22:52.218Z"
   },
   {
    "duration": 43,
    "start_time": "2021-08-08T18:22:52.263Z"
   },
   {
    "duration": 20,
    "start_time": "2021-08-08T18:22:52.311Z"
   },
   {
    "duration": 69,
    "start_time": "2021-08-08T18:22:52.334Z"
   },
   {
    "duration": 26,
    "start_time": "2021-08-08T18:22:52.405Z"
   },
   {
    "duration": 20,
    "start_time": "2021-08-08T18:22:52.433Z"
   },
   {
    "duration": 569,
    "start_time": "2021-08-08T18:22:52.455Z"
   },
   {
    "duration": -831,
    "start_time": "2021-08-08T18:22:53.858Z"
   },
   {
    "duration": -831,
    "start_time": "2021-08-08T18:22:53.860Z"
   },
   {
    "duration": 26,
    "start_time": "2021-08-08T18:23:25.378Z"
   },
   {
    "duration": 26,
    "start_time": "2021-08-08T18:23:42.169Z"
   },
   {
    "duration": 42,
    "start_time": "2021-08-08T18:23:49.737Z"
   },
   {
    "duration": 42,
    "start_time": "2021-08-08T18:23:57.597Z"
   },
   {
    "duration": 25,
    "start_time": "2021-08-08T18:28:49.856Z"
   },
   {
    "duration": 19,
    "start_time": "2021-08-08T18:29:11.344Z"
   },
   {
    "duration": 43,
    "start_time": "2021-08-08T18:29:46.120Z"
   },
   {
    "duration": 25,
    "start_time": "2021-08-08T18:37:27.741Z"
   },
   {
    "duration": 44,
    "start_time": "2021-08-08T18:37:40.727Z"
   },
   {
    "duration": 25,
    "start_time": "2021-08-08T18:47:04.516Z"
   },
   {
    "duration": 1604,
    "start_time": "2021-08-08T18:47:11.789Z"
   },
   {
    "duration": 1157,
    "start_time": "2021-08-08T18:47:13.395Z"
   },
   {
    "duration": 166,
    "start_time": "2021-08-08T18:47:14.555Z"
   },
   {
    "duration": 43,
    "start_time": "2021-08-08T18:47:14.724Z"
   },
   {
    "duration": 161,
    "start_time": "2021-08-08T18:47:14.769Z"
   },
   {
    "duration": 93,
    "start_time": "2021-08-08T18:47:14.932Z"
   },
   {
    "duration": 75,
    "start_time": "2021-08-08T18:47:15.027Z"
   },
   {
    "duration": 97,
    "start_time": "2021-08-08T18:47:15.106Z"
   },
   {
    "duration": 269,
    "start_time": "2021-08-08T18:47:15.206Z"
   },
   {
    "duration": 16,
    "start_time": "2021-08-08T18:47:15.477Z"
   },
   {
    "duration": 10,
    "start_time": "2021-08-08T18:47:15.495Z"
   },
   {
    "duration": 37,
    "start_time": "2021-08-08T18:47:15.507Z"
   },
   {
    "duration": 13,
    "start_time": "2021-08-08T18:47:15.547Z"
   },
   {
    "duration": 40,
    "start_time": "2021-08-08T18:47:15.563Z"
   },
   {
    "duration": 330,
    "start_time": "2021-08-08T18:47:15.605Z"
   },
   {
    "duration": 79,
    "start_time": "2021-08-08T18:47:15.937Z"
   },
   {
    "duration": 21,
    "start_time": "2021-08-08T18:47:16.018Z"
   },
   {
    "duration": 155,
    "start_time": "2021-08-08T18:47:16.041Z"
   },
   {
    "duration": 21,
    "start_time": "2021-08-08T18:47:16.199Z"
   },
   {
    "duration": 87,
    "start_time": "2021-08-08T18:47:16.222Z"
   },
   {
    "duration": 49,
    "start_time": "2021-08-08T18:47:16.311Z"
   },
   {
    "duration": 32,
    "start_time": "2021-08-08T18:47:16.362Z"
   },
   {
    "duration": 87,
    "start_time": "2021-08-08T18:47:16.398Z"
   },
   {
    "duration": 113,
    "start_time": "2021-08-08T18:47:16.488Z"
   },
   {
    "duration": 39,
    "start_time": "2021-08-08T18:47:16.604Z"
   },
   {
    "duration": 30,
    "start_time": "2021-08-08T18:47:16.646Z"
   },
   {
    "duration": 17,
    "start_time": "2021-08-08T18:47:16.679Z"
   },
   {
    "duration": 45,
    "start_time": "2021-08-08T18:47:16.699Z"
   },
   {
    "duration": 30,
    "start_time": "2021-08-08T18:47:16.747Z"
   },
   {
    "duration": 21,
    "start_time": "2021-08-08T18:47:16.780Z"
   },
   {
    "duration": 28,
    "start_time": "2021-08-08T18:47:16.804Z"
   },
   {
    "duration": 43,
    "start_time": "2021-08-08T18:47:16.835Z"
   },
   {
    "duration": 32,
    "start_time": "2021-08-08T18:47:16.881Z"
   },
   {
    "duration": 21,
    "start_time": "2021-08-08T18:47:16.916Z"
   },
   {
    "duration": 47,
    "start_time": "2021-08-08T18:47:16.940Z"
   },
   {
    "duration": 48,
    "start_time": "2021-08-08T18:47:16.989Z"
   },
   {
    "duration": 47,
    "start_time": "2021-08-08T18:47:17.039Z"
   },
   {
    "duration": 17,
    "start_time": "2021-08-08T18:47:17.088Z"
   },
   {
    "duration": 569,
    "start_time": "2021-08-08T19:02:28.225Z"
   },
   {
    "duration": 383,
    "start_time": "2021-08-08T19:02:37.374Z"
   },
   {
    "duration": 156,
    "start_time": "2021-08-08T19:02:42.234Z"
   },
   {
    "duration": 531,
    "start_time": "2021-08-08T19:03:09.728Z"
   },
   {
    "duration": 534,
    "start_time": "2021-08-08T19:03:28.550Z"
   },
   {
    "duration": 527,
    "start_time": "2021-08-08T19:03:41.160Z"
   },
   {
    "duration": 154,
    "start_time": "2021-08-08T19:04:01.408Z"
   },
   {
    "duration": 513,
    "start_time": "2021-08-08T19:04:28.873Z"
   },
   {
    "duration": 149,
    "start_time": "2021-08-08T19:04:39.167Z"
   },
   {
    "duration": 131,
    "start_time": "2021-08-08T19:06:16.527Z"
   },
   {
    "duration": 386,
    "start_time": "2021-08-08T19:06:23.811Z"
   },
   {
    "duration": 391,
    "start_time": "2021-08-08T19:06:57.533Z"
   },
   {
    "duration": 383,
    "start_time": "2021-08-08T19:07:41.788Z"
   },
   {
    "duration": 370,
    "start_time": "2021-08-08T19:07:54.241Z"
   },
   {
    "duration": 387,
    "start_time": "2021-08-08T19:09:49.614Z"
   },
   {
    "duration": 262,
    "start_time": "2021-08-08T19:10:03.066Z"
   },
   {
    "duration": 422,
    "start_time": "2021-08-08T19:11:25.665Z"
   },
   {
    "duration": 58,
    "start_time": "2021-08-08T19:11:38.879Z"
   },
   {
    "duration": 177,
    "start_time": "2021-08-08T19:13:21.614Z"
   },
   {
    "duration": 408,
    "start_time": "2021-08-08T19:13:28.238Z"
   },
   {
    "duration": 62,
    "start_time": "2021-08-08T19:14:06.320Z"
   },
   {
    "duration": 400,
    "start_time": "2021-08-08T19:14:55.353Z"
   },
   {
    "duration": 277,
    "start_time": "2021-08-08T19:15:02.288Z"
   },
   {
    "duration": 431,
    "start_time": "2021-08-08T19:16:43.353Z"
   },
   {
    "duration": 245,
    "start_time": "2021-08-08T19:17:18.120Z"
   },
   {
    "duration": 9788,
    "start_time": "2021-08-08T19:18:03.334Z"
   },
   {
    "duration": 260,
    "start_time": "2021-08-08T19:18:30.408Z"
   },
   {
    "duration": 400,
    "start_time": "2021-08-08T19:23:40.300Z"
   },
   {
    "duration": 393,
    "start_time": "2021-08-08T19:23:55.200Z"
   },
   {
    "duration": 396,
    "start_time": "2021-08-08T19:24:16.658Z"
   },
   {
    "duration": 422,
    "start_time": "2021-08-08T19:24:33.064Z"
   },
   {
    "duration": 515,
    "start_time": "2021-08-08T19:24:39.233Z"
   },
   {
    "duration": 65,
    "start_time": "2021-08-08T19:25:01.514Z"
   },
   {
    "duration": 62,
    "start_time": "2021-08-08T19:25:14.705Z"
   },
   {
    "duration": 1614,
    "start_time": "2021-08-08T19:25:26.871Z"
   },
   {
    "duration": 1154,
    "start_time": "2021-08-08T19:25:28.488Z"
   },
   {
    "duration": 163,
    "start_time": "2021-08-08T19:25:29.645Z"
   },
   {
    "duration": 26,
    "start_time": "2021-08-08T19:25:29.811Z"
   },
   {
    "duration": 193,
    "start_time": "2021-08-08T19:25:29.839Z"
   },
   {
    "duration": 102,
    "start_time": "2021-08-08T19:25:30.034Z"
   },
   {
    "duration": 81,
    "start_time": "2021-08-08T19:25:30.138Z"
   },
   {
    "duration": 106,
    "start_time": "2021-08-08T19:25:30.222Z"
   },
   {
    "duration": 274,
    "start_time": "2021-08-08T19:25:30.332Z"
   },
   {
    "duration": 11,
    "start_time": "2021-08-08T19:25:30.610Z"
   },
   {
    "duration": 34,
    "start_time": "2021-08-08T19:25:30.623Z"
   },
   {
    "duration": 55,
    "start_time": "2021-08-08T19:25:30.660Z"
   },
   {
    "duration": 14,
    "start_time": "2021-08-08T19:25:30.718Z"
   },
   {
    "duration": 27,
    "start_time": "2021-08-08T19:25:30.734Z"
   },
   {
    "duration": 338,
    "start_time": "2021-08-08T19:25:30.764Z"
   },
   {
    "duration": 87,
    "start_time": "2021-08-08T19:25:31.105Z"
   },
   {
    "duration": 24,
    "start_time": "2021-08-08T19:25:31.195Z"
   },
   {
    "duration": 163,
    "start_time": "2021-08-08T19:25:31.222Z"
   },
   {
    "duration": 22,
    "start_time": "2021-08-08T19:25:31.388Z"
   },
   {
    "duration": 86,
    "start_time": "2021-08-08T19:25:31.413Z"
   },
   {
    "duration": 51,
    "start_time": "2021-08-08T19:25:31.502Z"
   },
   {
    "duration": 33,
    "start_time": "2021-08-08T19:25:31.556Z"
   },
   {
    "duration": 67,
    "start_time": "2021-08-08T19:25:31.592Z"
   },
   {
    "duration": 147,
    "start_time": "2021-08-08T19:25:31.662Z"
   },
   {
    "duration": 43,
    "start_time": "2021-08-08T19:25:31.812Z"
   },
   {
    "duration": 47,
    "start_time": "2021-08-08T19:25:31.858Z"
   },
   {
    "duration": 20,
    "start_time": "2021-08-08T19:25:31.910Z"
   },
   {
    "duration": 61,
    "start_time": "2021-08-08T19:25:31.933Z"
   },
   {
    "duration": 34,
    "start_time": "2021-08-08T19:25:31.997Z"
   },
   {
    "duration": 22,
    "start_time": "2021-08-08T19:25:32.034Z"
   },
   {
    "duration": 45,
    "start_time": "2021-08-08T19:25:32.059Z"
   },
   {
    "duration": 52,
    "start_time": "2021-08-08T19:25:32.107Z"
   },
   {
    "duration": 38,
    "start_time": "2021-08-08T19:25:32.162Z"
   },
   {
    "duration": 21,
    "start_time": "2021-08-08T19:25:32.202Z"
   },
   {
    "duration": 49,
    "start_time": "2021-08-08T19:25:32.225Z"
   },
   {
    "duration": 25,
    "start_time": "2021-08-08T19:25:32.286Z"
   },
   {
    "duration": 50,
    "start_time": "2021-08-08T19:25:32.313Z"
   },
   {
    "duration": 75,
    "start_time": "2021-08-08T19:25:32.365Z"
   },
   {
    "duration": 4,
    "start_time": "2021-08-08T19:25:32.442Z"
   },
   {
    "duration": 41,
    "start_time": "2021-08-08T19:26:07.622Z"
   },
   {
    "duration": 4,
    "start_time": "2021-08-08T19:26:09.278Z"
   },
   {
    "duration": 28,
    "start_time": "2021-08-08T19:27:19.535Z"
   },
   {
    "duration": 43,
    "start_time": "2021-08-08T19:27:52.009Z"
   },
   {
    "duration": 1621,
    "start_time": "2021-08-08T19:28:25.668Z"
   },
   {
    "duration": 1157,
    "start_time": "2021-08-08T19:28:27.292Z"
   },
   {
    "duration": 170,
    "start_time": "2021-08-08T19:28:28.452Z"
   },
   {
    "duration": 25,
    "start_time": "2021-08-08T19:28:28.624Z"
   },
   {
    "duration": 279,
    "start_time": "2021-08-08T19:28:28.653Z"
   },
   {
    "duration": 177,
    "start_time": "2021-08-08T19:28:28.935Z"
   },
   {
    "duration": 111,
    "start_time": "2021-08-08T19:28:29.116Z"
   },
   {
    "duration": 107,
    "start_time": "2021-08-08T19:28:29.230Z"
   },
   {
    "duration": 276,
    "start_time": "2021-08-08T19:28:29.342Z"
   },
   {
    "duration": 12,
    "start_time": "2021-08-08T19:28:29.621Z"
   },
   {
    "duration": 12,
    "start_time": "2021-08-08T19:28:29.636Z"
   },
   {
    "duration": 49,
    "start_time": "2021-08-08T19:28:29.650Z"
   },
   {
    "duration": 14,
    "start_time": "2021-08-08T19:28:29.701Z"
   },
   {
    "duration": 23,
    "start_time": "2021-08-08T19:28:29.718Z"
   },
   {
    "duration": 347,
    "start_time": "2021-08-08T19:28:29.743Z"
   },
   {
    "duration": 79,
    "start_time": "2021-08-08T19:28:30.093Z"
   },
   {
    "duration": 23,
    "start_time": "2021-08-08T19:28:30.186Z"
   },
   {
    "duration": 156,
    "start_time": "2021-08-08T19:28:30.212Z"
   },
   {
    "duration": 26,
    "start_time": "2021-08-08T19:28:30.371Z"
   },
   {
    "duration": 69,
    "start_time": "2021-08-08T19:28:30.399Z"
   },
   {
    "duration": 52,
    "start_time": "2021-08-08T19:28:30.485Z"
   },
   {
    "duration": 13,
    "start_time": "2021-08-08T19:28:30.540Z"
   },
   {
    "duration": 90,
    "start_time": "2021-08-08T19:28:30.556Z"
   },
   {
    "duration": 136,
    "start_time": "2021-08-08T19:28:30.649Z"
   },
   {
    "duration": 42,
    "start_time": "2021-08-08T19:28:30.788Z"
   },
   {
    "duration": 56,
    "start_time": "2021-08-08T19:28:30.833Z"
   },
   {
    "duration": 31,
    "start_time": "2021-08-08T19:28:30.898Z"
   },
   {
    "duration": 81,
    "start_time": "2021-08-08T19:28:30.933Z"
   },
   {
    "duration": 49,
    "start_time": "2021-08-08T19:28:31.018Z"
   },
   {
    "duration": 28,
    "start_time": "2021-08-08T19:28:31.070Z"
   },
   {
    "duration": 46,
    "start_time": "2021-08-08T19:28:31.101Z"
   },
   {
    "duration": 57,
    "start_time": "2021-08-08T19:28:31.150Z"
   },
   {
    "duration": 40,
    "start_time": "2021-08-08T19:28:31.209Z"
   },
   {
    "duration": 43,
    "start_time": "2021-08-08T19:28:31.252Z"
   },
   {
    "duration": 57,
    "start_time": "2021-08-08T19:28:31.297Z"
   },
   {
    "duration": 39,
    "start_time": "2021-08-08T19:28:31.357Z"
   },
   {
    "duration": 54,
    "start_time": "2021-08-08T19:28:31.398Z"
   },
   {
    "duration": 57,
    "start_time": "2021-08-08T19:28:31.455Z"
   },
   {
    "duration": 55,
    "start_time": "2021-08-08T19:28:31.515Z"
   },
   {
    "duration": 12,
    "start_time": "2021-08-08T19:28:31.573Z"
   },
   {
    "duration": 25,
    "start_time": "2021-08-08T19:35:20.815Z"
   },
   {
    "duration": 71,
    "start_time": "2021-08-08T19:39:06.776Z"
   },
   {
    "duration": 58,
    "start_time": "2021-08-08T19:41:12.390Z"
   },
   {
    "duration": 68,
    "start_time": "2021-08-08T19:41:54.138Z"
   },
   {
    "duration": 715,
    "start_time": "2021-08-08T19:42:10.515Z"
   },
   {
    "duration": 67,
    "start_time": "2021-08-08T19:42:19.545Z"
   },
   {
    "duration": 69,
    "start_time": "2021-08-08T19:42:28.991Z"
   },
   {
    "duration": 3709,
    "start_time": "2021-08-08T19:45:15.596Z"
   },
   {
    "duration": 45,
    "start_time": "2021-08-08T19:45:47.846Z"
   },
   {
    "duration": 444,
    "start_time": "2021-08-08T19:46:27.933Z"
   },
   {
    "duration": 42,
    "start_time": "2021-08-08T19:46:50.823Z"
   },
   {
    "duration": 41,
    "start_time": "2021-08-08T19:47:15.210Z"
   },
   {
    "duration": 41,
    "start_time": "2021-08-08T19:47:28.465Z"
   },
   {
    "duration": 412,
    "start_time": "2021-08-08T19:48:10.004Z"
   },
   {
    "duration": 363,
    "start_time": "2021-08-08T19:49:16.217Z"
   },
   {
    "duration": 472,
    "start_time": "2021-08-08T19:49:45.415Z"
   },
   {
    "duration": 550,
    "start_time": "2021-08-08T19:49:57.043Z"
   },
   {
    "duration": 1070,
    "start_time": "2021-08-08T19:50:15.224Z"
   },
   {
    "duration": 37,
    "start_time": "2021-08-08T20:12:30.122Z"
   },
   {
    "duration": 440,
    "start_time": "2021-08-08T20:13:07.016Z"
   },
   {
    "duration": 69,
    "start_time": "2021-08-08T20:13:19.743Z"
   },
   {
    "duration": 67,
    "start_time": "2021-08-08T20:13:39.030Z"
   },
   {
    "duration": 42,
    "start_time": "2021-08-08T20:21:31.000Z"
   },
   {
    "duration": 393,
    "start_time": "2021-08-08T20:22:21.906Z"
   },
   {
    "duration": 631,
    "start_time": "2021-08-08T20:22:39.448Z"
   },
   {
    "duration": 119,
    "start_time": "2021-08-08T20:33:53.214Z"
   },
   {
    "duration": 12,
    "start_time": "2021-08-08T20:46:03.390Z"
   },
   {
    "duration": 37,
    "start_time": "2021-08-08T20:58:32.802Z"
   },
   {
    "duration": 48,
    "start_time": "2021-08-08T20:59:00.245Z"
   },
   {
    "duration": 735,
    "start_time": "2021-08-08T21:22:32.885Z"
   },
   {
    "duration": 160,
    "start_time": "2021-08-08T21:23:08.152Z"
   },
   {
    "duration": 7,
    "start_time": "2021-08-08T21:23:08.895Z"
   },
   {
    "duration": 6,
    "start_time": "2021-08-08T21:25:51.366Z"
   },
   {
    "duration": 523,
    "start_time": "2021-08-08T21:37:19.041Z"
   },
   {
    "duration": 1607,
    "start_time": "2021-08-08T21:38:07.678Z"
   },
   {
    "duration": 1331,
    "start_time": "2021-08-08T21:38:09.288Z"
   },
   {
    "duration": 171,
    "start_time": "2021-08-08T21:38:10.623Z"
   },
   {
    "duration": 25,
    "start_time": "2021-08-08T21:38:10.797Z"
   },
   {
    "duration": 175,
    "start_time": "2021-08-08T21:38:10.824Z"
   },
   {
    "duration": 98,
    "start_time": "2021-08-08T21:38:11.002Z"
   },
   {
    "duration": 67,
    "start_time": "2021-08-08T21:38:11.103Z"
   },
   {
    "duration": 99,
    "start_time": "2021-08-08T21:38:11.186Z"
   },
   {
    "duration": 272,
    "start_time": "2021-08-08T21:38:11.288Z"
   },
   {
    "duration": 23,
    "start_time": "2021-08-08T21:38:11.562Z"
   },
   {
    "duration": 7,
    "start_time": "2021-08-08T21:38:11.588Z"
   },
   {
    "duration": 49,
    "start_time": "2021-08-08T21:38:11.598Z"
   },
   {
    "duration": 16,
    "start_time": "2021-08-08T21:38:11.650Z"
   },
   {
    "duration": 44,
    "start_time": "2021-08-08T21:38:11.669Z"
   },
   {
    "duration": 454,
    "start_time": "2021-08-08T21:38:11.716Z"
   },
   {
    "duration": 79,
    "start_time": "2021-08-08T21:38:12.173Z"
   },
   {
    "duration": 34,
    "start_time": "2021-08-08T21:38:12.255Z"
   },
   {
    "duration": 140,
    "start_time": "2021-08-08T21:38:12.291Z"
   },
   {
    "duration": 20,
    "start_time": "2021-08-08T21:38:12.434Z"
   },
   {
    "duration": 83,
    "start_time": "2021-08-08T21:38:12.457Z"
   },
   {
    "duration": 66,
    "start_time": "2021-08-08T21:38:12.542Z"
   },
   {
    "duration": 13,
    "start_time": "2021-08-08T21:38:12.610Z"
   },
   {
    "duration": 89,
    "start_time": "2021-08-08T21:38:12.630Z"
   },
   {
    "duration": 126,
    "start_time": "2021-08-08T21:38:12.722Z"
   },
   {
    "duration": 50,
    "start_time": "2021-08-08T21:38:12.850Z"
   },
   {
    "duration": 43,
    "start_time": "2021-08-08T21:38:12.903Z"
   },
   {
    "duration": 39,
    "start_time": "2021-08-08T21:38:12.950Z"
   },
   {
    "duration": 45,
    "start_time": "2021-08-08T21:38:12.992Z"
   },
   {
    "duration": 48,
    "start_time": "2021-08-08T21:38:13.040Z"
   },
   {
    "duration": 30,
    "start_time": "2021-08-08T21:38:13.091Z"
   },
   {
    "duration": 61,
    "start_time": "2021-08-08T21:38:13.124Z"
   },
   {
    "duration": 72,
    "start_time": "2021-08-08T21:38:13.189Z"
   },
   {
    "duration": 54,
    "start_time": "2021-08-08T21:38:13.264Z"
   },
   {
    "duration": 30,
    "start_time": "2021-08-08T21:38:13.321Z"
   },
   {
    "duration": 68,
    "start_time": "2021-08-08T21:38:13.354Z"
   },
   {
    "duration": 32,
    "start_time": "2021-08-08T21:38:13.425Z"
   },
   {
    "duration": 52,
    "start_time": "2021-08-08T21:38:13.461Z"
   },
   {
    "duration": 50,
    "start_time": "2021-08-08T21:38:13.516Z"
   },
   {
    "duration": 557,
    "start_time": "2021-08-08T21:38:13.568Z"
   },
   {
    "duration": 40,
    "start_time": "2021-08-08T21:38:14.128Z"
   },
   {
    "duration": 43,
    "start_time": "2021-08-08T21:38:14.170Z"
   },
   {
    "duration": 125,
    "start_time": "2021-08-08T21:38:14.215Z"
   },
   {
    "duration": 11,
    "start_time": "2021-08-08T21:38:14.342Z"
   },
   {
    "duration": 85,
    "start_time": "2021-08-08T21:38:14.356Z"
   },
   {
    "duration": 184,
    "start_time": "2021-08-08T21:38:14.444Z"
   },
   {
    "duration": 8,
    "start_time": "2021-08-08T21:38:14.631Z"
   },
   {
    "duration": 615,
    "start_time": "2021-08-08T21:38:14.641Z"
   },
   {
    "duration": 1764,
    "start_time": "2021-08-08T21:42:19.138Z"
   },
   {
    "duration": 374,
    "start_time": "2021-08-08T22:26:13.069Z"
   },
   {
    "duration": 5,
    "start_time": "2021-08-08T22:26:49.927Z"
   },
   {
    "duration": 1537,
    "start_time": "2021-08-08T22:27:02.427Z"
   },
   {
    "duration": 1121,
    "start_time": "2021-08-08T22:27:03.967Z"
   },
   {
    "duration": 160,
    "start_time": "2021-08-08T22:27:05.091Z"
   },
   {
    "duration": 38,
    "start_time": "2021-08-08T22:27:05.254Z"
   },
   {
    "duration": 160,
    "start_time": "2021-08-08T22:27:05.294Z"
   },
   {
    "duration": 87,
    "start_time": "2021-08-08T22:27:05.457Z"
   },
   {
    "duration": 79,
    "start_time": "2021-08-08T22:27:05.547Z"
   },
   {
    "duration": 100,
    "start_time": "2021-08-08T22:27:05.629Z"
   },
   {
    "duration": 268,
    "start_time": "2021-08-08T22:27:05.733Z"
   },
   {
    "duration": 12,
    "start_time": "2021-08-08T22:27:06.004Z"
   },
   {
    "duration": 7,
    "start_time": "2021-08-08T22:27:06.019Z"
   },
   {
    "duration": 32,
    "start_time": "2021-08-08T22:27:06.029Z"
   },
   {
    "duration": 34,
    "start_time": "2021-08-08T22:27:06.063Z"
   },
   {
    "duration": 23,
    "start_time": "2021-08-08T22:27:06.099Z"
   },
   {
    "duration": 341,
    "start_time": "2021-08-08T22:27:06.124Z"
   },
   {
    "duration": 77,
    "start_time": "2021-08-08T22:27:06.467Z"
   },
   {
    "duration": 21,
    "start_time": "2021-08-08T22:27:06.547Z"
   },
   {
    "duration": 143,
    "start_time": "2021-08-08T22:27:06.586Z"
   },
   {
    "duration": 20,
    "start_time": "2021-08-08T22:27:06.732Z"
   },
   {
    "duration": 93,
    "start_time": "2021-08-08T22:27:06.755Z"
   },
   {
    "duration": 59,
    "start_time": "2021-08-08T22:27:06.851Z"
   },
   {
    "duration": 12,
    "start_time": "2021-08-08T22:27:06.912Z"
   },
   {
    "duration": 91,
    "start_time": "2021-08-08T22:27:06.929Z"
   },
   {
    "duration": 122,
    "start_time": "2021-08-08T22:27:07.025Z"
   },
   {
    "duration": 45,
    "start_time": "2021-08-08T22:27:07.150Z"
   },
   {
    "duration": 32,
    "start_time": "2021-08-08T22:27:07.198Z"
   },
   {
    "duration": 23,
    "start_time": "2021-08-08T22:27:07.233Z"
   },
   {
    "duration": 56,
    "start_time": "2021-08-08T22:27:07.258Z"
   },
   {
    "duration": 24,
    "start_time": "2021-08-08T22:27:07.317Z"
   },
   {
    "duration": 18,
    "start_time": "2021-08-08T22:27:07.344Z"
   },
   {
    "duration": 26,
    "start_time": "2021-08-08T22:27:07.386Z"
   },
   {
    "duration": 40,
    "start_time": "2021-08-08T22:27:07.415Z"
   },
   {
    "duration": 45,
    "start_time": "2021-08-08T22:27:07.457Z"
   },
   {
    "duration": 18,
    "start_time": "2021-08-08T22:27:07.505Z"
   },
   {
    "duration": 64,
    "start_time": "2021-08-08T22:27:07.526Z"
   },
   {
    "duration": 27,
    "start_time": "2021-08-08T22:27:07.592Z"
   },
   {
    "duration": 41,
    "start_time": "2021-08-08T22:27:07.621Z"
   },
   {
    "duration": 39,
    "start_time": "2021-08-08T22:27:07.684Z"
   },
   {
    "duration": 528,
    "start_time": "2021-08-08T22:27:07.726Z"
   },
   {
    "duration": 47,
    "start_time": "2021-08-08T22:27:08.257Z"
   },
   {
    "duration": 25,
    "start_time": "2021-08-08T22:27:08.306Z"
   },
   {
    "duration": 126,
    "start_time": "2021-08-08T22:27:08.334Z"
   },
   {
    "duration": 22,
    "start_time": "2021-08-08T22:27:08.463Z"
   },
   {
    "duration": 39,
    "start_time": "2021-08-08T22:27:08.487Z"
   },
   {
    "duration": 1848,
    "start_time": "2021-08-08T22:27:08.529Z"
   },
   {
    "duration": -421,
    "start_time": "2021-08-08T22:27:10.800Z"
   },
   {
    "duration": -423,
    "start_time": "2021-08-08T22:27:10.804Z"
   },
   {
    "duration": -424,
    "start_time": "2021-08-08T22:27:10.806Z"
   },
   {
    "duration": 661,
    "start_time": "2021-08-08T22:27:37.177Z"
   },
   {
    "duration": 1000,
    "start_time": "2021-08-08T22:29:56.771Z"
   },
   {
    "duration": 1361,
    "start_time": "2021-08-08T22:54:10.472Z"
   },
   {
    "duration": 1615,
    "start_time": "2021-08-08T22:54:42.157Z"
   },
   {
    "duration": 1156,
    "start_time": "2021-08-08T22:54:43.775Z"
   },
   {
    "duration": 172,
    "start_time": "2021-08-08T22:54:44.938Z"
   },
   {
    "duration": 24,
    "start_time": "2021-08-08T22:54:45.113Z"
   },
   {
    "duration": 185,
    "start_time": "2021-08-08T22:54:45.139Z"
   },
   {
    "duration": 99,
    "start_time": "2021-08-08T22:54:45.327Z"
   },
   {
    "duration": 73,
    "start_time": "2021-08-08T22:54:45.430Z"
   },
   {
    "duration": 106,
    "start_time": "2021-08-08T22:54:45.506Z"
   },
   {
    "duration": 284,
    "start_time": "2021-08-08T22:54:45.614Z"
   },
   {
    "duration": 11,
    "start_time": "2021-08-08T22:54:45.901Z"
   },
   {
    "duration": 15,
    "start_time": "2021-08-08T22:54:45.914Z"
   },
   {
    "duration": 34,
    "start_time": "2021-08-08T22:54:45.931Z"
   },
   {
    "duration": 27,
    "start_time": "2021-08-08T22:54:45.968Z"
   },
   {
    "duration": 24,
    "start_time": "2021-08-08T22:54:45.997Z"
   },
   {
    "duration": 353,
    "start_time": "2021-08-08T22:54:46.024Z"
   },
   {
    "duration": 78,
    "start_time": "2021-08-08T22:54:46.385Z"
   },
   {
    "duration": 34,
    "start_time": "2021-08-08T22:54:46.465Z"
   },
   {
    "duration": 148,
    "start_time": "2021-08-08T22:54:46.502Z"
   },
   {
    "duration": 20,
    "start_time": "2021-08-08T22:54:46.652Z"
   },
   {
    "duration": 65,
    "start_time": "2021-08-08T22:54:46.686Z"
   },
   {
    "duration": 70,
    "start_time": "2021-08-08T22:54:46.753Z"
   },
   {
    "duration": 12,
    "start_time": "2021-08-08T22:54:46.828Z"
   },
   {
    "duration": 86,
    "start_time": "2021-08-08T22:54:46.843Z"
   },
   {
    "duration": 125,
    "start_time": "2021-08-08T22:54:46.931Z"
   },
   {
    "duration": 52,
    "start_time": "2021-08-08T22:54:47.058Z"
   },
   {
    "duration": 35,
    "start_time": "2021-08-08T22:54:47.112Z"
   },
   {
    "duration": 21,
    "start_time": "2021-08-08T22:54:47.149Z"
   },
   {
    "duration": 45,
    "start_time": "2021-08-08T22:54:47.185Z"
   },
   {
    "duration": 38,
    "start_time": "2021-08-08T22:54:47.232Z"
   },
   {
    "duration": 32,
    "start_time": "2021-08-08T22:54:47.272Z"
   },
   {
    "duration": 29,
    "start_time": "2021-08-08T22:54:47.306Z"
   },
   {
    "duration": 55,
    "start_time": "2021-08-08T22:54:47.338Z"
   },
   {
    "duration": 36,
    "start_time": "2021-08-08T22:54:47.395Z"
   },
   {
    "duration": 19,
    "start_time": "2021-08-08T22:54:47.434Z"
   },
   {
    "duration": 56,
    "start_time": "2021-08-08T22:54:47.455Z"
   },
   {
    "duration": 32,
    "start_time": "2021-08-08T22:54:47.514Z"
   },
   {
    "duration": 52,
    "start_time": "2021-08-08T22:54:47.548Z"
   },
   {
    "duration": 50,
    "start_time": "2021-08-08T22:54:47.602Z"
   },
   {
    "duration": 746,
    "start_time": "2021-08-08T22:54:47.655Z"
   },
   {
    "duration": 41,
    "start_time": "2021-08-08T22:54:48.403Z"
   },
   {
    "duration": 49,
    "start_time": "2021-08-08T22:54:48.446Z"
   },
   {
    "duration": 116,
    "start_time": "2021-08-08T22:54:48.498Z"
   },
   {
    "duration": 11,
    "start_time": "2021-08-08T22:54:48.617Z"
   },
   {
    "duration": 60,
    "start_time": "2021-08-08T22:54:48.630Z"
   },
   {
    "duration": 1915,
    "start_time": "2021-08-08T22:54:48.692Z"
   },
   {
    "duration": -409,
    "start_time": "2021-08-08T22:54:51.019Z"
   },
   {
    "duration": -413,
    "start_time": "2021-08-08T22:54:51.024Z"
   },
   {
    "duration": -415,
    "start_time": "2021-08-08T22:54:51.028Z"
   },
   {
    "duration": 1665,
    "start_time": "2021-08-08T23:04:07.322Z"
   },
   {
    "duration": 1154,
    "start_time": "2021-08-08T23:04:08.991Z"
   },
   {
    "duration": 166,
    "start_time": "2021-08-08T23:04:10.149Z"
   },
   {
    "duration": 23,
    "start_time": "2021-08-08T23:04:10.318Z"
   },
   {
    "duration": 178,
    "start_time": "2021-08-08T23:04:10.344Z"
   },
   {
    "duration": 103,
    "start_time": "2021-08-08T23:04:10.524Z"
   },
   {
    "duration": 71,
    "start_time": "2021-08-08T23:04:10.629Z"
   },
   {
    "duration": 105,
    "start_time": "2021-08-08T23:04:10.702Z"
   },
   {
    "duration": 261,
    "start_time": "2021-08-08T23:04:10.810Z"
   },
   {
    "duration": 14,
    "start_time": "2021-08-08T23:04:11.074Z"
   },
   {
    "duration": 7,
    "start_time": "2021-08-08T23:04:11.091Z"
   },
   {
    "duration": 25,
    "start_time": "2021-08-08T23:04:11.100Z"
   },
   {
    "duration": 12,
    "start_time": "2021-08-08T23:04:11.128Z"
   },
   {
    "duration": 60,
    "start_time": "2021-08-08T23:04:11.142Z"
   },
   {
    "duration": 314,
    "start_time": "2021-08-08T23:04:11.205Z"
   },
   {
    "duration": 81,
    "start_time": "2021-08-08T23:04:11.522Z"
   },
   {
    "duration": 25,
    "start_time": "2021-08-08T23:04:11.606Z"
   },
   {
    "duration": 170,
    "start_time": "2021-08-08T23:04:11.635Z"
   },
   {
    "duration": 23,
    "start_time": "2021-08-08T23:04:11.807Z"
   },
   {
    "duration": 91,
    "start_time": "2021-08-08T23:04:11.832Z"
   },
   {
    "duration": 68,
    "start_time": "2021-08-08T23:04:11.926Z"
   },
   {
    "duration": 12,
    "start_time": "2021-08-08T23:04:11.997Z"
   },
   {
    "duration": 85,
    "start_time": "2021-08-08T23:04:12.012Z"
   },
   {
    "duration": 128,
    "start_time": "2021-08-08T23:04:12.099Z"
   },
   {
    "duration": 40,
    "start_time": "2021-08-08T23:04:12.229Z"
   },
   {
    "duration": 25,
    "start_time": "2021-08-08T23:04:12.285Z"
   },
   {
    "duration": 18,
    "start_time": "2021-08-08T23:04:12.315Z"
   },
   {
    "duration": 61,
    "start_time": "2021-08-08T23:04:12.336Z"
   },
   {
    "duration": 34,
    "start_time": "2021-08-08T23:04:12.400Z"
   },
   {
    "duration": 19,
    "start_time": "2021-08-08T23:04:12.436Z"
   },
   {
    "duration": 42,
    "start_time": "2021-08-08T23:04:12.458Z"
   },
   {
    "duration": 48,
    "start_time": "2021-08-08T23:04:12.502Z"
   },
   {
    "duration": 33,
    "start_time": "2021-08-08T23:04:12.553Z"
   },
   {
    "duration": 19,
    "start_time": "2021-08-08T23:04:12.589Z"
   },
   {
    "duration": 48,
    "start_time": "2021-08-08T23:04:12.611Z"
   },
   {
    "duration": 41,
    "start_time": "2021-08-08T23:04:12.662Z"
   },
   {
    "duration": 43,
    "start_time": "2021-08-08T23:04:12.705Z"
   },
   {
    "duration": 60,
    "start_time": "2021-08-08T23:04:12.751Z"
   },
   {
    "duration": 535,
    "start_time": "2021-08-08T23:04:12.814Z"
   },
   {
    "duration": 47,
    "start_time": "2021-08-08T23:04:13.352Z"
   },
   {
    "duration": 35,
    "start_time": "2021-08-08T23:04:13.402Z"
   },
   {
    "duration": 125,
    "start_time": "2021-08-08T23:04:13.440Z"
   },
   {
    "duration": 20,
    "start_time": "2021-08-08T23:04:13.568Z"
   },
   {
    "duration": 40,
    "start_time": "2021-08-08T23:04:13.590Z"
   },
   {
    "duration": 1917,
    "start_time": "2021-08-08T23:04:13.633Z"
   },
   {
    "duration": -431,
    "start_time": "2021-08-08T23:04:15.984Z"
   },
   {
    "duration": -434,
    "start_time": "2021-08-08T23:04:15.988Z"
   },
   {
    "duration": -435,
    "start_time": "2021-08-08T23:04:15.991Z"
   },
   {
    "duration": 396,
    "start_time": "2021-08-08T23:20:19.040Z"
   },
   {
    "duration": 451,
    "start_time": "2021-08-08T23:20:41.963Z"
   },
   {
    "duration": 9,
    "start_time": "2021-08-08T23:21:52.014Z"
   },
   {
    "duration": 12,
    "start_time": "2021-08-08T23:22:14.248Z"
   },
   {
    "duration": 11,
    "start_time": "2021-08-08T23:22:27.508Z"
   },
   {
    "duration": 2623,
    "start_time": "2021-08-08T23:29:03.464Z"
   },
   {
    "duration": 1429,
    "start_time": "2021-08-08T23:29:32.233Z"
   },
   {
    "duration": 1205,
    "start_time": "2021-08-08T23:29:33.665Z"
   },
   {
    "duration": 165,
    "start_time": "2021-08-08T23:29:34.874Z"
   },
   {
    "duration": 24,
    "start_time": "2021-08-08T23:29:35.041Z"
   },
   {
    "duration": 179,
    "start_time": "2021-08-08T23:29:35.067Z"
   },
   {
    "duration": 92,
    "start_time": "2021-08-08T23:29:35.248Z"
   },
   {
    "duration": 77,
    "start_time": "2021-08-08T23:29:35.343Z"
   },
   {
    "duration": 98,
    "start_time": "2021-08-08T23:29:35.424Z"
   },
   {
    "duration": 268,
    "start_time": "2021-08-08T23:29:35.525Z"
   },
   {
    "duration": 11,
    "start_time": "2021-08-08T23:29:35.795Z"
   },
   {
    "duration": 9,
    "start_time": "2021-08-08T23:29:35.809Z"
   },
   {
    "duration": 46,
    "start_time": "2021-08-08T23:29:35.821Z"
   },
   {
    "duration": 22,
    "start_time": "2021-08-08T23:29:35.869Z"
   },
   {
    "duration": 22,
    "start_time": "2021-08-08T23:29:35.895Z"
   },
   {
    "duration": 317,
    "start_time": "2021-08-08T23:29:35.920Z"
   },
   {
    "duration": 85,
    "start_time": "2021-08-08T23:29:36.239Z"
   },
   {
    "duration": 20,
    "start_time": "2021-08-08T23:29:36.327Z"
   },
   {
    "duration": 151,
    "start_time": "2021-08-08T23:29:36.349Z"
   },
   {
    "duration": 21,
    "start_time": "2021-08-08T23:29:36.503Z"
   },
   {
    "duration": 84,
    "start_time": "2021-08-08T23:29:36.526Z"
   },
   {
    "duration": 47,
    "start_time": "2021-08-08T23:29:36.613Z"
   },
   {
    "duration": 30,
    "start_time": "2021-08-08T23:29:36.663Z"
   },
   {
    "duration": 85,
    "start_time": "2021-08-08T23:29:36.700Z"
   },
   {
    "duration": 126,
    "start_time": "2021-08-08T23:29:36.789Z"
   },
   {
    "duration": 42,
    "start_time": "2021-08-08T23:29:36.918Z"
   },
   {
    "duration": 26,
    "start_time": "2021-08-08T23:29:36.986Z"
   },
   {
    "duration": 22,
    "start_time": "2021-08-08T23:29:37.015Z"
   },
   {
    "duration": 67,
    "start_time": "2021-08-08T23:29:37.040Z"
   },
   {
    "duration": 28,
    "start_time": "2021-08-08T23:29:37.110Z"
   },
   {
    "duration": 20,
    "start_time": "2021-08-08T23:29:37.141Z"
   },
   {
    "duration": 48,
    "start_time": "2021-08-08T23:29:37.163Z"
   },
   {
    "duration": 43,
    "start_time": "2021-08-08T23:29:37.214Z"
   },
   {
    "duration": 51,
    "start_time": "2021-08-08T23:29:37.260Z"
   },
   {
    "duration": 20,
    "start_time": "2021-08-08T23:29:37.314Z"
   },
   {
    "duration": 66,
    "start_time": "2021-08-08T23:29:37.336Z"
   },
   {
    "duration": 23,
    "start_time": "2021-08-08T23:29:37.404Z"
   },
   {
    "duration": 56,
    "start_time": "2021-08-08T23:29:37.429Z"
   },
   {
    "duration": 43,
    "start_time": "2021-08-08T23:29:37.488Z"
   },
   {
    "duration": 526,
    "start_time": "2021-08-08T23:29:37.534Z"
   },
   {
    "duration": 45,
    "start_time": "2021-08-08T23:29:38.062Z"
   },
   {
    "duration": 26,
    "start_time": "2021-08-08T23:29:38.110Z"
   },
   {
    "duration": 124,
    "start_time": "2021-08-08T23:29:38.138Z"
   },
   {
    "duration": 21,
    "start_time": "2021-08-08T23:29:38.265Z"
   },
   {
    "duration": 40,
    "start_time": "2021-08-08T23:29:38.289Z"
   },
   {
    "duration": 2902,
    "start_time": "2021-08-08T23:29:38.331Z"
   },
   {
    "duration": -385,
    "start_time": "2021-08-08T23:29:41.620Z"
   },
   {
    "duration": -391,
    "start_time": "2021-08-08T23:29:41.628Z"
   },
   {
    "duration": -397,
    "start_time": "2021-08-08T23:29:41.635Z"
   },
   {
    "duration": 3047,
    "start_time": "2021-08-08T23:30:26.115Z"
   },
   {
    "duration": 160,
    "start_time": "2021-08-08T23:31:12.447Z"
   },
   {
    "duration": 1566,
    "start_time": "2021-08-08T23:31:41.210Z"
   },
   {
    "duration": 1123,
    "start_time": "2021-08-08T23:31:42.779Z"
   },
   {
    "duration": 163,
    "start_time": "2021-08-08T23:31:43.905Z"
   },
   {
    "duration": 31,
    "start_time": "2021-08-08T23:31:44.070Z"
   },
   {
    "duration": 166,
    "start_time": "2021-08-08T23:31:44.104Z"
   },
   {
    "duration": 90,
    "start_time": "2021-08-08T23:31:44.272Z"
   },
   {
    "duration": 75,
    "start_time": "2021-08-08T23:31:44.364Z"
   },
   {
    "duration": 103,
    "start_time": "2021-08-08T23:31:44.442Z"
   },
   {
    "duration": 274,
    "start_time": "2021-08-08T23:31:44.548Z"
   },
   {
    "duration": 10,
    "start_time": "2021-08-08T23:31:44.825Z"
   },
   {
    "duration": 8,
    "start_time": "2021-08-08T23:31:44.838Z"
   },
   {
    "duration": 46,
    "start_time": "2021-08-08T23:31:44.848Z"
   },
   {
    "duration": 12,
    "start_time": "2021-08-08T23:31:44.897Z"
   },
   {
    "duration": 30,
    "start_time": "2021-08-08T23:31:44.911Z"
   },
   {
    "duration": 343,
    "start_time": "2021-08-08T23:31:44.944Z"
   },
   {
    "duration": 74,
    "start_time": "2021-08-08T23:31:45.290Z"
   },
   {
    "duration": 38,
    "start_time": "2021-08-08T23:31:45.367Z"
   },
   {
    "duration": 157,
    "start_time": "2021-08-08T23:31:45.408Z"
   },
   {
    "duration": 32,
    "start_time": "2021-08-08T23:31:45.567Z"
   },
   {
    "duration": 89,
    "start_time": "2021-08-08T23:31:45.602Z"
   },
   {
    "duration": 51,
    "start_time": "2021-08-08T23:31:45.693Z"
   },
   {
    "duration": 12,
    "start_time": "2021-08-08T23:31:45.746Z"
   },
   {
    "duration": 68,
    "start_time": "2021-08-08T23:31:45.788Z"
   },
   {
    "duration": 129,
    "start_time": "2021-08-08T23:31:45.859Z"
   },
   {
    "duration": 41,
    "start_time": "2021-08-08T23:31:45.991Z"
   },
   {
    "duration": 40,
    "start_time": "2021-08-08T23:31:46.035Z"
   },
   {
    "duration": 19,
    "start_time": "2021-08-08T23:31:46.086Z"
   },
   {
    "duration": 44,
    "start_time": "2021-08-08T23:31:46.108Z"
   },
   {
    "duration": 48,
    "start_time": "2021-08-08T23:31:46.155Z"
   },
   {
    "duration": 22,
    "start_time": "2021-08-08T23:31:46.205Z"
   },
   {
    "duration": 29,
    "start_time": "2021-08-08T23:31:46.230Z"
   },
   {
    "duration": 62,
    "start_time": "2021-08-08T23:31:46.262Z"
   },
   {
    "duration": 39,
    "start_time": "2021-08-08T23:31:46.326Z"
   },
   {
    "duration": 31,
    "start_time": "2021-08-08T23:31:46.368Z"
   },
   {
    "duration": 47,
    "start_time": "2021-08-08T23:31:46.401Z"
   },
   {
    "duration": 44,
    "start_time": "2021-08-08T23:31:46.450Z"
   },
   {
    "duration": 50,
    "start_time": "2021-08-08T23:31:46.496Z"
   },
   {
    "duration": 56,
    "start_time": "2021-08-08T23:31:46.549Z"
   },
   {
    "duration": 577,
    "start_time": "2021-08-08T23:31:46.608Z"
   },
   {
    "duration": 42,
    "start_time": "2021-08-08T23:31:47.187Z"
   },
   {
    "duration": 31,
    "start_time": "2021-08-08T23:31:47.232Z"
   },
   {
    "duration": 113,
    "start_time": "2021-08-08T23:31:47.286Z"
   },
   {
    "duration": 11,
    "start_time": "2021-08-08T23:31:47.402Z"
   },
   {
    "duration": 40,
    "start_time": "2021-08-08T23:31:47.416Z"
   },
   {
    "duration": 180,
    "start_time": "2021-08-08T23:31:47.458Z"
   },
   {
    "duration": 177,
    "start_time": "2021-08-08T23:31:47.640Z"
   },
   {
    "duration": 6,
    "start_time": "2021-08-08T23:31:47.820Z"
   },
   {
    "duration": 1977,
    "start_time": "2021-08-08T23:31:47.828Z"
   },
   {
    "duration": 1262,
    "start_time": "2021-08-08T23:32:52.601Z"
   },
   {
    "duration": 911,
    "start_time": "2021-08-08T23:33:28.536Z"
   },
   {
    "duration": 79,
    "start_time": "2021-08-08T23:33:31.046Z"
   },
   {
    "duration": 6,
    "start_time": "2021-08-08T23:33:32.389Z"
   },
   {
    "duration": 1911,
    "start_time": "2021-08-08T23:33:33.962Z"
   },
   {
    "duration": 40,
    "start_time": "2021-08-08T23:36:48.419Z"
   },
   {
    "duration": 385,
    "start_time": "2021-08-08T23:37:02.942Z"
   },
   {
    "duration": 1430,
    "start_time": "2021-08-08T23:37:18.925Z"
   },
   {
    "duration": 1275,
    "start_time": "2021-08-08T23:37:20.358Z"
   },
   {
    "duration": 162,
    "start_time": "2021-08-08T23:37:21.636Z"
   },
   {
    "duration": 24,
    "start_time": "2021-08-08T23:37:21.801Z"
   },
   {
    "duration": 173,
    "start_time": "2021-08-08T23:37:21.828Z"
   },
   {
    "duration": 98,
    "start_time": "2021-08-08T23:37:22.003Z"
   },
   {
    "duration": 59,
    "start_time": "2021-08-08T23:37:22.104Z"
   },
   {
    "duration": 104,
    "start_time": "2021-08-08T23:37:22.165Z"
   },
   {
    "duration": 266,
    "start_time": "2021-08-08T23:37:22.273Z"
   },
   {
    "duration": 11,
    "start_time": "2021-08-08T23:37:22.543Z"
   },
   {
    "duration": 7,
    "start_time": "2021-08-08T23:37:22.556Z"
   },
   {
    "duration": 22,
    "start_time": "2021-08-08T23:37:22.585Z"
   },
   {
    "duration": 12,
    "start_time": "2021-08-08T23:37:22.609Z"
   },
   {
    "duration": 73,
    "start_time": "2021-08-08T23:37:22.624Z"
   },
   {
    "duration": 21,
    "start_time": "2021-08-08T23:37:22.699Z"
   },
   {
    "duration": 605,
    "start_time": "2021-08-08T23:37:22.723Z"
   },
   {
    "duration": 74,
    "start_time": "2021-08-08T23:37:23.385Z"
   },
   {
    "duration": 21,
    "start_time": "2021-08-08T23:37:23.486Z"
   },
   {
    "duration": 155,
    "start_time": "2021-08-08T23:37:23.510Z"
   },
   {
    "duration": 24,
    "start_time": "2021-08-08T23:37:23.668Z"
   },
   {
    "duration": 67,
    "start_time": "2021-08-08T23:37:23.695Z"
   },
   {
    "duration": 52,
    "start_time": "2021-08-08T23:37:23.785Z"
   },
   {
    "duration": 12,
    "start_time": "2021-08-08T23:37:23.839Z"
   },
   {
    "duration": 94,
    "start_time": "2021-08-08T23:37:23.853Z"
   },
   {
    "duration": 121,
    "start_time": "2021-08-08T23:37:23.950Z"
   },
   {
    "duration": 49,
    "start_time": "2021-08-08T23:37:24.074Z"
   },
   {
    "duration": 24,
    "start_time": "2021-08-08T23:37:24.128Z"
   },
   {
    "duration": 39,
    "start_time": "2021-08-08T23:37:24.155Z"
   },
   {
    "duration": 37,
    "start_time": "2021-08-08T23:37:24.197Z"
   },
   {
    "duration": 51,
    "start_time": "2021-08-08T23:37:24.237Z"
   },
   {
    "duration": 18,
    "start_time": "2021-08-08T23:37:24.290Z"
   },
   {
    "duration": 25,
    "start_time": "2021-08-08T23:37:24.311Z"
   },
   {
    "duration": 65,
    "start_time": "2021-08-08T23:37:24.338Z"
   },
   {
    "duration": 27,
    "start_time": "2021-08-08T23:37:24.405Z"
   },
   {
    "duration": 51,
    "start_time": "2021-08-08T23:37:24.434Z"
   },
   {
    "duration": 40,
    "start_time": "2021-08-08T23:37:24.488Z"
   },
   {
    "duration": 33,
    "start_time": "2021-08-08T23:37:24.530Z"
   },
   {
    "duration": 50,
    "start_time": "2021-08-08T23:37:24.565Z"
   },
   {
    "duration": 44,
    "start_time": "2021-08-08T23:37:24.618Z"
   },
   {
    "duration": 541,
    "start_time": "2021-08-08T23:37:24.665Z"
   },
   {
    "duration": 39,
    "start_time": "2021-08-08T23:37:25.208Z"
   },
   {
    "duration": 48,
    "start_time": "2021-08-08T23:37:25.249Z"
   },
   {
    "duration": 114,
    "start_time": "2021-08-08T23:37:25.299Z"
   },
   {
    "duration": 12,
    "start_time": "2021-08-08T23:37:25.415Z"
   },
   {
    "duration": 55,
    "start_time": "2021-08-08T23:37:25.430Z"
   },
   {
    "duration": 1206,
    "start_time": "2021-08-08T23:37:25.488Z"
   },
   {
    "duration": 89,
    "start_time": "2021-08-08T23:37:26.696Z"
   },
   {
    "duration": 5,
    "start_time": "2021-08-08T23:37:26.788Z"
   },
   {
    "duration": 121,
    "start_time": "2021-08-08T23:37:26.795Z"
   },
   {
    "duration": 574,
    "start_time": "2021-08-08T23:39:15.139Z"
   },
   {
    "duration": 1605,
    "start_time": "2021-08-08T23:39:22.392Z"
   },
   {
    "duration": 1123,
    "start_time": "2021-08-08T23:39:24.001Z"
   },
   {
    "duration": 162,
    "start_time": "2021-08-08T23:39:25.127Z"
   },
   {
    "duration": 24,
    "start_time": "2021-08-08T23:39:25.292Z"
   },
   {
    "duration": 182,
    "start_time": "2021-08-08T23:39:25.318Z"
   },
   {
    "duration": 101,
    "start_time": "2021-08-08T23:39:25.502Z"
   },
   {
    "duration": 63,
    "start_time": "2021-08-08T23:39:25.605Z"
   },
   {
    "duration": 116,
    "start_time": "2021-08-08T23:39:25.671Z"
   },
   {
    "duration": 269,
    "start_time": "2021-08-08T23:39:25.790Z"
   },
   {
    "duration": 11,
    "start_time": "2021-08-08T23:39:26.061Z"
   },
   {
    "duration": 14,
    "start_time": "2021-08-08T23:39:26.074Z"
   },
   {
    "duration": 27,
    "start_time": "2021-08-08T23:39:26.090Z"
   },
   {
    "duration": 12,
    "start_time": "2021-08-08T23:39:26.120Z"
   },
   {
    "duration": 73,
    "start_time": "2021-08-08T23:39:26.135Z"
   },
   {
    "duration": 22,
    "start_time": "2021-08-08T23:39:26.211Z"
   },
   {
    "duration": 328,
    "start_time": "2021-08-08T23:39:26.237Z"
   },
   {
    "duration": 73,
    "start_time": "2021-08-08T23:39:26.567Z"
   },
   {
    "duration": 21,
    "start_time": "2021-08-08T23:39:26.642Z"
   },
   {
    "duration": 160,
    "start_time": "2021-08-08T23:39:26.665Z"
   },
   {
    "duration": 21,
    "start_time": "2021-08-08T23:39:26.828Z"
   },
   {
    "duration": 86,
    "start_time": "2021-08-08T23:39:26.851Z"
   },
   {
    "duration": 63,
    "start_time": "2021-08-08T23:39:26.940Z"
   },
   {
    "duration": 12,
    "start_time": "2021-08-08T23:39:27.009Z"
   },
   {
    "duration": 86,
    "start_time": "2021-08-08T23:39:27.024Z"
   },
   {
    "duration": 112,
    "start_time": "2021-08-08T23:39:27.113Z"
   },
   {
    "duration": 40,
    "start_time": "2021-08-08T23:39:27.228Z"
   },
   {
    "duration": 22,
    "start_time": "2021-08-08T23:39:27.285Z"
   },
   {
    "duration": 18,
    "start_time": "2021-08-08T23:39:27.310Z"
   },
   {
    "duration": 60,
    "start_time": "2021-08-08T23:39:27.330Z"
   },
   {
    "duration": 23,
    "start_time": "2021-08-08T23:39:27.392Z"
   },
   {
    "duration": 18,
    "start_time": "2021-08-08T23:39:27.417Z"
   },
   {
    "duration": 52,
    "start_time": "2021-08-08T23:39:27.437Z"
   },
   {
    "duration": 41,
    "start_time": "2021-08-08T23:39:27.492Z"
   },
   {
    "duration": 30,
    "start_time": "2021-08-08T23:39:27.535Z"
   },
   {
    "duration": 30,
    "start_time": "2021-08-08T23:39:27.567Z"
   },
   {
    "duration": 42,
    "start_time": "2021-08-08T23:39:27.600Z"
   },
   {
    "duration": 50,
    "start_time": "2021-08-08T23:39:27.644Z"
   },
   {
    "duration": 41,
    "start_time": "2021-08-08T23:39:27.697Z"
   },
   {
    "duration": 63,
    "start_time": "2021-08-08T23:39:27.740Z"
   },
   {
    "duration": 528,
    "start_time": "2021-08-08T23:39:27.805Z"
   },
   {
    "duration": 51,
    "start_time": "2021-08-08T23:39:28.336Z"
   },
   {
    "duration": 35,
    "start_time": "2021-08-08T23:39:28.390Z"
   },
   {
    "duration": 119,
    "start_time": "2021-08-08T23:39:28.427Z"
   },
   {
    "duration": 11,
    "start_time": "2021-08-08T23:39:28.549Z"
   },
   {
    "duration": 46,
    "start_time": "2021-08-08T23:39:28.563Z"
   },
   {
    "duration": 1235,
    "start_time": "2021-08-08T23:39:28.611Z"
   },
   {
    "duration": 87,
    "start_time": "2021-08-08T23:39:29.849Z"
   },
   {
    "duration": 6,
    "start_time": "2021-08-08T23:39:29.938Z"
   },
   {
    "duration": 138,
    "start_time": "2021-08-08T23:39:29.947Z"
   },
   {
    "duration": 225,
    "start_time": "2021-08-09T06:43:09.985Z"
   },
   {
    "duration": 1144,
    "start_time": "2021-08-09T06:43:15.984Z"
   },
   {
    "duration": 800,
    "start_time": "2021-08-09T06:43:17.130Z"
   },
   {
    "duration": 126,
    "start_time": "2021-08-09T06:43:17.932Z"
   },
   {
    "duration": 26,
    "start_time": "2021-08-09T06:43:18.060Z"
   },
   {
    "duration": 125,
    "start_time": "2021-08-09T06:43:18.088Z"
   },
   {
    "duration": 59,
    "start_time": "2021-08-09T06:43:18.215Z"
   },
   {
    "duration": 43,
    "start_time": "2021-08-09T06:43:18.285Z"
   },
   {
    "duration": 77,
    "start_time": "2021-08-09T06:43:18.330Z"
   },
   {
    "duration": 188,
    "start_time": "2021-08-09T06:43:18.410Z"
   },
   {
    "duration": 10,
    "start_time": "2021-08-09T06:43:18.601Z"
   },
   {
    "duration": 9,
    "start_time": "2021-08-09T06:43:18.612Z"
   },
   {
    "duration": 19,
    "start_time": "2021-08-09T06:43:18.623Z"
   },
   {
    "duration": 8,
    "start_time": "2021-08-09T06:43:18.644Z"
   },
   {
    "duration": 54,
    "start_time": "2021-08-09T06:43:18.653Z"
   },
   {
    "duration": 19,
    "start_time": "2021-08-09T06:43:18.708Z"
   },
   {
    "duration": 224,
    "start_time": "2021-08-09T06:43:18.729Z"
   },
   {
    "duration": 58,
    "start_time": "2021-08-09T06:43:18.955Z"
   },
   {
    "duration": 18,
    "start_time": "2021-08-09T06:43:19.014Z"
   },
   {
    "duration": 112,
    "start_time": "2021-08-09T06:43:19.034Z"
   },
   {
    "duration": 17,
    "start_time": "2021-08-09T06:43:19.148Z"
   },
   {
    "duration": 59,
    "start_time": "2021-08-09T06:43:19.167Z"
   },
   {
    "duration": 34,
    "start_time": "2021-08-09T06:43:19.228Z"
   },
   {
    "duration": 25,
    "start_time": "2021-08-09T06:43:19.264Z"
   },
   {
    "duration": 37,
    "start_time": "2021-08-09T06:43:19.291Z"
   },
   {
    "duration": 91,
    "start_time": "2021-08-09T06:43:19.330Z"
   },
   {
    "duration": 31,
    "start_time": "2021-08-09T06:43:19.423Z"
   },
   {
    "duration": 33,
    "start_time": "2021-08-09T06:43:19.458Z"
   },
   {
    "duration": 15,
    "start_time": "2021-08-09T06:43:19.494Z"
   },
   {
    "duration": 31,
    "start_time": "2021-08-09T06:43:19.511Z"
   },
   {
    "duration": 21,
    "start_time": "2021-08-09T06:43:19.544Z"
   },
   {
    "duration": 31,
    "start_time": "2021-08-09T06:43:19.567Z"
   },
   {
    "duration": 21,
    "start_time": "2021-08-09T06:43:19.600Z"
   },
   {
    "duration": 33,
    "start_time": "2021-08-09T06:43:19.623Z"
   },
   {
    "duration": 37,
    "start_time": "2021-08-09T06:43:19.658Z"
   },
   {
    "duration": 15,
    "start_time": "2021-08-09T06:43:19.697Z"
   },
   {
    "duration": 32,
    "start_time": "2021-08-09T06:43:19.714Z"
   },
   {
    "duration": 38,
    "start_time": "2021-08-09T06:43:19.747Z"
   },
   {
    "duration": 31,
    "start_time": "2021-08-09T06:43:19.787Z"
   },
   {
    "duration": 35,
    "start_time": "2021-08-09T06:43:19.820Z"
   },
   {
    "duration": 359,
    "start_time": "2021-08-09T06:43:19.857Z"
   },
   {
    "duration": 29,
    "start_time": "2021-08-09T06:43:20.218Z"
   },
   {
    "duration": 20,
    "start_time": "2021-08-09T06:43:20.249Z"
   },
   {
    "duration": 92,
    "start_time": "2021-08-09T06:43:20.270Z"
   },
   {
    "duration": 6,
    "start_time": "2021-08-09T06:43:20.364Z"
   },
   {
    "duration": 18,
    "start_time": "2021-08-09T06:43:20.385Z"
   },
   {
    "duration": 852,
    "start_time": "2021-08-09T06:43:20.405Z"
   },
   {
    "duration": 68,
    "start_time": "2021-08-09T06:43:21.259Z"
   },
   {
    "duration": 3,
    "start_time": "2021-08-09T06:43:21.329Z"
   },
   {
    "duration": 112,
    "start_time": "2021-08-09T06:43:21.334Z"
   },
   {
    "duration": 4,
    "start_time": "2021-08-09T06:43:21.448Z"
   },
   {
    "duration": 4,
    "start_time": "2021-08-09T06:43:47.307Z"
   },
   {
    "duration": 5,
    "start_time": "2021-08-09T06:45:13.714Z"
   },
   {
    "duration": 4,
    "start_time": "2021-08-09T06:45:20.224Z"
   },
   {
    "duration": 585,
    "start_time": "2021-08-10T19:20:15.351Z"
   },
   {
    "duration": 1618,
    "start_time": "2021-08-10T19:20:22.948Z"
   },
   {
    "duration": 1087,
    "start_time": "2021-08-10T19:20:24.569Z"
   },
   {
    "duration": 167,
    "start_time": "2021-08-10T19:20:25.659Z"
   },
   {
    "duration": 23,
    "start_time": "2021-08-10T19:20:25.829Z"
   },
   {
    "duration": 172,
    "start_time": "2021-08-10T19:20:25.854Z"
   },
   {
    "duration": 104,
    "start_time": "2021-08-10T19:20:26.028Z"
   },
   {
    "duration": 70,
    "start_time": "2021-08-10T19:20:26.135Z"
   },
   {
    "duration": 102,
    "start_time": "2021-08-10T19:20:26.209Z"
   },
   {
    "duration": 255,
    "start_time": "2021-08-10T19:20:26.314Z"
   },
   {
    "duration": 19,
    "start_time": "2021-08-10T19:20:26.571Z"
   },
   {
    "duration": 6,
    "start_time": "2021-08-10T19:20:26.593Z"
   },
   {
    "duration": 29,
    "start_time": "2021-08-10T19:20:26.601Z"
   },
   {
    "duration": 12,
    "start_time": "2021-08-10T19:20:26.632Z"
   },
   {
    "duration": 79,
    "start_time": "2021-08-10T19:20:26.646Z"
   },
   {
    "duration": 21,
    "start_time": "2021-08-10T19:20:26.728Z"
   },
   {
    "duration": 314,
    "start_time": "2021-08-10T19:20:26.751Z"
   },
   {
    "duration": 71,
    "start_time": "2021-08-10T19:20:27.067Z"
   },
   {
    "duration": 19,
    "start_time": "2021-08-10T19:20:27.140Z"
   },
   {
    "duration": 159,
    "start_time": "2021-08-10T19:20:27.162Z"
   },
   {
    "duration": 19,
    "start_time": "2021-08-10T19:20:27.324Z"
   },
   {
    "duration": 94,
    "start_time": "2021-08-10T19:20:27.346Z"
   },
   {
    "duration": 64,
    "start_time": "2021-08-10T19:20:27.442Z"
   },
   {
    "duration": 11,
    "start_time": "2021-08-10T19:20:27.513Z"
   },
   {
    "duration": 83,
    "start_time": "2021-08-10T19:20:27.527Z"
   },
   {
    "duration": 115,
    "start_time": "2021-08-10T19:20:27.613Z"
   },
   {
    "duration": 40,
    "start_time": "2021-08-10T19:20:27.730Z"
   },
   {
    "duration": 23,
    "start_time": "2021-08-10T19:20:27.785Z"
   },
   {
    "duration": 23,
    "start_time": "2021-08-10T19:20:27.810Z"
   },
   {
    "duration": 57,
    "start_time": "2021-08-10T19:20:27.835Z"
   },
   {
    "duration": 37,
    "start_time": "2021-08-10T19:20:27.894Z"
   },
   {
    "duration": 27,
    "start_time": "2021-08-10T19:20:27.933Z"
   },
   {
    "duration": 34,
    "start_time": "2021-08-10T19:20:27.963Z"
   },
   {
    "duration": 61,
    "start_time": "2021-08-10T19:20:27.999Z"
   },
   {
    "duration": 45,
    "start_time": "2021-08-10T19:20:28.062Z"
   },
   {
    "duration": 30,
    "start_time": "2021-08-10T19:20:28.110Z"
   },
   {
    "duration": 50,
    "start_time": "2021-08-10T19:20:28.143Z"
   },
   {
    "duration": 35,
    "start_time": "2021-08-10T19:20:28.195Z"
   },
   {
    "duration": 49,
    "start_time": "2021-08-10T19:20:28.232Z"
   },
   {
    "duration": 44,
    "start_time": "2021-08-10T19:20:28.286Z"
   },
   {
    "duration": 507,
    "start_time": "2021-08-10T19:20:28.332Z"
   },
   {
    "duration": 53,
    "start_time": "2021-08-10T19:20:28.841Z"
   },
   {
    "duration": 29,
    "start_time": "2021-08-10T19:20:28.897Z"
   },
   {
    "duration": 123,
    "start_time": "2021-08-10T19:20:28.929Z"
   },
   {
    "duration": 11,
    "start_time": "2021-08-10T19:20:29.055Z"
   },
   {
    "duration": 43,
    "start_time": "2021-08-10T19:20:29.069Z"
   },
   {
    "duration": 1190,
    "start_time": "2021-08-10T19:20:29.114Z"
   },
   {
    "duration": 98,
    "start_time": "2021-08-10T19:20:30.307Z"
   },
   {
    "duration": 6,
    "start_time": "2021-08-10T19:20:30.407Z"
   },
   {
    "duration": 135,
    "start_time": "2021-08-10T19:20:30.417Z"
   },
   {
    "duration": 608,
    "start_time": "2021-08-10T19:20:30.555Z"
   },
   {
    "duration": 7,
    "start_time": "2021-08-10T19:21:12.371Z"
   },
   {
    "duration": 9,
    "start_time": "2021-08-10T19:23:21.841Z"
   },
   {
    "duration": 8,
    "start_time": "2021-08-10T19:23:32.678Z"
   },
   {
    "duration": 9,
    "start_time": "2021-08-10T19:26:07.444Z"
   },
   {
    "duration": 8,
    "start_time": "2021-08-10T19:26:29.390Z"
   },
   {
    "duration": 137,
    "start_time": "2021-08-10T19:40:12.849Z"
   },
   {
    "duration": 5,
    "start_time": "2021-08-10T19:40:32.501Z"
   },
   {
    "duration": 69,
    "start_time": "2021-08-10T19:40:48.645Z"
   },
   {
    "duration": 10,
    "start_time": "2021-08-10T19:42:23.282Z"
   },
   {
    "duration": 73,
    "start_time": "2021-08-10T19:42:59.334Z"
   },
   {
    "duration": 55,
    "start_time": "2021-08-10T19:43:00.735Z"
   },
   {
    "duration": 105,
    "start_time": "2021-08-10T19:43:32.189Z"
   },
   {
    "duration": 15,
    "start_time": "2021-08-10T19:43:33.682Z"
   },
   {
    "duration": 260,
    "start_time": "2021-08-10T19:52:37.513Z"
   },
   {
    "duration": 322,
    "start_time": "2021-08-10T19:54:00.204Z"
   },
   {
    "duration": 5,
    "start_time": "2021-08-10T19:54:15.907Z"
   },
   {
    "duration": 1031,
    "start_time": "2021-08-10T19:54:15.915Z"
   },
   {
    "duration": 166,
    "start_time": "2021-08-10T19:54:16.949Z"
   },
   {
    "duration": 19,
    "start_time": "2021-08-10T19:54:17.118Z"
   },
   {
    "duration": 170,
    "start_time": "2021-08-10T19:54:17.140Z"
   },
   {
    "duration": 93,
    "start_time": "2021-08-10T19:54:17.313Z"
   },
   {
    "duration": 79,
    "start_time": "2021-08-10T19:54:17.408Z"
   },
   {
    "duration": 96,
    "start_time": "2021-08-10T19:54:17.489Z"
   },
   {
    "duration": 203,
    "start_time": "2021-08-10T19:54:17.588Z"
   },
   {
    "duration": 10,
    "start_time": "2021-08-10T19:54:17.794Z"
   },
   {
    "duration": 28,
    "start_time": "2021-08-10T19:54:17.807Z"
   },
   {
    "duration": 30,
    "start_time": "2021-08-10T19:54:17.838Z"
   },
   {
    "duration": 15,
    "start_time": "2021-08-10T19:54:17.871Z"
   },
   {
    "duration": 47,
    "start_time": "2021-08-10T19:54:17.889Z"
   },
   {
    "duration": 20,
    "start_time": "2021-08-10T19:54:17.939Z"
   },
   {
    "duration": 323,
    "start_time": "2021-08-10T19:54:17.962Z"
   },
   {
    "duration": 52,
    "start_time": "2021-08-10T19:54:18.287Z"
   },
   {
    "duration": 43,
    "start_time": "2021-08-10T19:54:18.342Z"
   },
   {
    "duration": 122,
    "start_time": "2021-08-10T19:54:18.387Z"
   },
   {
    "duration": 21,
    "start_time": "2021-08-10T19:54:18.511Z"
   },
   {
    "duration": 85,
    "start_time": "2021-08-10T19:54:18.534Z"
   },
   {
    "duration": 65,
    "start_time": "2021-08-10T19:54:18.621Z"
   },
   {
    "duration": 12,
    "start_time": "2021-08-10T19:54:18.688Z"
   },
   {
    "duration": 62,
    "start_time": "2021-08-10T19:54:18.703Z"
   },
   {
    "duration": 111,
    "start_time": "2021-08-10T19:54:18.786Z"
   },
   {
    "duration": 45,
    "start_time": "2021-08-10T19:54:18.900Z"
   },
   {
    "duration": 47,
    "start_time": "2021-08-10T19:54:18.948Z"
   },
   {
    "duration": 24,
    "start_time": "2021-08-10T19:54:18.998Z"
   },
   {
    "duration": 55,
    "start_time": "2021-08-10T19:54:19.026Z"
   },
   {
    "duration": 42,
    "start_time": "2021-08-10T19:54:19.085Z"
   },
   {
    "duration": 18,
    "start_time": "2021-08-10T19:54:19.129Z"
   },
   {
    "duration": 40,
    "start_time": "2021-08-10T19:54:19.150Z"
   },
   {
    "duration": 54,
    "start_time": "2021-08-10T19:54:19.192Z"
   },
   {
    "duration": 27,
    "start_time": "2021-08-10T19:54:19.248Z"
   },
   {
    "duration": 27,
    "start_time": "2021-08-10T19:54:19.277Z"
   },
   {
    "duration": 52,
    "start_time": "2021-08-10T19:54:19.306Z"
   },
   {
    "duration": 29,
    "start_time": "2021-08-10T19:54:19.361Z"
   },
   {
    "duration": 49,
    "start_time": "2021-08-10T19:54:19.393Z"
   },
   {
    "duration": 50,
    "start_time": "2021-08-10T19:54:19.444Z"
   },
   {
    "duration": 508,
    "start_time": "2021-08-10T19:54:19.497Z"
   },
   {
    "duration": 41,
    "start_time": "2021-08-10T19:54:20.007Z"
   },
   {
    "duration": 43,
    "start_time": "2021-08-10T19:54:20.051Z"
   },
   {
    "duration": 114,
    "start_time": "2021-08-10T19:54:20.097Z"
   },
   {
    "duration": 10,
    "start_time": "2021-08-10T19:54:20.214Z"
   },
   {
    "duration": 34,
    "start_time": "2021-08-10T19:54:20.227Z"
   },
   {
    "duration": 1169,
    "start_time": "2021-08-10T19:54:20.263Z"
   },
   {
    "duration": 85,
    "start_time": "2021-08-10T19:54:21.435Z"
   },
   {
    "duration": 5,
    "start_time": "2021-08-10T19:54:21.523Z"
   },
   {
    "duration": 113,
    "start_time": "2021-08-10T19:54:21.531Z"
   },
   {
    "duration": 8,
    "start_time": "2021-08-10T19:54:21.646Z"
   },
   {
    "duration": 8,
    "start_time": "2021-08-10T19:54:21.656Z"
   },
   {
    "duration": 130,
    "start_time": "2021-08-10T19:54:21.666Z"
   },
   {
    "duration": 306,
    "start_time": "2021-08-10T19:54:21.799Z"
   },
   {
    "duration": 10,
    "start_time": "2021-08-10T19:55:57.799Z"
   },
   {
    "duration": 832,
    "start_time": "2021-08-10T19:56:36.901Z"
   },
   {
    "duration": 840,
    "start_time": "2021-08-10T19:57:04.493Z"
   },
   {
    "duration": 1653,
    "start_time": "2021-08-10T19:58:09.034Z"
   },
   {
    "duration": 1584,
    "start_time": "2021-08-10T19:58:10.690Z"
   },
   {
    "duration": 175,
    "start_time": "2021-08-10T19:58:12.276Z"
   },
   {
    "duration": 37,
    "start_time": "2021-08-10T19:58:12.454Z"
   },
   {
    "duration": 193,
    "start_time": "2021-08-10T19:58:12.493Z"
   },
   {
    "duration": 99,
    "start_time": "2021-08-10T19:58:12.688Z"
   },
   {
    "duration": 63,
    "start_time": "2021-08-10T19:58:12.789Z"
   },
   {
    "duration": 103,
    "start_time": "2021-08-10T19:58:12.855Z"
   },
   {
    "duration": 276,
    "start_time": "2021-08-10T19:58:12.962Z"
   },
   {
    "duration": 11,
    "start_time": "2021-08-10T19:58:13.240Z"
   },
   {
    "duration": 8,
    "start_time": "2021-08-10T19:58:13.254Z"
   },
   {
    "duration": 41,
    "start_time": "2021-08-10T19:58:13.265Z"
   },
   {
    "duration": 12,
    "start_time": "2021-08-10T19:58:13.309Z"
   },
   {
    "duration": 75,
    "start_time": "2021-08-10T19:58:13.324Z"
   },
   {
    "duration": 24,
    "start_time": "2021-08-10T19:58:13.402Z"
   },
   {
    "duration": 333,
    "start_time": "2021-08-10T19:58:13.428Z"
   },
   {
    "duration": 88,
    "start_time": "2021-08-10T19:58:13.763Z"
   },
   {
    "duration": 21,
    "start_time": "2021-08-10T19:58:13.854Z"
   },
   {
    "duration": 144,
    "start_time": "2021-08-10T19:58:13.885Z"
   },
   {
    "duration": 21,
    "start_time": "2021-08-10T19:58:14.031Z"
   },
   {
    "duration": 90,
    "start_time": "2021-08-10T19:58:14.054Z"
   },
   {
    "duration": 65,
    "start_time": "2021-08-10T19:58:14.146Z"
   },
   {
    "duration": 12,
    "start_time": "2021-08-10T19:58:14.216Z"
   },
   {
    "duration": 78,
    "start_time": "2021-08-10T19:58:14.231Z"
   },
   {
    "duration": 121,
    "start_time": "2021-08-10T19:58:14.311Z"
   },
   {
    "duration": 39,
    "start_time": "2021-08-10T19:58:14.435Z"
   },
   {
    "duration": 24,
    "start_time": "2021-08-10T19:58:14.485Z"
   },
   {
    "duration": 18,
    "start_time": "2021-08-10T19:58:14.511Z"
   },
   {
    "duration": 71,
    "start_time": "2021-08-10T19:58:14.531Z"
   },
   {
    "duration": 26,
    "start_time": "2021-08-10T19:58:14.605Z"
   },
   {
    "duration": 19,
    "start_time": "2021-08-10T19:58:14.633Z"
   },
   {
    "duration": 56,
    "start_time": "2021-08-10T19:58:14.655Z"
   },
   {
    "duration": 44,
    "start_time": "2021-08-10T19:58:14.713Z"
   },
   {
    "duration": 42,
    "start_time": "2021-08-10T19:58:14.759Z"
   },
   {
    "duration": 19,
    "start_time": "2021-08-10T19:58:14.803Z"
   },
   {
    "duration": 60,
    "start_time": "2021-08-10T19:58:14.824Z"
   },
   {
    "duration": 25,
    "start_time": "2021-08-10T19:58:14.887Z"
   },
   {
    "duration": 71,
    "start_time": "2021-08-10T19:58:14.914Z"
   },
   {
    "duration": 43,
    "start_time": "2021-08-10T19:58:14.988Z"
   },
   {
    "duration": 527,
    "start_time": "2021-08-10T19:58:15.034Z"
   },
   {
    "duration": 43,
    "start_time": "2021-08-10T19:58:15.564Z"
   },
   {
    "duration": 29,
    "start_time": "2021-08-10T19:58:15.610Z"
   },
   {
    "duration": 131,
    "start_time": "2021-08-10T19:58:15.641Z"
   },
   {
    "duration": 19,
    "start_time": "2021-08-10T19:58:15.774Z"
   },
   {
    "duration": 30,
    "start_time": "2021-08-10T19:58:15.796Z"
   },
   {
    "duration": 1284,
    "start_time": "2021-08-10T19:58:15.828Z"
   },
   {
    "duration": 94,
    "start_time": "2021-08-10T19:58:17.114Z"
   },
   {
    "duration": 6,
    "start_time": "2021-08-10T19:58:17.210Z"
   },
   {
    "duration": 141,
    "start_time": "2021-08-10T19:58:17.218Z"
   },
   {
    "duration": 8,
    "start_time": "2021-08-10T19:58:17.362Z"
   },
   {
    "duration": 7,
    "start_time": "2021-08-10T19:58:17.385Z"
   },
   {
    "duration": 115,
    "start_time": "2021-08-10T19:58:17.394Z"
   },
   {
    "duration": 174,
    "start_time": "2021-08-10T19:58:17.511Z"
   },
   {
    "duration": 891,
    "start_time": "2021-08-10T19:59:04.716Z"
   },
   {
    "duration": 903,
    "start_time": "2021-08-10T19:59:20.286Z"
   },
   {
    "duration": 1540,
    "start_time": "2021-08-10T20:02:57.041Z"
   },
   {
    "duration": 1241,
    "start_time": "2021-08-10T20:02:58.586Z"
   },
   {
    "duration": 167,
    "start_time": "2021-08-10T20:02:59.830Z"
   },
   {
    "duration": 23,
    "start_time": "2021-08-10T20:03:00.000Z"
   },
   {
    "duration": 177,
    "start_time": "2021-08-10T20:03:00.026Z"
   },
   {
    "duration": 100,
    "start_time": "2021-08-10T20:03:00.206Z"
   },
   {
    "duration": 76,
    "start_time": "2021-08-10T20:03:00.309Z"
   },
   {
    "duration": 99,
    "start_time": "2021-08-10T20:03:00.389Z"
   },
   {
    "duration": 274,
    "start_time": "2021-08-10T20:03:00.491Z"
   },
   {
    "duration": 20,
    "start_time": "2021-08-10T20:03:00.767Z"
   },
   {
    "duration": 11,
    "start_time": "2021-08-10T20:03:00.789Z"
   },
   {
    "duration": 36,
    "start_time": "2021-08-10T20:03:00.802Z"
   },
   {
    "duration": 14,
    "start_time": "2021-08-10T20:03:00.841Z"
   },
   {
    "duration": 63,
    "start_time": "2021-08-10T20:03:00.857Z"
   },
   {
    "duration": 23,
    "start_time": "2021-08-10T20:03:00.923Z"
   },
   {
    "duration": 440,
    "start_time": "2021-08-10T20:03:00.949Z"
   },
   {
    "duration": 71,
    "start_time": "2021-08-10T20:03:01.392Z"
   },
   {
    "duration": 35,
    "start_time": "2021-08-10T20:03:01.465Z"
   },
   {
    "duration": 153,
    "start_time": "2021-08-10T20:03:01.502Z"
   },
   {
    "duration": 30,
    "start_time": "2021-08-10T20:03:01.657Z"
   },
   {
    "duration": 73,
    "start_time": "2021-08-10T20:03:01.689Z"
   },
   {
    "duration": 66,
    "start_time": "2021-08-10T20:03:01.764Z"
   },
   {
    "duration": 12,
    "start_time": "2021-08-10T20:03:01.836Z"
   },
   {
    "duration": 88,
    "start_time": "2021-08-10T20:03:01.851Z"
   },
   {
    "duration": 118,
    "start_time": "2021-08-10T20:03:01.941Z"
   },
   {
    "duration": 45,
    "start_time": "2021-08-10T20:03:02.061Z"
   },
   {
    "duration": 34,
    "start_time": "2021-08-10T20:03:02.108Z"
   },
   {
    "duration": 20,
    "start_time": "2021-08-10T20:03:02.145Z"
   },
   {
    "duration": 41,
    "start_time": "2021-08-10T20:03:02.187Z"
   },
   {
    "duration": 34,
    "start_time": "2021-08-10T20:03:02.231Z"
   },
   {
    "duration": 32,
    "start_time": "2021-08-10T20:03:02.267Z"
   },
   {
    "duration": 31,
    "start_time": "2021-08-10T20:03:02.302Z"
   },
   {
    "duration": 67,
    "start_time": "2021-08-10T20:03:02.335Z"
   },
   {
    "duration": 71,
    "start_time": "2021-08-10T20:03:02.405Z"
   },
   {
    "duration": 34,
    "start_time": "2021-08-10T20:03:02.479Z"
   },
   {
    "duration": 43,
    "start_time": "2021-08-10T20:03:02.515Z"
   },
   {
    "duration": 47,
    "start_time": "2021-08-10T20:03:02.560Z"
   },
   {
    "duration": 55,
    "start_time": "2021-08-10T20:03:02.609Z"
   },
   {
    "duration": 58,
    "start_time": "2021-08-10T20:03:02.666Z"
   },
   {
    "duration": 557,
    "start_time": "2021-08-10T20:03:02.726Z"
   },
   {
    "duration": 40,
    "start_time": "2021-08-10T20:03:03.286Z"
   },
   {
    "duration": 31,
    "start_time": "2021-08-10T20:03:03.329Z"
   },
   {
    "duration": 134,
    "start_time": "2021-08-10T20:03:03.363Z"
   },
   {
    "duration": 13,
    "start_time": "2021-08-10T20:03:03.500Z"
   },
   {
    "duration": 50,
    "start_time": "2021-08-10T20:03:03.516Z"
   },
   {
    "duration": 1262,
    "start_time": "2021-08-10T20:03:03.569Z"
   },
   {
    "duration": 93,
    "start_time": "2021-08-10T20:03:04.834Z"
   },
   {
    "duration": 7,
    "start_time": "2021-08-10T20:03:04.929Z"
   },
   {
    "duration": 150,
    "start_time": "2021-08-10T20:03:04.939Z"
   },
   {
    "duration": 11,
    "start_time": "2021-08-10T20:03:05.092Z"
   },
   {
    "duration": 10,
    "start_time": "2021-08-10T20:03:05.106Z"
   },
   {
    "duration": 167,
    "start_time": "2021-08-10T20:03:05.119Z"
   },
   {
    "duration": 101,
    "start_time": "2021-08-10T20:03:05.289Z"
   },
   {
    "duration": 225,
    "start_time": "2021-08-11T06:47:48.009Z"
   },
   {
    "duration": 1518,
    "start_time": "2021-08-11T06:47:56.950Z"
   },
   {
    "duration": 1133,
    "start_time": "2021-08-11T06:47:58.470Z"
   },
   {
    "duration": 230,
    "start_time": "2021-08-11T06:47:59.607Z"
   },
   {
    "duration": 42,
    "start_time": "2021-08-11T06:47:59.841Z"
   },
   {
    "duration": 184,
    "start_time": "2021-08-11T06:47:59.886Z"
   },
   {
    "duration": 92,
    "start_time": "2021-08-11T06:48:00.072Z"
   },
   {
    "duration": 64,
    "start_time": "2021-08-11T06:48:00.166Z"
   },
   {
    "duration": 98,
    "start_time": "2021-08-11T06:48:00.234Z"
   },
   {
    "duration": 275,
    "start_time": "2021-08-11T06:48:00.335Z"
   },
   {
    "duration": 12,
    "start_time": "2021-08-11T06:48:00.613Z"
   },
   {
    "duration": 16,
    "start_time": "2021-08-11T06:48:00.628Z"
   },
   {
    "duration": 28,
    "start_time": "2021-08-11T06:48:00.655Z"
   },
   {
    "duration": 33,
    "start_time": "2021-08-11T06:48:00.686Z"
   },
   {
    "duration": 67,
    "start_time": "2021-08-11T06:48:00.722Z"
   },
   {
    "duration": 23,
    "start_time": "2021-08-11T06:48:00.792Z"
   },
   {
    "duration": 351,
    "start_time": "2021-08-11T06:48:00.818Z"
   },
   {
    "duration": 68,
    "start_time": "2021-08-11T06:48:01.171Z"
   },
   {
    "duration": 32,
    "start_time": "2021-08-11T06:48:01.242Z"
   },
   {
    "duration": 149,
    "start_time": "2021-08-11T06:48:01.277Z"
   },
   {
    "duration": 28,
    "start_time": "2021-08-11T06:48:01.428Z"
   },
   {
    "duration": 70,
    "start_time": "2021-08-11T06:48:01.459Z"
   },
   {
    "duration": 76,
    "start_time": "2021-08-11T06:48:01.531Z"
   },
   {
    "duration": 12,
    "start_time": "2021-08-11T06:48:01.612Z"
   },
   {
    "duration": 80,
    "start_time": "2021-08-11T06:48:01.627Z"
   },
   {
    "duration": 122,
    "start_time": "2021-08-11T06:48:01.709Z"
   },
   {
    "duration": 44,
    "start_time": "2021-08-11T06:48:01.834Z"
   },
   {
    "duration": 53,
    "start_time": "2021-08-11T06:48:01.880Z"
   },
   {
    "duration": 40,
    "start_time": "2021-08-11T06:48:01.935Z"
   },
   {
    "duration": 63,
    "start_time": "2021-08-11T06:48:01.977Z"
   },
   {
    "duration": 50,
    "start_time": "2021-08-11T06:48:02.042Z"
   },
   {
    "duration": 43,
    "start_time": "2021-08-11T06:48:02.094Z"
   },
   {
    "duration": 42,
    "start_time": "2021-08-11T06:48:02.140Z"
   },
   {
    "duration": 74,
    "start_time": "2021-08-11T06:48:02.185Z"
   },
   {
    "duration": 43,
    "start_time": "2021-08-11T06:48:02.262Z"
   },
   {
    "duration": 44,
    "start_time": "2021-08-11T06:48:02.307Z"
   },
   {
    "duration": 64,
    "start_time": "2021-08-11T06:48:02.354Z"
   },
   {
    "duration": 35,
    "start_time": "2021-08-11T06:48:02.420Z"
   },
   {
    "duration": 39,
    "start_time": "2021-08-11T06:48:02.458Z"
   },
   {
    "duration": 56,
    "start_time": "2021-08-11T06:48:02.500Z"
   },
   {
    "duration": 544,
    "start_time": "2021-08-11T06:48:02.558Z"
   },
   {
    "duration": 51,
    "start_time": "2021-08-11T06:48:03.105Z"
   },
   {
    "duration": 27,
    "start_time": "2021-08-11T06:48:03.159Z"
   },
   {
    "duration": 130,
    "start_time": "2021-08-11T06:48:03.189Z"
   },
   {
    "duration": 13,
    "start_time": "2021-08-11T06:48:03.322Z"
   },
   {
    "duration": 29,
    "start_time": "2021-08-11T06:48:03.354Z"
   },
   {
    "duration": 1270,
    "start_time": "2021-08-11T06:48:03.386Z"
   },
   {
    "duration": 74,
    "start_time": "2021-08-11T06:48:04.659Z"
   },
   {
    "duration": 22,
    "start_time": "2021-08-11T06:48:04.735Z"
   },
   {
    "duration": 143,
    "start_time": "2021-08-11T06:48:04.759Z"
   },
   {
    "duration": 9,
    "start_time": "2021-08-11T06:48:04.904Z"
   },
   {
    "duration": 8,
    "start_time": "2021-08-11T06:48:04.916Z"
   },
   {
    "duration": 139,
    "start_time": "2021-08-11T06:48:04.926Z"
   },
   {
    "duration": 93,
    "start_time": "2021-08-11T06:48:05.067Z"
   },
   {
    "duration": 310,
    "start_time": "2021-08-11T06:48:05.254Z"
   },
   {
    "duration": 184,
    "start_time": "2021-08-11T06:48:57.400Z"
   },
   {
    "duration": 179594,
    "start_time": "2021-08-11T06:50:18.779Z"
   },
   {
    "duration": 1459,
    "start_time": "2021-08-11T07:33:38.599Z"
   },
   {
    "duration": 1172,
    "start_time": "2021-08-11T07:33:40.061Z"
   },
   {
    "duration": 160,
    "start_time": "2021-08-11T07:33:41.236Z"
   },
   {
    "duration": 24,
    "start_time": "2021-08-11T07:33:41.399Z"
   },
   {
    "duration": 246,
    "start_time": "2021-08-11T07:33:41.426Z"
   },
   {
    "duration": 92,
    "start_time": "2021-08-11T07:33:41.674Z"
   },
   {
    "duration": 95,
    "start_time": "2021-08-11T07:33:41.768Z"
   },
   {
    "duration": 136,
    "start_time": "2021-08-11T07:33:41.866Z"
   },
   {
    "duration": 258,
    "start_time": "2021-08-11T07:33:42.006Z"
   },
   {
    "duration": 13,
    "start_time": "2021-08-11T07:33:42.266Z"
   },
   {
    "duration": 7,
    "start_time": "2021-08-11T07:33:42.282Z"
   },
   {
    "duration": 34,
    "start_time": "2021-08-11T07:33:42.291Z"
   },
   {
    "duration": 33,
    "start_time": "2021-08-11T07:33:42.327Z"
   },
   {
    "duration": 47,
    "start_time": "2021-08-11T07:33:42.362Z"
   },
   {
    "duration": 45,
    "start_time": "2021-08-11T07:33:42.411Z"
   },
   {
    "duration": 312,
    "start_time": "2021-08-11T07:33:42.458Z"
   },
   {
    "duration": 68,
    "start_time": "2021-08-11T07:33:42.772Z"
   },
   {
    "duration": 23,
    "start_time": "2021-08-11T07:33:42.854Z"
   },
   {
    "duration": 155,
    "start_time": "2021-08-11T07:33:42.880Z"
   },
   {
    "duration": 29,
    "start_time": "2021-08-11T07:33:43.038Z"
   },
   {
    "duration": 85,
    "start_time": "2021-08-11T07:33:43.069Z"
   },
   {
    "duration": 52,
    "start_time": "2021-08-11T07:33:43.156Z"
   },
   {
    "duration": 11,
    "start_time": "2021-08-11T07:33:43.214Z"
   },
   {
    "duration": 86,
    "start_time": "2021-08-11T07:33:43.228Z"
   },
   {
    "duration": 119,
    "start_time": "2021-08-11T07:33:43.317Z"
   },
   {
    "duration": 48,
    "start_time": "2021-08-11T07:33:43.438Z"
   },
   {
    "duration": 31,
    "start_time": "2021-08-11T07:33:43.488Z"
   },
   {
    "duration": 35,
    "start_time": "2021-08-11T07:33:43.522Z"
   },
   {
    "duration": 42,
    "start_time": "2021-08-11T07:33:43.559Z"
   },
   {
    "duration": 30,
    "start_time": "2021-08-11T07:33:43.604Z"
   },
   {
    "duration": 19,
    "start_time": "2021-08-11T07:33:43.655Z"
   },
   {
    "duration": 29,
    "start_time": "2021-08-11T07:33:43.677Z"
   },
   {
    "duration": 65,
    "start_time": "2021-08-11T07:33:43.709Z"
   },
   {
    "duration": 28,
    "start_time": "2021-08-11T07:33:43.777Z"
   },
   {
    "duration": 46,
    "start_time": "2021-08-11T07:33:43.808Z"
   },
   {
    "duration": 41,
    "start_time": "2021-08-11T07:33:43.857Z"
   },
   {
    "duration": 37,
    "start_time": "2021-08-11T07:33:43.901Z"
   },
   {
    "duration": 58,
    "start_time": "2021-08-11T07:33:43.941Z"
   },
   {
    "duration": 66,
    "start_time": "2021-08-11T07:33:44.001Z"
   },
   {
    "duration": 655,
    "start_time": "2021-08-11T07:33:44.069Z"
   },
   {
    "duration": 49,
    "start_time": "2021-08-11T07:33:44.726Z"
   },
   {
    "duration": 38,
    "start_time": "2021-08-11T07:33:44.777Z"
   },
   {
    "duration": 123,
    "start_time": "2021-08-11T07:33:44.818Z"
   },
   {
    "duration": 18,
    "start_time": "2021-08-11T07:33:44.944Z"
   },
   {
    "duration": 44,
    "start_time": "2021-08-11T07:33:44.965Z"
   },
   {
    "duration": 1371,
    "start_time": "2021-08-11T07:33:45.011Z"
   },
   {
    "duration": 89,
    "start_time": "2021-08-11T07:33:46.385Z"
   },
   {
    "duration": 6,
    "start_time": "2021-08-11T07:33:46.476Z"
   },
   {
    "duration": 159,
    "start_time": "2021-08-11T07:33:46.484Z"
   },
   {
    "duration": 16,
    "start_time": "2021-08-11T07:33:46.647Z"
   },
   {
    "duration": 13,
    "start_time": "2021-08-11T07:33:46.666Z"
   },
   {
    "duration": 113,
    "start_time": "2021-08-11T07:33:46.682Z"
   },
   {
    "duration": 100,
    "start_time": "2021-08-11T07:33:46.855Z"
   },
   {
    "duration": 660651,
    "start_time": "2021-08-11T07:33:46.959Z"
   },
   {
    "duration": 1187,
    "start_time": "2021-08-11T21:20:10.163Z"
   },
   {
    "duration": 769,
    "start_time": "2021-08-11T21:20:11.351Z"
   },
   {
    "duration": 119,
    "start_time": "2021-08-11T21:20:12.122Z"
   },
   {
    "duration": 15,
    "start_time": "2021-08-11T21:20:12.243Z"
   },
   {
    "duration": 134,
    "start_time": "2021-08-11T21:20:12.260Z"
   },
   {
    "duration": 58,
    "start_time": "2021-08-11T21:20:12.396Z"
   },
   {
    "duration": 55,
    "start_time": "2021-08-11T21:20:12.456Z"
   },
   {
    "duration": 73,
    "start_time": "2021-08-11T21:20:12.514Z"
   },
   {
    "duration": 183,
    "start_time": "2021-08-11T21:20:12.589Z"
   },
   {
    "duration": 14,
    "start_time": "2021-08-11T21:20:12.773Z"
   },
   {
    "duration": 5,
    "start_time": "2021-08-11T21:20:12.788Z"
   },
   {
    "duration": 19,
    "start_time": "2021-08-11T21:20:12.794Z"
   },
   {
    "duration": 8,
    "start_time": "2021-08-11T21:20:12.815Z"
   },
   {
    "duration": 33,
    "start_time": "2021-08-11T21:20:12.825Z"
   },
   {
    "duration": 18,
    "start_time": "2021-08-11T21:20:12.885Z"
   },
   {
    "duration": 216,
    "start_time": "2021-08-11T21:20:12.904Z"
   },
   {
    "duration": 51,
    "start_time": "2021-08-11T21:20:13.121Z"
   },
   {
    "duration": 25,
    "start_time": "2021-08-11T21:20:13.174Z"
   },
   {
    "duration": 106,
    "start_time": "2021-08-11T21:20:13.201Z"
   },
   {
    "duration": 16,
    "start_time": "2021-08-11T21:20:13.309Z"
   },
   {
    "duration": 59,
    "start_time": "2021-08-11T21:20:13.327Z"
   },
   {
    "duration": 34,
    "start_time": "2021-08-11T21:20:13.388Z"
   },
   {
    "duration": 8,
    "start_time": "2021-08-11T21:20:13.425Z"
   },
   {
    "duration": 55,
    "start_time": "2021-08-11T21:20:13.435Z"
   },
   {
    "duration": 82,
    "start_time": "2021-08-11T21:20:13.491Z"
   },
   {
    "duration": 39,
    "start_time": "2021-08-11T21:20:13.574Z"
   },
   {
    "duration": 19,
    "start_time": "2021-08-11T21:20:13.614Z"
   },
   {
    "duration": 14,
    "start_time": "2021-08-11T21:20:13.635Z"
   },
   {
    "duration": 53,
    "start_time": "2021-08-11T21:20:13.650Z"
   },
   {
    "duration": 17,
    "start_time": "2021-08-11T21:20:13.705Z"
   },
   {
    "duration": 15,
    "start_time": "2021-08-11T21:20:13.724Z"
   },
   {
    "duration": 18,
    "start_time": "2021-08-11T21:20:13.740Z"
   },
   {
    "duration": 51,
    "start_time": "2021-08-11T21:20:13.760Z"
   },
   {
    "duration": 17,
    "start_time": "2021-08-11T21:20:13.813Z"
   },
   {
    "duration": 15,
    "start_time": "2021-08-11T21:20:13.832Z"
   },
   {
    "duration": 50,
    "start_time": "2021-08-11T21:20:13.848Z"
   },
   {
    "duration": 17,
    "start_time": "2021-08-11T21:20:13.900Z"
   },
   {
    "duration": 30,
    "start_time": "2021-08-11T21:20:13.918Z"
   },
   {
    "duration": 49,
    "start_time": "2021-08-11T21:20:13.950Z"
   },
   {
    "duration": 332,
    "start_time": "2021-08-11T21:20:14.000Z"
   },
   {
    "duration": 31,
    "start_time": "2021-08-11T21:20:14.334Z"
   },
   {
    "duration": 34,
    "start_time": "2021-08-11T21:20:14.366Z"
   },
   {
    "duration": 85,
    "start_time": "2021-08-11T21:20:14.402Z"
   },
   {
    "duration": 7,
    "start_time": "2021-08-11T21:20:14.489Z"
   },
   {
    "duration": 19,
    "start_time": "2021-08-11T21:20:14.498Z"
   },
   {
    "duration": 872,
    "start_time": "2021-08-11T21:20:14.518Z"
   },
   {
    "duration": 63,
    "start_time": "2021-08-11T21:20:15.392Z"
   },
   {
    "duration": 4,
    "start_time": "2021-08-11T21:20:15.457Z"
   },
   {
    "duration": 122,
    "start_time": "2021-08-11T21:20:15.462Z"
   },
   {
    "duration": 6,
    "start_time": "2021-08-11T21:20:15.586Z"
   },
   {
    "duration": 6,
    "start_time": "2021-08-11T21:20:15.593Z"
   },
   {
    "duration": 104,
    "start_time": "2021-08-11T21:20:15.600Z"
   },
   {
    "duration": 84,
    "start_time": "2021-08-11T21:20:15.705Z"
   },
   {
    "duration": 94,
    "start_time": "2021-08-11T21:20:15.791Z"
   },
   {
    "duration": 66,
    "start_time": "2021-08-11T21:20:15.887Z"
   },
   {
    "duration": 62,
    "start_time": "2021-08-11T21:21:23.570Z"
   },
   {
    "duration": 27955,
    "start_time": "2021-08-11T21:21:41.336Z"
   },
   {
    "duration": 1177,
    "start_time": "2021-08-11T21:25:11.967Z"
   },
   {
    "duration": 780,
    "start_time": "2021-08-11T21:25:13.146Z"
   },
   {
    "duration": 125,
    "start_time": "2021-08-11T21:25:13.930Z"
   },
   {
    "duration": 16,
    "start_time": "2021-08-11T21:25:14.056Z"
   },
   {
    "duration": 121,
    "start_time": "2021-08-11T21:25:14.084Z"
   },
   {
    "duration": 61,
    "start_time": "2021-08-11T21:25:14.207Z"
   },
   {
    "duration": 44,
    "start_time": "2021-08-11T21:25:14.286Z"
   },
   {
    "duration": 80,
    "start_time": "2021-08-11T21:25:14.332Z"
   },
   {
    "duration": 189,
    "start_time": "2021-08-11T21:25:14.414Z"
   },
   {
    "duration": 9,
    "start_time": "2021-08-11T21:25:14.605Z"
   },
   {
    "duration": 6,
    "start_time": "2021-08-11T21:25:14.615Z"
   },
   {
    "duration": 22,
    "start_time": "2021-08-11T21:25:14.623Z"
   },
   {
    "duration": 9,
    "start_time": "2021-08-11T21:25:14.647Z"
   },
   {
    "duration": 53,
    "start_time": "2021-08-11T21:25:14.657Z"
   },
   {
    "duration": 19,
    "start_time": "2021-08-11T21:25:14.712Z"
   },
   {
    "duration": 229,
    "start_time": "2021-08-11T21:25:14.732Z"
   },
   {
    "duration": 62,
    "start_time": "2021-08-11T21:25:14.963Z"
   },
   {
    "duration": 19,
    "start_time": "2021-08-11T21:25:15.027Z"
   },
   {
    "duration": 117,
    "start_time": "2021-08-11T21:25:15.047Z"
   },
   {
    "duration": 25,
    "start_time": "2021-08-11T21:25:15.166Z"
   },
   {
    "duration": 47,
    "start_time": "2021-08-11T21:25:15.193Z"
   },
   {
    "duration": 52,
    "start_time": "2021-08-11T21:25:15.244Z"
   },
   {
    "duration": 7,
    "start_time": "2021-08-11T21:25:15.298Z"
   },
   {
    "duration": 37,
    "start_time": "2021-08-11T21:25:15.307Z"
   },
   {
    "duration": 96,
    "start_time": "2021-08-11T21:25:15.346Z"
   },
   {
    "duration": 29,
    "start_time": "2021-08-11T21:25:15.443Z"
   },
   {
    "duration": 26,
    "start_time": "2021-08-11T21:25:15.474Z"
   },
   {
    "duration": 17,
    "start_time": "2021-08-11T21:25:15.502Z"
   },
   {
    "duration": 37,
    "start_time": "2021-08-11T21:25:15.520Z"
   },
   {
    "duration": 27,
    "start_time": "2021-08-11T21:25:15.558Z"
   },
   {
    "duration": 19,
    "start_time": "2021-08-11T21:25:15.587Z"
   },
   {
    "duration": 20,
    "start_time": "2021-08-11T21:25:15.608Z"
   },
   {
    "duration": 38,
    "start_time": "2021-08-11T21:25:15.629Z"
   },
   {
    "duration": 29,
    "start_time": "2021-08-11T21:25:15.669Z"
   },
   {
    "duration": 15,
    "start_time": "2021-08-11T21:25:15.700Z"
   },
   {
    "duration": 36,
    "start_time": "2021-08-11T21:25:15.717Z"
   },
   {
    "duration": 36,
    "start_time": "2021-08-11T21:25:15.755Z"
   },
   {
    "duration": 34,
    "start_time": "2021-08-11T21:25:15.792Z"
   },
   {
    "duration": 34,
    "start_time": "2021-08-11T21:25:15.828Z"
   },
   {
    "duration": 352,
    "start_time": "2021-08-11T21:25:15.864Z"
   },
   {
    "duration": 29,
    "start_time": "2021-08-11T21:25:16.218Z"
   },
   {
    "duration": 20,
    "start_time": "2021-08-11T21:25:16.248Z"
   },
   {
    "duration": 81,
    "start_time": "2021-08-11T21:25:16.284Z"
   },
   {
    "duration": 18,
    "start_time": "2021-08-11T21:25:16.367Z"
   },
   {
    "duration": 19,
    "start_time": "2021-08-11T21:25:16.387Z"
   },
   {
    "duration": 857,
    "start_time": "2021-08-11T21:25:16.407Z"
   },
   {
    "duration": 73,
    "start_time": "2021-08-11T21:25:17.266Z"
   },
   {
    "duration": 4,
    "start_time": "2021-08-11T21:25:17.341Z"
   },
   {
    "duration": 102,
    "start_time": "2021-08-11T21:25:17.347Z"
   },
   {
    "duration": 6,
    "start_time": "2021-08-11T21:25:17.450Z"
   },
   {
    "duration": 5,
    "start_time": "2021-08-11T21:25:17.458Z"
   },
   {
    "duration": 140,
    "start_time": "2021-08-11T21:25:17.464Z"
   },
   {
    "duration": 87,
    "start_time": "2021-08-11T21:25:17.606Z"
   },
   {
    "duration": 2,
    "start_time": "2021-08-11T21:25:17.786Z"
   },
   {
    "duration": 7600,
    "start_time": "2021-08-11T21:25:17.790Z"
   },
   {
    "duration": 392,
    "start_time": "2021-08-11T21:25:25.392Z"
   },
   {
    "duration": 18375,
    "start_time": "2021-08-11T21:26:13.916Z"
   },
   {
    "duration": 383,
    "start_time": "2021-08-11T21:26:38.117Z"
   },
   {
    "duration": 7428,
    "start_time": "2021-08-11T21:29:08.370Z"
   },
   {
    "duration": 97443,
    "start_time": "2021-08-11T21:32:08.049Z"
   },
   {
    "duration": 287,
    "start_time": "2021-08-11T21:33:51.214Z"
   },
   {
    "duration": 88944,
    "start_time": "2021-08-11T21:34:24.253Z"
   },
   {
    "duration": 501,
    "start_time": "2021-08-11T21:36:01.405Z"
   },
   {
    "duration": 209158,
    "start_time": "2021-08-11T21:37:05.031Z"
   },
   {
    "duration": 1018,
    "start_time": "2021-08-11T21:41:20.599Z"
   },
   {
    "duration": 72484,
    "start_time": "2021-08-11T21:42:05.012Z"
   },
   {
    "duration": 552,
    "start_time": "2021-08-11T21:43:25.433Z"
   },
   {
    "duration": 480,
    "start_time": "2021-08-11T21:43:44.535Z"
   },
   {
    "duration": 68405,
    "start_time": "2021-08-11T21:43:57.793Z"
   },
   {
    "duration": 314,
    "start_time": "2021-08-11T21:45:12.472Z"
   },
   {
    "duration": 210,
    "start_time": "2021-08-11T21:47:12.227Z"
   },
   {
    "duration": 72,
    "start_time": "2021-08-11T21:47:19.247Z"
   },
   {
    "duration": 16,
    "start_time": "2021-08-11T21:47:24.090Z"
   },
   {
    "duration": 127,
    "start_time": "2021-08-11T21:47:49.576Z"
   },
   {
    "duration": 696995,
    "start_time": "2021-08-11T21:48:24.398Z"
   },
   {
    "duration": 6,
    "start_time": "2021-08-11T22:00:01.395Z"
   },
   {
    "duration": 6,
    "start_time": "2021-08-11T22:06:49.185Z"
   },
   {
    "duration": 1185,
    "start_time": "2021-08-11T22:07:01.973Z"
   },
   {
    "duration": 894,
    "start_time": "2021-08-11T22:07:03.160Z"
   },
   {
    "duration": 141,
    "start_time": "2021-08-11T22:07:04.056Z"
   },
   {
    "duration": 15,
    "start_time": "2021-08-11T22:07:04.199Z"
   },
   {
    "duration": 144,
    "start_time": "2021-08-11T22:07:04.216Z"
   },
   {
    "duration": 70,
    "start_time": "2021-08-11T22:07:04.361Z"
   },
   {
    "duration": 56,
    "start_time": "2021-08-11T22:07:04.432Z"
   },
   {
    "duration": 68,
    "start_time": "2021-08-11T22:07:04.492Z"
   },
   {
    "duration": 218,
    "start_time": "2021-08-11T22:07:04.562Z"
   },
   {
    "duration": 14,
    "start_time": "2021-08-11T22:07:04.782Z"
   },
   {
    "duration": 5,
    "start_time": "2021-08-11T22:07:04.799Z"
   },
   {
    "duration": 5,
    "start_time": "2021-08-11T22:07:04.806Z"
   },
   {
    "duration": 18,
    "start_time": "2021-08-11T22:07:04.813Z"
   },
   {
    "duration": 9,
    "start_time": "2021-08-11T22:07:04.833Z"
   },
   {
    "duration": 72,
    "start_time": "2021-08-11T22:07:04.843Z"
   },
   {
    "duration": 18,
    "start_time": "2021-08-11T22:07:04.917Z"
   },
   {
    "duration": 251,
    "start_time": "2021-08-11T22:07:04.937Z"
   },
   {
    "duration": 59,
    "start_time": "2021-08-11T22:07:05.190Z"
   },
   {
    "duration": 36,
    "start_time": "2021-08-11T22:07:05.250Z"
   },
   {
    "duration": 113,
    "start_time": "2021-08-11T22:07:05.288Z"
   },
   {
    "duration": 17,
    "start_time": "2021-08-11T22:07:05.402Z"
   },
   {
    "duration": 45,
    "start_time": "2021-08-11T22:07:05.420Z"
   },
   {
    "duration": 39,
    "start_time": "2021-08-11T22:07:05.485Z"
   },
   {
    "duration": 7,
    "start_time": "2021-08-11T22:07:05.526Z"
   },
   {
    "duration": 56,
    "start_time": "2021-08-11T22:07:05.535Z"
   },
   {
    "duration": 92,
    "start_time": "2021-08-11T22:07:05.594Z"
   },
   {
    "duration": 34,
    "start_time": "2021-08-11T22:07:05.689Z"
   },
   {
    "duration": 19,
    "start_time": "2021-08-11T22:07:05.725Z"
   },
   {
    "duration": 21,
    "start_time": "2021-08-11T22:07:05.745Z"
   },
   {
    "duration": 42,
    "start_time": "2021-08-11T22:07:05.784Z"
   },
   {
    "duration": 22,
    "start_time": "2021-08-11T22:07:05.827Z"
   },
   {
    "duration": 15,
    "start_time": "2021-08-11T22:07:05.851Z"
   },
   {
    "duration": 27,
    "start_time": "2021-08-11T22:07:05.886Z"
   },
   {
    "duration": 30,
    "start_time": "2021-08-11T22:07:05.915Z"
   },
   {
    "duration": 47,
    "start_time": "2021-08-11T22:07:05.947Z"
   },
   {
    "duration": 17,
    "start_time": "2021-08-11T22:07:05.997Z"
   },
   {
    "duration": 30,
    "start_time": "2021-08-11T22:07:06.016Z"
   },
   {
    "duration": 38,
    "start_time": "2021-08-11T22:07:06.047Z"
   },
   {
    "duration": 39,
    "start_time": "2021-08-11T22:07:06.087Z"
   },
   {
    "duration": 30,
    "start_time": "2021-08-11T22:07:06.127Z"
   },
   {
    "duration": 355,
    "start_time": "2021-08-11T22:07:06.159Z"
   },
   {
    "duration": 28,
    "start_time": "2021-08-11T22:07:06.515Z"
   },
   {
    "duration": 19,
    "start_time": "2021-08-11T22:07:06.545Z"
   },
   {
    "duration": 100,
    "start_time": "2021-08-11T22:07:06.566Z"
   },
   {
    "duration": 19,
    "start_time": "2021-08-11T22:07:06.668Z"
   },
   {
    "duration": 22,
    "start_time": "2021-08-11T22:07:06.690Z"
   },
   {
    "duration": 910,
    "start_time": "2021-08-11T22:07:06.714Z"
   },
   {
    "duration": 80,
    "start_time": "2021-08-11T22:07:07.626Z"
   },
   {
    "duration": 5,
    "start_time": "2021-08-11T22:07:07.708Z"
   },
   {
    "duration": 118,
    "start_time": "2021-08-11T22:07:07.715Z"
   },
   {
    "duration": 7,
    "start_time": "2021-08-11T22:07:07.835Z"
   },
   {
    "duration": 6,
    "start_time": "2021-08-11T22:07:07.844Z"
   },
   {
    "duration": 134,
    "start_time": "2021-08-11T22:07:07.852Z"
   },
   {
    "duration": 108,
    "start_time": "2021-08-11T22:07:07.989Z"
   },
   {
    "duration": 85,
    "start_time": "2021-08-11T22:07:08.100Z"
   },
   {
    "duration": 5,
    "start_time": "2021-08-11T22:07:08.187Z"
   },
   {
    "duration": 7,
    "start_time": "2021-08-11T22:07:08.194Z"
   },
   {
    "duration": 4,
    "start_time": "2021-08-11T22:07:08.203Z"
   },
   {
    "duration": 4,
    "start_time": "2021-08-11T22:07:08.208Z"
   },
   {
    "duration": 88,
    "start_time": "2021-08-11T22:17:01.200Z"
   },
   {
    "duration": 359849,
    "start_time": "2021-08-11T22:24:59.518Z"
   },
   {
    "duration": 13,
    "start_time": "2021-08-11T22:30:59.369Z"
   },
   {
    "duration": 619829,
    "start_time": "2021-08-11T22:33:35.207Z"
   },
   {
    "duration": 17,
    "start_time": "2021-08-11T22:45:42.672Z"
   },
   {
    "duration": 1199,
    "start_time": "2021-08-11T22:55:09.654Z"
   },
   {
    "duration": 867,
    "start_time": "2021-08-11T22:55:10.854Z"
   },
   {
    "duration": 131,
    "start_time": "2021-08-11T22:55:11.723Z"
   },
   {
    "duration": 16,
    "start_time": "2021-08-11T22:55:11.855Z"
   },
   {
    "duration": 141,
    "start_time": "2021-08-11T22:55:11.886Z"
   },
   {
    "duration": 76,
    "start_time": "2021-08-11T22:55:12.029Z"
   },
   {
    "duration": 44,
    "start_time": "2021-08-11T22:55:12.107Z"
   },
   {
    "duration": 86,
    "start_time": "2021-08-11T22:55:12.153Z"
   },
   {
    "duration": 206,
    "start_time": "2021-08-11T22:55:12.241Z"
   },
   {
    "duration": 11,
    "start_time": "2021-08-11T22:55:12.448Z"
   },
   {
    "duration": 5,
    "start_time": "2021-08-11T22:55:12.461Z"
   },
   {
    "duration": 18,
    "start_time": "2021-08-11T22:55:12.467Z"
   },
   {
    "duration": 23,
    "start_time": "2021-08-11T22:55:12.487Z"
   },
   {
    "duration": 8,
    "start_time": "2021-08-11T22:55:12.511Z"
   },
   {
    "duration": 35,
    "start_time": "2021-08-11T22:55:12.520Z"
   },
   {
    "duration": 49,
    "start_time": "2021-08-11T22:55:12.557Z"
   },
   {
    "duration": 220,
    "start_time": "2021-08-11T22:55:12.607Z"
   },
   {
    "duration": 69,
    "start_time": "2021-08-11T22:55:12.828Z"
   },
   {
    "duration": 17,
    "start_time": "2021-08-11T22:55:12.899Z"
   },
   {
    "duration": 115,
    "start_time": "2021-08-11T22:55:12.918Z"
   },
   {
    "duration": 16,
    "start_time": "2021-08-11T22:55:13.034Z"
   },
   {
    "duration": 61,
    "start_time": "2021-08-11T22:55:13.052Z"
   },
   {
    "duration": 37,
    "start_time": "2021-08-11T22:55:13.117Z"
   },
   {
    "duration": 7,
    "start_time": "2021-08-11T22:55:13.157Z"
   },
   {
    "duration": 60,
    "start_time": "2021-08-11T22:55:13.166Z"
   },
   {
    "duration": 103,
    "start_time": "2021-08-11T22:55:13.228Z"
   },
   {
    "duration": 29,
    "start_time": "2021-08-11T22:55:13.333Z"
   },
   {
    "duration": 43,
    "start_time": "2021-08-11T22:55:13.363Z"
   },
   {
    "duration": 15,
    "start_time": "2021-08-11T22:55:13.407Z"
   },
   {
    "duration": 33,
    "start_time": "2021-08-11T22:55:13.424Z"
   },
   {
    "duration": 36,
    "start_time": "2021-08-11T22:55:13.458Z"
   },
   {
    "duration": 15,
    "start_time": "2021-08-11T22:55:13.497Z"
   },
   {
    "duration": 18,
    "start_time": "2021-08-11T22:55:13.513Z"
   },
   {
    "duration": 32,
    "start_time": "2021-08-11T22:55:13.533Z"
   },
   {
    "duration": 44,
    "start_time": "2021-08-11T22:55:13.566Z"
   },
   {
    "duration": 15,
    "start_time": "2021-08-11T22:55:13.611Z"
   },
   {
    "duration": 36,
    "start_time": "2021-08-11T22:55:13.627Z"
   },
   {
    "duration": 38,
    "start_time": "2021-08-11T22:55:13.665Z"
   },
   {
    "duration": 32,
    "start_time": "2021-08-11T22:55:13.705Z"
   },
   {
    "duration": 33,
    "start_time": "2021-08-11T22:55:13.739Z"
   },
   {
    "duration": 355,
    "start_time": "2021-08-11T22:55:13.774Z"
   },
   {
    "duration": 30,
    "start_time": "2021-08-11T22:55:14.131Z"
   },
   {
    "duration": 33,
    "start_time": "2021-08-11T22:55:14.162Z"
   },
   {
    "duration": 101,
    "start_time": "2021-08-11T22:55:14.197Z"
   },
   {
    "duration": 8,
    "start_time": "2021-08-11T22:55:14.300Z"
   },
   {
    "duration": 21,
    "start_time": "2021-08-11T22:55:14.310Z"
   },
   {
    "duration": 947,
    "start_time": "2021-08-11T22:55:14.333Z"
   },
   {
    "duration": 71,
    "start_time": "2021-08-11T22:55:15.287Z"
   },
   {
    "duration": 5,
    "start_time": "2021-08-11T22:55:15.359Z"
   },
   {
    "duration": 124,
    "start_time": "2021-08-11T22:55:15.366Z"
   },
   {
    "duration": 8,
    "start_time": "2021-08-11T22:55:15.493Z"
   },
   {
    "duration": 5,
    "start_time": "2021-08-11T22:55:15.503Z"
   },
   {
    "duration": 106,
    "start_time": "2021-08-11T22:55:15.509Z"
   },
   {
    "duration": 183,
    "start_time": "2021-08-11T22:55:15.617Z"
   },
   {
    "duration": 4,
    "start_time": "2021-08-11T22:55:15.885Z"
   },
   {
    "duration": 212,
    "start_time": "2021-08-11T22:55:15.892Z"
   },
   {
    "duration": 2,
    "start_time": "2021-08-11T22:55:16.105Z"
   },
   {
    "duration": 5,
    "start_time": "2021-08-11T22:55:16.109Z"
   },
   {
    "duration": 4,
    "start_time": "2021-08-11T22:55:16.116Z"
   },
   {
    "duration": 4,
    "start_time": "2021-08-11T22:55:16.122Z"
   },
   {
    "duration": 2,
    "start_time": "2021-08-11T22:55:31.559Z"
   },
   {
    "duration": 1487,
    "start_time": "2021-08-11T23:12:53.974Z"
   },
   {
    "duration": 1007,
    "start_time": "2021-08-11T23:12:55.464Z"
   },
   {
    "duration": 158,
    "start_time": "2021-08-11T23:12:56.474Z"
   },
   {
    "duration": 23,
    "start_time": "2021-08-11T23:12:56.634Z"
   },
   {
    "duration": 167,
    "start_time": "2021-08-11T23:12:56.660Z"
   },
   {
    "duration": 87,
    "start_time": "2021-08-11T23:12:56.829Z"
   },
   {
    "duration": 69,
    "start_time": "2021-08-11T23:12:56.919Z"
   },
   {
    "duration": 93,
    "start_time": "2021-08-11T23:12:56.991Z"
   },
   {
    "duration": 250,
    "start_time": "2021-08-11T23:12:57.088Z"
   },
   {
    "duration": 10,
    "start_time": "2021-08-11T23:12:57.341Z"
   },
   {
    "duration": 10,
    "start_time": "2021-08-11T23:12:57.353Z"
   },
   {
    "duration": 18,
    "start_time": "2021-08-11T23:12:57.366Z"
   },
   {
    "duration": 36,
    "start_time": "2021-08-11T23:12:57.387Z"
   },
   {
    "duration": 12,
    "start_time": "2021-08-11T23:12:57.425Z"
   },
   {
    "duration": 61,
    "start_time": "2021-08-11T23:12:57.439Z"
   },
   {
    "duration": 20,
    "start_time": "2021-08-11T23:12:57.503Z"
   },
   {
    "duration": 314,
    "start_time": "2021-08-11T23:12:57.526Z"
   },
   {
    "duration": 73,
    "start_time": "2021-08-11T23:12:57.842Z"
   },
   {
    "duration": 21,
    "start_time": "2021-08-11T23:12:57.917Z"
   },
   {
    "duration": 146,
    "start_time": "2021-08-11T23:12:57.941Z"
   },
   {
    "duration": 18,
    "start_time": "2021-08-11T23:12:58.089Z"
   },
   {
    "duration": 82,
    "start_time": "2021-08-11T23:12:58.110Z"
   },
   {
    "duration": 49,
    "start_time": "2021-08-11T23:12:58.195Z"
   },
   {
    "duration": 11,
    "start_time": "2021-08-11T23:12:58.246Z"
   },
   {
    "duration": 55,
    "start_time": "2021-08-11T23:12:58.283Z"
   },
   {
    "duration": 114,
    "start_time": "2021-08-11T23:12:58.340Z"
   },
   {
    "duration": 46,
    "start_time": "2021-08-11T23:12:58.460Z"
   },
   {
    "duration": 24,
    "start_time": "2021-08-11T23:12:58.508Z"
   },
   {
    "duration": 17,
    "start_time": "2021-08-11T23:12:58.534Z"
   },
   {
    "duration": 63,
    "start_time": "2021-08-11T23:12:58.553Z"
   },
   {
    "duration": 24,
    "start_time": "2021-08-11T23:12:58.618Z"
   },
   {
    "duration": 38,
    "start_time": "2021-08-11T23:12:58.644Z"
   },
   {
    "duration": 24,
    "start_time": "2021-08-11T23:12:58.684Z"
   },
   {
    "duration": 41,
    "start_time": "2021-08-11T23:12:58.710Z"
   },
   {
    "duration": 46,
    "start_time": "2021-08-11T23:12:58.754Z"
   },
   {
    "duration": 18,
    "start_time": "2021-08-11T23:12:58.803Z"
   },
   {
    "duration": 63,
    "start_time": "2021-08-11T23:12:58.823Z"
   },
   {
    "duration": 24,
    "start_time": "2021-08-11T23:12:58.889Z"
   },
   {
    "duration": 41,
    "start_time": "2021-08-11T23:12:58.916Z"
   },
   {
    "duration": 62,
    "start_time": "2021-08-11T23:12:58.959Z"
   },
   {
    "duration": 495,
    "start_time": "2021-08-11T23:12:59.024Z"
   },
   {
    "duration": 60,
    "start_time": "2021-08-11T23:12:59.522Z"
   },
   {
    "duration": 27,
    "start_time": "2021-08-11T23:12:59.585Z"
   },
   {
    "duration": 121,
    "start_time": "2021-08-11T23:12:59.614Z"
   },
   {
    "duration": 12,
    "start_time": "2021-08-11T23:12:59.738Z"
   },
   {
    "duration": 49,
    "start_time": "2021-08-11T23:12:59.752Z"
   },
   {
    "duration": 1172,
    "start_time": "2021-08-11T23:12:59.803Z"
   },
   {
    "duration": 75,
    "start_time": "2021-08-11T23:13:00.977Z"
   },
   {
    "duration": 6,
    "start_time": "2021-08-11T23:13:01.054Z"
   },
   {
    "duration": 116,
    "start_time": "2021-08-11T23:13:01.081Z"
   },
   {
    "duration": 8,
    "start_time": "2021-08-11T23:13:36.996Z"
   },
   {
    "duration": 79,
    "start_time": "2021-08-11T23:13:45.615Z"
   },
   {
    "duration": 15,
    "start_time": "2021-08-11T23:13:45.885Z"
   },
   {
    "duration": 7,
    "start_time": "2021-08-11T23:13:51.801Z"
   },
   {
    "duration": 6,
    "start_time": "2021-08-11T23:14:15.374Z"
   },
   {
    "duration": 20,
    "start_time": "2021-08-11T23:14:22.698Z"
   },
   {
    "duration": 6,
    "start_time": "2021-08-11T23:15:06.409Z"
   },
   {
    "duration": 137,
    "start_time": "2021-08-11T23:15:10.248Z"
   },
   {
    "duration": 6,
    "start_time": "2021-08-11T23:15:15.598Z"
   },
   {
    "duration": 6,
    "start_time": "2021-08-11T23:15:25.239Z"
   },
   {
    "duration": 496,
    "start_time": "2021-08-11T23:16:03.896Z"
   },
   {
    "duration": 9,
    "start_time": "2021-08-11T23:16:06.841Z"
   },
   {
    "duration": 1086,
    "start_time": "2021-08-11T23:16:07.864Z"
   },
   {
    "duration": 9,
    "start_time": "2021-08-11T23:16:10.276Z"
   },
   {
    "duration": 7,
    "start_time": "2021-08-11T23:16:11.294Z"
   },
   {
    "duration": 66,
    "start_time": "2021-08-11T23:16:15.434Z"
   },
   {
    "duration": 11,
    "start_time": "2021-08-11T23:16:16.149Z"
   },
   {
    "duration": 6,
    "start_time": "2021-08-11T23:16:19.615Z"
   },
   {
    "duration": 6,
    "start_time": "2021-08-11T23:16:38.005Z"
   },
   {
    "duration": 63,
    "start_time": "2021-08-11T23:17:33.784Z"
   },
   {
    "duration": 6,
    "start_time": "2021-08-11T23:17:34.066Z"
   },
   {
    "duration": 8,
    "start_time": "2021-08-11T23:17:36.720Z"
   },
   {
    "duration": 7,
    "start_time": "2021-08-11T23:17:36.946Z"
   },
   {
    "duration": 77,
    "start_time": "2021-08-11T23:17:38.632Z"
   },
   {
    "duration": 12,
    "start_time": "2021-08-11T23:17:38.891Z"
   },
   {
    "duration": 6,
    "start_time": "2021-08-11T23:18:24.736Z"
   },
   {
    "duration": 6,
    "start_time": "2021-08-11T23:18:28.545Z"
   },
   {
    "duration": 5,
    "start_time": "2021-08-11T23:18:56.289Z"
   },
   {
    "duration": 361,
    "start_time": "2021-08-11T23:19:04.216Z"
   },
   {
    "duration": 369,
    "start_time": "2021-08-11T23:19:09.521Z"
   },
   {
    "duration": 294,
    "start_time": "2021-08-11T23:19:11.554Z"
   },
   {
    "duration": 293,
    "start_time": "2021-08-11T23:19:15.350Z"
   },
   {
    "duration": 5,
    "start_time": "2021-08-11T23:19:29.241Z"
   },
   {
    "duration": 439,
    "start_time": "2021-08-12T14:57:23.461Z"
   },
   {
    "duration": 2043,
    "start_time": "2021-08-12T14:57:32.595Z"
   },
   {
    "duration": 1296,
    "start_time": "2021-08-12T14:57:34.641Z"
   },
   {
    "duration": 179,
    "start_time": "2021-08-12T14:57:35.940Z"
   },
   {
    "duration": 46,
    "start_time": "2021-08-12T14:57:36.122Z"
   },
   {
    "duration": 197,
    "start_time": "2021-08-12T14:57:36.172Z"
   },
   {
    "duration": 151,
    "start_time": "2021-08-12T14:57:36.372Z"
   },
   {
    "duration": 104,
    "start_time": "2021-08-12T14:57:36.526Z"
   },
   {
    "duration": 148,
    "start_time": "2021-08-12T14:57:36.634Z"
   },
   {
    "duration": 350,
    "start_time": "2021-08-12T14:57:36.784Z"
   },
   {
    "duration": 24,
    "start_time": "2021-08-12T14:57:37.137Z"
   },
   {
    "duration": 7,
    "start_time": "2021-08-12T14:57:37.166Z"
   },
   {
    "duration": 14,
    "start_time": "2021-08-12T14:57:37.176Z"
   },
   {
    "duration": 31,
    "start_time": "2021-08-12T14:57:37.194Z"
   },
   {
    "duration": 41,
    "start_time": "2021-08-12T14:57:37.228Z"
   },
   {
    "duration": 50,
    "start_time": "2021-08-12T14:57:37.272Z"
   },
   {
    "duration": 57,
    "start_time": "2021-08-12T14:57:37.325Z"
   },
   {
    "duration": 353,
    "start_time": "2021-08-12T14:57:37.384Z"
   },
   {
    "duration": 73,
    "start_time": "2021-08-12T14:57:37.740Z"
   },
   {
    "duration": 22,
    "start_time": "2021-08-12T14:57:37.815Z"
   },
   {
    "duration": 166,
    "start_time": "2021-08-12T14:57:37.839Z"
   },
   {
    "duration": 22,
    "start_time": "2021-08-12T14:57:38.008Z"
   },
   {
    "duration": 91,
    "start_time": "2021-08-12T14:57:38.032Z"
   },
   {
    "duration": 69,
    "start_time": "2021-08-12T14:57:38.128Z"
   },
   {
    "duration": 16,
    "start_time": "2021-08-12T14:57:38.201Z"
   },
   {
    "duration": 110,
    "start_time": "2021-08-12T14:57:38.220Z"
   },
   {
    "duration": 129,
    "start_time": "2021-08-12T14:57:38.333Z"
   },
   {
    "duration": 58,
    "start_time": "2021-08-12T14:57:38.465Z"
   },
   {
    "duration": 62,
    "start_time": "2021-08-12T14:57:38.526Z"
   },
   {
    "duration": 32,
    "start_time": "2021-08-12T14:57:38.592Z"
   },
   {
    "duration": 92,
    "start_time": "2021-08-12T14:57:38.627Z"
   },
   {
    "duration": 39,
    "start_time": "2021-08-12T14:57:38.722Z"
   },
   {
    "duration": 37,
    "start_time": "2021-08-12T14:57:38.764Z"
   },
   {
    "duration": 60,
    "start_time": "2021-08-12T14:57:38.803Z"
   },
   {
    "duration": 99,
    "start_time": "2021-08-12T14:57:38.866Z"
   },
   {
    "duration": 48,
    "start_time": "2021-08-12T14:57:38.967Z"
   },
   {
    "duration": 29,
    "start_time": "2021-08-12T14:57:39.018Z"
   },
   {
    "duration": 54,
    "start_time": "2021-08-12T14:57:39.050Z"
   },
   {
    "duration": 53,
    "start_time": "2021-08-12T14:57:39.107Z"
   },
   {
    "duration": 55,
    "start_time": "2021-08-12T14:57:39.162Z"
   },
   {
    "duration": 72,
    "start_time": "2021-08-12T14:57:39.219Z"
   },
   {
    "duration": 524,
    "start_time": "2021-08-12T14:57:39.293Z"
   },
   {
    "duration": 54,
    "start_time": "2021-08-12T14:57:39.820Z"
   },
   {
    "duration": 28,
    "start_time": "2021-08-12T14:57:39.877Z"
   },
   {
    "duration": 139,
    "start_time": "2021-08-12T14:57:39.908Z"
   },
   {
    "duration": 13,
    "start_time": "2021-08-12T14:57:40.056Z"
   },
   {
    "duration": 35,
    "start_time": "2021-08-12T14:57:40.072Z"
   },
   {
    "duration": 1949,
    "start_time": "2021-08-12T14:57:40.110Z"
   },
   {
    "duration": 121,
    "start_time": "2021-08-12T14:57:42.061Z"
   },
   {
    "duration": 6,
    "start_time": "2021-08-12T14:57:42.186Z"
   },
   {
    "duration": 168,
    "start_time": "2021-08-12T14:57:42.195Z"
   },
   {
    "duration": 11,
    "start_time": "2021-08-12T14:57:42.366Z"
   },
   {
    "duration": 18,
    "start_time": "2021-08-12T14:57:42.379Z"
   },
   {
    "duration": 164,
    "start_time": "2021-08-12T14:57:42.399Z"
   },
   {
    "duration": 7,
    "start_time": "2021-08-12T14:57:42.567Z"
   },
   {
    "duration": 189,
    "start_time": "2021-08-12T14:57:42.577Z"
   },
   {
    "duration": 87,
    "start_time": "2021-08-12T14:57:42.769Z"
   },
   {
    "duration": 25,
    "start_time": "2021-08-12T14:57:42.859Z"
   },
   {
    "duration": 30,
    "start_time": "2021-08-12T14:57:42.886Z"
   },
   {
    "duration": 27,
    "start_time": "2021-08-12T14:57:42.918Z"
   },
   {
    "duration": 14,
    "start_time": "2021-08-12T14:57:42.947Z"
   },
   {
    "duration": 27,
    "start_time": "2021-08-12T14:57:42.964Z"
   },
   {
    "duration": 13,
    "start_time": "2021-08-12T14:59:26.868Z"
   },
   {
    "duration": 524,
    "start_time": "2021-08-12T15:00:09.261Z"
   },
   {
    "duration": 14,
    "start_time": "2021-08-12T15:00:16.626Z"
   },
   {
    "duration": 16,
    "start_time": "2021-08-12T15:00:31.339Z"
   },
   {
    "duration": 13,
    "start_time": "2021-08-12T15:01:45.303Z"
   },
   {
    "duration": 24,
    "start_time": "2021-08-12T15:02:44.202Z"
   },
   {
    "duration": 86,
    "start_time": "2021-08-12T15:05:33.469Z"
   },
   {
    "duration": 1594,
    "start_time": "2021-08-12T15:06:22.168Z"
   },
   {
    "duration": 1118,
    "start_time": "2021-08-12T15:06:23.764Z"
   },
   {
    "duration": 170,
    "start_time": "2021-08-12T15:06:24.885Z"
   },
   {
    "duration": 25,
    "start_time": "2021-08-12T15:06:25.058Z"
   },
   {
    "duration": 177,
    "start_time": "2021-08-12T15:06:25.085Z"
   },
   {
    "duration": 105,
    "start_time": "2021-08-12T15:06:25.264Z"
   },
   {
    "duration": 68,
    "start_time": "2021-08-12T15:06:25.371Z"
   },
   {
    "duration": 99,
    "start_time": "2021-08-12T15:06:25.456Z"
   },
   {
    "duration": 280,
    "start_time": "2021-08-12T15:06:25.558Z"
   },
   {
    "duration": 20,
    "start_time": "2021-08-12T15:06:25.841Z"
   },
   {
    "duration": 19,
    "start_time": "2021-08-12T15:06:25.863Z"
   },
   {
    "duration": 13,
    "start_time": "2021-08-12T15:06:25.884Z"
   },
   {
    "duration": 28,
    "start_time": "2021-08-12T15:06:25.899Z"
   },
   {
    "duration": 13,
    "start_time": "2021-08-12T15:06:25.929Z"
   },
   {
    "duration": 51,
    "start_time": "2021-08-12T15:06:25.957Z"
   },
   {
    "duration": 29,
    "start_time": "2021-08-12T15:06:26.011Z"
   },
   {
    "duration": 448,
    "start_time": "2021-08-12T15:06:26.057Z"
   },
   {
    "duration": 91,
    "start_time": "2021-08-12T15:06:26.508Z"
   },
   {
    "duration": 27,
    "start_time": "2021-08-12T15:06:26.602Z"
   },
   {
    "duration": 123,
    "start_time": "2021-08-12T15:06:26.632Z"
   },
   {
    "duration": 154,
    "start_time": "2021-08-12T15:06:26.758Z"
   },
   {
    "duration": 21,
    "start_time": "2021-08-12T15:06:26.914Z"
   },
   {
    "duration": 89,
    "start_time": "2021-08-12T15:06:26.941Z"
   },
   {
    "duration": 70,
    "start_time": "2021-08-12T15:06:27.035Z"
   },
   {
    "duration": 14,
    "start_time": "2021-08-12T15:06:27.108Z"
   },
   {
    "duration": 92,
    "start_time": "2021-08-12T15:06:27.124Z"
   },
   {
    "duration": 131,
    "start_time": "2021-08-12T15:06:27.219Z"
   },
   {
    "duration": 41,
    "start_time": "2021-08-12T15:06:27.352Z"
   },
   {
    "duration": 38,
    "start_time": "2021-08-12T15:06:27.395Z"
   },
   {
    "duration": 35,
    "start_time": "2021-08-12T15:06:27.435Z"
   },
   {
    "duration": 57,
    "start_time": "2021-08-12T15:06:27.473Z"
   },
   {
    "duration": 41,
    "start_time": "2021-08-12T15:06:27.533Z"
   },
   {
    "duration": 20,
    "start_time": "2021-08-12T15:06:27.576Z"
   },
   {
    "duration": 43,
    "start_time": "2021-08-12T15:06:27.598Z"
   },
   {
    "duration": 49,
    "start_time": "2021-08-12T15:06:27.643Z"
   },
   {
    "duration": 40,
    "start_time": "2021-08-12T15:06:27.695Z"
   },
   {
    "duration": 34,
    "start_time": "2021-08-12T15:06:27.738Z"
   },
   {
    "duration": 44,
    "start_time": "2021-08-12T15:06:27.775Z"
   },
   {
    "duration": 55,
    "start_time": "2021-08-12T15:06:27.822Z"
   },
   {
    "duration": 46,
    "start_time": "2021-08-12T15:06:27.879Z"
   },
   {
    "duration": 63,
    "start_time": "2021-08-12T15:06:27.929Z"
   },
   {
    "duration": 547,
    "start_time": "2021-08-12T15:06:27.994Z"
   },
   {
    "duration": 46,
    "start_time": "2021-08-12T15:06:28.544Z"
   },
   {
    "duration": 30,
    "start_time": "2021-08-12T15:06:28.593Z"
   },
   {
    "duration": 141,
    "start_time": "2021-08-12T15:06:28.626Z"
   },
   {
    "duration": 11,
    "start_time": "2021-08-12T15:06:28.769Z"
   },
   {
    "duration": 35,
    "start_time": "2021-08-12T15:06:28.782Z"
   },
   {
    "duration": 1912,
    "start_time": "2021-08-12T15:06:28.819Z"
   },
   {
    "duration": 129,
    "start_time": "2021-08-12T15:06:30.734Z"
   },
   {
    "duration": 7,
    "start_time": "2021-08-12T15:06:30.866Z"
   },
   {
    "duration": 164,
    "start_time": "2021-08-12T15:06:30.875Z"
   },
   {
    "duration": 14,
    "start_time": "2021-08-12T15:06:31.043Z"
   },
   {
    "duration": 25,
    "start_time": "2021-08-12T15:06:31.060Z"
   },
   {
    "duration": 181,
    "start_time": "2021-08-12T15:06:31.088Z"
   },
   {
    "duration": 8,
    "start_time": "2021-08-12T15:06:31.272Z"
   },
   {
    "duration": 28,
    "start_time": "2021-08-12T15:06:31.355Z"
   },
   {
    "duration": 78,
    "start_time": "2021-08-12T15:06:31.386Z"
   },
   {
    "duration": 94,
    "start_time": "2021-08-12T15:06:31.467Z"
   },
   {
    "duration": 10,
    "start_time": "2021-08-12T15:06:31.564Z"
   },
   {
    "duration": 99,
    "start_time": "2021-08-12T15:06:31.577Z"
   },
   {
    "duration": 32,
    "start_time": "2021-08-12T15:06:31.679Z"
   },
   {
    "duration": 30,
    "start_time": "2021-08-12T15:06:31.713Z"
   },
   {
    "duration": 39,
    "start_time": "2021-08-12T15:06:47.003Z"
   },
   {
    "duration": 1667,
    "start_time": "2021-08-12T15:08:10.741Z"
   },
   {
    "duration": 1290,
    "start_time": "2021-08-12T15:08:12.411Z"
   },
   {
    "duration": 318,
    "start_time": "2021-08-12T15:08:13.758Z"
   },
   {
    "duration": 24,
    "start_time": "2021-08-12T15:08:14.078Z"
   },
   {
    "duration": 201,
    "start_time": "2021-08-12T15:08:14.105Z"
   },
   {
    "duration": 103,
    "start_time": "2021-08-12T15:08:14.308Z"
   },
   {
    "duration": 78,
    "start_time": "2021-08-12T15:08:14.414Z"
   },
   {
    "duration": 102,
    "start_time": "2021-08-12T15:08:14.496Z"
   },
   {
    "duration": 418,
    "start_time": "2021-08-12T15:08:14.602Z"
   },
   {
    "duration": 15,
    "start_time": "2021-08-12T15:08:15.023Z"
   },
   {
    "duration": 16,
    "start_time": "2021-08-12T15:08:15.041Z"
   },
   {
    "duration": 16,
    "start_time": "2021-08-12T15:08:15.060Z"
   },
   {
    "duration": 38,
    "start_time": "2021-08-12T15:08:15.079Z"
   },
   {
    "duration": 40,
    "start_time": "2021-08-12T15:08:15.120Z"
   },
   {
    "duration": 60,
    "start_time": "2021-08-12T15:08:15.163Z"
   },
   {
    "duration": 54,
    "start_time": "2021-08-12T15:08:15.225Z"
   },
   {
    "duration": 451,
    "start_time": "2021-08-12T15:08:15.282Z"
   },
   {
    "duration": 85,
    "start_time": "2021-08-12T15:08:15.736Z"
   },
   {
    "duration": 43,
    "start_time": "2021-08-12T15:08:15.824Z"
   },
   {
    "duration": 64,
    "start_time": "2021-08-12T15:08:15.870Z"
   },
   {
    "duration": 170,
    "start_time": "2021-08-12T15:08:15.957Z"
   },
   {
    "duration": 36,
    "start_time": "2021-08-12T15:08:16.130Z"
   },
   {
    "duration": 105,
    "start_time": "2021-08-12T15:08:16.174Z"
   },
   {
    "duration": 85,
    "start_time": "2021-08-12T15:08:16.284Z"
   },
   {
    "duration": 16,
    "start_time": "2021-08-12T15:08:16.372Z"
   },
   {
    "duration": 94,
    "start_time": "2021-08-12T15:08:16.391Z"
   },
   {
    "duration": 193,
    "start_time": "2021-08-12T15:08:16.488Z"
   },
   {
    "duration": 82,
    "start_time": "2021-08-12T15:08:16.684Z"
   },
   {
    "duration": 27,
    "start_time": "2021-08-12T15:08:16.769Z"
   },
   {
    "duration": 37,
    "start_time": "2021-08-12T15:08:16.798Z"
   },
   {
    "duration": 59,
    "start_time": "2021-08-12T15:08:16.837Z"
   },
   {
    "duration": 30,
    "start_time": "2021-08-12T15:08:16.899Z"
   },
   {
    "duration": 32,
    "start_time": "2021-08-12T15:08:16.932Z"
   },
   {
    "duration": 27,
    "start_time": "2021-08-12T15:08:16.967Z"
   },
   {
    "duration": 70,
    "start_time": "2021-08-12T15:08:16.996Z"
   },
   {
    "duration": 44,
    "start_time": "2021-08-12T15:08:17.068Z"
   },
   {
    "duration": 44,
    "start_time": "2021-08-12T15:08:17.115Z"
   },
   {
    "duration": 58,
    "start_time": "2021-08-12T15:08:17.162Z"
   },
   {
    "duration": 61,
    "start_time": "2021-08-12T15:08:17.223Z"
   },
   {
    "duration": 75,
    "start_time": "2021-08-12T15:08:17.287Z"
   },
   {
    "duration": 67,
    "start_time": "2021-08-12T15:08:17.365Z"
   },
   {
    "duration": 549,
    "start_time": "2021-08-12T15:08:17.456Z"
   },
   {
    "duration": 52,
    "start_time": "2021-08-12T15:08:18.008Z"
   },
   {
    "duration": 34,
    "start_time": "2021-08-12T15:08:18.062Z"
   },
   {
    "duration": 149,
    "start_time": "2021-08-12T15:08:18.098Z"
   },
   {
    "duration": 18,
    "start_time": "2021-08-12T15:08:18.257Z"
   },
   {
    "duration": 38,
    "start_time": "2021-08-12T15:08:18.279Z"
   },
   {
    "duration": 1585,
    "start_time": "2021-08-12T15:08:18.319Z"
   },
   {
    "duration": 97,
    "start_time": "2021-08-12T15:08:19.906Z"
   },
   {
    "duration": 6,
    "start_time": "2021-08-12T15:08:20.005Z"
   },
   {
    "duration": 158,
    "start_time": "2021-08-12T15:08:20.013Z"
   },
   {
    "duration": 9,
    "start_time": "2021-08-12T15:08:20.174Z"
   },
   {
    "duration": 12,
    "start_time": "2021-08-12T15:08:20.185Z"
   },
   {
    "duration": 157,
    "start_time": "2021-08-12T15:08:20.199Z"
   },
   {
    "duration": 6,
    "start_time": "2021-08-12T15:08:20.359Z"
   },
   {
    "duration": 94,
    "start_time": "2021-08-12T15:08:20.368Z"
   },
   {
    "duration": 91,
    "start_time": "2021-08-12T15:08:20.465Z"
   },
   {
    "duration": 9,
    "start_time": "2021-08-12T15:08:20.559Z"
   },
   {
    "duration": 85,
    "start_time": "2021-08-12T15:08:20.571Z"
   },
   {
    "duration": 4,
    "start_time": "2021-08-12T15:08:20.659Z"
   },
   {
    "duration": 7,
    "start_time": "2021-08-12T15:08:20.666Z"
   },
   {
    "duration": 14,
    "start_time": "2021-08-12T15:08:20.676Z"
   },
   {
    "duration": 21,
    "start_time": "2021-08-12T15:15:43.963Z"
   },
   {
    "duration": 54,
    "start_time": "2021-08-12T15:16:29.796Z"
   },
   {
    "duration": 7,
    "start_time": "2021-08-12T15:18:34.126Z"
   },
   {
    "duration": 28,
    "start_time": "2021-08-12T15:18:55.899Z"
   },
   {
    "duration": 1705,
    "start_time": "2021-08-12T15:19:55.365Z"
   },
   {
    "duration": 1224,
    "start_time": "2021-08-12T15:19:57.073Z"
   },
   {
    "duration": 159,
    "start_time": "2021-08-12T15:19:58.300Z"
   },
   {
    "duration": 23,
    "start_time": "2021-08-12T15:19:58.462Z"
   },
   {
    "duration": 161,
    "start_time": "2021-08-12T15:19:58.487Z"
   },
   {
    "duration": 84,
    "start_time": "2021-08-12T15:19:58.650Z"
   },
   {
    "duration": 68,
    "start_time": "2021-08-12T15:19:58.737Z"
   },
   {
    "duration": 98,
    "start_time": "2021-08-12T15:19:58.808Z"
   },
   {
    "duration": 254,
    "start_time": "2021-08-12T15:19:58.909Z"
   },
   {
    "duration": 13,
    "start_time": "2021-08-12T15:19:59.165Z"
   },
   {
    "duration": 6,
    "start_time": "2021-08-12T15:19:59.180Z"
   },
   {
    "duration": 8,
    "start_time": "2021-08-12T15:19:59.188Z"
   },
   {
    "duration": 24,
    "start_time": "2021-08-12T15:19:59.198Z"
   },
   {
    "duration": 13,
    "start_time": "2021-08-12T15:19:59.225Z"
   },
   {
    "duration": 55,
    "start_time": "2021-08-12T15:19:59.241Z"
   },
   {
    "duration": 23,
    "start_time": "2021-08-12T15:19:59.298Z"
   },
   {
    "duration": 329,
    "start_time": "2021-08-12T15:19:59.323Z"
   },
   {
    "duration": 75,
    "start_time": "2021-08-12T15:19:59.653Z"
   },
   {
    "duration": 21,
    "start_time": "2021-08-12T15:19:59.730Z"
   },
   {
    "duration": 136,
    "start_time": "2021-08-12T15:19:59.753Z"
   },
   {
    "duration": 22,
    "start_time": "2021-08-12T15:19:59.891Z"
   },
   {
    "duration": 141,
    "start_time": "2021-08-12T15:19:59.915Z"
   },
   {
    "duration": 109,
    "start_time": "2021-08-12T15:20:00.061Z"
   },
   {
    "duration": 13,
    "start_time": "2021-08-12T15:20:00.173Z"
   },
   {
    "duration": 87,
    "start_time": "2021-08-12T15:20:00.188Z"
   },
   {
    "duration": 198,
    "start_time": "2021-08-12T15:20:00.277Z"
   },
   {
    "duration": 30,
    "start_time": "2021-08-12T15:20:00.477Z"
   },
   {
    "duration": 67,
    "start_time": "2021-08-12T15:20:00.510Z"
   },
   {
    "duration": 96,
    "start_time": "2021-08-12T15:20:00.580Z"
   },
   {
    "duration": 179,
    "start_time": "2021-08-12T15:20:00.679Z"
   },
   {
    "duration": 37,
    "start_time": "2021-08-12T15:20:00.861Z"
   },
   {
    "duration": 56,
    "start_time": "2021-08-12T15:20:00.901Z"
   },
   {
    "duration": 73,
    "start_time": "2021-08-12T15:20:00.960Z"
   },
   {
    "duration": 48,
    "start_time": "2021-08-12T15:20:01.036Z"
   },
   {
    "duration": 35,
    "start_time": "2021-08-12T15:20:01.087Z"
   },
   {
    "duration": 72,
    "start_time": "2021-08-12T15:20:01.125Z"
   },
   {
    "duration": 74,
    "start_time": "2021-08-12T15:20:01.199Z"
   },
   {
    "duration": 73,
    "start_time": "2021-08-12T15:20:01.276Z"
   },
   {
    "duration": 48,
    "start_time": "2021-08-12T15:20:01.352Z"
   },
   {
    "duration": 112,
    "start_time": "2021-08-12T15:20:01.403Z"
   },
   {
    "duration": 154,
    "start_time": "2021-08-12T15:20:01.517Z"
   },
   {
    "duration": 144,
    "start_time": "2021-08-12T15:20:01.673Z"
   },
   {
    "duration": 96,
    "start_time": "2021-08-12T15:20:01.820Z"
   },
   {
    "duration": 611,
    "start_time": "2021-08-12T15:20:01.919Z"
   },
   {
    "duration": 48,
    "start_time": "2021-08-12T15:20:02.532Z"
   },
   {
    "duration": 80,
    "start_time": "2021-08-12T15:20:02.582Z"
   },
   {
    "duration": 124,
    "start_time": "2021-08-12T15:20:02.664Z"
   },
   {
    "duration": 10,
    "start_time": "2021-08-12T15:20:02.790Z"
   },
   {
    "duration": 39,
    "start_time": "2021-08-12T15:20:02.803Z"
   },
   {
    "duration": 1221,
    "start_time": "2021-08-12T15:20:02.857Z"
   },
   {
    "duration": 185,
    "start_time": "2021-08-12T15:20:04.081Z"
   },
   {
    "duration": 8,
    "start_time": "2021-08-12T15:20:04.269Z"
   },
   {
    "duration": 290,
    "start_time": "2021-08-12T15:20:04.279Z"
   },
   {
    "duration": 10,
    "start_time": "2021-08-12T15:20:04.572Z"
   },
   {
    "duration": 24,
    "start_time": "2021-08-12T15:20:04.585Z"
   },
   {
    "duration": 247,
    "start_time": "2021-08-12T15:20:04.611Z"
   },
   {
    "duration": 7,
    "start_time": "2021-08-12T15:20:04.860Z"
   },
   {
    "duration": 187,
    "start_time": "2021-08-12T15:20:04.869Z"
   },
   {
    "duration": 99,
    "start_time": "2021-08-12T15:20:05.059Z"
   },
   {
    "duration": 47,
    "start_time": "2021-08-12T15:20:05.161Z"
   },
   {
    "duration": 10,
    "start_time": "2021-08-12T15:20:05.210Z"
   },
   {
    "duration": 18,
    "start_time": "2021-08-12T15:20:05.222Z"
   },
   {
    "duration": 14,
    "start_time": "2021-08-12T15:20:05.242Z"
   },
   {
    "duration": 20,
    "start_time": "2021-08-12T15:20:05.258Z"
   },
   {
    "duration": 23,
    "start_time": "2021-08-12T15:20:33.806Z"
   },
   {
    "duration": 37,
    "start_time": "2021-08-12T15:21:18.568Z"
   },
   {
    "duration": 39,
    "start_time": "2021-08-12T15:22:35.463Z"
   },
   {
    "duration": 38,
    "start_time": "2021-08-12T15:23:09.613Z"
   },
   {
    "duration": 74,
    "start_time": "2021-08-12T15:26:01.847Z"
   },
   {
    "duration": 26,
    "start_time": "2021-08-12T15:26:23.463Z"
   },
   {
    "duration": 253,
    "start_time": "2021-08-12T15:27:54.671Z"
   },
   {
    "duration": 40,
    "start_time": "2021-08-12T15:36:35.063Z"
   },
   {
    "duration": 28,
    "start_time": "2021-08-12T15:37:33.103Z"
   },
   {
    "duration": 29,
    "start_time": "2021-08-12T15:37:52.206Z"
   },
   {
    "duration": 58,
    "start_time": "2021-08-12T15:39:22.817Z"
   },
   {
    "duration": 25,
    "start_time": "2021-08-12T15:39:47.790Z"
   },
   {
    "duration": 47,
    "start_time": "2021-08-12T15:40:02.091Z"
   },
   {
    "duration": 48,
    "start_time": "2021-08-12T15:40:53.228Z"
   },
   {
    "duration": 36,
    "start_time": "2021-08-12T15:41:06.838Z"
   },
   {
    "duration": 28,
    "start_time": "2021-08-12T15:41:14.184Z"
   },
   {
    "duration": 51,
    "start_time": "2021-08-12T15:42:27.206Z"
   },
   {
    "duration": 43,
    "start_time": "2021-08-12T15:45:45.027Z"
   },
   {
    "duration": 528,
    "start_time": "2021-08-12T15:47:46.204Z"
   },
   {
    "duration": 385,
    "start_time": "2021-08-12T15:47:59.486Z"
   },
   {
    "duration": 404,
    "start_time": "2021-08-12T15:48:22.581Z"
   },
   {
    "duration": 417,
    "start_time": "2021-08-12T15:48:51.169Z"
   },
   {
    "duration": 70,
    "start_time": "2021-08-12T15:48:58.820Z"
   },
   {
    "duration": 70,
    "start_time": "2021-08-12T16:08:14.248Z"
   },
   {
    "duration": 280,
    "start_time": "2021-08-12T16:09:25.646Z"
   },
   {
    "duration": 351,
    "start_time": "2021-08-12T16:09:54.486Z"
   },
   {
    "duration": 10,
    "start_time": "2021-08-12T16:10:52.129Z"
   },
   {
    "duration": 10,
    "start_time": "2021-08-12T16:11:07.880Z"
   },
   {
    "duration": 365,
    "start_time": "2021-08-12T16:11:56.732Z"
   },
   {
    "duration": 362,
    "start_time": "2021-08-12T16:12:03.610Z"
   },
   {
    "duration": 372,
    "start_time": "2021-08-12T16:12:09.883Z"
   },
   {
    "duration": 363,
    "start_time": "2021-08-12T16:12:28.225Z"
   },
   {
    "duration": 41,
    "start_time": "2021-08-12T16:12:34.887Z"
   },
   {
    "duration": 41,
    "start_time": "2021-08-12T16:14:27.340Z"
   },
   {
    "duration": 39,
    "start_time": "2021-08-12T16:15:36.463Z"
   },
   {
    "duration": 38,
    "start_time": "2021-08-12T16:15:48.877Z"
   },
   {
    "duration": 70,
    "start_time": "2021-08-12T16:16:28.580Z"
   },
   {
    "duration": 8,
    "start_time": "2021-08-12T16:18:50.043Z"
   },
   {
    "duration": 23,
    "start_time": "2021-08-12T16:19:01.338Z"
   },
   {
    "duration": 10,
    "start_time": "2021-08-12T16:20:46.930Z"
   },
   {
    "duration": 47,
    "start_time": "2021-08-12T16:21:36.737Z"
   },
   {
    "duration": 53,
    "start_time": "2021-08-12T16:22:10.021Z"
   },
   {
    "duration": 38,
    "start_time": "2021-08-12T16:25:26.704Z"
   },
   {
    "duration": 29,
    "start_time": "2021-08-12T16:26:09.507Z"
   },
   {
    "duration": 30,
    "start_time": "2021-08-12T16:26:37.512Z"
   },
   {
    "duration": 40,
    "start_time": "2021-08-12T16:36:14.116Z"
   },
   {
    "duration": 42,
    "start_time": "2021-08-12T16:38:17.107Z"
   },
   {
    "duration": 409,
    "start_time": "2021-08-12T16:41:14.067Z"
   },
   {
    "duration": 349,
    "start_time": "2021-08-12T16:42:00.624Z"
   },
   {
    "duration": 60,
    "start_time": "2021-08-12T16:42:15.753Z"
   },
   {
    "duration": 3096,
    "start_time": "2021-08-12T16:42:25.476Z"
   },
   {
    "duration": 7,
    "start_time": "2021-08-12T16:42:49.470Z"
   },
   {
    "duration": 65,
    "start_time": "2021-08-12T16:43:05.188Z"
   },
   {
    "duration": 5,
    "start_time": "2021-08-12T16:43:06.276Z"
   },
   {
    "duration": 70,
    "start_time": "2021-08-12T16:44:58.827Z"
   },
   {
    "duration": 6,
    "start_time": "2021-08-12T16:44:59.939Z"
   },
   {
    "duration": 77,
    "start_time": "2021-08-12T16:46:41.809Z"
   },
   {
    "duration": 26,
    "start_time": "2021-08-12T16:47:56.942Z"
   },
   {
    "duration": 20,
    "start_time": "2021-08-12T16:48:30.169Z"
   },
   {
    "duration": 15,
    "start_time": "2021-08-12T16:49:28.182Z"
   },
   {
    "duration": 1601,
    "start_time": "2021-08-12T16:49:39.768Z"
   },
   {
    "duration": 1110,
    "start_time": "2021-08-12T16:49:41.372Z"
   },
   {
    "duration": 179,
    "start_time": "2021-08-12T16:49:42.488Z"
   },
   {
    "duration": 25,
    "start_time": "2021-08-12T16:49:42.669Z"
   },
   {
    "duration": 175,
    "start_time": "2021-08-12T16:49:42.696Z"
   },
   {
    "duration": 99,
    "start_time": "2021-08-12T16:49:42.873Z"
   },
   {
    "duration": 59,
    "start_time": "2021-08-12T16:49:42.976Z"
   },
   {
    "duration": 106,
    "start_time": "2021-08-12T16:49:43.038Z"
   },
   {
    "duration": 278,
    "start_time": "2021-08-12T16:49:43.156Z"
   },
   {
    "duration": 21,
    "start_time": "2021-08-12T16:49:43.436Z"
   },
   {
    "duration": 5,
    "start_time": "2021-08-12T16:49:43.460Z"
   },
   {
    "duration": 8,
    "start_time": "2021-08-12T16:49:43.468Z"
   },
   {
    "duration": 28,
    "start_time": "2021-08-12T16:49:43.478Z"
   },
   {
    "duration": 12,
    "start_time": "2021-08-12T16:49:43.508Z"
   },
   {
    "duration": 45,
    "start_time": "2021-08-12T16:49:43.555Z"
   },
   {
    "duration": 21,
    "start_time": "2021-08-12T16:49:43.603Z"
   },
   {
    "duration": 338,
    "start_time": "2021-08-12T16:49:43.626Z"
   },
   {
    "duration": 68,
    "start_time": "2021-08-12T16:49:43.966Z"
   },
   {
    "duration": 35,
    "start_time": "2021-08-12T16:49:44.036Z"
   },
   {
    "duration": 156,
    "start_time": "2021-08-12T16:49:44.074Z"
   },
   {
    "duration": 28,
    "start_time": "2021-08-12T16:49:44.233Z"
   },
   {
    "duration": 68,
    "start_time": "2021-08-12T16:49:44.267Z"
   },
   {
    "duration": 63,
    "start_time": "2021-08-12T16:49:44.339Z"
   },
   {
    "duration": 11,
    "start_time": "2021-08-12T16:49:44.405Z"
   },
   {
    "duration": 88,
    "start_time": "2021-08-12T16:49:44.419Z"
   },
   {
    "duration": 118,
    "start_time": "2021-08-12T16:49:44.509Z"
   },
   {
    "duration": 31,
    "start_time": "2021-08-12T16:49:44.629Z"
   },
   {
    "duration": 266,
    "start_time": "2021-08-12T16:49:44.662Z"
   },
   {
    "duration": 8,
    "start_time": "2021-08-12T16:49:44.931Z"
   },
   {
    "duration": 36,
    "start_time": "2021-08-12T16:49:44.941Z"
   },
   {
    "duration": 9,
    "start_time": "2021-08-12T16:49:44.979Z"
   },
   {
    "duration": 72,
    "start_time": "2021-08-12T16:49:44.990Z"
   },
   {
    "duration": 41,
    "start_time": "2021-08-12T16:49:45.064Z"
   },
   {
    "duration": 90,
    "start_time": "2021-08-12T16:49:45.108Z"
   },
   {
    "duration": 5,
    "start_time": "2021-08-12T16:49:45.200Z"
   },
   {
    "duration": 26,
    "start_time": "2021-08-12T16:49:45.207Z"
   },
   {
    "duration": 36,
    "start_time": "2021-08-12T16:49:45.236Z"
   },
   {
    "duration": 39,
    "start_time": "2021-08-12T16:49:45.275Z"
   },
   {
    "duration": 51,
    "start_time": "2021-08-12T16:49:45.317Z"
   },
   {
    "duration": 21,
    "start_time": "2021-08-12T16:49:45.370Z"
   },
   {
    "duration": 63,
    "start_time": "2021-08-12T16:49:45.393Z"
   },
   {
    "duration": 26,
    "start_time": "2021-08-12T16:49:45.458Z"
   },
   {
    "duration": 19,
    "start_time": "2021-08-12T16:49:45.486Z"
   },
   {
    "duration": 52,
    "start_time": "2021-08-12T16:49:45.507Z"
   },
   {
    "duration": 46,
    "start_time": "2021-08-12T16:49:45.561Z"
   },
   {
    "duration": 26,
    "start_time": "2021-08-12T16:49:45.609Z"
   },
   {
    "duration": 34,
    "start_time": "2021-08-12T16:49:45.638Z"
   },
   {
    "duration": 41,
    "start_time": "2021-08-12T16:49:45.675Z"
   },
   {
    "duration": 56,
    "start_time": "2021-08-12T16:49:45.718Z"
   },
   {
    "duration": 40,
    "start_time": "2021-08-12T16:49:45.777Z"
   },
   {
    "duration": 62,
    "start_time": "2021-08-12T16:49:45.820Z"
   },
   {
    "duration": 525,
    "start_time": "2021-08-12T16:49:45.884Z"
   },
   {
    "duration": 47,
    "start_time": "2021-08-12T16:49:46.411Z"
   },
   {
    "duration": 28,
    "start_time": "2021-08-12T16:49:46.461Z"
   },
   {
    "duration": 118,
    "start_time": "2021-08-12T16:49:46.491Z"
   },
   {
    "duration": 11,
    "start_time": "2021-08-12T16:49:46.612Z"
   },
   {
    "duration": 51,
    "start_time": "2021-08-12T16:49:46.625Z"
   },
   {
    "duration": 1203,
    "start_time": "2021-08-12T16:49:46.678Z"
   },
   {
    "duration": 93,
    "start_time": "2021-08-12T16:49:47.883Z"
   },
   {
    "duration": 6,
    "start_time": "2021-08-12T16:49:47.978Z"
   },
   {
    "duration": 124,
    "start_time": "2021-08-12T16:49:47.986Z"
   },
   {
    "duration": 11,
    "start_time": "2021-08-12T16:49:48.112Z"
   },
   {
    "duration": 31,
    "start_time": "2021-08-12T16:49:48.127Z"
   },
   {
    "duration": 114,
    "start_time": "2021-08-12T16:49:48.161Z"
   },
   {
    "duration": 6,
    "start_time": "2021-08-12T16:49:48.277Z"
   },
   {
    "duration": 98,
    "start_time": "2021-08-12T16:49:48.357Z"
   },
   {
    "duration": 89,
    "start_time": "2021-08-12T16:49:48.467Z"
   },
   {
    "duration": 3,
    "start_time": "2021-08-12T16:49:48.559Z"
   },
   {
    "duration": 7,
    "start_time": "2021-08-12T16:49:48.564Z"
   },
   {
    "duration": 6,
    "start_time": "2021-08-12T16:49:48.573Z"
   },
   {
    "duration": 8,
    "start_time": "2021-08-12T16:49:48.581Z"
   },
   {
    "duration": 6,
    "start_time": "2021-08-12T16:49:48.591Z"
   },
   {
    "duration": 33,
    "start_time": "2021-08-12T16:51:52.343Z"
   },
   {
    "duration": 23,
    "start_time": "2021-08-12T16:53:07.377Z"
   },
   {
    "duration": 14,
    "start_time": "2021-08-12T16:54:11.054Z"
   },
   {
    "duration": 25,
    "start_time": "2021-08-12T16:54:12.516Z"
   },
   {
    "duration": 27,
    "start_time": "2021-08-12T16:54:13.714Z"
   },
   {
    "duration": 13,
    "start_time": "2021-08-12T16:55:10.262Z"
   },
   {
    "duration": 25,
    "start_time": "2021-08-12T16:55:11.235Z"
   },
   {
    "duration": 30,
    "start_time": "2021-08-12T16:59:42.872Z"
   },
   {
    "duration": 1565,
    "start_time": "2021-08-12T17:00:01.510Z"
   },
   {
    "duration": 1106,
    "start_time": "2021-08-12T17:00:03.078Z"
   },
   {
    "duration": 172,
    "start_time": "2021-08-12T17:00:04.187Z"
   },
   {
    "duration": 25,
    "start_time": "2021-08-12T17:00:04.361Z"
   },
   {
    "duration": 173,
    "start_time": "2021-08-12T17:00:04.389Z"
   },
   {
    "duration": 97,
    "start_time": "2021-08-12T17:00:04.564Z"
   },
   {
    "duration": 62,
    "start_time": "2021-08-12T17:00:04.663Z"
   },
   {
    "duration": 108,
    "start_time": "2021-08-12T17:00:04.728Z"
   },
   {
    "duration": 277,
    "start_time": "2021-08-12T17:00:04.839Z"
   },
   {
    "duration": 12,
    "start_time": "2021-08-12T17:00:05.118Z"
   },
   {
    "duration": 7,
    "start_time": "2021-08-12T17:00:05.132Z"
   },
   {
    "duration": 5,
    "start_time": "2021-08-12T17:00:05.157Z"
   },
   {
    "duration": 25,
    "start_time": "2021-08-12T17:00:05.164Z"
   },
   {
    "duration": 13,
    "start_time": "2021-08-12T17:00:05.191Z"
   },
   {
    "duration": 83,
    "start_time": "2021-08-12T17:00:05.206Z"
   },
   {
    "duration": 22,
    "start_time": "2021-08-12T17:00:05.292Z"
   },
   {
    "duration": 327,
    "start_time": "2021-08-12T17:00:05.317Z"
   },
   {
    "duration": 77,
    "start_time": "2021-08-12T17:00:05.646Z"
   },
   {
    "duration": 34,
    "start_time": "2021-08-12T17:00:05.725Z"
   },
   {
    "duration": 149,
    "start_time": "2021-08-12T17:00:05.761Z"
   },
   {
    "duration": 21,
    "start_time": "2021-08-12T17:00:05.912Z"
   },
   {
    "duration": 83,
    "start_time": "2021-08-12T17:00:05.936Z"
   },
   {
    "duration": 66,
    "start_time": "2021-08-12T17:00:06.025Z"
   },
   {
    "duration": 12,
    "start_time": "2021-08-12T17:00:06.095Z"
   },
   {
    "duration": 88,
    "start_time": "2021-08-12T17:00:06.109Z"
   },
   {
    "duration": 119,
    "start_time": "2021-08-12T17:00:06.199Z"
   },
   {
    "duration": 20,
    "start_time": "2021-08-12T17:00:06.321Z"
   },
   {
    "duration": 260,
    "start_time": "2021-08-12T17:00:06.356Z"
   },
   {
    "duration": 7,
    "start_time": "2021-08-12T17:00:06.619Z"
   },
   {
    "duration": 43,
    "start_time": "2021-08-12T17:00:06.629Z"
   },
   {
    "duration": 10,
    "start_time": "2021-08-12T17:00:06.675Z"
   },
   {
    "duration": 69,
    "start_time": "2021-08-12T17:00:06.687Z"
   },
   {
    "duration": 40,
    "start_time": "2021-08-12T17:00:06.758Z"
   },
   {
    "duration": 94,
    "start_time": "2021-08-12T17:00:06.801Z"
   },
   {
    "duration": 7,
    "start_time": "2021-08-12T17:00:06.898Z"
   },
   {
    "duration": 30,
    "start_time": "2021-08-12T17:00:06.908Z"
   },
   {
    "duration": 27,
    "start_time": "2021-08-12T17:00:06.956Z"
   },
   {
    "duration": 42,
    "start_time": "2021-08-12T17:00:06.985Z"
   },
   {
    "duration": 48,
    "start_time": "2021-08-12T17:00:07.029Z"
   },
   {
    "duration": 21,
    "start_time": "2021-08-12T17:00:07.080Z"
   },
   {
    "duration": 70,
    "start_time": "2021-08-12T17:00:07.104Z"
   },
   {
    "duration": 28,
    "start_time": "2021-08-12T17:00:07.177Z"
   },
   {
    "duration": 48,
    "start_time": "2021-08-12T17:00:07.208Z"
   },
   {
    "duration": 29,
    "start_time": "2021-08-12T17:00:07.258Z"
   },
   {
    "duration": 63,
    "start_time": "2021-08-12T17:00:07.290Z"
   },
   {
    "duration": 26,
    "start_time": "2021-08-12T17:00:07.355Z"
   },
   {
    "duration": 23,
    "start_time": "2021-08-12T17:00:07.383Z"
   },
   {
    "duration": 59,
    "start_time": "2021-08-12T17:00:07.409Z"
   },
   {
    "duration": 39,
    "start_time": "2021-08-12T17:00:07.470Z"
   },
   {
    "duration": 48,
    "start_time": "2021-08-12T17:00:07.512Z"
   },
   {
    "duration": 44,
    "start_time": "2021-08-12T17:00:07.562Z"
   },
   {
    "duration": 538,
    "start_time": "2021-08-12T17:00:07.609Z"
   },
   {
    "duration": 43,
    "start_time": "2021-08-12T17:00:08.149Z"
   },
   {
    "duration": 40,
    "start_time": "2021-08-12T17:00:08.194Z"
   },
   {
    "duration": 127,
    "start_time": "2021-08-12T17:00:08.237Z"
   },
   {
    "duration": 11,
    "start_time": "2021-08-12T17:00:08.366Z"
   },
   {
    "duration": 35,
    "start_time": "2021-08-12T17:00:08.380Z"
   },
   {
    "duration": 1217,
    "start_time": "2021-08-12T17:00:08.417Z"
   },
   {
    "duration": 95,
    "start_time": "2021-08-12T17:00:09.636Z"
   },
   {
    "duration": 5,
    "start_time": "2021-08-12T17:00:09.734Z"
   },
   {
    "duration": 114,
    "start_time": "2021-08-12T17:00:09.741Z"
   },
   {
    "duration": 10,
    "start_time": "2021-08-12T17:00:09.858Z"
   },
   {
    "duration": 28,
    "start_time": "2021-08-12T17:00:09.871Z"
   },
   {
    "duration": 92,
    "start_time": "2021-08-12T17:00:09.902Z"
   },
   {
    "duration": 63,
    "start_time": "2021-08-12T17:00:09.996Z"
   },
   {
    "duration": 194,
    "start_time": "2021-08-12T17:00:10.061Z"
   },
   {
    "duration": 5,
    "start_time": "2021-08-12T17:00:10.259Z"
   },
   {
    "duration": 14,
    "start_time": "2021-08-12T17:00:10.361Z"
   },
   {
    "duration": 21,
    "start_time": "2021-08-12T17:00:10.379Z"
   },
   {
    "duration": 28,
    "start_time": "2021-08-12T17:00:10.402Z"
   },
   {
    "duration": 25,
    "start_time": "2021-08-12T17:00:10.432Z"
   },
   {
    "duration": 20,
    "start_time": "2021-08-12T17:00:10.459Z"
   },
   {
    "duration": 8,
    "start_time": "2021-08-12T17:02:58.500Z"
   },
   {
    "duration": 10,
    "start_time": "2021-08-12T17:04:42.074Z"
   },
   {
    "duration": 778625,
    "start_time": "2021-08-12T17:08:17.801Z"
   },
   {
    "duration": 21,
    "start_time": "2021-08-12T17:23:00.701Z"
   },
   {
    "duration": 4,
    "start_time": "2021-08-12T17:24:01.721Z"
   },
   {
    "duration": 3,
    "start_time": "2021-08-12T17:24:15.030Z"
   },
   {
    "duration": 7797,
    "start_time": "2021-08-12T17:25:24.068Z"
   },
   {
    "duration": 7738,
    "start_time": "2021-08-12T17:29:12.329Z"
   },
   {
    "duration": 453,
    "start_time": "2021-08-12T17:29:59.805Z"
   },
   {
    "duration": 504,
    "start_time": "2021-08-12T17:32:14.551Z"
   },
   {
    "duration": 9890,
    "start_time": "2021-08-12T17:33:35.775Z"
   },
   {
    "duration": 1327,
    "start_time": "2021-08-12T17:34:07.645Z"
   },
   {
    "duration": 1369,
    "start_time": "2021-08-12T17:35:52.789Z"
   },
   {
    "duration": 121,
    "start_time": "2021-08-12T19:50:18.238Z"
   },
   {
    "duration": 891,
    "start_time": "2021-08-12T19:50:38.514Z"
   },
   {
    "duration": 5,
    "start_time": "2021-08-12T20:03:03.685Z"
   },
   {
    "duration": 6,
    "start_time": "2021-08-12T20:03:47.167Z"
   },
   {
    "duration": 16,
    "start_time": "2021-08-12T20:03:58.953Z"
   },
   {
    "duration": 6,
    "start_time": "2021-08-12T20:05:44.897Z"
   },
   {
    "duration": 12,
    "start_time": "2021-08-12T20:05:46.572Z"
   },
   {
    "duration": 11,
    "start_time": "2021-08-12T20:08:47.705Z"
   },
   {
    "duration": 5,
    "start_time": "2021-08-12T20:09:03.134Z"
   },
   {
    "duration": 505,
    "start_time": "2021-08-12T20:10:04.909Z"
   },
   {
    "duration": 409,
    "start_time": "2021-08-12T20:10:11.068Z"
   },
   {
    "duration": 5,
    "start_time": "2021-08-12T20:10:20.045Z"
   },
   {
    "duration": 16,
    "start_time": "2021-08-12T20:10:39.313Z"
   },
   {
    "duration": 5,
    "start_time": "2021-08-12T20:11:07.662Z"
   },
   {
    "duration": 7,
    "start_time": "2021-08-12T20:13:52.713Z"
   },
   {
    "duration": 12,
    "start_time": "2021-08-12T20:13:53.920Z"
   },
   {
    "duration": 6,
    "start_time": "2021-08-12T20:15:38.853Z"
   },
   {
    "duration": 12,
    "start_time": "2021-08-12T20:15:40.880Z"
   },
   {
    "duration": 6,
    "start_time": "2021-08-12T20:34:00.091Z"
   },
   {
    "duration": 11,
    "start_time": "2021-08-12T20:34:01.193Z"
   },
   {
    "duration": 1564,
    "start_time": "2021-08-12T20:42:58.713Z"
   },
   {
    "duration": 1140,
    "start_time": "2021-08-12T20:43:00.281Z"
   },
   {
    "duration": 159,
    "start_time": "2021-08-12T20:43:01.424Z"
   },
   {
    "duration": 24,
    "start_time": "2021-08-12T20:43:01.586Z"
   },
   {
    "duration": 178,
    "start_time": "2021-08-12T20:43:01.613Z"
   },
   {
    "duration": 101,
    "start_time": "2021-08-12T20:43:01.795Z"
   },
   {
    "duration": 77,
    "start_time": "2021-08-12T20:43:01.899Z"
   },
   {
    "duration": 108,
    "start_time": "2021-08-12T20:43:01.979Z"
   },
   {
    "duration": 270,
    "start_time": "2021-08-12T20:43:02.090Z"
   },
   {
    "duration": 12,
    "start_time": "2021-08-12T20:43:02.363Z"
   },
   {
    "duration": 17,
    "start_time": "2021-08-12T20:43:02.378Z"
   },
   {
    "duration": 8,
    "start_time": "2021-08-12T20:43:02.397Z"
   },
   {
    "duration": 24,
    "start_time": "2021-08-12T20:43:02.407Z"
   },
   {
    "duration": 33,
    "start_time": "2021-08-12T20:43:02.433Z"
   },
   {
    "duration": 45,
    "start_time": "2021-08-12T20:43:02.469Z"
   },
   {
    "duration": 46,
    "start_time": "2021-08-12T20:43:02.516Z"
   },
   {
    "duration": 424,
    "start_time": "2021-08-12T20:43:02.565Z"
   },
   {
    "duration": 86,
    "start_time": "2021-08-12T20:43:02.995Z"
   },
   {
    "duration": 22,
    "start_time": "2021-08-12T20:43:03.084Z"
   },
   {
    "duration": 157,
    "start_time": "2021-08-12T20:43:03.109Z"
   },
   {
    "duration": 22,
    "start_time": "2021-08-12T20:43:03.269Z"
   },
   {
    "duration": 85,
    "start_time": "2021-08-12T20:43:03.293Z"
   },
   {
    "duration": 53,
    "start_time": "2021-08-12T20:43:03.380Z"
   },
   {
    "duration": 27,
    "start_time": "2021-08-12T20:43:03.435Z"
   },
   {
    "duration": 61,
    "start_time": "2021-08-12T20:43:03.464Z"
   },
   {
    "duration": 134,
    "start_time": "2021-08-12T20:43:03.528Z"
   },
   {
    "duration": 20,
    "start_time": "2021-08-12T20:43:03.664Z"
   },
   {
    "duration": 280,
    "start_time": "2021-08-12T20:43:03.686Z"
   },
   {
    "duration": 8,
    "start_time": "2021-08-12T20:43:03.969Z"
   },
   {
    "duration": 28,
    "start_time": "2021-08-12T20:43:03.979Z"
   },
   {
    "duration": 11,
    "start_time": "2021-08-12T20:43:04.009Z"
   },
   {
    "duration": 45,
    "start_time": "2021-08-12T20:43:04.056Z"
   },
   {
    "duration": 65,
    "start_time": "2021-08-12T20:43:04.104Z"
   },
   {
    "duration": 91,
    "start_time": "2021-08-12T20:43:04.172Z"
   },
   {
    "duration": 6,
    "start_time": "2021-08-12T20:43:04.265Z"
   },
   {
    "duration": 23,
    "start_time": "2021-08-12T20:43:04.274Z"
   },
   {
    "duration": 59,
    "start_time": "2021-08-12T20:43:04.300Z"
   },
   {
    "duration": 41,
    "start_time": "2021-08-12T20:43:04.362Z"
   },
   {
    "duration": 28,
    "start_time": "2021-08-12T20:43:04.406Z"
   },
   {
    "duration": 20,
    "start_time": "2021-08-12T20:43:04.457Z"
   },
   {
    "duration": 42,
    "start_time": "2021-08-12T20:43:04.480Z"
   },
   {
    "duration": 51,
    "start_time": "2021-08-12T20:43:04.524Z"
   },
   {
    "duration": 23,
    "start_time": "2021-08-12T20:43:04.577Z"
   },
   {
    "duration": 54,
    "start_time": "2021-08-12T20:43:04.603Z"
   },
   {
    "duration": 41,
    "start_time": "2021-08-12T20:43:04.659Z"
   },
   {
    "duration": 24,
    "start_time": "2021-08-12T20:43:04.703Z"
   },
   {
    "duration": 40,
    "start_time": "2021-08-12T20:43:04.730Z"
   },
   {
    "duration": 41,
    "start_time": "2021-08-12T20:43:04.772Z"
   },
   {
    "duration": 54,
    "start_time": "2021-08-12T20:43:04.816Z"
   },
   {
    "duration": 41,
    "start_time": "2021-08-12T20:43:04.873Z"
   },
   {
    "duration": 56,
    "start_time": "2021-08-12T20:43:04.917Z"
   },
   {
    "duration": 536,
    "start_time": "2021-08-12T20:43:04.975Z"
   },
   {
    "duration": 45,
    "start_time": "2021-08-12T20:43:05.513Z"
   },
   {
    "duration": 28,
    "start_time": "2021-08-12T20:43:05.565Z"
   },
   {
    "duration": 128,
    "start_time": "2021-08-12T20:43:05.597Z"
   },
   {
    "duration": 11,
    "start_time": "2021-08-12T20:43:05.727Z"
   },
   {
    "duration": 37,
    "start_time": "2021-08-12T20:43:05.756Z"
   },
   {
    "duration": 1205,
    "start_time": "2021-08-12T20:43:05.796Z"
   },
   {
    "duration": 99,
    "start_time": "2021-08-12T20:43:07.004Z"
   },
   {
    "duration": 7,
    "start_time": "2021-08-12T20:43:07.106Z"
   },
   {
    "duration": 123,
    "start_time": "2021-08-12T20:43:07.116Z"
   },
   {
    "duration": 20,
    "start_time": "2021-08-12T20:43:07.241Z"
   },
   {
    "duration": 8,
    "start_time": "2021-08-12T20:43:07.264Z"
   },
   {
    "duration": 109,
    "start_time": "2021-08-12T20:43:07.275Z"
   },
   {
    "duration": 74,
    "start_time": "2021-08-12T20:43:07.386Z"
   },
   {
    "duration": 98,
    "start_time": "2021-08-12T20:43:07.463Z"
   },
   {
    "duration": 92,
    "start_time": "2021-08-12T20:43:07.565Z"
   },
   {
    "duration": 18,
    "start_time": "2021-08-12T20:43:07.659Z"
   },
   {
    "duration": 7692,
    "start_time": "2021-08-12T20:43:07.679Z"
   },
   {
    "duration": 588,
    "start_time": "2021-08-12T20:43:15.373Z"
   },
   {
    "duration": 9699,
    "start_time": "2021-08-12T20:43:15.964Z"
   },
   {
    "duration": 1402,
    "start_time": "2021-08-12T20:43:25.665Z"
   },
   {
    "duration": 6,
    "start_time": "2021-08-12T20:43:27.069Z"
   },
   {
    "duration": 14,
    "start_time": "2021-08-12T20:43:27.078Z"
   },
   {
    "duration": 14,
    "start_time": "2021-08-12T20:47:09.655Z"
   },
   {
    "duration": 1508,
    "start_time": "2021-08-12T20:47:18.184Z"
   },
   {
    "duration": 1095,
    "start_time": "2021-08-12T20:47:19.695Z"
   },
   {
    "duration": 169,
    "start_time": "2021-08-12T20:47:20.794Z"
   },
   {
    "duration": 23,
    "start_time": "2021-08-12T20:47:20.966Z"
   },
   {
    "duration": 175,
    "start_time": "2021-08-12T20:47:20.991Z"
   },
   {
    "duration": 97,
    "start_time": "2021-08-12T20:47:21.169Z"
   },
   {
    "duration": 64,
    "start_time": "2021-08-12T20:47:21.269Z"
   },
   {
    "duration": 87,
    "start_time": "2021-08-12T20:47:21.356Z"
   },
   {
    "duration": 289,
    "start_time": "2021-08-12T20:47:21.458Z"
   },
   {
    "duration": 18,
    "start_time": "2021-08-12T20:47:21.749Z"
   },
   {
    "duration": 7,
    "start_time": "2021-08-12T20:47:21.770Z"
   },
   {
    "duration": 10,
    "start_time": "2021-08-12T20:47:21.780Z"
   },
   {
    "duration": 66,
    "start_time": "2021-08-12T20:47:21.793Z"
   },
   {
    "duration": 14,
    "start_time": "2021-08-12T20:47:21.862Z"
   },
   {
    "duration": 48,
    "start_time": "2021-08-12T20:47:21.878Z"
   },
   {
    "duration": 50,
    "start_time": "2021-08-12T20:47:21.928Z"
   },
   {
    "duration": 332,
    "start_time": "2021-08-12T20:47:21.981Z"
   },
   {
    "duration": 82,
    "start_time": "2021-08-12T20:47:22.316Z"
   },
   {
    "duration": 23,
    "start_time": "2021-08-12T20:47:22.401Z"
   },
   {
    "duration": 166,
    "start_time": "2021-08-12T20:47:22.426Z"
   },
   {
    "duration": 19,
    "start_time": "2021-08-12T20:47:22.594Z"
   },
   {
    "duration": 86,
    "start_time": "2021-08-12T20:47:22.615Z"
   },
   {
    "duration": 65,
    "start_time": "2021-08-12T20:47:22.707Z"
   },
   {
    "duration": 11,
    "start_time": "2021-08-12T20:47:22.776Z"
   },
   {
    "duration": 80,
    "start_time": "2021-08-12T20:47:22.789Z"
   },
   {
    "duration": 120,
    "start_time": "2021-08-12T20:47:22.871Z"
   },
   {
    "duration": 18,
    "start_time": "2021-08-12T20:47:22.994Z"
   },
   {
    "duration": 265,
    "start_time": "2021-08-12T20:47:23.015Z"
   },
   {
    "duration": 8,
    "start_time": "2021-08-12T20:47:23.282Z"
   },
   {
    "duration": 25,
    "start_time": "2021-08-12T20:47:23.292Z"
   },
   {
    "duration": 38,
    "start_time": "2021-08-12T20:47:23.319Z"
   },
   {
    "duration": 40,
    "start_time": "2021-08-12T20:47:23.359Z"
   },
   {
    "duration": 61,
    "start_time": "2021-08-12T20:47:23.401Z"
   },
   {
    "duration": 70,
    "start_time": "2021-08-12T20:47:23.465Z"
   },
   {
    "duration": 22,
    "start_time": "2021-08-12T20:47:23.538Z"
   },
   {
    "duration": 32,
    "start_time": "2021-08-12T20:47:23.563Z"
   },
   {
    "duration": 32,
    "start_time": "2021-08-12T20:47:23.598Z"
   },
   {
    "duration": 57,
    "start_time": "2021-08-12T20:47:23.633Z"
   },
   {
    "duration": 24,
    "start_time": "2021-08-12T20:47:23.692Z"
   },
   {
    "duration": 42,
    "start_time": "2021-08-12T20:47:23.718Z"
   },
   {
    "duration": 46,
    "start_time": "2021-08-12T20:47:23.762Z"
   },
   {
    "duration": 23,
    "start_time": "2021-08-12T20:47:23.811Z"
   },
   {
    "duration": 31,
    "start_time": "2021-08-12T20:47:23.836Z"
   },
   {
    "duration": 33,
    "start_time": "2021-08-12T20:47:23.869Z"
   },
   {
    "duration": 56,
    "start_time": "2021-08-12T20:47:23.904Z"
   },
   {
    "duration": 24,
    "start_time": "2021-08-12T20:47:23.963Z"
   },
   {
    "duration": 24,
    "start_time": "2021-08-12T20:47:23.990Z"
   },
   {
    "duration": 58,
    "start_time": "2021-08-12T20:47:24.016Z"
   },
   {
    "duration": 30,
    "start_time": "2021-08-12T20:47:24.076Z"
   },
   {
    "duration": 52,
    "start_time": "2021-08-12T20:47:24.108Z"
   },
   {
    "duration": 46,
    "start_time": "2021-08-12T20:47:24.162Z"
   },
   {
    "duration": 519,
    "start_time": "2021-08-12T20:47:24.210Z"
   },
   {
    "duration": 48,
    "start_time": "2021-08-12T20:47:24.731Z"
   },
   {
    "duration": 35,
    "start_time": "2021-08-12T20:47:24.782Z"
   },
   {
    "duration": 113,
    "start_time": "2021-08-12T20:47:24.819Z"
   },
   {
    "duration": 23,
    "start_time": "2021-08-12T20:47:24.934Z"
   },
   {
    "duration": 29,
    "start_time": "2021-08-12T20:47:24.959Z"
   },
   {
    "duration": 1242,
    "start_time": "2021-08-12T20:47:24.991Z"
   },
   {
    "duration": 91,
    "start_time": "2021-08-12T20:47:26.236Z"
   },
   {
    "duration": 6,
    "start_time": "2021-08-12T20:47:26.329Z"
   },
   {
    "duration": 119,
    "start_time": "2021-08-12T20:47:26.337Z"
   },
   {
    "duration": 8,
    "start_time": "2021-08-12T20:47:26.458Z"
   },
   {
    "duration": 14,
    "start_time": "2021-08-12T20:47:26.468Z"
   },
   {
    "duration": 94,
    "start_time": "2021-08-12T20:47:26.485Z"
   },
   {
    "duration": 76,
    "start_time": "2021-08-12T20:47:26.583Z"
   },
   {
    "duration": 95,
    "start_time": "2021-08-12T20:47:26.663Z"
   },
   {
    "duration": 96,
    "start_time": "2021-08-12T20:47:26.761Z"
   },
   {
    "duration": 21,
    "start_time": "2021-08-12T20:47:26.866Z"
   },
   {
    "duration": 11881,
    "start_time": "2021-08-12T20:47:26.890Z"
   },
   {
    "duration": 586,
    "start_time": "2021-08-12T20:47:38.774Z"
   },
   {
    "duration": 11099,
    "start_time": "2021-08-12T20:47:39.363Z"
   },
   {
    "duration": 1404,
    "start_time": "2021-08-12T20:47:50.465Z"
   },
   {
    "duration": 8,
    "start_time": "2021-08-12T20:47:51.873Z"
   },
   {
    "duration": 82,
    "start_time": "2021-08-12T20:47:51.883Z"
   },
   {
    "duration": 1537,
    "start_time": "2021-08-12T20:52:57.428Z"
   },
   {
    "duration": 1062,
    "start_time": "2021-08-12T20:52:58.968Z"
   },
   {
    "duration": 168,
    "start_time": "2021-08-12T20:53:00.033Z"
   },
   {
    "duration": 23,
    "start_time": "2021-08-12T20:53:00.204Z"
   },
   {
    "duration": 177,
    "start_time": "2021-08-12T20:53:00.229Z"
   },
   {
    "duration": 104,
    "start_time": "2021-08-12T20:53:00.408Z"
   },
   {
    "duration": 75,
    "start_time": "2021-08-12T20:53:00.514Z"
   },
   {
    "duration": 107,
    "start_time": "2021-08-12T20:53:00.594Z"
   },
   {
    "duration": 283,
    "start_time": "2021-08-12T20:53:00.704Z"
   },
   {
    "duration": 11,
    "start_time": "2021-08-12T20:53:00.989Z"
   },
   {
    "duration": 21,
    "start_time": "2021-08-12T20:53:01.002Z"
   },
   {
    "duration": 19,
    "start_time": "2021-08-12T20:53:01.025Z"
   },
   {
    "duration": 40,
    "start_time": "2021-08-12T20:53:01.047Z"
   },
   {
    "duration": 14,
    "start_time": "2021-08-12T20:53:01.089Z"
   },
   {
    "duration": 67,
    "start_time": "2021-08-12T20:53:01.106Z"
   },
   {
    "duration": 25,
    "start_time": "2021-08-12T20:53:01.175Z"
   },
   {
    "duration": 333,
    "start_time": "2021-08-12T20:53:01.203Z"
   },
   {
    "duration": 73,
    "start_time": "2021-08-12T20:53:01.538Z"
   },
   {
    "duration": 47,
    "start_time": "2021-08-12T20:53:01.614Z"
   },
   {
    "duration": 144,
    "start_time": "2021-08-12T20:53:01.664Z"
   },
   {
    "duration": 19,
    "start_time": "2021-08-12T20:53:01.811Z"
   },
   {
    "duration": 88,
    "start_time": "2021-08-12T20:53:01.832Z"
   },
   {
    "duration": 63,
    "start_time": "2021-08-12T20:53:01.926Z"
   },
   {
    "duration": 12,
    "start_time": "2021-08-12T20:53:01.993Z"
   },
   {
    "duration": 80,
    "start_time": "2021-08-12T20:53:02.007Z"
   },
   {
    "duration": 167,
    "start_time": "2021-08-12T20:53:02.090Z"
   },
   {
    "duration": 24,
    "start_time": "2021-08-12T20:53:02.260Z"
   },
   {
    "duration": 280,
    "start_time": "2021-08-12T20:53:02.288Z"
   },
   {
    "duration": 8,
    "start_time": "2021-08-12T20:53:02.570Z"
   },
   {
    "duration": 31,
    "start_time": "2021-08-12T20:53:02.580Z"
   },
   {
    "duration": 10,
    "start_time": "2021-08-12T20:53:02.613Z"
   },
   {
    "duration": 70,
    "start_time": "2021-08-12T20:53:02.625Z"
   },
   {
    "duration": 59,
    "start_time": "2021-08-12T20:53:02.697Z"
   },
   {
    "duration": 71,
    "start_time": "2021-08-12T20:53:02.758Z"
   },
   {
    "duration": 25,
    "start_time": "2021-08-12T20:53:02.832Z"
   },
   {
    "duration": 21,
    "start_time": "2021-08-12T20:53:02.859Z"
   },
   {
    "duration": 26,
    "start_time": "2021-08-12T20:53:02.882Z"
   },
   {
    "duration": 67,
    "start_time": "2021-08-12T20:53:02.911Z"
   },
   {
    "duration": 39,
    "start_time": "2021-08-12T20:53:02.980Z"
   },
   {
    "duration": 24,
    "start_time": "2021-08-12T20:53:03.022Z"
   },
   {
    "duration": 65,
    "start_time": "2021-08-12T20:53:03.048Z"
   },
   {
    "duration": 46,
    "start_time": "2021-08-12T20:53:03.116Z"
   },
   {
    "duration": 30,
    "start_time": "2021-08-12T20:53:03.165Z"
   },
   {
    "duration": 33,
    "start_time": "2021-08-12T20:53:03.197Z"
   },
   {
    "duration": 71,
    "start_time": "2021-08-12T20:53:03.233Z"
   },
   {
    "duration": 37,
    "start_time": "2021-08-12T20:53:03.307Z"
   },
   {
    "duration": 29,
    "start_time": "2021-08-12T20:53:03.347Z"
   },
   {
    "duration": 57,
    "start_time": "2021-08-12T20:53:03.378Z"
   },
   {
    "duration": 33,
    "start_time": "2021-08-12T20:53:03.437Z"
   },
   {
    "duration": 51,
    "start_time": "2021-08-12T20:53:03.472Z"
   },
   {
    "duration": 50,
    "start_time": "2021-08-12T20:53:03.526Z"
   },
   {
    "duration": 524,
    "start_time": "2021-08-12T20:53:03.579Z"
   },
   {
    "duration": 50,
    "start_time": "2021-08-12T20:53:04.106Z"
   },
   {
    "duration": 36,
    "start_time": "2021-08-12T20:53:04.159Z"
   },
   {
    "duration": 122,
    "start_time": "2021-08-12T20:53:04.197Z"
   },
   {
    "duration": 13,
    "start_time": "2021-08-12T20:53:04.322Z"
   },
   {
    "duration": 47,
    "start_time": "2021-08-12T20:53:04.338Z"
   },
   {
    "duration": 1319,
    "start_time": "2021-08-12T20:53:04.387Z"
   },
   {
    "duration": 103,
    "start_time": "2021-08-12T20:53:05.709Z"
   },
   {
    "duration": 6,
    "start_time": "2021-08-12T20:53:05.814Z"
   },
   {
    "duration": 122,
    "start_time": "2021-08-12T20:53:05.822Z"
   },
   {
    "duration": 13,
    "start_time": "2021-08-12T20:53:05.946Z"
   },
   {
    "duration": 13,
    "start_time": "2021-08-12T20:53:05.962Z"
   },
   {
    "duration": 100,
    "start_time": "2021-08-12T20:53:05.977Z"
   },
   {
    "duration": 77,
    "start_time": "2021-08-12T20:53:06.080Z"
   },
   {
    "duration": 103,
    "start_time": "2021-08-12T20:53:06.160Z"
   },
   {
    "duration": 1213889,
    "start_time": "2021-08-12T20:53:06.357Z"
   },
   {
    "duration": 120,
    "start_time": "2021-08-12T21:13:20.256Z"
   },
   {
    "duration": 17081,
    "start_time": "2021-08-12T21:13:20.379Z"
   },
   {
    "duration": 501,
    "start_time": "2021-08-12T21:13:37.463Z"
   },
   {
    "duration": 10692,
    "start_time": "2021-08-12T21:13:37.967Z"
   },
   {
    "duration": 1401,
    "start_time": "2021-08-12T21:13:48.661Z"
   },
   {
    "duration": 6,
    "start_time": "2021-08-12T21:13:50.064Z"
   },
   {
    "duration": 26,
    "start_time": "2021-08-12T21:13:50.072Z"
   },
   {
    "duration": 3,
    "start_time": "2021-08-12T21:36:18.583Z"
   },
   {
    "duration": 3,
    "start_time": "2021-08-12T21:40:13.873Z"
   },
   {
    "duration": 6,
    "start_time": "2021-08-12T21:42:36.775Z"
   },
   {
    "duration": 11,
    "start_time": "2021-08-12T21:42:46.418Z"
   }
  ],
  "kernelspec": {
   "display_name": "Python 3",
   "language": "python",
   "name": "python3"
  },
  "language_info": {
   "codemirror_mode": {
    "name": "ipython",
    "version": 3
   },
   "file_extension": ".py",
   "mimetype": "text/x-python",
   "name": "python",
   "nbconvert_exporter": "python",
   "pygments_lexer": "ipython3",
   "version": "3.8.5"
  },
  "toc": {
   "base_numbering": 1,
   "nav_menu": {},
   "number_sections": true,
   "sideBar": true,
   "skip_h1_title": true,
   "title_cell": "Table of Contents",
   "title_sidebar": "Contents",
   "toc_cell": false,
   "toc_position": {
    "height": "calc(100% - 180px)",
    "left": "10px",
    "top": "150px",
    "width": "165.6px"
   },
   "toc_section_display": true,
   "toc_window_display": true
  }
 },
 "nbformat": 4,
 "nbformat_minor": 2
}
