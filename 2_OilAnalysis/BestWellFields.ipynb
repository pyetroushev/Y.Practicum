{
 "cells": [
  {
   "cell_type": "markdown",
   "metadata": {},
   "source": [
    "# Выбор локации для скважины"
   ]
  },
  {
   "cell_type": "markdown",
   "metadata": {},
   "source": [
    "Добывающей компании нужно решить, где бурить новую скважину.\n",
    "\n",
    "Предоставлены пробы нефти в трёх регионах: в каждом 10 000 месторождений, где измерили качество нефти и объём её запасов. Необходимо построить модель машинного обучения, которая поможет определить регион, где добыча принесёт наибольшую прибыль, проанализировать возможную прибыль и риски техникой *Bootstrap.*\n",
    "\n",
    "Шаги для выбора локации:\n",
    "\n",
    "- В избранном регионе ищут месторождения, для каждого определяют значения признаков;\n",
    "- Строят модель и оценивают объём запасов;\n",
    "- Выбирают месторождения с самым высокими оценками значений. Количество месторождений зависит от бюджета компании и стоимости разработки одной скважины;\n",
    "- Прибыль равна суммарной прибыли отобранных месторождений."
   ]
  },
  {
   "cell_type": "markdown",
   "metadata": {},
   "source": [
    "## Загрузка и подготовка данных"
   ]
  },
  {
   "cell_type": "markdown",
   "metadata": {},
   "source": [
    "Загружаю необходимые библиотеки."
   ]
  },
  {
   "cell_type": "code",
   "execution_count": 1,
   "metadata": {},
   "outputs": [],
   "source": [
    "import pandas as pd\n",
    "import numpy as np\n",
    "import seaborn as sns\n",
    "import matplotlib.pyplot as plt\n",
    "from sklearn.linear_model import LinearRegression\n",
    "from sklearn.model_selection import train_test_split\n",
    "from sklearn.metrics import mean_squared_error"
   ]
  },
  {
   "cell_type": "markdown",
   "metadata": {},
   "source": [
    "Загружаю файлы"
   ]
  },
  {
   "cell_type": "code",
   "execution_count": 2,
   "metadata": {},
   "outputs": [],
   "source": [
    "geo_0 = pd.read_csv('/datasets/geo_data_0.csv')\n",
    "geo_1 = pd.read_csv('/datasets/geo_data_1.csv')\n",
    "geo_2 = pd.read_csv('/datasets/geo_data_2.csv')"
   ]
  },
  {
   "cell_type": "code",
   "execution_count": 3,
   "metadata": {},
   "outputs": [
    {
     "name": "stdout",
     "output_type": "stream",
     "text": [
      "<class 'pandas.core.frame.DataFrame'>\n",
      "RangeIndex: 100000 entries, 0 to 99999\n",
      "Data columns (total 5 columns):\n",
      "id         100000 non-null object\n",
      "f0         100000 non-null float64\n",
      "f1         100000 non-null float64\n",
      "f2         100000 non-null float64\n",
      "product    100000 non-null float64\n",
      "dtypes: float64(4), object(1)\n",
      "memory usage: 3.8+ MB\n",
      "      id        f0        f1        f2     product\n",
      "0  txEyH  0.705745 -0.497823  1.221170  105.280062\n",
      "1  2acmU  1.334711 -0.340164  4.365080   73.037750\n",
      "2  409Wp  1.022732  0.151990  1.419926   85.265647\n",
      "3  iJLyR -0.032172  0.139033  2.978566  168.620776\n",
      "4  Xdl7t  1.988431  0.155413  4.751769  154.036647\n"
     ]
    }
   ],
   "source": [
    "geo_0.info()\n",
    "print(geo_0.head())"
   ]
  },
  {
   "cell_type": "code",
   "execution_count": 4,
   "metadata": {},
   "outputs": [
    {
     "name": "stdout",
     "output_type": "stream",
     "text": [
      "<class 'pandas.core.frame.DataFrame'>\n",
      "RangeIndex: 100000 entries, 0 to 99999\n",
      "Data columns (total 5 columns):\n",
      "id         100000 non-null object\n",
      "f0         100000 non-null float64\n",
      "f1         100000 non-null float64\n",
      "f2         100000 non-null float64\n",
      "product    100000 non-null float64\n",
      "dtypes: float64(4), object(1)\n",
      "memory usage: 3.8+ MB\n",
      "      id         f0         f1        f2     product\n",
      "0  kBEdx -15.001348  -8.276000 -0.005876    3.179103\n",
      "1  62mP7  14.272088  -3.475083  0.999183   26.953261\n",
      "2  vyE1P   6.263187  -5.948386  5.001160  134.766305\n",
      "3  KcrkZ -13.081196 -11.506057  4.999415  137.945408\n",
      "4  AHL4O  12.702195  -8.147433  5.004363  134.766305\n"
     ]
    }
   ],
   "source": [
    "geo_1.info()\n",
    "print(geo_1.head())"
   ]
  },
  {
   "cell_type": "code",
   "execution_count": 5,
   "metadata": {},
   "outputs": [
    {
     "name": "stdout",
     "output_type": "stream",
     "text": [
      "<class 'pandas.core.frame.DataFrame'>\n",
      "RangeIndex: 100000 entries, 0 to 99999\n",
      "Data columns (total 5 columns):\n",
      "id         100000 non-null object\n",
      "f0         100000 non-null float64\n",
      "f1         100000 non-null float64\n",
      "f2         100000 non-null float64\n",
      "product    100000 non-null float64\n",
      "dtypes: float64(4), object(1)\n",
      "memory usage: 3.8+ MB\n",
      "      id        f0        f1        f2     product\n",
      "0  fwXo0 -1.146987  0.963328 -0.828965   27.758673\n",
      "1  WJtFt  0.262778  0.269839 -2.530187   56.069697\n",
      "2  ovLUW  0.194587  0.289035 -5.586433   62.871910\n",
      "3  q6cA6  2.236060 -0.553760  0.930038  114.572842\n",
      "4  WPMUX -0.515993  1.716266  5.899011  149.600746\n"
     ]
    }
   ],
   "source": [
    "geo_2.info()\n",
    "print(geo_2.head())"
   ]
  },
  {
   "cell_type": "markdown",
   "metadata": {},
   "source": [
    "Мы имеем три идентичных по структуре датасета (100000 строк и 5 колонок), ID нам не понадобится, удаляю. Пропущенных данных нет."
   ]
  },
  {
   "cell_type": "code",
   "execution_count": 6,
   "metadata": {},
   "outputs": [],
   "source": [
    "geo_0 = geo_0.drop(['id'], axis=1)\n",
    "geo_1 = geo_1.drop(['id'], axis=1)\n",
    "geo_2 = geo_2.drop(['id'], axis=1)"
   ]
  },
  {
   "cell_type": "markdown",
   "metadata": {},
   "source": [
    "Посмотрим на целевой признак с помощью диаграммы размаха."
   ]
  },
  {
   "cell_type": "code",
   "execution_count": 7,
   "metadata": {},
   "outputs": [
    {
     "data": {
      "image/png": "[encoded data removed]",
      "text/plain": [
       "<Figure size 576x432 with 3 Axes>"
      ]
     },
     "metadata": {
      "needs_background": "light"
     },
     "output_type": "display_data"
    }
   ],
   "source": [
    "f, ax = plt.subplots(3,1, figsize=(8,6), sharex=True)\n",
    "sns.boxplot(geo_0['product'], palette=\"winter\", linewidth=1, ax=ax[0])\n",
    "sns.boxplot(geo_1['product'], palette=\"spring\", linewidth=1, ax=ax[1])\n",
    "sns.boxplot(geo_2['product'], palette=\"summer\", linewidth=1, ax=ax[2])\n",
    "plt.suptitle('Диаграмма размаха исследованных запасов нефти по регионам', size=14)\n",
    "ax[0].set_xlabel('Зона №0', size=13)\n",
    "ax[1].set_xlabel('Зона №1', size=13)\n",
    "ax[2].set_xlabel('Зона №2', size=13)\n",
    "plt.show()"
   ]
  },
  {
   "cell_type": "markdown",
   "metadata": {},
   "source": [
    "Зоны №0 и №2 похожи, как близнецы и по усам и по распределению. В зоне №1 данные выглядят более реально.\n",
    "\n",
    "Но это только первый взгляд."
   ]
  },
  {
   "cell_type": "markdown",
   "metadata": {},
   "source": [
    "## Обучение и проверка модели"
   ]
  },
  {
   "cell_type": "markdown",
   "metadata": {},
   "source": [
    "Создаю функцию для возврата требуемых параметров."
   ]
  },
  {
   "cell_type": "code",
   "execution_count": 8,
   "metadata": {},
   "outputs": [],
   "source": [
    "def geo_predict (data):\n",
    "    target = data['product']\n",
    "    features = data.drop(['product'], axis=1)\n",
    "    \n",
    "    feat_train, feat_valid, targ_train, targ_valid = train_test_split(features, target,\n",
    "                                                                          test_size=0.25,\n",
    "                                                                          random_state=1024)\n",
    "    model = LinearRegression(n_jobs=-1).fit(feat_train, targ_train)\n",
    "    prediction = model.predict(feat_valid)\n",
    "        \n",
    "    mean_prediction = prediction.mean()\n",
    "    rmse = np.sqrt(mean_squared_error(targ_valid, prediction))\n",
    "    \n",
    "    return pd.Series(prediction, index=targ_valid.index), targ_valid, mean_prediction, rmse   \n"
   ]
  },
  {
   "cell_type": "markdown",
   "metadata": {},
   "source": [
    "### Географическая зона №0"
   ]
  },
  {
   "cell_type": "code",
   "execution_count": 9,
   "metadata": {},
   "outputs": [
    {
     "name": "stdout",
     "output_type": "stream",
     "text": [
      "Средний запас предсказанного сырья: 92.42 тыс.баррелей\n",
      "RMSE: 37.61\n"
     ]
    },
    {
     "data": {
      "text/plain": [
       "35636     72.862549\n",
       "66753     96.453132\n",
       "24172    132.723689\n",
       "67775    128.851806\n",
       "38511    101.748578\n",
       "            ...    \n",
       "47336    102.394485\n",
       "27494    105.453902\n",
       "57281    125.266685\n",
       "19703     84.780478\n",
       "79392    109.659155\n",
       "Length: 25000, dtype: float64"
      ]
     },
     "execution_count": 9,
     "metadata": {},
     "output_type": "execute_result"
    }
   ],
   "source": [
    "pred_0, targ_valid_0, mean_prediction_0, rmse_0 = geo_predict(geo_0)\n",
    "print ('Средний запас предсказанного сырья: {:.2f} тыс.баррелей'.format(mean_prediction_0))\n",
    "print ('RMSE: {:.2f}'.format(rmse_0))\n",
    "pred_0"
   ]
  },
  {
   "cell_type": "markdown",
   "metadata": {},
   "source": [
    "### Географическая зона №1"
   ]
  },
  {
   "cell_type": "code",
   "execution_count": 10,
   "metadata": {},
   "outputs": [
    {
     "name": "stdout",
     "output_type": "stream",
     "text": [
      "Средний запас предсказанного сырья: 69.10 тыс.баррелей\n",
      "RMSE: 0.89\n"
     ]
    }
   ],
   "source": [
    "pred_1, targ_valid_1, mean_prediction_1, rmse_1 = geo_predict(geo_1)\n",
    "print ('Средний запас предсказанного сырья: {:.2f} тыс.баррелей'.format(mean_prediction_1))\n",
    "print ('RMSE: {:.2f}'.format(rmse_1))"
   ]
  },
  {
   "cell_type": "markdown",
   "metadata": {},
   "source": [
    "### Географическая зона №2"
   ]
  },
  {
   "cell_type": "code",
   "execution_count": 11,
   "metadata": {},
   "outputs": [
    {
     "name": "stdout",
     "output_type": "stream",
     "text": [
      "Средний запас предсказанного сырья: 95.04 тыс.баррелей\n",
      "RMSE: 40.02\n"
     ]
    }
   ],
   "source": [
    "pred_2, targ_valid_2, mean_prediction_2, rmse_2 = geo_predict(geo_2)\n",
    "print ('Средний запас предсказанного сырья: {:.2f} тыс.баррелей'.format(mean_prediction_2))\n",
    "print ('RMSE: {:.2f}'.format(rmse_2))"
   ]
  },
  {
   "cell_type": "markdown",
   "metadata": {},
   "source": [
    "Наиболее заманчиво по предсказаниям выглядят зоны №0 и №2, 92 и 95 тыс. баррелей соответственно, однако RMSE в этих зонах близко к 40, а в первой зоне всего лишь 0,89."
   ]
  },
  {
   "cell_type": "markdown",
   "metadata": {},
   "source": [
    "## Подготовка к расчёту прибыли"
   ]
  },
  {
   "cell_type": "markdown",
   "metadata": {},
   "source": [
    "### Ключевые значения"
   ]
  },
  {
   "cell_type": "markdown",
   "metadata": {},
   "source": [
    "Сохраняю константы для расчета"
   ]
  },
  {
   "cell_type": "code",
   "execution_count": 12,
   "metadata": {},
   "outputs": [],
   "source": [
    "BARREL=450 #один баррель сырья приносит 450 рублей дохода\n",
    "BUDGET=10000000000 #бюджет на разработку скважин в регионе"
   ]
  },
  {
   "cell_type": "markdown",
   "metadata": {},
   "source": [
    "### Рассчет достаточного объёма сырья для безубыточной разработки новой скважины"
   ]
  },
  {
   "cell_type": "markdown",
   "metadata": {},
   "source": [
    "Нам известно, что разрабатывать будут 200 скважин, бюджет на разработку 10 млрд. руб., доход с каждого барреля равен 450 руб."
   ]
  },
  {
   "cell_type": "code",
   "execution_count": 13,
   "metadata": {},
   "outputs": [
    {
     "name": "stdout",
     "output_type": "stream",
     "text": [
      "Для безубыточной разработки новой скважины её объем должен быть не менее: 111.11 тыс.баррелей\n"
     ]
    }
   ],
   "source": [
    "revenue_crude = BUDGET/200 # более этой суммы должна приносить средняя сважина\n",
    "crude_vol = revenue_crude / BARREL / 1000 # \n",
    "print('Для безубыточной разработки новой скважины её объем должен быть не менее: {:.2f} тыс.баррелей'.format(crude_vol))"
   ]
  },
  {
   "cell_type": "markdown",
   "metadata": {},
   "source": [
    "Сравним со средним запасом в каждом регионе."
   ]
  },
  {
   "cell_type": "markdown",
   "metadata": {},
   "source": [
    "#### Зона №0"
   ]
  },
  {
   "cell_type": "code",
   "execution_count": 14,
   "metadata": {},
   "outputs": [
    {
     "name": "stdout",
     "output_type": "stream",
     "text": [
      "Для безубыточной разработки новой скважины её объем должен быть не менее: 111.11 тыс.баррелей\n",
      "По факту средний объем скважины: 92.50 тыс.баррелей\n"
     ]
    }
   ],
   "source": [
    "crude_vol_0 = geo_0['product'].mean()\n",
    "print('Для безубыточной разработки новой скважины её объем должен быть не менее: {:.2f} тыс.баррелей'.format(crude_vol))\n",
    "print('По факту средний объем скважины: {:.2f} тыс.баррелей'.format(crude_vol_0))"
   ]
  },
  {
   "cell_type": "code",
   "execution_count": 15,
   "metadata": {},
   "outputs": [
    {
     "name": "stdout",
     "output_type": "stream",
     "text": [
      "Скважин соответствует параметрам поиска:  35901\n"
     ]
    }
   ],
   "source": [
    "enough_0 = geo_0.loc[geo_0['product'] > 112]\n",
    "print('Скважин соответствует параметрам поиска: ', len(enough_0))"
   ]
  },
  {
   "cell_type": "markdown",
   "metadata": {},
   "source": [
    "#### Зона №1"
   ]
  },
  {
   "cell_type": "code",
   "execution_count": 16,
   "metadata": {},
   "outputs": [
    {
     "name": "stdout",
     "output_type": "stream",
     "text": [
      "Для безубыточной разработки новой скважины её объем должен быть не менее: 111.11 тыс.баррелей\n",
      "По факту средний объем скважины: 68.83 тыс.баррелей\n"
     ]
    }
   ],
   "source": [
    "crude_vol_1 = geo_1['product'].mean()\n",
    "print('Для безубыточной разработки новой скважины её объем должен быть не менее: {:.2f} тыс.баррелей'.format(crude_vol))\n",
    "print('По факту средний объем скважины: {:.2f} тыс.баррелей'.format(crude_vol_1))"
   ]
  },
  {
   "cell_type": "code",
   "execution_count": 17,
   "metadata": {},
   "outputs": [
    {
     "name": "stdout",
     "output_type": "stream",
     "text": [
      "Скважин соответствует параметрам поиска:  16537\n"
     ]
    }
   ],
   "source": [
    "enough_1 = geo_1.loc[geo_1['product'] > 112]\n",
    "print('Скважин соответствует параметрам поиска: ', len(enough_1))"
   ]
  },
  {
   "cell_type": "markdown",
   "metadata": {},
   "source": [
    "#### Зона №2"
   ]
  },
  {
   "cell_type": "code",
   "execution_count": 18,
   "metadata": {},
   "outputs": [
    {
     "name": "stdout",
     "output_type": "stream",
     "text": [
      "Для безубыточной разработки новой скважины её объем должен быть не менее: 111.11 тыс.баррелей\n",
      "По факту средний объем скважины: 95.00 тыс.баррелей\n"
     ]
    }
   ],
   "source": [
    "crude_vol_2 = geo_2['product'].mean()\n",
    "print('Для безубыточной разработки новой скважины её объем должен быть не менее: {:.2f} тыс.баррелей'.format(crude_vol))\n",
    "print('По факту средний объем скважины: {:.2f} тыс.баррелей'.format(crude_vol_2))"
   ]
  },
  {
   "cell_type": "code",
   "execution_count": 19,
   "metadata": {},
   "outputs": [
    {
     "name": "stdout",
     "output_type": "stream",
     "text": [
      "Скважин соответствует параметрам поиска:  37491\n"
     ]
    }
   ],
   "source": [
    "enough_2 = geo_2.loc[geo_2['product'] > 112]\n",
    "print('Скважин соответствует параметрам поиска: ', len(enough_2))"
   ]
  },
  {
   "cell_type": "markdown",
   "metadata": {},
   "source": [
    "На данном этапе наиболее перспективной выглядит зона №2"
   ]
  },
  {
   "cell_type": "markdown",
   "metadata": {},
   "source": [
    "## Расчёт прибыли и рисков "
   ]
  },
  {
   "cell_type": "markdown",
   "metadata": {},
   "source": [
    "Создам функцию для расчета предсказанной выручки и суммарного объема лучших 200 скважин из 500 случайных."
   ]
  },
  {
   "cell_type": "code",
   "execution_count": 20,
   "metadata": {},
   "outputs": [],
   "source": [
    "state = np.random.RandomState(1024)\n",
    "def best_revenue (target, probabilities):\n",
    "    prob = pd.Series(probabilities, index=target.index)\n",
    "    sample = prob.sample(n=500, random_state=state, replace=True)\n",
    "    prob_sort = sample.sort_values(ascending=False).head(200)\n",
    "    \n",
    "    target_sort = target[prob_sort.index]\n",
    "    vol = target_sort.sum()\n",
    "    gross = target_sort.sum()*1000*BARREL\n",
    "    net = gross - BUDGET\n",
    "    \n",
    "    return vol, net/1000000000"
   ]
  },
  {
   "cell_type": "code",
   "execution_count": 21,
   "metadata": {},
   "outputs": [
    {
     "name": "stdout",
     "output_type": "stream",
     "text": [
      "Суммарный объем: 23299.89 тыс.баррелей. Выручка с 200 лучших скважин в Зоне №0: 0.48 млрд. ₽\n"
     ]
    }
   ],
   "source": [
    "vol_0, rev_0 = best_revenue(targ_valid_0, pred_0)\n",
    "print('Суммарный объем: {:.2f} тыс.баррелей. Выручка с 200 лучших скважин в Зоне №0: {:.2f} млрд. ₽'.format(vol_0, rev_0))"
   ]
  },
  {
   "cell_type": "code",
   "execution_count": 22,
   "metadata": {},
   "outputs": [
    {
     "name": "stdout",
     "output_type": "stream",
     "text": [
      "Суммарный объем: 23429.71 тыс.баррелей. Выручка с 200 лучших скважин в Зоне №1: 0.54 млрд. ₽\n"
     ]
    }
   ],
   "source": [
    "vol_1, rev_1 = best_revenue(targ_valid_1, pred_1)\n",
    "print('Суммарный объем: {:.2f} тыс.баррелей. Выручка с 200 лучших скважин в Зоне №1: {:.2f} млрд. ₽'.format(vol_1, rev_1))"
   ]
  },
  {
   "cell_type": "code",
   "execution_count": 23,
   "metadata": {},
   "outputs": [
    {
     "name": "stdout",
     "output_type": "stream",
     "text": [
      "Суммарный объем: 23311.63 тыс.баррелей. Выручка с 200 лучших скважин в Зоне №2: 0.49 млрд. ₽\n"
     ]
    }
   ],
   "source": [
    "vol_2, rev_2 = best_revenue(targ_valid_2, pred_2)\n",
    "print('Суммарный объем: {:.2f} тыс.баррелей. Выручка с 200 лучших скважин в Зоне №2: {:.2f} млрд. ₽'.format(vol_2, rev_2))"
   ]
  },
  {
   "cell_type": "markdown",
   "metadata": {},
   "source": [
    "Учитывая, что в функции используется метод sample, показатели при каждом вызове функции будут разными"
   ]
  },
  {
   "cell_type": "markdown",
   "metadata": {},
   "source": [
    "## Риски и прибыль"
   ]
  },
  {
   "cell_type": "markdown",
   "metadata": {},
   "source": [
    "Создаю функцию для бутсрепа."
   ]
  },
  {
   "cell_type": "code",
   "execution_count": 24,
   "metadata": {},
   "outputs": [],
   "source": [
    "def revenue(target, probabilities, count):\n",
    "    probs_sorted = probabilities.sort_values(ascending=False)\n",
    "    selected = target[probs_sorted.index][:count]\n",
    "    return BARREL * 1000 * selected.sum() - BUDGET\n",
    "\n",
    "state = np.random.RandomState(1024)\n",
    "def bootstrap(target, probs):\n",
    "    values=[]\n",
    "    loss = 0\n",
    "    for i in range(1000):\n",
    "        target_sample = target.sample(replace=True, random_state=state, n=500)\n",
    "        probs_sample = probs[target_sample.index]\n",
    "        profit = revenue(target_sample, probs_sample, 200)\n",
    "        if profit < 0:\n",
    "            loss += 1\n",
    "        values.append(profit)\n",
    "    \n",
    "    values = pd.Series(values)\n",
    "    lower = values.quantile(0.025)\n",
    "    upper = values.quantile(0.975)\n",
    "    mean = values.mean()\n",
    "    risk = loss / 1000\n",
    "    return mean, lower, upper, risk"
   ]
  },
  {
   "cell_type": "markdown",
   "metadata": {},
   "source": [
    "### Географическая зона №0"
   ]
  },
  {
   "cell_type": "code",
   "execution_count": 25,
   "metadata": {},
   "outputs": [
    {
     "name": "stdout",
     "output_type": "stream",
     "text": [
      "Cредняя прибыль: 494958081.69 ₽\n",
      "95% доверительный интервал от -23423349.92 до 1014501603.54 ₽\n",
      "Риск: 3.30%\n"
     ]
    }
   ],
   "source": [
    "mean_0, lower_0, upper_0, risk_0 = bootstrap(targ_valid_0, pred_0)\n",
    "\n",
    "print('Cредняя прибыль: {:.2f} ₽'.format(mean_0))\n",
    "print('95% доверительный интервал от {:.2f} до {:.2f} ₽'.format(lower_0, upper_0))\n",
    "print('Риск: {:.2%}'.format(risk_0))"
   ]
  },
  {
   "cell_type": "markdown",
   "metadata": {},
   "source": [
    "### Географическая зона №1"
   ]
  },
  {
   "cell_type": "code",
   "execution_count": 26,
   "metadata": {},
   "outputs": [
    {
     "name": "stdout",
     "output_type": "stream",
     "text": [
      "Средняя прибыль: 513082788.18 ₽\n",
      "95% доверительный интервал от 97225464.32 до 940053418.44 ₽\n",
      "Риcк: 0.80%\n"
     ]
    }
   ],
   "source": [
    "mean_1, lower_1, upper_1, risk_1 = bootstrap(targ_valid_1, pred_1)\n",
    "\n",
    "print('Средняя прибыль: {:.2f} ₽'.format(mean_1))\n",
    "print('95% доверительный интервал от {:.2f} до {:.2f} ₽'.format(lower_1, upper_1))\n",
    "print('Риcк: {:.2%}'.format(risk_1))"
   ]
  },
  {
   "cell_type": "markdown",
   "metadata": {},
   "source": [
    "### Географическая зона №2"
   ]
  },
  {
   "cell_type": "code",
   "execution_count": 27,
   "metadata": {},
   "outputs": [
    {
     "name": "stdout",
     "output_type": "stream",
     "text": [
      "Средняя прибыль: 385690789.92 ₽\n",
      "95% дoверительный интервaл от -189089934.51 до 900094782.63 ₽\n",
      "Риск: 9.50%\n"
     ]
    }
   ],
   "source": [
    "mean_2, lower_2, upper_2, risk_2 = bootstrap(targ_valid_2, pred_2)\n",
    "\n",
    "print('Средняя прибыль: {:.2f} ₽'.format(mean_2))\n",
    "print('95% дoверительный интервaл от {:.2f} до {:.2f} ₽'.format(lower_2, upper_2))\n",
    "print('Риск: {:.2%}'.format(risk_2))"
   ]
  },
  {
   "cell_type": "markdown",
   "metadata": {},
   "source": [
    "## Вывод"
   ]
  },
  {
   "cell_type": "markdown",
   "metadata": {},
   "source": [
    "По условию исследования мы оставляем только регион, в котором вероятность убытков менее 2,5%. Данному условию соответствует только географическая зона №1.\n",
    "\n",
    "Средняя прибыль в географической зоне №1 так же самая высокая, да и доверительный 95% интервал без отрицательных значений."
   ]
  },
  {
   "cell_type": "code",
   "execution_count": null,
   "metadata": {},
   "outputs": [],
   "source": []
  }
 ],
 "metadata": {
  "ExecuteTimeLog": [
   {
    "duration": 210,
    "start_time": "2021-07-02T11:57:38.960Z"
   },
   {
    "duration": 532,
    "start_time": "2021-07-02T11:57:47.409Z"
   },
   {
    "duration": 395,
    "start_time": "2021-07-02T11:57:47.942Z"
   },
   {
    "duration": 11,
    "start_time": "2021-07-02T11:58:38.423Z"
   },
   {
    "duration": 23,
    "start_time": "2021-07-02T11:59:22.695Z"
   },
   {
    "duration": 15,
    "start_time": "2021-07-02T12:29:30.086Z"
   },
   {
    "duration": 14,
    "start_time": "2021-07-02T12:29:50.133Z"
   },
   {
    "duration": 23,
    "start_time": "2021-07-02T12:33:09.457Z"
   },
   {
    "duration": 267,
    "start_time": "2021-07-02T12:34:11.952Z"
   },
   {
    "duration": 532,
    "start_time": "2021-07-02T12:34:49.722Z"
   },
   {
    "duration": 371,
    "start_time": "2021-07-02T12:34:50.256Z"
   },
   {
    "duration": 16,
    "start_time": "2021-07-02T12:34:50.629Z"
   },
   {
    "duration": 15,
    "start_time": "2021-07-02T12:34:50.647Z"
   },
   {
    "duration": 16,
    "start_time": "2021-07-02T12:34:50.685Z"
   },
   {
    "duration": 18,
    "start_time": "2021-07-02T12:34:50.703Z"
   },
   {
    "duration": 11,
    "start_time": "2021-07-02T12:53:59.395Z"
   },
   {
    "duration": 421,
    "start_time": "2021-07-02T12:55:37.593Z"
   },
   {
    "duration": 322,
    "start_time": "2021-07-02T13:05:08.115Z"
   },
   {
    "duration": 1034,
    "start_time": "2021-07-02T13:05:20.383Z"
   },
   {
    "duration": 369,
    "start_time": "2021-07-02T13:05:21.419Z"
   },
   {
    "duration": 14,
    "start_time": "2021-07-02T13:05:21.790Z"
   },
   {
    "duration": 12,
    "start_time": "2021-07-02T13:05:21.806Z"
   },
   {
    "duration": 12,
    "start_time": "2021-07-02T13:05:21.819Z"
   },
   {
    "duration": 18,
    "start_time": "2021-07-02T13:05:21.832Z"
   },
   {
    "duration": 33,
    "start_time": "2021-07-02T13:05:21.852Z"
   },
   {
    "duration": 15,
    "start_time": "2021-07-02T13:05:21.887Z"
   },
   {
    "duration": 3,
    "start_time": "2021-07-02T13:05:21.903Z"
   },
   {
    "duration": 12,
    "start_time": "2021-07-02T13:06:14.200Z"
   },
   {
    "duration": 277,
    "start_time": "2021-07-02T13:13:42.250Z"
   },
   {
    "duration": 1271,
    "start_time": "2021-07-02T13:14:01.334Z"
   },
   {
    "duration": 365,
    "start_time": "2021-07-02T13:14:02.607Z"
   },
   {
    "duration": 13,
    "start_time": "2021-07-02T13:14:02.974Z"
   },
   {
    "duration": 12,
    "start_time": "2021-07-02T13:14:02.989Z"
   },
   {
    "duration": 13,
    "start_time": "2021-07-02T13:14:03.002Z"
   },
   {
    "duration": 20,
    "start_time": "2021-07-02T13:14:03.016Z"
   },
   {
    "duration": 11,
    "start_time": "2021-07-02T13:14:03.038Z"
   },
   {
    "duration": 44,
    "start_time": "2021-07-02T13:14:03.051Z"
   },
   {
    "duration": 8,
    "start_time": "2021-07-02T13:14:03.097Z"
   },
   {
    "duration": 271,
    "start_time": "2021-07-02T13:14:03.106Z"
   },
   {
    "duration": 190,
    "start_time": "2021-07-02T13:19:01.538Z"
   },
   {
    "duration": 176,
    "start_time": "2021-07-02T13:19:36.360Z"
   },
   {
    "duration": 184,
    "start_time": "2021-07-02T13:20:05.174Z"
   },
   {
    "duration": 3,
    "start_time": "2021-07-02T14:08:43.987Z"
   },
   {
    "duration": 4,
    "start_time": "2021-07-02T14:23:27.077Z"
   },
   {
    "duration": 451,
    "start_time": "2021-07-02T14:23:45.568Z"
   },
   {
    "duration": 989,
    "start_time": "2021-07-02T14:23:54.303Z"
   },
   {
    "duration": 360,
    "start_time": "2021-07-02T14:23:55.294Z"
   },
   {
    "duration": 14,
    "start_time": "2021-07-02T14:23:55.656Z"
   },
   {
    "duration": 20,
    "start_time": "2021-07-02T14:23:55.672Z"
   },
   {
    "duration": 11,
    "start_time": "2021-07-02T14:23:55.694Z"
   },
   {
    "duration": 18,
    "start_time": "2021-07-02T14:23:55.707Z"
   },
   {
    "duration": 12,
    "start_time": "2021-07-02T14:23:55.727Z"
   },
   {
    "duration": 5,
    "start_time": "2021-07-02T14:23:55.741Z"
   },
   {
    "duration": 628,
    "start_time": "2021-07-02T14:23:55.748Z"
   },
   {
    "duration": 5,
    "start_time": "2021-07-02T14:24:33.906Z"
   },
   {
    "duration": 387,
    "start_time": "2021-07-02T14:24:34.891Z"
   },
   {
    "duration": 3,
    "start_time": "2021-07-02T14:25:36.175Z"
   },
   {
    "duration": 594,
    "start_time": "2021-07-02T14:25:36.823Z"
   },
   {
    "duration": 13,
    "start_time": "2021-07-02T14:25:37.419Z"
   },
   {
    "duration": 14,
    "start_time": "2021-07-02T14:25:38.569Z"
   },
   {
    "duration": 14,
    "start_time": "2021-07-02T14:25:39.331Z"
   },
   {
    "duration": 13,
    "start_time": "2021-07-02T14:25:41.553Z"
   },
   {
    "duration": 7,
    "start_time": "2021-07-02T14:25:42.964Z"
   },
   {
    "duration": 4,
    "start_time": "2021-07-02T14:25:45.601Z"
   },
   {
    "duration": 38,
    "start_time": "2021-07-02T14:25:47.249Z"
   },
   {
    "duration": 4,
    "start_time": "2021-07-02T14:26:27.376Z"
   },
   {
    "duration": 87,
    "start_time": "2021-07-02T14:26:27.999Z"
   },
   {
    "duration": 5,
    "start_time": "2021-07-02T14:37:03.726Z"
   },
   {
    "duration": 374,
    "start_time": "2021-07-02T14:37:07.145Z"
   },
   {
    "duration": 5,
    "start_time": "2021-07-02T14:37:20.432Z"
   },
   {
    "duration": 420,
    "start_time": "2021-07-02T14:37:21.971Z"
   },
   {
    "duration": 4,
    "start_time": "2021-07-02T14:39:47.453Z"
   },
   {
    "duration": 98,
    "start_time": "2021-07-02T14:39:52.487Z"
   },
   {
    "duration": 27,
    "start_time": "2021-07-02T14:41:13.559Z"
   },
   {
    "duration": 26,
    "start_time": "2021-07-02T14:43:12.402Z"
   },
   {
    "duration": 7,
    "start_time": "2021-07-02T15:33:09.049Z"
   },
   {
    "duration": 27,
    "start_time": "2021-07-02T15:33:12.158Z"
   },
   {
    "duration": 5,
    "start_time": "2021-07-02T15:59:56.924Z"
   },
   {
    "duration": 55,
    "start_time": "2021-07-02T15:59:56.931Z"
   },
   {
    "duration": 4,
    "start_time": "2021-07-02T16:00:26.133Z"
   },
   {
    "duration": 74,
    "start_time": "2021-07-02T16:00:28.612Z"
   },
   {
    "duration": 4,
    "start_time": "2021-07-02T16:01:05.982Z"
   },
   {
    "duration": 26,
    "start_time": "2021-07-02T16:01:07.838Z"
   },
   {
    "duration": 4,
    "start_time": "2021-07-02T16:01:19.411Z"
   },
   {
    "duration": 77,
    "start_time": "2021-07-02T16:01:20.308Z"
   },
   {
    "duration": 5,
    "start_time": "2021-07-02T16:01:50.141Z"
   },
   {
    "duration": 92,
    "start_time": "2021-07-02T16:01:50.797Z"
   },
   {
    "duration": 28,
    "start_time": "2021-07-02T16:02:15.493Z"
   },
   {
    "duration": 26,
    "start_time": "2021-07-02T16:02:20.253Z"
   },
   {
    "duration": 176,
    "start_time": "2021-07-02T16:24:25.318Z"
   },
   {
    "duration": 4,
    "start_time": "2021-07-02T16:24:32.578Z"
   },
   {
    "duration": 207,
    "start_time": "2021-07-02T16:24:33.129Z"
   },
   {
    "duration": 1038,
    "start_time": "2021-07-02T16:24:40.957Z"
   },
   {
    "duration": 372,
    "start_time": "2021-07-02T16:24:41.997Z"
   },
   {
    "duration": 18,
    "start_time": "2021-07-02T16:24:42.371Z"
   },
   {
    "duration": 18,
    "start_time": "2021-07-02T16:24:42.390Z"
   },
   {
    "duration": 16,
    "start_time": "2021-07-02T16:24:42.409Z"
   },
   {
    "duration": 30,
    "start_time": "2021-07-02T16:24:42.427Z"
   },
   {
    "duration": 23,
    "start_time": "2021-07-02T16:24:42.459Z"
   },
   {
    "duration": 29,
    "start_time": "2021-07-02T16:24:42.484Z"
   },
   {
    "duration": 82,
    "start_time": "2021-07-02T16:24:42.514Z"
   },
   {
    "duration": 187,
    "start_time": "2021-07-02T16:24:42.598Z"
   },
   {
    "duration": 192,
    "start_time": "2021-07-02T16:24:42.793Z"
   },
   {
    "duration": 95,
    "start_time": "2021-07-02T16:24:42.992Z"
   },
   {
    "duration": 285,
    "start_time": "2021-07-02T16:24:43.089Z"
   },
   {
    "duration": 210,
    "start_time": "2021-07-02T16:25:08.557Z"
   },
   {
    "duration": 1017,
    "start_time": "2021-07-02T16:28:35.878Z"
   },
   {
    "duration": 384,
    "start_time": "2021-07-02T16:28:36.896Z"
   },
   {
    "duration": 14,
    "start_time": "2021-07-02T16:28:37.282Z"
   },
   {
    "duration": 13,
    "start_time": "2021-07-02T16:28:37.297Z"
   },
   {
    "duration": 13,
    "start_time": "2021-07-02T16:28:37.312Z"
   },
   {
    "duration": 20,
    "start_time": "2021-07-02T16:28:37.327Z"
   },
   {
    "duration": 43,
    "start_time": "2021-07-02T16:28:37.349Z"
   },
   {
    "duration": 6,
    "start_time": "2021-07-02T16:28:37.395Z"
   },
   {
    "duration": 89,
    "start_time": "2021-07-02T16:28:37.403Z"
   },
   {
    "duration": 196,
    "start_time": "2021-07-02T16:28:37.494Z"
   },
   {
    "duration": 194,
    "start_time": "2021-07-02T16:28:37.693Z"
   },
   {
    "duration": 94,
    "start_time": "2021-07-02T16:28:37.891Z"
   },
   {
    "duration": 292,
    "start_time": "2021-07-02T16:28:37.987Z"
   },
   {
    "duration": 178,
    "start_time": "2021-07-02T16:29:52.749Z"
   },
   {
    "duration": 54,
    "start_time": "2021-07-02T16:30:15.743Z"
   },
   {
    "duration": 174,
    "start_time": "2021-07-02T16:30:19.698Z"
   },
   {
    "duration": 190,
    "start_time": "2021-07-02T16:30:46.390Z"
   },
   {
    "duration": 4,
    "start_time": "2021-07-02T16:32:23.998Z"
   },
   {
    "duration": 32,
    "start_time": "2021-07-02T16:32:26.410Z"
   },
   {
    "duration": 190,
    "start_time": "2021-07-02T16:32:52.552Z"
   },
   {
    "duration": 66,
    "start_time": "2021-07-02T16:33:23.433Z"
   },
   {
    "duration": 71,
    "start_time": "2021-07-02T16:33:25.626Z"
   },
   {
    "duration": 181,
    "start_time": "2021-07-02T16:33:31.334Z"
   },
   {
    "duration": 4,
    "start_time": "2021-07-02T16:33:57.858Z"
   },
   {
    "duration": 1009,
    "start_time": "2021-07-03T10:10:11.678Z"
   },
   {
    "duration": 320,
    "start_time": "2021-07-03T10:10:12.689Z"
   },
   {
    "duration": 12,
    "start_time": "2021-07-03T10:10:13.011Z"
   },
   {
    "duration": 10,
    "start_time": "2021-07-03T10:10:13.025Z"
   },
   {
    "duration": 10,
    "start_time": "2021-07-03T10:10:13.036Z"
   },
   {
    "duration": 15,
    "start_time": "2021-07-03T10:10:13.048Z"
   },
   {
    "duration": 34,
    "start_time": "2021-07-03T10:10:13.064Z"
   },
   {
    "duration": 22,
    "start_time": "2021-07-03T10:10:13.099Z"
   },
   {
    "duration": 74,
    "start_time": "2021-07-03T10:10:13.123Z"
   },
   {
    "duration": 402,
    "start_time": "2021-07-03T10:10:13.199Z"
   },
   {
    "duration": 37,
    "start_time": "2021-07-03T10:10:13.566Z"
   },
   {
    "duration": 33,
    "start_time": "2021-07-03T10:10:13.571Z"
   },
   {
    "duration": 29,
    "start_time": "2021-07-03T10:10:13.576Z"
   },
   {
    "duration": 23,
    "start_time": "2021-07-03T10:10:13.583Z"
   },
   {
    "duration": 8,
    "start_time": "2021-07-03T10:12:47.312Z"
   },
   {
    "duration": 109,
    "start_time": "2021-07-03T10:13:59.887Z"
   },
   {
    "duration": 113,
    "start_time": "2021-07-03T10:16:06.927Z"
   },
   {
    "duration": 575,
    "start_time": "2021-07-03T10:26:19.021Z"
   },
   {
    "duration": 225,
    "start_time": "2021-07-03T10:26:34.701Z"
   },
   {
    "duration": 158,
    "start_time": "2021-07-03T10:26:44.423Z"
   },
   {
    "duration": 193,
    "start_time": "2021-07-03T10:27:23.972Z"
   },
   {
    "duration": 251,
    "start_time": "2021-07-03T10:27:42.099Z"
   },
   {
    "duration": 295,
    "start_time": "2021-07-03T10:27:57.620Z"
   },
   {
    "duration": 421,
    "start_time": "2021-07-03T10:28:14.449Z"
   },
   {
    "duration": 189,
    "start_time": "2021-07-03T10:28:27.032Z"
   },
   {
    "duration": 330,
    "start_time": "2021-07-03T10:29:14.585Z"
   },
   {
    "duration": 473,
    "start_time": "2021-07-03T10:29:25.842Z"
   },
   {
    "duration": 358,
    "start_time": "2021-07-03T10:29:42.095Z"
   },
   {
    "duration": 468,
    "start_time": "2021-07-03T10:30:08.660Z"
   },
   {
    "duration": 538,
    "start_time": "2021-07-03T10:30:20.360Z"
   },
   {
    "duration": 457,
    "start_time": "2021-07-03T10:30:42.522Z"
   },
   {
    "duration": 478,
    "start_time": "2021-07-03T10:30:48.804Z"
   },
   {
    "duration": 458,
    "start_time": "2021-07-03T10:30:55.418Z"
   },
   {
    "duration": 233,
    "start_time": "2021-07-03T10:33:10.022Z"
   },
   {
    "duration": 893,
    "start_time": "2021-07-03T10:34:35.185Z"
   },
   {
    "duration": 1021,
    "start_time": "2021-07-03T10:34:56.442Z"
   },
   {
    "duration": 1580,
    "start_time": "2021-07-03T10:35:51.241Z"
   },
   {
    "duration": 1432,
    "start_time": "2021-07-03T10:36:21.183Z"
   },
   {
    "duration": 1345,
    "start_time": "2021-07-03T10:36:52.293Z"
   },
   {
    "duration": 1541,
    "start_time": "2021-07-03T10:40:00.523Z"
   },
   {
    "duration": 1322,
    "start_time": "2021-07-03T10:40:10.607Z"
   },
   {
    "duration": 1154,
    "start_time": "2021-07-03T10:40:32.868Z"
   },
   {
    "duration": 536,
    "start_time": "2021-07-03T10:40:50.910Z"
   },
   {
    "duration": 353,
    "start_time": "2021-07-03T10:41:01.071Z"
   },
   {
    "duration": 352,
    "start_time": "2021-07-03T10:41:11.636Z"
   },
   {
    "duration": 108,
    "start_time": "2021-07-03T10:41:20.016Z"
   },
   {
    "duration": 229,
    "start_time": "2021-07-03T10:42:51.727Z"
   },
   {
    "duration": 255,
    "start_time": "2021-07-03T10:43:26.307Z"
   },
   {
    "duration": 310,
    "start_time": "2021-07-03T10:43:39.141Z"
   },
   {
    "duration": 465,
    "start_time": "2021-07-03T10:43:51.569Z"
   },
   {
    "duration": 670,
    "start_time": "2021-07-03T10:44:56.263Z"
   },
   {
    "duration": 679,
    "start_time": "2021-07-03T10:45:05.308Z"
   },
   {
    "duration": 670,
    "start_time": "2021-07-03T10:45:25.117Z"
   },
   {
    "duration": 682,
    "start_time": "2021-07-03T10:45:38.802Z"
   },
   {
    "duration": 795,
    "start_time": "2021-07-03T10:46:18.097Z"
   },
   {
    "duration": 687,
    "start_time": "2021-07-03T10:50:39.282Z"
   },
   {
    "duration": 1428,
    "start_time": "2021-07-03T10:50:53.908Z"
   },
   {
    "duration": 669,
    "start_time": "2021-07-03T10:51:03.892Z"
   },
   {
    "duration": 579,
    "start_time": "2021-07-03T10:51:10.583Z"
   },
   {
    "duration": 403,
    "start_time": "2021-07-03T10:51:57.872Z"
   },
   {
    "duration": 672,
    "start_time": "2021-07-03T10:52:09.309Z"
   },
   {
    "duration": 554,
    "start_time": "2021-07-03T10:52:23.282Z"
   },
   {
    "duration": 554,
    "start_time": "2021-07-03T10:53:13.962Z"
   },
   {
    "duration": 333,
    "start_time": "2021-07-03T10:53:30.800Z"
   },
   {
    "duration": 334,
    "start_time": "2021-07-03T10:53:53.499Z"
   },
   {
    "duration": 594,
    "start_time": "2021-07-03T10:54:02.972Z"
   },
   {
    "duration": 330,
    "start_time": "2021-07-03T10:54:10.040Z"
   },
   {
    "duration": 675,
    "start_time": "2021-07-03T10:54:19.804Z"
   },
   {
    "duration": 311,
    "start_time": "2021-07-03T10:56:20.392Z"
   },
   {
    "duration": 308,
    "start_time": "2021-07-03T10:56:37.543Z"
   },
   {
    "duration": 567,
    "start_time": "2021-07-03T10:56:45.447Z"
   },
   {
    "duration": 562,
    "start_time": "2021-07-03T10:56:59.908Z"
   },
   {
    "duration": 312,
    "start_time": "2021-07-03T10:57:05.751Z"
   },
   {
    "duration": 310,
    "start_time": "2021-07-03T10:57:27.701Z"
   },
   {
    "duration": 440,
    "start_time": "2021-07-03T10:57:36.302Z"
   },
   {
    "duration": 307,
    "start_time": "2021-07-03T10:58:25.766Z"
   },
   {
    "duration": 292,
    "start_time": "2021-07-03T10:58:34.970Z"
   },
   {
    "duration": 316,
    "start_time": "2021-07-03T10:59:01.023Z"
   },
   {
    "duration": 288,
    "start_time": "2021-07-03T10:59:55.323Z"
   },
   {
    "duration": 531,
    "start_time": "2021-07-03T11:09:58.451Z"
   },
   {
    "duration": 278,
    "start_time": "2021-07-03T11:10:48.942Z"
   },
   {
    "duration": 409,
    "start_time": "2021-07-03T11:11:01.956Z"
   },
   {
    "duration": 281,
    "start_time": "2021-07-03T11:11:10.099Z"
   },
   {
    "duration": 286,
    "start_time": "2021-07-03T11:24:54.378Z"
   },
   {
    "duration": 317,
    "start_time": "2021-07-03T11:27:16.887Z"
   },
   {
    "duration": 330,
    "start_time": "2021-07-03T11:27:35.690Z"
   },
   {
    "duration": 299,
    "start_time": "2021-07-03T11:27:42.245Z"
   },
   {
    "duration": 540,
    "start_time": "2021-07-03T11:30:12.269Z"
   },
   {
    "duration": 692,
    "start_time": "2021-07-03T11:31:23.913Z"
   },
   {
    "duration": 517,
    "start_time": "2021-07-03T11:31:57.536Z"
   },
   {
    "duration": 531,
    "start_time": "2021-07-03T11:34:06.718Z"
   },
   {
    "duration": 519,
    "start_time": "2021-07-03T11:34:23.091Z"
   },
   {
    "duration": 525,
    "start_time": "2021-07-03T11:34:33.334Z"
   },
   {
    "duration": 594,
    "start_time": "2021-07-03T11:36:15.765Z"
   },
   {
    "duration": 525,
    "start_time": "2021-07-03T11:36:46.336Z"
   },
   {
    "duration": 301,
    "start_time": "2021-07-03T11:37:00.456Z"
   },
   {
    "duration": 659,
    "start_time": "2021-07-03T11:38:09.046Z"
   },
   {
    "duration": 399,
    "start_time": "2021-07-03T11:41:56.015Z"
   },
   {
    "duration": 633,
    "start_time": "2021-07-03T11:42:13.211Z"
   },
   {
    "duration": 396,
    "start_time": "2021-07-03T11:42:29.633Z"
   },
   {
    "duration": 717,
    "start_time": "2021-07-03T11:42:55.262Z"
   },
   {
    "duration": 633,
    "start_time": "2021-07-03T11:43:04.783Z"
   },
   {
    "duration": 392,
    "start_time": "2021-07-03T11:44:34.013Z"
   },
   {
    "duration": 423,
    "start_time": "2021-07-03T11:44:50.456Z"
   },
   {
    "duration": 304,
    "start_time": "2021-07-03T11:46:36.082Z"
   },
   {
    "duration": 327,
    "start_time": "2021-07-03T11:46:53.394Z"
   },
   {
    "duration": 407,
    "start_time": "2021-07-03T11:47:00.726Z"
   },
   {
    "duration": 393,
    "start_time": "2021-07-03T11:47:23.733Z"
   },
   {
    "duration": 417,
    "start_time": "2021-07-03T11:47:41.821Z"
   },
   {
    "duration": 393,
    "start_time": "2021-07-03T11:48:19.563Z"
   },
   {
    "duration": 26,
    "start_time": "2021-07-03T11:55:58.290Z"
   },
   {
    "duration": 28,
    "start_time": "2021-07-03T11:57:22.659Z"
   },
   {
    "duration": 5,
    "start_time": "2021-07-03T12:00:58.045Z"
   },
   {
    "duration": 30,
    "start_time": "2021-07-03T12:01:00.852Z"
   },
   {
    "duration": 44,
    "start_time": "2021-07-03T12:01:02.960Z"
   },
   {
    "duration": 44,
    "start_time": "2021-07-03T12:01:04.951Z"
   },
   {
    "duration": 3,
    "start_time": "2021-07-03T12:05:04.522Z"
   },
   {
    "duration": 3,
    "start_time": "2021-07-03T12:05:11.383Z"
   },
   {
    "duration": 505,
    "start_time": "2021-07-03T12:05:12.625Z"
   },
   {
    "duration": 4,
    "start_time": "2021-07-03T12:05:34.183Z"
   },
   {
    "duration": 6,
    "start_time": "2021-07-03T12:05:35.787Z"
   },
   {
    "duration": 6,
    "start_time": "2021-07-03T12:14:42.465Z"
   },
   {
    "duration": 3,
    "start_time": "2021-07-03T12:15:25.508Z"
   },
   {
    "duration": 6,
    "start_time": "2021-07-03T12:15:25.992Z"
   },
   {
    "duration": 3,
    "start_time": "2021-07-03T12:15:30.209Z"
   },
   {
    "duration": 6,
    "start_time": "2021-07-03T12:15:30.680Z"
   },
   {
    "duration": 1109,
    "start_time": "2021-07-03T12:15:59.533Z"
   },
   {
    "duration": 356,
    "start_time": "2021-07-03T12:16:00.644Z"
   },
   {
    "duration": 12,
    "start_time": "2021-07-03T12:16:01.002Z"
   },
   {
    "duration": 12,
    "start_time": "2021-07-03T12:16:01.016Z"
   },
   {
    "duration": 10,
    "start_time": "2021-07-03T12:16:01.030Z"
   },
   {
    "duration": 25,
    "start_time": "2021-07-03T12:16:01.042Z"
   },
   {
    "duration": 541,
    "start_time": "2021-07-03T12:16:01.069Z"
   },
   {
    "duration": 3,
    "start_time": "2021-07-03T12:16:01.613Z"
   },
   {
    "duration": 74,
    "start_time": "2021-07-03T12:16:01.618Z"
   },
   {
    "duration": 120,
    "start_time": "2021-07-03T12:16:01.694Z"
   },
   {
    "duration": 183,
    "start_time": "2021-07-03T12:16:01.816Z"
   },
   {
    "duration": 4,
    "start_time": "2021-07-03T12:16:02.001Z"
   },
   {
    "duration": 6,
    "start_time": "2021-07-03T12:16:02.093Z"
   },
   {
    "duration": 98,
    "start_time": "2021-07-03T12:16:02.102Z"
   },
   {
    "duration": 1145,
    "start_time": "2021-07-03T12:16:51.420Z"
   },
   {
    "duration": 361,
    "start_time": "2021-07-03T12:16:52.567Z"
   },
   {
    "duration": 13,
    "start_time": "2021-07-03T12:16:52.931Z"
   },
   {
    "duration": 21,
    "start_time": "2021-07-03T12:16:52.946Z"
   },
   {
    "duration": 13,
    "start_time": "2021-07-03T12:16:52.969Z"
   },
   {
    "duration": 24,
    "start_time": "2021-07-03T12:16:52.983Z"
   },
   {
    "duration": 483,
    "start_time": "2021-07-03T12:16:53.008Z"
   },
   {
    "duration": 4,
    "start_time": "2021-07-03T12:16:53.494Z"
   },
   {
    "duration": 97,
    "start_time": "2021-07-03T12:16:53.499Z"
   },
   {
    "duration": 24,
    "start_time": "2021-07-03T12:16:53.691Z"
   },
   {
    "duration": 187,
    "start_time": "2021-07-03T12:16:53.718Z"
   },
   {
    "duration": 3,
    "start_time": "2021-07-03T12:16:53.908Z"
   },
   {
    "duration": 100,
    "start_time": "2021-07-03T12:16:53.993Z"
   },
   {
    "duration": 26,
    "start_time": "2021-07-03T12:16:54.095Z"
   },
   {
    "duration": 1057,
    "start_time": "2021-07-03T12:17:15.451Z"
   },
   {
    "duration": 324,
    "start_time": "2021-07-03T12:17:16.510Z"
   },
   {
    "duration": 14,
    "start_time": "2021-07-03T12:17:16.836Z"
   },
   {
    "duration": 12,
    "start_time": "2021-07-03T12:17:16.852Z"
   },
   {
    "duration": 29,
    "start_time": "2021-07-03T12:17:16.865Z"
   },
   {
    "duration": 15,
    "start_time": "2021-07-03T12:17:16.896Z"
   },
   {
    "duration": 412,
    "start_time": "2021-07-03T12:17:16.913Z"
   },
   {
    "duration": 4,
    "start_time": "2021-07-03T12:17:17.328Z"
   },
   {
    "duration": 66,
    "start_time": "2021-07-03T12:17:17.334Z"
   },
   {
    "duration": 101,
    "start_time": "2021-07-03T12:17:17.492Z"
   },
   {
    "duration": 113,
    "start_time": "2021-07-03T12:17:17.595Z"
   },
   {
    "duration": 82,
    "start_time": "2021-07-03T12:17:17.711Z"
   },
   {
    "duration": 117,
    "start_time": "2021-07-03T12:17:17.795Z"
   },
   {
    "duration": 17,
    "start_time": "2021-07-03T12:17:17.913Z"
   },
   {
    "duration": 6,
    "start_time": "2021-07-03T12:18:50.091Z"
   },
   {
    "duration": 7,
    "start_time": "2021-07-03T12:18:52.683Z"
   },
   {
    "duration": 8,
    "start_time": "2021-07-03T12:18:54.724Z"
   },
   {
    "duration": 3,
    "start_time": "2021-07-03T12:20:04.122Z"
   },
   {
    "duration": 7,
    "start_time": "2021-07-03T12:20:04.731Z"
   },
   {
    "duration": 6,
    "start_time": "2021-07-03T12:20:07.092Z"
   },
   {
    "duration": 7,
    "start_time": "2021-07-03T12:20:07.966Z"
   },
   {
    "duration": 7,
    "start_time": "2021-07-03T12:20:32.798Z"
   },
   {
    "duration": 6,
    "start_time": "2021-07-03T12:20:33.978Z"
   },
   {
    "duration": 7,
    "start_time": "2021-07-03T12:20:34.652Z"
   },
   {
    "duration": 6,
    "start_time": "2021-07-03T12:20:43.176Z"
   },
   {
    "duration": 6,
    "start_time": "2021-07-03T12:20:45.206Z"
   },
   {
    "duration": 7,
    "start_time": "2021-07-03T12:20:46.732Z"
   },
   {
    "duration": 6,
    "start_time": "2021-07-03T12:20:50.631Z"
   },
   {
    "duration": 5,
    "start_time": "2021-07-03T12:20:51.348Z"
   },
   {
    "duration": 6,
    "start_time": "2021-07-03T12:20:52.151Z"
   },
   {
    "duration": 4,
    "start_time": "2021-07-03T13:18:50.947Z"
   },
   {
    "duration": 4,
    "start_time": "2021-07-03T13:21:43.854Z"
   },
   {
    "duration": 1239,
    "start_time": "2021-07-03T13:21:57.719Z"
   },
   {
    "duration": 1280,
    "start_time": "2021-07-03T13:22:33.647Z"
   },
   {
    "duration": 1223,
    "start_time": "2021-07-03T13:24:53.751Z"
   },
   {
    "duration": 1216,
    "start_time": "2021-07-03T13:25:38.732Z"
   },
   {
    "duration": 1297,
    "start_time": "2021-07-03T13:25:53.201Z"
   },
   {
    "duration": 1238,
    "start_time": "2021-07-03T13:25:56.219Z"
   },
   {
    "duration": 1214,
    "start_time": "2021-07-03T13:25:58.892Z"
   },
   {
    "duration": 1241,
    "start_time": "2021-07-03T13:26:04.150Z"
   },
   {
    "duration": 1259,
    "start_time": "2021-07-03T13:26:07.920Z"
   },
   {
    "duration": 1095,
    "start_time": "2021-07-03T13:26:22.617Z"
   },
   {
    "duration": 327,
    "start_time": "2021-07-03T13:26:23.713Z"
   },
   {
    "duration": 13,
    "start_time": "2021-07-03T13:26:24.042Z"
   },
   {
    "duration": 12,
    "start_time": "2021-07-03T13:26:24.056Z"
   },
   {
    "duration": 22,
    "start_time": "2021-07-03T13:26:24.070Z"
   },
   {
    "duration": 14,
    "start_time": "2021-07-03T13:26:24.094Z"
   },
   {
    "duration": 413,
    "start_time": "2021-07-03T13:26:24.110Z"
   },
   {
    "duration": 3,
    "start_time": "2021-07-03T13:26:24.526Z"
   },
   {
    "duration": 69,
    "start_time": "2021-07-03T13:26:24.531Z"
   },
   {
    "duration": 113,
    "start_time": "2021-07-03T13:26:24.602Z"
   },
   {
    "duration": 115,
    "start_time": "2021-07-03T13:26:24.793Z"
   },
   {
    "duration": 80,
    "start_time": "2021-07-03T13:26:24.911Z"
   },
   {
    "duration": 98,
    "start_time": "2021-07-03T13:26:24.994Z"
   },
   {
    "duration": 7,
    "start_time": "2021-07-03T13:26:25.093Z"
   },
   {
    "duration": 10,
    "start_time": "2021-07-03T13:26:25.101Z"
   },
   {
    "duration": 7,
    "start_time": "2021-07-03T13:26:25.113Z"
   },
   {
    "duration": 5,
    "start_time": "2021-07-03T13:26:25.121Z"
   },
   {
    "duration": 1468,
    "start_time": "2021-07-03T13:26:25.128Z"
   },
   {
    "duration": 1228,
    "start_time": "2021-07-03T13:26:26.597Z"
   },
   {
    "duration": 1213,
    "start_time": "2021-07-03T13:26:27.826Z"
   },
   {
    "duration": 3,
    "start_time": "2021-07-03T14:15:03.718Z"
   },
   {
    "duration": 3,
    "start_time": "2021-07-03T14:16:22.012Z"
   },
   {
    "duration": 3,
    "start_time": "2021-07-03T14:23:10.505Z"
   },
   {
    "duration": 4,
    "start_time": "2021-07-03T14:24:21.605Z"
   },
   {
    "duration": 3,
    "start_time": "2021-07-03T14:24:37.046Z"
   },
   {
    "duration": 1164,
    "start_time": "2021-07-03T14:26:10.286Z"
   },
   {
    "duration": 334,
    "start_time": "2021-07-03T14:26:11.452Z"
   },
   {
    "duration": 13,
    "start_time": "2021-07-03T14:26:11.788Z"
   },
   {
    "duration": 11,
    "start_time": "2021-07-03T14:26:11.802Z"
   },
   {
    "duration": 10,
    "start_time": "2021-07-03T14:26:11.814Z"
   },
   {
    "duration": 15,
    "start_time": "2021-07-03T14:26:11.825Z"
   },
   {
    "duration": 538,
    "start_time": "2021-07-03T14:26:11.841Z"
   },
   {
    "duration": 4,
    "start_time": "2021-07-03T14:26:12.381Z"
   },
   {
    "duration": 102,
    "start_time": "2021-07-03T14:26:12.390Z"
   },
   {
    "duration": 114,
    "start_time": "2021-07-03T14:26:12.494Z"
   },
   {
    "duration": 193,
    "start_time": "2021-07-03T14:26:12.610Z"
   },
   {
    "duration": 3,
    "start_time": "2021-07-03T14:26:12.805Z"
   },
   {
    "duration": 101,
    "start_time": "2021-07-03T14:26:12.894Z"
   },
   {
    "duration": 6,
    "start_time": "2021-07-03T14:26:12.997Z"
   },
   {
    "duration": 12,
    "start_time": "2021-07-03T14:26:13.005Z"
   },
   {
    "duration": 6,
    "start_time": "2021-07-03T14:26:13.018Z"
   },
   {
    "duration": 10,
    "start_time": "2021-07-03T14:26:13.026Z"
   },
   {
    "duration": 5,
    "start_time": "2021-07-03T14:26:13.038Z"
   },
   {
    "duration": 1226,
    "start_time": "2021-07-03T14:26:13.044Z"
   },
   {
    "duration": 1215,
    "start_time": "2021-07-03T14:26:14.271Z"
   },
   {
    "duration": 1205,
    "start_time": "2021-07-03T14:26:15.491Z"
   },
   {
    "duration": 357,
    "start_time": "2021-07-03T14:34:07.486Z"
   },
   {
    "duration": 4,
    "start_time": "2021-07-03T14:35:38.440Z"
   },
   {
    "duration": 4,
    "start_time": "2021-07-03T14:36:16.806Z"
   },
   {
    "duration": 5,
    "start_time": "2021-07-03T14:37:56.560Z"
   },
   {
    "duration": 4,
    "start_time": "2021-07-03T14:38:42.561Z"
   },
   {
    "duration": 4,
    "start_time": "2021-07-03T14:39:47.969Z"
   },
   {
    "duration": 641,
    "start_time": "2021-07-03T15:09:14.110Z"
   },
   {
    "duration": 1856,
    "start_time": "2021-07-03T15:10:10.520Z"
   },
   {
    "duration": 647,
    "start_time": "2021-07-03T15:10:23.016Z"
   },
   {
    "duration": 631,
    "start_time": "2021-07-03T15:10:43.068Z"
   },
   {
    "duration": 638,
    "start_time": "2021-07-03T15:11:22.108Z"
   },
   {
    "duration": 692,
    "start_time": "2021-07-03T15:13:30.060Z"
   },
   {
    "duration": 155,
    "start_time": "2021-07-03T15:13:57.362Z"
   },
   {
    "duration": 394,
    "start_time": "2021-07-03T15:14:25.607Z"
   },
   {
    "duration": 395,
    "start_time": "2021-07-03T15:14:52.829Z"
   },
   {
    "duration": 6,
    "start_time": "2021-07-03T15:16:42.759Z"
   },
   {
    "duration": 6,
    "start_time": "2021-07-03T15:17:03.318Z"
   },
   {
    "duration": 5,
    "start_time": "2021-07-03T15:17:47.722Z"
   },
   {
    "duration": 6,
    "start_time": "2021-07-03T15:19:14.475Z"
   },
   {
    "duration": 6,
    "start_time": "2021-07-03T15:19:38.863Z"
   },
   {
    "duration": 6,
    "start_time": "2021-07-03T15:20:00.184Z"
   },
   {
    "duration": 6,
    "start_time": "2021-07-03T15:20:17.792Z"
   },
   {
    "duration": 5,
    "start_time": "2021-07-03T15:20:29.607Z"
   },
   {
    "duration": 6,
    "start_time": "2021-07-03T15:20:59.563Z"
   },
   {
    "duration": 3,
    "start_time": "2021-07-03T15:22:05.427Z"
   },
   {
    "duration": 4,
    "start_time": "2021-07-03T15:28:03.581Z"
   },
   {
    "duration": 6,
    "start_time": "2021-07-03T15:28:06.989Z"
   },
   {
    "duration": 5,
    "start_time": "2021-07-03T15:28:08.107Z"
   },
   {
    "duration": 6,
    "start_time": "2021-07-03T15:28:08.920Z"
   },
   {
    "duration": 6,
    "start_time": "2021-07-03T15:28:15.307Z"
   },
   {
    "duration": 6,
    "start_time": "2021-07-03T15:28:16.300Z"
   },
   {
    "duration": 6,
    "start_time": "2021-07-03T15:28:17.106Z"
   },
   {
    "duration": 6,
    "start_time": "2021-07-03T15:28:20.345Z"
   },
   {
    "duration": 6,
    "start_time": "2021-07-03T15:28:21.018Z"
   },
   {
    "duration": 6,
    "start_time": "2021-07-03T15:28:21.927Z"
   },
   {
    "duration": 6,
    "start_time": "2021-07-03T15:28:24.955Z"
   },
   {
    "duration": 6,
    "start_time": "2021-07-03T15:28:25.947Z"
   },
   {
    "duration": 5,
    "start_time": "2021-07-03T15:28:28.915Z"
   },
   {
    "duration": 6,
    "start_time": "2021-07-03T15:28:29.689Z"
   },
   {
    "duration": 5,
    "start_time": "2021-07-03T15:28:30.479Z"
   },
   {
    "duration": 247,
    "start_time": "2021-07-03T15:33:34.630Z"
   },
   {
    "duration": 1228,
    "start_time": "2021-07-03T15:34:13.792Z"
   },
   {
    "duration": 332,
    "start_time": "2021-07-03T15:34:15.021Z"
   },
   {
    "duration": 13,
    "start_time": "2021-07-03T15:34:15.354Z"
   },
   {
    "duration": 11,
    "start_time": "2021-07-03T15:34:15.368Z"
   },
   {
    "duration": 18,
    "start_time": "2021-07-03T15:34:15.381Z"
   },
   {
    "duration": 15,
    "start_time": "2021-07-03T15:34:15.400Z"
   },
   {
    "duration": 417,
    "start_time": "2021-07-03T15:34:15.416Z"
   },
   {
    "duration": 3,
    "start_time": "2021-07-03T15:34:15.835Z"
   },
   {
    "duration": 150,
    "start_time": "2021-07-03T15:34:15.840Z"
   },
   {
    "duration": 100,
    "start_time": "2021-07-03T15:34:15.993Z"
   },
   {
    "duration": 113,
    "start_time": "2021-07-03T15:34:16.097Z"
   },
   {
    "duration": 94,
    "start_time": "2021-07-03T15:34:16.212Z"
   },
   {
    "duration": 12,
    "start_time": "2021-07-03T15:34:16.392Z"
   },
   {
    "duration": 10,
    "start_time": "2021-07-03T15:34:16.405Z"
   },
   {
    "duration": 8,
    "start_time": "2021-07-03T15:34:16.416Z"
   },
   {
    "duration": 5,
    "start_time": "2021-07-03T15:34:16.425Z"
   },
   {
    "duration": 7,
    "start_time": "2021-07-03T15:34:16.431Z"
   },
   {
    "duration": 8,
    "start_time": "2021-07-03T15:34:16.439Z"
   },
   {
    "duration": 10,
    "start_time": "2021-07-03T15:34:16.448Z"
   },
   {
    "duration": 8,
    "start_time": "2021-07-03T15:34:16.460Z"
   },
   {
    "duration": 23,
    "start_time": "2021-07-03T15:34:16.469Z"
   },
   {
    "duration": 373,
    "start_time": "2021-07-03T15:34:16.494Z"
   },
   {
    "duration": 544,
    "start_time": "2021-07-03T15:34:16.325Z"
   },
   {
    "duration": 542,
    "start_time": "2021-07-03T15:34:16.328Z"
   },
   {
    "duration": 540,
    "start_time": "2021-07-03T15:34:16.330Z"
   },
   {
    "duration": 532,
    "start_time": "2021-07-03T15:34:16.339Z"
   },
   {
    "duration": 531,
    "start_time": "2021-07-03T15:34:16.341Z"
   },
   {
    "duration": 6,
    "start_time": "2021-07-03T15:36:04.935Z"
   },
   {
    "duration": 7,
    "start_time": "2021-07-03T15:36:08.647Z"
   },
   {
    "duration": 7,
    "start_time": "2021-07-03T15:36:22.546Z"
   },
   {
    "duration": 6,
    "start_time": "2021-07-03T15:36:23.495Z"
   },
   {
    "duration": 5,
    "start_time": "2021-07-03T15:36:24.215Z"
   },
   {
    "duration": 6,
    "start_time": "2021-07-03T15:36:46.894Z"
   },
   {
    "duration": 5,
    "start_time": "2021-07-03T15:36:49.573Z"
   },
   {
    "duration": 7,
    "start_time": "2021-07-03T15:36:51.646Z"
   },
   {
    "duration": 595,
    "start_time": "2021-07-03T16:46:09.181Z"
   },
   {
    "duration": 6,
    "start_time": "2021-07-03T16:46:23.307Z"
   },
   {
    "duration": 591,
    "start_time": "2021-07-03T16:47:16.581Z"
   },
   {
    "duration": 74,
    "start_time": "2021-07-03T16:50:02.699Z"
   },
   {
    "duration": 1072,
    "start_time": "2021-07-03T16:50:16.448Z"
   },
   {
    "duration": 322,
    "start_time": "2021-07-03T16:50:17.522Z"
   },
   {
    "duration": 12,
    "start_time": "2021-07-03T16:50:17.846Z"
   },
   {
    "duration": 11,
    "start_time": "2021-07-03T16:50:17.860Z"
   },
   {
    "duration": 20,
    "start_time": "2021-07-03T16:50:17.872Z"
   },
   {
    "duration": 14,
    "start_time": "2021-07-03T16:50:17.893Z"
   },
   {
    "duration": 418,
    "start_time": "2021-07-03T16:50:17.909Z"
   },
   {
    "duration": 4,
    "start_time": "2021-07-03T16:50:18.329Z"
   },
   {
    "duration": 65,
    "start_time": "2021-07-03T16:50:18.334Z"
   },
   {
    "duration": 112,
    "start_time": "2021-07-03T16:50:18.401Z"
   },
   {
    "duration": 112,
    "start_time": "2021-07-03T16:50:18.598Z"
   },
   {
    "duration": 82,
    "start_time": "2021-07-03T16:50:18.712Z"
   },
   {
    "duration": 96,
    "start_time": "2021-07-03T16:50:18.798Z"
   },
   {
    "duration": 11,
    "start_time": "2021-07-03T16:50:18.895Z"
   },
   {
    "duration": 8,
    "start_time": "2021-07-03T16:50:18.907Z"
   },
   {
    "duration": 6,
    "start_time": "2021-07-03T16:50:18.916Z"
   },
   {
    "duration": 10,
    "start_time": "2021-07-03T16:50:18.923Z"
   },
   {
    "duration": 5,
    "start_time": "2021-07-03T16:50:18.934Z"
   },
   {
    "duration": 15,
    "start_time": "2021-07-03T16:50:18.940Z"
   },
   {
    "duration": 9,
    "start_time": "2021-07-03T16:50:18.956Z"
   },
   {
    "duration": 11,
    "start_time": "2021-07-03T16:50:18.967Z"
   },
   {
    "duration": 12,
    "start_time": "2021-07-03T16:50:18.979Z"
   },
   {
    "duration": 7,
    "start_time": "2021-07-03T16:50:18.993Z"
   },
   {
    "duration": 9,
    "start_time": "2021-07-03T16:50:19.001Z"
   },
   {
    "duration": 540,
    "start_time": "2021-07-03T16:50:19.011Z"
   },
   {
    "duration": 591,
    "start_time": "2021-07-03T16:50:18.962Z"
   },
   {
    "duration": 590,
    "start_time": "2021-07-03T16:50:18.965Z"
   },
   {
    "duration": 83,
    "start_time": "2021-07-03T16:55:21.974Z"
   },
   {
    "duration": 5,
    "start_time": "2021-07-03T16:55:33.440Z"
   },
   {
    "duration": 459,
    "start_time": "2021-07-03T16:55:42.576Z"
   },
   {
    "duration": 5,
    "start_time": "2021-07-03T16:56:36.994Z"
   },
   {
    "duration": 451,
    "start_time": "2021-07-03T16:56:39.065Z"
   },
   {
    "duration": 5,
    "start_time": "2021-07-03T16:57:48.903Z"
   },
   {
    "duration": 819,
    "start_time": "2021-07-03T16:57:50.867Z"
   },
   {
    "duration": 587,
    "start_time": "2021-07-03T17:05:41.156Z"
   },
   {
    "duration": 5,
    "start_time": "2021-07-03T17:05:48.647Z"
   },
   {
    "duration": 460,
    "start_time": "2021-07-03T17:06:07.901Z"
   },
   {
    "duration": 232,
    "start_time": "2021-07-03T17:17:20.158Z"
   },
   {
    "duration": 1057,
    "start_time": "2021-07-03T17:17:32.350Z"
   },
   {
    "duration": 322,
    "start_time": "2021-07-03T17:17:33.409Z"
   },
   {
    "duration": 12,
    "start_time": "2021-07-03T17:17:33.735Z"
   },
   {
    "duration": 16,
    "start_time": "2021-07-03T17:17:33.749Z"
   },
   {
    "duration": 22,
    "start_time": "2021-07-03T17:17:33.766Z"
   },
   {
    "duration": 19,
    "start_time": "2021-07-03T17:17:33.789Z"
   },
   {
    "duration": 413,
    "start_time": "2021-07-03T17:17:33.810Z"
   },
   {
    "duration": 4,
    "start_time": "2021-07-03T17:17:34.225Z"
   },
   {
    "duration": 71,
    "start_time": "2021-07-03T17:17:34.230Z"
   },
   {
    "duration": 102,
    "start_time": "2021-07-03T17:17:34.391Z"
   },
   {
    "duration": 117,
    "start_time": "2021-07-03T17:17:34.495Z"
   },
   {
    "duration": 3,
    "start_time": "2021-07-03T17:17:34.614Z"
   },
   {
    "duration": 173,
    "start_time": "2021-07-03T17:17:34.618Z"
   },
   {
    "duration": 20,
    "start_time": "2021-07-03T17:17:34.793Z"
   },
   {
    "duration": 14,
    "start_time": "2021-07-03T17:17:34.815Z"
   },
   {
    "duration": 13,
    "start_time": "2021-07-03T17:17:34.830Z"
   },
   {
    "duration": 19,
    "start_time": "2021-07-03T17:17:34.845Z"
   },
   {
    "duration": 7,
    "start_time": "2021-07-03T17:17:34.866Z"
   },
   {
    "duration": 16,
    "start_time": "2021-07-03T17:17:34.875Z"
   },
   {
    "duration": 5,
    "start_time": "2021-07-03T17:17:34.892Z"
   },
   {
    "duration": 21,
    "start_time": "2021-07-03T17:17:34.898Z"
   },
   {
    "duration": 12,
    "start_time": "2021-07-03T17:17:34.922Z"
   },
   {
    "duration": 18,
    "start_time": "2021-07-03T17:17:34.936Z"
   },
   {
    "duration": 314,
    "start_time": "2021-07-03T17:17:34.955Z"
   },
   {
    "duration": 610,
    "start_time": "2021-07-03T17:17:34.660Z"
   },
   {
    "duration": 609,
    "start_time": "2021-07-03T17:17:34.662Z"
   },
   {
    "duration": 607,
    "start_time": "2021-07-03T17:17:34.665Z"
   },
   {
    "duration": 226,
    "start_time": "2021-07-03T17:19:57.097Z"
   },
   {
    "duration": 4,
    "start_time": "2021-07-03T17:20:06.782Z"
   },
   {
    "duration": 31,
    "start_time": "2021-07-03T17:20:17.486Z"
   },
   {
    "duration": 4,
    "start_time": "2021-07-03T17:20:47.021Z"
   },
   {
    "duration": 27,
    "start_time": "2021-07-03T17:20:48.782Z"
   },
   {
    "duration": 29,
    "start_time": "2021-07-03T17:21:01.790Z"
   },
   {
    "duration": 1106,
    "start_time": "2021-07-03T17:21:16.472Z"
   },
   {
    "duration": 333,
    "start_time": "2021-07-03T17:21:17.580Z"
   },
   {
    "duration": 13,
    "start_time": "2021-07-03T17:21:17.915Z"
   },
   {
    "duration": 11,
    "start_time": "2021-07-03T17:21:17.929Z"
   },
   {
    "duration": 11,
    "start_time": "2021-07-03T17:21:17.942Z"
   },
   {
    "duration": 15,
    "start_time": "2021-07-03T17:21:17.955Z"
   },
   {
    "duration": 409,
    "start_time": "2021-07-03T17:21:17.992Z"
   },
   {
    "duration": 3,
    "start_time": "2021-07-03T17:21:18.403Z"
   },
   {
    "duration": 89,
    "start_time": "2021-07-03T17:21:18.408Z"
   },
   {
    "duration": 112,
    "start_time": "2021-07-03T17:21:18.499Z"
   },
   {
    "duration": 188,
    "start_time": "2021-07-03T17:21:18.613Z"
   },
   {
    "duration": 3,
    "start_time": "2021-07-03T17:21:18.803Z"
   },
   {
    "duration": 92,
    "start_time": "2021-07-03T17:21:18.808Z"
   },
   {
    "duration": 4,
    "start_time": "2021-07-03T17:21:18.992Z"
   },
   {
    "duration": 8,
    "start_time": "2021-07-03T17:21:18.998Z"
   },
   {
    "duration": 5,
    "start_time": "2021-07-03T17:21:19.008Z"
   },
   {
    "duration": 6,
    "start_time": "2021-07-03T17:21:19.014Z"
   },
   {
    "duration": 5,
    "start_time": "2021-07-03T17:21:19.022Z"
   },
   {
    "duration": 12,
    "start_time": "2021-07-03T17:21:19.028Z"
   },
   {
    "duration": 9,
    "start_time": "2021-07-03T17:21:19.041Z"
   },
   {
    "duration": 41,
    "start_time": "2021-07-03T17:21:19.051Z"
   },
   {
    "duration": 7,
    "start_time": "2021-07-03T17:21:19.094Z"
   },
   {
    "duration": 7,
    "start_time": "2021-07-03T17:21:19.105Z"
   },
   {
    "duration": 2894,
    "start_time": "2021-07-03T17:21:19.114Z"
   },
   {
    "duration": 75,
    "start_time": "2021-07-03T17:21:22.010Z"
   },
   {
    "duration": 622,
    "start_time": "2021-07-03T17:21:21.465Z"
   },
   {
    "duration": 621,
    "start_time": "2021-07-03T17:21:21.468Z"
   },
   {
    "duration": 2763,
    "start_time": "2021-07-03T17:23:18.058Z"
   },
   {
    "duration": 85,
    "start_time": "2021-07-03T17:23:20.822Z"
   },
   {
    "duration": 3,
    "start_time": "2021-07-03T17:25:36.944Z"
   },
   {
    "duration": 2799,
    "start_time": "2021-07-03T17:26:54.759Z"
   },
   {
    "duration": 3003,
    "start_time": "2021-07-03T17:27:33.704Z"
   },
   {
    "duration": 2831,
    "start_time": "2021-07-03T17:27:47.837Z"
   },
   {
    "duration": 2821,
    "start_time": "2021-07-03T17:27:55.881Z"
   },
   {
    "duration": 2760,
    "start_time": "2021-07-03T17:32:16.621Z"
   },
   {
    "duration": 2798,
    "start_time": "2021-07-03T17:35:16.050Z"
   },
   {
    "duration": 298,
    "start_time": "2021-07-03T17:43:28.331Z"
   },
   {
    "duration": 42,
    "start_time": "2021-07-03T17:44:00.851Z"
   },
   {
    "duration": 25,
    "start_time": "2021-07-03T17:44:19.546Z"
   },
   {
    "duration": 29,
    "start_time": "2021-07-03T17:45:04.132Z"
   },
   {
    "duration": 74,
    "start_time": "2021-07-03T17:45:16.118Z"
   },
   {
    "duration": 3019,
    "start_time": "2021-07-03T17:46:37.035Z"
   },
   {
    "duration": 5,
    "start_time": "2021-07-03T17:52:16.368Z"
   },
   {
    "duration": 5,
    "start_time": "2021-07-03T17:52:48.986Z"
   },
   {
    "duration": 6,
    "start_time": "2021-07-03T17:56:50.411Z"
   },
   {
    "duration": 451,
    "start_time": "2021-07-03T17:56:51.537Z"
   },
   {
    "duration": 5,
    "start_time": "2021-07-03T17:57:28.563Z"
   },
   {
    "duration": 505,
    "start_time": "2021-07-03T17:57:30.224Z"
   },
   {
    "duration": 1108,
    "start_time": "2021-07-03T17:58:02.007Z"
   },
   {
    "duration": 341,
    "start_time": "2021-07-03T17:58:03.116Z"
   },
   {
    "duration": 14,
    "start_time": "2021-07-03T17:58:03.461Z"
   },
   {
    "duration": 25,
    "start_time": "2021-07-03T17:58:03.477Z"
   },
   {
    "duration": 12,
    "start_time": "2021-07-03T17:58:03.504Z"
   },
   {
    "duration": 17,
    "start_time": "2021-07-03T17:58:03.518Z"
   },
   {
    "duration": 427,
    "start_time": "2021-07-03T17:58:03.537Z"
   },
   {
    "duration": 4,
    "start_time": "2021-07-03T17:58:03.966Z"
   },
   {
    "duration": 120,
    "start_time": "2021-07-03T17:58:03.972Z"
   },
   {
    "duration": 116,
    "start_time": "2021-07-03T17:58:04.094Z"
   },
   {
    "duration": 114,
    "start_time": "2021-07-03T17:58:04.294Z"
   },
   {
    "duration": 81,
    "start_time": "2021-07-03T17:58:04.410Z"
   },
   {
    "duration": 99,
    "start_time": "2021-07-03T17:58:04.494Z"
   },
   {
    "duration": 10,
    "start_time": "2021-07-03T17:58:04.595Z"
   },
   {
    "duration": 9,
    "start_time": "2021-07-03T17:58:04.607Z"
   },
   {
    "duration": 6,
    "start_time": "2021-07-03T17:58:04.617Z"
   },
   {
    "duration": 12,
    "start_time": "2021-07-03T17:58:04.625Z"
   },
   {
    "duration": 17,
    "start_time": "2021-07-03T17:58:04.638Z"
   },
   {
    "duration": 10,
    "start_time": "2021-07-03T17:58:04.657Z"
   },
   {
    "duration": 14,
    "start_time": "2021-07-03T17:58:04.668Z"
   },
   {
    "duration": 12,
    "start_time": "2021-07-03T17:58:04.684Z"
   },
   {
    "duration": 14,
    "start_time": "2021-07-03T17:58:04.698Z"
   },
   {
    "duration": 10,
    "start_time": "2021-07-03T17:58:04.714Z"
   },
   {
    "duration": 10,
    "start_time": "2021-07-03T17:58:04.726Z"
   },
   {
    "duration": 526,
    "start_time": "2021-07-03T17:58:04.738Z"
   },
   {
    "duration": 634,
    "start_time": "2021-07-03T17:58:04.632Z"
   },
   {
    "duration": 632,
    "start_time": "2021-07-03T17:58:04.635Z"
   },
   {
    "duration": 6,
    "start_time": "2021-07-03T17:59:02.935Z"
   },
   {
    "duration": 566,
    "start_time": "2021-07-03T17:59:04.650Z"
   },
   {
    "duration": 5,
    "start_time": "2021-07-03T17:59:38.120Z"
   },
   {
    "duration": 2892,
    "start_time": "2021-07-03T17:59:39.636Z"
   },
   {
    "duration": 6,
    "start_time": "2021-07-03T18:06:11.881Z"
   },
   {
    "duration": 6,
    "start_time": "2021-07-03T18:06:14.779Z"
   },
   {
    "duration": 6,
    "start_time": "2021-07-03T18:06:16.176Z"
   },
   {
    "duration": 6,
    "start_time": "2021-07-03T18:08:34.758Z"
   },
   {
    "duration": 461,
    "start_time": "2021-07-03T18:08:37.413Z"
   },
   {
    "duration": 4,
    "start_time": "2021-07-03T18:13:49.737Z"
   },
   {
    "duration": 47,
    "start_time": "2021-07-03T18:14:04.448Z"
   },
   {
    "duration": 1112,
    "start_time": "2021-07-03T18:14:14.007Z"
   },
   {
    "duration": 336,
    "start_time": "2021-07-03T18:14:15.121Z"
   },
   {
    "duration": 14,
    "start_time": "2021-07-03T18:14:15.459Z"
   },
   {
    "duration": 24,
    "start_time": "2021-07-03T18:14:15.475Z"
   },
   {
    "duration": 12,
    "start_time": "2021-07-03T18:14:15.501Z"
   },
   {
    "duration": 16,
    "start_time": "2021-07-03T18:14:15.515Z"
   },
   {
    "duration": 429,
    "start_time": "2021-07-03T18:14:15.533Z"
   },
   {
    "duration": 4,
    "start_time": "2021-07-03T18:14:15.965Z"
   },
   {
    "duration": 38,
    "start_time": "2021-07-03T18:14:15.970Z"
   },
   {
    "duration": 187,
    "start_time": "2021-07-03T18:14:16.010Z"
   },
   {
    "duration": 202,
    "start_time": "2021-07-03T18:14:16.200Z"
   },
   {
    "duration": 87,
    "start_time": "2021-07-03T18:14:16.405Z"
   },
   {
    "duration": 103,
    "start_time": "2021-07-03T18:14:16.494Z"
   },
   {
    "duration": 9,
    "start_time": "2021-07-03T18:14:16.599Z"
   },
   {
    "duration": 12,
    "start_time": "2021-07-03T18:14:16.609Z"
   },
   {
    "duration": 7,
    "start_time": "2021-07-03T18:14:16.622Z"
   },
   {
    "duration": 8,
    "start_time": "2021-07-03T18:14:16.630Z"
   },
   {
    "duration": 7,
    "start_time": "2021-07-03T18:14:16.640Z"
   },
   {
    "duration": 9,
    "start_time": "2021-07-03T18:14:16.648Z"
   },
   {
    "duration": 14,
    "start_time": "2021-07-03T18:14:16.659Z"
   },
   {
    "duration": 13,
    "start_time": "2021-07-03T18:14:16.674Z"
   },
   {
    "duration": 17,
    "start_time": "2021-07-03T18:14:16.688Z"
   },
   {
    "duration": 10,
    "start_time": "2021-07-03T18:14:16.707Z"
   },
   {
    "duration": 9,
    "start_time": "2021-07-03T18:14:16.718Z"
   },
   {
    "duration": 2114,
    "start_time": "2021-07-03T18:14:16.728Z"
   },
   {
    "duration": 2782,
    "start_time": "2021-07-03T18:14:18.843Z"
   },
   {
    "duration": 300,
    "start_time": "2021-07-03T18:14:21.627Z"
   },
   {
    "duration": 6,
    "start_time": "2021-07-03T18:15:50.245Z"
   },
   {
    "duration": 2921,
    "start_time": "2021-07-03T18:15:51.922Z"
   },
   {
    "duration": 2770,
    "start_time": "2021-07-03T18:17:38.665Z"
   },
   {
    "duration": 2851,
    "start_time": "2021-07-03T18:18:40.763Z"
   },
   {
    "duration": 2857,
    "start_time": "2021-07-03T18:25:11.513Z"
   },
   {
    "duration": 2890,
    "start_time": "2021-07-03T18:26:14.308Z"
   },
   {
    "duration": 3172,
    "start_time": "2021-07-03T18:26:58.781Z"
   },
   {
    "duration": 1282,
    "start_time": "2021-07-03T18:27:43.633Z"
   },
   {
    "duration": 337,
    "start_time": "2021-07-03T18:27:44.917Z"
   },
   {
    "duration": 12,
    "start_time": "2021-07-03T18:27:45.259Z"
   },
   {
    "duration": 22,
    "start_time": "2021-07-03T18:27:45.273Z"
   },
   {
    "duration": 10,
    "start_time": "2021-07-03T18:27:45.297Z"
   },
   {
    "duration": 16,
    "start_time": "2021-07-03T18:27:45.309Z"
   },
   {
    "duration": 424,
    "start_time": "2021-07-03T18:27:45.328Z"
   },
   {
    "duration": 4,
    "start_time": "2021-07-03T18:27:45.754Z"
   },
   {
    "duration": 43,
    "start_time": "2021-07-03T18:27:45.759Z"
   },
   {
    "duration": 193,
    "start_time": "2021-07-03T18:27:45.804Z"
   },
   {
    "duration": 200,
    "start_time": "2021-07-03T18:27:46.000Z"
   },
   {
    "duration": 88,
    "start_time": "2021-07-03T18:27:46.203Z"
   },
   {
    "duration": 6,
    "start_time": "2021-07-03T18:27:46.294Z"
   },
   {
    "duration": 4,
    "start_time": "2021-07-03T18:27:46.392Z"
   },
   {
    "duration": 9,
    "start_time": "2021-07-03T18:27:46.398Z"
   },
   {
    "duration": 4,
    "start_time": "2021-07-03T18:27:46.408Z"
   },
   {
    "duration": 8,
    "start_time": "2021-07-03T18:27:46.413Z"
   },
   {
    "duration": 8,
    "start_time": "2021-07-03T18:27:46.422Z"
   },
   {
    "duration": 11,
    "start_time": "2021-07-03T18:27:46.431Z"
   },
   {
    "duration": 6,
    "start_time": "2021-07-03T18:27:46.443Z"
   },
   {
    "duration": 11,
    "start_time": "2021-07-03T18:27:46.450Z"
   },
   {
    "duration": 28,
    "start_time": "2021-07-03T18:27:46.463Z"
   },
   {
    "duration": 6,
    "start_time": "2021-07-03T18:27:46.493Z"
   },
   {
    "duration": 6,
    "start_time": "2021-07-03T18:27:46.501Z"
   },
   {
    "duration": 2793,
    "start_time": "2021-07-03T18:27:46.508Z"
   },
   {
    "duration": 2780,
    "start_time": "2021-07-03T18:27:49.303Z"
   },
   {
    "duration": 3111,
    "start_time": "2021-07-03T18:27:52.085Z"
   },
   {
    "duration": 1138,
    "start_time": "2021-07-03T18:34:03.798Z"
   },
   {
    "duration": 344,
    "start_time": "2021-07-03T18:34:04.938Z"
   },
   {
    "duration": 12,
    "start_time": "2021-07-03T18:34:05.284Z"
   },
   {
    "duration": 11,
    "start_time": "2021-07-03T18:34:05.298Z"
   },
   {
    "duration": 10,
    "start_time": "2021-07-03T18:34:05.311Z"
   },
   {
    "duration": 16,
    "start_time": "2021-07-03T18:34:05.323Z"
   },
   {
    "duration": 428,
    "start_time": "2021-07-03T18:34:05.341Z"
   },
   {
    "duration": 4,
    "start_time": "2021-07-03T18:34:05.772Z"
   },
   {
    "duration": 115,
    "start_time": "2021-07-03T18:34:05.778Z"
   },
   {
    "duration": 114,
    "start_time": "2021-07-03T18:34:05.895Z"
   },
   {
    "duration": 191,
    "start_time": "2021-07-03T18:34:06.012Z"
   },
   {
    "duration": 3,
    "start_time": "2021-07-03T18:34:06.206Z"
   },
   {
    "duration": 5,
    "start_time": "2021-07-03T18:34:06.293Z"
   },
   {
    "duration": 94,
    "start_time": "2021-07-03T18:34:06.300Z"
   },
   {
    "duration": 11,
    "start_time": "2021-07-03T18:34:06.396Z"
   },
   {
    "duration": 5,
    "start_time": "2021-07-03T18:34:06.409Z"
   },
   {
    "duration": 8,
    "start_time": "2021-07-03T18:34:06.416Z"
   },
   {
    "duration": 13,
    "start_time": "2021-07-03T18:34:06.425Z"
   },
   {
    "duration": 14,
    "start_time": "2021-07-03T18:34:06.439Z"
   },
   {
    "duration": 5,
    "start_time": "2021-07-03T18:34:06.454Z"
   },
   {
    "duration": 11,
    "start_time": "2021-07-03T18:34:06.460Z"
   },
   {
    "duration": 19,
    "start_time": "2021-07-03T18:34:06.472Z"
   },
   {
    "duration": 5,
    "start_time": "2021-07-03T18:34:06.494Z"
   },
   {
    "duration": 11,
    "start_time": "2021-07-03T18:34:06.501Z"
   },
   {
    "duration": 2827,
    "start_time": "2021-07-03T18:34:06.514Z"
   },
   {
    "duration": 2997,
    "start_time": "2021-07-03T18:34:09.343Z"
   },
   {
    "duration": 2868,
    "start_time": "2021-07-03T18:34:12.342Z"
   },
   {
    "duration": 3192,
    "start_time": "2021-07-03T18:37:43.612Z"
   },
   {
    "duration": 2931,
    "start_time": "2021-07-03T18:38:05.813Z"
   },
   {
    "duration": 2798,
    "start_time": "2021-07-03T18:38:36.604Z"
   },
   {
    "duration": 5,
    "start_time": "2021-07-03T18:43:32.762Z"
   },
   {
    "duration": 12181,
    "start_time": "2021-07-03T18:43:33.933Z"
   },
   {
    "duration": 6,
    "start_time": "2021-07-03T18:45:31.724Z"
   },
   {
    "duration": 2813,
    "start_time": "2021-07-03T18:45:32.992Z"
   },
   {
    "duration": 1144,
    "start_time": "2021-07-03T18:45:45.475Z"
   },
   {
    "duration": 336,
    "start_time": "2021-07-03T18:45:46.620Z"
   },
   {
    "duration": 14,
    "start_time": "2021-07-03T18:45:46.958Z"
   },
   {
    "duration": 17,
    "start_time": "2021-07-03T18:45:46.974Z"
   },
   {
    "duration": 11,
    "start_time": "2021-07-03T18:45:46.993Z"
   },
   {
    "duration": 16,
    "start_time": "2021-07-03T18:45:47.006Z"
   },
   {
    "duration": 426,
    "start_time": "2021-07-03T18:45:47.024Z"
   },
   {
    "duration": 4,
    "start_time": "2021-07-03T18:45:47.453Z"
   },
   {
    "duration": 133,
    "start_time": "2021-07-03T18:45:47.459Z"
   },
   {
    "duration": 111,
    "start_time": "2021-07-03T18:45:47.594Z"
   },
   {
    "duration": 196,
    "start_time": "2021-07-03T18:45:47.707Z"
   },
   {
    "duration": 87,
    "start_time": "2021-07-03T18:45:47.905Z"
   },
   {
    "duration": 99,
    "start_time": "2021-07-03T18:45:47.994Z"
   },
   {
    "duration": 19,
    "start_time": "2021-07-03T18:45:48.095Z"
   },
   {
    "duration": 12,
    "start_time": "2021-07-03T18:45:48.115Z"
   },
   {
    "duration": 16,
    "start_time": "2021-07-03T18:45:48.129Z"
   },
   {
    "duration": 12,
    "start_time": "2021-07-03T18:45:48.146Z"
   },
   {
    "duration": 13,
    "start_time": "2021-07-03T18:45:48.160Z"
   },
   {
    "duration": 9,
    "start_time": "2021-07-03T18:45:48.174Z"
   },
   {
    "duration": 6,
    "start_time": "2021-07-03T18:45:48.184Z"
   },
   {
    "duration": 13,
    "start_time": "2021-07-03T18:45:48.191Z"
   },
   {
    "duration": 23,
    "start_time": "2021-07-03T18:45:48.206Z"
   },
   {
    "duration": 9,
    "start_time": "2021-07-03T18:45:48.231Z"
   },
   {
    "duration": 7,
    "start_time": "2021-07-03T18:45:48.242Z"
   },
   {
    "duration": 2753,
    "start_time": "2021-07-03T18:45:48.251Z"
   },
   {
    "duration": 2970,
    "start_time": "2021-07-03T18:45:51.006Z"
   },
   {
    "duration": 2789,
    "start_time": "2021-07-03T18:45:53.977Z"
   }
  ],
  "kernelspec": {
   "display_name": "Python 3",
   "language": "python",
   "name": "python3"
  },
  "language_info": {
   "codemirror_mode": {
    "name": "ipython",
    "version": 3
   },
   "file_extension": ".py",
   "mimetype": "text/x-python",
   "name": "python",
   "nbconvert_exporter": "python",
   "pygments_lexer": "ipython3",
   "version": "3.8.5"
  },
  "toc": {
   "base_numbering": 1,
   "nav_menu": {},
   "number_sections": true,
   "sideBar": true,
   "skip_h1_title": true,
   "title_cell": "Table of Contents",
   "title_sidebar": "Contents",
   "toc_cell": false,
   "toc_position": {},
   "toc_section_display": true,
   "toc_window_display": true
  }
 },
 "nbformat": 4,
 "nbformat_minor": 2
}
