{
 "cells": [
  {
   "cell_type": "markdown",
   "metadata": {},
   "source": [
    "#  Прогнозирование заказов такси"
   ]
  },
  {
   "cell_type": "markdown",
   "metadata": {},
   "source": [
    "Компания-перевозчик собрала исторические данные о заказах такси в аэропортах. Чтобы привлекать больше водителей в период пиковой нагрузки, нужно спрогнозировать количество заказов такси на следующий час. Постройте модель для такого предсказания.\n",
    "\n",
    "Значение метрики *RMSE* на тестовой выборке должно быть не больше 48.\n",
    "\n",
    "Необходимо:\n",
    "\n",
    "1. Загрузить данные и выполнить их ресемплирование по одному часу.\n",
    "2. Проанализировать данные.\n",
    "3. Обучить разные модели с различными гиперпараметрами. Сделать тестовую выборку размером 10% от исходных данных.\n",
    "4. Проверить данные на тестовой выборке и сделать выводы."
   ]
  },
  {
   "cell_type": "markdown",
   "metadata": {},
   "source": [
    "## Подготовка"
   ]
  },
  {
   "cell_type": "markdown",
   "metadata": {},
   "source": [
    "### Библиотеки"
   ]
  },
  {
   "cell_type": "markdown",
   "metadata": {},
   "source": [
    "Загружаю необходимые библиотеки."
   ]
  },
  {
   "cell_type": "code",
   "execution_count": 1,
   "metadata": {},
   "outputs": [],
   "source": [
    "import pandas as pd\n",
    "import numpy as np\n",
    "from sklearn.metrics import mean_squared_error\n",
    "from sklearn.model_selection import train_test_split\n",
    "from sklearn.preprocessing import StandardScaler\n",
    "from sklearn.model_selection import TimeSeriesSplit\n",
    "from sklearn.dummy import DummyRegressor\n",
    "from sklearn.linear_model import LinearRegression\n",
    "import catboost as cb\n",
    "from sklearn.neighbors import KNeighborsRegressor"
   ]
  },
  {
   "cell_type": "markdown",
   "metadata": {},
   "source": [
    "### Данные"
   ]
  },
  {
   "cell_type": "markdown",
   "metadata": {},
   "source": [
    "Загружаю датасет."
   ]
  },
  {
   "cell_type": "code",
   "execution_count": 2,
   "metadata": {},
   "outputs": [],
   "source": [
    "taxi = pd.read_csv('/datasets/taxi.csv', index_col=[0], parse_dates=[0])"
   ]
  },
  {
   "cell_type": "code",
   "execution_count": 3,
   "metadata": {},
   "outputs": [
    {
     "name": "stdout",
     "output_type": "stream",
     "text": [
      "<class 'pandas.core.frame.DataFrame'>\n",
      "DatetimeIndex: 26496 entries, 2018-03-01 00:00:00 to 2018-08-31 23:50:00\n",
      "Data columns (total 1 columns):\n",
      "num_orders    26496 non-null int64\n",
      "dtypes: int64(1)\n",
      "memory usage: 414.0 KB\n"
     ]
    },
    {
     "data": {
      "text/plain": [
       "(None,\n",
       "                      num_orders\n",
       " datetime                       \n",
       " 2018-03-01 00:00:00           9\n",
       " 2018-03-01 00:10:00          14\n",
       " 2018-03-01 00:20:00          28\n",
       " 2018-03-01 00:30:00          20\n",
       " 2018-03-01 00:40:00          32)"
      ]
     },
     "execution_count": 3,
     "metadata": {},
     "output_type": "execute_result"
    }
   ],
   "source": [
    "taxi.info(), taxi.head()"
   ]
  },
  {
   "cell_type": "markdown",
   "metadata": {},
   "source": [
    "26496 временных интервала по 10 минут с количеством заказов такси за этот интервал."
   ]
  },
  {
   "cell_type": "code",
   "execution_count": 4,
   "metadata": {},
   "outputs": [
    {
     "data": {
      "text/plain": [
       "(Timestamp('2018-03-01 00:00:00'), Timestamp('2018-08-31 23:50:00'))"
      ]
     },
     "execution_count": 4,
     "metadata": {},
     "output_type": "execute_result"
    }
   ],
   "source": [
    "taxi.index.min(), taxi.index.max()"
   ]
  },
  {
   "cell_type": "code",
   "execution_count": 5,
   "metadata": {},
   "outputs": [],
   "source": [
    "taxi.sort_index(inplace=True)"
   ]
  },
  {
   "cell_type": "code",
   "execution_count": 6,
   "metadata": {},
   "outputs": [
    {
     "data": {
      "text/plain": [
       "(Timestamp('2018-03-01 00:00:00'), Timestamp('2018-08-31 23:50:00'))"
      ]
     },
     "execution_count": 6,
     "metadata": {},
     "output_type": "execute_result"
    }
   ],
   "source": [
    "taxi.index.min(), taxi.index.max()"
   ]
  },
  {
   "cell_type": "markdown",
   "metadata": {},
   "source": [
    "Данные следуют в хронологическом порядке."
   ]
  },
  {
   "cell_type": "markdown",
   "metadata": {},
   "source": [
    "### Ресемпл по 1 часу"
   ]
  },
  {
   "cell_type": "code",
   "execution_count": 7,
   "metadata": {},
   "outputs": [],
   "source": [
    "taxi_rsml = taxi.resample('1H').sum()"
   ]
  },
  {
   "cell_type": "markdown",
   "metadata": {},
   "source": [
    "### Добавление новых признаков"
   ]
  },
  {
   "cell_type": "code",
   "execution_count": 8,
   "metadata": {},
   "outputs": [],
   "source": [
    "df = pd.DataFrame(data=taxi_rsml, index=taxi_rsml.index)"
   ]
  },
  {
   "cell_type": "markdown",
   "metadata": {},
   "source": [
    "Создаю функцию для добавления признаков."
   ]
  },
  {
   "cell_type": "code",
   "execution_count": 9,
   "metadata": {},
   "outputs": [],
   "source": [
    "def make_features(data, max_lag, rolling_mean_size):\n",
    "    \n",
    "    df['year'] = data.index.year\n",
    "    df['month'] = data.index.month\n",
    "    df['day'] = data.index.day\n",
    "    df['dayofweek'] = data.index.dayofweek\n",
    "    df['hour'] = data.index.hour\n",
    "    \n",
    "    for lag in range(1, max_lag + 1):\n",
    "        df['lag_{}'.format(lag)] = data['num_orders'].shift(lag)\n",
    "\n",
    "    df['rolling_mean'] = data['num_orders'].shift().rolling(rolling_mean_size).mean()"
   ]
  },
  {
   "cell_type": "markdown",
   "metadata": {},
   "source": [
    "Имеем ресэмпл по 1 часу, так что lag=24 будет сдвигать данные в течение суток, а среднее скользящее \"6\" будет отслеживать тренд временного ряда (в смысле утро, день, вечер, ночь)"
   ]
  },
  {
   "cell_type": "code",
   "execution_count": 10,
   "metadata": {},
   "outputs": [],
   "source": [
    "make_features(taxi_rsml, 24, 6)"
   ]
  },
  {
   "cell_type": "markdown",
   "metadata": {},
   "source": [
    "### Сплит"
   ]
  },
  {
   "cell_type": "markdown",
   "metadata": {},
   "source": [
    "По условию, выделяю тестовую выборку 10% от исходного датасета.\n",
    "\n",
    "Чтобы не смотреть в будущее, использую shuffle=FALSE."
   ]
  },
  {
   "cell_type": "code",
   "execution_count": 11,
   "metadata": {},
   "outputs": [],
   "source": [
    "train, test = train_test_split(df, shuffle=False, test_size=0.1, random_state=1024)\n",
    "train = train.dropna()"
   ]
  },
  {
   "cell_type": "code",
   "execution_count": 12,
   "metadata": {},
   "outputs": [
    {
     "data": {
      "text/plain": [
       "(Timestamp('2018-08-13 13:00:00'), Timestamp('2018-08-13 14:00:00'))"
      ]
     },
     "execution_count": 12,
     "metadata": {},
     "output_type": "execute_result"
    }
   ],
   "source": [
    "train.index.max(), test.index.min()"
   ]
  },
  {
   "cell_type": "markdown",
   "metadata": {},
   "source": [
    "Данные следуют друг за другом"
   ]
  },
  {
   "cell_type": "code",
   "execution_count": 14,
   "metadata": {},
   "outputs": [
    {
     "data": {
      "text/plain": [
       "((3950, 31), (442, 31))"
      ]
     },
     "execution_count": 14,
     "metadata": {},
     "output_type": "execute_result"
    }
   ],
   "source": [
    "train.shape, test.shape"
   ]
  },
  {
   "cell_type": "code",
   "execution_count": 15,
   "metadata": {},
   "outputs": [],
   "source": [
    "X_train = train.drop(['num_orders'], axis=1)\n",
    "y_train = train['num_orders']\n",
    "\n",
    "X_test = test.drop(['num_orders'], axis=1)\n",
    "y_test = test['num_orders']"
   ]
  },
  {
   "cell_type": "code",
   "execution_count": 16,
   "metadata": {},
   "outputs": [
    {
     "data": {
      "text/plain": [
       "(Timestamp('2018-03-02 00:00:00'),\n",
       " Timestamp('2018-08-13 13:00:00'),\n",
       " Timestamp('2018-08-13 14:00:00'),\n",
       " Timestamp('2018-08-31 23:00:00'))"
      ]
     },
     "execution_count": 16,
     "metadata": {},
     "output_type": "execute_result"
    }
   ],
   "source": [
    "X_train.index.min(), X_train.index.max(), X_test.index.min(), X_test.index.max()"
   ]
  },
  {
   "cell_type": "markdown",
   "metadata": {},
   "source": [
    "Тренировочная выборка с 02 марта по 13 августа 2018 г. (5 мес. 11 сут.), продолжает ее тестовая до 31 августа 2018 г. (18 сут.).\n",
    "\n",
    "Индесы не перемешаны, в будущее не заглядываем."
   ]
  },
  {
   "cell_type": "markdown",
   "metadata": {},
   "source": [
    "### Масштабирование"
   ]
  },
  {
   "cell_type": "code",
   "execution_count": 17,
   "metadata": {},
   "outputs": [],
   "source": [
    "scaler = StandardScaler()\n",
    "X_train = scaler.fit_transform(X_train)\n",
    "X_test = scaler.transform(X_test)"
   ]
  },
  {
   "cell_type": "markdown",
   "metadata": {},
   "source": [
    "Данные подготовлены."
   ]
  },
  {
   "cell_type": "markdown",
   "metadata": {},
   "source": [
    "## Анализ"
   ]
  },
  {
   "cell_type": "code",
   "execution_count": 18,
   "metadata": {},
   "outputs": [
    {
     "name": "stdout",
     "output_type": "stream",
     "text": [
      "<class 'pandas.core.frame.DataFrame'>\n",
      "DatetimeIndex: 4416 entries, 2018-03-01 00:00:00 to 2018-08-31 23:00:00\n",
      "Freq: H\n",
      "Data columns (total 31 columns):\n",
      "num_orders      4416 non-null int64\n",
      "year            4416 non-null int64\n",
      "month           4416 non-null int64\n",
      "day             4416 non-null int64\n",
      "dayofweek       4416 non-null int64\n",
      "hour            4416 non-null int64\n",
      "lag_1           4415 non-null float64\n",
      "lag_2           4414 non-null float64\n",
      "lag_3           4413 non-null float64\n",
      "lag_4           4412 non-null float64\n",
      "lag_5           4411 non-null float64\n",
      "lag_6           4410 non-null float64\n",
      "lag_7           4409 non-null float64\n",
      "lag_8           4408 non-null float64\n",
      "lag_9           4407 non-null float64\n",
      "lag_10          4406 non-null float64\n",
      "lag_11          4405 non-null float64\n",
      "lag_12          4404 non-null float64\n",
      "lag_13          4403 non-null float64\n",
      "lag_14          4402 non-null float64\n",
      "lag_15          4401 non-null float64\n",
      "lag_16          4400 non-null float64\n",
      "lag_17          4399 non-null float64\n",
      "lag_18          4398 non-null float64\n",
      "lag_19          4397 non-null float64\n",
      "lag_20          4396 non-null float64\n",
      "lag_21          4395 non-null float64\n",
      "lag_22          4394 non-null float64\n",
      "lag_23          4393 non-null float64\n",
      "lag_24          4392 non-null float64\n",
      "rolling_mean    4410 non-null float64\n",
      "dtypes: float64(25), int64(6)\n",
      "memory usage: 1.1 MB\n"
     ]
    }
   ],
   "source": [
    "df.info()"
   ]
  },
  {
   "cell_type": "markdown",
   "metadata": {},
   "source": [
    "Количество строк сократилось в 6 раз - логично."
   ]
  },
  {
   "cell_type": "code",
   "execution_count": 19,
   "metadata": {},
   "outputs": [
    {
     "data": {
      "text/plain": [
       "((3950, 30), (3950,), (442, 30), (442,))"
      ]
     },
     "execution_count": 19,
     "metadata": {},
     "output_type": "execute_result"
    }
   ],
   "source": [
    "X_train.shape, y_train.shape, X_test.shape, y_test.shape"
   ]
  },
  {
   "cell_type": "markdown",
   "metadata": {},
   "source": [
    "Разбивка корректная."
   ]
  },
  {
   "cell_type": "markdown",
   "metadata": {},
   "source": [
    "## Обучение"
   ]
  },
  {
   "cell_type": "markdown",
   "metadata": {},
   "source": [
    "### Dummy"
   ]
  },
  {
   "cell_type": "code",
   "execution_count": 20,
   "metadata": {},
   "outputs": [
    {
     "name": "stdout",
     "output_type": "stream",
     "text": [
      "RMSE на манекене для train-выборки: 38.68\n"
     ]
    }
   ],
   "source": [
    "dr = DummyRegressor(strategy=\"mean\")\n",
    "dr.fit(X_train, y_train)\n",
    "dr_pred = dr.predict(X_train)\n",
    "dr_rmse = np.sqrt(mean_squared_error(dr_pred, y_train))\n",
    "print('RMSE на манекене для train-выборки: {:.2f}'.format(dr_rmse))"
   ]
  },
  {
   "cell_type": "markdown",
   "metadata": {},
   "source": [
    "### LinearRegression"
   ]
  },
  {
   "cell_type": "code",
   "execution_count": 21,
   "metadata": {},
   "outputs": [
    {
     "name": "stdout",
     "output_type": "stream",
     "text": [
      "RMSE на Linear Regression для train-выборки: 25.70\n"
     ]
    }
   ],
   "source": [
    "lr = LinearRegression(n_jobs=-1)\n",
    "lr.fit(X_train, y_train)\n",
    "lr_pred = lr.predict(X_train)\n",
    "lr_rmse = np.sqrt(mean_squared_error(lr_pred, y_train))\n",
    "print('RMSE на Linear Regression для train-выборки: {:.2f}'.format(lr_rmse))"
   ]
  },
  {
   "cell_type": "markdown",
   "metadata": {},
   "source": [
    "### CatBoost Regressor"
   ]
  },
  {
   "cell_type": "markdown",
   "metadata": {},
   "source": [
    "Для ускорения.\n",
    "\n",
    "Использовались следующие параметры:\n",
    "\n",
    "grid = {\n",
    "    \n",
    "    'iterations': [100, 300, 500],\n",
    "    \n",
    "    'learning_rate': [0.003, 0.1, 0.3],\n",
    "    \n",
    "    'depth': [4, 6, 8]\n",
    "\n",
    "}\n",
    "\n",
    "Грид нашёл лучшие:\n",
    "\n",
    "'params': {'depth': 4, 'iterations': 300, 'learning_rate': 0.3"
   ]
  },
  {
   "cell_type": "code",
   "execution_count": 31,
   "metadata": {},
   "outputs": [
    {
     "name": "stdout",
     "output_type": "stream",
     "text": [
      "0:\tloss: 30.8528433\tbest: 30.8528433 (0)\ttotal: 5.18s\tremaining: 0us\n",
      "Estimating final quality...\n"
     ]
    }
   ],
   "source": [
    "train_dataset = cb.Pool(X_train, y_train)\n",
    "cbr = cb.CatBoostRegressor(loss_function='RMSE', random_state = 1024)\n",
    "\n",
    "grid = {\n",
    "    'iterations': [300],\n",
    "    'learning_rate': [0.3],\n",
    "    'depth': [4]\n",
    "}\n",
    "cbr.grid_search(grid, train_dataset, cv=TimeSeriesSplit(n_splits=5));"
   ]
  },
  {
   "cell_type": "code",
   "execution_count": 32,
   "metadata": {},
   "outputs": [
    {
     "name": "stdout",
     "output_type": "stream",
     "text": [
      "RMSE на CatBoostRegressor для train-выборки: 12.15\n"
     ]
    }
   ],
   "source": [
    "cbr_pred = cbr.predict(X_train)\n",
    "cbr_rmse = np.sqrt(mean_squared_error(cbr_pred, y_train))\n",
    "print('RMSE на CatBoostRegressor для train-выборки: {:.2f}'.format(cbr_rmse))"
   ]
  },
  {
   "cell_type": "markdown",
   "metadata": {},
   "source": [
    "### KNeighborsRegressor"
   ]
  },
  {
   "cell_type": "code",
   "execution_count": 24,
   "metadata": {},
   "outputs": [
    {
     "name": "stdout",
     "output_type": "stream",
     "text": [
      "RMSE на KNeighborsRegressor для train-выборки: 17.33\n"
     ]
    }
   ],
   "source": [
    "knr = KNeighborsRegressor(n_jobs=-1, n_neighbors=4)\n",
    "knr.fit(X_train, y_train)\n",
    "knr_pred = knr.predict(X_train)\n",
    "knr_rmse = np.sqrt(mean_squared_error(knr_pred, y_train))\n",
    "print('RMSE на KNeighborsRegressor для train-выборки: {:.2f}'.format(knr_rmse))"
   ]
  },
  {
   "cell_type": "markdown",
   "metadata": {},
   "source": [
    "## Тестирование"
   ]
  },
  {
   "cell_type": "markdown",
   "metadata": {},
   "source": [
    "### Dummy"
   ]
  },
  {
   "cell_type": "code",
   "execution_count": 25,
   "metadata": {},
   "outputs": [
    {
     "name": "stdout",
     "output_type": "stream",
     "text": [
      "RMSE на манекене для тестовой выборки: 84.65\n"
     ]
    }
   ],
   "source": [
    "dr_pred_test = dr.predict(X_test)\n",
    "dr_rmse_test = np.sqrt(mean_squared_error(dr_pred_test, y_test))\n",
    "print('RMSE на манекене для тестовой выборки: {:.2f}'.format(dr_rmse_test))"
   ]
  },
  {
   "cell_type": "markdown",
   "metadata": {},
   "source": [
    "### LinearRegression"
   ]
  },
  {
   "cell_type": "code",
   "execution_count": 26,
   "metadata": {},
   "outputs": [
    {
     "name": "stdout",
     "output_type": "stream",
     "text": [
      "RMSE на Linear Regression для тестовой выборки: 45.81\n"
     ]
    }
   ],
   "source": [
    "lr_pred_test = lr.predict(X_test)\n",
    "lr_rmse_test = np.sqrt(mean_squared_error(lr_pred_test, y_test))\n",
    "print('RMSE на Linear Regression для тестовой выборки: {:.2f}'.format(lr_rmse_test))"
   ]
  },
  {
   "cell_type": "markdown",
   "metadata": {},
   "source": [
    "### CatBoost Regressor"
   ]
  },
  {
   "cell_type": "code",
   "execution_count": 27,
   "metadata": {},
   "outputs": [
    {
     "name": "stdout",
     "output_type": "stream",
     "text": [
      "RMSE на CatBoostRegressor для тестовой выборки: 43.38\n"
     ]
    }
   ],
   "source": [
    "cbr_pred_test = cbr.predict(X_test)\n",
    "cbr_rmse_test = np.sqrt(mean_squared_error(cbr_pred_test, y_test))\n",
    "print('RMSE на CatBoostRegressor для тестовой выборки: {:.2f}'.format(cbr_rmse_test))"
   ]
  },
  {
   "cell_type": "markdown",
   "metadata": {},
   "source": [
    "### KNeighborsRegressor"
   ]
  },
  {
   "cell_type": "code",
   "execution_count": 28,
   "metadata": {},
   "outputs": [
    {
     "name": "stdout",
     "output_type": "stream",
     "text": [
      "RMSE на KNeighborsRegressor для тестовой выборки: 49.13\n"
     ]
    }
   ],
   "source": [
    "knr_pred_test = knr.predict(X_test)\n",
    "knr_rmse_test = np.sqrt(mean_squared_error(knr_pred_test, y_test))\n",
    "print('RMSE на KNeighborsRegressor для тестовой выборки: {:.2f}'.format(knr_rmse_test))"
   ]
  },
  {
   "cell_type": "markdown",
   "metadata": {},
   "source": [
    "## Вывод"
   ]
  },
  {
   "cell_type": "code",
   "execution_count": 29,
   "metadata": {},
   "outputs": [],
   "source": [
    "d = {\n",
    "    'DummyRegressor': [dr_rmse, dr_rmse_test],\n",
    "    'LinearRegression' : [lr_rmse, lr_rmse_test],\n",
    "    'CatBoostRegressor' : [cbr_rmse, cbr_rmse_test],\n",
    "    'KNeighborsRegressor' : [knr_rmse, knr_rmse_test]}\n",
    "resume = pd.DataFrame(data=d, index=['RMSE train', 'RMSE test'], dtype=np.int64)"
   ]
  },
  {
   "cell_type": "code",
   "execution_count": 30,
   "metadata": {},
   "outputs": [
    {
     "data": {
      "text/html": [
       "<div>\n",
       "<style scoped>\n",
       "    .dataframe tbody tr th:only-of-type {\n",
       "        vertical-align: middle;\n",
       "    }\n",
       "\n",
       "    .dataframe tbody tr th {\n",
       "        vertical-align: top;\n",
       "    }\n",
       "\n",
       "    .dataframe thead th {\n",
       "        text-align: right;\n",
       "    }\n",
       "</style>\n",
       "<table border=\"1\" class=\"dataframe\">\n",
       "  <thead>\n",
       "    <tr style=\"text-align: right;\">\n",
       "      <th></th>\n",
       "      <th>DummyRegressor</th>\n",
       "      <th>LinearRegression</th>\n",
       "      <th>CatBoostRegressor</th>\n",
       "      <th>KNeighborsRegressor</th>\n",
       "    </tr>\n",
       "  </thead>\n",
       "  <tbody>\n",
       "    <tr>\n",
       "      <td>RMSE train</td>\n",
       "      <td>38.6829</td>\n",
       "      <td>25.6992</td>\n",
       "      <td>12.1514</td>\n",
       "      <td>17.3314</td>\n",
       "    </tr>\n",
       "    <tr>\n",
       "      <td>RMSE test</td>\n",
       "      <td>84.6499</td>\n",
       "      <td>45.8108</td>\n",
       "      <td>43.3787</td>\n",
       "      <td>49.1263</td>\n",
       "    </tr>\n",
       "  </tbody>\n",
       "</table>\n",
       "</div>"
      ],
      "text/plain": [
       "           DummyRegressor LinearRegression CatBoostRegressor  \\\n",
       "RMSE train        38.6829          25.6992           12.1514   \n",
       "RMSE test         84.6499          45.8108           43.3787   \n",
       "\n",
       "           KNeighborsRegressor  \n",
       "RMSE train             17.3314  \n",
       "RMSE test              49.1263  "
      ]
     },
     "execution_count": 30,
     "metadata": {},
     "output_type": "execute_result"
    }
   ],
   "source": [
    "resume"
   ]
  },
  {
   "cell_type": "markdown",
   "metadata": {},
   "source": [
    "$$Вывод$$\n",
    "\n",
    "$Подготовка:$\n",
    "на этапе подготовки произведено разделение исходного датасета на тренировочную и тестовую выборку в соотношении 9:1, что, в результате, показало значительное улучшение RMSE на тесте (видимо, в валидационную выборку попали очень важные данные).\n",
    "\n",
    "$Обучение/Тестирование:$\n",
    "Для оценки результатов, в качестве отправной точки, использовался манекен - DummyRegressor.\n",
    "\n",
    "В качестве реальных моделей использовались LinearRegression, CatBoostRegressor & KNeighborsRegressor. Все реальные модели отработали лучше манекена, в лидерах - CatBoostRegressor (RMSE на тренировочной выборке - 12.15, на тестовой - 43.37). \n",
    "\n",
    "Стоить отметить LinearRegression, RMSE на тренировочной выборке оказался хуже, чем у CatBoost и KNeighborsRegressor, однако на тесте значение RMSE не сильно отстает от CatBoost и не превышает порог 48.\n",
    "\n",
    "Лучше всего с прогнозированием количества заказов такси на следующий час справилась CatBoost Regressor $RMSE = 43.37$"
   ]
  },
  {
   "cell_type": "code",
   "execution_count": null,
   "metadata": {},
   "outputs": [],
   "source": []
  }
 ],
 "metadata": {
  "ExecuteTimeLog": [
   {
    "duration": 1398,
    "start_time": "2021-08-16T05:59:30.876Z"
   },
   {
    "duration": 417,
    "start_time": "2021-08-16T06:00:32.728Z"
   },
   {
    "duration": 38,
    "start_time": "2021-08-16T06:01:02.780Z"
   },
   {
    "duration": 23,
    "start_time": "2021-08-16T06:01:09.422Z"
   },
   {
    "duration": 44,
    "start_time": "2021-08-16T06:01:53.168Z"
   },
   {
    "duration": 13,
    "start_time": "2021-08-16T06:01:54.560Z"
   },
   {
    "duration": 13,
    "start_time": "2021-08-16T06:02:24.697Z"
   },
   {
    "duration": 6,
    "start_time": "2021-08-16T06:06:55.809Z"
   },
   {
    "duration": 4,
    "start_time": "2021-08-16T06:07:59.944Z"
   },
   {
    "duration": 6,
    "start_time": "2021-08-16T06:08:15.911Z"
   },
   {
    "duration": 23,
    "start_time": "2021-08-16T06:11:17.194Z"
   },
   {
    "duration": 11,
    "start_time": "2021-08-16T06:11:35.291Z"
   },
   {
    "duration": 13,
    "start_time": "2021-08-16T06:12:43.084Z"
   },
   {
    "duration": 1370,
    "start_time": "2021-08-16T20:32:34.220Z"
   },
   {
    "duration": 51,
    "start_time": "2021-08-16T20:32:35.593Z"
   },
   {
    "duration": 21,
    "start_time": "2021-08-16T20:32:35.647Z"
   },
   {
    "duration": 6,
    "start_time": "2021-08-16T20:32:35.685Z"
   },
   {
    "duration": 9,
    "start_time": "2021-08-16T20:32:35.693Z"
   },
   {
    "duration": 9,
    "start_time": "2021-08-16T20:32:35.705Z"
   },
   {
    "duration": 18,
    "start_time": "2021-08-16T20:32:35.717Z"
   },
   {
    "duration": 5,
    "start_time": "2021-08-16T20:32:35.738Z"
   },
   {
    "duration": 43,
    "start_time": "2021-08-16T20:32:35.746Z"
   },
   {
    "duration": 578,
    "start_time": "2021-08-16T20:33:15.284Z"
   },
   {
    "duration": 21,
    "start_time": "2021-08-16T20:33:51.196Z"
   },
   {
    "duration": 20,
    "start_time": "2021-08-16T20:33:56.333Z"
   },
   {
    "duration": 10,
    "start_time": "2021-08-16T20:35:29.095Z"
   },
   {
    "duration": 6,
    "start_time": "2021-08-16T20:36:55.618Z"
   },
   {
    "duration": 5,
    "start_time": "2021-08-16T20:38:09.322Z"
   },
   {
    "duration": 9,
    "start_time": "2021-08-16T20:41:21.521Z"
   },
   {
    "duration": 9,
    "start_time": "2021-08-16T20:42:09.914Z"
   },
   {
    "duration": 6,
    "start_time": "2021-08-16T20:43:03.035Z"
   },
   {
    "duration": 6,
    "start_time": "2021-08-16T20:43:46.581Z"
   },
   {
    "duration": 5,
    "start_time": "2021-08-16T20:44:10.457Z"
   },
   {
    "duration": 6,
    "start_time": "2021-08-16T20:44:37.693Z"
   },
   {
    "duration": 6,
    "start_time": "2021-08-16T20:45:05.423Z"
   },
   {
    "duration": 7,
    "start_time": "2021-08-16T20:45:25.863Z"
   },
   {
    "duration": 6,
    "start_time": "2021-08-16T20:46:22.319Z"
   },
   {
    "duration": 403,
    "start_time": "2021-08-16T20:57:14.946Z"
   },
   {
    "duration": 4,
    "start_time": "2021-08-16T20:57:24.069Z"
   },
   {
    "duration": 410,
    "start_time": "2021-08-16T21:04:12.340Z"
   },
   {
    "duration": 1314,
    "start_time": "2021-08-16T21:04:23.384Z"
   },
   {
    "duration": 47,
    "start_time": "2021-08-16T21:04:24.701Z"
   },
   {
    "duration": 21,
    "start_time": "2021-08-16T21:04:24.751Z"
   },
   {
    "duration": 16,
    "start_time": "2021-08-16T21:04:24.774Z"
   },
   {
    "duration": 12,
    "start_time": "2021-08-16T21:04:24.792Z"
   },
   {
    "duration": 17,
    "start_time": "2021-08-16T21:04:24.807Z"
   },
   {
    "duration": 25,
    "start_time": "2021-08-16T21:04:24.826Z"
   },
   {
    "duration": 6,
    "start_time": "2021-08-16T21:04:24.856Z"
   },
   {
    "duration": 33,
    "start_time": "2021-08-16T21:04:24.866Z"
   },
   {
    "duration": 9,
    "start_time": "2021-08-16T21:04:24.902Z"
   },
   {
    "duration": 7,
    "start_time": "2021-08-16T21:04:24.913Z"
   },
   {
    "duration": 11,
    "start_time": "2021-08-16T21:04:24.922Z"
   },
   {
    "duration": 23,
    "start_time": "2021-08-16T21:04:24.935Z"
   },
   {
    "duration": 30,
    "start_time": "2021-08-16T21:04:24.960Z"
   },
   {
    "duration": 18,
    "start_time": "2021-08-16T21:04:24.994Z"
   },
   {
    "duration": 27,
    "start_time": "2021-08-16T21:04:25.015Z"
   },
   {
    "duration": 43,
    "start_time": "2021-08-16T21:04:25.045Z"
   },
   {
    "duration": 7,
    "start_time": "2021-08-16T21:05:58.804Z"
   },
   {
    "duration": 7,
    "start_time": "2021-08-16T21:06:13.730Z"
   },
   {
    "duration": 7,
    "start_time": "2021-08-16T21:06:38.513Z"
   },
   {
    "duration": 8,
    "start_time": "2021-08-16T21:07:22.695Z"
   },
   {
    "duration": 8,
    "start_time": "2021-08-16T21:08:56.987Z"
   },
   {
    "duration": 492,
    "start_time": "2021-08-16T21:17:04.123Z"
   },
   {
    "duration": 1364,
    "start_time": "2021-08-16T21:17:15.157Z"
   },
   {
    "duration": 47,
    "start_time": "2021-08-16T21:17:16.524Z"
   },
   {
    "duration": 25,
    "start_time": "2021-08-16T21:17:16.574Z"
   },
   {
    "duration": 6,
    "start_time": "2021-08-16T21:17:16.601Z"
   },
   {
    "duration": 5,
    "start_time": "2021-08-16T21:17:16.610Z"
   },
   {
    "duration": 9,
    "start_time": "2021-08-16T21:17:16.617Z"
   },
   {
    "duration": 17,
    "start_time": "2021-08-16T21:17:16.628Z"
   },
   {
    "duration": 38,
    "start_time": "2021-08-16T21:17:16.648Z"
   },
   {
    "duration": 26,
    "start_time": "2021-08-16T21:17:16.690Z"
   },
   {
    "duration": 11,
    "start_time": "2021-08-16T21:17:16.719Z"
   },
   {
    "duration": 7,
    "start_time": "2021-08-16T21:17:16.732Z"
   },
   {
    "duration": 7,
    "start_time": "2021-08-16T21:17:16.742Z"
   },
   {
    "duration": 9,
    "start_time": "2021-08-16T21:17:16.786Z"
   },
   {
    "duration": 513,
    "start_time": "2021-08-16T21:17:16.798Z"
   },
   {
    "duration": 26,
    "start_time": "2021-08-16T21:17:17.287Z"
   },
   {
    "duration": 15,
    "start_time": "2021-08-16T21:17:17.299Z"
   },
   {
    "duration": 11,
    "start_time": "2021-08-16T21:17:17.304Z"
   },
   {
    "duration": 10,
    "start_time": "2021-08-16T21:17:17.307Z"
   },
   {
    "duration": 8,
    "start_time": "2021-08-16T21:17:40.083Z"
   },
   {
    "duration": 9,
    "start_time": "2021-08-16T21:18:06.307Z"
   },
   {
    "duration": 12,
    "start_time": "2021-08-16T21:18:09.947Z"
   },
   {
    "duration": 6,
    "start_time": "2021-08-16T21:18:12.714Z"
   },
   {
    "duration": 490,
    "start_time": "2021-08-16T21:18:13.727Z"
   },
   {
    "duration": 6,
    "start_time": "2021-08-16T21:19:00.516Z"
   },
   {
    "duration": 363,
    "start_time": "2021-08-16T21:19:23.432Z"
   },
   {
    "duration": 1412,
    "start_time": "2021-08-16T21:19:33.184Z"
   },
   {
    "duration": 49,
    "start_time": "2021-08-16T21:19:34.599Z"
   },
   {
    "duration": 21,
    "start_time": "2021-08-16T21:19:34.651Z"
   },
   {
    "duration": 13,
    "start_time": "2021-08-16T21:19:34.675Z"
   },
   {
    "duration": 24,
    "start_time": "2021-08-16T21:19:34.691Z"
   },
   {
    "duration": 28,
    "start_time": "2021-08-16T21:19:34.718Z"
   },
   {
    "duration": 37,
    "start_time": "2021-08-16T21:19:34.748Z"
   },
   {
    "duration": 6,
    "start_time": "2021-08-16T21:19:34.789Z"
   },
   {
    "duration": 30,
    "start_time": "2021-08-16T21:19:34.797Z"
   },
   {
    "duration": 10,
    "start_time": "2021-08-16T21:19:34.830Z"
   },
   {
    "duration": 24,
    "start_time": "2021-08-16T21:19:34.842Z"
   },
   {
    "duration": 25,
    "start_time": "2021-08-16T21:19:34.869Z"
   },
   {
    "duration": 26,
    "start_time": "2021-08-16T21:19:34.896Z"
   },
   {
    "duration": 14,
    "start_time": "2021-08-16T21:19:34.924Z"
   },
   {
    "duration": 19,
    "start_time": "2021-08-16T21:19:34.941Z"
   },
   {
    "duration": 15,
    "start_time": "2021-08-16T21:19:34.963Z"
   },
   {
    "duration": 6,
    "start_time": "2021-08-16T21:19:34.981Z"
   },
   {
    "duration": 14,
    "start_time": "2021-08-16T21:19:34.989Z"
   },
   {
    "duration": 8,
    "start_time": "2021-08-16T21:20:31.702Z"
   },
   {
    "duration": 22,
    "start_time": "2021-08-16T21:22:11.500Z"
   },
   {
    "duration": 12,
    "start_time": "2021-08-16T21:22:54.673Z"
   },
   {
    "duration": 8,
    "start_time": "2021-08-16T21:23:04.657Z"
   },
   {
    "duration": 499,
    "start_time": "2021-08-16T21:23:13.961Z"
   },
   {
    "duration": 4,
    "start_time": "2021-08-16T21:24:19.574Z"
   },
   {
    "duration": 16,
    "start_time": "2021-08-16T21:26:07.055Z"
   },
   {
    "duration": 68,
    "start_time": "2021-08-16T21:31:06.009Z"
   },
   {
    "duration": 164240,
    "start_time": "2021-08-16T21:33:06.451Z"
   },
   {
    "duration": 8,
    "start_time": "2021-08-16T21:37:55.630Z"
   },
   {
    "duration": 167991,
    "start_time": "2021-08-16T21:38:40.535Z"
   },
   {
    "duration": 8,
    "start_time": "2021-08-16T21:41:39.662Z"
   },
   {
    "duration": 361936,
    "start_time": "2021-08-16T21:42:23.163Z"
   },
   {
    "duration": 101035,
    "start_time": "2021-08-16T21:50:20.265Z"
   },
   {
    "duration": 8,
    "start_time": "2021-08-16T21:52:03.826Z"
   },
   {
    "duration": 1460,
    "start_time": "2021-08-16T21:57:07.125Z"
   },
   {
    "duration": 49,
    "start_time": "2021-08-16T21:57:08.588Z"
   },
   {
    "duration": 21,
    "start_time": "2021-08-16T21:57:08.640Z"
   },
   {
    "duration": 7,
    "start_time": "2021-08-16T21:57:08.664Z"
   },
   {
    "duration": 4,
    "start_time": "2021-08-16T21:57:08.686Z"
   },
   {
    "duration": 10,
    "start_time": "2021-08-16T21:57:08.693Z"
   },
   {
    "duration": 16,
    "start_time": "2021-08-16T21:57:08.705Z"
   },
   {
    "duration": 6,
    "start_time": "2021-08-16T21:57:08.725Z"
   },
   {
    "duration": 60,
    "start_time": "2021-08-16T21:57:08.734Z"
   },
   {
    "duration": 11,
    "start_time": "2021-08-16T21:57:08.796Z"
   },
   {
    "duration": 6,
    "start_time": "2021-08-16T21:57:08.810Z"
   },
   {
    "duration": 8,
    "start_time": "2021-08-16T21:57:08.818Z"
   },
   {
    "duration": 10,
    "start_time": "2021-08-16T21:57:08.829Z"
   },
   {
    "duration": 9,
    "start_time": "2021-08-16T21:57:08.841Z"
   },
   {
    "duration": 11,
    "start_time": "2021-08-16T21:57:08.887Z"
   },
   {
    "duration": 12,
    "start_time": "2021-08-16T21:57:08.900Z"
   },
   {
    "duration": 8,
    "start_time": "2021-08-16T21:57:08.915Z"
   },
   {
    "duration": 12,
    "start_time": "2021-08-16T21:57:08.926Z"
   },
   {
    "duration": 52,
    "start_time": "2021-08-16T21:57:08.940Z"
   },
   {
    "duration": 123896,
    "start_time": "2021-08-16T21:57:08.995Z"
   },
   {
    "duration": 8,
    "start_time": "2021-08-16T21:59:12.894Z"
   },
   {
    "duration": 19,
    "start_time": "2021-08-16T22:01:14.398Z"
   },
   {
    "duration": 542,
    "start_time": "2021-08-16T22:04:31.196Z"
   },
   {
    "duration": 48,
    "start_time": "2021-08-16T22:05:13.254Z"
   },
   {
    "duration": 49,
    "start_time": "2021-08-16T22:05:31.051Z"
   },
   {
    "duration": 42,
    "start_time": "2021-08-16T22:07:16.249Z"
   },
   {
    "duration": 51,
    "start_time": "2021-08-16T22:07:22.912Z"
   },
   {
    "duration": 56,
    "start_time": "2021-08-16T22:07:28.619Z"
   },
   {
    "duration": 48,
    "start_time": "2021-08-16T22:07:34.129Z"
   },
   {
    "duration": 61,
    "start_time": "2021-08-16T22:07:39.070Z"
   },
   {
    "duration": 70,
    "start_time": "2021-08-16T22:07:44.539Z"
   },
   {
    "duration": 59,
    "start_time": "2021-08-16T22:07:50.206Z"
   },
   {
    "duration": 55,
    "start_time": "2021-08-16T22:07:55.878Z"
   },
   {
    "duration": 65,
    "start_time": "2021-08-16T22:08:00.296Z"
   },
   {
    "duration": 46,
    "start_time": "2021-08-16T22:08:07.382Z"
   },
   {
    "duration": 54,
    "start_time": "2021-08-16T22:08:11.625Z"
   },
   {
    "duration": 54,
    "start_time": "2021-08-16T22:08:15.901Z"
   },
   {
    "duration": 49,
    "start_time": "2021-08-16T22:08:23.962Z"
   },
   {
    "duration": 53,
    "start_time": "2021-08-16T22:08:29.093Z"
   },
   {
    "duration": 72,
    "start_time": "2021-08-16T22:08:44.114Z"
   },
   {
    "duration": 61,
    "start_time": "2021-08-16T22:08:49.068Z"
   },
   {
    "duration": 1507,
    "start_time": "2021-08-16T22:10:34.172Z"
   },
   {
    "duration": 50,
    "start_time": "2021-08-16T22:10:35.682Z"
   },
   {
    "duration": 21,
    "start_time": "2021-08-16T22:10:35.735Z"
   },
   {
    "duration": 5,
    "start_time": "2021-08-16T22:10:35.759Z"
   },
   {
    "duration": 4,
    "start_time": "2021-08-16T22:10:35.786Z"
   },
   {
    "duration": 9,
    "start_time": "2021-08-16T22:10:35.792Z"
   },
   {
    "duration": 16,
    "start_time": "2021-08-16T22:10:35.803Z"
   },
   {
    "duration": 6,
    "start_time": "2021-08-16T22:10:35.822Z"
   },
   {
    "duration": 53,
    "start_time": "2021-08-16T22:10:35.832Z"
   },
   {
    "duration": 11,
    "start_time": "2021-08-16T22:10:35.888Z"
   },
   {
    "duration": 6,
    "start_time": "2021-08-16T22:10:35.901Z"
   },
   {
    "duration": 15,
    "start_time": "2021-08-16T22:10:35.910Z"
   },
   {
    "duration": 10,
    "start_time": "2021-08-16T22:10:35.927Z"
   },
   {
    "duration": 11,
    "start_time": "2021-08-16T22:10:35.939Z"
   },
   {
    "duration": 43,
    "start_time": "2021-08-16T22:10:35.953Z"
   },
   {
    "duration": 11,
    "start_time": "2021-08-16T22:10:35.998Z"
   },
   {
    "duration": 13,
    "start_time": "2021-08-16T22:10:36.012Z"
   },
   {
    "duration": 18,
    "start_time": "2021-08-16T22:10:36.028Z"
   },
   {
    "duration": 146,
    "start_time": "2021-08-16T22:10:36.049Z"
   },
   {
    "duration": 111035,
    "start_time": "2021-08-16T22:10:36.198Z"
   },
   {
    "duration": 9,
    "start_time": "2021-08-16T22:12:27.236Z"
   },
   {
    "duration": 68,
    "start_time": "2021-08-16T22:12:27.247Z"
   },
   {
    "duration": 6,
    "start_time": "2021-08-16T22:19:21.011Z"
   },
   {
    "duration": 6,
    "start_time": "2021-08-16T22:20:12.879Z"
   },
   {
    "duration": 6,
    "start_time": "2021-08-16T22:21:04.339Z"
   },
   {
    "duration": 7,
    "start_time": "2021-08-16T22:22:38.353Z"
   },
   {
    "duration": 25,
    "start_time": "2021-08-16T22:24:09.552Z"
   },
   {
    "duration": 7,
    "start_time": "2021-08-16T22:24:53.254Z"
   },
   {
    "duration": 1535,
    "start_time": "2021-08-16T22:25:00.029Z"
   },
   {
    "duration": 48,
    "start_time": "2021-08-16T22:25:01.567Z"
   },
   {
    "duration": 20,
    "start_time": "2021-08-16T22:25:01.618Z"
   },
   {
    "duration": 32,
    "start_time": "2021-08-16T22:25:01.641Z"
   },
   {
    "duration": 66,
    "start_time": "2021-08-16T22:25:01.675Z"
   },
   {
    "duration": 68,
    "start_time": "2021-08-16T22:25:01.743Z"
   },
   {
    "duration": 51,
    "start_time": "2021-08-16T22:25:01.813Z"
   },
   {
    "duration": 66,
    "start_time": "2021-08-16T22:25:01.867Z"
   },
   {
    "duration": 32,
    "start_time": "2021-08-16T22:25:01.936Z"
   },
   {
    "duration": 51,
    "start_time": "2021-08-16T22:25:01.970Z"
   },
   {
    "duration": 49,
    "start_time": "2021-08-16T22:25:02.023Z"
   },
   {
    "duration": 36,
    "start_time": "2021-08-16T22:25:02.074Z"
   },
   {
    "duration": 35,
    "start_time": "2021-08-16T22:25:02.112Z"
   },
   {
    "duration": 44,
    "start_time": "2021-08-16T22:25:02.150Z"
   },
   {
    "duration": 36,
    "start_time": "2021-08-16T22:25:02.197Z"
   },
   {
    "duration": 34,
    "start_time": "2021-08-16T22:25:02.235Z"
   },
   {
    "duration": 136,
    "start_time": "2021-08-16T22:25:02.272Z"
   },
   {
    "duration": 45,
    "start_time": "2021-08-16T22:25:02.411Z"
   },
   {
    "duration": 56,
    "start_time": "2021-08-16T22:25:02.459Z"
   },
   {
    "duration": 129090,
    "start_time": "2021-08-16T22:25:02.517Z"
   },
   {
    "duration": 9,
    "start_time": "2021-08-16T22:27:11.610Z"
   },
   {
    "duration": 34,
    "start_time": "2021-08-16T22:27:11.622Z"
   },
   {
    "duration": 28,
    "start_time": "2021-08-16T22:27:11.660Z"
   },
   {
    "duration": 10,
    "start_time": "2021-08-16T22:27:11.691Z"
   },
   {
    "duration": 13,
    "start_time": "2021-08-16T22:27:11.704Z"
   },
   {
    "duration": 25,
    "start_time": "2021-08-16T22:27:11.719Z"
   },
   {
    "duration": 1369,
    "start_time": "2021-08-16T22:27:44.496Z"
   },
   {
    "duration": 47,
    "start_time": "2021-08-16T22:27:45.867Z"
   },
   {
    "duration": 20,
    "start_time": "2021-08-16T22:27:45.917Z"
   },
   {
    "duration": 6,
    "start_time": "2021-08-16T22:27:45.940Z"
   },
   {
    "duration": 36,
    "start_time": "2021-08-16T22:27:45.949Z"
   },
   {
    "duration": 10,
    "start_time": "2021-08-16T22:27:45.988Z"
   },
   {
    "duration": 16,
    "start_time": "2021-08-16T22:27:46.000Z"
   },
   {
    "duration": 5,
    "start_time": "2021-08-16T22:27:46.021Z"
   },
   {
    "duration": 25,
    "start_time": "2021-08-16T22:27:46.029Z"
   },
   {
    "duration": 37,
    "start_time": "2021-08-16T22:27:46.056Z"
   },
   {
    "duration": 9,
    "start_time": "2021-08-16T22:27:46.095Z"
   },
   {
    "duration": 17,
    "start_time": "2021-08-16T22:27:46.107Z"
   },
   {
    "duration": 13,
    "start_time": "2021-08-16T22:27:46.126Z"
   },
   {
    "duration": 9,
    "start_time": "2021-08-16T22:27:46.141Z"
   },
   {
    "duration": 36,
    "start_time": "2021-08-16T22:27:46.153Z"
   },
   {
    "duration": 17,
    "start_time": "2021-08-16T22:27:46.191Z"
   },
   {
    "duration": 9,
    "start_time": "2021-08-16T22:27:46.210Z"
   },
   {
    "duration": 20,
    "start_time": "2021-08-16T22:27:46.221Z"
   },
   {
    "duration": 23,
    "start_time": "2021-08-16T22:27:46.243Z"
   },
   {
    "duration": 122838,
    "start_time": "2021-08-16T22:27:46.286Z"
   },
   {
    "duration": 8,
    "start_time": "2021-08-16T22:29:49.127Z"
   },
   {
    "duration": 35,
    "start_time": "2021-08-16T22:29:49.138Z"
   },
   {
    "duration": 7,
    "start_time": "2021-08-16T22:29:49.185Z"
   },
   {
    "duration": 7,
    "start_time": "2021-08-16T22:29:49.195Z"
   },
   {
    "duration": 16,
    "start_time": "2021-08-16T22:29:49.205Z"
   },
   {
    "duration": 25,
    "start_time": "2021-08-16T22:29:49.223Z"
   },
   {
    "duration": 1381,
    "start_time": "2021-08-16T22:30:26.896Z"
   },
   {
    "duration": 50,
    "start_time": "2021-08-16T22:30:28.280Z"
   },
   {
    "duration": 23,
    "start_time": "2021-08-16T22:30:28.334Z"
   },
   {
    "duration": 28,
    "start_time": "2021-08-16T22:30:28.361Z"
   },
   {
    "duration": 10,
    "start_time": "2021-08-16T22:30:28.392Z"
   },
   {
    "duration": 12,
    "start_time": "2021-08-16T22:30:28.404Z"
   },
   {
    "duration": 17,
    "start_time": "2021-08-16T22:30:28.419Z"
   },
   {
    "duration": 6,
    "start_time": "2021-08-16T22:30:28.440Z"
   },
   {
    "duration": 50,
    "start_time": "2021-08-16T22:30:28.449Z"
   },
   {
    "duration": 11,
    "start_time": "2021-08-16T22:30:28.502Z"
   },
   {
    "duration": 8,
    "start_time": "2021-08-16T22:30:28.516Z"
   },
   {
    "duration": 9,
    "start_time": "2021-08-16T22:30:28.527Z"
   },
   {
    "duration": 11,
    "start_time": "2021-08-16T22:30:28.538Z"
   },
   {
    "duration": 35,
    "start_time": "2021-08-16T22:30:28.552Z"
   },
   {
    "duration": 14,
    "start_time": "2021-08-16T22:30:28.589Z"
   },
   {
    "duration": 14,
    "start_time": "2021-08-16T22:30:28.605Z"
   },
   {
    "duration": 6,
    "start_time": "2021-08-16T22:30:28.621Z"
   },
   {
    "duration": 11,
    "start_time": "2021-08-16T22:30:28.630Z"
   },
   {
    "duration": 47,
    "start_time": "2021-08-16T22:30:28.643Z"
   },
   {
    "duration": 120698,
    "start_time": "2021-08-16T22:30:28.693Z"
   },
   {
    "duration": 7,
    "start_time": "2021-08-16T22:32:29.394Z"
   },
   {
    "duration": 24,
    "start_time": "2021-08-16T22:32:29.403Z"
   },
   {
    "duration": 6,
    "start_time": "2021-08-16T22:32:29.431Z"
   },
   {
    "duration": 50,
    "start_time": "2021-08-16T22:32:29.439Z"
   },
   {
    "duration": 11,
    "start_time": "2021-08-16T22:32:29.491Z"
   },
   {
    "duration": 17,
    "start_time": "2021-08-16T22:32:29.504Z"
   },
   {
    "duration": 1448,
    "start_time": "2021-08-16T22:33:35.921Z"
   },
   {
    "duration": 49,
    "start_time": "2021-08-16T22:33:37.371Z"
   },
   {
    "duration": 21,
    "start_time": "2021-08-16T22:33:37.423Z"
   },
   {
    "duration": 6,
    "start_time": "2021-08-16T22:33:37.446Z"
   },
   {
    "duration": 32,
    "start_time": "2021-08-16T22:33:37.454Z"
   },
   {
    "duration": 13,
    "start_time": "2021-08-16T22:33:37.488Z"
   },
   {
    "duration": 20,
    "start_time": "2021-08-16T22:33:37.504Z"
   },
   {
    "duration": 5,
    "start_time": "2021-08-16T22:33:37.528Z"
   },
   {
    "duration": 23,
    "start_time": "2021-08-16T22:33:37.536Z"
   },
   {
    "duration": 26,
    "start_time": "2021-08-16T22:33:37.561Z"
   },
   {
    "duration": 6,
    "start_time": "2021-08-16T22:33:37.590Z"
   },
   {
    "duration": 8,
    "start_time": "2021-08-16T22:33:37.598Z"
   },
   {
    "duration": 14,
    "start_time": "2021-08-16T22:33:37.608Z"
   },
   {
    "duration": 7,
    "start_time": "2021-08-16T22:33:37.625Z"
   },
   {
    "duration": 13,
    "start_time": "2021-08-16T22:33:37.635Z"
   },
   {
    "duration": 43,
    "start_time": "2021-08-16T22:33:37.650Z"
   },
   {
    "duration": 5,
    "start_time": "2021-08-16T22:33:37.696Z"
   },
   {
    "duration": 12,
    "start_time": "2021-08-16T22:33:37.704Z"
   },
   {
    "duration": 9,
    "start_time": "2021-08-16T22:33:37.719Z"
   },
   {
    "duration": 122951,
    "start_time": "2021-08-16T22:33:37.730Z"
   },
   {
    "duration": 8,
    "start_time": "2021-08-16T22:35:40.684Z"
   },
   {
    "duration": 22,
    "start_time": "2021-08-16T22:35:40.695Z"
   },
   {
    "duration": 5,
    "start_time": "2021-08-16T22:35:40.721Z"
   },
   {
    "duration": 23,
    "start_time": "2021-08-16T22:35:40.729Z"
   },
   {
    "duration": 7,
    "start_time": "2021-08-16T22:35:40.786Z"
   },
   {
    "duration": 21,
    "start_time": "2021-08-16T22:35:40.796Z"
   },
   {
    "duration": 7,
    "start_time": "2021-08-16T22:36:54.420Z"
   },
   {
    "duration": 891,
    "start_time": "2021-08-16T22:37:19.815Z"
   },
   {
    "duration": 6,
    "start_time": "2021-08-16T22:39:01.557Z"
   },
   {
    "duration": 21,
    "start_time": "2021-08-16T22:39:02.725Z"
   },
   {
    "duration": 1381,
    "start_time": "2021-08-16T22:39:12.477Z"
   },
   {
    "duration": 55,
    "start_time": "2021-08-16T22:39:13.861Z"
   },
   {
    "duration": 22,
    "start_time": "2021-08-16T22:39:13.918Z"
   },
   {
    "duration": 6,
    "start_time": "2021-08-16T22:39:13.943Z"
   },
   {
    "duration": 34,
    "start_time": "2021-08-16T22:39:13.952Z"
   },
   {
    "duration": 7,
    "start_time": "2021-08-16T22:39:13.988Z"
   },
   {
    "duration": 15,
    "start_time": "2021-08-16T22:39:13.997Z"
   },
   {
    "duration": 5,
    "start_time": "2021-08-16T22:39:14.016Z"
   },
   {
    "duration": 63,
    "start_time": "2021-08-16T22:39:14.024Z"
   },
   {
    "duration": 11,
    "start_time": "2021-08-16T22:39:14.089Z"
   },
   {
    "duration": 6,
    "start_time": "2021-08-16T22:39:14.102Z"
   },
   {
    "duration": 7,
    "start_time": "2021-08-16T22:39:14.110Z"
   },
   {
    "duration": 10,
    "start_time": "2021-08-16T22:39:14.120Z"
   },
   {
    "duration": 14,
    "start_time": "2021-08-16T22:39:14.132Z"
   },
   {
    "duration": 44,
    "start_time": "2021-08-16T22:39:14.149Z"
   },
   {
    "duration": 11,
    "start_time": "2021-08-16T22:39:14.196Z"
   },
   {
    "duration": 5,
    "start_time": "2021-08-16T22:39:14.209Z"
   },
   {
    "duration": 9,
    "start_time": "2021-08-16T22:39:14.216Z"
   },
   {
    "duration": 15,
    "start_time": "2021-08-16T22:39:14.227Z"
   },
   {
    "duration": 154234,
    "start_time": "2021-08-16T22:39:14.287Z"
   },
   {
    "duration": 7,
    "start_time": "2021-08-16T22:41:48.523Z"
   },
   {
    "duration": 70,
    "start_time": "2021-08-16T22:41:48.534Z"
   },
   {
    "duration": 6,
    "start_time": "2021-08-16T22:41:48.610Z"
   },
   {
    "duration": 8,
    "start_time": "2021-08-16T22:41:48.620Z"
   },
   {
    "duration": 10,
    "start_time": "2021-08-16T22:41:48.631Z"
   },
   {
    "duration": 87,
    "start_time": "2021-08-16T22:41:48.644Z"
   },
   {
    "duration": 6,
    "start_time": "2021-08-16T22:43:12.855Z"
   },
   {
    "duration": 15,
    "start_time": "2021-08-16T22:43:28.719Z"
   },
   {
    "duration": 10,
    "start_time": "2021-08-16T22:43:29.620Z"
   },
   {
    "duration": 6,
    "start_time": "2021-08-16T22:43:30.194Z"
   },
   {
    "duration": 5,
    "start_time": "2021-08-16T22:43:30.769Z"
   },
   {
    "duration": 1408,
    "start_time": "2021-08-16T22:43:38.329Z"
   },
   {
    "duration": 52,
    "start_time": "2021-08-16T22:43:39.740Z"
   },
   {
    "duration": 24,
    "start_time": "2021-08-16T22:43:39.795Z"
   },
   {
    "duration": 14,
    "start_time": "2021-08-16T22:43:39.821Z"
   },
   {
    "duration": 48,
    "start_time": "2021-08-16T22:43:39.837Z"
   },
   {
    "duration": 44,
    "start_time": "2021-08-16T22:43:39.888Z"
   },
   {
    "duration": 32,
    "start_time": "2021-08-16T22:43:39.934Z"
   },
   {
    "duration": 11,
    "start_time": "2021-08-16T22:43:39.972Z"
   },
   {
    "duration": 53,
    "start_time": "2021-08-16T22:43:39.987Z"
   },
   {
    "duration": 25,
    "start_time": "2021-08-16T22:43:40.042Z"
   },
   {
    "duration": 12,
    "start_time": "2021-08-16T22:43:40.071Z"
   },
   {
    "duration": 19,
    "start_time": "2021-08-16T22:43:40.086Z"
   },
   {
    "duration": 35,
    "start_time": "2021-08-16T22:43:40.108Z"
   },
   {
    "duration": 25,
    "start_time": "2021-08-16T22:43:40.145Z"
   },
   {
    "duration": 43,
    "start_time": "2021-08-16T22:43:40.172Z"
   },
   {
    "duration": 30,
    "start_time": "2021-08-16T22:43:40.218Z"
   },
   {
    "duration": 18,
    "start_time": "2021-08-16T22:43:40.251Z"
   },
   {
    "duration": 16,
    "start_time": "2021-08-16T22:43:40.272Z"
   },
   {
    "duration": 33,
    "start_time": "2021-08-16T22:43:40.291Z"
   },
   {
    "duration": 142366,
    "start_time": "2021-08-16T22:43:40.327Z"
   },
   {
    "duration": 7,
    "start_time": "2021-08-16T22:46:02.696Z"
   },
   {
    "duration": 57,
    "start_time": "2021-08-16T22:46:02.706Z"
   },
   {
    "duration": 6,
    "start_time": "2021-08-16T22:46:02.788Z"
   },
   {
    "duration": 7,
    "start_time": "2021-08-16T22:46:02.797Z"
   },
   {
    "duration": 18,
    "start_time": "2021-08-16T22:46:02.807Z"
   },
   {
    "duration": 81,
    "start_time": "2021-08-16T22:46:02.828Z"
   },
   {
    "duration": 11,
    "start_time": "2021-08-16T22:47:00.308Z"
   },
   {
    "duration": 1488,
    "start_time": "2021-08-16T22:47:07.205Z"
   },
   {
    "duration": 51,
    "start_time": "2021-08-16T22:47:08.695Z"
   },
   {
    "duration": 22,
    "start_time": "2021-08-16T22:47:08.749Z"
   },
   {
    "duration": 6,
    "start_time": "2021-08-16T22:47:08.785Z"
   },
   {
    "duration": 8,
    "start_time": "2021-08-16T22:47:08.794Z"
   },
   {
    "duration": 10,
    "start_time": "2021-08-16T22:47:08.804Z"
   },
   {
    "duration": 22,
    "start_time": "2021-08-16T22:47:08.817Z"
   },
   {
    "duration": 11,
    "start_time": "2021-08-16T22:47:08.843Z"
   },
   {
    "duration": 42,
    "start_time": "2021-08-16T22:47:08.857Z"
   },
   {
    "duration": 11,
    "start_time": "2021-08-16T22:47:08.901Z"
   },
   {
    "duration": 7,
    "start_time": "2021-08-16T22:47:08.915Z"
   },
   {
    "duration": 13,
    "start_time": "2021-08-16T22:47:08.925Z"
   },
   {
    "duration": 10,
    "start_time": "2021-08-16T22:47:08.941Z"
   },
   {
    "duration": 40,
    "start_time": "2021-08-16T22:47:08.953Z"
   },
   {
    "duration": 15,
    "start_time": "2021-08-16T22:47:08.996Z"
   },
   {
    "duration": 13,
    "start_time": "2021-08-16T22:47:09.014Z"
   },
   {
    "duration": 10,
    "start_time": "2021-08-16T22:47:09.030Z"
   },
   {
    "duration": 43,
    "start_time": "2021-08-16T22:47:09.043Z"
   },
   {
    "duration": 12,
    "start_time": "2021-08-16T22:47:09.089Z"
   },
   {
    "duration": 124898,
    "start_time": "2021-08-16T22:47:09.104Z"
   },
   {
    "duration": 12,
    "start_time": "2021-08-16T22:49:14.005Z"
   },
   {
    "duration": 22,
    "start_time": "2021-08-16T22:49:14.020Z"
   },
   {
    "duration": 7,
    "start_time": "2021-08-16T22:49:14.046Z"
   },
   {
    "duration": 6,
    "start_time": "2021-08-16T22:49:14.087Z"
   },
   {
    "duration": 10,
    "start_time": "2021-08-16T22:49:14.095Z"
   },
   {
    "duration": 19,
    "start_time": "2021-08-16T22:49:14.107Z"
   },
   {
    "duration": 1435,
    "start_time": "2021-08-16T22:50:17.298Z"
   },
   {
    "duration": 50,
    "start_time": "2021-08-16T22:50:18.736Z"
   },
   {
    "duration": 21,
    "start_time": "2021-08-16T22:50:18.789Z"
   },
   {
    "duration": 6,
    "start_time": "2021-08-16T22:50:18.813Z"
   },
   {
    "duration": 17,
    "start_time": "2021-08-16T22:50:18.822Z"
   },
   {
    "duration": 18,
    "start_time": "2021-08-16T22:50:18.842Z"
   },
   {
    "duration": 30,
    "start_time": "2021-08-16T22:50:18.862Z"
   },
   {
    "duration": 9,
    "start_time": "2021-08-16T22:50:18.896Z"
   },
   {
    "duration": 35,
    "start_time": "2021-08-16T22:50:18.908Z"
   },
   {
    "duration": 15,
    "start_time": "2021-08-16T22:50:18.945Z"
   },
   {
    "duration": 19,
    "start_time": "2021-08-16T22:50:18.962Z"
   },
   {
    "duration": 23,
    "start_time": "2021-08-16T22:50:18.984Z"
   },
   {
    "duration": 22,
    "start_time": "2021-08-16T22:50:19.010Z"
   },
   {
    "duration": 26,
    "start_time": "2021-08-16T22:50:19.035Z"
   },
   {
    "duration": 29,
    "start_time": "2021-08-16T22:50:19.064Z"
   },
   {
    "duration": 16,
    "start_time": "2021-08-16T22:50:19.096Z"
   },
   {
    "duration": 16,
    "start_time": "2021-08-16T22:50:19.114Z"
   },
   {
    "duration": 27,
    "start_time": "2021-08-16T22:50:19.133Z"
   },
   {
    "duration": 11,
    "start_time": "2021-08-16T22:50:19.163Z"
   },
   {
    "duration": 111741,
    "start_time": "2021-08-16T22:50:19.184Z"
   },
   {
    "duration": 7,
    "start_time": "2021-08-16T22:52:10.927Z"
   },
   {
    "duration": 23,
    "start_time": "2021-08-16T22:52:10.937Z"
   },
   {
    "duration": 6,
    "start_time": "2021-08-16T22:52:10.964Z"
   },
   {
    "duration": 17,
    "start_time": "2021-08-16T22:52:10.972Z"
   },
   {
    "duration": 16,
    "start_time": "2021-08-16T22:52:10.991Z"
   },
   {
    "duration": 18,
    "start_time": "2021-08-16T22:52:11.009Z"
   },
   {
    "duration": 15,
    "start_time": "2021-08-16T22:52:49.283Z"
   },
   {
    "duration": 1451,
    "start_time": "2021-08-16T22:52:56.028Z"
   },
   {
    "duration": 50,
    "start_time": "2021-08-16T22:52:57.482Z"
   },
   {
    "duration": 22,
    "start_time": "2021-08-16T22:52:57.535Z"
   },
   {
    "duration": 6,
    "start_time": "2021-08-16T22:52:57.560Z"
   },
   {
    "duration": 4,
    "start_time": "2021-08-16T22:52:57.586Z"
   },
   {
    "duration": 14,
    "start_time": "2021-08-16T22:52:57.592Z"
   },
   {
    "duration": 16,
    "start_time": "2021-08-16T22:52:57.608Z"
   },
   {
    "duration": 6,
    "start_time": "2021-08-16T22:52:57.628Z"
   },
   {
    "duration": 53,
    "start_time": "2021-08-16T22:52:57.637Z"
   },
   {
    "duration": 11,
    "start_time": "2021-08-16T22:52:57.692Z"
   },
   {
    "duration": 7,
    "start_time": "2021-08-16T22:52:57.706Z"
   },
   {
    "duration": 8,
    "start_time": "2021-08-16T22:52:57.715Z"
   },
   {
    "duration": 11,
    "start_time": "2021-08-16T22:52:57.725Z"
   },
   {
    "duration": 50,
    "start_time": "2021-08-16T22:52:57.738Z"
   },
   {
    "duration": 11,
    "start_time": "2021-08-16T22:52:57.791Z"
   },
   {
    "duration": 10,
    "start_time": "2021-08-16T22:52:57.805Z"
   },
   {
    "duration": 9,
    "start_time": "2021-08-16T22:52:57.817Z"
   },
   {
    "duration": 23,
    "start_time": "2021-08-16T22:52:57.828Z"
   },
   {
    "duration": 36,
    "start_time": "2021-08-16T22:52:57.853Z"
   },
   {
    "duration": 117518,
    "start_time": "2021-08-16T22:52:57.892Z"
   },
   {
    "duration": 7,
    "start_time": "2021-08-16T22:54:55.412Z"
   },
   {
    "duration": 34,
    "start_time": "2021-08-16T22:54:55.421Z"
   },
   {
    "duration": 6,
    "start_time": "2021-08-16T22:54:55.459Z"
   },
   {
    "duration": 6,
    "start_time": "2021-08-16T22:54:55.487Z"
   },
   {
    "duration": 9,
    "start_time": "2021-08-16T22:54:55.496Z"
   },
   {
    "duration": 27,
    "start_time": "2021-08-16T22:54:55.507Z"
   },
   {
    "duration": 1517,
    "start_time": "2021-08-16T22:55:45.468Z"
   },
   {
    "duration": 50,
    "start_time": "2021-08-16T22:55:46.988Z"
   },
   {
    "duration": 21,
    "start_time": "2021-08-16T22:55:47.042Z"
   },
   {
    "duration": 21,
    "start_time": "2021-08-16T22:55:47.066Z"
   },
   {
    "duration": 6,
    "start_time": "2021-08-16T22:55:47.089Z"
   },
   {
    "duration": 16,
    "start_time": "2021-08-16T22:55:47.097Z"
   },
   {
    "duration": 17,
    "start_time": "2021-08-16T22:55:47.116Z"
   },
   {
    "duration": 7,
    "start_time": "2021-08-16T22:55:47.137Z"
   },
   {
    "duration": 48,
    "start_time": "2021-08-16T22:55:47.147Z"
   },
   {
    "duration": 10,
    "start_time": "2021-08-16T22:55:47.197Z"
   },
   {
    "duration": 16,
    "start_time": "2021-08-16T22:55:47.209Z"
   },
   {
    "duration": 10,
    "start_time": "2021-08-16T22:55:47.227Z"
   },
   {
    "duration": 12,
    "start_time": "2021-08-16T22:55:47.240Z"
   },
   {
    "duration": 16,
    "start_time": "2021-08-16T22:55:47.254Z"
   },
   {
    "duration": 12,
    "start_time": "2021-08-16T22:55:47.284Z"
   },
   {
    "duration": 19,
    "start_time": "2021-08-16T22:55:47.298Z"
   },
   {
    "duration": 15,
    "start_time": "2021-08-16T22:55:47.319Z"
   },
   {
    "duration": 14,
    "start_time": "2021-08-16T22:55:47.337Z"
   },
   {
    "duration": 11,
    "start_time": "2021-08-16T22:55:47.354Z"
   },
   {
    "duration": 128301,
    "start_time": "2021-08-16T22:55:47.386Z"
   },
   {
    "duration": 8,
    "start_time": "2021-08-16T22:57:55.690Z"
   },
   {
    "duration": 54,
    "start_time": "2021-08-16T22:57:55.700Z"
   },
   {
    "duration": 7,
    "start_time": "2021-08-16T22:57:55.786Z"
   },
   {
    "duration": 7,
    "start_time": "2021-08-16T22:57:55.795Z"
   },
   {
    "duration": 9,
    "start_time": "2021-08-16T22:57:55.805Z"
   },
   {
    "duration": 26,
    "start_time": "2021-08-16T22:57:55.817Z"
   },
   {
    "duration": 1461,
    "start_time": "2021-08-16T22:59:26.419Z"
   },
   {
    "duration": 51,
    "start_time": "2021-08-16T22:59:27.883Z"
   },
   {
    "duration": 23,
    "start_time": "2021-08-16T22:59:27.937Z"
   },
   {
    "duration": 22,
    "start_time": "2021-08-16T22:59:27.963Z"
   },
   {
    "duration": 4,
    "start_time": "2021-08-16T22:59:27.987Z"
   },
   {
    "duration": 13,
    "start_time": "2021-08-16T22:59:27.993Z"
   },
   {
    "duration": 33,
    "start_time": "2021-08-16T22:59:28.008Z"
   },
   {
    "duration": 6,
    "start_time": "2021-08-16T22:59:28.044Z"
   },
   {
    "duration": 44,
    "start_time": "2021-08-16T22:59:28.053Z"
   },
   {
    "duration": 11,
    "start_time": "2021-08-16T22:59:28.100Z"
   },
   {
    "duration": 25,
    "start_time": "2021-08-16T22:59:28.114Z"
   },
   {
    "duration": 12,
    "start_time": "2021-08-16T22:59:28.142Z"
   },
   {
    "duration": 23,
    "start_time": "2021-08-16T22:59:28.157Z"
   },
   {
    "duration": 15,
    "start_time": "2021-08-16T22:59:28.182Z"
   },
   {
    "duration": 31,
    "start_time": "2021-08-16T22:59:28.200Z"
   },
   {
    "duration": 23,
    "start_time": "2021-08-16T22:59:28.233Z"
   },
   {
    "duration": 8,
    "start_time": "2021-08-16T22:59:28.259Z"
   },
   {
    "duration": 9,
    "start_time": "2021-08-16T22:59:28.270Z"
   },
   {
    "duration": 9,
    "start_time": "2021-08-16T22:59:28.285Z"
   },
   {
    "duration": 166221,
    "start_time": "2021-08-16T22:59:28.297Z"
   },
   {
    "duration": 9,
    "start_time": "2021-08-16T23:02:14.521Z"
   },
   {
    "duration": 61,
    "start_time": "2021-08-16T23:02:14.533Z"
   },
   {
    "duration": 6,
    "start_time": "2021-08-16T23:02:14.600Z"
   },
   {
    "duration": 16,
    "start_time": "2021-08-16T23:02:14.609Z"
   },
   {
    "duration": 14,
    "start_time": "2021-08-16T23:02:14.628Z"
   },
   {
    "duration": 73,
    "start_time": "2021-08-16T23:02:14.645Z"
   },
   {
    "duration": 6,
    "start_time": "2021-08-16T23:03:37.814Z"
   },
   {
    "duration": 14,
    "start_time": "2021-08-16T23:03:39.089Z"
   },
   {
    "duration": 1350,
    "start_time": "2021-08-16T23:04:56.309Z"
   },
   {
    "duration": 48,
    "start_time": "2021-08-16T23:04:57.662Z"
   },
   {
    "duration": 20,
    "start_time": "2021-08-16T23:04:57.713Z"
   },
   {
    "duration": 6,
    "start_time": "2021-08-16T23:04:57.736Z"
   },
   {
    "duration": 5,
    "start_time": "2021-08-16T23:04:57.745Z"
   },
   {
    "duration": 36,
    "start_time": "2021-08-16T23:04:57.752Z"
   },
   {
    "duration": 18,
    "start_time": "2021-08-16T23:04:57.791Z"
   },
   {
    "duration": 6,
    "start_time": "2021-08-16T23:04:57.812Z"
   },
   {
    "duration": 26,
    "start_time": "2021-08-16T23:04:57.821Z"
   },
   {
    "duration": 42,
    "start_time": "2021-08-16T23:04:57.850Z"
   },
   {
    "duration": 23,
    "start_time": "2021-08-16T23:04:57.895Z"
   },
   {
    "duration": 7,
    "start_time": "2021-08-16T23:04:57.920Z"
   },
   {
    "duration": 8,
    "start_time": "2021-08-16T23:04:57.929Z"
   },
   {
    "duration": 9,
    "start_time": "2021-08-16T23:04:57.939Z"
   },
   {
    "duration": 39,
    "start_time": "2021-08-16T23:04:57.951Z"
   },
   {
    "duration": 26,
    "start_time": "2021-08-16T23:04:57.992Z"
   },
   {
    "duration": 18,
    "start_time": "2021-08-16T23:04:58.020Z"
   },
   {
    "duration": 9,
    "start_time": "2021-08-16T23:04:58.040Z"
   },
   {
    "duration": 16,
    "start_time": "2021-08-16T23:04:58.051Z"
   },
   {
    "duration": 23,
    "start_time": "2021-08-16T23:04:58.070Z"
   },
   {
    "duration": 147579,
    "start_time": "2021-08-16T23:04:58.096Z"
   },
   {
    "duration": 7,
    "start_time": "2021-08-16T23:07:25.678Z"
   },
   {
    "duration": 43,
    "start_time": "2021-08-16T23:07:25.691Z"
   },
   {
    "duration": 6,
    "start_time": "2021-08-16T23:07:25.737Z"
   },
   {
    "duration": 10,
    "start_time": "2021-08-16T23:07:25.746Z"
   },
   {
    "duration": 8,
    "start_time": "2021-08-16T23:07:25.787Z"
   },
   {
    "duration": 38,
    "start_time": "2021-08-16T23:07:25.799Z"
   },
   {
    "duration": 1458,
    "start_time": "2021-08-16T23:09:13.222Z"
   },
   {
    "duration": 50,
    "start_time": "2021-08-16T23:09:14.684Z"
   },
   {
    "duration": 22,
    "start_time": "2021-08-16T23:09:14.737Z"
   },
   {
    "duration": 6,
    "start_time": "2021-08-16T23:09:14.761Z"
   },
   {
    "duration": 4,
    "start_time": "2021-08-16T23:09:14.785Z"
   },
   {
    "duration": 14,
    "start_time": "2021-08-16T23:09:14.791Z"
   },
   {
    "duration": 15,
    "start_time": "2021-08-16T23:09:14.807Z"
   },
   {
    "duration": 6,
    "start_time": "2021-08-16T23:09:14.826Z"
   },
   {
    "duration": 54,
    "start_time": "2021-08-16T23:09:14.835Z"
   },
   {
    "duration": 12,
    "start_time": "2021-08-16T23:09:14.892Z"
   },
   {
    "duration": 28,
    "start_time": "2021-08-16T23:09:14.907Z"
   },
   {
    "duration": 6,
    "start_time": "2021-08-16T23:09:14.938Z"
   },
   {
    "duration": 40,
    "start_time": "2021-08-16T23:09:14.947Z"
   },
   {
    "duration": 15,
    "start_time": "2021-08-16T23:09:14.990Z"
   },
   {
    "duration": 23,
    "start_time": "2021-08-16T23:09:15.008Z"
   },
   {
    "duration": 16,
    "start_time": "2021-08-16T23:09:15.034Z"
   },
   {
    "duration": 18,
    "start_time": "2021-08-16T23:09:15.052Z"
   },
   {
    "duration": 17,
    "start_time": "2021-08-16T23:09:15.072Z"
   },
   {
    "duration": 9,
    "start_time": "2021-08-16T23:09:15.091Z"
   },
   {
    "duration": 13,
    "start_time": "2021-08-16T23:09:15.102Z"
   },
   {
    "duration": 144093,
    "start_time": "2021-08-16T23:09:15.119Z"
   },
   {
    "duration": 7,
    "start_time": "2021-08-16T23:11:39.214Z"
   },
   {
    "duration": 60,
    "start_time": "2021-08-16T23:11:39.226Z"
   },
   {
    "duration": 6,
    "start_time": "2021-08-16T23:11:39.289Z"
   },
   {
    "duration": 11,
    "start_time": "2021-08-16T23:11:39.297Z"
   },
   {
    "duration": 10,
    "start_time": "2021-08-16T23:11:39.311Z"
   },
   {
    "duration": 70,
    "start_time": "2021-08-16T23:11:39.323Z"
   },
   {
    "duration": 16,
    "start_time": "2021-08-16T23:12:47.715Z"
   },
   {
    "duration": 9,
    "start_time": "2021-08-16T23:12:48.779Z"
   },
   {
    "duration": 21,
    "start_time": "2021-08-16T23:12:50.352Z"
   },
   {
    "duration": 7,
    "start_time": "2021-08-16T23:13:03.007Z"
   },
   {
    "duration": 6,
    "start_time": "2021-08-16T23:13:04.255Z"
   },
   {
    "duration": 10,
    "start_time": "2021-08-16T23:13:05.261Z"
   },
   {
    "duration": 7,
    "start_time": "2021-08-16T23:13:06.007Z"
   },
   {
    "duration": 12,
    "start_time": "2021-08-16T23:13:07.918Z"
   },
   {
    "duration": 11,
    "start_time": "2021-08-16T23:13:09.877Z"
   },
   {
    "duration": 6,
    "start_time": "2021-08-16T23:13:11.669Z"
   },
   {
    "duration": 7,
    "start_time": "2021-08-16T23:13:13.798Z"
   },
   {
    "duration": 9,
    "start_time": "2021-08-16T23:13:16.669Z"
   },
   {
    "duration": 143110,
    "start_time": "2021-08-16T23:13:43.193Z"
   },
   {
    "duration": 11,
    "start_time": "2021-08-16T23:16:42.266Z"
   },
   {
    "duration": 10,
    "start_time": "2021-08-16T23:16:42.918Z"
   },
   {
    "duration": 22,
    "start_time": "2021-08-16T23:16:43.832Z"
   },
   {
    "duration": 1508,
    "start_time": "2021-08-16T23:16:58.689Z"
   },
   {
    "duration": 54,
    "start_time": "2021-08-16T23:17:00.200Z"
   },
   {
    "duration": 37,
    "start_time": "2021-08-16T23:17:00.258Z"
   },
   {
    "duration": 7,
    "start_time": "2021-08-16T23:17:00.299Z"
   },
   {
    "duration": 18,
    "start_time": "2021-08-16T23:17:00.310Z"
   },
   {
    "duration": 20,
    "start_time": "2021-08-16T23:17:00.330Z"
   },
   {
    "duration": 39,
    "start_time": "2021-08-16T23:17:00.353Z"
   },
   {
    "duration": 12,
    "start_time": "2021-08-16T23:17:00.397Z"
   },
   {
    "duration": 29,
    "start_time": "2021-08-16T23:17:00.413Z"
   },
   {
    "duration": 13,
    "start_time": "2021-08-16T23:17:00.445Z"
   },
   {
    "duration": 31,
    "start_time": "2021-08-16T23:17:00.460Z"
   },
   {
    "duration": 27,
    "start_time": "2021-08-16T23:17:00.494Z"
   },
   {
    "duration": 28,
    "start_time": "2021-08-16T23:17:00.524Z"
   },
   {
    "duration": 35,
    "start_time": "2021-08-16T23:17:00.554Z"
   },
   {
    "duration": 12,
    "start_time": "2021-08-16T23:17:00.592Z"
   },
   {
    "duration": 18,
    "start_time": "2021-08-16T23:17:00.607Z"
   },
   {
    "duration": 19,
    "start_time": "2021-08-16T23:17:00.627Z"
   },
   {
    "duration": 16,
    "start_time": "2021-08-16T23:17:00.649Z"
   },
   {
    "duration": 28,
    "start_time": "2021-08-16T23:17:00.668Z"
   },
   {
    "duration": 17,
    "start_time": "2021-08-16T23:17:00.699Z"
   },
   {
    "duration": 110576,
    "start_time": "2021-08-16T23:17:00.718Z"
   },
   {
    "duration": 12,
    "start_time": "2021-08-16T23:18:51.297Z"
   },
   {
    "duration": 17,
    "start_time": "2021-08-16T23:18:51.313Z"
   },
   {
    "duration": 5,
    "start_time": "2021-08-16T23:18:51.333Z"
   },
   {
    "duration": 45,
    "start_time": "2021-08-16T23:18:51.340Z"
   },
   {
    "duration": 7,
    "start_time": "2021-08-16T23:18:51.388Z"
   },
   {
    "duration": 16,
    "start_time": "2021-08-16T23:18:51.398Z"
   },
   {
    "duration": 1432,
    "start_time": "2021-08-16T23:20:17.595Z"
   },
   {
    "duration": 49,
    "start_time": "2021-08-16T23:20:19.030Z"
   },
   {
    "duration": 22,
    "start_time": "2021-08-16T23:20:19.082Z"
   },
   {
    "duration": 6,
    "start_time": "2021-08-16T23:20:19.107Z"
   },
   {
    "duration": 7,
    "start_time": "2021-08-16T23:20:19.115Z"
   },
   {
    "duration": 13,
    "start_time": "2021-08-16T23:20:19.124Z"
   },
   {
    "duration": 46,
    "start_time": "2021-08-16T23:20:19.139Z"
   },
   {
    "duration": 6,
    "start_time": "2021-08-16T23:20:19.189Z"
   },
   {
    "duration": 25,
    "start_time": "2021-08-16T23:20:19.198Z"
   },
   {
    "duration": 10,
    "start_time": "2021-08-16T23:20:19.226Z"
   },
   {
    "duration": 48,
    "start_time": "2021-08-16T23:20:19.238Z"
   },
   {
    "duration": 8,
    "start_time": "2021-08-16T23:20:19.289Z"
   },
   {
    "duration": 10,
    "start_time": "2021-08-16T23:20:19.299Z"
   },
   {
    "duration": 14,
    "start_time": "2021-08-16T23:20:19.311Z"
   },
   {
    "duration": 15,
    "start_time": "2021-08-16T23:20:19.327Z"
   },
   {
    "duration": 12,
    "start_time": "2021-08-16T23:20:19.344Z"
   },
   {
    "duration": 34,
    "start_time": "2021-08-16T23:20:19.359Z"
   },
   {
    "duration": 6,
    "start_time": "2021-08-16T23:20:19.396Z"
   },
   {
    "duration": 12,
    "start_time": "2021-08-16T23:20:19.404Z"
   },
   {
    "duration": 18,
    "start_time": "2021-08-16T23:20:19.418Z"
   },
   {
    "duration": 129512,
    "start_time": "2021-08-16T23:20:19.484Z"
   },
   {
    "duration": 16,
    "start_time": "2021-08-16T23:22:28.999Z"
   },
   {
    "duration": 76,
    "start_time": "2021-08-16T23:22:29.021Z"
   },
   {
    "duration": 6,
    "start_time": "2021-08-16T23:22:29.100Z"
   },
   {
    "duration": 7,
    "start_time": "2021-08-16T23:22:29.109Z"
   },
   {
    "duration": 8,
    "start_time": "2021-08-16T23:22:29.119Z"
   },
   {
    "duration": 71,
    "start_time": "2021-08-16T23:22:29.129Z"
   },
   {
    "duration": 1401,
    "start_time": "2021-08-16T23:24:40.256Z"
   },
   {
    "duration": 51,
    "start_time": "2021-08-16T23:24:41.660Z"
   },
   {
    "duration": 22,
    "start_time": "2021-08-16T23:24:41.715Z"
   },
   {
    "duration": 6,
    "start_time": "2021-08-16T23:24:41.741Z"
   },
   {
    "duration": 37,
    "start_time": "2021-08-16T23:24:41.751Z"
   },
   {
    "duration": 9,
    "start_time": "2021-08-16T23:24:41.791Z"
   },
   {
    "duration": 18,
    "start_time": "2021-08-16T23:24:41.803Z"
   },
   {
    "duration": 7,
    "start_time": "2021-08-16T23:24:41.825Z"
   },
   {
    "duration": 62,
    "start_time": "2021-08-16T23:24:41.836Z"
   },
   {
    "duration": 13,
    "start_time": "2021-08-16T23:24:41.901Z"
   },
   {
    "duration": 23,
    "start_time": "2021-08-16T23:24:41.917Z"
   },
   {
    "duration": 42,
    "start_time": "2021-08-16T23:24:41.943Z"
   },
   {
    "duration": 7,
    "start_time": "2021-08-16T23:24:41.988Z"
   },
   {
    "duration": 12,
    "start_time": "2021-08-16T23:24:41.998Z"
   },
   {
    "duration": 11,
    "start_time": "2021-08-16T23:24:42.013Z"
   },
   {
    "duration": 15,
    "start_time": "2021-08-16T23:24:42.027Z"
   },
   {
    "duration": 52,
    "start_time": "2021-08-16T23:24:42.045Z"
   },
   {
    "duration": 7,
    "start_time": "2021-08-16T23:24:42.100Z"
   },
   {
    "duration": 11,
    "start_time": "2021-08-16T23:24:42.109Z"
   },
   {
    "duration": 63,
    "start_time": "2021-08-16T23:24:42.123Z"
   },
   {
    "duration": 121078,
    "start_time": "2021-08-16T23:24:42.189Z"
   },
   {
    "duration": 8,
    "start_time": "2021-08-16T23:26:43.269Z"
   },
   {
    "duration": 42,
    "start_time": "2021-08-16T23:26:43.281Z"
   },
   {
    "duration": 6,
    "start_time": "2021-08-16T23:26:43.326Z"
   },
   {
    "duration": 20,
    "start_time": "2021-08-16T23:26:43.335Z"
   },
   {
    "duration": 26,
    "start_time": "2021-08-16T23:26:43.358Z"
   },
   {
    "duration": 30,
    "start_time": "2021-08-16T23:26:43.387Z"
   },
   {
    "duration": 1740,
    "start_time": "2021-08-16T23:27:28.987Z"
   },
   {
    "duration": 70,
    "start_time": "2021-08-16T23:27:30.732Z"
   },
   {
    "duration": 33,
    "start_time": "2021-08-16T23:27:30.807Z"
   },
   {
    "duration": 8,
    "start_time": "2021-08-16T23:27:30.844Z"
   },
   {
    "duration": 20,
    "start_time": "2021-08-16T23:27:30.887Z"
   },
   {
    "duration": 46,
    "start_time": "2021-08-16T23:27:30.911Z"
   },
   {
    "duration": 32,
    "start_time": "2021-08-16T23:27:30.960Z"
   },
   {
    "duration": 13,
    "start_time": "2021-08-16T23:27:31.004Z"
   },
   {
    "duration": 53,
    "start_time": "2021-08-16T23:27:31.028Z"
   },
   {
    "duration": 15,
    "start_time": "2021-08-16T23:27:31.084Z"
   },
   {
    "duration": 51,
    "start_time": "2021-08-16T23:27:31.104Z"
   },
   {
    "duration": 9,
    "start_time": "2021-08-16T23:27:31.158Z"
   },
   {
    "duration": 30,
    "start_time": "2021-08-16T23:27:31.170Z"
   },
   {
    "duration": 21,
    "start_time": "2021-08-16T23:27:31.203Z"
   },
   {
    "duration": 21,
    "start_time": "2021-08-16T23:27:31.228Z"
   },
   {
    "duration": 27,
    "start_time": "2021-08-16T23:27:31.251Z"
   },
   {
    "duration": 18,
    "start_time": "2021-08-16T23:27:31.285Z"
   },
   {
    "duration": 19,
    "start_time": "2021-08-16T23:27:31.307Z"
   },
   {
    "duration": 22,
    "start_time": "2021-08-16T23:27:31.330Z"
   },
   {
    "duration": 65,
    "start_time": "2021-08-16T23:27:31.357Z"
   },
   {
    "duration": 150486,
    "start_time": "2021-08-16T23:27:31.426Z"
   },
   {
    "duration": 8,
    "start_time": "2021-08-16T23:30:01.915Z"
   },
   {
    "duration": 69,
    "start_time": "2021-08-16T23:30:01.927Z"
   },
   {
    "duration": 6,
    "start_time": "2021-08-16T23:30:01.999Z"
   },
   {
    "duration": 23,
    "start_time": "2021-08-16T23:30:02.007Z"
   },
   {
    "duration": 19,
    "start_time": "2021-08-16T23:30:02.033Z"
   },
   {
    "duration": 85,
    "start_time": "2021-08-16T23:30:02.054Z"
   },
   {
    "duration": 51,
    "start_time": "2021-08-16T23:30:26.012Z"
   },
   {
    "duration": 44,
    "start_time": "2021-08-16T23:30:33.572Z"
   },
   {
    "duration": 47,
    "start_time": "2021-08-16T23:30:43.705Z"
   },
   {
    "duration": 41,
    "start_time": "2021-08-16T23:30:51.267Z"
   },
   {
    "duration": 52,
    "start_time": "2021-08-16T23:31:00.290Z"
   },
   {
    "duration": 52,
    "start_time": "2021-08-16T23:31:10.651Z"
   },
   {
    "duration": 51,
    "start_time": "2021-08-16T23:31:16.783Z"
   },
   {
    "duration": 59,
    "start_time": "2021-08-16T23:31:22.734Z"
   },
   {
    "duration": 61,
    "start_time": "2021-08-16T23:31:29.086Z"
   },
   {
    "duration": 49,
    "start_time": "2021-08-16T23:31:34.478Z"
   },
   {
    "duration": 55,
    "start_time": "2021-08-16T23:31:39.409Z"
   },
   {
    "duration": 47,
    "start_time": "2021-08-16T23:31:45.455Z"
   },
   {
    "duration": 48,
    "start_time": "2021-08-16T23:31:50.169Z"
   },
   {
    "duration": 50,
    "start_time": "2021-08-16T23:31:54.996Z"
   },
   {
    "duration": 1359,
    "start_time": "2021-08-16T23:32:31.316Z"
   },
   {
    "duration": 50,
    "start_time": "2021-08-16T23:32:32.678Z"
   },
   {
    "duration": 20,
    "start_time": "2021-08-16T23:32:32.731Z"
   },
   {
    "duration": 9,
    "start_time": "2021-08-16T23:32:32.754Z"
   },
   {
    "duration": 21,
    "start_time": "2021-08-16T23:32:32.766Z"
   },
   {
    "duration": 16,
    "start_time": "2021-08-16T23:32:32.789Z"
   },
   {
    "duration": 25,
    "start_time": "2021-08-16T23:32:32.807Z"
   },
   {
    "duration": 11,
    "start_time": "2021-08-16T23:32:32.835Z"
   },
   {
    "duration": 39,
    "start_time": "2021-08-16T23:32:32.849Z"
   },
   {
    "duration": 11,
    "start_time": "2021-08-16T23:32:32.890Z"
   },
   {
    "duration": 30,
    "start_time": "2021-08-16T23:32:32.903Z"
   },
   {
    "duration": 13,
    "start_time": "2021-08-16T23:32:32.935Z"
   },
   {
    "duration": 23,
    "start_time": "2021-08-16T23:32:32.950Z"
   },
   {
    "duration": 31,
    "start_time": "2021-08-16T23:32:32.976Z"
   },
   {
    "duration": 26,
    "start_time": "2021-08-16T23:32:33.010Z"
   },
   {
    "duration": 19,
    "start_time": "2021-08-16T23:32:33.039Z"
   },
   {
    "duration": 27,
    "start_time": "2021-08-16T23:32:33.061Z"
   },
   {
    "duration": 25,
    "start_time": "2021-08-16T23:32:33.091Z"
   },
   {
    "duration": 32,
    "start_time": "2021-08-16T23:32:33.118Z"
   },
   {
    "duration": 33,
    "start_time": "2021-08-16T23:32:33.153Z"
   },
   {
    "duration": 148669,
    "start_time": "2021-08-16T23:32:33.189Z"
   },
   {
    "duration": 8,
    "start_time": "2021-08-16T23:35:01.860Z"
   },
   {
    "duration": 74,
    "start_time": "2021-08-16T23:35:01.872Z"
   },
   {
    "duration": 6,
    "start_time": "2021-08-16T23:35:01.948Z"
   },
   {
    "duration": 18,
    "start_time": "2021-08-16T23:35:01.956Z"
   },
   {
    "duration": 14,
    "start_time": "2021-08-16T23:35:01.977Z"
   },
   {
    "duration": 47,
    "start_time": "2021-08-16T23:35:01.994Z"
   },
   {
    "duration": 16,
    "start_time": "2021-08-16T23:35:48.169Z"
   },
   {
    "duration": 14,
    "start_time": "2021-08-16T23:35:49.195Z"
   },
   {
    "duration": 25,
    "start_time": "2021-08-16T23:35:50.057Z"
   },
   {
    "duration": 1416,
    "start_time": "2021-08-16T23:36:15.547Z"
   },
   {
    "duration": 46,
    "start_time": "2021-08-16T23:36:16.966Z"
   },
   {
    "duration": 20,
    "start_time": "2021-08-16T23:36:17.015Z"
   },
   {
    "duration": 6,
    "start_time": "2021-08-16T23:36:17.037Z"
   },
   {
    "duration": 5,
    "start_time": "2021-08-16T23:36:17.045Z"
   },
   {
    "duration": 34,
    "start_time": "2021-08-16T23:36:17.052Z"
   },
   {
    "duration": 12,
    "start_time": "2021-08-16T23:36:17.089Z"
   },
   {
    "duration": 5,
    "start_time": "2021-08-16T23:36:17.105Z"
   },
   {
    "duration": 26,
    "start_time": "2021-08-16T23:36:17.113Z"
   },
   {
    "duration": 46,
    "start_time": "2021-08-16T23:36:17.142Z"
   },
   {
    "duration": 26,
    "start_time": "2021-08-16T23:36:17.191Z"
   },
   {
    "duration": 6,
    "start_time": "2021-08-16T23:36:17.220Z"
   },
   {
    "duration": 7,
    "start_time": "2021-08-16T23:36:17.229Z"
   },
   {
    "duration": 10,
    "start_time": "2021-08-16T23:36:17.238Z"
   },
   {
    "duration": 39,
    "start_time": "2021-08-16T23:36:17.250Z"
   },
   {
    "duration": 18,
    "start_time": "2021-08-16T23:36:17.292Z"
   },
   {
    "duration": 11,
    "start_time": "2021-08-16T23:36:17.313Z"
   },
   {
    "duration": 9,
    "start_time": "2021-08-16T23:36:17.326Z"
   },
   {
    "duration": 7,
    "start_time": "2021-08-16T23:36:17.338Z"
   },
   {
    "duration": 44,
    "start_time": "2021-08-16T23:36:17.348Z"
   },
   {
    "duration": 149963,
    "start_time": "2021-08-16T23:36:17.395Z"
   },
   {
    "duration": 7,
    "start_time": "2021-08-16T23:38:47.361Z"
   },
   {
    "duration": 49,
    "start_time": "2021-08-16T23:38:47.372Z"
   },
   {
    "duration": 6,
    "start_time": "2021-08-16T23:38:47.424Z"
   },
   {
    "duration": 9,
    "start_time": "2021-08-16T23:38:47.432Z"
   },
   {
    "duration": 10,
    "start_time": "2021-08-16T23:38:47.444Z"
   },
   {
    "duration": 70,
    "start_time": "2021-08-16T23:38:47.456Z"
   },
   {
    "duration": 1375,
    "start_time": "2021-08-16T23:40:58.079Z"
   },
   {
    "duration": 47,
    "start_time": "2021-08-16T23:40:59.457Z"
   },
   {
    "duration": 19,
    "start_time": "2021-08-16T23:40:59.507Z"
   },
   {
    "duration": 5,
    "start_time": "2021-08-16T23:40:59.529Z"
   },
   {
    "duration": 6,
    "start_time": "2021-08-16T23:40:59.536Z"
   },
   {
    "duration": 8,
    "start_time": "2021-08-16T23:40:59.544Z"
   },
   {
    "duration": 42,
    "start_time": "2021-08-16T23:40:59.554Z"
   },
   {
    "duration": 5,
    "start_time": "2021-08-16T23:40:59.600Z"
   },
   {
    "duration": 22,
    "start_time": "2021-08-16T23:40:59.608Z"
   },
   {
    "duration": 9,
    "start_time": "2021-08-16T23:40:59.633Z"
   },
   {
    "duration": 52,
    "start_time": "2021-08-16T23:40:59.645Z"
   },
   {
    "duration": 8,
    "start_time": "2021-08-16T23:40:59.700Z"
   },
   {
    "duration": 7,
    "start_time": "2021-08-16T23:40:59.710Z"
   },
   {
    "duration": 9,
    "start_time": "2021-08-16T23:40:59.720Z"
   },
   {
    "duration": 13,
    "start_time": "2021-08-16T23:40:59.731Z"
   },
   {
    "duration": 45,
    "start_time": "2021-08-16T23:40:59.747Z"
   },
   {
    "duration": 10,
    "start_time": "2021-08-16T23:40:59.795Z"
   },
   {
    "duration": 5,
    "start_time": "2021-08-16T23:40:59.808Z"
   },
   {
    "duration": 9,
    "start_time": "2021-08-16T23:40:59.816Z"
   },
   {
    "duration": 11,
    "start_time": "2021-08-16T23:40:59.827Z"
   },
   {
    "duration": 117086,
    "start_time": "2021-08-16T23:40:59.886Z"
   },
   {
    "duration": 9,
    "start_time": "2021-08-16T23:42:56.976Z"
   },
   {
    "duration": 28,
    "start_time": "2021-08-16T23:42:56.989Z"
   },
   {
    "duration": 6,
    "start_time": "2021-08-16T23:42:57.019Z"
   },
   {
    "duration": 14,
    "start_time": "2021-08-16T23:42:57.027Z"
   },
   {
    "duration": 46,
    "start_time": "2021-08-16T23:42:57.043Z"
   },
   {
    "duration": 23,
    "start_time": "2021-08-16T23:42:57.091Z"
   },
   {
    "duration": 1462,
    "start_time": "2021-08-16T23:44:03.610Z"
   },
   {
    "duration": 48,
    "start_time": "2021-08-16T23:44:05.075Z"
   },
   {
    "duration": 21,
    "start_time": "2021-08-16T23:44:05.126Z"
   },
   {
    "duration": 14,
    "start_time": "2021-08-16T23:44:05.150Z"
   },
   {
    "duration": 4,
    "start_time": "2021-08-16T23:44:05.185Z"
   },
   {
    "duration": 20,
    "start_time": "2021-08-16T23:44:05.192Z"
   },
   {
    "duration": 18,
    "start_time": "2021-08-16T23:44:05.214Z"
   },
   {
    "duration": 199,
    "start_time": "2021-08-16T23:44:05.236Z"
   },
   {
    "duration": 143,
    "start_time": "2021-08-16T23:44:05.296Z"
   },
   {
    "duration": 120,
    "start_time": "2021-08-16T23:44:05.321Z"
   },
   {
    "duration": 115,
    "start_time": "2021-08-16T23:44:05.327Z"
   },
   {
    "duration": 106,
    "start_time": "2021-08-16T23:44:05.339Z"
   },
   {
    "duration": 102,
    "start_time": "2021-08-16T23:44:05.344Z"
   },
   {
    "duration": 98,
    "start_time": "2021-08-16T23:44:05.350Z"
   },
   {
    "duration": 95,
    "start_time": "2021-08-16T23:44:05.355Z"
   },
   {
    "duration": 92,
    "start_time": "2021-08-16T23:44:05.359Z"
   },
   {
    "duration": 87,
    "start_time": "2021-08-16T23:44:05.366Z"
   },
   {
    "duration": 83,
    "start_time": "2021-08-16T23:44:05.371Z"
   },
   {
    "duration": 80,
    "start_time": "2021-08-16T23:44:05.376Z"
   },
   {
    "duration": 76,
    "start_time": "2021-08-16T23:44:05.381Z"
   },
   {
    "duration": 73,
    "start_time": "2021-08-16T23:44:05.386Z"
   },
   {
    "duration": 68,
    "start_time": "2021-08-16T23:44:05.392Z"
   },
   {
    "duration": 65,
    "start_time": "2021-08-16T23:44:05.397Z"
   },
   {
    "duration": 62,
    "start_time": "2021-08-16T23:44:05.402Z"
   },
   {
    "duration": 60,
    "start_time": "2021-08-16T23:44:05.406Z"
   },
   {
    "duration": 56,
    "start_time": "2021-08-16T23:44:05.411Z"
   },
   {
    "duration": 53,
    "start_time": "2021-08-16T23:44:05.416Z"
   },
   {
    "duration": 1427,
    "start_time": "2021-08-16T23:44:37.838Z"
   },
   {
    "duration": 48,
    "start_time": "2021-08-16T23:44:39.267Z"
   },
   {
    "duration": 20,
    "start_time": "2021-08-16T23:44:39.318Z"
   },
   {
    "duration": 5,
    "start_time": "2021-08-16T23:44:39.341Z"
   },
   {
    "duration": 6,
    "start_time": "2021-08-16T23:44:39.348Z"
   },
   {
    "duration": 34,
    "start_time": "2021-08-16T23:44:39.356Z"
   },
   {
    "duration": 17,
    "start_time": "2021-08-16T23:44:39.392Z"
   },
   {
    "duration": 4,
    "start_time": "2021-08-16T23:44:39.412Z"
   },
   {
    "duration": 16,
    "start_time": "2021-08-16T23:44:39.419Z"
   },
   {
    "duration": 9,
    "start_time": "2021-08-16T23:44:39.438Z"
   },
   {
    "duration": 13,
    "start_time": "2021-08-16T23:44:39.486Z"
   },
   {
    "duration": 6,
    "start_time": "2021-08-16T23:44:39.502Z"
   },
   {
    "duration": 7,
    "start_time": "2021-08-16T23:44:39.510Z"
   },
   {
    "duration": 9,
    "start_time": "2021-08-16T23:44:39.520Z"
   },
   {
    "duration": 8,
    "start_time": "2021-08-16T23:44:39.531Z"
   },
   {
    "duration": 49,
    "start_time": "2021-08-16T23:44:39.541Z"
   },
   {
    "duration": 8,
    "start_time": "2021-08-16T23:44:39.593Z"
   },
   {
    "duration": 8,
    "start_time": "2021-08-16T23:44:39.604Z"
   },
   {
    "duration": 10,
    "start_time": "2021-08-16T23:44:39.615Z"
   },
   {
    "duration": 24,
    "start_time": "2021-08-16T23:44:39.628Z"
   },
   {
    "duration": 85435,
    "start_time": "2021-08-16T23:44:39.655Z"
   },
   {
    "duration": 7,
    "start_time": "2021-08-16T23:46:05.092Z"
   },
   {
    "duration": 17,
    "start_time": "2021-08-16T23:46:05.105Z"
   },
   {
    "duration": 10,
    "start_time": "2021-08-16T23:46:05.126Z"
   },
   {
    "duration": 38,
    "start_time": "2021-08-16T23:46:05.139Z"
   },
   {
    "duration": 25,
    "start_time": "2021-08-16T23:46:05.186Z"
   },
   {
    "duration": 30,
    "start_time": "2021-08-16T23:46:05.214Z"
   },
   {
    "duration": 1414,
    "start_time": "2021-08-16T23:47:21.358Z"
   },
   {
    "duration": 51,
    "start_time": "2021-08-16T23:47:22.775Z"
   },
   {
    "duration": 23,
    "start_time": "2021-08-16T23:47:22.834Z"
   },
   {
    "duration": 31,
    "start_time": "2021-08-16T23:47:22.860Z"
   },
   {
    "duration": 5,
    "start_time": "2021-08-16T23:47:22.894Z"
   },
   {
    "duration": 8,
    "start_time": "2021-08-16T23:47:22.902Z"
   },
   {
    "duration": 14,
    "start_time": "2021-08-16T23:47:22.916Z"
   },
   {
    "duration": 6,
    "start_time": "2021-08-16T23:47:22.934Z"
   },
   {
    "duration": 21,
    "start_time": "2021-08-16T23:47:22.987Z"
   },
   {
    "duration": 12,
    "start_time": "2021-08-16T23:47:23.011Z"
   },
   {
    "duration": 22,
    "start_time": "2021-08-16T23:47:23.025Z"
   },
   {
    "duration": 41,
    "start_time": "2021-08-16T23:47:23.049Z"
   },
   {
    "duration": 8,
    "start_time": "2021-08-16T23:47:23.094Z"
   },
   {
    "duration": 11,
    "start_time": "2021-08-16T23:47:23.105Z"
   },
   {
    "duration": 9,
    "start_time": "2021-08-16T23:47:23.118Z"
   },
   {
    "duration": 63,
    "start_time": "2021-08-16T23:47:23.130Z"
   },
   {
    "duration": 13,
    "start_time": "2021-08-16T23:47:23.195Z"
   },
   {
    "duration": 7,
    "start_time": "2021-08-16T23:47:23.211Z"
   },
   {
    "duration": 8,
    "start_time": "2021-08-16T23:47:23.221Z"
   },
   {
    "duration": 56,
    "start_time": "2021-08-16T23:47:23.232Z"
   },
   {
    "duration": 109071,
    "start_time": "2021-08-16T23:47:23.291Z"
   },
   {
    "duration": 7,
    "start_time": "2021-08-16T23:49:12.366Z"
   },
   {
    "duration": 31,
    "start_time": "2021-08-16T23:49:12.376Z"
   },
   {
    "duration": 5,
    "start_time": "2021-08-16T23:49:12.409Z"
   },
   {
    "duration": 9,
    "start_time": "2021-08-16T23:49:12.417Z"
   },
   {
    "duration": 9,
    "start_time": "2021-08-16T23:49:12.429Z"
   },
   {
    "duration": 60,
    "start_time": "2021-08-16T23:49:12.441Z"
   },
   {
    "duration": 1335,
    "start_time": "2021-08-16T23:50:34.836Z"
   },
   {
    "duration": 48,
    "start_time": "2021-08-16T23:50:36.174Z"
   },
   {
    "duration": 21,
    "start_time": "2021-08-16T23:50:36.225Z"
   },
   {
    "duration": 7,
    "start_time": "2021-08-16T23:50:36.250Z"
   },
   {
    "duration": 5,
    "start_time": "2021-08-16T23:50:36.286Z"
   },
   {
    "duration": 32,
    "start_time": "2021-08-16T23:50:36.294Z"
   },
   {
    "duration": 22,
    "start_time": "2021-08-16T23:50:36.329Z"
   },
   {
    "duration": 12,
    "start_time": "2021-08-16T23:50:36.356Z"
   },
   {
    "duration": 27,
    "start_time": "2021-08-16T23:50:36.372Z"
   },
   {
    "duration": 10,
    "start_time": "2021-08-16T23:50:36.401Z"
   },
   {
    "duration": 21,
    "start_time": "2021-08-16T23:50:36.413Z"
   },
   {
    "duration": 7,
    "start_time": "2021-08-16T23:50:36.437Z"
   },
   {
    "duration": 41,
    "start_time": "2021-08-16T23:50:36.446Z"
   },
   {
    "duration": 11,
    "start_time": "2021-08-16T23:50:36.490Z"
   },
   {
    "duration": 13,
    "start_time": "2021-08-16T23:50:36.503Z"
   },
   {
    "duration": 13,
    "start_time": "2021-08-16T23:50:36.518Z"
   },
   {
    "duration": 9,
    "start_time": "2021-08-16T23:50:36.534Z"
   },
   {
    "duration": 42,
    "start_time": "2021-08-16T23:50:36.545Z"
   },
   {
    "duration": 7,
    "start_time": "2021-08-16T23:50:36.589Z"
   },
   {
    "duration": 11,
    "start_time": "2021-08-16T23:50:36.598Z"
   },
   {
    "duration": 121099,
    "start_time": "2021-08-16T23:50:36.611Z"
   },
   {
    "duration": 7,
    "start_time": "2021-08-16T23:52:37.712Z"
   },
   {
    "duration": 34,
    "start_time": "2021-08-16T23:52:37.724Z"
   },
   {
    "duration": 26,
    "start_time": "2021-08-16T23:52:37.761Z"
   },
   {
    "duration": 20,
    "start_time": "2021-08-16T23:52:37.790Z"
   },
   {
    "duration": 18,
    "start_time": "2021-08-16T23:52:37.813Z"
   },
   {
    "duration": 26,
    "start_time": "2021-08-16T23:52:37.833Z"
   },
   {
    "duration": 1451,
    "start_time": "2021-08-16T23:54:13.227Z"
   },
   {
    "duration": 54,
    "start_time": "2021-08-16T23:54:14.687Z"
   },
   {
    "duration": 20,
    "start_time": "2021-08-16T23:54:14.744Z"
   },
   {
    "duration": 6,
    "start_time": "2021-08-16T23:54:14.766Z"
   },
   {
    "duration": 19,
    "start_time": "2021-08-16T23:54:14.774Z"
   },
   {
    "duration": 24,
    "start_time": "2021-08-16T23:54:14.795Z"
   },
   {
    "duration": 20,
    "start_time": "2021-08-16T23:54:14.823Z"
   },
   {
    "duration": 8,
    "start_time": "2021-08-16T23:54:14.847Z"
   },
   {
    "duration": 41,
    "start_time": "2021-08-16T23:54:14.857Z"
   },
   {
    "duration": 11,
    "start_time": "2021-08-16T23:54:14.901Z"
   },
   {
    "duration": 39,
    "start_time": "2021-08-16T23:54:14.914Z"
   },
   {
    "duration": 6,
    "start_time": "2021-08-16T23:54:14.955Z"
   },
   {
    "duration": 12,
    "start_time": "2021-08-16T23:54:14.963Z"
   },
   {
    "duration": 17,
    "start_time": "2021-08-16T23:54:14.977Z"
   },
   {
    "duration": 24,
    "start_time": "2021-08-16T23:54:14.996Z"
   },
   {
    "duration": 38,
    "start_time": "2021-08-16T23:54:15.022Z"
   },
   {
    "duration": 16,
    "start_time": "2021-08-16T23:54:15.062Z"
   },
   {
    "duration": 13,
    "start_time": "2021-08-16T23:54:15.081Z"
   },
   {
    "duration": 17,
    "start_time": "2021-08-16T23:54:15.096Z"
   },
   {
    "duration": 17,
    "start_time": "2021-08-16T23:54:15.116Z"
   },
   {
    "duration": 147434,
    "start_time": "2021-08-16T23:54:15.135Z"
   },
   {
    "duration": 7,
    "start_time": "2021-08-16T23:56:42.573Z"
   },
   {
    "duration": 43,
    "start_time": "2021-08-16T23:56:42.583Z"
   },
   {
    "duration": 6,
    "start_time": "2021-08-16T23:56:42.629Z"
   },
   {
    "duration": 15,
    "start_time": "2021-08-16T23:56:42.638Z"
   },
   {
    "duration": 33,
    "start_time": "2021-08-16T23:56:42.655Z"
   },
   {
    "duration": 32,
    "start_time": "2021-08-16T23:56:42.691Z"
   },
   {
    "duration": 6,
    "start_time": "2021-08-16T23:58:00.864Z"
   },
   {
    "duration": 1393,
    "start_time": "2021-08-16T23:58:30.768Z"
   },
   {
    "duration": 50,
    "start_time": "2021-08-16T23:58:32.163Z"
   },
   {
    "duration": 20,
    "start_time": "2021-08-16T23:58:32.216Z"
   },
   {
    "duration": 6,
    "start_time": "2021-08-16T23:58:32.239Z"
   },
   {
    "duration": 16,
    "start_time": "2021-08-16T23:58:32.247Z"
   },
   {
    "duration": 24,
    "start_time": "2021-08-16T23:58:32.265Z"
   },
   {
    "duration": 20,
    "start_time": "2021-08-16T23:58:32.291Z"
   },
   {
    "duration": 5,
    "start_time": "2021-08-16T23:58:32.313Z"
   },
   {
    "duration": 35,
    "start_time": "2021-08-16T23:58:32.322Z"
   },
   {
    "duration": 31,
    "start_time": "2021-08-16T23:58:32.360Z"
   },
   {
    "duration": 6,
    "start_time": "2021-08-16T23:58:32.393Z"
   },
   {
    "duration": 14,
    "start_time": "2021-08-16T23:58:32.401Z"
   },
   {
    "duration": 17,
    "start_time": "2021-08-16T23:58:32.417Z"
   },
   {
    "duration": 30,
    "start_time": "2021-08-16T23:58:32.436Z"
   },
   {
    "duration": 25,
    "start_time": "2021-08-16T23:58:32.469Z"
   },
   {
    "duration": 24,
    "start_time": "2021-08-16T23:58:32.496Z"
   },
   {
    "duration": 27,
    "start_time": "2021-08-16T23:58:32.522Z"
   },
   {
    "duration": 14,
    "start_time": "2021-08-16T23:58:32.552Z"
   },
   {
    "duration": 16,
    "start_time": "2021-08-16T23:58:32.568Z"
   },
   {
    "duration": 20,
    "start_time": "2021-08-16T23:58:32.586Z"
   },
   {
    "duration": 1993,
    "start_time": "2021-08-16T23:59:31.488Z"
   },
   {
    "duration": 70,
    "start_time": "2021-08-16T23:59:33.487Z"
   },
   {
    "duration": 41,
    "start_time": "2021-08-16T23:59:33.562Z"
   },
   {
    "duration": 9,
    "start_time": "2021-08-16T23:59:33.607Z"
   },
   {
    "duration": 6,
    "start_time": "2021-08-16T23:59:33.620Z"
   },
   {
    "duration": 12,
    "start_time": "2021-08-16T23:59:33.630Z"
   },
   {
    "duration": 56,
    "start_time": "2021-08-16T23:59:33.644Z"
   },
   {
    "duration": 9,
    "start_time": "2021-08-16T23:59:33.706Z"
   },
   {
    "duration": 54,
    "start_time": "2021-08-16T23:59:33.718Z"
   },
   {
    "duration": 51,
    "start_time": "2021-08-16T23:59:33.775Z"
   },
   {
    "duration": 34,
    "start_time": "2021-08-16T23:59:33.828Z"
   },
   {
    "duration": 16,
    "start_time": "2021-08-16T23:59:33.864Z"
   },
   {
    "duration": 21,
    "start_time": "2021-08-16T23:59:33.882Z"
   },
   {
    "duration": 19,
    "start_time": "2021-08-16T23:59:33.906Z"
   },
   {
    "duration": 19,
    "start_time": "2021-08-16T23:59:33.928Z"
   },
   {
    "duration": 31,
    "start_time": "2021-08-16T23:59:33.950Z"
   },
   {
    "duration": 22,
    "start_time": "2021-08-16T23:59:33.984Z"
   },
   {
    "duration": 31,
    "start_time": "2021-08-16T23:59:34.009Z"
   },
   {
    "duration": 14,
    "start_time": "2021-08-16T23:59:34.043Z"
   },
   {
    "duration": 44,
    "start_time": "2021-08-16T23:59:34.060Z"
   },
   {
    "duration": 1520,
    "start_time": "2021-08-17T10:26:17.150Z"
   },
   {
    "duration": 50,
    "start_time": "2021-08-17T10:26:18.673Z"
   },
   {
    "duration": 24,
    "start_time": "2021-08-17T10:26:18.727Z"
   },
   {
    "duration": 31,
    "start_time": "2021-08-17T10:26:18.755Z"
   },
   {
    "duration": 5,
    "start_time": "2021-08-17T10:26:18.788Z"
   },
   {
    "duration": 10,
    "start_time": "2021-08-17T10:26:18.796Z"
   },
   {
    "duration": 23,
    "start_time": "2021-08-17T10:26:18.809Z"
   },
   {
    "duration": 6,
    "start_time": "2021-08-17T10:26:18.837Z"
   },
   {
    "duration": 73,
    "start_time": "2021-08-17T10:26:18.847Z"
   },
   {
    "duration": 17,
    "start_time": "2021-08-17T10:26:18.923Z"
   },
   {
    "duration": 10,
    "start_time": "2021-08-17T10:26:18.942Z"
   },
   {
    "duration": 35,
    "start_time": "2021-08-17T10:26:18.956Z"
   },
   {
    "duration": 16,
    "start_time": "2021-08-17T10:26:18.994Z"
   },
   {
    "duration": 20,
    "start_time": "2021-08-17T10:26:19.013Z"
   },
   {
    "duration": 13,
    "start_time": "2021-08-17T10:26:19.036Z"
   },
   {
    "duration": 40,
    "start_time": "2021-08-17T10:26:19.052Z"
   },
   {
    "duration": 13,
    "start_time": "2021-08-17T10:26:19.094Z"
   },
   {
    "duration": 6,
    "start_time": "2021-08-17T10:26:19.109Z"
   },
   {
    "duration": 19,
    "start_time": "2021-08-17T10:26:19.117Z"
   },
   {
    "duration": 51,
    "start_time": "2021-08-17T10:26:19.138Z"
   },
   {
    "duration": 226424,
    "start_time": "2021-08-17T10:26:19.193Z"
   },
   {
    "duration": 9,
    "start_time": "2021-08-17T10:30:05.620Z"
   },
   {
    "duration": 269,
    "start_time": "2021-08-17T10:30:05.635Z"
   },
   {
    "duration": 6,
    "start_time": "2021-08-17T10:30:05.907Z"
   },
   {
    "duration": 171,
    "start_time": "2021-08-17T10:30:05.917Z"
   },
   {
    "duration": 105,
    "start_time": "2021-08-17T10:30:06.091Z"
   },
   {
    "duration": 173,
    "start_time": "2021-08-17T10:30:06.198Z"
   },
   {
    "duration": 1611,
    "start_time": "2021-08-17T10:33:36.559Z"
   },
   {
    "duration": 49,
    "start_time": "2021-08-17T10:33:38.173Z"
   },
   {
    "duration": 21,
    "start_time": "2021-08-17T10:33:38.225Z"
   },
   {
    "duration": 5,
    "start_time": "2021-08-17T10:33:38.249Z"
   },
   {
    "duration": 29,
    "start_time": "2021-08-17T10:33:38.257Z"
   },
   {
    "duration": 6,
    "start_time": "2021-08-17T10:33:38.288Z"
   },
   {
    "duration": 15,
    "start_time": "2021-08-17T10:33:38.297Z"
   },
   {
    "duration": 6,
    "start_time": "2021-08-17T10:33:38.316Z"
   },
   {
    "duration": 77,
    "start_time": "2021-08-17T10:33:38.325Z"
   },
   {
    "duration": 14,
    "start_time": "2021-08-17T10:33:38.405Z"
   },
   {
    "duration": 6,
    "start_time": "2021-08-17T10:33:38.421Z"
   },
   {
    "duration": 9,
    "start_time": "2021-08-17T10:33:38.429Z"
   },
   {
    "duration": 7,
    "start_time": "2021-08-17T10:33:38.440Z"
   },
   {
    "duration": 42,
    "start_time": "2021-08-17T10:33:38.449Z"
   },
   {
    "duration": 12,
    "start_time": "2021-08-17T10:33:38.494Z"
   },
   {
    "duration": 25,
    "start_time": "2021-08-17T10:33:38.509Z"
   },
   {
    "duration": 14,
    "start_time": "2021-08-17T10:33:38.536Z"
   },
   {
    "duration": 6,
    "start_time": "2021-08-17T10:33:38.552Z"
   },
   {
    "duration": 29,
    "start_time": "2021-08-17T10:33:38.560Z"
   },
   {
    "duration": 194,
    "start_time": "2021-08-17T10:33:38.592Z"
   },
   {
    "duration": 238075,
    "start_time": "2021-08-17T10:33:38.788Z"
   },
   {
    "duration": 7,
    "start_time": "2021-08-17T10:37:36.865Z"
   },
   {
    "duration": 144,
    "start_time": "2021-08-17T10:37:36.876Z"
   },
   {
    "duration": 5,
    "start_time": "2021-08-17T10:37:37.023Z"
   },
   {
    "duration": 54,
    "start_time": "2021-08-17T10:37:37.031Z"
   },
   {
    "duration": 100,
    "start_time": "2021-08-17T10:37:37.090Z"
   },
   {
    "duration": 129,
    "start_time": "2021-08-17T10:37:37.193Z"
   },
   {
    "duration": 1581,
    "start_time": "2021-08-17T17:35:41.956Z"
   },
   {
    "duration": 44,
    "start_time": "2021-08-17T17:35:43.539Z"
   },
   {
    "duration": 21,
    "start_time": "2021-08-17T17:35:43.585Z"
   },
   {
    "duration": 5,
    "start_time": "2021-08-17T17:35:43.609Z"
   },
   {
    "duration": 5,
    "start_time": "2021-08-17T17:35:43.616Z"
   },
   {
    "duration": 7,
    "start_time": "2021-08-17T17:35:43.623Z"
   },
   {
    "duration": 53,
    "start_time": "2021-08-17T17:35:43.632Z"
   },
   {
    "duration": 6,
    "start_time": "2021-08-17T17:35:43.689Z"
   },
   {
    "duration": 46,
    "start_time": "2021-08-17T17:35:43.698Z"
   },
   {
    "duration": 14,
    "start_time": "2021-08-17T17:35:43.747Z"
   },
   {
    "duration": 5,
    "start_time": "2021-08-17T17:35:43.782Z"
   },
   {
    "duration": 8,
    "start_time": "2021-08-17T17:35:43.790Z"
   },
   {
    "duration": 6,
    "start_time": "2021-08-17T17:35:43.801Z"
   },
   {
    "duration": 12,
    "start_time": "2021-08-17T17:35:43.809Z"
   },
   {
    "duration": 8,
    "start_time": "2021-08-17T17:35:43.824Z"
   },
   {
    "duration": 15,
    "start_time": "2021-08-17T17:35:43.883Z"
   },
   {
    "duration": 15,
    "start_time": "2021-08-17T17:35:43.900Z"
   },
   {
    "duration": 6,
    "start_time": "2021-08-17T17:35:43.918Z"
   },
   {
    "duration": 7,
    "start_time": "2021-08-17T17:35:43.926Z"
   },
   {
    "duration": 247,
    "start_time": "2021-08-17T17:35:43.935Z"
   },
   {
    "duration": 328725,
    "start_time": "2021-08-17T17:35:44.185Z"
   },
   {
    "duration": 10,
    "start_time": "2021-08-17T17:41:12.912Z"
   },
   {
    "duration": 157,
    "start_time": "2021-08-17T17:41:12.927Z"
   },
   {
    "duration": 6,
    "start_time": "2021-08-17T17:41:13.086Z"
   },
   {
    "duration": 88,
    "start_time": "2021-08-17T17:41:13.094Z"
   },
   {
    "duration": 103,
    "start_time": "2021-08-17T17:41:13.186Z"
   },
   {
    "duration": 115,
    "start_time": "2021-08-17T17:41:13.292Z"
   },
   {
    "duration": 1309,
    "start_time": "2021-08-17T17:42:21.321Z"
   },
   {
    "duration": 44,
    "start_time": "2021-08-17T17:42:22.633Z"
   },
   {
    "duration": 19,
    "start_time": "2021-08-17T17:42:22.680Z"
   },
   {
    "duration": 6,
    "start_time": "2021-08-17T17:42:22.702Z"
   },
   {
    "duration": 14,
    "start_time": "2021-08-17T17:42:22.710Z"
   },
   {
    "duration": 13,
    "start_time": "2021-08-17T17:42:22.726Z"
   },
   {
    "duration": 21,
    "start_time": "2021-08-17T17:42:22.741Z"
   },
   {
    "duration": 5,
    "start_time": "2021-08-17T17:42:22.782Z"
   },
   {
    "duration": 41,
    "start_time": "2021-08-17T17:42:22.791Z"
   },
   {
    "duration": 13,
    "start_time": "2021-08-17T17:42:22.835Z"
   },
   {
    "duration": 6,
    "start_time": "2021-08-17T17:42:22.851Z"
   },
   {
    "duration": 6,
    "start_time": "2021-08-17T17:42:22.883Z"
   },
   {
    "duration": 12,
    "start_time": "2021-08-17T17:42:22.891Z"
   },
   {
    "duration": 11,
    "start_time": "2021-08-17T17:42:22.905Z"
   },
   {
    "duration": 12,
    "start_time": "2021-08-17T17:42:22.919Z"
   },
   {
    "duration": 16,
    "start_time": "2021-08-17T17:42:22.933Z"
   },
   {
    "duration": 37,
    "start_time": "2021-08-17T17:42:22.951Z"
   },
   {
    "duration": 6,
    "start_time": "2021-08-17T17:42:22.990Z"
   },
   {
    "duration": 7,
    "start_time": "2021-08-17T17:42:22.999Z"
   },
   {
    "duration": 178,
    "start_time": "2021-08-17T17:42:23.008Z"
   },
   {
    "duration": 329139,
    "start_time": "2021-08-17T17:42:23.189Z"
   },
   {
    "duration": 10,
    "start_time": "2021-08-17T17:47:52.331Z"
   },
   {
    "duration": 156,
    "start_time": "2021-08-17T17:47:52.346Z"
   },
   {
    "duration": 5,
    "start_time": "2021-08-17T17:47:52.505Z"
   },
   {
    "duration": 71,
    "start_time": "2021-08-17T17:47:52.512Z"
   },
   {
    "duration": 107,
    "start_time": "2021-08-17T17:47:52.586Z"
   },
   {
    "duration": 122,
    "start_time": "2021-08-17T17:47:52.696Z"
   },
   {
    "duration": 1406,
    "start_time": "2021-08-17T18:15:09.041Z"
   },
   {
    "duration": 45,
    "start_time": "2021-08-17T18:15:10.450Z"
   },
   {
    "duration": 20,
    "start_time": "2021-08-17T18:15:10.498Z"
   },
   {
    "duration": 6,
    "start_time": "2021-08-17T18:15:10.521Z"
   },
   {
    "duration": 5,
    "start_time": "2021-08-17T18:15:10.530Z"
   },
   {
    "duration": 9,
    "start_time": "2021-08-17T18:15:10.537Z"
   },
   {
    "duration": 13,
    "start_time": "2021-08-17T18:15:10.583Z"
   },
   {
    "duration": 6,
    "start_time": "2021-08-17T18:15:10.600Z"
   },
   {
    "duration": 52,
    "start_time": "2021-08-17T18:15:10.608Z"
   },
   {
    "duration": 31,
    "start_time": "2021-08-17T18:15:10.662Z"
   },
   {
    "duration": 6,
    "start_time": "2021-08-17T18:15:10.695Z"
   },
   {
    "duration": 7,
    "start_time": "2021-08-17T18:15:10.703Z"
   },
   {
    "duration": 7,
    "start_time": "2021-08-17T18:15:10.712Z"
   },
   {
    "duration": 9,
    "start_time": "2021-08-17T18:15:10.721Z"
   },
   {
    "duration": 8,
    "start_time": "2021-08-17T18:15:10.732Z"
   },
   {
    "duration": 20,
    "start_time": "2021-08-17T18:15:10.784Z"
   },
   {
    "duration": 13,
    "start_time": "2021-08-17T18:15:10.807Z"
   },
   {
    "duration": 6,
    "start_time": "2021-08-17T18:15:10.822Z"
   },
   {
    "duration": 9,
    "start_time": "2021-08-17T18:15:10.831Z"
   },
   {
    "duration": 199,
    "start_time": "2021-08-17T18:15:10.884Z"
   },
   {
    "duration": 327622,
    "start_time": "2021-08-17T18:15:11.085Z"
   },
   {
    "duration": 9,
    "start_time": "2021-08-17T18:20:38.709Z"
   },
   {
    "duration": 157,
    "start_time": "2021-08-17T18:20:38.723Z"
   },
   {
    "duration": 6,
    "start_time": "2021-08-17T18:20:38.883Z"
   },
   {
    "duration": 94,
    "start_time": "2021-08-17T18:20:38.891Z"
   },
   {
    "duration": 102,
    "start_time": "2021-08-17T18:20:38.988Z"
   },
   {
    "duration": 117,
    "start_time": "2021-08-17T18:20:39.092Z"
   },
   {
    "duration": 6,
    "start_time": "2021-08-17T20:03:43.616Z"
   },
   {
    "duration": 13,
    "start_time": "2021-08-17T20:03:44.245Z"
   },
   {
    "duration": 1456,
    "start_time": "2021-08-18T05:56:23.983Z"
   },
   {
    "duration": 55,
    "start_time": "2021-08-18T05:56:25.441Z"
   },
   {
    "duration": 20,
    "start_time": "2021-08-18T05:56:25.499Z"
   },
   {
    "duration": 5,
    "start_time": "2021-08-18T05:56:25.522Z"
   },
   {
    "duration": 6,
    "start_time": "2021-08-18T05:56:25.529Z"
   },
   {
    "duration": 39,
    "start_time": "2021-08-18T05:56:25.538Z"
   },
   {
    "duration": 14,
    "start_time": "2021-08-18T05:56:25.580Z"
   },
   {
    "duration": 5,
    "start_time": "2021-08-18T05:56:25.599Z"
   },
   {
    "duration": 704,
    "start_time": "2021-08-18T05:56:25.607Z"
   },
   {
    "duration": -1656,
    "start_time": "2021-08-18T05:56:27.970Z"
   },
   {
    "duration": -1660,
    "start_time": "2021-08-18T05:56:27.977Z"
   },
   {
    "duration": -1663,
    "start_time": "2021-08-18T05:56:27.982Z"
   },
   {
    "duration": -1665,
    "start_time": "2021-08-18T05:56:27.986Z"
   },
   {
    "duration": -1664,
    "start_time": "2021-08-18T05:56:27.988Z"
   },
   {
    "duration": -1671,
    "start_time": "2021-08-18T05:56:27.997Z"
   },
   {
    "duration": -1673,
    "start_time": "2021-08-18T05:56:28.001Z"
   },
   {
    "duration": -1675,
    "start_time": "2021-08-18T05:56:28.004Z"
   },
   {
    "duration": -1679,
    "start_time": "2021-08-18T05:56:28.011Z"
   },
   {
    "duration": -1681,
    "start_time": "2021-08-18T05:56:28.015Z"
   },
   {
    "duration": -1683,
    "start_time": "2021-08-18T05:56:28.019Z"
   },
   {
    "duration": -1684,
    "start_time": "2021-08-18T05:56:28.022Z"
   },
   {
    "duration": -1686,
    "start_time": "2021-08-18T05:56:28.026Z"
   },
   {
    "duration": -1687,
    "start_time": "2021-08-18T05:56:28.029Z"
   },
   {
    "duration": -1688,
    "start_time": "2021-08-18T05:56:28.032Z"
   },
   {
    "duration": -1688,
    "start_time": "2021-08-18T05:56:28.034Z"
   },
   {
    "duration": -1689,
    "start_time": "2021-08-18T05:56:28.037Z"
   },
   {
    "duration": -1696,
    "start_time": "2021-08-18T05:56:28.046Z"
   },
   {
    "duration": -1683,
    "start_time": "2021-08-18T05:56:28.050Z"
   },
   {
    "duration": -1684,
    "start_time": "2021-08-18T05:56:28.052Z"
   },
   {
    "duration": 4,
    "start_time": "2021-08-18T05:59:45.845Z"
   },
   {
    "duration": 5,
    "start_time": "2021-08-18T05:59:47.302Z"
   },
   {
    "duration": 622,
    "start_time": "2021-08-18T05:59:50.742Z"
   },
   {
    "duration": 14,
    "start_time": "2021-08-18T06:00:16.983Z"
   },
   {
    "duration": 5,
    "start_time": "2021-08-18T06:00:18.045Z"
   },
   {
    "duration": 37,
    "start_time": "2021-08-18T06:00:48.451Z"
   },
   {
    "duration": 6,
    "start_time": "2021-08-18T06:03:24.923Z"
   },
   {
    "duration": 41,
    "start_time": "2021-08-18T06:03:26.889Z"
   },
   {
    "duration": 35,
    "start_time": "2021-08-18T06:03:28.175Z"
   },
   {
    "duration": 1361,
    "start_time": "2021-08-18T06:03:53.800Z"
   },
   {
    "duration": 46,
    "start_time": "2021-08-18T06:03:55.164Z"
   },
   {
    "duration": 22,
    "start_time": "2021-08-18T06:03:55.213Z"
   },
   {
    "duration": 6,
    "start_time": "2021-08-18T06:03:55.238Z"
   },
   {
    "duration": 23,
    "start_time": "2021-08-18T06:03:55.246Z"
   },
   {
    "duration": 12,
    "start_time": "2021-08-18T06:03:55.272Z"
   },
   {
    "duration": 13,
    "start_time": "2021-08-18T06:03:55.286Z"
   },
   {
    "duration": 6,
    "start_time": "2021-08-18T06:03:55.303Z"
   },
   {
    "duration": 73,
    "start_time": "2021-08-18T06:03:55.312Z"
   },
   {
    "duration": 366,
    "start_time": "2021-08-18T06:03:55.387Z"
   },
   {
    "duration": -1632,
    "start_time": "2021-08-18T06:03:57.389Z"
   },
   {
    "duration": -1634,
    "start_time": "2021-08-18T06:03:57.392Z"
   },
   {
    "duration": -1640,
    "start_time": "2021-08-18T06:03:57.399Z"
   },
   {
    "duration": -1642,
    "start_time": "2021-08-18T06:03:57.403Z"
   },
   {
    "duration": -1645,
    "start_time": "2021-08-18T06:03:57.407Z"
   },
   {
    "duration": -1658,
    "start_time": "2021-08-18T06:03:57.421Z"
   },
   {
    "duration": -1660,
    "start_time": "2021-08-18T06:03:57.425Z"
   },
   {
    "duration": -1663,
    "start_time": "2021-08-18T06:03:57.429Z"
   },
   {
    "duration": -1665,
    "start_time": "2021-08-18T06:03:57.432Z"
   },
   {
    "duration": -1668,
    "start_time": "2021-08-18T06:03:57.436Z"
   },
   {
    "duration": -1668,
    "start_time": "2021-08-18T06:03:57.438Z"
   },
   {
    "duration": -1674,
    "start_time": "2021-08-18T06:03:57.445Z"
   },
   {
    "duration": -1678,
    "start_time": "2021-08-18T06:03:57.450Z"
   },
   {
    "duration": -1682,
    "start_time": "2021-08-18T06:03:57.455Z"
   },
   {
    "duration": -1684,
    "start_time": "2021-08-18T06:03:57.458Z"
   },
   {
    "duration": -1686,
    "start_time": "2021-08-18T06:03:57.461Z"
   },
   {
    "duration": -1687,
    "start_time": "2021-08-18T06:03:57.464Z"
   },
   {
    "duration": -1689,
    "start_time": "2021-08-18T06:03:57.467Z"
   },
   {
    "duration": -1691,
    "start_time": "2021-08-18T06:03:57.470Z"
   },
   {
    "duration": -1694,
    "start_time": "2021-08-18T06:03:57.474Z"
   },
   {
    "duration": 6,
    "start_time": "2021-08-18T06:04:57.132Z"
   },
   {
    "duration": 19,
    "start_time": "2021-08-18T06:04:59.729Z"
   },
   {
    "duration": 266,
    "start_time": "2021-08-18T06:05:03.537Z"
   },
   {
    "duration": 4,
    "start_time": "2021-08-18T06:06:38.352Z"
   },
   {
    "duration": 6,
    "start_time": "2021-08-18T06:06:46.655Z"
   },
   {
    "duration": 19,
    "start_time": "2021-08-18T06:07:10.382Z"
   },
   {
    "duration": 44,
    "start_time": "2021-08-18T06:07:11.105Z"
   },
   {
    "duration": 1390,
    "start_time": "2021-08-18T06:08:18.058Z"
   },
   {
    "duration": 46,
    "start_time": "2021-08-18T06:08:19.450Z"
   },
   {
    "duration": 20,
    "start_time": "2021-08-18T06:08:19.499Z"
   },
   {
    "duration": 6,
    "start_time": "2021-08-18T06:08:19.521Z"
   },
   {
    "duration": 38,
    "start_time": "2021-08-18T06:08:19.529Z"
   },
   {
    "duration": 8,
    "start_time": "2021-08-18T06:08:19.569Z"
   },
   {
    "duration": 14,
    "start_time": "2021-08-18T06:08:19.579Z"
   },
   {
    "duration": 4,
    "start_time": "2021-08-18T06:08:19.597Z"
   },
   {
    "duration": 6,
    "start_time": "2021-08-18T06:08:19.604Z"
   },
   {
    "duration": 71,
    "start_time": "2021-08-18T06:08:19.612Z"
   },
   {
    "duration": 44,
    "start_time": "2021-08-18T06:08:19.686Z"
   },
   {
    "duration": 36,
    "start_time": "2021-08-18T06:08:19.733Z"
   },
   {
    "duration": 7,
    "start_time": "2021-08-18T06:08:19.771Z"
   },
   {
    "duration": 8,
    "start_time": "2021-08-18T06:08:19.781Z"
   },
   {
    "duration": 9,
    "start_time": "2021-08-18T06:08:19.792Z"
   },
   {
    "duration": 15,
    "start_time": "2021-08-18T06:08:19.804Z"
   },
   {
    "duration": 50,
    "start_time": "2021-08-18T06:08:19.821Z"
   },
   {
    "duration": 15,
    "start_time": "2021-08-18T06:08:19.874Z"
   },
   {
    "duration": 16,
    "start_time": "2021-08-18T06:08:19.891Z"
   },
   {
    "duration": 7,
    "start_time": "2021-08-18T06:08:19.910Z"
   },
   {
    "duration": 54,
    "start_time": "2021-08-18T06:08:19.920Z"
   },
   {
    "duration": 191,
    "start_time": "2021-08-18T06:08:19.976Z"
   },
   {
    "duration": 328796,
    "start_time": "2021-08-18T06:08:20.174Z"
   },
   {
    "duration": 11,
    "start_time": "2021-08-18T06:13:48.973Z"
   },
   {
    "duration": 173,
    "start_time": "2021-08-18T06:13:48.987Z"
   },
   {
    "duration": 6,
    "start_time": "2021-08-18T06:13:49.163Z"
   },
   {
    "duration": 95,
    "start_time": "2021-08-18T06:13:49.173Z"
   },
   {
    "duration": 101,
    "start_time": "2021-08-18T06:13:49.272Z"
   },
   {
    "duration": 139,
    "start_time": "2021-08-18T06:13:49.376Z"
   },
   {
    "duration": 7,
    "start_time": "2021-08-18T06:13:49.519Z"
   },
   {
    "duration": 14,
    "start_time": "2021-08-18T06:13:49.529Z"
   },
   {
    "duration": 6,
    "start_time": "2021-08-18T06:38:40.080Z"
   },
   {
    "duration": 390,
    "start_time": "2021-08-18T06:39:04.406Z"
   },
   {
    "duration": 7,
    "start_time": "2021-08-18T06:39:09.011Z"
   },
   {
    "duration": 7,
    "start_time": "2021-08-18T06:39:10.921Z"
   },
   {
    "duration": 1418,
    "start_time": "2021-08-18T06:45:33.841Z"
   },
   {
    "duration": 46,
    "start_time": "2021-08-18T06:45:35.262Z"
   },
   {
    "duration": 20,
    "start_time": "2021-08-18T06:45:35.310Z"
   },
   {
    "duration": 6,
    "start_time": "2021-08-18T06:45:35.333Z"
   },
   {
    "duration": 25,
    "start_time": "2021-08-18T06:45:35.342Z"
   },
   {
    "duration": 15,
    "start_time": "2021-08-18T06:45:35.370Z"
   },
   {
    "duration": 18,
    "start_time": "2021-08-18T06:45:35.387Z"
   },
   {
    "duration": 4,
    "start_time": "2021-08-18T06:45:35.409Z"
   },
   {
    "duration": 18,
    "start_time": "2021-08-18T06:45:35.416Z"
   },
   {
    "duration": 56,
    "start_time": "2021-08-18T06:45:35.436Z"
   },
   {
    "duration": 44,
    "start_time": "2021-08-18T06:45:35.494Z"
   },
   {
    "duration": 33,
    "start_time": "2021-08-18T06:45:35.540Z"
   },
   {
    "duration": 5,
    "start_time": "2021-08-18T06:45:35.576Z"
   },
   {
    "duration": 5,
    "start_time": "2021-08-18T06:45:35.584Z"
   },
   {
    "duration": 8,
    "start_time": "2021-08-18T06:45:35.592Z"
   },
   {
    "duration": 9,
    "start_time": "2021-08-18T06:45:35.603Z"
   },
   {
    "duration": 20,
    "start_time": "2021-08-18T06:45:35.614Z"
   },
   {
    "duration": 34,
    "start_time": "2021-08-18T06:45:35.637Z"
   },
   {
    "duration": 14,
    "start_time": "2021-08-18T06:45:35.674Z"
   },
   {
    "duration": 4,
    "start_time": "2021-08-18T06:45:35.691Z"
   },
   {
    "duration": 6,
    "start_time": "2021-08-18T06:45:35.698Z"
   },
   {
    "duration": 162,
    "start_time": "2021-08-18T06:45:35.706Z"
   },
   {
    "duration": 362290,
    "start_time": "2021-08-18T06:45:35.877Z"
   },
   {
    "duration": 16,
    "start_time": "2021-08-18T06:51:38.170Z"
   },
   {
    "duration": 1242,
    "start_time": "2021-08-18T06:51:38.189Z"
   },
   {
    "duration": 6,
    "start_time": "2021-08-18T06:51:39.434Z"
   },
   {
    "duration": 29,
    "start_time": "2021-08-18T06:51:39.442Z"
   },
   {
    "duration": 202,
    "start_time": "2021-08-18T06:51:39.475Z"
   },
   {
    "duration": 142,
    "start_time": "2021-08-18T06:51:39.679Z"
   },
   {
    "duration": 6,
    "start_time": "2021-08-18T06:51:39.824Z"
   },
   {
    "duration": 16,
    "start_time": "2021-08-18T06:51:39.832Z"
   },
   {
    "duration": 1346,
    "start_time": "2021-08-18T07:37:56.410Z"
   },
   {
    "duration": 47,
    "start_time": "2021-08-18T07:37:57.758Z"
   },
   {
    "duration": 22,
    "start_time": "2021-08-18T07:37:57.809Z"
   },
   {
    "duration": 7,
    "start_time": "2021-08-18T07:37:57.835Z"
   },
   {
    "duration": 5,
    "start_time": "2021-08-18T07:37:57.868Z"
   },
   {
    "duration": 8,
    "start_time": "2021-08-18T07:37:57.875Z"
   },
   {
    "duration": 12,
    "start_time": "2021-08-18T07:37:57.886Z"
   },
   {
    "duration": 4,
    "start_time": "2021-08-18T07:37:57.902Z"
   },
   {
    "duration": 6,
    "start_time": "2021-08-18T07:37:57.909Z"
   },
   {
    "duration": 81,
    "start_time": "2021-08-18T07:37:57.918Z"
   },
   {
    "duration": 13,
    "start_time": "2021-08-18T07:37:58.001Z"
   },
   {
    "duration": 6,
    "start_time": "2021-08-18T07:37:58.016Z"
   },
   {
    "duration": 7,
    "start_time": "2021-08-18T07:37:58.024Z"
   },
   {
    "duration": 35,
    "start_time": "2021-08-18T07:37:58.034Z"
   },
   {
    "duration": 8,
    "start_time": "2021-08-18T07:37:58.071Z"
   },
   {
    "duration": 8,
    "start_time": "2021-08-18T07:37:58.081Z"
   },
   {
    "duration": 14,
    "start_time": "2021-08-18T07:37:58.091Z"
   },
   {
    "duration": 12,
    "start_time": "2021-08-18T07:37:58.107Z"
   },
   {
    "duration": 47,
    "start_time": "2021-08-18T07:37:58.122Z"
   },
   {
    "duration": 7,
    "start_time": "2021-08-18T07:37:58.172Z"
   },
   {
    "duration": 92,
    "start_time": "2021-08-18T07:37:58.181Z"
   },
   {
    "duration": 58101,
    "start_time": "2021-08-18T07:37:58.276Z"
   },
   {
    "duration": 8,
    "start_time": "2021-08-18T07:38:56.381Z"
   },
   {
    "duration": 1233,
    "start_time": "2021-08-18T07:38:56.392Z"
   },
   {
    "duration": 6,
    "start_time": "2021-08-18T07:38:57.628Z"
   },
   {
    "duration": 32,
    "start_time": "2021-08-18T07:38:57.636Z"
   },
   {
    "duration": 111,
    "start_time": "2021-08-18T07:38:57.671Z"
   },
   {
    "duration": 194,
    "start_time": "2021-08-18T07:38:57.785Z"
   },
   {
    "duration": 8,
    "start_time": "2021-08-18T07:38:57.982Z"
   },
   {
    "duration": 18,
    "start_time": "2021-08-18T07:38:57.993Z"
   },
   {
    "duration": 57118,
    "start_time": "2021-08-18T07:39:21.248Z"
   },
   {
    "duration": 10,
    "start_time": "2021-08-18T07:42:09.171Z"
   }
  ],
  "kernelspec": {
   "display_name": "Python 3",
   "language": "python",
   "name": "python3"
  },
  "language_info": {
   "codemirror_mode": {
    "name": "ipython",
    "version": 3
   },
   "file_extension": ".py",
   "mimetype": "text/x-python",
   "name": "python",
   "nbconvert_exporter": "python",
   "pygments_lexer": "ipython3",
   "version": "3.8.5"
  },
  "toc": {
   "base_numbering": 1,
   "nav_menu": {},
   "number_sections": true,
   "sideBar": true,
   "skip_h1_title": true,
   "title_cell": "Содержание",
   "title_sidebar": "Contents",
   "toc_cell": true,
   "toc_position": {
    "height": "calc(100% - 180px)",
    "left": "10px",
    "top": "150px",
    "width": "289.6px"
   },
   "toc_section_display": true,
   "toc_window_display": true
  }
 },
 "nbformat": 4,
 "nbformat_minor": 2
}
