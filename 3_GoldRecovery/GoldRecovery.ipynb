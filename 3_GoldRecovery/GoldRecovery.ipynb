{
 "cells": [
  {
   "cell_type": "markdown",
   "metadata": {},
   "source": [
    "# Восстановление золота из руды"
   ]
  },
  {
   "cell_type": "markdown",
   "metadata": {},
   "source": [
    "Компания разрабатывает решения для эффективной работы промышленных предприятий.\n",
    "\n",
    "Модель должна предсказать коэффициент восстановления золота из золотосодержащей руды.\n",
    "\n",
    "Модель поможет оптимизировать производство, чтобы не запускать предприятие с убыточными характеристиками.\n",
    "\n",
    "План исследования:\n",
    "\n",
    "1. Подготовить данные;\n",
    "2. Провести исследовательский анализ данных;\n",
    "3. Построить и обучить модель."
   ]
  },
  {
   "cell_type": "markdown",
   "metadata": {},
   "source": [
    "## Подготовка данных"
   ]
  },
  {
   "cell_type": "markdown",
   "metadata": {},
   "source": [
    "Загружаю необходимые библиотеки"
   ]
  },
  {
   "cell_type": "code",
   "execution_count": 1,
   "metadata": {},
   "outputs": [],
   "source": [
    "import pandas as pd\n",
    "import numpy as np\n",
    "import seaborn as sns\n",
    "import matplotlib.pyplot as plt\n",
    "import datetime\n",
    "from sklearn.metrics import mean_absolute_error, make_scorer\n",
    "from sklearn.preprocessing import StandardScaler\n",
    "from sklearn.tree import DecisionTreeRegressor\n",
    "from sklearn.linear_model import LinearRegression\n",
    "from sklearn.neighbors import KNeighborsRegressor\n",
    "from sklearn.ensemble import RandomForestRegressor\n",
    "from sklearn.model_selection import GridSearchCV\n",
    "\n",
    "from sklearn.dummy import DummyRegressor"
   ]
  },
  {
   "cell_type": "markdown",
   "metadata": {},
   "source": [
    "Загружаю датасеты"
   ]
  },
  {
   "cell_type": "markdown",
   "metadata": {},
   "source": [
    "### Datasets"
   ]
  },
  {
   "cell_type": "markdown",
   "metadata": {},
   "source": [
    "#### Train"
   ]
  },
  {
   "cell_type": "code",
   "execution_count": 2,
   "metadata": {},
   "outputs": [
    {
     "data": {
      "text/html": [
       "<div>\n",
       "<style scoped>\n",
       "    .dataframe tbody tr th:only-of-type {\n",
       "        vertical-align: middle;\n",
       "    }\n",
       "\n",
       "    .dataframe tbody tr th {\n",
       "        vertical-align: top;\n",
       "    }\n",
       "\n",
       "    .dataframe thead th {\n",
       "        text-align: right;\n",
       "    }\n",
       "</style>\n",
       "<table border=\"1\" class=\"dataframe\">\n",
       "  <thead>\n",
       "    <tr style=\"text-align: right;\">\n",
       "      <th></th>\n",
       "      <th>date</th>\n",
       "      <th>final.output.concentrate_ag</th>\n",
       "      <th>final.output.concentrate_pb</th>\n",
       "      <th>final.output.concentrate_sol</th>\n",
       "      <th>final.output.concentrate_au</th>\n",
       "      <th>final.output.recovery</th>\n",
       "      <th>final.output.tail_ag</th>\n",
       "      <th>final.output.tail_pb</th>\n",
       "      <th>final.output.tail_sol</th>\n",
       "      <th>final.output.tail_au</th>\n",
       "      <th>...</th>\n",
       "      <th>secondary_cleaner.state.floatbank4_a_air</th>\n",
       "      <th>secondary_cleaner.state.floatbank4_a_level</th>\n",
       "      <th>secondary_cleaner.state.floatbank4_b_air</th>\n",
       "      <th>secondary_cleaner.state.floatbank4_b_level</th>\n",
       "      <th>secondary_cleaner.state.floatbank5_a_air</th>\n",
       "      <th>secondary_cleaner.state.floatbank5_a_level</th>\n",
       "      <th>secondary_cleaner.state.floatbank5_b_air</th>\n",
       "      <th>secondary_cleaner.state.floatbank5_b_level</th>\n",
       "      <th>secondary_cleaner.state.floatbank6_a_air</th>\n",
       "      <th>secondary_cleaner.state.floatbank6_a_level</th>\n",
       "    </tr>\n",
       "  </thead>\n",
       "  <tbody>\n",
       "    <tr>\n",
       "      <td>0</td>\n",
       "      <td>2016-01-15 00:00:00</td>\n",
       "      <td>6.055403</td>\n",
       "      <td>9.889648</td>\n",
       "      <td>5.507324</td>\n",
       "      <td>42.192020</td>\n",
       "      <td>70.541216</td>\n",
       "      <td>10.411962</td>\n",
       "      <td>0.895447</td>\n",
       "      <td>16.904297</td>\n",
       "      <td>2.143149</td>\n",
       "      <td>...</td>\n",
       "      <td>14.016835</td>\n",
       "      <td>-502.488007</td>\n",
       "      <td>12.099931</td>\n",
       "      <td>-504.715942</td>\n",
       "      <td>9.925633</td>\n",
       "      <td>-498.310211</td>\n",
       "      <td>8.079666</td>\n",
       "      <td>-500.470978</td>\n",
       "      <td>14.151341</td>\n",
       "      <td>-605.841980</td>\n",
       "    </tr>\n",
       "    <tr>\n",
       "      <td>1</td>\n",
       "      <td>2016-01-15 01:00:00</td>\n",
       "      <td>6.029369</td>\n",
       "      <td>9.968944</td>\n",
       "      <td>5.257781</td>\n",
       "      <td>42.701629</td>\n",
       "      <td>69.266198</td>\n",
       "      <td>10.462676</td>\n",
       "      <td>0.927452</td>\n",
       "      <td>16.634514</td>\n",
       "      <td>2.224930</td>\n",
       "      <td>...</td>\n",
       "      <td>13.992281</td>\n",
       "      <td>-505.503262</td>\n",
       "      <td>11.950531</td>\n",
       "      <td>-501.331529</td>\n",
       "      <td>10.039245</td>\n",
       "      <td>-500.169983</td>\n",
       "      <td>7.984757</td>\n",
       "      <td>-500.582168</td>\n",
       "      <td>13.998353</td>\n",
       "      <td>-599.787184</td>\n",
       "    </tr>\n",
       "    <tr>\n",
       "      <td>2</td>\n",
       "      <td>2016-01-15 02:00:00</td>\n",
       "      <td>6.055926</td>\n",
       "      <td>10.213995</td>\n",
       "      <td>5.383759</td>\n",
       "      <td>42.657501</td>\n",
       "      <td>68.116445</td>\n",
       "      <td>10.507046</td>\n",
       "      <td>0.953716</td>\n",
       "      <td>16.208849</td>\n",
       "      <td>2.257889</td>\n",
       "      <td>...</td>\n",
       "      <td>14.015015</td>\n",
       "      <td>-502.520901</td>\n",
       "      <td>11.912783</td>\n",
       "      <td>-501.133383</td>\n",
       "      <td>10.070913</td>\n",
       "      <td>-500.129135</td>\n",
       "      <td>8.013877</td>\n",
       "      <td>-500.517572</td>\n",
       "      <td>14.028663</td>\n",
       "      <td>-601.427363</td>\n",
       "    </tr>\n",
       "    <tr>\n",
       "      <td>3</td>\n",
       "      <td>2016-01-15 03:00:00</td>\n",
       "      <td>6.047977</td>\n",
       "      <td>9.977019</td>\n",
       "      <td>4.858634</td>\n",
       "      <td>42.689819</td>\n",
       "      <td>68.347543</td>\n",
       "      <td>10.422762</td>\n",
       "      <td>0.883763</td>\n",
       "      <td>16.532835</td>\n",
       "      <td>2.146849</td>\n",
       "      <td>...</td>\n",
       "      <td>14.036510</td>\n",
       "      <td>-500.857308</td>\n",
       "      <td>11.999550</td>\n",
       "      <td>-501.193686</td>\n",
       "      <td>9.970366</td>\n",
       "      <td>-499.201640</td>\n",
       "      <td>7.977324</td>\n",
       "      <td>-500.255908</td>\n",
       "      <td>14.005551</td>\n",
       "      <td>-599.996129</td>\n",
       "    </tr>\n",
       "    <tr>\n",
       "      <td>4</td>\n",
       "      <td>2016-01-15 04:00:00</td>\n",
       "      <td>6.148599</td>\n",
       "      <td>10.142511</td>\n",
       "      <td>4.939416</td>\n",
       "      <td>42.774141</td>\n",
       "      <td>66.927016</td>\n",
       "      <td>10.360302</td>\n",
       "      <td>0.792826</td>\n",
       "      <td>16.525686</td>\n",
       "      <td>2.055292</td>\n",
       "      <td>...</td>\n",
       "      <td>14.027298</td>\n",
       "      <td>-499.838632</td>\n",
       "      <td>11.953070</td>\n",
       "      <td>-501.053894</td>\n",
       "      <td>9.925709</td>\n",
       "      <td>-501.686727</td>\n",
       "      <td>7.894242</td>\n",
       "      <td>-500.356035</td>\n",
       "      <td>13.996647</td>\n",
       "      <td>-601.496691</td>\n",
       "    </tr>\n",
       "  </tbody>\n",
       "</table>\n",
       "<p>5 rows × 87 columns</p>\n",
       "</div>"
      ],
      "text/plain": [
       "                  date  final.output.concentrate_ag  \\\n",
       "0  2016-01-15 00:00:00                     6.055403   \n",
       "1  2016-01-15 01:00:00                     6.029369   \n",
       "2  2016-01-15 02:00:00                     6.055926   \n",
       "3  2016-01-15 03:00:00                     6.047977   \n",
       "4  2016-01-15 04:00:00                     6.148599   \n",
       "\n",
       "   final.output.concentrate_pb  final.output.concentrate_sol  \\\n",
       "0                     9.889648                      5.507324   \n",
       "1                     9.968944                      5.257781   \n",
       "2                    10.213995                      5.383759   \n",
       "3                     9.977019                      4.858634   \n",
       "4                    10.142511                      4.939416   \n",
       "\n",
       "   final.output.concentrate_au  final.output.recovery  final.output.tail_ag  \\\n",
       "0                    42.192020              70.541216             10.411962   \n",
       "1                    42.701629              69.266198             10.462676   \n",
       "2                    42.657501              68.116445             10.507046   \n",
       "3                    42.689819              68.347543             10.422762   \n",
       "4                    42.774141              66.927016             10.360302   \n",
       "\n",
       "   final.output.tail_pb  final.output.tail_sol  final.output.tail_au  ...  \\\n",
       "0              0.895447              16.904297              2.143149  ...   \n",
       "1              0.927452              16.634514              2.224930  ...   \n",
       "2              0.953716              16.208849              2.257889  ...   \n",
       "3              0.883763              16.532835              2.146849  ...   \n",
       "4              0.792826              16.525686              2.055292  ...   \n",
       "\n",
       "   secondary_cleaner.state.floatbank4_a_air  \\\n",
       "0                                 14.016835   \n",
       "1                                 13.992281   \n",
       "2                                 14.015015   \n",
       "3                                 14.036510   \n",
       "4                                 14.027298   \n",
       "\n",
       "   secondary_cleaner.state.floatbank4_a_level  \\\n",
       "0                                 -502.488007   \n",
       "1                                 -505.503262   \n",
       "2                                 -502.520901   \n",
       "3                                 -500.857308   \n",
       "4                                 -499.838632   \n",
       "\n",
       "   secondary_cleaner.state.floatbank4_b_air  \\\n",
       "0                                 12.099931   \n",
       "1                                 11.950531   \n",
       "2                                 11.912783   \n",
       "3                                 11.999550   \n",
       "4                                 11.953070   \n",
       "\n",
       "   secondary_cleaner.state.floatbank4_b_level  \\\n",
       "0                                 -504.715942   \n",
       "1                                 -501.331529   \n",
       "2                                 -501.133383   \n",
       "3                                 -501.193686   \n",
       "4                                 -501.053894   \n",
       "\n",
       "   secondary_cleaner.state.floatbank5_a_air  \\\n",
       "0                                  9.925633   \n",
       "1                                 10.039245   \n",
       "2                                 10.070913   \n",
       "3                                  9.970366   \n",
       "4                                  9.925709   \n",
       "\n",
       "   secondary_cleaner.state.floatbank5_a_level  \\\n",
       "0                                 -498.310211   \n",
       "1                                 -500.169983   \n",
       "2                                 -500.129135   \n",
       "3                                 -499.201640   \n",
       "4                                 -501.686727   \n",
       "\n",
       "   secondary_cleaner.state.floatbank5_b_air  \\\n",
       "0                                  8.079666   \n",
       "1                                  7.984757   \n",
       "2                                  8.013877   \n",
       "3                                  7.977324   \n",
       "4                                  7.894242   \n",
       "\n",
       "   secondary_cleaner.state.floatbank5_b_level  \\\n",
       "0                                 -500.470978   \n",
       "1                                 -500.582168   \n",
       "2                                 -500.517572   \n",
       "3                                 -500.255908   \n",
       "4                                 -500.356035   \n",
       "\n",
       "   secondary_cleaner.state.floatbank6_a_air  \\\n",
       "0                                 14.151341   \n",
       "1                                 13.998353   \n",
       "2                                 14.028663   \n",
       "3                                 14.005551   \n",
       "4                                 13.996647   \n",
       "\n",
       "   secondary_cleaner.state.floatbank6_a_level  \n",
       "0                                 -605.841980  \n",
       "1                                 -599.787184  \n",
       "2                                 -601.427363  \n",
       "3                                 -599.996129  \n",
       "4                                 -601.496691  \n",
       "\n",
       "[5 rows x 87 columns]"
      ]
     },
     "metadata": {},
     "output_type": "display_data"
    }
   ],
   "source": [
    "train = pd.read_csv('/datasets/gold_recovery_train_new.csv')\n",
    "display(train.head())"
   ]
  },
  {
   "cell_type": "code",
   "execution_count": 3,
   "metadata": {},
   "outputs": [
    {
     "name": "stdout",
     "output_type": "stream",
     "text": [
      "<class 'pandas.core.frame.DataFrame'>\n",
      "RangeIndex: 14149 entries, 0 to 14148\n",
      "Data columns (total 87 columns):\n",
      "date                                                  14149 non-null object\n",
      "final.output.concentrate_ag                           14148 non-null float64\n",
      "final.output.concentrate_pb                           14148 non-null float64\n",
      "final.output.concentrate_sol                          13938 non-null float64\n",
      "final.output.concentrate_au                           14149 non-null float64\n",
      "final.output.recovery                                 14149 non-null float64\n",
      "final.output.tail_ag                                  14149 non-null float64\n",
      "final.output.tail_pb                                  14049 non-null float64\n",
      "final.output.tail_sol                                 14144 non-null float64\n",
      "final.output.tail_au                                  14149 non-null float64\n",
      "primary_cleaner.input.sulfate                         14129 non-null float64\n",
      "primary_cleaner.input.depressant                      14117 non-null float64\n",
      "primary_cleaner.input.feed_size                       14149 non-null float64\n",
      "primary_cleaner.input.xanthate                        14049 non-null float64\n",
      "primary_cleaner.output.concentrate_ag                 14149 non-null float64\n",
      "primary_cleaner.output.concentrate_pb                 14063 non-null float64\n",
      "primary_cleaner.output.concentrate_sol                13863 non-null float64\n",
      "primary_cleaner.output.concentrate_au                 14149 non-null float64\n",
      "primary_cleaner.output.tail_ag                        14148 non-null float64\n",
      "primary_cleaner.output.tail_pb                        14134 non-null float64\n",
      "primary_cleaner.output.tail_sol                       14103 non-null float64\n",
      "primary_cleaner.output.tail_au                        14149 non-null float64\n",
      "primary_cleaner.state.floatbank8_a_air                14145 non-null float64\n",
      "primary_cleaner.state.floatbank8_a_level              14148 non-null float64\n",
      "primary_cleaner.state.floatbank8_b_air                14145 non-null float64\n",
      "primary_cleaner.state.floatbank8_b_level              14148 non-null float64\n",
      "primary_cleaner.state.floatbank8_c_air                14147 non-null float64\n",
      "primary_cleaner.state.floatbank8_c_level              14148 non-null float64\n",
      "primary_cleaner.state.floatbank8_d_air                14146 non-null float64\n",
      "primary_cleaner.state.floatbank8_d_level              14148 non-null float64\n",
      "rougher.calculation.sulfate_to_au_concentrate         14148 non-null float64\n",
      "rougher.calculation.floatbank10_sulfate_to_au_feed    14148 non-null float64\n",
      "rougher.calculation.floatbank11_sulfate_to_au_feed    14148 non-null float64\n",
      "rougher.calculation.au_pb_ratio                       14149 non-null float64\n",
      "rougher.input.feed_ag                                 14149 non-null float64\n",
      "rougher.input.feed_pb                                 14049 non-null float64\n",
      "rougher.input.feed_rate                               14141 non-null float64\n",
      "rougher.input.feed_size                               14005 non-null float64\n",
      "rougher.input.feed_sol                                14071 non-null float64\n",
      "rougher.input.feed_au                                 14149 non-null float64\n",
      "rougher.input.floatbank10_sulfate                     14120 non-null float64\n",
      "rougher.input.floatbank10_xanthate                    14141 non-null float64\n",
      "rougher.input.floatbank11_sulfate                     14113 non-null float64\n",
      "rougher.input.floatbank11_xanthate                    13721 non-null float64\n",
      "rougher.output.concentrate_ag                         14149 non-null float64\n",
      "rougher.output.concentrate_pb                         14149 non-null float64\n",
      "rougher.output.concentrate_sol                        14127 non-null float64\n",
      "rougher.output.concentrate_au                         14149 non-null float64\n",
      "rougher.output.recovery                               14149 non-null float64\n",
      "rougher.output.tail_ag                                14148 non-null float64\n",
      "rougher.output.tail_pb                                14149 non-null float64\n",
      "rougher.output.tail_sol                               14149 non-null float64\n",
      "rougher.output.tail_au                                14149 non-null float64\n",
      "rougher.state.floatbank10_a_air                       14148 non-null float64\n",
      "rougher.state.floatbank10_a_level                     14148 non-null float64\n",
      "rougher.state.floatbank10_b_air                       14148 non-null float64\n",
      "rougher.state.floatbank10_b_level                     14148 non-null float64\n",
      "rougher.state.floatbank10_c_air                       14148 non-null float64\n",
      "rougher.state.floatbank10_c_level                     14148 non-null float64\n",
      "rougher.state.floatbank10_d_air                       14149 non-null float64\n",
      "rougher.state.floatbank10_d_level                     14149 non-null float64\n",
      "rougher.state.floatbank10_e_air                       13713 non-null float64\n",
      "rougher.state.floatbank10_e_level                     14149 non-null float64\n",
      "rougher.state.floatbank10_f_air                       14149 non-null float64\n",
      "rougher.state.floatbank10_f_level                     14149 non-null float64\n",
      "secondary_cleaner.output.tail_ag                      14147 non-null float64\n",
      "secondary_cleaner.output.tail_pb                      14139 non-null float64\n",
      "secondary_cleaner.output.tail_sol                     12544 non-null float64\n",
      "secondary_cleaner.output.tail_au                      14149 non-null float64\n",
      "secondary_cleaner.state.floatbank2_a_air              13932 non-null float64\n",
      "secondary_cleaner.state.floatbank2_a_level            14148 non-null float64\n",
      "secondary_cleaner.state.floatbank2_b_air              14128 non-null float64\n",
      "secondary_cleaner.state.floatbank2_b_level            14148 non-null float64\n",
      "secondary_cleaner.state.floatbank3_a_air              14145 non-null float64\n",
      "secondary_cleaner.state.floatbank3_a_level            14148 non-null float64\n",
      "secondary_cleaner.state.floatbank3_b_air              14148 non-null float64\n",
      "secondary_cleaner.state.floatbank3_b_level            14148 non-null float64\n",
      "secondary_cleaner.state.floatbank4_a_air              14143 non-null float64\n",
      "secondary_cleaner.state.floatbank4_a_level            14148 non-null float64\n",
      "secondary_cleaner.state.floatbank4_b_air              14148 non-null float64\n",
      "secondary_cleaner.state.floatbank4_b_level            14148 non-null float64\n",
      "secondary_cleaner.state.floatbank5_a_air              14148 non-null float64\n",
      "secondary_cleaner.state.floatbank5_a_level            14148 non-null float64\n",
      "secondary_cleaner.state.floatbank5_b_air              14148 non-null float64\n",
      "secondary_cleaner.state.floatbank5_b_level            14148 non-null float64\n",
      "secondary_cleaner.state.floatbank6_a_air              14147 non-null float64\n",
      "secondary_cleaner.state.floatbank6_a_level            14148 non-null float64\n",
      "dtypes: float64(86), object(1)\n",
      "memory usage: 9.4+ MB\n"
     ]
    }
   ],
   "source": [
    "train.info()"
   ]
  },
  {
   "cell_type": "code",
   "execution_count": 4,
   "metadata": {},
   "outputs": [
    {
     "data": {
      "text/plain": [
       "0"
      ]
     },
     "execution_count": 4,
     "metadata": {},
     "output_type": "execute_result"
    }
   ],
   "source": [
    "train.duplicated().sum()"
   ]
  },
  {
   "cell_type": "markdown",
   "metadata": {},
   "source": [
    "Тренировочные данные находятся в таблице в 14149 строк и 87 столбцов, есть пропуски. Дубликатов нет.\n",
    "Данные в date имеют тип object"
   ]
  },
  {
   "cell_type": "code",
   "execution_count": 5,
   "metadata": {},
   "outputs": [
    {
     "data": {
      "text/plain": [
       "14149"
      ]
     },
     "execution_count": 5,
     "metadata": {},
     "output_type": "execute_result"
    }
   ],
   "source": [
    "len(train['date'].unique())"
   ]
  },
  {
   "cell_type": "markdown",
   "metadata": {},
   "source": [
    "Буду использовать столбец date в качестве индекса (здесь и ниже, после предварительной проверки уникальности дат😊)."
   ]
  },
  {
   "cell_type": "code",
   "execution_count": 6,
   "metadata": {},
   "outputs": [],
   "source": [
    "train = pd.read_csv('/datasets/gold_recovery_train_new.csv', index_col='date', parse_dates=True)"
   ]
  },
  {
   "cell_type": "code",
   "execution_count": 7,
   "metadata": {},
   "outputs": [
    {
     "name": "stdout",
     "output_type": "stream",
     "text": [
      "<class 'pandas.core.frame.DataFrame'>\n",
      "DatetimeIndex: 14149 entries, 2016-01-15 00:00:00 to 2018-08-18 10:59:59\n",
      "Data columns (total 86 columns):\n",
      "final.output.concentrate_ag                           14148 non-null float64\n",
      "final.output.concentrate_pb                           14148 non-null float64\n",
      "final.output.concentrate_sol                          13938 non-null float64\n",
      "final.output.concentrate_au                           14149 non-null float64\n",
      "final.output.recovery                                 14149 non-null float64\n",
      "final.output.tail_ag                                  14149 non-null float64\n",
      "final.output.tail_pb                                  14049 non-null float64\n",
      "final.output.tail_sol                                 14144 non-null float64\n",
      "final.output.tail_au                                  14149 non-null float64\n",
      "primary_cleaner.input.sulfate                         14129 non-null float64\n",
      "primary_cleaner.input.depressant                      14117 non-null float64\n",
      "primary_cleaner.input.feed_size                       14149 non-null float64\n",
      "primary_cleaner.input.xanthate                        14049 non-null float64\n",
      "primary_cleaner.output.concentrate_ag                 14149 non-null float64\n",
      "primary_cleaner.output.concentrate_pb                 14063 non-null float64\n",
      "primary_cleaner.output.concentrate_sol                13863 non-null float64\n",
      "primary_cleaner.output.concentrate_au                 14149 non-null float64\n",
      "primary_cleaner.output.tail_ag                        14148 non-null float64\n",
      "primary_cleaner.output.tail_pb                        14134 non-null float64\n",
      "primary_cleaner.output.tail_sol                       14103 non-null float64\n",
      "primary_cleaner.output.tail_au                        14149 non-null float64\n",
      "primary_cleaner.state.floatbank8_a_air                14145 non-null float64\n",
      "primary_cleaner.state.floatbank8_a_level              14148 non-null float64\n",
      "primary_cleaner.state.floatbank8_b_air                14145 non-null float64\n",
      "primary_cleaner.state.floatbank8_b_level              14148 non-null float64\n",
      "primary_cleaner.state.floatbank8_c_air                14147 non-null float64\n",
      "primary_cleaner.state.floatbank8_c_level              14148 non-null float64\n",
      "primary_cleaner.state.floatbank8_d_air                14146 non-null float64\n",
      "primary_cleaner.state.floatbank8_d_level              14148 non-null float64\n",
      "rougher.calculation.sulfate_to_au_concentrate         14148 non-null float64\n",
      "rougher.calculation.floatbank10_sulfate_to_au_feed    14148 non-null float64\n",
      "rougher.calculation.floatbank11_sulfate_to_au_feed    14148 non-null float64\n",
      "rougher.calculation.au_pb_ratio                       14149 non-null float64\n",
      "rougher.input.feed_ag                                 14149 non-null float64\n",
      "rougher.input.feed_pb                                 14049 non-null float64\n",
      "rougher.input.feed_rate                               14141 non-null float64\n",
      "rougher.input.feed_size                               14005 non-null float64\n",
      "rougher.input.feed_sol                                14071 non-null float64\n",
      "rougher.input.feed_au                                 14149 non-null float64\n",
      "rougher.input.floatbank10_sulfate                     14120 non-null float64\n",
      "rougher.input.floatbank10_xanthate                    14141 non-null float64\n",
      "rougher.input.floatbank11_sulfate                     14113 non-null float64\n",
      "rougher.input.floatbank11_xanthate                    13721 non-null float64\n",
      "rougher.output.concentrate_ag                         14149 non-null float64\n",
      "rougher.output.concentrate_pb                         14149 non-null float64\n",
      "rougher.output.concentrate_sol                        14127 non-null float64\n",
      "rougher.output.concentrate_au                         14149 non-null float64\n",
      "rougher.output.recovery                               14149 non-null float64\n",
      "rougher.output.tail_ag                                14148 non-null float64\n",
      "rougher.output.tail_pb                                14149 non-null float64\n",
      "rougher.output.tail_sol                               14149 non-null float64\n",
      "rougher.output.tail_au                                14149 non-null float64\n",
      "rougher.state.floatbank10_a_air                       14148 non-null float64\n",
      "rougher.state.floatbank10_a_level                     14148 non-null float64\n",
      "rougher.state.floatbank10_b_air                       14148 non-null float64\n",
      "rougher.state.floatbank10_b_level                     14148 non-null float64\n",
      "rougher.state.floatbank10_c_air                       14148 non-null float64\n",
      "rougher.state.floatbank10_c_level                     14148 non-null float64\n",
      "rougher.state.floatbank10_d_air                       14149 non-null float64\n",
      "rougher.state.floatbank10_d_level                     14149 non-null float64\n",
      "rougher.state.floatbank10_e_air                       13713 non-null float64\n",
      "rougher.state.floatbank10_e_level                     14149 non-null float64\n",
      "rougher.state.floatbank10_f_air                       14149 non-null float64\n",
      "rougher.state.floatbank10_f_level                     14149 non-null float64\n",
      "secondary_cleaner.output.tail_ag                      14147 non-null float64\n",
      "secondary_cleaner.output.tail_pb                      14139 non-null float64\n",
      "secondary_cleaner.output.tail_sol                     12544 non-null float64\n",
      "secondary_cleaner.output.tail_au                      14149 non-null float64\n",
      "secondary_cleaner.state.floatbank2_a_air              13932 non-null float64\n",
      "secondary_cleaner.state.floatbank2_a_level            14148 non-null float64\n",
      "secondary_cleaner.state.floatbank2_b_air              14128 non-null float64\n",
      "secondary_cleaner.state.floatbank2_b_level            14148 non-null float64\n",
      "secondary_cleaner.state.floatbank3_a_air              14145 non-null float64\n",
      "secondary_cleaner.state.floatbank3_a_level            14148 non-null float64\n",
      "secondary_cleaner.state.floatbank3_b_air              14148 non-null float64\n",
      "secondary_cleaner.state.floatbank3_b_level            14148 non-null float64\n",
      "secondary_cleaner.state.floatbank4_a_air              14143 non-null float64\n",
      "secondary_cleaner.state.floatbank4_a_level            14148 non-null float64\n",
      "secondary_cleaner.state.floatbank4_b_air              14148 non-null float64\n",
      "secondary_cleaner.state.floatbank4_b_level            14148 non-null float64\n",
      "secondary_cleaner.state.floatbank5_a_air              14148 non-null float64\n",
      "secondary_cleaner.state.floatbank5_a_level            14148 non-null float64\n",
      "secondary_cleaner.state.floatbank5_b_air              14148 non-null float64\n",
      "secondary_cleaner.state.floatbank5_b_level            14148 non-null float64\n",
      "secondary_cleaner.state.floatbank6_a_air              14147 non-null float64\n",
      "secondary_cleaner.state.floatbank6_a_level            14148 non-null float64\n",
      "dtypes: float64(86)\n",
      "memory usage: 9.4 MB\n"
     ]
    }
   ],
   "source": [
    "train.info()"
   ]
  },
  {
   "cell_type": "markdown",
   "metadata": {},
   "source": [
    "Имеем датасет с 15 января 2016 г. по 18 августа 2018 г."
   ]
  },
  {
   "cell_type": "markdown",
   "metadata": {},
   "source": [
    "#### Test"
   ]
  },
  {
   "cell_type": "code",
   "execution_count": 8,
   "metadata": {},
   "outputs": [
    {
     "data": {
      "text/html": [
       "<div>\n",
       "<style scoped>\n",
       "    .dataframe tbody tr th:only-of-type {\n",
       "        vertical-align: middle;\n",
       "    }\n",
       "\n",
       "    .dataframe tbody tr th {\n",
       "        vertical-align: top;\n",
       "    }\n",
       "\n",
       "    .dataframe thead th {\n",
       "        text-align: right;\n",
       "    }\n",
       "</style>\n",
       "<table border=\"1\" class=\"dataframe\">\n",
       "  <thead>\n",
       "    <tr style=\"text-align: right;\">\n",
       "      <th></th>\n",
       "      <th>primary_cleaner.input.sulfate</th>\n",
       "      <th>primary_cleaner.input.depressant</th>\n",
       "      <th>primary_cleaner.input.feed_size</th>\n",
       "      <th>primary_cleaner.input.xanthate</th>\n",
       "      <th>primary_cleaner.state.floatbank8_a_air</th>\n",
       "      <th>primary_cleaner.state.floatbank8_a_level</th>\n",
       "      <th>primary_cleaner.state.floatbank8_b_air</th>\n",
       "      <th>primary_cleaner.state.floatbank8_b_level</th>\n",
       "      <th>primary_cleaner.state.floatbank8_c_air</th>\n",
       "      <th>primary_cleaner.state.floatbank8_c_level</th>\n",
       "      <th>...</th>\n",
       "      <th>secondary_cleaner.state.floatbank4_a_air</th>\n",
       "      <th>secondary_cleaner.state.floatbank4_a_level</th>\n",
       "      <th>secondary_cleaner.state.floatbank4_b_air</th>\n",
       "      <th>secondary_cleaner.state.floatbank4_b_level</th>\n",
       "      <th>secondary_cleaner.state.floatbank5_a_air</th>\n",
       "      <th>secondary_cleaner.state.floatbank5_a_level</th>\n",
       "      <th>secondary_cleaner.state.floatbank5_b_air</th>\n",
       "      <th>secondary_cleaner.state.floatbank5_b_level</th>\n",
       "      <th>secondary_cleaner.state.floatbank6_a_air</th>\n",
       "      <th>secondary_cleaner.state.floatbank6_a_level</th>\n",
       "    </tr>\n",
       "    <tr>\n",
       "      <th>date</th>\n",
       "      <th></th>\n",
       "      <th></th>\n",
       "      <th></th>\n",
       "      <th></th>\n",
       "      <th></th>\n",
       "      <th></th>\n",
       "      <th></th>\n",
       "      <th></th>\n",
       "      <th></th>\n",
       "      <th></th>\n",
       "      <th></th>\n",
       "      <th></th>\n",
       "      <th></th>\n",
       "      <th></th>\n",
       "      <th></th>\n",
       "      <th></th>\n",
       "      <th></th>\n",
       "      <th></th>\n",
       "      <th></th>\n",
       "      <th></th>\n",
       "      <th></th>\n",
       "    </tr>\n",
       "  </thead>\n",
       "  <tbody>\n",
       "    <tr>\n",
       "      <td>2016-09-01 00:59:59</td>\n",
       "      <td>210.800909</td>\n",
       "      <td>14.993118</td>\n",
       "      <td>8.080000</td>\n",
       "      <td>1.005021</td>\n",
       "      <td>1398.981301</td>\n",
       "      <td>-500.225577</td>\n",
       "      <td>1399.144926</td>\n",
       "      <td>-499.919735</td>\n",
       "      <td>1400.102998</td>\n",
       "      <td>-500.704369</td>\n",
       "      <td>...</td>\n",
       "      <td>12.023554</td>\n",
       "      <td>-497.795834</td>\n",
       "      <td>8.016656</td>\n",
       "      <td>-501.289139</td>\n",
       "      <td>7.946562</td>\n",
       "      <td>-432.317850</td>\n",
       "      <td>4.872511</td>\n",
       "      <td>-500.037437</td>\n",
       "      <td>26.705889</td>\n",
       "      <td>-499.709414</td>\n",
       "    </tr>\n",
       "    <tr>\n",
       "      <td>2016-09-01 01:59:59</td>\n",
       "      <td>215.392455</td>\n",
       "      <td>14.987471</td>\n",
       "      <td>8.080000</td>\n",
       "      <td>0.990469</td>\n",
       "      <td>1398.777912</td>\n",
       "      <td>-500.057435</td>\n",
       "      <td>1398.055362</td>\n",
       "      <td>-499.778182</td>\n",
       "      <td>1396.151033</td>\n",
       "      <td>-499.240168</td>\n",
       "      <td>...</td>\n",
       "      <td>12.058140</td>\n",
       "      <td>-498.695773</td>\n",
       "      <td>8.130979</td>\n",
       "      <td>-499.634209</td>\n",
       "      <td>7.958270</td>\n",
       "      <td>-525.839648</td>\n",
       "      <td>4.878850</td>\n",
       "      <td>-500.162375</td>\n",
       "      <td>25.019940</td>\n",
       "      <td>-499.819438</td>\n",
       "    </tr>\n",
       "    <tr>\n",
       "      <td>2016-09-01 02:59:59</td>\n",
       "      <td>215.259946</td>\n",
       "      <td>12.884934</td>\n",
       "      <td>7.786667</td>\n",
       "      <td>0.996043</td>\n",
       "      <td>1398.493666</td>\n",
       "      <td>-500.868360</td>\n",
       "      <td>1398.860436</td>\n",
       "      <td>-499.764529</td>\n",
       "      <td>1398.075709</td>\n",
       "      <td>-502.151509</td>\n",
       "      <td>...</td>\n",
       "      <td>11.962366</td>\n",
       "      <td>-498.767484</td>\n",
       "      <td>8.096893</td>\n",
       "      <td>-500.827423</td>\n",
       "      <td>8.071056</td>\n",
       "      <td>-500.801673</td>\n",
       "      <td>4.905125</td>\n",
       "      <td>-499.828510</td>\n",
       "      <td>24.994862</td>\n",
       "      <td>-500.622559</td>\n",
       "    </tr>\n",
       "    <tr>\n",
       "      <td>2016-09-01 03:59:59</td>\n",
       "      <td>215.336236</td>\n",
       "      <td>12.006805</td>\n",
       "      <td>7.640000</td>\n",
       "      <td>0.863514</td>\n",
       "      <td>1399.618111</td>\n",
       "      <td>-498.863574</td>\n",
       "      <td>1397.440120</td>\n",
       "      <td>-499.211024</td>\n",
       "      <td>1400.129303</td>\n",
       "      <td>-498.355873</td>\n",
       "      <td>...</td>\n",
       "      <td>12.033091</td>\n",
       "      <td>-498.350935</td>\n",
       "      <td>8.074946</td>\n",
       "      <td>-499.474407</td>\n",
       "      <td>7.897085</td>\n",
       "      <td>-500.868509</td>\n",
       "      <td>4.931400</td>\n",
       "      <td>-499.963623</td>\n",
       "      <td>24.948919</td>\n",
       "      <td>-498.709987</td>\n",
       "    </tr>\n",
       "    <tr>\n",
       "      <td>2016-09-01 04:59:59</td>\n",
       "      <td>199.099327</td>\n",
       "      <td>10.682530</td>\n",
       "      <td>7.530000</td>\n",
       "      <td>0.805575</td>\n",
       "      <td>1401.268123</td>\n",
       "      <td>-500.808305</td>\n",
       "      <td>1398.128818</td>\n",
       "      <td>-499.504543</td>\n",
       "      <td>1402.172226</td>\n",
       "      <td>-500.810606</td>\n",
       "      <td>...</td>\n",
       "      <td>12.025367</td>\n",
       "      <td>-500.786497</td>\n",
       "      <td>8.054678</td>\n",
       "      <td>-500.397500</td>\n",
       "      <td>8.107890</td>\n",
       "      <td>-509.526725</td>\n",
       "      <td>4.957674</td>\n",
       "      <td>-500.360026</td>\n",
       "      <td>25.003331</td>\n",
       "      <td>-500.856333</td>\n",
       "    </tr>\n",
       "  </tbody>\n",
       "</table>\n",
       "<p>5 rows × 52 columns</p>\n",
       "</div>"
      ],
      "text/plain": [
       "                     primary_cleaner.input.sulfate  \\\n",
       "date                                                 \n",
       "2016-09-01 00:59:59                     210.800909   \n",
       "2016-09-01 01:59:59                     215.392455   \n",
       "2016-09-01 02:59:59                     215.259946   \n",
       "2016-09-01 03:59:59                     215.336236   \n",
       "2016-09-01 04:59:59                     199.099327   \n",
       "\n",
       "                     primary_cleaner.input.depressant  \\\n",
       "date                                                    \n",
       "2016-09-01 00:59:59                         14.993118   \n",
       "2016-09-01 01:59:59                         14.987471   \n",
       "2016-09-01 02:59:59                         12.884934   \n",
       "2016-09-01 03:59:59                         12.006805   \n",
       "2016-09-01 04:59:59                         10.682530   \n",
       "\n",
       "                     primary_cleaner.input.feed_size  \\\n",
       "date                                                   \n",
       "2016-09-01 00:59:59                         8.080000   \n",
       "2016-09-01 01:59:59                         8.080000   \n",
       "2016-09-01 02:59:59                         7.786667   \n",
       "2016-09-01 03:59:59                         7.640000   \n",
       "2016-09-01 04:59:59                         7.530000   \n",
       "\n",
       "                     primary_cleaner.input.xanthate  \\\n",
       "date                                                  \n",
       "2016-09-01 00:59:59                        1.005021   \n",
       "2016-09-01 01:59:59                        0.990469   \n",
       "2016-09-01 02:59:59                        0.996043   \n",
       "2016-09-01 03:59:59                        0.863514   \n",
       "2016-09-01 04:59:59                        0.805575   \n",
       "\n",
       "                     primary_cleaner.state.floatbank8_a_air  \\\n",
       "date                                                          \n",
       "2016-09-01 00:59:59                             1398.981301   \n",
       "2016-09-01 01:59:59                             1398.777912   \n",
       "2016-09-01 02:59:59                             1398.493666   \n",
       "2016-09-01 03:59:59                             1399.618111   \n",
       "2016-09-01 04:59:59                             1401.268123   \n",
       "\n",
       "                     primary_cleaner.state.floatbank8_a_level  \\\n",
       "date                                                            \n",
       "2016-09-01 00:59:59                               -500.225577   \n",
       "2016-09-01 01:59:59                               -500.057435   \n",
       "2016-09-01 02:59:59                               -500.868360   \n",
       "2016-09-01 03:59:59                               -498.863574   \n",
       "2016-09-01 04:59:59                               -500.808305   \n",
       "\n",
       "                     primary_cleaner.state.floatbank8_b_air  \\\n",
       "date                                                          \n",
       "2016-09-01 00:59:59                             1399.144926   \n",
       "2016-09-01 01:59:59                             1398.055362   \n",
       "2016-09-01 02:59:59                             1398.860436   \n",
       "2016-09-01 03:59:59                             1397.440120   \n",
       "2016-09-01 04:59:59                             1398.128818   \n",
       "\n",
       "                     primary_cleaner.state.floatbank8_b_level  \\\n",
       "date                                                            \n",
       "2016-09-01 00:59:59                               -499.919735   \n",
       "2016-09-01 01:59:59                               -499.778182   \n",
       "2016-09-01 02:59:59                               -499.764529   \n",
       "2016-09-01 03:59:59                               -499.211024   \n",
       "2016-09-01 04:59:59                               -499.504543   \n",
       "\n",
       "                     primary_cleaner.state.floatbank8_c_air  \\\n",
       "date                                                          \n",
       "2016-09-01 00:59:59                             1400.102998   \n",
       "2016-09-01 01:59:59                             1396.151033   \n",
       "2016-09-01 02:59:59                             1398.075709   \n",
       "2016-09-01 03:59:59                             1400.129303   \n",
       "2016-09-01 04:59:59                             1402.172226   \n",
       "\n",
       "                     primary_cleaner.state.floatbank8_c_level  ...  \\\n",
       "date                                                           ...   \n",
       "2016-09-01 00:59:59                               -500.704369  ...   \n",
       "2016-09-01 01:59:59                               -499.240168  ...   \n",
       "2016-09-01 02:59:59                               -502.151509  ...   \n",
       "2016-09-01 03:59:59                               -498.355873  ...   \n",
       "2016-09-01 04:59:59                               -500.810606  ...   \n",
       "\n",
       "                     secondary_cleaner.state.floatbank4_a_air  \\\n",
       "date                                                            \n",
       "2016-09-01 00:59:59                                 12.023554   \n",
       "2016-09-01 01:59:59                                 12.058140   \n",
       "2016-09-01 02:59:59                                 11.962366   \n",
       "2016-09-01 03:59:59                                 12.033091   \n",
       "2016-09-01 04:59:59                                 12.025367   \n",
       "\n",
       "                     secondary_cleaner.state.floatbank4_a_level  \\\n",
       "date                                                              \n",
       "2016-09-01 00:59:59                                 -497.795834   \n",
       "2016-09-01 01:59:59                                 -498.695773   \n",
       "2016-09-01 02:59:59                                 -498.767484   \n",
       "2016-09-01 03:59:59                                 -498.350935   \n",
       "2016-09-01 04:59:59                                 -500.786497   \n",
       "\n",
       "                     secondary_cleaner.state.floatbank4_b_air  \\\n",
       "date                                                            \n",
       "2016-09-01 00:59:59                                  8.016656   \n",
       "2016-09-01 01:59:59                                  8.130979   \n",
       "2016-09-01 02:59:59                                  8.096893   \n",
       "2016-09-01 03:59:59                                  8.074946   \n",
       "2016-09-01 04:59:59                                  8.054678   \n",
       "\n",
       "                     secondary_cleaner.state.floatbank4_b_level  \\\n",
       "date                                                              \n",
       "2016-09-01 00:59:59                                 -501.289139   \n",
       "2016-09-01 01:59:59                                 -499.634209   \n",
       "2016-09-01 02:59:59                                 -500.827423   \n",
       "2016-09-01 03:59:59                                 -499.474407   \n",
       "2016-09-01 04:59:59                                 -500.397500   \n",
       "\n",
       "                     secondary_cleaner.state.floatbank5_a_air  \\\n",
       "date                                                            \n",
       "2016-09-01 00:59:59                                  7.946562   \n",
       "2016-09-01 01:59:59                                  7.958270   \n",
       "2016-09-01 02:59:59                                  8.071056   \n",
       "2016-09-01 03:59:59                                  7.897085   \n",
       "2016-09-01 04:59:59                                  8.107890   \n",
       "\n",
       "                     secondary_cleaner.state.floatbank5_a_level  \\\n",
       "date                                                              \n",
       "2016-09-01 00:59:59                                 -432.317850   \n",
       "2016-09-01 01:59:59                                 -525.839648   \n",
       "2016-09-01 02:59:59                                 -500.801673   \n",
       "2016-09-01 03:59:59                                 -500.868509   \n",
       "2016-09-01 04:59:59                                 -509.526725   \n",
       "\n",
       "                     secondary_cleaner.state.floatbank5_b_air  \\\n",
       "date                                                            \n",
       "2016-09-01 00:59:59                                  4.872511   \n",
       "2016-09-01 01:59:59                                  4.878850   \n",
       "2016-09-01 02:59:59                                  4.905125   \n",
       "2016-09-01 03:59:59                                  4.931400   \n",
       "2016-09-01 04:59:59                                  4.957674   \n",
       "\n",
       "                     secondary_cleaner.state.floatbank5_b_level  \\\n",
       "date                                                              \n",
       "2016-09-01 00:59:59                                 -500.037437   \n",
       "2016-09-01 01:59:59                                 -500.162375   \n",
       "2016-09-01 02:59:59                                 -499.828510   \n",
       "2016-09-01 03:59:59                                 -499.963623   \n",
       "2016-09-01 04:59:59                                 -500.360026   \n",
       "\n",
       "                     secondary_cleaner.state.floatbank6_a_air  \\\n",
       "date                                                            \n",
       "2016-09-01 00:59:59                                 26.705889   \n",
       "2016-09-01 01:59:59                                 25.019940   \n",
       "2016-09-01 02:59:59                                 24.994862   \n",
       "2016-09-01 03:59:59                                 24.948919   \n",
       "2016-09-01 04:59:59                                 25.003331   \n",
       "\n",
       "                     secondary_cleaner.state.floatbank6_a_level  \n",
       "date                                                             \n",
       "2016-09-01 00:59:59                                 -499.709414  \n",
       "2016-09-01 01:59:59                                 -499.819438  \n",
       "2016-09-01 02:59:59                                 -500.622559  \n",
       "2016-09-01 03:59:59                                 -498.709987  \n",
       "2016-09-01 04:59:59                                 -500.856333  \n",
       "\n",
       "[5 rows x 52 columns]"
      ]
     },
     "metadata": {},
     "output_type": "display_data"
    }
   ],
   "source": [
    "test = pd.read_csv('/datasets/gold_recovery_test_new.csv', index_col='date', parse_dates=True)\n",
    "display(test.head())"
   ]
  },
  {
   "cell_type": "code",
   "execution_count": 9,
   "metadata": {},
   "outputs": [
    {
     "name": "stdout",
     "output_type": "stream",
     "text": [
      "<class 'pandas.core.frame.DataFrame'>\n",
      "DatetimeIndex: 5290 entries, 2016-09-01 00:59:59 to 2017-12-31 23:59:59\n",
      "Data columns (total 52 columns):\n",
      "primary_cleaner.input.sulfate                 5286 non-null float64\n",
      "primary_cleaner.input.depressant              5285 non-null float64\n",
      "primary_cleaner.input.feed_size               5290 non-null float64\n",
      "primary_cleaner.input.xanthate                5286 non-null float64\n",
      "primary_cleaner.state.floatbank8_a_air        5290 non-null float64\n",
      "primary_cleaner.state.floatbank8_a_level      5290 non-null float64\n",
      "primary_cleaner.state.floatbank8_b_air        5290 non-null float64\n",
      "primary_cleaner.state.floatbank8_b_level      5290 non-null float64\n",
      "primary_cleaner.state.floatbank8_c_air        5290 non-null float64\n",
      "primary_cleaner.state.floatbank8_c_level      5290 non-null float64\n",
      "primary_cleaner.state.floatbank8_d_air        5290 non-null float64\n",
      "primary_cleaner.state.floatbank8_d_level      5290 non-null float64\n",
      "rougher.input.feed_ag                         5290 non-null float64\n",
      "rougher.input.feed_pb                         5290 non-null float64\n",
      "rougher.input.feed_rate                       5287 non-null float64\n",
      "rougher.input.feed_size                       5289 non-null float64\n",
      "rougher.input.feed_sol                        5269 non-null float64\n",
      "rougher.input.feed_au                         5290 non-null float64\n",
      "rougher.input.floatbank10_sulfate             5285 non-null float64\n",
      "rougher.input.floatbank10_xanthate            5290 non-null float64\n",
      "rougher.input.floatbank11_sulfate             5282 non-null float64\n",
      "rougher.input.floatbank11_xanthate            5265 non-null float64\n",
      "rougher.state.floatbank10_a_air               5290 non-null float64\n",
      "rougher.state.floatbank10_a_level             5290 non-null float64\n",
      "rougher.state.floatbank10_b_air               5290 non-null float64\n",
      "rougher.state.floatbank10_b_level             5290 non-null float64\n",
      "rougher.state.floatbank10_c_air               5290 non-null float64\n",
      "rougher.state.floatbank10_c_level             5290 non-null float64\n",
      "rougher.state.floatbank10_d_air               5290 non-null float64\n",
      "rougher.state.floatbank10_d_level             5290 non-null float64\n",
      "rougher.state.floatbank10_e_air               5290 non-null float64\n",
      "rougher.state.floatbank10_e_level             5290 non-null float64\n",
      "rougher.state.floatbank10_f_air               5290 non-null float64\n",
      "rougher.state.floatbank10_f_level             5290 non-null float64\n",
      "secondary_cleaner.state.floatbank2_a_air      5287 non-null float64\n",
      "secondary_cleaner.state.floatbank2_a_level    5290 non-null float64\n",
      "secondary_cleaner.state.floatbank2_b_air      5288 non-null float64\n",
      "secondary_cleaner.state.floatbank2_b_level    5290 non-null float64\n",
      "secondary_cleaner.state.floatbank3_a_air      5281 non-null float64\n",
      "secondary_cleaner.state.floatbank3_a_level    5290 non-null float64\n",
      "secondary_cleaner.state.floatbank3_b_air      5290 non-null float64\n",
      "secondary_cleaner.state.floatbank3_b_level    5290 non-null float64\n",
      "secondary_cleaner.state.floatbank4_a_air      5290 non-null float64\n",
      "secondary_cleaner.state.floatbank4_a_level    5290 non-null float64\n",
      "secondary_cleaner.state.floatbank4_b_air      5290 non-null float64\n",
      "secondary_cleaner.state.floatbank4_b_level    5290 non-null float64\n",
      "secondary_cleaner.state.floatbank5_a_air      5290 non-null float64\n",
      "secondary_cleaner.state.floatbank5_a_level    5290 non-null float64\n",
      "secondary_cleaner.state.floatbank5_b_air      5290 non-null float64\n",
      "secondary_cleaner.state.floatbank5_b_level    5290 non-null float64\n",
      "secondary_cleaner.state.floatbank6_a_air      5290 non-null float64\n",
      "secondary_cleaner.state.floatbank6_a_level    5290 non-null float64\n",
      "dtypes: float64(52)\n",
      "memory usage: 2.1 MB\n"
     ]
    }
   ],
   "source": [
    "test.info()"
   ]
  },
  {
   "cell_type": "code",
   "execution_count": 10,
   "metadata": {},
   "outputs": [
    {
     "data": {
      "text/plain": [
       "0"
      ]
     },
     "execution_count": 10,
     "metadata": {},
     "output_type": "execute_result"
    }
   ],
   "source": [
    "train.duplicated().sum()"
   ]
  },
  {
   "cell_type": "markdown",
   "metadata": {},
   "source": [
    "Тестовая выборка состоит из 52 столбцов, 5290 строк. Пропуски есть.\n",
    "\n",
    "Известно, что в тестовом наборе нет целевых признаков."
   ]
  },
  {
   "cell_type": "markdown",
   "metadata": {},
   "source": [
    "Тестовая выборка стартует 01 сентября 2016 г. и заканчивается 31 декабря 2017 г."
   ]
  },
  {
   "cell_type": "markdown",
   "metadata": {},
   "source": [
    "#### Full"
   ]
  },
  {
   "cell_type": "code",
   "execution_count": 11,
   "metadata": {},
   "outputs": [
    {
     "data": {
      "text/html": [
       "<div>\n",
       "<style scoped>\n",
       "    .dataframe tbody tr th:only-of-type {\n",
       "        vertical-align: middle;\n",
       "    }\n",
       "\n",
       "    .dataframe tbody tr th {\n",
       "        vertical-align: top;\n",
       "    }\n",
       "\n",
       "    .dataframe thead th {\n",
       "        text-align: right;\n",
       "    }\n",
       "</style>\n",
       "<table border=\"1\" class=\"dataframe\">\n",
       "  <thead>\n",
       "    <tr style=\"text-align: right;\">\n",
       "      <th></th>\n",
       "      <th>final.output.concentrate_ag</th>\n",
       "      <th>final.output.concentrate_pb</th>\n",
       "      <th>final.output.concentrate_sol</th>\n",
       "      <th>final.output.concentrate_au</th>\n",
       "      <th>final.output.recovery</th>\n",
       "      <th>final.output.tail_ag</th>\n",
       "      <th>final.output.tail_pb</th>\n",
       "      <th>final.output.tail_sol</th>\n",
       "      <th>final.output.tail_au</th>\n",
       "      <th>primary_cleaner.input.sulfate</th>\n",
       "      <th>...</th>\n",
       "      <th>secondary_cleaner.state.floatbank4_a_air</th>\n",
       "      <th>secondary_cleaner.state.floatbank4_a_level</th>\n",
       "      <th>secondary_cleaner.state.floatbank4_b_air</th>\n",
       "      <th>secondary_cleaner.state.floatbank4_b_level</th>\n",
       "      <th>secondary_cleaner.state.floatbank5_a_air</th>\n",
       "      <th>secondary_cleaner.state.floatbank5_a_level</th>\n",
       "      <th>secondary_cleaner.state.floatbank5_b_air</th>\n",
       "      <th>secondary_cleaner.state.floatbank5_b_level</th>\n",
       "      <th>secondary_cleaner.state.floatbank6_a_air</th>\n",
       "      <th>secondary_cleaner.state.floatbank6_a_level</th>\n",
       "    </tr>\n",
       "    <tr>\n",
       "      <th>date</th>\n",
       "      <th></th>\n",
       "      <th></th>\n",
       "      <th></th>\n",
       "      <th></th>\n",
       "      <th></th>\n",
       "      <th></th>\n",
       "      <th></th>\n",
       "      <th></th>\n",
       "      <th></th>\n",
       "      <th></th>\n",
       "      <th></th>\n",
       "      <th></th>\n",
       "      <th></th>\n",
       "      <th></th>\n",
       "      <th></th>\n",
       "      <th></th>\n",
       "      <th></th>\n",
       "      <th></th>\n",
       "      <th></th>\n",
       "      <th></th>\n",
       "      <th></th>\n",
       "    </tr>\n",
       "  </thead>\n",
       "  <tbody>\n",
       "    <tr>\n",
       "      <td>2016-01-15 00:00:00</td>\n",
       "      <td>6.055403</td>\n",
       "      <td>9.889648</td>\n",
       "      <td>5.507324</td>\n",
       "      <td>42.192020</td>\n",
       "      <td>70.541216</td>\n",
       "      <td>10.411962</td>\n",
       "      <td>0.895447</td>\n",
       "      <td>16.904297</td>\n",
       "      <td>2.143149</td>\n",
       "      <td>127.092003</td>\n",
       "      <td>...</td>\n",
       "      <td>14.016835</td>\n",
       "      <td>-502.488007</td>\n",
       "      <td>12.099931</td>\n",
       "      <td>-504.715942</td>\n",
       "      <td>9.925633</td>\n",
       "      <td>-498.310211</td>\n",
       "      <td>8.079666</td>\n",
       "      <td>-500.470978</td>\n",
       "      <td>14.151341</td>\n",
       "      <td>-605.841980</td>\n",
       "    </tr>\n",
       "    <tr>\n",
       "      <td>2016-01-15 01:00:00</td>\n",
       "      <td>6.029369</td>\n",
       "      <td>9.968944</td>\n",
       "      <td>5.257781</td>\n",
       "      <td>42.701629</td>\n",
       "      <td>69.266198</td>\n",
       "      <td>10.462676</td>\n",
       "      <td>0.927452</td>\n",
       "      <td>16.634514</td>\n",
       "      <td>2.224930</td>\n",
       "      <td>125.629232</td>\n",
       "      <td>...</td>\n",
       "      <td>13.992281</td>\n",
       "      <td>-505.503262</td>\n",
       "      <td>11.950531</td>\n",
       "      <td>-501.331529</td>\n",
       "      <td>10.039245</td>\n",
       "      <td>-500.169983</td>\n",
       "      <td>7.984757</td>\n",
       "      <td>-500.582168</td>\n",
       "      <td>13.998353</td>\n",
       "      <td>-599.787184</td>\n",
       "    </tr>\n",
       "    <tr>\n",
       "      <td>2016-01-15 02:00:00</td>\n",
       "      <td>6.055926</td>\n",
       "      <td>10.213995</td>\n",
       "      <td>5.383759</td>\n",
       "      <td>42.657501</td>\n",
       "      <td>68.116445</td>\n",
       "      <td>10.507046</td>\n",
       "      <td>0.953716</td>\n",
       "      <td>16.208849</td>\n",
       "      <td>2.257889</td>\n",
       "      <td>123.819808</td>\n",
       "      <td>...</td>\n",
       "      <td>14.015015</td>\n",
       "      <td>-502.520901</td>\n",
       "      <td>11.912783</td>\n",
       "      <td>-501.133383</td>\n",
       "      <td>10.070913</td>\n",
       "      <td>-500.129135</td>\n",
       "      <td>8.013877</td>\n",
       "      <td>-500.517572</td>\n",
       "      <td>14.028663</td>\n",
       "      <td>-601.427363</td>\n",
       "    </tr>\n",
       "    <tr>\n",
       "      <td>2016-01-15 03:00:00</td>\n",
       "      <td>6.047977</td>\n",
       "      <td>9.977019</td>\n",
       "      <td>4.858634</td>\n",
       "      <td>42.689819</td>\n",
       "      <td>68.347543</td>\n",
       "      <td>10.422762</td>\n",
       "      <td>0.883763</td>\n",
       "      <td>16.532835</td>\n",
       "      <td>2.146849</td>\n",
       "      <td>122.270188</td>\n",
       "      <td>...</td>\n",
       "      <td>14.036510</td>\n",
       "      <td>-500.857308</td>\n",
       "      <td>11.999550</td>\n",
       "      <td>-501.193686</td>\n",
       "      <td>9.970366</td>\n",
       "      <td>-499.201640</td>\n",
       "      <td>7.977324</td>\n",
       "      <td>-500.255908</td>\n",
       "      <td>14.005551</td>\n",
       "      <td>-599.996129</td>\n",
       "    </tr>\n",
       "    <tr>\n",
       "      <td>2016-01-15 04:00:00</td>\n",
       "      <td>6.148599</td>\n",
       "      <td>10.142511</td>\n",
       "      <td>4.939416</td>\n",
       "      <td>42.774141</td>\n",
       "      <td>66.927016</td>\n",
       "      <td>10.360302</td>\n",
       "      <td>0.792826</td>\n",
       "      <td>16.525686</td>\n",
       "      <td>2.055292</td>\n",
       "      <td>117.988169</td>\n",
       "      <td>...</td>\n",
       "      <td>14.027298</td>\n",
       "      <td>-499.838632</td>\n",
       "      <td>11.953070</td>\n",
       "      <td>-501.053894</td>\n",
       "      <td>9.925709</td>\n",
       "      <td>-501.686727</td>\n",
       "      <td>7.894242</td>\n",
       "      <td>-500.356035</td>\n",
       "      <td>13.996647</td>\n",
       "      <td>-601.496691</td>\n",
       "    </tr>\n",
       "  </tbody>\n",
       "</table>\n",
       "<p>5 rows × 86 columns</p>\n",
       "</div>"
      ],
      "text/plain": [
       "                     final.output.concentrate_ag  final.output.concentrate_pb  \\\n",
       "date                                                                            \n",
       "2016-01-15 00:00:00                     6.055403                     9.889648   \n",
       "2016-01-15 01:00:00                     6.029369                     9.968944   \n",
       "2016-01-15 02:00:00                     6.055926                    10.213995   \n",
       "2016-01-15 03:00:00                     6.047977                     9.977019   \n",
       "2016-01-15 04:00:00                     6.148599                    10.142511   \n",
       "\n",
       "                     final.output.concentrate_sol  \\\n",
       "date                                                \n",
       "2016-01-15 00:00:00                      5.507324   \n",
       "2016-01-15 01:00:00                      5.257781   \n",
       "2016-01-15 02:00:00                      5.383759   \n",
       "2016-01-15 03:00:00                      4.858634   \n",
       "2016-01-15 04:00:00                      4.939416   \n",
       "\n",
       "                     final.output.concentrate_au  final.output.recovery  \\\n",
       "date                                                                      \n",
       "2016-01-15 00:00:00                    42.192020              70.541216   \n",
       "2016-01-15 01:00:00                    42.701629              69.266198   \n",
       "2016-01-15 02:00:00                    42.657501              68.116445   \n",
       "2016-01-15 03:00:00                    42.689819              68.347543   \n",
       "2016-01-15 04:00:00                    42.774141              66.927016   \n",
       "\n",
       "                     final.output.tail_ag  final.output.tail_pb  \\\n",
       "date                                                              \n",
       "2016-01-15 00:00:00             10.411962              0.895447   \n",
       "2016-01-15 01:00:00             10.462676              0.927452   \n",
       "2016-01-15 02:00:00             10.507046              0.953716   \n",
       "2016-01-15 03:00:00             10.422762              0.883763   \n",
       "2016-01-15 04:00:00             10.360302              0.792826   \n",
       "\n",
       "                     final.output.tail_sol  final.output.tail_au  \\\n",
       "date                                                               \n",
       "2016-01-15 00:00:00              16.904297              2.143149   \n",
       "2016-01-15 01:00:00              16.634514              2.224930   \n",
       "2016-01-15 02:00:00              16.208849              2.257889   \n",
       "2016-01-15 03:00:00              16.532835              2.146849   \n",
       "2016-01-15 04:00:00              16.525686              2.055292   \n",
       "\n",
       "                     primary_cleaner.input.sulfate  ...  \\\n",
       "date                                                ...   \n",
       "2016-01-15 00:00:00                     127.092003  ...   \n",
       "2016-01-15 01:00:00                     125.629232  ...   \n",
       "2016-01-15 02:00:00                     123.819808  ...   \n",
       "2016-01-15 03:00:00                     122.270188  ...   \n",
       "2016-01-15 04:00:00                     117.988169  ...   \n",
       "\n",
       "                     secondary_cleaner.state.floatbank4_a_air  \\\n",
       "date                                                            \n",
       "2016-01-15 00:00:00                                 14.016835   \n",
       "2016-01-15 01:00:00                                 13.992281   \n",
       "2016-01-15 02:00:00                                 14.015015   \n",
       "2016-01-15 03:00:00                                 14.036510   \n",
       "2016-01-15 04:00:00                                 14.027298   \n",
       "\n",
       "                     secondary_cleaner.state.floatbank4_a_level  \\\n",
       "date                                                              \n",
       "2016-01-15 00:00:00                                 -502.488007   \n",
       "2016-01-15 01:00:00                                 -505.503262   \n",
       "2016-01-15 02:00:00                                 -502.520901   \n",
       "2016-01-15 03:00:00                                 -500.857308   \n",
       "2016-01-15 04:00:00                                 -499.838632   \n",
       "\n",
       "                     secondary_cleaner.state.floatbank4_b_air  \\\n",
       "date                                                            \n",
       "2016-01-15 00:00:00                                 12.099931   \n",
       "2016-01-15 01:00:00                                 11.950531   \n",
       "2016-01-15 02:00:00                                 11.912783   \n",
       "2016-01-15 03:00:00                                 11.999550   \n",
       "2016-01-15 04:00:00                                 11.953070   \n",
       "\n",
       "                     secondary_cleaner.state.floatbank4_b_level  \\\n",
       "date                                                              \n",
       "2016-01-15 00:00:00                                 -504.715942   \n",
       "2016-01-15 01:00:00                                 -501.331529   \n",
       "2016-01-15 02:00:00                                 -501.133383   \n",
       "2016-01-15 03:00:00                                 -501.193686   \n",
       "2016-01-15 04:00:00                                 -501.053894   \n",
       "\n",
       "                     secondary_cleaner.state.floatbank5_a_air  \\\n",
       "date                                                            \n",
       "2016-01-15 00:00:00                                  9.925633   \n",
       "2016-01-15 01:00:00                                 10.039245   \n",
       "2016-01-15 02:00:00                                 10.070913   \n",
       "2016-01-15 03:00:00                                  9.970366   \n",
       "2016-01-15 04:00:00                                  9.925709   \n",
       "\n",
       "                     secondary_cleaner.state.floatbank5_a_level  \\\n",
       "date                                                              \n",
       "2016-01-15 00:00:00                                 -498.310211   \n",
       "2016-01-15 01:00:00                                 -500.169983   \n",
       "2016-01-15 02:00:00                                 -500.129135   \n",
       "2016-01-15 03:00:00                                 -499.201640   \n",
       "2016-01-15 04:00:00                                 -501.686727   \n",
       "\n",
       "                     secondary_cleaner.state.floatbank5_b_air  \\\n",
       "date                                                            \n",
       "2016-01-15 00:00:00                                  8.079666   \n",
       "2016-01-15 01:00:00                                  7.984757   \n",
       "2016-01-15 02:00:00                                  8.013877   \n",
       "2016-01-15 03:00:00                                  7.977324   \n",
       "2016-01-15 04:00:00                                  7.894242   \n",
       "\n",
       "                     secondary_cleaner.state.floatbank5_b_level  \\\n",
       "date                                                              \n",
       "2016-01-15 00:00:00                                 -500.470978   \n",
       "2016-01-15 01:00:00                                 -500.582168   \n",
       "2016-01-15 02:00:00                                 -500.517572   \n",
       "2016-01-15 03:00:00                                 -500.255908   \n",
       "2016-01-15 04:00:00                                 -500.356035   \n",
       "\n",
       "                     secondary_cleaner.state.floatbank6_a_air  \\\n",
       "date                                                            \n",
       "2016-01-15 00:00:00                                 14.151341   \n",
       "2016-01-15 01:00:00                                 13.998353   \n",
       "2016-01-15 02:00:00                                 14.028663   \n",
       "2016-01-15 03:00:00                                 14.005551   \n",
       "2016-01-15 04:00:00                                 13.996647   \n",
       "\n",
       "                     secondary_cleaner.state.floatbank6_a_level  \n",
       "date                                                             \n",
       "2016-01-15 00:00:00                                 -605.841980  \n",
       "2016-01-15 01:00:00                                 -599.787184  \n",
       "2016-01-15 02:00:00                                 -601.427363  \n",
       "2016-01-15 03:00:00                                 -599.996129  \n",
       "2016-01-15 04:00:00                                 -601.496691  \n",
       "\n",
       "[5 rows x 86 columns]"
      ]
     },
     "metadata": {},
     "output_type": "display_data"
    }
   ],
   "source": [
    "full = pd.read_csv('/datasets/gold_recovery_full_new.csv', index_col='date', parse_dates=True)\n",
    "display(full.head())"
   ]
  },
  {
   "cell_type": "code",
   "execution_count": 12,
   "metadata": {},
   "outputs": [
    {
     "name": "stdout",
     "output_type": "stream",
     "text": [
      "<class 'pandas.core.frame.DataFrame'>\n",
      "DatetimeIndex: 19439 entries, 2016-01-15 00:00:00 to 2018-08-18 10:59:59\n",
      "Data columns (total 86 columns):\n",
      "final.output.concentrate_ag                           19438 non-null float64\n",
      "final.output.concentrate_pb                           19438 non-null float64\n",
      "final.output.concentrate_sol                          19228 non-null float64\n",
      "final.output.concentrate_au                           19439 non-null float64\n",
      "final.output.recovery                                 19439 non-null float64\n",
      "final.output.tail_ag                                  19438 non-null float64\n",
      "final.output.tail_pb                                  19338 non-null float64\n",
      "final.output.tail_sol                                 19433 non-null float64\n",
      "final.output.tail_au                                  19439 non-null float64\n",
      "primary_cleaner.input.sulfate                         19415 non-null float64\n",
      "primary_cleaner.input.depressant                      19402 non-null float64\n",
      "primary_cleaner.input.feed_size                       19439 non-null float64\n",
      "primary_cleaner.input.xanthate                        19335 non-null float64\n",
      "primary_cleaner.output.concentrate_ag                 19439 non-null float64\n",
      "primary_cleaner.output.concentrate_pb                 19323 non-null float64\n",
      "primary_cleaner.output.concentrate_sol                19069 non-null float64\n",
      "primary_cleaner.output.concentrate_au                 19439 non-null float64\n",
      "primary_cleaner.output.tail_ag                        19435 non-null float64\n",
      "primary_cleaner.output.tail_pb                        19418 non-null float64\n",
      "primary_cleaner.output.tail_sol                       19377 non-null float64\n",
      "primary_cleaner.output.tail_au                        19439 non-null float64\n",
      "primary_cleaner.state.floatbank8_a_air                19435 non-null float64\n",
      "primary_cleaner.state.floatbank8_a_level              19438 non-null float64\n",
      "primary_cleaner.state.floatbank8_b_air                19435 non-null float64\n",
      "primary_cleaner.state.floatbank8_b_level              19438 non-null float64\n",
      "primary_cleaner.state.floatbank8_c_air                19437 non-null float64\n",
      "primary_cleaner.state.floatbank8_c_level              19438 non-null float64\n",
      "primary_cleaner.state.floatbank8_d_air                19436 non-null float64\n",
      "primary_cleaner.state.floatbank8_d_level              19438 non-null float64\n",
      "rougher.calculation.sulfate_to_au_concentrate         19437 non-null float64\n",
      "rougher.calculation.floatbank10_sulfate_to_au_feed    19437 non-null float64\n",
      "rougher.calculation.floatbank11_sulfate_to_au_feed    19437 non-null float64\n",
      "rougher.calculation.au_pb_ratio                       19439 non-null float64\n",
      "rougher.input.feed_ag                                 19439 non-null float64\n",
      "rougher.input.feed_pb                                 19339 non-null float64\n",
      "rougher.input.feed_rate                               19428 non-null float64\n",
      "rougher.input.feed_size                               19294 non-null float64\n",
      "rougher.input.feed_sol                                19340 non-null float64\n",
      "rougher.input.feed_au                                 19439 non-null float64\n",
      "rougher.input.floatbank10_sulfate                     19405 non-null float64\n",
      "rougher.input.floatbank10_xanthate                    19431 non-null float64\n",
      "rougher.input.floatbank11_sulfate                     19395 non-null float64\n",
      "rougher.input.floatbank11_xanthate                    18986 non-null float64\n",
      "rougher.output.concentrate_ag                         19439 non-null float64\n",
      "rougher.output.concentrate_pb                         19439 non-null float64\n",
      "rougher.output.concentrate_sol                        19416 non-null float64\n",
      "rougher.output.concentrate_au                         19439 non-null float64\n",
      "rougher.output.recovery                               19439 non-null float64\n",
      "rougher.output.tail_ag                                19438 non-null float64\n",
      "rougher.output.tail_pb                                19439 non-null float64\n",
      "rougher.output.tail_sol                               19439 non-null float64\n",
      "rougher.output.tail_au                                19439 non-null float64\n",
      "rougher.state.floatbank10_a_air                       19438 non-null float64\n",
      "rougher.state.floatbank10_a_level                     19438 non-null float64\n",
      "rougher.state.floatbank10_b_air                       19438 non-null float64\n",
      "rougher.state.floatbank10_b_level                     19438 non-null float64\n",
      "rougher.state.floatbank10_c_air                       19438 non-null float64\n",
      "rougher.state.floatbank10_c_level                     19438 non-null float64\n",
      "rougher.state.floatbank10_d_air                       19439 non-null float64\n",
      "rougher.state.floatbank10_d_level                     19439 non-null float64\n",
      "rougher.state.floatbank10_e_air                       19003 non-null float64\n",
      "rougher.state.floatbank10_e_level                     19439 non-null float64\n",
      "rougher.state.floatbank10_f_air                       19439 non-null float64\n",
      "rougher.state.floatbank10_f_level                     19439 non-null float64\n",
      "secondary_cleaner.output.tail_ag                      19437 non-null float64\n",
      "secondary_cleaner.output.tail_pb                      19427 non-null float64\n",
      "secondary_cleaner.output.tail_sol                     17691 non-null float64\n",
      "secondary_cleaner.output.tail_au                      19439 non-null float64\n",
      "secondary_cleaner.state.floatbank2_a_air              19219 non-null float64\n",
      "secondary_cleaner.state.floatbank2_a_level            19438 non-null float64\n",
      "secondary_cleaner.state.floatbank2_b_air              19416 non-null float64\n",
      "secondary_cleaner.state.floatbank2_b_level            19438 non-null float64\n",
      "secondary_cleaner.state.floatbank3_a_air              19426 non-null float64\n",
      "secondary_cleaner.state.floatbank3_a_level            19438 non-null float64\n",
      "secondary_cleaner.state.floatbank3_b_air              19438 non-null float64\n",
      "secondary_cleaner.state.floatbank3_b_level            19438 non-null float64\n",
      "secondary_cleaner.state.floatbank4_a_air              19433 non-null float64\n",
      "secondary_cleaner.state.floatbank4_a_level            19438 non-null float64\n",
      "secondary_cleaner.state.floatbank4_b_air              19438 non-null float64\n",
      "secondary_cleaner.state.floatbank4_b_level            19438 non-null float64\n",
      "secondary_cleaner.state.floatbank5_a_air              19438 non-null float64\n",
      "secondary_cleaner.state.floatbank5_a_level            19438 non-null float64\n",
      "secondary_cleaner.state.floatbank5_b_air              19438 non-null float64\n",
      "secondary_cleaner.state.floatbank5_b_level            19438 non-null float64\n",
      "secondary_cleaner.state.floatbank6_a_air              19437 non-null float64\n",
      "secondary_cleaner.state.floatbank6_a_level            19438 non-null float64\n",
      "dtypes: float64(86)\n",
      "memory usage: 12.9 MB\n"
     ]
    }
   ],
   "source": [
    "full.info()"
   ]
  },
  {
   "cell_type": "markdown",
   "metadata": {},
   "source": [
    "Полный датасет состоит из 19439 строк и 87 столбцов. Есть пропуски."
   ]
  },
  {
   "cell_type": "markdown",
   "metadata": {},
   "source": [
    "### Recovery"
   ]
  },
  {
   "attachments": {
    "image.png": {
     "image/png": "[encoded data removed]"
    }
   },
   "cell_type": "markdown",
   "metadata": {},
   "source": [
    "![image.png](attachment:image.png)"
   ]
  },
  {
   "cell_type": "markdown",
   "metadata": {},
   "source": [
    "Посчитаю эффективность обогащения на обучающей выборке для rougher.output.recovery"
   ]
  },
  {
   "cell_type": "code",
   "execution_count": 13,
   "metadata": {},
   "outputs": [],
   "source": [
    "c = train['rougher.output.concentrate_au'] #доля золота в концентрате после флотации/очистки\n",
    "f = train['rougher.input.feed_au'] #доля золота в сырье/концентрате до флотации/очистки\n",
    "t = train['rougher.output.tail_au'] #доля золота в отвальных хвостах после флотации/очистки"
   ]
  },
  {
   "cell_type": "code",
   "execution_count": 14,
   "metadata": {},
   "outputs": [],
   "source": [
    "train['rougher.recovery_au'] = ((c * (f - t)) / (f * (c - t))) * 100"
   ]
  },
  {
   "cell_type": "code",
   "execution_count": 15,
   "metadata": {},
   "outputs": [
    {
     "data": {
      "text/plain": [
       "count    14149.000000\n",
       "mean        82.704502\n",
       "std         14.479156\n",
       "min         -0.000000\n",
       "25%         79.993067\n",
       "50%         85.299462\n",
       "75%         90.165021\n",
       "max        100.000000\n",
       "Name: rougher.recovery_au, dtype: float64"
      ]
     },
     "execution_count": 15,
     "metadata": {},
     "output_type": "execute_result"
    }
   ],
   "source": [
    "train['rougher.recovery_au'].describe()"
   ]
  },
  {
   "cell_type": "code",
   "execution_count": 16,
   "metadata": {},
   "outputs": [
    {
     "data": {
      "text/plain": [
       "count    14149.000000\n",
       "mean        82.704502\n",
       "std         14.479156\n",
       "min          0.000000\n",
       "25%         79.993067\n",
       "50%         85.299462\n",
       "75%         90.165021\n",
       "max        100.000000\n",
       "Name: rougher.output.recovery, dtype: float64"
      ]
     },
     "execution_count": 16,
     "metadata": {},
     "output_type": "execute_result"
    }
   ],
   "source": [
    "train['rougher.output.recovery'].describe()"
   ]
  },
  {
   "cell_type": "code",
   "execution_count": 17,
   "metadata": {},
   "outputs": [
    {
     "data": {
      "text/plain": [
       "9.682896147825551e-15"
      ]
     },
     "metadata": {},
     "output_type": "display_data"
    }
   ],
   "source": [
    "mae_rougher_au = mean_absolute_error(train['rougher.recovery_au'], train['rougher.output.recovery'])\n",
    "display(mae_rougher_au)"
   ]
  },
  {
   "cell_type": "markdown",
   "metadata": {},
   "source": [
    "Столбцы-близнецы, формула работает отлично."
   ]
  },
  {
   "cell_type": "markdown",
   "metadata": {},
   "source": [
    "### Анализ отсутствующих в тестовой выборке параметров"
   ]
  },
  {
   "cell_type": "code",
   "execution_count": 18,
   "metadata": {},
   "outputs": [
    {
     "data": {
      "text/plain": [
       "0                           final.output.concentrate_ag\n",
       "1                           final.output.concentrate_au\n",
       "2                           final.output.concentrate_pb\n",
       "3                          final.output.concentrate_sol\n",
       "4                                 final.output.recovery\n",
       "5                                  final.output.tail_ag\n",
       "6                                  final.output.tail_au\n",
       "7                                  final.output.tail_pb\n",
       "8                                 final.output.tail_sol\n",
       "9                 primary_cleaner.output.concentrate_ag\n",
       "10                primary_cleaner.output.concentrate_au\n",
       "11                primary_cleaner.output.concentrate_pb\n",
       "12               primary_cleaner.output.concentrate_sol\n",
       "13                       primary_cleaner.output.tail_ag\n",
       "14                       primary_cleaner.output.tail_au\n",
       "15                       primary_cleaner.output.tail_pb\n",
       "16                      primary_cleaner.output.tail_sol\n",
       "17                      rougher.calculation.au_pb_ratio\n",
       "18    rougher.calculation.floatbank10_sulfate_to_au_...\n",
       "19    rougher.calculation.floatbank11_sulfate_to_au_...\n",
       "20        rougher.calculation.sulfate_to_au_concentrate\n",
       "21                        rougher.output.concentrate_ag\n",
       "22                        rougher.output.concentrate_au\n",
       "23                        rougher.output.concentrate_pb\n",
       "24                       rougher.output.concentrate_sol\n",
       "25                              rougher.output.recovery\n",
       "26                               rougher.output.tail_ag\n",
       "27                               rougher.output.tail_au\n",
       "28                               rougher.output.tail_pb\n",
       "29                              rougher.output.tail_sol\n",
       "30                                  rougher.recovery_au\n",
       "31                     secondary_cleaner.output.tail_ag\n",
       "32                     secondary_cleaner.output.tail_au\n",
       "33                     secondary_cleaner.output.tail_pb\n",
       "34                    secondary_cleaner.output.tail_sol\n",
       "dtype: object"
      ]
     },
     "metadata": {},
     "output_type": "display_data"
    }
   ],
   "source": [
    "train_col = train.columns\n",
    "test_col = test.columns\n",
    "out_col = train_col.difference(test_col)\n",
    "display(pd.Series(out_col))"
   ]
  },
  {
   "cell_type": "markdown",
   "metadata": {},
   "source": [
    "Тестовая выборка отличается от тренировочной на 34 столбца. Данные столбцы характеризуют параметры продукта, т.е. на выходе с очередного этапа."
   ]
  },
  {
   "cell_type": "markdown",
   "metadata": {},
   "source": [
    "### Предобработка данных"
   ]
  },
  {
   "cell_type": "code",
   "execution_count": 19,
   "metadata": {},
   "outputs": [
    {
     "data": {
      "text/plain": [
       "secondary_cleaner.output.tail_sol           1748\n",
       "rougher.input.floatbank11_xanthate           453\n",
       "rougher.state.floatbank10_e_air              436\n",
       "primary_cleaner.output.concentrate_sol       370\n",
       "secondary_cleaner.state.floatbank2_a_air     220\n",
       "final.output.concentrate_sol                 211\n",
       "rougher.input.feed_size                      145\n",
       "primary_cleaner.output.concentrate_pb        116\n",
       "primary_cleaner.input.xanthate               104\n",
       "final.output.tail_pb                         101\n",
       "rougher.input.feed_pb                        100\n",
       "rougher.input.feed_sol                        99\n",
       "primary_cleaner.output.tail_sol               62\n",
       "rougher.input.floatbank11_sulfate             44\n",
       "primary_cleaner.input.depressant              37\n",
       "dtype: int64"
      ]
     },
     "metadata": {},
     "output_type": "display_data"
    }
   ],
   "source": [
    "display(full.isna().sum().sort_values\n",
    "        (ascending=False).head(15))"
   ]
  },
  {
   "cell_type": "code",
   "execution_count": 20,
   "metadata": {},
   "outputs": [
    {
     "data": {
      "text/plain": [
       "secondary_cleaner.output.tail_sol           1605\n",
       "rougher.state.floatbank10_e_air              436\n",
       "rougher.input.floatbank11_xanthate           428\n",
       "primary_cleaner.output.concentrate_sol       286\n",
       "secondary_cleaner.state.floatbank2_a_air     217\n",
       "final.output.concentrate_sol                 211\n",
       "rougher.input.feed_size                      144\n",
       "primary_cleaner.input.xanthate               100\n",
       "final.output.tail_pb                         100\n",
       "rougher.input.feed_pb                        100\n",
       "primary_cleaner.output.concentrate_pb         86\n",
       "rougher.input.feed_sol                        78\n",
       "primary_cleaner.output.tail_sol               46\n",
       "rougher.input.floatbank11_sulfate             36\n",
       "primary_cleaner.input.depressant              32\n",
       "dtype: int64"
      ]
     },
     "metadata": {},
     "output_type": "display_data"
    }
   ],
   "source": [
    "display(train.isna().sum().sort_values\n",
    "        (ascending=False).head(15))"
   ]
  },
  {
   "cell_type": "code",
   "execution_count": 21,
   "metadata": {},
   "outputs": [
    {
     "data": {
      "text/plain": [
       "rougher.input.floatbank11_xanthate          25\n",
       "rougher.input.feed_sol                      21\n",
       "secondary_cleaner.state.floatbank3_a_air     9\n",
       "rougher.input.floatbank11_sulfate            8\n",
       "primary_cleaner.input.depressant             5\n",
       "rougher.input.floatbank10_sulfate            5\n",
       "primary_cleaner.input.sulfate                4\n",
       "primary_cleaner.input.xanthate               4\n",
       "secondary_cleaner.state.floatbank2_a_air     3\n",
       "rougher.input.feed_rate                      3\n",
       "secondary_cleaner.state.floatbank2_b_air     2\n",
       "rougher.input.feed_size                      1\n",
       "primary_cleaner.input.feed_size              0\n",
       "rougher.input.floatbank10_xanthate           0\n",
       "primary_cleaner.state.floatbank8_a_air       0\n",
       "dtype: int64"
      ]
     },
     "metadata": {},
     "output_type": "display_data"
    }
   ],
   "source": [
    "display(test.isna().sum().sort_values\n",
    "        (ascending=False).head(15))"
   ]
  },
  {
   "cell_type": "markdown",
   "metadata": {},
   "source": [
    "В основном, пропуски отмечаются по различным этапам побочных продуктов на различных этапах обработки.\n",
    "\n",
    "Из условия известно, что некоторые данные отсутсвуют в тестовой выборке, т.к. расчитываются позже, но они могут быть в тренировочной.\n",
    "\n",
    "Для начала попробую подтянуть данные из полного датасета в тренировочный, а затем из тренировочного в тестовый."
   ]
  },
  {
   "cell_type": "code",
   "execution_count": 22,
   "metadata": {},
   "outputs": [],
   "source": [
    "train = train.fillna(full)"
   ]
  },
  {
   "cell_type": "code",
   "execution_count": 23,
   "metadata": {},
   "outputs": [
    {
     "data": {
      "text/plain": [
       "secondary_cleaner.output.tail_sol           1605\n",
       "rougher.state.floatbank10_e_air              436\n",
       "rougher.input.floatbank11_xanthate           428\n",
       "primary_cleaner.output.concentrate_sol       286\n",
       "secondary_cleaner.state.floatbank2_a_air     217\n",
       "final.output.concentrate_sol                 211\n",
       "rougher.input.feed_size                      144\n",
       "primary_cleaner.input.xanthate               100\n",
       "final.output.tail_pb                         100\n",
       "rougher.input.feed_pb                        100\n",
       "primary_cleaner.output.concentrate_pb         86\n",
       "rougher.input.feed_sol                        78\n",
       "primary_cleaner.output.tail_sol               46\n",
       "rougher.input.floatbank11_sulfate             36\n",
       "primary_cleaner.input.depressant              32\n",
       "dtype: int64"
      ]
     },
     "metadata": {},
     "output_type": "display_data"
    }
   ],
   "source": [
    "display(train.isna().sum().sort_values (ascending=False).head(15))"
   ]
  },
  {
   "cell_type": "markdown",
   "metadata": {},
   "source": [
    "Ничего существенного не случилось."
   ]
  },
  {
   "cell_type": "code",
   "execution_count": 24,
   "metadata": {},
   "outputs": [],
   "source": [
    "test = test.fillna(train)"
   ]
  },
  {
   "cell_type": "code",
   "execution_count": 25,
   "metadata": {},
   "outputs": [
    {
     "data": {
      "text/plain": [
       "rougher.input.floatbank11_xanthate          25\n",
       "rougher.input.feed_sol                      21\n",
       "secondary_cleaner.state.floatbank3_a_air     9\n",
       "rougher.input.floatbank11_sulfate            8\n",
       "primary_cleaner.input.depressant             5\n",
       "rougher.input.floatbank10_sulfate            5\n",
       "primary_cleaner.input.sulfate                4\n",
       "primary_cleaner.input.xanthate               4\n",
       "secondary_cleaner.state.floatbank2_a_air     3\n",
       "rougher.input.feed_rate                      3\n",
       "secondary_cleaner.state.floatbank2_b_air     2\n",
       "rougher.input.feed_size                      1\n",
       "primary_cleaner.input.feed_size              0\n",
       "rougher.input.floatbank10_xanthate           0\n",
       "primary_cleaner.state.floatbank8_a_air       0\n",
       "dtype: int64"
      ]
     },
     "metadata": {},
     "output_type": "display_data"
    }
   ],
   "source": [
    "display(test.isna().sum().sort_values (ascending=False).head(15))"
   ]
  },
  {
   "cell_type": "markdown",
   "metadata": {},
   "source": [
    "И опять без видимых изменений."
   ]
  },
  {
   "cell_type": "markdown",
   "metadata": {},
   "source": [
    "Нам известно (из условия, видимо, информация от технологов), что соседние по времени (т.е. по индексу) параметры, часто похожи. Чтобы не терять данные, использую метод ffill."
   ]
  },
  {
   "cell_type": "code",
   "execution_count": 26,
   "metadata": {},
   "outputs": [
    {
     "data": {
      "text/plain": [
       "rougher.recovery_au                                   0\n",
       "rougher.calculation.floatbank11_sulfate_to_au_feed    0\n",
       "primary_cleaner.state.floatbank8_b_air                0\n",
       "primary_cleaner.state.floatbank8_b_level              0\n",
       "primary_cleaner.state.floatbank8_c_air                0\n",
       "primary_cleaner.state.floatbank8_c_level              0\n",
       "primary_cleaner.state.floatbank8_d_air                0\n",
       "primary_cleaner.state.floatbank8_d_level              0\n",
       "rougher.calculation.sulfate_to_au_concentrate         0\n",
       "rougher.calculation.floatbank10_sulfate_to_au_feed    0\n",
       "rougher.calculation.au_pb_ratio                       0\n",
       "primary_cleaner.state.floatbank8_a_air                0\n",
       "rougher.input.feed_ag                                 0\n",
       "rougher.input.feed_pb                                 0\n",
       "rougher.input.feed_rate                               0\n",
       "dtype: int64"
      ]
     },
     "metadata": {},
     "output_type": "display_data"
    }
   ],
   "source": [
    "train = train.ffill()\n",
    "display(train.isna().sum().sort_values (ascending=False).head(15))"
   ]
  },
  {
   "cell_type": "code",
   "execution_count": 27,
   "metadata": {},
   "outputs": [
    {
     "data": {
      "text/plain": [
       "secondary_cleaner.state.floatbank6_a_level    0\n",
       "secondary_cleaner.state.floatbank6_a_air      0\n",
       "rougher.state.floatbank10_a_level             0\n",
       "rougher.state.floatbank10_a_air               0\n",
       "rougher.input.floatbank11_xanthate            0\n",
       "rougher.input.floatbank11_sulfate             0\n",
       "rougher.input.floatbank10_xanthate            0\n",
       "rougher.input.floatbank10_sulfate             0\n",
       "rougher.input.feed_au                         0\n",
       "rougher.input.feed_sol                        0\n",
       "rougher.input.feed_size                       0\n",
       "rougher.input.feed_rate                       0\n",
       "rougher.input.feed_pb                         0\n",
       "rougher.input.feed_ag                         0\n",
       "primary_cleaner.state.floatbank8_d_level      0\n",
       "dtype: int64"
      ]
     },
     "metadata": {},
     "output_type": "display_data"
    }
   ],
   "source": [
    "test = test.ffill()\n",
    "display(test.isna().sum().sort_values (ascending=False).head(15))"
   ]
  },
  {
   "cell_type": "markdown",
   "metadata": {},
   "source": [
    "От пропусков избавились.\n",
    "\n",
    "Посмотрим на info()"
   ]
  },
  {
   "cell_type": "code",
   "execution_count": 29,
   "metadata": {},
   "outputs": [
    {
     "name": "stdout",
     "output_type": "stream",
     "text": [
      "<class 'pandas.core.frame.DataFrame'>\n",
      "DatetimeIndex: 14149 entries, 2016-01-15 00:00:00 to 2018-08-18 10:59:59\n",
      "Data columns (total 87 columns):\n",
      "final.output.concentrate_ag                           14149 non-null float64\n",
      "final.output.concentrate_pb                           14149 non-null float64\n",
      "final.output.concentrate_sol                          14149 non-null float64\n",
      "final.output.concentrate_au                           14149 non-null float64\n",
      "final.output.recovery                                 14149 non-null float64\n",
      "final.output.tail_ag                                  14149 non-null float64\n",
      "final.output.tail_pb                                  14149 non-null float64\n",
      "final.output.tail_sol                                 14149 non-null float64\n",
      "final.output.tail_au                                  14149 non-null float64\n",
      "primary_cleaner.input.sulfate                         14149 non-null float64\n",
      "primary_cleaner.input.depressant                      14149 non-null float64\n",
      "primary_cleaner.input.feed_size                       14149 non-null float64\n",
      "primary_cleaner.input.xanthate                        14149 non-null float64\n",
      "primary_cleaner.output.concentrate_ag                 14149 non-null float64\n",
      "primary_cleaner.output.concentrate_pb                 14149 non-null float64\n",
      "primary_cleaner.output.concentrate_sol                14149 non-null float64\n",
      "primary_cleaner.output.concentrate_au                 14149 non-null float64\n",
      "primary_cleaner.output.tail_ag                        14149 non-null float64\n",
      "primary_cleaner.output.tail_pb                        14149 non-null float64\n",
      "primary_cleaner.output.tail_sol                       14149 non-null float64\n",
      "primary_cleaner.output.tail_au                        14149 non-null float64\n",
      "primary_cleaner.state.floatbank8_a_air                14149 non-null float64\n",
      "primary_cleaner.state.floatbank8_a_level              14149 non-null float64\n",
      "primary_cleaner.state.floatbank8_b_air                14149 non-null float64\n",
      "primary_cleaner.state.floatbank8_b_level              14149 non-null float64\n",
      "primary_cleaner.state.floatbank8_c_air                14149 non-null float64\n",
      "primary_cleaner.state.floatbank8_c_level              14149 non-null float64\n",
      "primary_cleaner.state.floatbank8_d_air                14149 non-null float64\n",
      "primary_cleaner.state.floatbank8_d_level              14149 non-null float64\n",
      "rougher.calculation.sulfate_to_au_concentrate         14149 non-null float64\n",
      "rougher.calculation.floatbank10_sulfate_to_au_feed    14149 non-null float64\n",
      "rougher.calculation.floatbank11_sulfate_to_au_feed    14149 non-null float64\n",
      "rougher.calculation.au_pb_ratio                       14149 non-null float64\n",
      "rougher.input.feed_ag                                 14149 non-null float64\n",
      "rougher.input.feed_pb                                 14149 non-null float64\n",
      "rougher.input.feed_rate                               14149 non-null float64\n",
      "rougher.input.feed_size                               14149 non-null float64\n",
      "rougher.input.feed_sol                                14149 non-null float64\n",
      "rougher.input.feed_au                                 14149 non-null float64\n",
      "rougher.input.floatbank10_sulfate                     14149 non-null float64\n",
      "rougher.input.floatbank10_xanthate                    14149 non-null float64\n",
      "rougher.input.floatbank11_sulfate                     14149 non-null float64\n",
      "rougher.input.floatbank11_xanthate                    14149 non-null float64\n",
      "rougher.output.concentrate_ag                         14149 non-null float64\n",
      "rougher.output.concentrate_pb                         14149 non-null float64\n",
      "rougher.output.concentrate_sol                        14149 non-null float64\n",
      "rougher.output.concentrate_au                         14149 non-null float64\n",
      "rougher.output.recovery                               14149 non-null float64\n",
      "rougher.output.tail_ag                                14149 non-null float64\n",
      "rougher.output.tail_pb                                14149 non-null float64\n",
      "rougher.output.tail_sol                               14149 non-null float64\n",
      "rougher.output.tail_au                                14149 non-null float64\n",
      "rougher.state.floatbank10_a_air                       14149 non-null float64\n",
      "rougher.state.floatbank10_a_level                     14149 non-null float64\n",
      "rougher.state.floatbank10_b_air                       14149 non-null float64\n",
      "rougher.state.floatbank10_b_level                     14149 non-null float64\n",
      "rougher.state.floatbank10_c_air                       14149 non-null float64\n",
      "rougher.state.floatbank10_c_level                     14149 non-null float64\n",
      "rougher.state.floatbank10_d_air                       14149 non-null float64\n",
      "rougher.state.floatbank10_d_level                     14149 non-null float64\n",
      "rougher.state.floatbank10_e_air                       14149 non-null float64\n",
      "rougher.state.floatbank10_e_level                     14149 non-null float64\n",
      "rougher.state.floatbank10_f_air                       14149 non-null float64\n",
      "rougher.state.floatbank10_f_level                     14149 non-null float64\n",
      "secondary_cleaner.output.tail_ag                      14149 non-null float64\n",
      "secondary_cleaner.output.tail_pb                      14149 non-null float64\n",
      "secondary_cleaner.output.tail_sol                     14149 non-null float64\n",
      "secondary_cleaner.output.tail_au                      14149 non-null float64\n",
      "secondary_cleaner.state.floatbank2_a_air              14149 non-null float64\n",
      "secondary_cleaner.state.floatbank2_a_level            14149 non-null float64\n",
      "secondary_cleaner.state.floatbank2_b_air              14149 non-null float64\n",
      "secondary_cleaner.state.floatbank2_b_level            14149 non-null float64\n",
      "secondary_cleaner.state.floatbank3_a_air              14149 non-null float64\n",
      "secondary_cleaner.state.floatbank3_a_level            14149 non-null float64\n",
      "secondary_cleaner.state.floatbank3_b_air              14149 non-null float64\n",
      "secondary_cleaner.state.floatbank3_b_level            14149 non-null float64\n",
      "secondary_cleaner.state.floatbank4_a_air              14149 non-null float64\n",
      "secondary_cleaner.state.floatbank4_a_level            14149 non-null float64\n",
      "secondary_cleaner.state.floatbank4_b_air              14149 non-null float64\n",
      "secondary_cleaner.state.floatbank4_b_level            14149 non-null float64\n",
      "secondary_cleaner.state.floatbank5_a_air              14149 non-null float64\n",
      "secondary_cleaner.state.floatbank5_a_level            14149 non-null float64\n",
      "secondary_cleaner.state.floatbank5_b_air              14149 non-null float64\n",
      "secondary_cleaner.state.floatbank5_b_level            14149 non-null float64\n",
      "secondary_cleaner.state.floatbank6_a_air              14149 non-null float64\n",
      "secondary_cleaner.state.floatbank6_a_level            14149 non-null float64\n",
      "rougher.recovery_au                                   14149 non-null float64\n",
      "dtypes: float64(87)\n",
      "memory usage: 9.5 MB\n"
     ]
    }
   ],
   "source": [
    "train.info()"
   ]
  },
  {
   "cell_type": "code",
   "execution_count": 30,
   "metadata": {},
   "outputs": [
    {
     "name": "stdout",
     "output_type": "stream",
     "text": [
      "<class 'pandas.core.frame.DataFrame'>\n",
      "DatetimeIndex: 5290 entries, 2016-09-01 00:59:59 to 2017-12-31 23:59:59\n",
      "Data columns (total 52 columns):\n",
      "primary_cleaner.input.sulfate                 5290 non-null float64\n",
      "primary_cleaner.input.depressant              5290 non-null float64\n",
      "primary_cleaner.input.feed_size               5290 non-null float64\n",
      "primary_cleaner.input.xanthate                5290 non-null float64\n",
      "primary_cleaner.state.floatbank8_a_air        5290 non-null float64\n",
      "primary_cleaner.state.floatbank8_a_level      5290 non-null float64\n",
      "primary_cleaner.state.floatbank8_b_air        5290 non-null float64\n",
      "primary_cleaner.state.floatbank8_b_level      5290 non-null float64\n",
      "primary_cleaner.state.floatbank8_c_air        5290 non-null float64\n",
      "primary_cleaner.state.floatbank8_c_level      5290 non-null float64\n",
      "primary_cleaner.state.floatbank8_d_air        5290 non-null float64\n",
      "primary_cleaner.state.floatbank8_d_level      5290 non-null float64\n",
      "rougher.input.feed_ag                         5290 non-null float64\n",
      "rougher.input.feed_pb                         5290 non-null float64\n",
      "rougher.input.feed_rate                       5290 non-null float64\n",
      "rougher.input.feed_size                       5290 non-null float64\n",
      "rougher.input.feed_sol                        5290 non-null float64\n",
      "rougher.input.feed_au                         5290 non-null float64\n",
      "rougher.input.floatbank10_sulfate             5290 non-null float64\n",
      "rougher.input.floatbank10_xanthate            5290 non-null float64\n",
      "rougher.input.floatbank11_sulfate             5290 non-null float64\n",
      "rougher.input.floatbank11_xanthate            5290 non-null float64\n",
      "rougher.state.floatbank10_a_air               5290 non-null float64\n",
      "rougher.state.floatbank10_a_level             5290 non-null float64\n",
      "rougher.state.floatbank10_b_air               5290 non-null float64\n",
      "rougher.state.floatbank10_b_level             5290 non-null float64\n",
      "rougher.state.floatbank10_c_air               5290 non-null float64\n",
      "rougher.state.floatbank10_c_level             5290 non-null float64\n",
      "rougher.state.floatbank10_d_air               5290 non-null float64\n",
      "rougher.state.floatbank10_d_level             5290 non-null float64\n",
      "rougher.state.floatbank10_e_air               5290 non-null float64\n",
      "rougher.state.floatbank10_e_level             5290 non-null float64\n",
      "rougher.state.floatbank10_f_air               5290 non-null float64\n",
      "rougher.state.floatbank10_f_level             5290 non-null float64\n",
      "secondary_cleaner.state.floatbank2_a_air      5290 non-null float64\n",
      "secondary_cleaner.state.floatbank2_a_level    5290 non-null float64\n",
      "secondary_cleaner.state.floatbank2_b_air      5290 non-null float64\n",
      "secondary_cleaner.state.floatbank2_b_level    5290 non-null float64\n",
      "secondary_cleaner.state.floatbank3_a_air      5290 non-null float64\n",
      "secondary_cleaner.state.floatbank3_a_level    5290 non-null float64\n",
      "secondary_cleaner.state.floatbank3_b_air      5290 non-null float64\n",
      "secondary_cleaner.state.floatbank3_b_level    5290 non-null float64\n",
      "secondary_cleaner.state.floatbank4_a_air      5290 non-null float64\n",
      "secondary_cleaner.state.floatbank4_a_level    5290 non-null float64\n",
      "secondary_cleaner.state.floatbank4_b_air      5290 non-null float64\n",
      "secondary_cleaner.state.floatbank4_b_level    5290 non-null float64\n",
      "secondary_cleaner.state.floatbank5_a_air      5290 non-null float64\n",
      "secondary_cleaner.state.floatbank5_a_level    5290 non-null float64\n",
      "secondary_cleaner.state.floatbank5_b_air      5290 non-null float64\n",
      "secondary_cleaner.state.floatbank5_b_level    5290 non-null float64\n",
      "secondary_cleaner.state.floatbank6_a_air      5290 non-null float64\n",
      "secondary_cleaner.state.floatbank6_a_level    5290 non-null float64\n",
      "dtypes: float64(52)\n",
      "memory usage: 2.3 MB\n"
     ]
    }
   ],
   "source": [
    "test.info()"
   ]
  },
  {
   "cell_type": "markdown",
   "metadata": {},
   "source": [
    "Ни одной строчки не потеряно, но если метрики будут страдать, то придется возвращаться и дропать."
   ]
  },
  {
   "cell_type": "markdown",
   "metadata": {},
   "source": [
    "## Анализ данных"
   ]
  },
  {
   "cell_type": "markdown",
   "metadata": {},
   "source": [
    "### Концентрация металлов Au, Ag, Pb на разных этапах очистки"
   ]
  },
  {
   "cell_type": "markdown",
   "metadata": {},
   "source": [
    "Для анализа использую таблицу full, т.к. в ней содержатся полные данные"
   ]
  },
  {
   "cell_type": "markdown",
   "metadata": {},
   "source": [
    "#### Флотация начало"
   ]
  },
  {
   "cell_type": "code",
   "execution_count": 32,
   "metadata": {},
   "outputs": [
    {
     "data": {
      "image/png": "[encoded data removed]",
      "text/plain": [
       "<Figure size 720x360 with 1 Axes>"
      ]
     },
     "metadata": {
      "needs_background": "light"
     },
     "output_type": "display_data"
    }
   ],
   "source": [
    "plt.figure(figsize=(10, 5))\n",
    "plt.title('Концентрация металлов Au, Ag, Pb, флотация начало', fontsize=15)\n",
    "plt.ylabel('Концентрация металла')\n",
    "\n",
    "sns.kdeplot(data=full['rougher.input.feed_au'], label = 'Золото')\n",
    "sns.kdeplot(data=full['rougher.input.feed_pb'], label = 'Свинец')\n",
    "sns.kdeplot(data=full['rougher.input.feed_ag'], label = 'Серебро')\n",
    "plt.grid()"
   ]
  },
  {
   "cell_type": "markdown",
   "metadata": {},
   "source": [
    "Концентрация свинца высокая в начале этапа, далее повышается концентрация золота и серебра"
   ]
  },
  {
   "cell_type": "markdown",
   "metadata": {},
   "source": [
    "#### Флотация завершение"
   ]
  },
  {
   "cell_type": "code",
   "execution_count": 33,
   "metadata": {},
   "outputs": [
    {
     "data": {
      "image/png": "[encoded data removed]",
      "text/plain": [
       "<Figure size 720x360 with 1 Axes>"
      ]
     },
     "metadata": {
      "needs_background": "light"
     },
     "output_type": "display_data"
    }
   ],
   "source": [
    "plt.figure(figsize=(10, 5))\n",
    "plt.title('Концентрация металлов Au, Ag, Pb, флотация завершение', fontsize=15)\n",
    "plt.ylabel('Концентрация металла')\n",
    "\n",
    "sns.kdeplot(data=full['rougher.output.concentrate_au'], label = 'Золото')\n",
    "sns.kdeplot(data=full['rougher.output.concentrate_pb'], label = 'Свинец')\n",
    "sns.kdeplot(data=full['rougher.output.concentrate_ag'], label = 'Серебро')\n",
    "plt.grid()"
   ]
  },
  {
   "cell_type": "markdown",
   "metadata": {},
   "source": [
    "К концу флотации отмечается рост концентрации золота, тогда как концентрации свинца и серебра падают."
   ]
  },
  {
   "cell_type": "markdown",
   "metadata": {},
   "source": [
    "#### Первичная очистка"
   ]
  },
  {
   "cell_type": "code",
   "execution_count": 34,
   "metadata": {},
   "outputs": [
    {
     "data": {
      "image/png": "[encoded data removed]",
      "text/plain": [
       "<Figure size 720x360 with 1 Axes>"
      ]
     },
     "metadata": {
      "needs_background": "light"
     },
     "output_type": "display_data"
    }
   ],
   "source": [
    "plt.figure(figsize=(10, 5))\n",
    "plt.title('Концентрация металлов Au, Ag, Pb, первичная очистка', fontsize=15)\n",
    "plt.ylabel('Концентрация металла')\n",
    "\n",
    "sns.kdeplot(data=full['primary_cleaner.output.concentrate_au'], label = 'Золото')\n",
    "sns.kdeplot(data=full['primary_cleaner.output.concentrate_pb'], label = 'Свинец')\n",
    "sns.kdeplot(data=full['primary_cleaner.output.concentrate_ag'], label = 'Серебро')\n",
    "plt.grid()"
   ]
  },
  {
   "cell_type": "markdown",
   "metadata": {},
   "source": [
    "В начале этапа отмечается пик концентрации серебра и свинца, в конце - рост концентрации золота."
   ]
  },
  {
   "cell_type": "markdown",
   "metadata": {},
   "source": [
    "#### Вторичная очистка (хвосты)"
   ]
  },
  {
   "cell_type": "code",
   "execution_count": 35,
   "metadata": {},
   "outputs": [
    {
     "data": {
      "image/png": "[encoded data removed]",
      "text/plain": [
       "<Figure size 720x360 with 1 Axes>"
      ]
     },
     "metadata": {
      "needs_background": "light"
     },
     "output_type": "display_data"
    }
   ],
   "source": [
    "plt.figure(figsize=(10, 5))\n",
    "plt.title('Концентрация металлов Au, Ag, Pb, вторичная очистка (хвосты)', fontsize=15)\n",
    "plt.ylabel('Концентрация металла')\n",
    "\n",
    "sns.kdeplot(data=full['primary_cleaner.output.tail_au'], label = 'Золото')\n",
    "sns.kdeplot(data=full['primary_cleaner.output.tail_pb'], label = 'Свинец')\n",
    "sns.kdeplot(data=full['primary_cleaner.output.tail_ag'], label = 'Серебро')\n",
    "plt.grid()"
   ]
  },
  {
   "cell_type": "markdown",
   "metadata": {},
   "source": [
    "К концу этапа наибольшая концентрация серебра, а металл-то драгоценный, скорее всего хвосты тоже можно будет использовать."
   ]
  },
  {
   "cell_type": "markdown",
   "metadata": {},
   "source": [
    "#### Финальный концентрат"
   ]
  },
  {
   "cell_type": "code",
   "execution_count": 36,
   "metadata": {},
   "outputs": [
    {
     "data": {
      "image/png": "[encoded data removed]",
      "text/plain": [
       "<Figure size 720x360 with 1 Axes>"
      ]
     },
     "metadata": {
      "needs_background": "light"
     },
     "output_type": "display_data"
    }
   ],
   "source": [
    "plt.figure(figsize=(10, 5))\n",
    "plt.title('Концентрация металлов Au, Ag, Pb, финальный концентрат', fontsize=15)\n",
    "plt.ylabel('Концентрация металла')\n",
    "\n",
    "sns.kdeplot(data=full['final.output.concentrate_au'], label = 'Золото')\n",
    "sns.kdeplot(data=full['final.output.concentrate_pb'], label = 'Свинец')\n",
    "sns.kdeplot(data=full['final.output.concentrate_ag'], label = 'Серебро')\n",
    "plt.grid()"
   ]
  },
  {
   "cell_type": "markdown",
   "metadata": {},
   "source": [
    "Ожидаемо, что в финальном концентрате отмечается рост концентрации золота и падение концентрации свинца и серебра."
   ]
  },
  {
   "cell_type": "markdown",
   "metadata": {},
   "source": [
    "### Распределение размеров гранул сырья на обучающей и тестовой выборках"
   ]
  },
  {
   "cell_type": "markdown",
   "metadata": {},
   "source": [
    "Нас будет интересовать параметр feed_size.\n",
    "\n",
    "Размер гранул фигурирует на 2х этапах: начало флотации и начало первичной очистки."
   ]
  },
  {
   "cell_type": "code",
   "execution_count": 37,
   "metadata": {},
   "outputs": [
    {
     "data": {
      "text/html": [
       "<div>\n",
       "<style scoped>\n",
       "    .dataframe tbody tr th:only-of-type {\n",
       "        vertical-align: middle;\n",
       "    }\n",
       "\n",
       "    .dataframe tbody tr th {\n",
       "        vertical-align: top;\n",
       "    }\n",
       "\n",
       "    .dataframe thead th {\n",
       "        text-align: right;\n",
       "    }\n",
       "</style>\n",
       "<table border=\"1\" class=\"dataframe\">\n",
       "  <thead>\n",
       "    <tr style=\"text-align: right;\">\n",
       "      <th></th>\n",
       "      <th>rougher.input.feed_size</th>\n",
       "      <th>primary_cleaner.input.feed_size</th>\n",
       "    </tr>\n",
       "    <tr>\n",
       "      <th>date</th>\n",
       "      <th></th>\n",
       "      <th></th>\n",
       "    </tr>\n",
       "  </thead>\n",
       "  <tbody>\n",
       "    <tr>\n",
       "      <td>2016-01-15 00:00:00</td>\n",
       "      <td>55.486599</td>\n",
       "      <td>7.25</td>\n",
       "    </tr>\n",
       "    <tr>\n",
       "      <td>2016-01-15 01:00:00</td>\n",
       "      <td>57.278666</td>\n",
       "      <td>7.25</td>\n",
       "    </tr>\n",
       "    <tr>\n",
       "      <td>2016-01-15 02:00:00</td>\n",
       "      <td>57.510649</td>\n",
       "      <td>7.25</td>\n",
       "    </tr>\n",
       "    <tr>\n",
       "      <td>2016-01-15 03:00:00</td>\n",
       "      <td>57.792734</td>\n",
       "      <td>7.25</td>\n",
       "    </tr>\n",
       "    <tr>\n",
       "      <td>2016-01-15 04:00:00</td>\n",
       "      <td>56.047189</td>\n",
       "      <td>7.25</td>\n",
       "    </tr>\n",
       "  </tbody>\n",
       "</table>\n",
       "</div>"
      ],
      "text/plain": [
       "                     rougher.input.feed_size  primary_cleaner.input.feed_size\n",
       "date                                                                         \n",
       "2016-01-15 00:00:00                55.486599                             7.25\n",
       "2016-01-15 01:00:00                57.278666                             7.25\n",
       "2016-01-15 02:00:00                57.510649                             7.25\n",
       "2016-01-15 03:00:00                57.792734                             7.25\n",
       "2016-01-15 04:00:00                56.047189                             7.25"
      ]
     },
     "execution_count": 37,
     "metadata": {},
     "output_type": "execute_result"
    }
   ],
   "source": [
    "feed_train = train[['rougher.input.feed_size', 'primary_cleaner.input.feed_size']]\n",
    "feed_train.head()"
   ]
  },
  {
   "cell_type": "code",
   "execution_count": 38,
   "metadata": {},
   "outputs": [
    {
     "data": {
      "text/html": [
       "<div>\n",
       "<style scoped>\n",
       "    .dataframe tbody tr th:only-of-type {\n",
       "        vertical-align: middle;\n",
       "    }\n",
       "\n",
       "    .dataframe tbody tr th {\n",
       "        vertical-align: top;\n",
       "    }\n",
       "\n",
       "    .dataframe thead th {\n",
       "        text-align: right;\n",
       "    }\n",
       "</style>\n",
       "<table border=\"1\" class=\"dataframe\">\n",
       "  <thead>\n",
       "    <tr style=\"text-align: right;\">\n",
       "      <th></th>\n",
       "      <th>rougher.input.feed_size</th>\n",
       "      <th>primary_cleaner.input.feed_size</th>\n",
       "    </tr>\n",
       "    <tr>\n",
       "      <th>date</th>\n",
       "      <th></th>\n",
       "      <th></th>\n",
       "    </tr>\n",
       "  </thead>\n",
       "  <tbody>\n",
       "    <tr>\n",
       "      <td>2016-09-01 00:59:59</td>\n",
       "      <td>62.710452</td>\n",
       "      <td>8.080000</td>\n",
       "    </tr>\n",
       "    <tr>\n",
       "      <td>2016-09-01 01:59:59</td>\n",
       "      <td>61.961163</td>\n",
       "      <td>8.080000</td>\n",
       "    </tr>\n",
       "    <tr>\n",
       "      <td>2016-09-01 02:59:59</td>\n",
       "      <td>66.903807</td>\n",
       "      <td>7.786667</td>\n",
       "    </tr>\n",
       "    <tr>\n",
       "      <td>2016-09-01 03:59:59</td>\n",
       "      <td>59.865919</td>\n",
       "      <td>7.640000</td>\n",
       "    </tr>\n",
       "    <tr>\n",
       "      <td>2016-09-01 04:59:59</td>\n",
       "      <td>63.315324</td>\n",
       "      <td>7.530000</td>\n",
       "    </tr>\n",
       "  </tbody>\n",
       "</table>\n",
       "</div>"
      ],
      "text/plain": [
       "                     rougher.input.feed_size  primary_cleaner.input.feed_size\n",
       "date                                                                         \n",
       "2016-09-01 00:59:59                62.710452                         8.080000\n",
       "2016-09-01 01:59:59                61.961163                         8.080000\n",
       "2016-09-01 02:59:59                66.903807                         7.786667\n",
       "2016-09-01 03:59:59                59.865919                         7.640000\n",
       "2016-09-01 04:59:59                63.315324                         7.530000"
      ]
     },
     "execution_count": 38,
     "metadata": {},
     "output_type": "execute_result"
    }
   ],
   "source": [
    "feed_test = test[['rougher.input.feed_size', 'primary_cleaner.input.feed_size']]\n",
    "feed_test.head()"
   ]
  },
  {
   "cell_type": "markdown",
   "metadata": {},
   "source": [
    "Размер гранул на этапе флотации почти что на порядок выше, чем на этапе первичной очистки - логично.\n",
    "\n",
    "Оценивать размер буду по этапам."
   ]
  },
  {
   "cell_type": "code",
   "execution_count": 39,
   "metadata": {},
   "outputs": [
    {
     "data": {
      "text/html": [
       "<div>\n",
       "<style scoped>\n",
       "    .dataframe tbody tr th:only-of-type {\n",
       "        vertical-align: middle;\n",
       "    }\n",
       "\n",
       "    .dataframe tbody tr th {\n",
       "        vertical-align: top;\n",
       "    }\n",
       "\n",
       "    .dataframe thead th {\n",
       "        text-align: right;\n",
       "    }\n",
       "</style>\n",
       "<table border=\"1\" class=\"dataframe\">\n",
       "  <thead>\n",
       "    <tr style=\"text-align: right;\">\n",
       "      <th></th>\n",
       "      <th>rougher.input.feed_size</th>\n",
       "      <th>primary_cleaner.input.feed_size</th>\n",
       "    </tr>\n",
       "  </thead>\n",
       "  <tbody>\n",
       "    <tr>\n",
       "      <td>count</td>\n",
       "      <td>14149.000000</td>\n",
       "      <td>14149.000000</td>\n",
       "    </tr>\n",
       "    <tr>\n",
       "      <td>mean</td>\n",
       "      <td>60.239856</td>\n",
       "      <td>7.322310</td>\n",
       "    </tr>\n",
       "    <tr>\n",
       "      <td>std</td>\n",
       "      <td>23.005310</td>\n",
       "      <td>0.614062</td>\n",
       "    </tr>\n",
       "    <tr>\n",
       "      <td>min</td>\n",
       "      <td>9.659576</td>\n",
       "      <td>1.080000</td>\n",
       "    </tr>\n",
       "    <tr>\n",
       "      <td>25%</td>\n",
       "      <td>48.966751</td>\n",
       "      <td>6.960000</td>\n",
       "    </tr>\n",
       "    <tr>\n",
       "      <td>50%</td>\n",
       "      <td>55.269784</td>\n",
       "      <td>7.290000</td>\n",
       "    </tr>\n",
       "    <tr>\n",
       "      <td>75%</td>\n",
       "      <td>66.007526</td>\n",
       "      <td>7.700000</td>\n",
       "    </tr>\n",
       "    <tr>\n",
       "      <td>max</td>\n",
       "      <td>484.967466</td>\n",
       "      <td>10.470000</td>\n",
       "    </tr>\n",
       "  </tbody>\n",
       "</table>\n",
       "</div>"
      ],
      "text/plain": [
       "       rougher.input.feed_size  primary_cleaner.input.feed_size\n",
       "count             14149.000000                     14149.000000\n",
       "mean                 60.239856                         7.322310\n",
       "std                  23.005310                         0.614062\n",
       "min                   9.659576                         1.080000\n",
       "25%                  48.966751                         6.960000\n",
       "50%                  55.269784                         7.290000\n",
       "75%                  66.007526                         7.700000\n",
       "max                 484.967466                        10.470000"
      ]
     },
     "execution_count": 39,
     "metadata": {},
     "output_type": "execute_result"
    }
   ],
   "source": [
    "feed_train.describe()"
   ]
  },
  {
   "cell_type": "code",
   "execution_count": 40,
   "metadata": {},
   "outputs": [
    {
     "data": {
      "text/html": [
       "<div>\n",
       "<style scoped>\n",
       "    .dataframe tbody tr th:only-of-type {\n",
       "        vertical-align: middle;\n",
       "    }\n",
       "\n",
       "    .dataframe tbody tr th {\n",
       "        vertical-align: top;\n",
       "    }\n",
       "\n",
       "    .dataframe thead th {\n",
       "        text-align: right;\n",
       "    }\n",
       "</style>\n",
       "<table border=\"1\" class=\"dataframe\">\n",
       "  <thead>\n",
       "    <tr style=\"text-align: right;\">\n",
       "      <th></th>\n",
       "      <th>rougher.input.feed_size</th>\n",
       "      <th>primary_cleaner.input.feed_size</th>\n",
       "    </tr>\n",
       "  </thead>\n",
       "  <tbody>\n",
       "    <tr>\n",
       "      <td>count</td>\n",
       "      <td>5290.000000</td>\n",
       "      <td>5290.000000</td>\n",
       "    </tr>\n",
       "    <tr>\n",
       "      <td>mean</td>\n",
       "      <td>55.952754</td>\n",
       "      <td>7.266339</td>\n",
       "    </tr>\n",
       "    <tr>\n",
       "      <td>std</td>\n",
       "      <td>19.080334</td>\n",
       "      <td>0.610219</td>\n",
       "    </tr>\n",
       "    <tr>\n",
       "      <td>min</td>\n",
       "      <td>0.046369</td>\n",
       "      <td>5.650000</td>\n",
       "    </tr>\n",
       "    <tr>\n",
       "      <td>25%</td>\n",
       "      <td>43.906504</td>\n",
       "      <td>6.890000</td>\n",
       "    </tr>\n",
       "    <tr>\n",
       "      <td>50%</td>\n",
       "      <td>50.846843</td>\n",
       "      <td>7.250000</td>\n",
       "    </tr>\n",
       "    <tr>\n",
       "      <td>75%</td>\n",
       "      <td>62.451165</td>\n",
       "      <td>7.600000</td>\n",
       "    </tr>\n",
       "    <tr>\n",
       "      <td>max</td>\n",
       "      <td>392.494040</td>\n",
       "      <td>15.500000</td>\n",
       "    </tr>\n",
       "  </tbody>\n",
       "</table>\n",
       "</div>"
      ],
      "text/plain": [
       "       rougher.input.feed_size  primary_cleaner.input.feed_size\n",
       "count              5290.000000                      5290.000000\n",
       "mean                 55.952754                         7.266339\n",
       "std                  19.080334                         0.610219\n",
       "min                   0.046369                         5.650000\n",
       "25%                  43.906504                         6.890000\n",
       "50%                  50.846843                         7.250000\n",
       "75%                  62.451165                         7.600000\n",
       "max                 392.494040                        15.500000"
      ]
     },
     "execution_count": 40,
     "metadata": {},
     "output_type": "execute_result"
    }
   ],
   "source": [
    "feed_test.describe()"
   ]
  },
  {
   "cell_type": "markdown",
   "metadata": {},
   "source": [
    "#### Флотация"
   ]
  },
  {
   "cell_type": "code",
   "execution_count": 41,
   "metadata": {},
   "outputs": [
    {
     "data": {
      "image/png": "[encoded data removed]",
      "text/plain": [
       "<Figure size 576x576 with 2 Axes>"
      ]
     },
     "metadata": {
      "needs_background": "light"
     },
     "output_type": "display_data"
    }
   ],
   "source": [
    "f, ax = plt.subplots(1,2, sharey=True, figsize=(8,8))\n",
    "plt.suptitle('Распределенений размеров гранул в тренировочной и тестовой выборках')\n",
    "\n",
    "sns.violinplot(data=feed_train, y='rougher.input.feed_size', ax=ax[0], color='gray')\n",
    "ax[0].set_xlabel('Тренировочная выборка')\n",
    "ax[0].set_ylabel('Флотация')\n",
    "\n",
    "sns.violinplot(data=feed_test, y='rougher.input.feed_size', ax=ax[1], color='orange')\n",
    "ax[1].set_xlabel('Tестовая выборка')\n",
    "ax[1].set_ylabel('Флотация')\n",
    "\n",
    "ax[0].grid()\n",
    "ax[1].grid()\n",
    "plt.show()"
   ]
  },
  {
   "cell_type": "markdown",
   "metadata": {},
   "source": [
    "Почти что близняшки, в тестовой выборке меньше выбросов"
   ]
  },
  {
   "cell_type": "markdown",
   "metadata": {},
   "source": [
    "#### Первичная очистка"
   ]
  },
  {
   "cell_type": "code",
   "execution_count": 42,
   "metadata": {},
   "outputs": [
    {
     "data": {
      "image/png": "[encoded data removed]",
      "text/plain": [
       "<Figure size 576x720 with 2 Axes>"
      ]
     },
     "metadata": {
      "needs_background": "light"
     },
     "output_type": "display_data"
    }
   ],
   "source": [
    "f, ax = plt.subplots(1,2, sharey=True, figsize=(8,10))\n",
    "plt.suptitle('Распределенений размеров гранул в тренировочной и тестовой выборках')\n",
    "\n",
    "sns.violinplot(data=feed_train, y='primary_cleaner.input.feed_size', ax=ax[0], color='gray')\n",
    "ax[0].set_xlabel('Тренировочная выборка')\n",
    "ax[0].set_ylabel('Первичная очистка')\n",
    "\n",
    "sns.violinplot(data=feed_test, y='primary_cleaner.input.feed_size', ax=ax[1], color='orange')\n",
    "ax[1].set_xlabel('Tестовая выборка')\n",
    "ax[1].set_ylabel('Первичная очистка')\n",
    "\n",
    "ax[0].grid()\n",
    "ax[1].grid()\n",
    "plt.show()"
   ]
  },
  {
   "cell_type": "markdown",
   "metadata": {},
   "source": [
    "Выбросы раскидались в разные стороны, но эти два ската однозначно родственники, очень похожи."
   ]
  },
  {
   "cell_type": "markdown",
   "metadata": {},
   "source": [
    "### Cуммарная концентрация всех веществ"
   ]
  },
  {
   "cell_type": "markdown",
   "metadata": {},
   "source": [
    "Исследовать буду таблицу full."
   ]
  },
  {
   "cell_type": "code",
   "execution_count": 43,
   "metadata": {},
   "outputs": [
    {
     "data": {
      "text/plain": [
       "['rougher.output.concentrate_ag',\n",
       " 'rougher.output.concentrate_sol',\n",
       " 'rougher.input.feed_sol',\n",
       " 'rougher.input.feed_au',\n",
       " 'rougher.output.concentrate_pb',\n",
       " 'rougher.input.feed_ag',\n",
       " 'rougher.input.feed_pb',\n",
       " 'final.output.concentrate_sol',\n",
       " 'final.output.concentrate_au',\n",
       " 'rougher.output.concentrate_au',\n",
       " 'final.output.concentrate_ag',\n",
       " 'final.output.concentrate_pb']"
      ]
     },
     "execution_count": 43,
     "metadata": {},
     "output_type": "execute_result"
    }
   ],
   "source": [
    "full_col = list(full.columns)\n",
    "conc_col = [v for v in full_col if 'concentrate' in v or 'feed' in v]\n",
    "garbage_col = [v for v in conc_col if 'size' in v or 'calculation' in v or 'feed_rate' in v or 'primary' in v]\n",
    "concentrate_col = list(set(conc_col) - set(garbage_col))\n",
    "concentrate_col"
   ]
  },
  {
   "cell_type": "code",
   "execution_count": 44,
   "metadata": {},
   "outputs": [
    {
     "data": {
      "text/plain": [
       "['final.output.concentrate_ag',\n",
       " 'final.output.concentrate_au',\n",
       " 'final.output.concentrate_pb',\n",
       " 'final.output.concentrate_sol',\n",
       " 'rougher.input.feed_ag',\n",
       " 'rougher.input.feed_au',\n",
       " 'rougher.input.feed_pb',\n",
       " 'rougher.input.feed_sol',\n",
       " 'rougher.output.concentrate_ag',\n",
       " 'rougher.output.concentrate_au',\n",
       " 'rougher.output.concentrate_pb',\n",
       " 'rougher.output.concentrate_sol']"
      ]
     },
     "execution_count": 44,
     "metadata": {},
     "output_type": "execute_result"
    }
   ],
   "source": [
    "concentrate_col.sort()\n",
    "concentrate_col"
   ]
  },
  {
   "cell_type": "markdown",
   "metadata": {},
   "source": [
    "Необходимые столбцы выделены, создаю таблицу."
   ]
  },
  {
   "cell_type": "code",
   "execution_count": 45,
   "metadata": {},
   "outputs": [
    {
     "name": "stdout",
     "output_type": "stream",
     "text": [
      "<class 'pandas.core.frame.DataFrame'>\n",
      "DatetimeIndex: 19439 entries, 2016-01-15 00:00:00 to 2018-08-18 10:59:59\n",
      "Data columns (total 12 columns):\n",
      "final.output.concentrate_ag       19438 non-null float64\n",
      "final.output.concentrate_au       19439 non-null float64\n",
      "final.output.concentrate_pb       19438 non-null float64\n",
      "final.output.concentrate_sol      19228 non-null float64\n",
      "rougher.input.feed_ag             19439 non-null float64\n",
      "rougher.input.feed_au             19439 non-null float64\n",
      "rougher.input.feed_pb             19339 non-null float64\n",
      "rougher.input.feed_sol            19340 non-null float64\n",
      "rougher.output.concentrate_ag     19439 non-null float64\n",
      "rougher.output.concentrate_au     19439 non-null float64\n",
      "rougher.output.concentrate_pb     19439 non-null float64\n",
      "rougher.output.concentrate_sol    19416 non-null float64\n",
      "dtypes: float64(12)\n",
      "memory usage: 1.9 MB\n"
     ]
    }
   ],
   "source": [
    "conc_tbl = full[concentrate_col].copy()\n",
    "conc_tbl.info()"
   ]
  },
  {
   "cell_type": "markdown",
   "metadata": {},
   "source": [
    "#### Сравнение суммарной концентрации всех веществ на этапах \"Cырье\", \"Черновой\" и \"Финальный\""
   ]
  },
  {
   "cell_type": "markdown",
   "metadata": {},
   "source": [
    "Нам неизвестен параметр \"sol\", возможно это один из побочных продуктов, так как присутствует на всех этапах (в том числе и в золотоносной руде на входе), посчитаем и его."
   ]
  },
  {
   "cell_type": "code",
   "execution_count": 46,
   "metadata": {},
   "outputs": [
    {
     "data": {
      "text/html": [
       "<div>\n",
       "<style scoped>\n",
       "    .dataframe tbody tr th:only-of-type {\n",
       "        vertical-align: middle;\n",
       "    }\n",
       "\n",
       "    .dataframe tbody tr th {\n",
       "        vertical-align: top;\n",
       "    }\n",
       "\n",
       "    .dataframe thead th {\n",
       "        text-align: right;\n",
       "    }\n",
       "</style>\n",
       "<table border=\"1\" class=\"dataframe\">\n",
       "  <thead>\n",
       "    <tr style=\"text-align: right;\">\n",
       "      <th></th>\n",
       "      <th>final.output.concentrate_ag</th>\n",
       "      <th>final.output.concentrate_au</th>\n",
       "      <th>final.output.concentrate_pb</th>\n",
       "      <th>final.output.concentrate_sol</th>\n",
       "      <th>rougher.input.feed_ag</th>\n",
       "      <th>rougher.input.feed_au</th>\n",
       "      <th>rougher.input.feed_pb</th>\n",
       "      <th>rougher.input.feed_sol</th>\n",
       "      <th>rougher.output.concentrate_ag</th>\n",
       "      <th>rougher.output.concentrate_au</th>\n",
       "      <th>rougher.output.concentrate_pb</th>\n",
       "      <th>rougher.output.concentrate_sol</th>\n",
       "      <th>final_sum</th>\n",
       "      <th>first_sum</th>\n",
       "      <th>second_sum</th>\n",
       "    </tr>\n",
       "    <tr>\n",
       "      <th>date</th>\n",
       "      <th></th>\n",
       "      <th></th>\n",
       "      <th></th>\n",
       "      <th></th>\n",
       "      <th></th>\n",
       "      <th></th>\n",
       "      <th></th>\n",
       "      <th></th>\n",
       "      <th></th>\n",
       "      <th></th>\n",
       "      <th></th>\n",
       "      <th></th>\n",
       "      <th></th>\n",
       "      <th></th>\n",
       "      <th></th>\n",
       "    </tr>\n",
       "  </thead>\n",
       "  <tbody>\n",
       "    <tr>\n",
       "      <td>2016-01-15 00:00:00</td>\n",
       "      <td>6.055403</td>\n",
       "      <td>42.192020</td>\n",
       "      <td>9.889648</td>\n",
       "      <td>5.507324</td>\n",
       "      <td>6.100378</td>\n",
       "      <td>6.486150</td>\n",
       "      <td>2.284912</td>\n",
       "      <td>36.808594</td>\n",
       "      <td>11.500771</td>\n",
       "      <td>19.793808</td>\n",
       "      <td>7.101074</td>\n",
       "      <td>28.029297</td>\n",
       "      <td>63.644396</td>\n",
       "      <td>51.680034</td>\n",
       "      <td>66.424950</td>\n",
       "    </tr>\n",
       "    <tr>\n",
       "      <td>2016-01-15 01:00:00</td>\n",
       "      <td>6.029369</td>\n",
       "      <td>42.701629</td>\n",
       "      <td>9.968944</td>\n",
       "      <td>5.257781</td>\n",
       "      <td>6.161113</td>\n",
       "      <td>6.478583</td>\n",
       "      <td>2.266033</td>\n",
       "      <td>35.753385</td>\n",
       "      <td>11.615865</td>\n",
       "      <td>20.050975</td>\n",
       "      <td>7.278807</td>\n",
       "      <td>28.067063</td>\n",
       "      <td>63.957723</td>\n",
       "      <td>50.659114</td>\n",
       "      <td>67.012710</td>\n",
       "    </tr>\n",
       "    <tr>\n",
       "      <td>2016-01-15 02:00:00</td>\n",
       "      <td>6.055926</td>\n",
       "      <td>42.657501</td>\n",
       "      <td>10.213995</td>\n",
       "      <td>5.383759</td>\n",
       "      <td>6.116455</td>\n",
       "      <td>6.362222</td>\n",
       "      <td>2.159622</td>\n",
       "      <td>35.971630</td>\n",
       "      <td>11.695753</td>\n",
       "      <td>19.737170</td>\n",
       "      <td>7.216833</td>\n",
       "      <td>27.454037</td>\n",
       "      <td>64.311180</td>\n",
       "      <td>50.609929</td>\n",
       "      <td>66.103793</td>\n",
       "    </tr>\n",
       "  </tbody>\n",
       "</table>\n",
       "</div>"
      ],
      "text/plain": [
       "                     final.output.concentrate_ag  final.output.concentrate_au  \\\n",
       "date                                                                            \n",
       "2016-01-15 00:00:00                     6.055403                    42.192020   \n",
       "2016-01-15 01:00:00                     6.029369                    42.701629   \n",
       "2016-01-15 02:00:00                     6.055926                    42.657501   \n",
       "\n",
       "                     final.output.concentrate_pb  \\\n",
       "date                                               \n",
       "2016-01-15 00:00:00                     9.889648   \n",
       "2016-01-15 01:00:00                     9.968944   \n",
       "2016-01-15 02:00:00                    10.213995   \n",
       "\n",
       "                     final.output.concentrate_sol  rougher.input.feed_ag  \\\n",
       "date                                                                       \n",
       "2016-01-15 00:00:00                      5.507324               6.100378   \n",
       "2016-01-15 01:00:00                      5.257781               6.161113   \n",
       "2016-01-15 02:00:00                      5.383759               6.116455   \n",
       "\n",
       "                     rougher.input.feed_au  rougher.input.feed_pb  \\\n",
       "date                                                                \n",
       "2016-01-15 00:00:00               6.486150               2.284912   \n",
       "2016-01-15 01:00:00               6.478583               2.266033   \n",
       "2016-01-15 02:00:00               6.362222               2.159622   \n",
       "\n",
       "                     rougher.input.feed_sol  rougher.output.concentrate_ag  \\\n",
       "date                                                                         \n",
       "2016-01-15 00:00:00               36.808594                      11.500771   \n",
       "2016-01-15 01:00:00               35.753385                      11.615865   \n",
       "2016-01-15 02:00:00               35.971630                      11.695753   \n",
       "\n",
       "                     rougher.output.concentrate_au  \\\n",
       "date                                                 \n",
       "2016-01-15 00:00:00                      19.793808   \n",
       "2016-01-15 01:00:00                      20.050975   \n",
       "2016-01-15 02:00:00                      19.737170   \n",
       "\n",
       "                     rougher.output.concentrate_pb  \\\n",
       "date                                                 \n",
       "2016-01-15 00:00:00                       7.101074   \n",
       "2016-01-15 01:00:00                       7.278807   \n",
       "2016-01-15 02:00:00                       7.216833   \n",
       "\n",
       "                     rougher.output.concentrate_sol  final_sum  first_sum  \\\n",
       "date                                                                        \n",
       "2016-01-15 00:00:00                       28.029297  63.644396  51.680034   \n",
       "2016-01-15 01:00:00                       28.067063  63.957723  50.659114   \n",
       "2016-01-15 02:00:00                       27.454037  64.311180  50.609929   \n",
       "\n",
       "                     second_sum  \n",
       "date                             \n",
       "2016-01-15 00:00:00   66.424950  \n",
       "2016-01-15 01:00:00   67.012710  \n",
       "2016-01-15 02:00:00   66.103793  "
      ]
     },
     "execution_count": 46,
     "metadata": {},
     "output_type": "execute_result"
    }
   ],
   "source": [
    "conc_tbl['final_sum'] = conc_tbl.iloc[:,0] + conc_tbl.iloc[:,1] + conc_tbl.iloc[:,2] + conc_tbl.iloc[:,3]\n",
    "conc_tbl['first_sum'] = conc_tbl.iloc[:,4] + conc_tbl.iloc[:,5] + conc_tbl.iloc[:,6] + conc_tbl.iloc[:,7]\n",
    "conc_tbl['second_sum'] = conc_tbl.iloc[:,8] + conc_tbl.iloc[:,9] + conc_tbl.iloc[:,10] + conc_tbl.iloc[:,11]\n",
    "conc_tbl.head(3)"
   ]
  },
  {
   "cell_type": "code",
   "execution_count": 47,
   "metadata": {},
   "outputs": [
    {
     "data": {
      "image/png": "[encoded data removed]",
      "text/plain": [
       "<Figure size 576x720 with 3 Axes>"
      ]
     },
     "metadata": {
      "needs_background": "light"
     },
     "output_type": "display_data"
    }
   ],
   "source": [
    "f, ax = plt.subplots(1,3, sharey=True, figsize=(8,10))\n",
    "\n",
    "plt.suptitle('Суммарная концентрация всех веществ', fontsize=15)\n",
    "\n",
    "sns.violinplot(data=conc_tbl, y='final_sum', ax=ax[0], color='red')\n",
    "ax[0].set_ylabel('Финальный концентрат')\n",
    "ax[0].grid()\n",
    "sns.violinplot(data=conc_tbl, y='first_sum', ax=ax[1], color='orange')\n",
    "ax[1].set_ylabel('Сырьё')\n",
    "ax[1].grid()\n",
    "sns.violinplot(data=conc_tbl, y='second_sum', ax=ax[2], color='yellow')\n",
    "ax[2].set_ylabel('Черновой концентрат')\n",
    "ax[2].grid()\n",
    "\n",
    "plt.show()"
   ]
  },
  {
   "cell_type": "markdown",
   "metadata": {},
   "source": [
    "На этапах \"Черновой концентрат\" и \"Финальный концентрат\" срединные значения в районе 70, логично, что в финальном концентрате разброс значений меньше. В \"Черновом концентрате\" странный выброс в области нуля, в \"Финальный концентрат\" в области нуля также отмечается выброс, но незначительный.\n",
    "\n",
    "В \"Сырье\" суммарная концентрация исследуемых элементов ниже, так как объем побочных продуктов в золотоносной руде максимальный."
   ]
  },
  {
   "cell_type": "code",
   "execution_count": 48,
   "metadata": {},
   "outputs": [
    {
     "data": {
      "text/plain": [
       "394"
      ]
     },
     "execution_count": 48,
     "metadata": {},
     "output_type": "execute_result"
    }
   ],
   "source": [
    "len(conc_tbl[conc_tbl['second_sum'] == 0])"
   ]
  },
  {
   "cell_type": "code",
   "execution_count": 49,
   "metadata": {},
   "outputs": [
    {
     "data": {
      "text/plain": [
       "98"
      ]
     },
     "execution_count": 49,
     "metadata": {},
     "output_type": "execute_result"
    }
   ],
   "source": [
    "len(conc_tbl[conc_tbl['final_sum'] == 0])"
   ]
  },
  {
   "cell_type": "code",
   "execution_count": 50,
   "metadata": {},
   "outputs": [
    {
     "data": {
      "text/plain": [
       "0"
      ]
     },
     "execution_count": 50,
     "metadata": {},
     "output_type": "execute_result"
    }
   ],
   "source": [
    "len(conc_tbl[conc_tbl['first_sum'] == 0])"
   ]
  },
  {
   "cell_type": "code",
   "execution_count": 51,
   "metadata": {},
   "outputs": [
    {
     "data": {
      "text/html": [
       "<div>\n",
       "<style scoped>\n",
       "    .dataframe tbody tr th:only-of-type {\n",
       "        vertical-align: middle;\n",
       "    }\n",
       "\n",
       "    .dataframe tbody tr th {\n",
       "        vertical-align: top;\n",
       "    }\n",
       "\n",
       "    .dataframe thead th {\n",
       "        text-align: right;\n",
       "    }\n",
       "</style>\n",
       "<table border=\"1\" class=\"dataframe\">\n",
       "  <thead>\n",
       "    <tr style=\"text-align: right;\">\n",
       "      <th></th>\n",
       "      <th>final.output.concentrate_ag</th>\n",
       "      <th>final.output.concentrate_au</th>\n",
       "      <th>final.output.concentrate_pb</th>\n",
       "      <th>final.output.concentrate_sol</th>\n",
       "      <th>rougher.input.feed_ag</th>\n",
       "      <th>rougher.input.feed_au</th>\n",
       "      <th>rougher.input.feed_pb</th>\n",
       "      <th>rougher.input.feed_sol</th>\n",
       "      <th>rougher.output.concentrate_ag</th>\n",
       "      <th>rougher.output.concentrate_au</th>\n",
       "      <th>rougher.output.concentrate_pb</th>\n",
       "      <th>rougher.output.concentrate_sol</th>\n",
       "      <th>final_sum</th>\n",
       "      <th>first_sum</th>\n",
       "      <th>second_sum</th>\n",
       "    </tr>\n",
       "    <tr>\n",
       "      <th>date</th>\n",
       "      <th></th>\n",
       "      <th></th>\n",
       "      <th></th>\n",
       "      <th></th>\n",
       "      <th></th>\n",
       "      <th></th>\n",
       "      <th></th>\n",
       "      <th></th>\n",
       "      <th></th>\n",
       "      <th></th>\n",
       "      <th></th>\n",
       "      <th></th>\n",
       "      <th></th>\n",
       "      <th></th>\n",
       "      <th></th>\n",
       "    </tr>\n",
       "  </thead>\n",
       "  <tbody>\n",
       "    <tr>\n",
       "      <td>2016-02-13 11:00:00</td>\n",
       "      <td>0.0</td>\n",
       "      <td>0.0</td>\n",
       "      <td>0.0</td>\n",
       "      <td>0.0</td>\n",
       "      <td>7.407737</td>\n",
       "      <td>5.598971</td>\n",
       "      <td>1.934178</td>\n",
       "      <td>31.762853</td>\n",
       "      <td>11.803589</td>\n",
       "      <td>15.935190</td>\n",
       "      <td>7.143475</td>\n",
       "      <td>21.692525</td>\n",
       "      <td>0.0</td>\n",
       "      <td>46.703740</td>\n",
       "      <td>56.574778</td>\n",
       "    </tr>\n",
       "    <tr>\n",
       "      <td>2016-03-11 10:00:00</td>\n",
       "      <td>0.0</td>\n",
       "      <td>0.0</td>\n",
       "      <td>0.0</td>\n",
       "      <td>0.0</td>\n",
       "      <td>8.098125</td>\n",
       "      <td>7.786147</td>\n",
       "      <td>2.588661</td>\n",
       "      <td>34.896012</td>\n",
       "      <td>10.640168</td>\n",
       "      <td>18.682162</td>\n",
       "      <td>7.565854</td>\n",
       "      <td>24.793448</td>\n",
       "      <td>0.0</td>\n",
       "      <td>53.368945</td>\n",
       "      <td>61.681632</td>\n",
       "    </tr>\n",
       "    <tr>\n",
       "      <td>2016-03-11 11:00:00</td>\n",
       "      <td>0.0</td>\n",
       "      <td>0.0</td>\n",
       "      <td>0.0</td>\n",
       "      <td>0.0</td>\n",
       "      <td>7.832467</td>\n",
       "      <td>7.499248</td>\n",
       "      <td>2.435125</td>\n",
       "      <td>34.196525</td>\n",
       "      <td>10.415491</td>\n",
       "      <td>18.231121</td>\n",
       "      <td>7.367937</td>\n",
       "      <td>24.200400</td>\n",
       "      <td>0.0</td>\n",
       "      <td>51.963364</td>\n",
       "      <td>60.214950</td>\n",
       "    </tr>\n",
       "    <tr>\n",
       "      <td>2016-03-11 12:00:00</td>\n",
       "      <td>0.0</td>\n",
       "      <td>0.0</td>\n",
       "      <td>0.0</td>\n",
       "      <td>0.0</td>\n",
       "      <td>7.600277</td>\n",
       "      <td>7.032278</td>\n",
       "      <td>2.265148</td>\n",
       "      <td>31.994985</td>\n",
       "      <td>10.197899</td>\n",
       "      <td>18.190655</td>\n",
       "      <td>7.364725</td>\n",
       "      <td>22.839147</td>\n",
       "      <td>0.0</td>\n",
       "      <td>48.892687</td>\n",
       "      <td>58.592426</td>\n",
       "    </tr>\n",
       "    <tr>\n",
       "      <td>2016-03-11 13:00:00</td>\n",
       "      <td>0.0</td>\n",
       "      <td>0.0</td>\n",
       "      <td>0.0</td>\n",
       "      <td>0.0</td>\n",
       "      <td>7.436860</td>\n",
       "      <td>7.021635</td>\n",
       "      <td>2.265435</td>\n",
       "      <td>32.541806</td>\n",
       "      <td>9.968103</td>\n",
       "      <td>18.194323</td>\n",
       "      <td>7.282737</td>\n",
       "      <td>22.918014</td>\n",
       "      <td>0.0</td>\n",
       "      <td>49.265736</td>\n",
       "      <td>58.363177</td>\n",
       "    </tr>\n",
       "  </tbody>\n",
       "</table>\n",
       "</div>"
      ],
      "text/plain": [
       "                     final.output.concentrate_ag  final.output.concentrate_au  \\\n",
       "date                                                                            \n",
       "2016-02-13 11:00:00                          0.0                          0.0   \n",
       "2016-03-11 10:00:00                          0.0                          0.0   \n",
       "2016-03-11 11:00:00                          0.0                          0.0   \n",
       "2016-03-11 12:00:00                          0.0                          0.0   \n",
       "2016-03-11 13:00:00                          0.0                          0.0   \n",
       "\n",
       "                     final.output.concentrate_pb  \\\n",
       "date                                               \n",
       "2016-02-13 11:00:00                          0.0   \n",
       "2016-03-11 10:00:00                          0.0   \n",
       "2016-03-11 11:00:00                          0.0   \n",
       "2016-03-11 12:00:00                          0.0   \n",
       "2016-03-11 13:00:00                          0.0   \n",
       "\n",
       "                     final.output.concentrate_sol  rougher.input.feed_ag  \\\n",
       "date                                                                       \n",
       "2016-02-13 11:00:00                           0.0               7.407737   \n",
       "2016-03-11 10:00:00                           0.0               8.098125   \n",
       "2016-03-11 11:00:00                           0.0               7.832467   \n",
       "2016-03-11 12:00:00                           0.0               7.600277   \n",
       "2016-03-11 13:00:00                           0.0               7.436860   \n",
       "\n",
       "                     rougher.input.feed_au  rougher.input.feed_pb  \\\n",
       "date                                                                \n",
       "2016-02-13 11:00:00               5.598971               1.934178   \n",
       "2016-03-11 10:00:00               7.786147               2.588661   \n",
       "2016-03-11 11:00:00               7.499248               2.435125   \n",
       "2016-03-11 12:00:00               7.032278               2.265148   \n",
       "2016-03-11 13:00:00               7.021635               2.265435   \n",
       "\n",
       "                     rougher.input.feed_sol  rougher.output.concentrate_ag  \\\n",
       "date                                                                         \n",
       "2016-02-13 11:00:00               31.762853                      11.803589   \n",
       "2016-03-11 10:00:00               34.896012                      10.640168   \n",
       "2016-03-11 11:00:00               34.196525                      10.415491   \n",
       "2016-03-11 12:00:00               31.994985                      10.197899   \n",
       "2016-03-11 13:00:00               32.541806                       9.968103   \n",
       "\n",
       "                     rougher.output.concentrate_au  \\\n",
       "date                                                 \n",
       "2016-02-13 11:00:00                      15.935190   \n",
       "2016-03-11 10:00:00                      18.682162   \n",
       "2016-03-11 11:00:00                      18.231121   \n",
       "2016-03-11 12:00:00                      18.190655   \n",
       "2016-03-11 13:00:00                      18.194323   \n",
       "\n",
       "                     rougher.output.concentrate_pb  \\\n",
       "date                                                 \n",
       "2016-02-13 11:00:00                       7.143475   \n",
       "2016-03-11 10:00:00                       7.565854   \n",
       "2016-03-11 11:00:00                       7.367937   \n",
       "2016-03-11 12:00:00                       7.364725   \n",
       "2016-03-11 13:00:00                       7.282737   \n",
       "\n",
       "                     rougher.output.concentrate_sol  final_sum  first_sum  \\\n",
       "date                                                                        \n",
       "2016-02-13 11:00:00                       21.692525        0.0  46.703740   \n",
       "2016-03-11 10:00:00                       24.793448        0.0  53.368945   \n",
       "2016-03-11 11:00:00                       24.200400        0.0  51.963364   \n",
       "2016-03-11 12:00:00                       22.839147        0.0  48.892687   \n",
       "2016-03-11 13:00:00                       22.918014        0.0  49.265736   \n",
       "\n",
       "                     second_sum  \n",
       "date                             \n",
       "2016-02-13 11:00:00   56.574778  \n",
       "2016-03-11 10:00:00   61.681632  \n",
       "2016-03-11 11:00:00   60.214950  \n",
       "2016-03-11 12:00:00   58.592426  \n",
       "2016-03-11 13:00:00   58.363177  "
      ]
     },
     "execution_count": 51,
     "metadata": {},
     "output_type": "execute_result"
    }
   ],
   "source": [
    "conc_tbl[conc_tbl['final_sum'] == 0].head()"
   ]
  },
  {
   "cell_type": "markdown",
   "metadata": {},
   "source": [
    "Около 400 нулевых значений в черновом концентрате по ключевым значениям и почти 100 в финальном концентрате, но это данные из full, посмотрим, что в трейне. Нам нужно золото, по имеющейся подборке нулевые значения по всем исследуемым показателям на данных этапах подозрительны. Возможно, это технический сбой, или данные о концентрации веществ в черновом концентрате просто не были внесены, но..\n",
    "\n",
    "Для модели это нехорошо."
   ]
  },
  {
   "cell_type": "code",
   "execution_count": 52,
   "metadata": {},
   "outputs": [
    {
     "data": {
      "text/plain": [
       "count    14149.000000\n",
       "mean        44.003792\n",
       "std          4.905261\n",
       "min          0.000000\n",
       "25%         43.276111\n",
       "50%         44.872436\n",
       "75%         46.166425\n",
       "max         52.756638\n",
       "Name: final.output.concentrate_au, dtype: float64"
      ]
     },
     "execution_count": 52,
     "metadata": {},
     "output_type": "execute_result"
    }
   ],
   "source": [
    "train['final.output.concentrate_au'].describe()"
   ]
  },
  {
   "cell_type": "code",
   "execution_count": 53,
   "metadata": {
    "scrolled": false
   },
   "outputs": [
    {
     "data": {
      "text/plain": [
       "58"
      ]
     },
     "execution_count": 53,
     "metadata": {},
     "output_type": "execute_result"
    }
   ],
   "source": [
    "len(train[train['final.output.concentrate_au'] == 0])"
   ]
  },
  {
   "cell_type": "code",
   "execution_count": 54,
   "metadata": {},
   "outputs": [
    {
     "data": {
      "text/html": [
       "<div>\n",
       "<style scoped>\n",
       "    .dataframe tbody tr th:only-of-type {\n",
       "        vertical-align: middle;\n",
       "    }\n",
       "\n",
       "    .dataframe tbody tr th {\n",
       "        vertical-align: top;\n",
       "    }\n",
       "\n",
       "    .dataframe thead th {\n",
       "        text-align: right;\n",
       "    }\n",
       "</style>\n",
       "<table border=\"1\" class=\"dataframe\">\n",
       "  <thead>\n",
       "    <tr style=\"text-align: right;\">\n",
       "      <th></th>\n",
       "      <th>final.output.concentrate_ag</th>\n",
       "      <th>final.output.concentrate_pb</th>\n",
       "      <th>final.output.concentrate_sol</th>\n",
       "      <th>final.output.concentrate_au</th>\n",
       "      <th>final.output.recovery</th>\n",
       "      <th>final.output.tail_ag</th>\n",
       "      <th>final.output.tail_pb</th>\n",
       "      <th>final.output.tail_sol</th>\n",
       "      <th>final.output.tail_au</th>\n",
       "      <th>primary_cleaner.input.sulfate</th>\n",
       "      <th>...</th>\n",
       "      <th>secondary_cleaner.state.floatbank4_a_level</th>\n",
       "      <th>secondary_cleaner.state.floatbank4_b_air</th>\n",
       "      <th>secondary_cleaner.state.floatbank4_b_level</th>\n",
       "      <th>secondary_cleaner.state.floatbank5_a_air</th>\n",
       "      <th>secondary_cleaner.state.floatbank5_a_level</th>\n",
       "      <th>secondary_cleaner.state.floatbank5_b_air</th>\n",
       "      <th>secondary_cleaner.state.floatbank5_b_level</th>\n",
       "      <th>secondary_cleaner.state.floatbank6_a_air</th>\n",
       "      <th>secondary_cleaner.state.floatbank6_a_level</th>\n",
       "      <th>rougher.recovery_au</th>\n",
       "    </tr>\n",
       "    <tr>\n",
       "      <th>date</th>\n",
       "      <th></th>\n",
       "      <th></th>\n",
       "      <th></th>\n",
       "      <th></th>\n",
       "      <th></th>\n",
       "      <th></th>\n",
       "      <th></th>\n",
       "      <th></th>\n",
       "      <th></th>\n",
       "      <th></th>\n",
       "      <th></th>\n",
       "      <th></th>\n",
       "      <th></th>\n",
       "      <th></th>\n",
       "      <th></th>\n",
       "      <th></th>\n",
       "      <th></th>\n",
       "      <th></th>\n",
       "      <th></th>\n",
       "      <th></th>\n",
       "      <th></th>\n",
       "    </tr>\n",
       "  </thead>\n",
       "  <tbody>\n",
       "    <tr>\n",
       "      <td>2016-02-13 11:00:00</td>\n",
       "      <td>0.0</td>\n",
       "      <td>0.0</td>\n",
       "      <td>0.0</td>\n",
       "      <td>0.0</td>\n",
       "      <td>0.0</td>\n",
       "      <td>8.894029</td>\n",
       "      <td>0.843584</td>\n",
       "      <td>15.417342</td>\n",
       "      <td>1.779052</td>\n",
       "      <td>133.610147</td>\n",
       "      <td>...</td>\n",
       "      <td>-399.587122</td>\n",
       "      <td>21.988937</td>\n",
       "      <td>-401.366408</td>\n",
       "      <td>22.995012</td>\n",
       "      <td>-399.370680</td>\n",
       "      <td>20.966863</td>\n",
       "      <td>-399.308354</td>\n",
       "      <td>24.987274</td>\n",
       "      <td>-399.619808</td>\n",
       "      <td>68.960993</td>\n",
       "    </tr>\n",
       "    <tr>\n",
       "      <td>2016-03-11 10:00:00</td>\n",
       "      <td>0.0</td>\n",
       "      <td>0.0</td>\n",
       "      <td>0.0</td>\n",
       "      <td>0.0</td>\n",
       "      <td>0.0</td>\n",
       "      <td>10.817313</td>\n",
       "      <td>1.462800</td>\n",
       "      <td>16.407607</td>\n",
       "      <td>2.984504</td>\n",
       "      <td>111.502432</td>\n",
       "      <td>...</td>\n",
       "      <td>-453.431061</td>\n",
       "      <td>12.003445</td>\n",
       "      <td>-450.179844</td>\n",
       "      <td>11.982937</td>\n",
       "      <td>-449.856468</td>\n",
       "      <td>9.927727</td>\n",
       "      <td>-450.521700</td>\n",
       "      <td>19.971682</td>\n",
       "      <td>-500.685521</td>\n",
       "      <td>82.787322</td>\n",
       "    </tr>\n",
       "    <tr>\n",
       "      <td>2016-03-11 11:00:00</td>\n",
       "      <td>0.0</td>\n",
       "      <td>0.0</td>\n",
       "      <td>0.0</td>\n",
       "      <td>0.0</td>\n",
       "      <td>0.0</td>\n",
       "      <td>10.436792</td>\n",
       "      <td>1.207636</td>\n",
       "      <td>17.800392</td>\n",
       "      <td>2.747294</td>\n",
       "      <td>110.586754</td>\n",
       "      <td>...</td>\n",
       "      <td>-446.590944</td>\n",
       "      <td>12.130405</td>\n",
       "      <td>-449.684812</td>\n",
       "      <td>11.844983</td>\n",
       "      <td>-450.881424</td>\n",
       "      <td>9.916784</td>\n",
       "      <td>-449.542871</td>\n",
       "      <td>20.004767</td>\n",
       "      <td>-500.137068</td>\n",
       "      <td>83.515262</td>\n",
       "    </tr>\n",
       "    <tr>\n",
       "      <td>2016-03-11 12:00:00</td>\n",
       "      <td>0.0</td>\n",
       "      <td>0.0</td>\n",
       "      <td>0.0</td>\n",
       "      <td>0.0</td>\n",
       "      <td>0.0</td>\n",
       "      <td>10.637073</td>\n",
       "      <td>1.405778</td>\n",
       "      <td>17.195897</td>\n",
       "      <td>2.791440</td>\n",
       "      <td>104.202288</td>\n",
       "      <td>...</td>\n",
       "      <td>-496.613149</td>\n",
       "      <td>12.055535</td>\n",
       "      <td>-496.908551</td>\n",
       "      <td>12.091144</td>\n",
       "      <td>-496.404140</td>\n",
       "      <td>9.976074</td>\n",
       "      <td>-496.783155</td>\n",
       "      <td>19.921634</td>\n",
       "      <td>-500.769011</td>\n",
       "      <td>83.702224</td>\n",
       "    </tr>\n",
       "    <tr>\n",
       "      <td>2016-03-11 13:00:00</td>\n",
       "      <td>0.0</td>\n",
       "      <td>0.0</td>\n",
       "      <td>0.0</td>\n",
       "      <td>0.0</td>\n",
       "      <td>0.0</td>\n",
       "      <td>10.530320</td>\n",
       "      <td>1.461550</td>\n",
       "      <td>17.556860</td>\n",
       "      <td>2.682127</td>\n",
       "      <td>102.438023</td>\n",
       "      <td>...</td>\n",
       "      <td>-500.427824</td>\n",
       "      <td>12.083824</td>\n",
       "      <td>-500.162537</td>\n",
       "      <td>12.078809</td>\n",
       "      <td>-499.903743</td>\n",
       "      <td>10.075259</td>\n",
       "      <td>-499.540325</td>\n",
       "      <td>20.039788</td>\n",
       "      <td>-499.932405</td>\n",
       "      <td>84.836821</td>\n",
       "    </tr>\n",
       "  </tbody>\n",
       "</table>\n",
       "<p>5 rows × 87 columns</p>\n",
       "</div>"
      ],
      "text/plain": [
       "                     final.output.concentrate_ag  final.output.concentrate_pb  \\\n",
       "date                                                                            \n",
       "2016-02-13 11:00:00                          0.0                          0.0   \n",
       "2016-03-11 10:00:00                          0.0                          0.0   \n",
       "2016-03-11 11:00:00                          0.0                          0.0   \n",
       "2016-03-11 12:00:00                          0.0                          0.0   \n",
       "2016-03-11 13:00:00                          0.0                          0.0   \n",
       "\n",
       "                     final.output.concentrate_sol  \\\n",
       "date                                                \n",
       "2016-02-13 11:00:00                           0.0   \n",
       "2016-03-11 10:00:00                           0.0   \n",
       "2016-03-11 11:00:00                           0.0   \n",
       "2016-03-11 12:00:00                           0.0   \n",
       "2016-03-11 13:00:00                           0.0   \n",
       "\n",
       "                     final.output.concentrate_au  final.output.recovery  \\\n",
       "date                                                                      \n",
       "2016-02-13 11:00:00                          0.0                    0.0   \n",
       "2016-03-11 10:00:00                          0.0                    0.0   \n",
       "2016-03-11 11:00:00                          0.0                    0.0   \n",
       "2016-03-11 12:00:00                          0.0                    0.0   \n",
       "2016-03-11 13:00:00                          0.0                    0.0   \n",
       "\n",
       "                     final.output.tail_ag  final.output.tail_pb  \\\n",
       "date                                                              \n",
       "2016-02-13 11:00:00              8.894029              0.843584   \n",
       "2016-03-11 10:00:00             10.817313              1.462800   \n",
       "2016-03-11 11:00:00             10.436792              1.207636   \n",
       "2016-03-11 12:00:00             10.637073              1.405778   \n",
       "2016-03-11 13:00:00             10.530320              1.461550   \n",
       "\n",
       "                     final.output.tail_sol  final.output.tail_au  \\\n",
       "date                                                               \n",
       "2016-02-13 11:00:00              15.417342              1.779052   \n",
       "2016-03-11 10:00:00              16.407607              2.984504   \n",
       "2016-03-11 11:00:00              17.800392              2.747294   \n",
       "2016-03-11 12:00:00              17.195897              2.791440   \n",
       "2016-03-11 13:00:00              17.556860              2.682127   \n",
       "\n",
       "                     primary_cleaner.input.sulfate  ...  \\\n",
       "date                                                ...   \n",
       "2016-02-13 11:00:00                     133.610147  ...   \n",
       "2016-03-11 10:00:00                     111.502432  ...   \n",
       "2016-03-11 11:00:00                     110.586754  ...   \n",
       "2016-03-11 12:00:00                     104.202288  ...   \n",
       "2016-03-11 13:00:00                     102.438023  ...   \n",
       "\n",
       "                     secondary_cleaner.state.floatbank4_a_level  \\\n",
       "date                                                              \n",
       "2016-02-13 11:00:00                                 -399.587122   \n",
       "2016-03-11 10:00:00                                 -453.431061   \n",
       "2016-03-11 11:00:00                                 -446.590944   \n",
       "2016-03-11 12:00:00                                 -496.613149   \n",
       "2016-03-11 13:00:00                                 -500.427824   \n",
       "\n",
       "                     secondary_cleaner.state.floatbank4_b_air  \\\n",
       "date                                                            \n",
       "2016-02-13 11:00:00                                 21.988937   \n",
       "2016-03-11 10:00:00                                 12.003445   \n",
       "2016-03-11 11:00:00                                 12.130405   \n",
       "2016-03-11 12:00:00                                 12.055535   \n",
       "2016-03-11 13:00:00                                 12.083824   \n",
       "\n",
       "                     secondary_cleaner.state.floatbank4_b_level  \\\n",
       "date                                                              \n",
       "2016-02-13 11:00:00                                 -401.366408   \n",
       "2016-03-11 10:00:00                                 -450.179844   \n",
       "2016-03-11 11:00:00                                 -449.684812   \n",
       "2016-03-11 12:00:00                                 -496.908551   \n",
       "2016-03-11 13:00:00                                 -500.162537   \n",
       "\n",
       "                     secondary_cleaner.state.floatbank5_a_air  \\\n",
       "date                                                            \n",
       "2016-02-13 11:00:00                                 22.995012   \n",
       "2016-03-11 10:00:00                                 11.982937   \n",
       "2016-03-11 11:00:00                                 11.844983   \n",
       "2016-03-11 12:00:00                                 12.091144   \n",
       "2016-03-11 13:00:00                                 12.078809   \n",
       "\n",
       "                     secondary_cleaner.state.floatbank5_a_level  \\\n",
       "date                                                              \n",
       "2016-02-13 11:00:00                                 -399.370680   \n",
       "2016-03-11 10:00:00                                 -449.856468   \n",
       "2016-03-11 11:00:00                                 -450.881424   \n",
       "2016-03-11 12:00:00                                 -496.404140   \n",
       "2016-03-11 13:00:00                                 -499.903743   \n",
       "\n",
       "                     secondary_cleaner.state.floatbank5_b_air  \\\n",
       "date                                                            \n",
       "2016-02-13 11:00:00                                 20.966863   \n",
       "2016-03-11 10:00:00                                  9.927727   \n",
       "2016-03-11 11:00:00                                  9.916784   \n",
       "2016-03-11 12:00:00                                  9.976074   \n",
       "2016-03-11 13:00:00                                 10.075259   \n",
       "\n",
       "                     secondary_cleaner.state.floatbank5_b_level  \\\n",
       "date                                                              \n",
       "2016-02-13 11:00:00                                 -399.308354   \n",
       "2016-03-11 10:00:00                                 -450.521700   \n",
       "2016-03-11 11:00:00                                 -449.542871   \n",
       "2016-03-11 12:00:00                                 -496.783155   \n",
       "2016-03-11 13:00:00                                 -499.540325   \n",
       "\n",
       "                     secondary_cleaner.state.floatbank6_a_air  \\\n",
       "date                                                            \n",
       "2016-02-13 11:00:00                                 24.987274   \n",
       "2016-03-11 10:00:00                                 19.971682   \n",
       "2016-03-11 11:00:00                                 20.004767   \n",
       "2016-03-11 12:00:00                                 19.921634   \n",
       "2016-03-11 13:00:00                                 20.039788   \n",
       "\n",
       "                     secondary_cleaner.state.floatbank6_a_level  \\\n",
       "date                                                              \n",
       "2016-02-13 11:00:00                                 -399.619808   \n",
       "2016-03-11 10:00:00                                 -500.685521   \n",
       "2016-03-11 11:00:00                                 -500.137068   \n",
       "2016-03-11 12:00:00                                 -500.769011   \n",
       "2016-03-11 13:00:00                                 -499.932405   \n",
       "\n",
       "                     rougher.recovery_au  \n",
       "date                                      \n",
       "2016-02-13 11:00:00            68.960993  \n",
       "2016-03-11 10:00:00            82.787322  \n",
       "2016-03-11 11:00:00            83.515262  \n",
       "2016-03-11 12:00:00            83.702224  \n",
       "2016-03-11 13:00:00            84.836821  \n",
       "\n",
       "[5 rows x 87 columns]"
      ]
     },
     "execution_count": 54,
     "metadata": {},
     "output_type": "execute_result"
    }
   ],
   "source": [
    "train[train['final.output.concentrate_au'] == 0].head()"
   ]
  },
  {
   "cell_type": "markdown",
   "metadata": {},
   "source": [
    "58 строк подозрительного отсутствия данных о концентрации в финальном концентрате в train! Хотя даже в хвостах финала сведения имеются."
   ]
  },
  {
   "cell_type": "code",
   "execution_count": 55,
   "metadata": {},
   "outputs": [
    {
     "data": {
      "text/plain": [
       "count    14149.000000\n",
       "mean        19.439958\n",
       "std          3.765192\n",
       "min          0.000000\n",
       "25%         18.432161\n",
       "50%         19.947312\n",
       "75%         21.392714\n",
       "max         28.146838\n",
       "Name: rougher.output.concentrate_au, dtype: float64"
      ]
     },
     "execution_count": 55,
     "metadata": {},
     "output_type": "execute_result"
    }
   ],
   "source": [
    "train['rougher.output.concentrate_au'].describe()"
   ]
  },
  {
   "cell_type": "code",
   "execution_count": 56,
   "metadata": {},
   "outputs": [
    {
     "data": {
      "text/plain": [
       "297"
      ]
     },
     "execution_count": 56,
     "metadata": {},
     "output_type": "execute_result"
    }
   ],
   "source": [
    "len(train[train['rougher.output.concentrate_au'] == 0])"
   ]
  },
  {
   "cell_type": "code",
   "execution_count": 57,
   "metadata": {},
   "outputs": [
    {
     "data": {
      "text/html": [
       "<div>\n",
       "<style scoped>\n",
       "    .dataframe tbody tr th:only-of-type {\n",
       "        vertical-align: middle;\n",
       "    }\n",
       "\n",
       "    .dataframe tbody tr th {\n",
       "        vertical-align: top;\n",
       "    }\n",
       "\n",
       "    .dataframe thead th {\n",
       "        text-align: right;\n",
       "    }\n",
       "</style>\n",
       "<table border=\"1\" class=\"dataframe\">\n",
       "  <thead>\n",
       "    <tr style=\"text-align: right;\">\n",
       "      <th></th>\n",
       "      <th>final.output.concentrate_ag</th>\n",
       "      <th>final.output.concentrate_pb</th>\n",
       "      <th>final.output.concentrate_sol</th>\n",
       "      <th>final.output.concentrate_au</th>\n",
       "      <th>final.output.recovery</th>\n",
       "      <th>final.output.tail_ag</th>\n",
       "      <th>final.output.tail_pb</th>\n",
       "      <th>final.output.tail_sol</th>\n",
       "      <th>final.output.tail_au</th>\n",
       "      <th>primary_cleaner.input.sulfate</th>\n",
       "      <th>...</th>\n",
       "      <th>secondary_cleaner.state.floatbank4_a_level</th>\n",
       "      <th>secondary_cleaner.state.floatbank4_b_air</th>\n",
       "      <th>secondary_cleaner.state.floatbank4_b_level</th>\n",
       "      <th>secondary_cleaner.state.floatbank5_a_air</th>\n",
       "      <th>secondary_cleaner.state.floatbank5_a_level</th>\n",
       "      <th>secondary_cleaner.state.floatbank5_b_air</th>\n",
       "      <th>secondary_cleaner.state.floatbank5_b_level</th>\n",
       "      <th>secondary_cleaner.state.floatbank6_a_air</th>\n",
       "      <th>secondary_cleaner.state.floatbank6_a_level</th>\n",
       "      <th>rougher.recovery_au</th>\n",
       "    </tr>\n",
       "    <tr>\n",
       "      <th>date</th>\n",
       "      <th></th>\n",
       "      <th></th>\n",
       "      <th></th>\n",
       "      <th></th>\n",
       "      <th></th>\n",
       "      <th></th>\n",
       "      <th></th>\n",
       "      <th></th>\n",
       "      <th></th>\n",
       "      <th></th>\n",
       "      <th></th>\n",
       "      <th></th>\n",
       "      <th></th>\n",
       "      <th></th>\n",
       "      <th></th>\n",
       "      <th></th>\n",
       "      <th></th>\n",
       "      <th></th>\n",
       "      <th></th>\n",
       "      <th></th>\n",
       "      <th></th>\n",
       "    </tr>\n",
       "  </thead>\n",
       "  <tbody>\n",
       "    <tr>\n",
       "      <td>2016-01-16 21:00:00</td>\n",
       "      <td>4.566664</td>\n",
       "      <td>10.406178</td>\n",
       "      <td>4.588698</td>\n",
       "      <td>46.614456</td>\n",
       "      <td>68.403877</td>\n",
       "      <td>10.705777</td>\n",
       "      <td>1.509070</td>\n",
       "      <td>17.875134</td>\n",
       "      <td>2.509776</td>\n",
       "      <td>131.251366</td>\n",
       "      <td>...</td>\n",
       "      <td>-550.404242</td>\n",
       "      <td>12.028925</td>\n",
       "      <td>-550.570104</td>\n",
       "      <td>10.052072</td>\n",
       "      <td>-500.797905</td>\n",
       "      <td>7.984500</td>\n",
       "      <td>-499.581046</td>\n",
       "      <td>11.982025</td>\n",
       "      <td>-599.161228</td>\n",
       "      <td>-0.0</td>\n",
       "    </tr>\n",
       "    <tr>\n",
       "      <td>2016-01-16 22:00:00</td>\n",
       "      <td>4.577832</td>\n",
       "      <td>10.691605</td>\n",
       "      <td>5.274175</td>\n",
       "      <td>46.250638</td>\n",
       "      <td>70.675633</td>\n",
       "      <td>10.728531</td>\n",
       "      <td>1.641216</td>\n",
       "      <td>18.349339</td>\n",
       "      <td>2.540843</td>\n",
       "      <td>141.184039</td>\n",
       "      <td>...</td>\n",
       "      <td>-550.676337</td>\n",
       "      <td>12.004728</td>\n",
       "      <td>-550.496522</td>\n",
       "      <td>9.953139</td>\n",
       "      <td>-500.330920</td>\n",
       "      <td>8.012074</td>\n",
       "      <td>-500.133530</td>\n",
       "      <td>11.975316</td>\n",
       "      <td>-598.839683</td>\n",
       "      <td>-0.0</td>\n",
       "    </tr>\n",
       "    <tr>\n",
       "      <td>2016-01-16 23:00:00</td>\n",
       "      <td>4.591462</td>\n",
       "      <td>10.628846</td>\n",
       "      <td>5.688961</td>\n",
       "      <td>46.663335</td>\n",
       "      <td>55.088448</td>\n",
       "      <td>10.694584</td>\n",
       "      <td>1.671644</td>\n",
       "      <td>17.910312</td>\n",
       "      <td>2.686782</td>\n",
       "      <td>126.397495</td>\n",
       "      <td>...</td>\n",
       "      <td>-551.224653</td>\n",
       "      <td>11.971272</td>\n",
       "      <td>-550.095619</td>\n",
       "      <td>9.981163</td>\n",
       "      <td>-502.869109</td>\n",
       "      <td>7.941184</td>\n",
       "      <td>-500.623610</td>\n",
       "      <td>12.018837</td>\n",
       "      <td>-600.916665</td>\n",
       "      <td>-0.0</td>\n",
       "    </tr>\n",
       "    <tr>\n",
       "      <td>2016-01-17 00:00:00</td>\n",
       "      <td>5.296830</td>\n",
       "      <td>10.597469</td>\n",
       "      <td>5.688961</td>\n",
       "      <td>44.015642</td>\n",
       "      <td>41.962008</td>\n",
       "      <td>11.975654</td>\n",
       "      <td>1.846558</td>\n",
       "      <td>8.138408</td>\n",
       "      <td>2.889469</td>\n",
       "      <td>69.411904</td>\n",
       "      <td>...</td>\n",
       "      <td>-549.388727</td>\n",
       "      <td>11.975967</td>\n",
       "      <td>-550.778624</td>\n",
       "      <td>9.989726</td>\n",
       "      <td>-499.607365</td>\n",
       "      <td>7.958252</td>\n",
       "      <td>-498.882560</td>\n",
       "      <td>11.967977</td>\n",
       "      <td>-599.440603</td>\n",
       "      <td>-0.0</td>\n",
       "    </tr>\n",
       "    <tr>\n",
       "      <td>2016-01-17 02:00:00</td>\n",
       "      <td>8.162896</td>\n",
       "      <td>8.877528</td>\n",
       "      <td>5.688961</td>\n",
       "      <td>40.715973</td>\n",
       "      <td>49.884856</td>\n",
       "      <td>10.381465</td>\n",
       "      <td>1.024030</td>\n",
       "      <td>12.974257</td>\n",
       "      <td>2.739224</td>\n",
       "      <td>116.517762</td>\n",
       "      <td>...</td>\n",
       "      <td>-550.563329</td>\n",
       "      <td>11.999730</td>\n",
       "      <td>-550.549773</td>\n",
       "      <td>9.941869</td>\n",
       "      <td>-503.282068</td>\n",
       "      <td>8.018850</td>\n",
       "      <td>-500.970716</td>\n",
       "      <td>11.991078</td>\n",
       "      <td>-598.475929</td>\n",
       "      <td>-0.0</td>\n",
       "    </tr>\n",
       "  </tbody>\n",
       "</table>\n",
       "<p>5 rows × 87 columns</p>\n",
       "</div>"
      ],
      "text/plain": [
       "                     final.output.concentrate_ag  final.output.concentrate_pb  \\\n",
       "date                                                                            \n",
       "2016-01-16 21:00:00                     4.566664                    10.406178   \n",
       "2016-01-16 22:00:00                     4.577832                    10.691605   \n",
       "2016-01-16 23:00:00                     4.591462                    10.628846   \n",
       "2016-01-17 00:00:00                     5.296830                    10.597469   \n",
       "2016-01-17 02:00:00                     8.162896                     8.877528   \n",
       "\n",
       "                     final.output.concentrate_sol  \\\n",
       "date                                                \n",
       "2016-01-16 21:00:00                      4.588698   \n",
       "2016-01-16 22:00:00                      5.274175   \n",
       "2016-01-16 23:00:00                      5.688961   \n",
       "2016-01-17 00:00:00                      5.688961   \n",
       "2016-01-17 02:00:00                      5.688961   \n",
       "\n",
       "                     final.output.concentrate_au  final.output.recovery  \\\n",
       "date                                                                      \n",
       "2016-01-16 21:00:00                    46.614456              68.403877   \n",
       "2016-01-16 22:00:00                    46.250638              70.675633   \n",
       "2016-01-16 23:00:00                    46.663335              55.088448   \n",
       "2016-01-17 00:00:00                    44.015642              41.962008   \n",
       "2016-01-17 02:00:00                    40.715973              49.884856   \n",
       "\n",
       "                     final.output.tail_ag  final.output.tail_pb  \\\n",
       "date                                                              \n",
       "2016-01-16 21:00:00             10.705777              1.509070   \n",
       "2016-01-16 22:00:00             10.728531              1.641216   \n",
       "2016-01-16 23:00:00             10.694584              1.671644   \n",
       "2016-01-17 00:00:00             11.975654              1.846558   \n",
       "2016-01-17 02:00:00             10.381465              1.024030   \n",
       "\n",
       "                     final.output.tail_sol  final.output.tail_au  \\\n",
       "date                                                               \n",
       "2016-01-16 21:00:00              17.875134              2.509776   \n",
       "2016-01-16 22:00:00              18.349339              2.540843   \n",
       "2016-01-16 23:00:00              17.910312              2.686782   \n",
       "2016-01-17 00:00:00               8.138408              2.889469   \n",
       "2016-01-17 02:00:00              12.974257              2.739224   \n",
       "\n",
       "                     primary_cleaner.input.sulfate  ...  \\\n",
       "date                                                ...   \n",
       "2016-01-16 21:00:00                     131.251366  ...   \n",
       "2016-01-16 22:00:00                     141.184039  ...   \n",
       "2016-01-16 23:00:00                     126.397495  ...   \n",
       "2016-01-17 00:00:00                      69.411904  ...   \n",
       "2016-01-17 02:00:00                     116.517762  ...   \n",
       "\n",
       "                     secondary_cleaner.state.floatbank4_a_level  \\\n",
       "date                                                              \n",
       "2016-01-16 21:00:00                                 -550.404242   \n",
       "2016-01-16 22:00:00                                 -550.676337   \n",
       "2016-01-16 23:00:00                                 -551.224653   \n",
       "2016-01-17 00:00:00                                 -549.388727   \n",
       "2016-01-17 02:00:00                                 -550.563329   \n",
       "\n",
       "                     secondary_cleaner.state.floatbank4_b_air  \\\n",
       "date                                                            \n",
       "2016-01-16 21:00:00                                 12.028925   \n",
       "2016-01-16 22:00:00                                 12.004728   \n",
       "2016-01-16 23:00:00                                 11.971272   \n",
       "2016-01-17 00:00:00                                 11.975967   \n",
       "2016-01-17 02:00:00                                 11.999730   \n",
       "\n",
       "                     secondary_cleaner.state.floatbank4_b_level  \\\n",
       "date                                                              \n",
       "2016-01-16 21:00:00                                 -550.570104   \n",
       "2016-01-16 22:00:00                                 -550.496522   \n",
       "2016-01-16 23:00:00                                 -550.095619   \n",
       "2016-01-17 00:00:00                                 -550.778624   \n",
       "2016-01-17 02:00:00                                 -550.549773   \n",
       "\n",
       "                     secondary_cleaner.state.floatbank5_a_air  \\\n",
       "date                                                            \n",
       "2016-01-16 21:00:00                                 10.052072   \n",
       "2016-01-16 22:00:00                                  9.953139   \n",
       "2016-01-16 23:00:00                                  9.981163   \n",
       "2016-01-17 00:00:00                                  9.989726   \n",
       "2016-01-17 02:00:00                                  9.941869   \n",
       "\n",
       "                     secondary_cleaner.state.floatbank5_a_level  \\\n",
       "date                                                              \n",
       "2016-01-16 21:00:00                                 -500.797905   \n",
       "2016-01-16 22:00:00                                 -500.330920   \n",
       "2016-01-16 23:00:00                                 -502.869109   \n",
       "2016-01-17 00:00:00                                 -499.607365   \n",
       "2016-01-17 02:00:00                                 -503.282068   \n",
       "\n",
       "                     secondary_cleaner.state.floatbank5_b_air  \\\n",
       "date                                                            \n",
       "2016-01-16 21:00:00                                  7.984500   \n",
       "2016-01-16 22:00:00                                  8.012074   \n",
       "2016-01-16 23:00:00                                  7.941184   \n",
       "2016-01-17 00:00:00                                  7.958252   \n",
       "2016-01-17 02:00:00                                  8.018850   \n",
       "\n",
       "                     secondary_cleaner.state.floatbank5_b_level  \\\n",
       "date                                                              \n",
       "2016-01-16 21:00:00                                 -499.581046   \n",
       "2016-01-16 22:00:00                                 -500.133530   \n",
       "2016-01-16 23:00:00                                 -500.623610   \n",
       "2016-01-17 00:00:00                                 -498.882560   \n",
       "2016-01-17 02:00:00                                 -500.970716   \n",
       "\n",
       "                     secondary_cleaner.state.floatbank6_a_air  \\\n",
       "date                                                            \n",
       "2016-01-16 21:00:00                                 11.982025   \n",
       "2016-01-16 22:00:00                                 11.975316   \n",
       "2016-01-16 23:00:00                                 12.018837   \n",
       "2016-01-17 00:00:00                                 11.967977   \n",
       "2016-01-17 02:00:00                                 11.991078   \n",
       "\n",
       "                     secondary_cleaner.state.floatbank6_a_level  \\\n",
       "date                                                              \n",
       "2016-01-16 21:00:00                                 -599.161228   \n",
       "2016-01-16 22:00:00                                 -598.839683   \n",
       "2016-01-16 23:00:00                                 -600.916665   \n",
       "2016-01-17 00:00:00                                 -599.440603   \n",
       "2016-01-17 02:00:00                                 -598.475929   \n",
       "\n",
       "                     rougher.recovery_au  \n",
       "date                                      \n",
       "2016-01-16 21:00:00                 -0.0  \n",
       "2016-01-16 22:00:00                 -0.0  \n",
       "2016-01-16 23:00:00                 -0.0  \n",
       "2016-01-17 00:00:00                 -0.0  \n",
       "2016-01-17 02:00:00                 -0.0  \n",
       "\n",
       "[5 rows x 87 columns]"
      ]
     },
     "execution_count": 57,
     "metadata": {},
     "output_type": "execute_result"
    }
   ],
   "source": [
    "train[train['rougher.output.concentrate_au'] == 0].head()"
   ]
  },
  {
   "cell_type": "markdown",
   "metadata": {},
   "source": [
    "Почищу трейн "
   ]
  },
  {
   "cell_type": "code",
   "execution_count": 58,
   "metadata": {},
   "outputs": [
    {
     "data": {
      "text/plain": [
       "(13795, 87)"
      ]
     },
     "execution_count": 58,
     "metadata": {},
     "output_type": "execute_result"
    }
   ],
   "source": [
    "train = train.loc[~((train['rougher.output.concentrate_au'] == 0) | (train['final.output.concentrate_au'] == 0))]\n",
    "\n",
    "train.shape"
   ]
  },
  {
   "cell_type": "markdown",
   "metadata": {},
   "source": [
    "Выше проводился анализ отсутствующих данных в тестовой таблице, там этих столбцов нет, мы спокойны."
   ]
  },
  {
   "cell_type": "markdown",
   "metadata": {},
   "source": [
    "## Модель"
   ]
  },
  {
   "cell_type": "markdown",
   "metadata": {},
   "source": [
    "### Вычисление итогового sMAPE"
   ]
  },
  {
   "attachments": {
    "image.png": {
     "image/png": "[encoded data removed]"
    }
   },
   "cell_type": "markdown",
   "metadata": {},
   "source": [
    "![image.png](attachment:image.png)"
   ]
  },
  {
   "attachments": {
    "image.png": {
     "image/png": "[encoded data removed]"
    }
   },
   "cell_type": "markdown",
   "metadata": {},
   "source": [
    "![image.png](attachment:image.png)"
   ]
  },
  {
   "attachments": {
    "image.png": {
     "image/png": "[encoded data removed]"
    }
   },
   "cell_type": "markdown",
   "metadata": {},
   "source": [
    "![image.png](attachment:image.png)\n",
    "Целевой признак"
   ]
  },
  {
   "attachments": {
    "image.png": {
     "image/png": "[encoded data removed]"
    }
   },
   "cell_type": "markdown",
   "metadata": {},
   "source": [
    "![image.png](attachment:image.png)\n",
    "Предсказание"
   ]
  },
  {
   "cell_type": "code",
   "execution_count": 59,
   "metadata": {},
   "outputs": [],
   "source": [
    "def smape (target, prediction):\n",
    "    rough, final = 100/len(target) * np.sum(2 * np.abs(target - prediction) / (np.abs(target) + np.abs(prediction)))\n",
    "    f_smape = 0.25*rough + 0.75*final\n",
    "    return f_smape"
   ]
  },
  {
   "cell_type": "markdown",
   "metadata": {},
   "source": [
    "Использую make_score для скоринга, greater_is_better будет False, так как нас интересует наименьшее значение."
   ]
  },
  {
   "cell_type": "code",
   "execution_count": 60,
   "metadata": {},
   "outputs": [],
   "source": [
    "f_smape = make_scorer(smape, greater_is_better=False)"
   ]
  },
  {
   "cell_type": "markdown",
   "metadata": {},
   "source": [
    "Целевые показатели у нас rougher.output.recovery и final.output.recovery. В тестовой выборке параметры выхода отсутствуют.\n",
    "По сути, это целевые показатели, я думаю, что они не будут помогать обучению модели, поэтому привожу train к test."
   ]
  },
  {
   "cell_type": "code",
   "execution_count": 61,
   "metadata": {},
   "outputs": [
    {
     "data": {
      "text/plain": [
       "((13795, 2), (13795, 52))"
      ]
     },
     "execution_count": 61,
     "metadata": {},
     "output_type": "execute_result"
    }
   ],
   "source": [
    "target_train = train[['rougher.output.recovery', 'final.output.recovery']]\n",
    "\n",
    "train = train[test.columns].copy()\n",
    "target_train.shape, train.shape"
   ]
  },
  {
   "cell_type": "code",
   "execution_count": 62,
   "metadata": {},
   "outputs": [],
   "source": [
    "target_test = pd.DataFrame(index= test.index, data = full['rougher.output.recovery'])"
   ]
  },
  {
   "cell_type": "code",
   "execution_count": 63,
   "metadata": {},
   "outputs": [],
   "source": [
    "target_test['final.output.recovery'] = full['final.output.recovery'][test.index]"
   ]
  },
  {
   "cell_type": "code",
   "execution_count": 64,
   "metadata": {},
   "outputs": [
    {
     "data": {
      "text/plain": [
       "((5290, 2), (5290, 52))"
      ]
     },
     "execution_count": 64,
     "metadata": {},
     "output_type": "execute_result"
    }
   ],
   "source": [
    "target_test.shape, test.shape"
   ]
  },
  {
   "cell_type": "markdown",
   "metadata": {},
   "source": [
    "### Масштабирование"
   ]
  },
  {
   "cell_type": "code",
   "execution_count": 65,
   "metadata": {},
   "outputs": [],
   "source": [
    "scaler = StandardScaler()"
   ]
  },
  {
   "cell_type": "code",
   "execution_count": 66,
   "metadata": {},
   "outputs": [],
   "source": [
    "scaler.fit(train[train.columns])\n",
    "pd.options.mode.chained_assignment = None\n",
    "train[train.columns] = scaler.transform(train[train.columns])\n",
    "test[test.columns] = scaler.transform(test[test.columns])"
   ]
  },
  {
   "cell_type": "markdown",
   "metadata": {},
   "source": [
    "### Модели"
   ]
  },
  {
   "cell_type": "markdown",
   "metadata": {},
   "source": [
    "Планирую использовать четыре модели:  DecisionTreeRegressor, LinearRegression, KNeighborsRegressor и RandomForestRegressor.\n",
    "\n",
    "Для подбора наилучших параметров при кросс-валидации буду использовать GridSearchCV"
   ]
  },
  {
   "cell_type": "code",
   "execution_count": 67,
   "metadata": {},
   "outputs": [],
   "source": [
    "state = np.random.RandomState(1024)"
   ]
  },
  {
   "cell_type": "markdown",
   "metadata": {},
   "source": [
    "#### DecisionTreeRegressor"
   ]
  },
  {
   "cell_type": "code",
   "execution_count": 68,
   "metadata": {},
   "outputs": [],
   "source": [
    "dtr = DecisionTreeRegressor(random_state=state)\n",
    "dtr_par = {\n",
    "    'max_depth': range(2,15),\n",
    "    'min_samples_split': range(2,5),\n",
    "    'splitter': ['best', 'random']\n",
    "}\n",
    "dtr_grid = GridSearchCV(estimator=dtr, param_grid=dtr_par, cv=5, scoring=f_smape)"
   ]
  },
  {
   "cell_type": "code",
   "execution_count": 69,
   "metadata": {},
   "outputs": [],
   "source": [
    "#%%time\n",
    "#dtr_grid.fit(train, target_train)\n",
    "#print('Лучшие параметры: ', dtr_grid.best_params_)\n",
    "#print('Лучшее итоговое sMAPE: {:.3f}'.format(dtr_grid.best_score_))"
   ]
  },
  {
   "cell_type": "markdown",
   "metadata": {},
   "source": [
    "Лучшие параметры:  {'max_depth': 2, 'min_samples_split': 2, 'splitter': 'random'}\n",
    "\n",
    "Лучшее итоговое sMAPE: -9.144\n",
    "\n",
    "CPU times: user 1min 16s, sys: 0 ns, total: 1min 16s\n",
    "\n",
    "Wall time: 1min 22s"
   ]
  },
  {
   "cell_type": "markdown",
   "metadata": {},
   "source": [
    "#### LinearRegression"
   ]
  },
  {
   "cell_type": "code",
   "execution_count": 70,
   "metadata": {},
   "outputs": [],
   "source": [
    "lr = LinearRegression()\n",
    "lr_par = {\n",
    "    'fit_intercept' : [True, False],\n",
    "    'copy_X': [True, False],\n",
    "    'n_jobs' :[None, -1],\n",
    "    'normalize' : [True, False]\n",
    "}\n",
    "lr_grid = GridSearchCV(estimator=lr, param_grid=lr_par,  cv=5, scoring=f_smape)"
   ]
  },
  {
   "cell_type": "code",
   "execution_count": 71,
   "metadata": {},
   "outputs": [],
   "source": [
    "#%%time\n",
    "#lr_grid.fit(train, target_train)\n",
    "#print('Лучшие параметры: ', lr_grid.best_params_)\n",
    "#print('Лучшее итоговое sMAPE: {:.3f}'.format(lr_grid.best_score_))"
   ]
  },
  {
   "cell_type": "markdown",
   "metadata": {},
   "source": [
    "Лучшие параметры:  {'copy_X': True, 'fit_intercept': True, 'n_jobs': None, 'normalize': False}\n",
    "\n",
    "Лучшее итоговое sMAPE: -10.060\n",
    "\n",
    "CPU times: user 10.8 s, sys: 12.4 s, total: 23.2 s\n",
    "\n",
    "Wall time: 23.5 s"
   ]
  },
  {
   "cell_type": "markdown",
   "metadata": {},
   "source": [
    "#### KNeighborsRegressor"
   ]
  },
  {
   "cell_type": "code",
   "execution_count": 72,
   "metadata": {},
   "outputs": [],
   "source": [
    "knr = KNeighborsRegressor()\n",
    "knr_par = {\n",
    "    'n_neighbors': range(3,10),\n",
    "    'n_jobs': [None,-1],\n",
    "    'weights': ['uniform', 'distance']\n",
    "}\n",
    "knr_grid = GridSearchCV(estimator=knr, param_grid=knr_par, cv=5, scoring=f_smape)"
   ]
  },
  {
   "cell_type": "code",
   "execution_count": 73,
   "metadata": {},
   "outputs": [],
   "source": [
    "#%%time\n",
    "#knr_grid.fit(train, target_train)\n",
    "#print('Лучшие параметры: ', knr_grid.best_params_)\n",
    "#print('Лучшее итоговое sMAPE: {:.3f}'.format(knr_grid.best_score_))"
   ]
  },
  {
   "cell_type": "markdown",
   "metadata": {},
   "source": [
    "Лучшие параметры:  {'n_jobs': None, 'n_neighbors': 9, 'weights': 'distance'}\n",
    "\n",
    "Лучшее итоговое sMAPE: -10.218\n",
    "\n",
    "CPU times: user 5min 49s, sys: 0 ns, total: 5min 49s\n",
    "\n",
    "Wall time: 5min 56s"
   ]
  },
  {
   "cell_type": "markdown",
   "metadata": {},
   "source": [
    "#### RandomForestRegressor"
   ]
  },
  {
   "cell_type": "code",
   "execution_count": 74,
   "metadata": {},
   "outputs": [],
   "source": [
    "rfr = RandomForestRegressor(random_state=state)\n",
    "rfr_par = {\n",
    "    'n_estimators': range (3,20),\n",
    "    'max_depth': range(2,10)\n",
    "    }\n",
    "rfr_grid = GridSearchCV(estimator=rfr, param_grid=rfr_par, cv=5, scoring=f_smape)"
   ]
  },
  {
   "cell_type": "code",
   "execution_count": 75,
   "metadata": {},
   "outputs": [],
   "source": [
    "#%%time\n",
    "#rfr_grid.fit(train, target_train)\n",
    "#print('Лучшие параметры: ', rfr_grid.best_params_)\n",
    "#print('Лучшее итоговое sMAPE: {:.3f}'.format(rfr_grid.best_score_))"
   ]
  },
  {
   "cell_type": "markdown",
   "metadata": {},
   "source": [
    "Лучшие параметры:  {'max_depth': 3, 'n_estimators': 14}\n",
    "\n",
    "Лучшее итоговое sMAPE: -8.752\n",
    "\n",
    "CPU times: user 1min 33s, sys: 35.7 ms, total: 1min 33s\n",
    "\n",
    "Wall time: 1min 36s"
   ]
  },
  {
   "cell_type": "markdown",
   "metadata": {},
   "source": [
    "Самая быстрая модель - линейная регрессия, но итоговое sMAPE только 10, случайный лес показывает sMAPE 8,7 - лучший результат, хоть и медленнее (wall time ненастоящее, параметры подобраны поочередно, одновременного ранжирования количества деревьев и глубины длилось ооочень долго, я не дождался).\n",
    "\n",
    "Выбираю RandomForestRegressor из 14 деревьев и глубиной 3."
   ]
  },
  {
   "cell_type": "markdown",
   "metadata": {},
   "source": [
    "### Проверка на тестовой выборке"
   ]
  },
  {
   "cell_type": "code",
   "execution_count": 76,
   "metadata": {},
   "outputs": [
    {
     "name": "stdout",
     "output_type": "stream",
     "text": [
      "Итоговое sMAPE: 8.236\n"
     ]
    }
   ],
   "source": [
    "best_model = RandomForestRegressor(random_state=state, max_depth=3, n_estimators=14)\n",
    "best_model.fit(test, target_test)\n",
    "best_predict = best_model.predict(test)\n",
    "print('Итоговое sMAPE: {:.3f}'.format(smape(target_test, best_predict)))"
   ]
  },
  {
   "cell_type": "markdown",
   "metadata": {},
   "source": [
    "### Dummy Regressor"
   ]
  },
  {
   "cell_type": "markdown",
   "metadata": {},
   "source": [
    "Проверю данные на манекенной модели."
   ]
  },
  {
   "cell_type": "code",
   "execution_count": 77,
   "metadata": {},
   "outputs": [
    {
     "name": "stdout",
     "output_type": "stream",
     "text": [
      "Итоговое sMAPE на манекенной модели: 9.439\n"
     ]
    }
   ],
   "source": [
    "dummy_regressor = DummyRegressor(strategy=\"median\")\n",
    "dummy_regressor.fit(train, target_train)\n",
    "dummy_predict = dummy_regressor.predict(test)\n",
    "final_smape_dummy = smape(target_test, dummy_predict)\n",
    "print('Итоговое sMAPE на манекенной модели: {:.3f}'.format(final_smape_dummy))"
   ]
  },
  {
   "cell_type": "markdown",
   "metadata": {},
   "source": [
    "### Выводы"
   ]
  },
  {
   "cell_type": "markdown",
   "metadata": {},
   "source": [
    "Модель отработала хорошо.\n",
    "\n",
    "Лучшая модель RandomForestRegressor из 14 деревьев и глубиной 3.\n",
    "\n",
    "Лучшее итоговое sMAPE на тренировочной выборке: 8.752\n",
    "\n",
    "Лучшее итоговое sMAPE на тестовой выборке: 8.255\n",
    "\n",
    "Итоговое sMAPE на манекенной модели: 9.439\n",
    "\n",
    "Золотодобытчики могут спать спокойно."
   ]
  },
  {
   "cell_type": "code",
   "execution_count": null,
   "metadata": {},
   "outputs": [],
   "source": []
  }
 ],
 "metadata": {
  "ExecuteTimeLog": [
   {
    "duration": 1604,
    "start_time": "2021-07-06T14:35:11.045Z"
   },
   {
    "duration": 4,
    "start_time": "2021-07-06T14:36:20.734Z"
   },
   {
    "duration": 339,
    "start_time": "2021-07-06T14:41:17.544Z"
   },
   {
    "duration": 355,
    "start_time": "2021-07-06T14:41:47.296Z"
   },
   {
    "duration": 357,
    "start_time": "2021-07-06T14:55:16.944Z"
   },
   {
    "duration": 398,
    "start_time": "2021-07-06T14:56:34.633Z"
   },
   {
    "duration": 422,
    "start_time": "2021-07-06T14:57:33.327Z"
   },
   {
    "duration": 383,
    "start_time": "2021-07-06T14:57:56.021Z"
   },
   {
    "duration": 23,
    "start_time": "2021-07-06T14:58:03.719Z"
   },
   {
    "duration": 128,
    "start_time": "2021-07-06T15:03:11.830Z"
   },
   {
    "duration": 124,
    "start_time": "2021-07-06T15:03:49.317Z"
   },
   {
    "duration": 16,
    "start_time": "2021-07-06T15:04:04.617Z"
   },
   {
    "duration": 799,
    "start_time": "2021-07-06T15:14:35.882Z"
   },
   {
    "duration": 26,
    "start_time": "2021-07-06T15:15:01.670Z"
   },
   {
    "duration": 198,
    "start_time": "2021-07-06T15:34:52.470Z"
   },
   {
    "duration": 2222,
    "start_time": "2021-07-06T15:35:09.911Z"
   },
   {
    "duration": 2331,
    "start_time": "2021-07-06T15:35:59.293Z"
   },
   {
    "duration": 2109,
    "start_time": "2021-07-06T15:36:32.124Z"
   },
   {
    "duration": 104,
    "start_time": "2021-07-06T15:37:19.649Z"
   },
   {
    "duration": 2156,
    "start_time": "2021-07-06T15:37:32.336Z"
   },
   {
    "duration": 4,
    "start_time": "2021-07-06T15:39:32.781Z"
   },
   {
    "duration": 1886,
    "start_time": "2021-07-06T15:39:39.837Z"
   },
   {
    "duration": 2856,
    "start_time": "2021-07-06T15:40:34.926Z"
   },
   {
    "duration": 1984,
    "start_time": "2021-07-06T15:40:55.770Z"
   },
   {
    "duration": 10,
    "start_time": "2021-07-06T15:41:28.364Z"
   },
   {
    "duration": 131,
    "start_time": "2021-07-06T15:41:39.626Z"
   },
   {
    "duration": 15,
    "start_time": "2021-07-06T15:42:35.043Z"
   },
   {
    "duration": 9,
    "start_time": "2021-07-06T15:43:39.496Z"
   },
   {
    "duration": 409,
    "start_time": "2021-07-06T15:43:51.756Z"
   },
   {
    "duration": 327,
    "start_time": "2021-07-06T15:44:06.754Z"
   },
   {
    "duration": 9,
    "start_time": "2021-07-06T15:44:23.358Z"
   },
   {
    "duration": 9,
    "start_time": "2021-07-06T15:44:33.167Z"
   },
   {
    "duration": 14,
    "start_time": "2021-07-06T15:48:23.395Z"
   },
   {
    "duration": 8,
    "start_time": "2021-07-06T15:48:26.223Z"
   },
   {
    "duration": 11,
    "start_time": "2021-07-06T15:48:28.626Z"
   },
   {
    "duration": 11,
    "start_time": "2021-07-06T15:50:10.861Z"
   },
   {
    "duration": 16,
    "start_time": "2021-07-06T15:50:12.497Z"
   },
   {
    "duration": 6,
    "start_time": "2021-07-06T15:59:29.141Z"
   },
   {
    "duration": 8,
    "start_time": "2021-07-06T16:00:30.707Z"
   },
   {
    "duration": 7,
    "start_time": "2021-07-06T17:17:53.456Z"
   },
   {
    "duration": 1451,
    "start_time": "2021-07-06T17:18:02.262Z"
   },
   {
    "duration": 368,
    "start_time": "2021-07-06T17:18:03.716Z"
   },
   {
    "duration": 23,
    "start_time": "2021-07-06T17:18:04.087Z"
   },
   {
    "duration": 8,
    "start_time": "2021-07-06T17:18:04.113Z"
   },
   {
    "duration": 38,
    "start_time": "2021-07-06T17:18:04.124Z"
   },
   {
    "duration": 14,
    "start_time": "2021-07-06T17:18:04.164Z"
   },
   {
    "duration": 6,
    "start_time": "2021-07-06T17:18:04.180Z"
   },
   {
    "duration": 139,
    "start_time": "2021-07-06T17:18:04.190Z"
   },
   {
    "duration": 23,
    "start_time": "2021-07-06T17:18:04.332Z"
   },
   {
    "duration": 8,
    "start_time": "2021-07-06T17:18:04.357Z"
   },
   {
    "duration": 13,
    "start_time": "2021-07-06T17:18:04.367Z"
   },
   {
    "duration": 5,
    "start_time": "2021-07-06T17:18:04.382Z"
   },
   {
    "duration": 497,
    "start_time": "2021-07-06T17:18:04.389Z"
   },
   {
    "duration": 25,
    "start_time": "2021-07-06T17:18:04.888Z"
   },
   {
    "duration": 12,
    "start_time": "2021-07-06T17:18:04.915Z"
   },
   {
    "duration": 36,
    "start_time": "2021-07-06T17:18:04.930Z"
   },
   {
    "duration": 6,
    "start_time": "2021-07-06T17:18:04.968Z"
   },
   {
    "duration": 1074,
    "start_time": "2021-07-06T17:21:05.933Z"
   },
   {
    "duration": 455,
    "start_time": "2021-07-06T17:21:40.537Z"
   },
   {
    "duration": 24,
    "start_time": "2021-07-06T17:21:53.866Z"
   },
   {
    "duration": 139,
    "start_time": "2021-07-06T17:25:49.276Z"
   },
   {
    "duration": 17,
    "start_time": "2021-07-06T17:25:58.649Z"
   },
   {
    "duration": 127,
    "start_time": "2021-07-06T17:27:16.478Z"
   },
   {
    "duration": 512,
    "start_time": "2021-07-06T17:28:26.369Z"
   },
   {
    "duration": 25,
    "start_time": "2021-07-06T17:28:32.166Z"
   },
   {
    "duration": 4,
    "start_time": "2021-07-06T19:30:07.243Z"
   },
   {
    "duration": 134,
    "start_time": "2021-07-06T19:32:22.010Z"
   },
   {
    "duration": 13,
    "start_time": "2021-07-06T19:32:28.017Z"
   },
   {
    "duration": 8,
    "start_time": "2021-07-06T19:34:03.451Z"
   },
   {
    "duration": 1496,
    "start_time": "2021-07-06T19:34:14.332Z"
   },
   {
    "duration": 376,
    "start_time": "2021-07-06T19:34:15.831Z"
   },
   {
    "duration": 45,
    "start_time": "2021-07-06T19:34:16.211Z"
   },
   {
    "duration": 11,
    "start_time": "2021-07-06T19:34:16.259Z"
   },
   {
    "duration": 367,
    "start_time": "2021-07-06T19:34:16.272Z"
   },
   {
    "duration": 27,
    "start_time": "2021-07-06T19:34:16.641Z"
   },
   {
    "duration": 141,
    "start_time": "2021-07-06T19:34:16.671Z"
   },
   {
    "duration": 15,
    "start_time": "2021-07-06T19:34:16.815Z"
   },
   {
    "duration": 491,
    "start_time": "2021-07-06T19:34:16.832Z"
   },
   {
    "duration": 36,
    "start_time": "2021-07-06T19:34:17.325Z"
   },
   {
    "duration": 4,
    "start_time": "2021-07-06T19:34:17.364Z"
   },
   {
    "duration": 76,
    "start_time": "2021-07-06T19:34:17.371Z"
   },
   {
    "duration": 8,
    "start_time": "2021-07-06T19:36:01.973Z"
   },
   {
    "duration": 12,
    "start_time": "2021-07-06T19:36:25.185Z"
   },
   {
    "duration": 4,
    "start_time": "2021-07-06T19:37:31.357Z"
   },
   {
    "duration": 40,
    "start_time": "2021-07-06T19:38:40.763Z"
   },
   {
    "duration": 7,
    "start_time": "2021-07-06T19:43:54.898Z"
   },
   {
    "duration": 6,
    "start_time": "2021-07-06T19:45:38.438Z"
   },
   {
    "duration": 12,
    "start_time": "2021-07-06T19:46:38.715Z"
   },
   {
    "duration": 8,
    "start_time": "2021-07-06T19:47:38.790Z"
   },
   {
    "duration": 489,
    "start_time": "2021-07-06T19:54:47.090Z"
   },
   {
    "duration": 1543,
    "start_time": "2021-07-06T19:55:51.076Z"
   },
   {
    "duration": 359,
    "start_time": "2021-07-06T19:55:52.622Z"
   },
   {
    "duration": 23,
    "start_time": "2021-07-06T19:55:52.984Z"
   },
   {
    "duration": 10,
    "start_time": "2021-07-06T19:55:53.010Z"
   },
   {
    "duration": 354,
    "start_time": "2021-07-06T19:55:53.022Z"
   },
   {
    "duration": 22,
    "start_time": "2021-07-06T19:55:53.379Z"
   },
   {
    "duration": 136,
    "start_time": "2021-07-06T19:55:53.403Z"
   },
   {
    "duration": 29,
    "start_time": "2021-07-06T19:55:53.542Z"
   },
   {
    "duration": 710,
    "start_time": "2021-07-06T19:55:53.576Z"
   },
   {
    "duration": 35,
    "start_time": "2021-07-06T19:55:54.290Z"
   },
   {
    "duration": 26,
    "start_time": "2021-07-06T19:55:54.328Z"
   },
   {
    "duration": 18,
    "start_time": "2021-07-06T19:55:54.358Z"
   },
   {
    "duration": 15,
    "start_time": "2021-07-06T19:55:54.379Z"
   },
   {
    "duration": 14,
    "start_time": "2021-07-06T19:55:54.397Z"
   },
   {
    "duration": 43,
    "start_time": "2021-07-06T19:55:54.414Z"
   },
   {
    "duration": 446,
    "start_time": "2021-07-06T19:55:54.459Z"
   },
   {
    "duration": 274,
    "start_time": "2021-07-06T20:10:03.011Z"
   },
   {
    "duration": 305,
    "start_time": "2021-07-06T20:11:52.388Z"
   },
   {
    "duration": 7,
    "start_time": "2021-07-06T20:13:01.882Z"
   },
   {
    "duration": 535,
    "start_time": "2021-07-06T20:13:42.520Z"
   },
   {
    "duration": 4,
    "start_time": "2021-07-06T20:15:52.714Z"
   },
   {
    "duration": 7,
    "start_time": "2021-07-06T20:16:04.628Z"
   },
   {
    "duration": 6,
    "start_time": "2021-07-06T20:16:21.022Z"
   },
   {
    "duration": 9,
    "start_time": "2021-07-06T20:21:50.603Z"
   },
   {
    "duration": 8,
    "start_time": "2021-07-06T20:22:24.480Z"
   },
   {
    "duration": 7,
    "start_time": "2021-07-06T20:22:42.561Z"
   },
   {
    "duration": 6,
    "start_time": "2021-07-06T20:22:53.627Z"
   },
   {
    "duration": 548,
    "start_time": "2021-07-06T20:25:59.991Z"
   },
   {
    "duration": 7,
    "start_time": "2021-07-06T20:26:30.474Z"
   },
   {
    "duration": 6,
    "start_time": "2021-07-06T20:27:10.482Z"
   },
   {
    "duration": 1472,
    "start_time": "2021-07-06T20:27:19.301Z"
   },
   {
    "duration": 374,
    "start_time": "2021-07-06T20:27:20.776Z"
   },
   {
    "duration": 23,
    "start_time": "2021-07-06T20:27:21.155Z"
   },
   {
    "duration": 11,
    "start_time": "2021-07-06T20:27:21.182Z"
   },
   {
    "duration": 527,
    "start_time": "2021-07-06T20:27:21.196Z"
   },
   {
    "duration": 37,
    "start_time": "2021-07-06T20:27:21.726Z"
   },
   {
    "duration": 188,
    "start_time": "2021-07-06T20:27:21.766Z"
   },
   {
    "duration": 23,
    "start_time": "2021-07-06T20:27:21.959Z"
   },
   {
    "duration": 498,
    "start_time": "2021-07-06T20:27:21.985Z"
   },
   {
    "duration": 25,
    "start_time": "2021-07-06T20:27:22.487Z"
   },
   {
    "duration": 5,
    "start_time": "2021-07-06T20:27:22.515Z"
   },
   {
    "duration": 44,
    "start_time": "2021-07-06T20:27:22.523Z"
   },
   {
    "duration": 12,
    "start_time": "2021-07-06T20:27:22.569Z"
   },
   {
    "duration": 11,
    "start_time": "2021-07-06T20:27:22.583Z"
   },
   {
    "duration": 7,
    "start_time": "2021-07-06T20:27:22.596Z"
   },
   {
    "duration": 49,
    "start_time": "2021-07-06T20:27:22.605Z"
   },
   {
    "duration": 6,
    "start_time": "2021-07-06T20:27:39.987Z"
   },
   {
    "duration": 7,
    "start_time": "2021-07-06T20:27:49.588Z"
   },
   {
    "duration": 536,
    "start_time": "2021-07-06T20:28:42.128Z"
   },
   {
    "duration": 341,
    "start_time": "2021-07-06T20:28:50.449Z"
   },
   {
    "duration": 339,
    "start_time": "2021-07-06T20:29:59.557Z"
   },
   {
    "duration": 504,
    "start_time": "2021-07-06T20:30:15.111Z"
   },
   {
    "duration": 7,
    "start_time": "2021-07-06T20:30:23.727Z"
   },
   {
    "duration": 8,
    "start_time": "2021-07-06T20:30:51.834Z"
   },
   {
    "duration": 7,
    "start_time": "2021-07-06T20:31:06.165Z"
   },
   {
    "duration": 7,
    "start_time": "2021-07-06T20:31:12.060Z"
   },
   {
    "duration": 46,
    "start_time": "2021-07-06T20:39:33.065Z"
   },
   {
    "duration": 31,
    "start_time": "2021-07-06T20:39:55.384Z"
   },
   {
    "duration": 11,
    "start_time": "2021-07-06T20:40:08.171Z"
   },
   {
    "duration": 15,
    "start_time": "2021-07-06T20:42:56.958Z"
   },
   {
    "duration": 16,
    "start_time": "2021-07-06T20:43:35.188Z"
   },
   {
    "duration": 14,
    "start_time": "2021-07-06T20:43:43.049Z"
   },
   {
    "duration": 15,
    "start_time": "2021-07-06T20:44:09.621Z"
   },
   {
    "duration": 12,
    "start_time": "2021-07-06T20:44:16.626Z"
   },
   {
    "duration": 16,
    "start_time": "2021-07-06T20:44:27.291Z"
   },
   {
    "duration": 13,
    "start_time": "2021-07-06T20:44:34.666Z"
   },
   {
    "duration": 11,
    "start_time": "2021-07-06T20:46:21.765Z"
   },
   {
    "duration": 13,
    "start_time": "2021-07-06T20:46:52.092Z"
   },
   {
    "duration": 12,
    "start_time": "2021-07-06T20:47:31.402Z"
   },
   {
    "duration": 13,
    "start_time": "2021-07-06T20:48:14.903Z"
   },
   {
    "duration": 13,
    "start_time": "2021-07-06T20:48:25.244Z"
   },
   {
    "duration": 11,
    "start_time": "2021-07-06T20:48:54.747Z"
   },
   {
    "duration": 14,
    "start_time": "2021-07-06T21:02:17.899Z"
   },
   {
    "duration": 13,
    "start_time": "2021-07-06T21:03:03.611Z"
   },
   {
    "duration": 14,
    "start_time": "2021-07-06T21:03:11.259Z"
   },
   {
    "duration": 13,
    "start_time": "2021-07-06T21:03:16.536Z"
   },
   {
    "duration": 10,
    "start_time": "2021-07-06T21:03:22.798Z"
   },
   {
    "duration": 10,
    "start_time": "2021-07-06T21:03:33.702Z"
   },
   {
    "duration": 9,
    "start_time": "2021-07-06T21:04:16.523Z"
   },
   {
    "duration": 53,
    "start_time": "2021-07-06T21:08:01.079Z"
   },
   {
    "duration": 14,
    "start_time": "2021-07-06T21:08:20.524Z"
   },
   {
    "duration": 14,
    "start_time": "2021-07-06T21:08:30.716Z"
   },
   {
    "duration": 11,
    "start_time": "2021-07-06T21:08:49.579Z"
   },
   {
    "duration": 43,
    "start_time": "2021-07-06T21:16:47.598Z"
   },
   {
    "duration": 11,
    "start_time": "2021-07-06T21:17:14.328Z"
   },
   {
    "duration": 14,
    "start_time": "2021-07-06T21:17:53.759Z"
   },
   {
    "duration": 12,
    "start_time": "2021-07-06T21:18:05.952Z"
   },
   {
    "duration": 12,
    "start_time": "2021-07-06T21:18:30.015Z"
   },
   {
    "duration": 11,
    "start_time": "2021-07-06T21:18:30.958Z"
   },
   {
    "duration": 9,
    "start_time": "2021-07-06T21:18:31.771Z"
   },
   {
    "duration": 98,
    "start_time": "2021-07-06T21:19:00.419Z"
   },
   {
    "duration": 15,
    "start_time": "2021-07-06T21:19:35.411Z"
   },
   {
    "duration": 9,
    "start_time": "2021-07-06T21:19:55.796Z"
   },
   {
    "duration": 10,
    "start_time": "2021-07-06T21:30:01.418Z"
   },
   {
    "duration": 19,
    "start_time": "2021-07-06T21:30:27.763Z"
   },
   {
    "duration": 10,
    "start_time": "2021-07-06T21:31:03.544Z"
   },
   {
    "duration": 22,
    "start_time": "2021-07-06T21:32:11.044Z"
   },
   {
    "duration": 16,
    "start_time": "2021-07-06T21:32:30.929Z"
   },
   {
    "duration": 172,
    "start_time": "2021-07-06T21:36:53.216Z"
   },
   {
    "duration": 167,
    "start_time": "2021-07-06T21:37:05.847Z"
   },
   {
    "duration": 167,
    "start_time": "2021-07-06T21:37:34.587Z"
   },
   {
    "duration": 1486,
    "start_time": "2021-07-06T21:38:37.472Z"
   },
   {
    "duration": 444,
    "start_time": "2021-07-06T21:38:38.961Z"
   },
   {
    "duration": 48,
    "start_time": "2021-07-06T21:38:39.408Z"
   },
   {
    "duration": 298,
    "start_time": "2021-07-06T21:38:39.459Z"
   },
   {
    "duration": 12,
    "start_time": "2021-07-06T21:38:39.760Z"
   },
   {
    "duration": 376,
    "start_time": "2021-07-06T21:38:39.774Z"
   },
   {
    "duration": 22,
    "start_time": "2021-07-06T21:38:40.153Z"
   },
   {
    "duration": 141,
    "start_time": "2021-07-06T21:38:40.178Z"
   },
   {
    "duration": 32,
    "start_time": "2021-07-06T21:38:40.323Z"
   },
   {
    "duration": 499,
    "start_time": "2021-07-06T21:38:40.357Z"
   },
   {
    "duration": 23,
    "start_time": "2021-07-06T21:38:40.859Z"
   },
   {
    "duration": 4,
    "start_time": "2021-07-06T21:38:40.885Z"
   },
   {
    "duration": 21,
    "start_time": "2021-07-06T21:38:40.891Z"
   },
   {
    "duration": 11,
    "start_time": "2021-07-06T21:38:40.914Z"
   },
   {
    "duration": 11,
    "start_time": "2021-07-06T21:38:40.955Z"
   },
   {
    "duration": 7,
    "start_time": "2021-07-06T21:38:40.968Z"
   },
   {
    "duration": 8,
    "start_time": "2021-07-06T21:38:40.977Z"
   },
   {
    "duration": 13,
    "start_time": "2021-07-06T21:38:40.987Z"
   },
   {
    "duration": 66,
    "start_time": "2021-07-06T21:38:41.003Z"
   },
   {
    "duration": 8,
    "start_time": "2021-07-06T21:38:41.071Z"
   },
   {
    "duration": 74,
    "start_time": "2021-07-06T21:38:41.081Z"
   },
   {
    "duration": 11,
    "start_time": "2021-07-06T21:38:41.158Z"
   },
   {
    "duration": 14,
    "start_time": "2021-07-06T21:38:41.175Z"
   },
   {
    "duration": 11,
    "start_time": "2021-07-06T21:38:41.192Z"
   },
   {
    "duration": 64,
    "start_time": "2021-07-06T21:38:41.206Z"
   },
   {
    "duration": 11,
    "start_time": "2021-07-06T21:38:41.273Z"
   },
   {
    "duration": 29,
    "start_time": "2021-07-06T21:38:41.286Z"
   },
   {
    "duration": 39,
    "start_time": "2021-07-06T21:38:41.318Z"
   },
   {
    "duration": 170,
    "start_time": "2021-07-06T21:40:02.943Z"
   },
   {
    "duration": 171,
    "start_time": "2021-07-06T21:40:14.854Z"
   },
   {
    "duration": 399,
    "start_time": "2021-07-06T22:43:36.573Z"
   },
   {
    "duration": 408,
    "start_time": "2021-07-06T22:44:41.330Z"
   },
   {
    "duration": 9815,
    "start_time": "2021-07-06T22:46:23.178Z"
   },
   {
    "duration": 391,
    "start_time": "2021-07-06T22:47:42.010Z"
   },
   {
    "duration": 384,
    "start_time": "2021-07-06T22:54:37.384Z"
   },
   {
    "duration": 445,
    "start_time": "2021-07-06T22:54:47.444Z"
   },
   {
    "duration": 395,
    "start_time": "2021-07-06T23:00:33.370Z"
   },
   {
    "duration": 379,
    "start_time": "2021-07-06T23:02:35.805Z"
   },
   {
    "duration": 8,
    "start_time": "2021-07-06T23:07:33.074Z"
   },
   {
    "duration": 350,
    "start_time": "2021-07-06T23:08:48.200Z"
   },
   {
    "duration": 377,
    "start_time": "2021-07-06T23:09:03.129Z"
   },
   {
    "duration": 464,
    "start_time": "2021-07-06T23:11:19.208Z"
   },
   {
    "duration": 375,
    "start_time": "2021-07-06T23:12:12.455Z"
   },
   {
    "duration": 860,
    "start_time": "2021-07-06T23:39:56.946Z"
   },
   {
    "duration": 664,
    "start_time": "2021-07-06T23:40:29.066Z"
   },
   {
    "duration": 771,
    "start_time": "2021-07-06T23:40:36.432Z"
   },
   {
    "duration": 413,
    "start_time": "2021-07-06T23:40:52.900Z"
   },
   {
    "duration": 6458,
    "start_time": "2021-07-06T23:42:00.681Z"
   },
   {
    "duration": 211,
    "start_time": "2021-07-08T20:37:17.778Z"
   },
   {
    "duration": 1076,
    "start_time": "2021-07-08T20:37:26.531Z"
   },
   {
    "duration": 304,
    "start_time": "2021-07-08T20:37:27.608Z"
   },
   {
    "duration": 13,
    "start_time": "2021-07-08T20:37:27.914Z"
   },
   {
    "duration": 119,
    "start_time": "2021-07-08T20:37:27.929Z"
   },
   {
    "duration": 5,
    "start_time": "2021-07-08T20:37:28.050Z"
   },
   {
    "duration": 280,
    "start_time": "2021-07-08T20:37:28.057Z"
   },
   {
    "duration": 13,
    "start_time": "2021-07-08T20:37:28.339Z"
   },
   {
    "duration": 95,
    "start_time": "2021-07-08T20:37:28.355Z"
   },
   {
    "duration": 9,
    "start_time": "2021-07-08T20:37:28.452Z"
   },
   {
    "duration": 116,
    "start_time": "2021-07-08T20:37:28.462Z"
   },
   {
    "duration": 391,
    "start_time": "2021-07-08T20:37:28.580Z"
   },
   {
    "duration": 22,
    "start_time": "2021-07-08T20:37:28.973Z"
   },
   {
    "duration": 3,
    "start_time": "2021-07-08T20:37:28.996Z"
   },
   {
    "duration": 12,
    "start_time": "2021-07-08T20:37:29.000Z"
   },
   {
    "duration": 11,
    "start_time": "2021-07-08T20:37:29.014Z"
   },
   {
    "duration": 7,
    "start_time": "2021-07-08T20:37:29.027Z"
   },
   {
    "duration": 5,
    "start_time": "2021-07-08T20:37:29.036Z"
   },
   {
    "duration": 7,
    "start_time": "2021-07-08T20:37:29.042Z"
   },
   {
    "duration": 35,
    "start_time": "2021-07-08T20:37:29.051Z"
   },
   {
    "duration": 17,
    "start_time": "2021-07-08T20:37:29.088Z"
   },
   {
    "duration": 5,
    "start_time": "2021-07-08T20:37:29.107Z"
   },
   {
    "duration": 38,
    "start_time": "2021-07-08T20:37:29.114Z"
   },
   {
    "duration": 32,
    "start_time": "2021-07-08T20:37:29.155Z"
   },
   {
    "duration": 10,
    "start_time": "2021-07-08T20:37:29.189Z"
   },
   {
    "duration": 5,
    "start_time": "2021-07-08T20:37:29.201Z"
   },
   {
    "duration": 13,
    "start_time": "2021-07-08T20:37:29.208Z"
   },
   {
    "duration": 7,
    "start_time": "2021-07-08T20:37:29.222Z"
   },
   {
    "duration": 12,
    "start_time": "2021-07-08T20:37:29.230Z"
   },
   {
    "duration": 45,
    "start_time": "2021-07-08T20:37:29.244Z"
   },
   {
    "duration": 296,
    "start_time": "2021-07-08T20:37:29.291Z"
   },
   {
    "duration": 255,
    "start_time": "2021-07-08T20:37:29.589Z"
   },
   {
    "duration": 234,
    "start_time": "2021-07-08T20:37:29.845Z"
   },
   {
    "duration": 255,
    "start_time": "2021-07-08T20:37:30.081Z"
   },
   {
    "duration": 248,
    "start_time": "2021-07-08T20:37:30.337Z"
   },
   {
    "duration": 5,
    "start_time": "2021-07-08T20:37:30.586Z"
   },
   {
    "duration": 323,
    "start_time": "2021-07-08T20:38:30.025Z"
   },
   {
    "duration": 225,
    "start_time": "2021-07-08T20:38:38.020Z"
   },
   {
    "duration": 243,
    "start_time": "2021-07-08T20:38:43.079Z"
   },
   {
    "duration": 235,
    "start_time": "2021-07-08T20:39:05.498Z"
   },
   {
    "duration": 6,
    "start_time": "2021-07-08T20:40:26.013Z"
   },
   {
    "duration": 6,
    "start_time": "2021-07-08T20:40:40.576Z"
   },
   {
    "duration": 244,
    "start_time": "2021-07-08T20:54:04.120Z"
   },
   {
    "duration": 26,
    "start_time": "2021-07-08T21:05:56.977Z"
   },
   {
    "duration": 12,
    "start_time": "2021-07-08T21:06:01.850Z"
   },
   {
    "duration": 9,
    "start_time": "2021-07-08T21:06:03.035Z"
   },
   {
    "duration": 16,
    "start_time": "2021-07-08T21:06:22.325Z"
   },
   {
    "duration": 299,
    "start_time": "2021-07-08T21:06:37.063Z"
   },
   {
    "duration": 266,
    "start_time": "2021-07-08T21:06:41.934Z"
   },
   {
    "duration": 250,
    "start_time": "2021-07-08T21:06:45.411Z"
   },
   {
    "duration": 276,
    "start_time": "2021-07-08T21:06:48.569Z"
   },
   {
    "duration": 267,
    "start_time": "2021-07-08T21:06:51.381Z"
   },
   {
    "duration": 4397,
    "start_time": "2021-07-08T21:20:15.901Z"
   },
   {
    "duration": 6,
    "start_time": "2021-07-08T21:20:38.331Z"
   },
   {
    "duration": 12,
    "start_time": "2021-07-08T21:20:49.521Z"
   },
   {
    "duration": 9,
    "start_time": "2021-07-08T21:21:07.960Z"
   },
   {
    "duration": 10,
    "start_time": "2021-07-08T21:21:49.212Z"
   },
   {
    "duration": 430,
    "start_time": "2021-07-08T21:27:29.172Z"
   },
   {
    "duration": 669,
    "start_time": "2021-07-08T21:28:03.446Z"
   },
   {
    "duration": 541,
    "start_time": "2021-07-08T21:28:28.387Z"
   },
   {
    "duration": 582,
    "start_time": "2021-07-08T21:29:22.552Z"
   },
   {
    "duration": 636,
    "start_time": "2021-07-08T21:29:34.191Z"
   },
   {
    "duration": 1253,
    "start_time": "2021-07-08T21:29:52.717Z"
   },
   {
    "duration": 516,
    "start_time": "2021-07-08T21:29:59.142Z"
   },
   {
    "duration": 542,
    "start_time": "2021-07-08T21:30:21.398Z"
   },
   {
    "duration": 606,
    "start_time": "2021-07-08T21:30:30.834Z"
   },
   {
    "duration": 525,
    "start_time": "2021-07-08T21:30:41.521Z"
   },
   {
    "duration": 648,
    "start_time": "2021-07-08T21:30:47.670Z"
   },
   {
    "duration": 667,
    "start_time": "2021-07-08T21:32:07.794Z"
   },
   {
    "duration": 602,
    "start_time": "2021-07-08T21:34:43.338Z"
   },
   {
    "duration": 588,
    "start_time": "2021-07-08T21:36:03.173Z"
   },
   {
    "duration": 600,
    "start_time": "2021-07-08T21:36:40.670Z"
   },
   {
    "duration": 522,
    "start_time": "2021-07-08T21:36:49.636Z"
   },
   {
    "duration": 509,
    "start_time": "2021-07-08T21:37:12.347Z"
   },
   {
    "duration": 594,
    "start_time": "2021-07-08T21:38:38.452Z"
   },
   {
    "duration": 574,
    "start_time": "2021-07-08T21:39:29.382Z"
   },
   {
    "duration": 631,
    "start_time": "2021-07-08T21:39:44.669Z"
   },
   {
    "duration": 656,
    "start_time": "2021-07-08T21:39:58.799Z"
   },
   {
    "duration": 616,
    "start_time": "2021-07-08T21:42:09.442Z"
   },
   {
    "duration": 537,
    "start_time": "2021-07-08T21:42:25.232Z"
   },
   {
    "duration": 626,
    "start_time": "2021-07-08T21:42:34.633Z"
   },
   {
    "duration": 662,
    "start_time": "2021-07-08T21:42:50.307Z"
   },
   {
    "duration": 538,
    "start_time": "2021-07-08T21:43:00.224Z"
   },
   {
    "duration": 623,
    "start_time": "2021-07-08T21:43:22.629Z"
   },
   {
    "duration": 546,
    "start_time": "2021-07-08T21:43:31.114Z"
   },
   {
    "duration": 640,
    "start_time": "2021-07-08T21:43:57.417Z"
   },
   {
    "duration": 572,
    "start_time": "2021-07-08T21:44:29.032Z"
   },
   {
    "duration": 761,
    "start_time": "2021-07-08T21:44:48.658Z"
   },
   {
    "duration": 564,
    "start_time": "2021-07-08T21:44:57.894Z"
   },
   {
    "duration": 187,
    "start_time": "2021-07-08T21:45:13.814Z"
   },
   {
    "duration": 179,
    "start_time": "2021-07-08T21:45:21.245Z"
   },
   {
    "duration": 633,
    "start_time": "2021-07-08T21:45:46.888Z"
   },
   {
    "duration": 627,
    "start_time": "2021-07-08T21:46:17.064Z"
   },
   {
    "duration": 580,
    "start_time": "2021-07-08T21:47:26.324Z"
   },
   {
    "duration": 726,
    "start_time": "2021-07-08T21:47:56.181Z"
   },
   {
    "duration": 592,
    "start_time": "2021-07-08T21:48:06.018Z"
   },
   {
    "duration": 813,
    "start_time": "2021-07-08T21:48:57.179Z"
   },
   {
    "duration": 679,
    "start_time": "2021-07-08T21:49:12.470Z"
   },
   {
    "duration": 721,
    "start_time": "2021-07-08T21:49:23.412Z"
   },
   {
    "duration": 16,
    "start_time": "2021-07-08T21:51:38.048Z"
   },
   {
    "duration": 17,
    "start_time": "2021-07-08T21:52:17.273Z"
   },
   {
    "duration": 625,
    "start_time": "2021-07-08T21:52:48.428Z"
   },
   {
    "duration": 669,
    "start_time": "2021-07-08T21:53:20.107Z"
   },
   {
    "duration": 560,
    "start_time": "2021-07-08T21:53:29.215Z"
   },
   {
    "duration": 596,
    "start_time": "2021-07-08T21:53:35.301Z"
   },
   {
    "duration": 1075,
    "start_time": "2021-07-08T21:53:51.851Z"
   },
   {
    "duration": 302,
    "start_time": "2021-07-08T21:53:52.929Z"
   },
   {
    "duration": 18,
    "start_time": "2021-07-08T21:53:53.233Z"
   },
   {
    "duration": 151,
    "start_time": "2021-07-08T21:53:53.253Z"
   },
   {
    "duration": 6,
    "start_time": "2021-07-08T21:53:53.406Z"
   },
   {
    "duration": 290,
    "start_time": "2021-07-08T21:53:53.414Z"
   },
   {
    "duration": 14,
    "start_time": "2021-07-08T21:53:53.705Z"
   },
   {
    "duration": 107,
    "start_time": "2021-07-08T21:53:53.721Z"
   },
   {
    "duration": 9,
    "start_time": "2021-07-08T21:53:53.831Z"
   },
   {
    "duration": 117,
    "start_time": "2021-07-08T21:53:53.841Z"
   },
   {
    "duration": 399,
    "start_time": "2021-07-08T21:53:53.960Z"
   },
   {
    "duration": 25,
    "start_time": "2021-07-08T21:53:54.361Z"
   },
   {
    "duration": 3,
    "start_time": "2021-07-08T21:53:54.387Z"
   },
   {
    "duration": 8,
    "start_time": "2021-07-08T21:53:54.392Z"
   },
   {
    "duration": 9,
    "start_time": "2021-07-08T21:53:54.402Z"
   },
   {
    "duration": 8,
    "start_time": "2021-07-08T21:53:54.412Z"
   },
   {
    "duration": 6,
    "start_time": "2021-07-08T21:53:54.422Z"
   },
   {
    "duration": 7,
    "start_time": "2021-07-08T21:53:54.429Z"
   },
   {
    "duration": 52,
    "start_time": "2021-07-08T21:53:54.437Z"
   },
   {
    "duration": 19,
    "start_time": "2021-07-08T21:53:54.491Z"
   },
   {
    "duration": 7,
    "start_time": "2021-07-08T21:53:54.512Z"
   },
   {
    "duration": 68,
    "start_time": "2021-07-08T21:53:54.520Z"
   },
   {
    "duration": 8,
    "start_time": "2021-07-08T21:53:54.591Z"
   },
   {
    "duration": 9,
    "start_time": "2021-07-08T21:53:54.601Z"
   },
   {
    "duration": 5,
    "start_time": "2021-07-08T21:53:54.612Z"
   },
   {
    "duration": 15,
    "start_time": "2021-07-08T21:53:54.618Z"
   },
   {
    "duration": 6,
    "start_time": "2021-07-08T21:53:54.635Z"
   },
   {
    "duration": 54,
    "start_time": "2021-07-08T21:53:54.643Z"
   },
   {
    "duration": 13,
    "start_time": "2021-07-08T21:53:54.698Z"
   },
   {
    "duration": 9,
    "start_time": "2021-07-08T21:53:54.713Z"
   },
   {
    "duration": 14,
    "start_time": "2021-07-08T21:53:54.723Z"
   },
   {
    "duration": 301,
    "start_time": "2021-07-08T21:53:54.739Z"
   },
   {
    "duration": 267,
    "start_time": "2021-07-08T21:53:55.042Z"
   },
   {
    "duration": 241,
    "start_time": "2021-07-08T21:53:55.310Z"
   },
   {
    "duration": 257,
    "start_time": "2021-07-08T21:53:55.552Z"
   },
   {
    "duration": 261,
    "start_time": "2021-07-08T21:53:55.811Z"
   },
   {
    "duration": 13,
    "start_time": "2021-07-08T21:53:56.073Z"
   },
   {
    "duration": 11,
    "start_time": "2021-07-08T21:53:56.087Z"
   },
   {
    "duration": 16,
    "start_time": "2021-07-08T21:53:56.099Z"
   },
   {
    "duration": 14,
    "start_time": "2021-07-08T21:53:56.117Z"
   },
   {
    "duration": 625,
    "start_time": "2021-07-08T21:53:56.132Z"
   },
   {
    "duration": 600,
    "start_time": "2021-07-08T21:55:56.062Z"
   },
   {
    "duration": 566,
    "start_time": "2021-07-08T21:58:10.624Z"
   },
   {
    "duration": 3,
    "start_time": "2021-07-08T22:17:22.522Z"
   },
   {
    "duration": 4,
    "start_time": "2021-07-08T22:18:02.146Z"
   },
   {
    "duration": 381,
    "start_time": "2021-07-08T22:26:35.547Z"
   },
   {
    "duration": 285,
    "start_time": "2021-07-08T22:27:18.681Z"
   },
   {
    "duration": 1101,
    "start_time": "2021-07-08T22:27:25.620Z"
   },
   {
    "duration": 301,
    "start_time": "2021-07-08T22:27:26.723Z"
   },
   {
    "duration": 16,
    "start_time": "2021-07-08T22:27:27.026Z"
   },
   {
    "duration": 124,
    "start_time": "2021-07-08T22:27:27.044Z"
   },
   {
    "duration": 6,
    "start_time": "2021-07-08T22:27:27.170Z"
   },
   {
    "duration": 284,
    "start_time": "2021-07-08T22:27:27.178Z"
   },
   {
    "duration": 22,
    "start_time": "2021-07-08T22:27:27.464Z"
   },
   {
    "duration": 112,
    "start_time": "2021-07-08T22:27:27.489Z"
   },
   {
    "duration": 10,
    "start_time": "2021-07-08T22:27:27.603Z"
   },
   {
    "duration": 117,
    "start_time": "2021-07-08T22:27:27.615Z"
   },
   {
    "duration": 392,
    "start_time": "2021-07-08T22:27:27.734Z"
   },
   {
    "duration": 15,
    "start_time": "2021-07-08T22:27:28.127Z"
   },
   {
    "duration": 8,
    "start_time": "2021-07-08T22:27:28.144Z"
   },
   {
    "duration": 24,
    "start_time": "2021-07-08T22:27:28.154Z"
   },
   {
    "duration": 12,
    "start_time": "2021-07-08T22:27:28.180Z"
   },
   {
    "duration": 16,
    "start_time": "2021-07-08T22:27:28.193Z"
   },
   {
    "duration": 17,
    "start_time": "2021-07-08T22:27:28.211Z"
   },
   {
    "duration": 19,
    "start_time": "2021-07-08T22:27:28.229Z"
   },
   {
    "duration": 11,
    "start_time": "2021-07-08T22:27:28.250Z"
   },
   {
    "duration": 17,
    "start_time": "2021-07-08T22:27:28.262Z"
   },
   {
    "duration": 6,
    "start_time": "2021-07-08T22:27:28.281Z"
   },
   {
    "duration": 44,
    "start_time": "2021-07-08T22:27:28.288Z"
   },
   {
    "duration": 8,
    "start_time": "2021-07-08T22:27:28.335Z"
   },
   {
    "duration": 13,
    "start_time": "2021-07-08T22:27:28.345Z"
   },
   {
    "duration": 6,
    "start_time": "2021-07-08T22:27:28.359Z"
   },
   {
    "duration": 15,
    "start_time": "2021-07-08T22:27:28.385Z"
   },
   {
    "duration": 7,
    "start_time": "2021-07-08T22:27:28.402Z"
   },
   {
    "duration": 22,
    "start_time": "2021-07-08T22:27:28.410Z"
   },
   {
    "duration": 14,
    "start_time": "2021-07-08T22:27:28.433Z"
   },
   {
    "duration": 43,
    "start_time": "2021-07-08T22:27:28.449Z"
   },
   {
    "duration": 14,
    "start_time": "2021-07-08T22:27:28.494Z"
   },
   {
    "duration": 284,
    "start_time": "2021-07-08T22:27:28.510Z"
   },
   {
    "duration": 252,
    "start_time": "2021-07-08T22:27:28.796Z"
   },
   {
    "duration": 247,
    "start_time": "2021-07-08T22:27:29.050Z"
   },
   {
    "duration": 258,
    "start_time": "2021-07-08T22:27:29.299Z"
   },
   {
    "duration": 254,
    "start_time": "2021-07-08T22:27:29.558Z"
   },
   {
    "duration": 9,
    "start_time": "2021-07-08T22:27:29.814Z"
   },
   {
    "duration": 9,
    "start_time": "2021-07-08T22:27:29.825Z"
   },
   {
    "duration": 15,
    "start_time": "2021-07-08T22:27:29.836Z"
   },
   {
    "duration": 38,
    "start_time": "2021-07-08T22:27:29.853Z"
   },
   {
    "duration": 670,
    "start_time": "2021-07-08T22:27:29.893Z"
   },
   {
    "duration": 620,
    "start_time": "2021-07-08T22:27:30.565Z"
   },
   {
    "duration": 448,
    "start_time": "2021-07-08T22:27:31.187Z"
   },
   {
    "duration": 291,
    "start_time": "2021-07-08T22:27:36.997Z"
   },
   {
    "duration": 13,
    "start_time": "2021-07-08T22:28:17.632Z"
   },
   {
    "duration": 14,
    "start_time": "2021-07-08T22:30:06.895Z"
   },
   {
    "duration": 6,
    "start_time": "2021-07-08T22:31:27.412Z"
   },
   {
    "duration": 4,
    "start_time": "2021-07-08T22:32:11.070Z"
   },
   {
    "duration": 4,
    "start_time": "2021-07-08T22:32:56.217Z"
   },
   {
    "duration": 63,
    "start_time": "2021-07-08T22:36:39.906Z"
   },
   {
    "duration": 5,
    "start_time": "2021-07-08T22:37:08.340Z"
   },
   {
    "duration": 7,
    "start_time": "2021-07-08T22:37:24.782Z"
   },
   {
    "duration": 1164,
    "start_time": "2021-07-08T22:38:41.465Z"
   },
   {
    "duration": 300,
    "start_time": "2021-07-08T22:38:42.631Z"
   },
   {
    "duration": 14,
    "start_time": "2021-07-08T22:38:42.933Z"
   },
   {
    "duration": 125,
    "start_time": "2021-07-08T22:38:42.949Z"
   },
   {
    "duration": 9,
    "start_time": "2021-07-08T22:38:43.076Z"
   },
   {
    "duration": 278,
    "start_time": "2021-07-08T22:38:43.087Z"
   },
   {
    "duration": 21,
    "start_time": "2021-07-08T22:38:43.367Z"
   },
   {
    "duration": 101,
    "start_time": "2021-07-08T22:38:43.390Z"
   },
   {
    "duration": 9,
    "start_time": "2021-07-08T22:38:43.493Z"
   },
   {
    "duration": 123,
    "start_time": "2021-07-08T22:38:43.504Z"
   },
   {
    "duration": 385,
    "start_time": "2021-07-08T22:38:43.628Z"
   },
   {
    "duration": 16,
    "start_time": "2021-07-08T22:38:44.014Z"
   },
   {
    "duration": 3,
    "start_time": "2021-07-08T22:38:44.031Z"
   },
   {
    "duration": 9,
    "start_time": "2021-07-08T22:38:44.036Z"
   },
   {
    "duration": 7,
    "start_time": "2021-07-08T22:38:44.047Z"
   },
   {
    "duration": 34,
    "start_time": "2021-07-08T22:38:44.056Z"
   },
   {
    "duration": 5,
    "start_time": "2021-07-08T22:38:44.091Z"
   },
   {
    "duration": 11,
    "start_time": "2021-07-08T22:38:44.098Z"
   },
   {
    "duration": 14,
    "start_time": "2021-07-08T22:38:44.111Z"
   },
   {
    "duration": 17,
    "start_time": "2021-07-08T22:38:44.126Z"
   },
   {
    "duration": 6,
    "start_time": "2021-07-08T22:38:44.145Z"
   },
   {
    "duration": 66,
    "start_time": "2021-07-08T22:38:44.153Z"
   },
   {
    "duration": 8,
    "start_time": "2021-07-08T22:38:44.223Z"
   },
   {
    "duration": 12,
    "start_time": "2021-07-08T22:38:44.232Z"
   },
   {
    "duration": 6,
    "start_time": "2021-07-08T22:38:44.246Z"
   },
   {
    "duration": 42,
    "start_time": "2021-07-08T22:38:44.253Z"
   },
   {
    "duration": 7,
    "start_time": "2021-07-08T22:38:44.297Z"
   },
   {
    "duration": 22,
    "start_time": "2021-07-08T22:38:44.306Z"
   },
   {
    "duration": 14,
    "start_time": "2021-07-08T22:38:44.330Z"
   },
   {
    "duration": 40,
    "start_time": "2021-07-08T22:38:44.346Z"
   },
   {
    "duration": 16,
    "start_time": "2021-07-08T22:38:44.388Z"
   },
   {
    "duration": 296,
    "start_time": "2021-07-08T22:38:44.406Z"
   },
   {
    "duration": 262,
    "start_time": "2021-07-08T22:38:44.703Z"
   },
   {
    "duration": 297,
    "start_time": "2021-07-08T22:38:44.967Z"
   },
   {
    "duration": 354,
    "start_time": "2021-07-08T22:38:45.266Z"
   },
   {
    "duration": 258,
    "start_time": "2021-07-08T22:38:45.622Z"
   },
   {
    "duration": 9,
    "start_time": "2021-07-08T22:38:45.884Z"
   },
   {
    "duration": 10,
    "start_time": "2021-07-08T22:38:45.895Z"
   },
   {
    "duration": 16,
    "start_time": "2021-07-08T22:38:45.907Z"
   },
   {
    "duration": 13,
    "start_time": "2021-07-08T22:38:45.925Z"
   },
   {
    "duration": 696,
    "start_time": "2021-07-08T22:38:45.940Z"
   },
   {
    "duration": 625,
    "start_time": "2021-07-08T22:38:46.638Z"
   },
   {
    "duration": 6,
    "start_time": "2021-07-08T22:38:47.265Z"
   },
   {
    "duration": 5,
    "start_time": "2021-07-08T22:39:14.004Z"
   },
   {
    "duration": 5,
    "start_time": "2021-07-08T22:39:32.524Z"
   },
   {
    "duration": 5,
    "start_time": "2021-07-08T22:39:43.546Z"
   },
   {
    "duration": 6,
    "start_time": "2021-07-08T22:40:10.437Z"
   },
   {
    "duration": 5,
    "start_time": "2021-07-08T22:41:08.514Z"
   },
   {
    "duration": 263,
    "start_time": "2021-07-08T22:42:04.086Z"
   },
   {
    "duration": 6,
    "start_time": "2021-07-08T22:42:36.145Z"
   },
   {
    "duration": 5,
    "start_time": "2021-07-08T22:50:56.430Z"
   },
   {
    "duration": 189,
    "start_time": "2021-07-08T22:52:27.428Z"
   },
   {
    "duration": 5,
    "start_time": "2021-07-08T22:52:37.054Z"
   },
   {
    "duration": 20,
    "start_time": "2021-07-08T22:52:51.190Z"
   },
   {
    "duration": 19,
    "start_time": "2021-07-08T22:53:29.357Z"
   },
   {
    "duration": 6,
    "start_time": "2021-07-08T23:01:45.717Z"
   },
   {
    "duration": 15,
    "start_time": "2021-07-08T23:01:53.509Z"
   },
   {
    "duration": 10,
    "start_time": "2021-07-08T23:06:58.636Z"
   },
   {
    "duration": 18,
    "start_time": "2021-07-08T23:08:24.400Z"
   },
   {
    "duration": 1118,
    "start_time": "2021-07-08T23:11:44.593Z"
   },
   {
    "duration": 305,
    "start_time": "2021-07-08T23:11:45.712Z"
   },
   {
    "duration": 17,
    "start_time": "2021-07-08T23:11:46.022Z"
   },
   {
    "duration": 128,
    "start_time": "2021-07-08T23:11:46.040Z"
   },
   {
    "duration": 7,
    "start_time": "2021-07-08T23:11:46.170Z"
   },
   {
    "duration": 281,
    "start_time": "2021-07-08T23:11:46.186Z"
   },
   {
    "duration": 18,
    "start_time": "2021-07-08T23:11:46.469Z"
   },
   {
    "duration": 99,
    "start_time": "2021-07-08T23:11:46.490Z"
   },
   {
    "duration": 9,
    "start_time": "2021-07-08T23:11:46.591Z"
   },
   {
    "duration": 116,
    "start_time": "2021-07-08T23:11:46.601Z"
   },
   {
    "duration": 382,
    "start_time": "2021-07-08T23:11:46.718Z"
   },
   {
    "duration": 15,
    "start_time": "2021-07-08T23:11:47.102Z"
   },
   {
    "duration": 3,
    "start_time": "2021-07-08T23:11:47.118Z"
   },
   {
    "duration": 11,
    "start_time": "2021-07-08T23:11:47.122Z"
   },
   {
    "duration": 8,
    "start_time": "2021-07-08T23:11:47.135Z"
   },
   {
    "duration": 8,
    "start_time": "2021-07-08T23:11:47.144Z"
   },
   {
    "duration": 33,
    "start_time": "2021-07-08T23:11:47.153Z"
   },
   {
    "duration": 6,
    "start_time": "2021-07-08T23:11:47.187Z"
   },
   {
    "duration": 11,
    "start_time": "2021-07-08T23:11:47.194Z"
   },
   {
    "duration": 16,
    "start_time": "2021-07-08T23:11:47.207Z"
   },
   {
    "duration": 6,
    "start_time": "2021-07-08T23:11:47.225Z"
   },
   {
    "duration": 71,
    "start_time": "2021-07-08T23:11:47.235Z"
   },
   {
    "duration": 7,
    "start_time": "2021-07-08T23:11:47.308Z"
   },
   {
    "duration": 9,
    "start_time": "2021-07-08T23:11:47.317Z"
   },
   {
    "duration": 5,
    "start_time": "2021-07-08T23:11:47.327Z"
   },
   {
    "duration": 15,
    "start_time": "2021-07-08T23:11:47.334Z"
   },
   {
    "duration": 35,
    "start_time": "2021-07-08T23:11:47.350Z"
   },
   {
    "duration": 20,
    "start_time": "2021-07-08T23:11:47.386Z"
   },
   {
    "duration": 14,
    "start_time": "2021-07-08T23:11:47.407Z"
   },
   {
    "duration": 9,
    "start_time": "2021-07-08T23:11:47.422Z"
   },
   {
    "duration": 14,
    "start_time": "2021-07-08T23:11:47.432Z"
   },
   {
    "duration": 288,
    "start_time": "2021-07-08T23:11:47.447Z"
   },
   {
    "duration": 242,
    "start_time": "2021-07-08T23:11:47.736Z"
   },
   {
    "duration": 228,
    "start_time": "2021-07-08T23:11:47.980Z"
   },
   {
    "duration": 258,
    "start_time": "2021-07-08T23:11:48.210Z"
   },
   {
    "duration": 243,
    "start_time": "2021-07-08T23:11:48.470Z"
   },
   {
    "duration": 8,
    "start_time": "2021-07-08T23:11:48.715Z"
   },
   {
    "duration": 8,
    "start_time": "2021-07-08T23:11:48.725Z"
   },
   {
    "duration": 16,
    "start_time": "2021-07-08T23:11:48.735Z"
   },
   {
    "duration": 34,
    "start_time": "2021-07-08T23:11:48.752Z"
   },
   {
    "duration": 669,
    "start_time": "2021-07-08T23:11:48.787Z"
   },
   {
    "duration": 612,
    "start_time": "2021-07-08T23:11:49.458Z"
   },
   {
    "duration": 5,
    "start_time": "2021-07-08T23:11:50.072Z"
   },
   {
    "duration": 19,
    "start_time": "2021-07-08T23:11:50.079Z"
   },
   {
    "duration": 4657,
    "start_time": "2021-07-08T23:11:50.099Z"
   },
   {
    "duration": 180,
    "start_time": "2021-07-08T23:13:19.897Z"
   },
   {
    "duration": 176,
    "start_time": "2021-07-08T23:13:24.880Z"
   },
   {
    "duration": 184,
    "start_time": "2021-07-08T23:13:30.189Z"
   },
   {
    "duration": 185,
    "start_time": "2021-07-08T23:14:05.766Z"
   },
   {
    "duration": 193,
    "start_time": "2021-07-08T23:14:14.023Z"
   },
   {
    "duration": 174,
    "start_time": "2021-07-08T23:15:33.548Z"
   },
   {
    "duration": 5,
    "start_time": "2021-07-08T23:17:20.824Z"
   },
   {
    "duration": 182,
    "start_time": "2021-07-08T23:17:39.250Z"
   },
   {
    "duration": 168,
    "start_time": "2021-07-08T23:17:55.328Z"
   },
   {
    "duration": 175,
    "start_time": "2021-07-08T23:19:11.984Z"
   },
   {
    "duration": 7,
    "start_time": "2021-07-08T23:20:23.574Z"
   },
   {
    "duration": 6,
    "start_time": "2021-07-08T23:20:46.821Z"
   },
   {
    "duration": 5,
    "start_time": "2021-07-08T23:20:58.931Z"
   },
   {
    "duration": 3,
    "start_time": "2021-07-08T23:21:11.753Z"
   },
   {
    "duration": 4,
    "start_time": "2021-07-08T23:21:21.929Z"
   },
   {
    "duration": 17,
    "start_time": "2021-07-08T23:21:33.734Z"
   },
   {
    "duration": 9,
    "start_time": "2021-07-08T23:23:22.877Z"
   },
   {
    "duration": 6,
    "start_time": "2021-07-08T23:24:24.175Z"
   },
   {
    "duration": 10,
    "start_time": "2021-07-08T23:24:54.566Z"
   },
   {
    "duration": 5,
    "start_time": "2021-07-08T23:24:59.764Z"
   },
   {
    "duration": 20,
    "start_time": "2021-07-08T23:25:12.003Z"
   },
   {
    "duration": 16,
    "start_time": "2021-07-08T23:25:43.976Z"
   },
   {
    "duration": 16,
    "start_time": "2021-07-08T23:27:25.143Z"
   },
   {
    "duration": 17,
    "start_time": "2021-07-08T23:28:57.354Z"
   },
   {
    "duration": 22,
    "start_time": "2021-07-08T23:31:16.670Z"
   },
   {
    "duration": 1511,
    "start_time": "2021-07-08T23:31:55.395Z"
   },
   {
    "duration": 307,
    "start_time": "2021-07-08T23:31:56.907Z"
   },
   {
    "duration": 13,
    "start_time": "2021-07-08T23:31:57.216Z"
   },
   {
    "duration": 124,
    "start_time": "2021-07-08T23:31:57.231Z"
   },
   {
    "duration": 6,
    "start_time": "2021-07-08T23:31:57.357Z"
   },
   {
    "duration": 288,
    "start_time": "2021-07-08T23:31:57.365Z"
   },
   {
    "duration": 14,
    "start_time": "2021-07-08T23:31:57.654Z"
   },
   {
    "duration": 100,
    "start_time": "2021-07-08T23:31:57.671Z"
   },
   {
    "duration": 18,
    "start_time": "2021-07-08T23:31:57.774Z"
   },
   {
    "duration": 111,
    "start_time": "2021-07-08T23:31:57.793Z"
   },
   {
    "duration": 379,
    "start_time": "2021-07-08T23:31:57.906Z"
   },
   {
    "duration": 13,
    "start_time": "2021-07-08T23:31:58.287Z"
   },
   {
    "duration": 2,
    "start_time": "2021-07-08T23:31:58.302Z"
   },
   {
    "duration": 9,
    "start_time": "2021-07-08T23:31:58.306Z"
   },
   {
    "duration": 7,
    "start_time": "2021-07-08T23:31:58.316Z"
   },
   {
    "duration": 6,
    "start_time": "2021-07-08T23:31:58.324Z"
   },
   {
    "duration": 5,
    "start_time": "2021-07-08T23:31:58.332Z"
   },
   {
    "duration": 9,
    "start_time": "2021-07-08T23:31:58.339Z"
   },
   {
    "duration": 40,
    "start_time": "2021-07-08T23:31:58.350Z"
   },
   {
    "duration": 16,
    "start_time": "2021-07-08T23:31:58.392Z"
   },
   {
    "duration": 5,
    "start_time": "2021-07-08T23:31:58.410Z"
   },
   {
    "duration": 37,
    "start_time": "2021-07-08T23:31:58.417Z"
   },
   {
    "duration": 31,
    "start_time": "2021-07-08T23:31:58.457Z"
   },
   {
    "duration": 10,
    "start_time": "2021-07-08T23:31:58.490Z"
   },
   {
    "duration": 6,
    "start_time": "2021-07-08T23:31:58.501Z"
   },
   {
    "duration": 12,
    "start_time": "2021-07-08T23:31:58.508Z"
   },
   {
    "duration": 6,
    "start_time": "2021-07-08T23:31:58.522Z"
   },
   {
    "duration": 56,
    "start_time": "2021-07-08T23:31:58.530Z"
   },
   {
    "duration": 13,
    "start_time": "2021-07-08T23:31:58.587Z"
   },
   {
    "duration": 8,
    "start_time": "2021-07-08T23:31:58.602Z"
   },
   {
    "duration": 13,
    "start_time": "2021-07-08T23:31:58.612Z"
   },
   {
    "duration": 278,
    "start_time": "2021-07-08T23:31:58.626Z"
   },
   {
    "duration": 245,
    "start_time": "2021-07-08T23:31:58.905Z"
   },
   {
    "duration": 226,
    "start_time": "2021-07-08T23:31:59.152Z"
   },
   {
    "duration": 250,
    "start_time": "2021-07-08T23:31:59.380Z"
   },
   {
    "duration": 246,
    "start_time": "2021-07-08T23:31:59.631Z"
   },
   {
    "duration": 11,
    "start_time": "2021-07-08T23:31:59.879Z"
   },
   {
    "duration": 8,
    "start_time": "2021-07-08T23:31:59.892Z"
   },
   {
    "duration": 15,
    "start_time": "2021-07-08T23:31:59.902Z"
   },
   {
    "duration": 15,
    "start_time": "2021-07-08T23:31:59.919Z"
   },
   {
    "duration": 712,
    "start_time": "2021-07-08T23:31:59.935Z"
   },
   {
    "duration": 618,
    "start_time": "2021-07-08T23:32:00.649Z"
   },
   {
    "duration": 5,
    "start_time": "2021-07-08T23:32:01.269Z"
   },
   {
    "duration": 11,
    "start_time": "2021-07-08T23:32:01.276Z"
   },
   {
    "duration": 11,
    "start_time": "2021-07-08T23:32:01.289Z"
   },
   {
    "duration": 20,
    "start_time": "2021-07-08T23:32:01.302Z"
   },
   {
    "duration": 196,
    "start_time": "2021-07-08T23:37:28.684Z"
   },
   {
    "duration": 1144,
    "start_time": "2021-07-08T23:37:46.563Z"
   },
   {
    "duration": 302,
    "start_time": "2021-07-08T23:37:47.709Z"
   },
   {
    "duration": 14,
    "start_time": "2021-07-08T23:37:48.013Z"
   },
   {
    "duration": 121,
    "start_time": "2021-07-08T23:37:48.029Z"
   },
   {
    "duration": 7,
    "start_time": "2021-07-08T23:37:48.151Z"
   },
   {
    "duration": 285,
    "start_time": "2021-07-08T23:37:48.159Z"
   },
   {
    "duration": 14,
    "start_time": "2021-07-08T23:37:48.446Z"
   },
   {
    "duration": 95,
    "start_time": "2021-07-08T23:37:48.462Z"
   },
   {
    "duration": 8,
    "start_time": "2021-07-08T23:37:48.559Z"
   },
   {
    "duration": 116,
    "start_time": "2021-07-08T23:37:48.569Z"
   },
   {
    "duration": 384,
    "start_time": "2021-07-08T23:37:48.687Z"
   },
   {
    "duration": 22,
    "start_time": "2021-07-08T23:37:49.072Z"
   },
   {
    "duration": 2,
    "start_time": "2021-07-08T23:37:49.095Z"
   },
   {
    "duration": 9,
    "start_time": "2021-07-08T23:37:49.099Z"
   },
   {
    "duration": 8,
    "start_time": "2021-07-08T23:37:49.109Z"
   },
   {
    "duration": 7,
    "start_time": "2021-07-08T23:37:49.118Z"
   },
   {
    "duration": 4,
    "start_time": "2021-07-08T23:37:49.127Z"
   },
   {
    "duration": 6,
    "start_time": "2021-07-08T23:37:49.132Z"
   },
   {
    "duration": 46,
    "start_time": "2021-07-08T23:37:49.139Z"
   },
   {
    "duration": 17,
    "start_time": "2021-07-08T23:37:49.186Z"
   },
   {
    "duration": 6,
    "start_time": "2021-07-08T23:37:49.204Z"
   },
   {
    "duration": 37,
    "start_time": "2021-07-08T23:37:49.212Z"
   },
   {
    "duration": 8,
    "start_time": "2021-07-08T23:37:49.252Z"
   },
   {
    "duration": 10,
    "start_time": "2021-07-08T23:37:49.286Z"
   },
   {
    "duration": 6,
    "start_time": "2021-07-08T23:37:49.298Z"
   },
   {
    "duration": 18,
    "start_time": "2021-07-08T23:37:49.305Z"
   },
   {
    "duration": 7,
    "start_time": "2021-07-08T23:37:49.324Z"
   },
   {
    "duration": 20,
    "start_time": "2021-07-08T23:37:49.332Z"
   },
   {
    "duration": 41,
    "start_time": "2021-07-08T23:37:49.354Z"
   },
   {
    "duration": 10,
    "start_time": "2021-07-08T23:37:49.397Z"
   },
   {
    "duration": 16,
    "start_time": "2021-07-08T23:37:49.408Z"
   },
   {
    "duration": 277,
    "start_time": "2021-07-08T23:37:49.426Z"
   },
   {
    "duration": 262,
    "start_time": "2021-07-08T23:37:49.705Z"
   },
   {
    "duration": 238,
    "start_time": "2021-07-08T23:37:49.968Z"
   },
   {
    "duration": 249,
    "start_time": "2021-07-08T23:37:50.207Z"
   },
   {
    "duration": 235,
    "start_time": "2021-07-08T23:37:50.458Z"
   },
   {
    "duration": 8,
    "start_time": "2021-07-08T23:37:50.695Z"
   },
   {
    "duration": 10,
    "start_time": "2021-07-08T23:37:50.704Z"
   },
   {
    "duration": 16,
    "start_time": "2021-07-08T23:37:50.715Z"
   },
   {
    "duration": 14,
    "start_time": "2021-07-08T23:37:50.733Z"
   },
   {
    "duration": 687,
    "start_time": "2021-07-08T23:37:50.749Z"
   },
   {
    "duration": 620,
    "start_time": "2021-07-08T23:37:51.438Z"
   },
   {
    "duration": 6,
    "start_time": "2021-07-08T23:37:52.060Z"
   },
   {
    "duration": 17,
    "start_time": "2021-07-08T23:37:52.068Z"
   },
   {
    "duration": 10,
    "start_time": "2021-07-08T23:37:52.087Z"
   },
   {
    "duration": 215,
    "start_time": "2021-07-08T23:37:52.099Z"
   },
   {
    "duration": 246,
    "start_time": "2021-07-08T23:38:35.514Z"
   },
   {
    "duration": 9,
    "start_time": "2021-07-08T23:40:14.414Z"
   },
   {
    "duration": 95,
    "start_time": "2021-07-08T23:40:18.835Z"
   },
   {
    "duration": 269,
    "start_time": "2021-07-08T23:44:34.081Z"
   },
   {
    "duration": 1244,
    "start_time": "2021-07-08T23:45:17.799Z"
   },
   {
    "duration": 1194,
    "start_time": "2021-07-08T23:45:31.285Z"
   },
   {
    "duration": 182,
    "start_time": "2021-07-08T23:45:44.540Z"
   },
   {
    "duration": 180,
    "start_time": "2021-07-08T23:46:51.446Z"
   },
   {
    "duration": 108,
    "start_time": "2021-07-08T23:46:58.405Z"
   },
   {
    "duration": 169,
    "start_time": "2021-07-08T23:47:27.555Z"
   },
   {
    "duration": 96,
    "start_time": "2021-07-08T23:58:42.604Z"
   },
   {
    "duration": 95,
    "start_time": "2021-07-08T23:59:27.620Z"
   },
   {
    "duration": 92,
    "start_time": "2021-07-08T23:59:46.285Z"
   },
   {
    "duration": 1131,
    "start_time": "2021-07-08T23:59:55.773Z"
   },
   {
    "duration": 299,
    "start_time": "2021-07-08T23:59:56.906Z"
   },
   {
    "duration": 15,
    "start_time": "2021-07-08T23:59:57.209Z"
   },
   {
    "duration": 119,
    "start_time": "2021-07-08T23:59:57.225Z"
   },
   {
    "duration": 6,
    "start_time": "2021-07-08T23:59:57.345Z"
   },
   {
    "duration": 277,
    "start_time": "2021-07-08T23:59:57.352Z"
   },
   {
    "duration": 14,
    "start_time": "2021-07-08T23:59:57.631Z"
   },
   {
    "duration": 96,
    "start_time": "2021-07-08T23:59:57.647Z"
   },
   {
    "duration": 9,
    "start_time": "2021-07-08T23:59:57.745Z"
   },
   {
    "duration": 113,
    "start_time": "2021-07-08T23:59:57.755Z"
   },
   {
    "duration": 390,
    "start_time": "2021-07-08T23:59:57.869Z"
   },
   {
    "duration": 25,
    "start_time": "2021-07-08T23:59:58.260Z"
   },
   {
    "duration": 3,
    "start_time": "2021-07-08T23:59:58.286Z"
   },
   {
    "duration": 8,
    "start_time": "2021-07-08T23:59:58.291Z"
   },
   {
    "duration": 7,
    "start_time": "2021-07-08T23:59:58.301Z"
   },
   {
    "duration": 6,
    "start_time": "2021-07-08T23:59:58.310Z"
   },
   {
    "duration": 4,
    "start_time": "2021-07-08T23:59:58.318Z"
   },
   {
    "duration": 6,
    "start_time": "2021-07-08T23:59:58.323Z"
   },
   {
    "duration": 9,
    "start_time": "2021-07-08T23:59:58.330Z"
   },
   {
    "duration": 52,
    "start_time": "2021-07-08T23:59:58.341Z"
   },
   {
    "duration": 5,
    "start_time": "2021-07-08T23:59:58.395Z"
   },
   {
    "duration": 38,
    "start_time": "2021-07-08T23:59:58.403Z"
   },
   {
    "duration": 7,
    "start_time": "2021-07-08T23:59:58.443Z"
   },
   {
    "duration": 33,
    "start_time": "2021-07-08T23:59:58.451Z"
   },
   {
    "duration": 6,
    "start_time": "2021-07-08T23:59:58.486Z"
   },
   {
    "duration": 13,
    "start_time": "2021-07-08T23:59:58.493Z"
   },
   {
    "duration": 6,
    "start_time": "2021-07-08T23:59:58.507Z"
   },
   {
    "duration": 20,
    "start_time": "2021-07-08T23:59:58.515Z"
   },
   {
    "duration": 12,
    "start_time": "2021-07-08T23:59:58.537Z"
   },
   {
    "duration": 41,
    "start_time": "2021-07-08T23:59:58.551Z"
   },
   {
    "duration": 14,
    "start_time": "2021-07-08T23:59:58.594Z"
   },
   {
    "duration": 278,
    "start_time": "2021-07-08T23:59:58.609Z"
   },
   {
    "duration": 250,
    "start_time": "2021-07-08T23:59:58.888Z"
   },
   {
    "duration": 233,
    "start_time": "2021-07-08T23:59:59.139Z"
   },
   {
    "duration": 250,
    "start_time": "2021-07-08T23:59:59.374Z"
   },
   {
    "duration": 242,
    "start_time": "2021-07-08T23:59:59.626Z"
   },
   {
    "duration": 14,
    "start_time": "2021-07-08T23:59:59.870Z"
   },
   {
    "duration": 10,
    "start_time": "2021-07-08T23:59:59.886Z"
   },
   {
    "duration": 15,
    "start_time": "2021-07-08T23:59:59.898Z"
   },
   {
    "duration": 14,
    "start_time": "2021-07-08T23:59:59.915Z"
   },
   {
    "duration": 633,
    "start_time": "2021-07-08T23:59:59.930Z"
   },
   {
    "duration": 609,
    "start_time": "2021-07-09T00:00:00.565Z"
   },
   {
    "duration": 9,
    "start_time": "2021-07-09T00:00:01.176Z"
   },
   {
    "duration": 11,
    "start_time": "2021-07-09T00:00:01.187Z"
   },
   {
    "duration": 13,
    "start_time": "2021-07-09T00:00:01.199Z"
   },
   {
    "duration": 101,
    "start_time": "2021-07-09T00:00:01.213Z"
   },
   {
    "duration": 278,
    "start_time": "2021-07-09T00:02:18.497Z"
   },
   {
    "duration": 199,
    "start_time": "2021-07-09T00:02:27.750Z"
   },
   {
    "duration": 9,
    "start_time": "2021-07-09T00:03:53.473Z"
   },
   {
    "duration": 16,
    "start_time": "2021-07-09T00:04:04.130Z"
   },
   {
    "duration": 4233,
    "start_time": "2021-07-09T00:05:24.071Z"
   },
   {
    "duration": 78,
    "start_time": "2021-07-09T00:06:02.608Z"
   },
   {
    "duration": 18,
    "start_time": "2021-07-09T00:07:05.919Z"
   },
   {
    "duration": 18,
    "start_time": "2021-07-09T00:09:18.396Z"
   },
   {
    "duration": 21,
    "start_time": "2021-07-09T00:09:42.739Z"
   },
   {
    "duration": 240,
    "start_time": "2021-07-09T00:11:16.491Z"
   },
   {
    "duration": 290,
    "start_time": "2021-07-09T00:14:09.000Z"
   },
   {
    "duration": 412,
    "start_time": "2021-07-09T00:14:22.846Z"
   },
   {
    "duration": 397,
    "start_time": "2021-07-09T00:14:31.159Z"
   },
   {
    "duration": 601,
    "start_time": "2021-07-09T00:14:42.619Z"
   },
   {
    "duration": 290,
    "start_time": "2021-07-09T00:15:27.327Z"
   },
   {
    "duration": 296,
    "start_time": "2021-07-09T00:16:31.054Z"
   },
   {
    "duration": 291,
    "start_time": "2021-07-09T00:17:43.861Z"
   },
   {
    "duration": 296,
    "start_time": "2021-07-09T00:18:09.661Z"
   },
   {
    "duration": 395,
    "start_time": "2021-07-09T20:56:00.668Z"
   },
   {
    "duration": 1483,
    "start_time": "2021-07-09T20:56:07.511Z"
   },
   {
    "duration": 373,
    "start_time": "2021-07-09T20:56:08.997Z"
   },
   {
    "duration": 31,
    "start_time": "2021-07-09T20:56:09.373Z"
   },
   {
    "duration": 197,
    "start_time": "2021-07-09T20:56:09.407Z"
   },
   {
    "duration": 9,
    "start_time": "2021-07-09T20:56:09.606Z"
   },
   {
    "duration": 354,
    "start_time": "2021-07-09T20:56:09.617Z"
   },
   {
    "duration": 33,
    "start_time": "2021-07-09T20:56:09.974Z"
   },
   {
    "duration": 156,
    "start_time": "2021-07-09T20:56:10.014Z"
   },
   {
    "duration": 24,
    "start_time": "2021-07-09T20:56:10.173Z"
   },
   {
    "duration": 186,
    "start_time": "2021-07-09T20:56:10.200Z"
   },
   {
    "duration": 474,
    "start_time": "2021-07-09T20:56:10.389Z"
   },
   {
    "duration": 33,
    "start_time": "2021-07-09T20:56:10.866Z"
   },
   {
    "duration": 4,
    "start_time": "2021-07-09T20:56:10.903Z"
   },
   {
    "duration": 21,
    "start_time": "2021-07-09T20:56:10.911Z"
   },
   {
    "duration": 15,
    "start_time": "2021-07-09T20:56:10.934Z"
   },
   {
    "duration": 38,
    "start_time": "2021-07-09T20:56:10.951Z"
   },
   {
    "duration": 6,
    "start_time": "2021-07-09T20:56:10.991Z"
   },
   {
    "duration": 18,
    "start_time": "2021-07-09T20:56:10.999Z"
   },
   {
    "duration": 26,
    "start_time": "2021-07-09T20:56:11.020Z"
   },
   {
    "duration": 27,
    "start_time": "2021-07-09T20:56:11.048Z"
   },
   {
    "duration": 7,
    "start_time": "2021-07-09T20:56:11.086Z"
   },
   {
    "duration": 51,
    "start_time": "2021-07-09T20:56:11.096Z"
   },
   {
    "duration": 10,
    "start_time": "2021-07-09T20:56:11.152Z"
   },
   {
    "duration": 13,
    "start_time": "2021-07-09T20:56:11.187Z"
   },
   {
    "duration": 8,
    "start_time": "2021-07-09T20:56:11.202Z"
   },
   {
    "duration": 16,
    "start_time": "2021-07-09T20:56:11.213Z"
   },
   {
    "duration": 10,
    "start_time": "2021-07-09T20:56:11.231Z"
   },
   {
    "duration": 25,
    "start_time": "2021-07-09T20:56:11.285Z"
   },
   {
    "duration": 22,
    "start_time": "2021-07-09T20:56:11.312Z"
   },
   {
    "duration": 15,
    "start_time": "2021-07-09T20:56:11.337Z"
   },
   {
    "duration": 23,
    "start_time": "2021-07-09T20:56:11.386Z"
   },
   {
    "duration": 463,
    "start_time": "2021-07-09T20:56:11.411Z"
   },
   {
    "duration": 400,
    "start_time": "2021-07-09T20:56:11.877Z"
   },
   {
    "duration": 370,
    "start_time": "2021-07-09T20:56:12.280Z"
   },
   {
    "duration": 402,
    "start_time": "2021-07-09T20:56:12.652Z"
   },
   {
    "duration": 386,
    "start_time": "2021-07-09T20:56:13.056Z"
   },
   {
    "duration": 13,
    "start_time": "2021-07-09T20:56:13.444Z"
   },
   {
    "duration": 32,
    "start_time": "2021-07-09T20:56:13.459Z"
   },
   {
    "duration": 26,
    "start_time": "2021-07-09T20:56:13.493Z"
   },
   {
    "duration": 21,
    "start_time": "2021-07-09T20:56:13.521Z"
   },
   {
    "duration": 926,
    "start_time": "2021-07-09T20:56:13.544Z"
   },
   {
    "duration": 846,
    "start_time": "2021-07-09T20:56:14.473Z"
   },
   {
    "duration": 7,
    "start_time": "2021-07-09T20:56:15.321Z"
   },
   {
    "duration": 11,
    "start_time": "2021-07-09T20:56:15.331Z"
   },
   {
    "duration": 40,
    "start_time": "2021-07-09T20:56:15.345Z"
   },
   {
    "duration": 37,
    "start_time": "2021-07-09T20:56:15.389Z"
   },
   {
    "duration": 717,
    "start_time": "2021-07-09T20:56:15.429Z"
   },
   {
    "duration": 1050,
    "start_time": "2021-07-09T20:58:22.793Z"
   },
   {
    "duration": 1362,
    "start_time": "2021-07-09T21:03:48.185Z"
   },
   {
    "duration": 1358,
    "start_time": "2021-07-09T21:04:08.120Z"
   },
   {
    "duration": 1428,
    "start_time": "2021-07-09T21:05:09.705Z"
   },
   {
    "duration": 1480,
    "start_time": "2021-07-09T21:08:06.135Z"
   },
   {
    "duration": 1259,
    "start_time": "2021-07-09T21:08:56.520Z"
   },
   {
    "duration": 1271,
    "start_time": "2021-07-09T21:09:47.978Z"
   },
   {
    "duration": 1279,
    "start_time": "2021-07-09T21:11:30.107Z"
   },
   {
    "duration": 1222,
    "start_time": "2021-07-09T21:17:41.349Z"
   },
   {
    "duration": 1295,
    "start_time": "2021-07-09T21:18:04.579Z"
   },
   {
    "duration": 1220,
    "start_time": "2021-07-09T21:18:27.788Z"
   },
   {
    "duration": 32,
    "start_time": "2021-07-09T21:30:10.343Z"
   },
   {
    "duration": 346,
    "start_time": "2021-07-09T21:39:18.532Z"
   },
   {
    "duration": 321,
    "start_time": "2021-07-09T21:39:39.458Z"
   },
   {
    "duration": 45,
    "start_time": "2021-07-09T21:40:00.261Z"
   },
   {
    "duration": 10,
    "start_time": "2021-07-09T21:40:58.022Z"
   },
   {
    "duration": 8445,
    "start_time": "2021-07-09T21:41:41.435Z"
   },
   {
    "duration": 18,
    "start_time": "2021-07-09T21:41:58.229Z"
   },
   {
    "duration": 11,
    "start_time": "2021-07-09T21:44:07.516Z"
   },
   {
    "duration": 19,
    "start_time": "2021-07-09T21:45:32.945Z"
   },
   {
    "duration": 398,
    "start_time": "2021-07-09T21:49:35.761Z"
   },
   {
    "duration": 299,
    "start_time": "2021-07-09T21:50:14.032Z"
   },
   {
    "duration": 48,
    "start_time": "2021-07-09T21:50:35.417Z"
   },
   {
    "duration": 37,
    "start_time": "2021-07-09T21:50:50.758Z"
   },
   {
    "duration": 8143,
    "start_time": "2021-07-09T21:51:30.546Z"
   },
   {
    "duration": 1534,
    "start_time": "2021-07-09T21:53:41.493Z"
   },
   {
    "duration": 407,
    "start_time": "2021-07-09T21:53:43.030Z"
   },
   {
    "duration": 25,
    "start_time": "2021-07-09T21:53:43.440Z"
   },
   {
    "duration": 210,
    "start_time": "2021-07-09T21:53:43.468Z"
   },
   {
    "duration": 9,
    "start_time": "2021-07-09T21:53:43.681Z"
   },
   {
    "duration": 423,
    "start_time": "2021-07-09T21:53:43.693Z"
   },
   {
    "duration": 22,
    "start_time": "2021-07-09T21:53:44.118Z"
   },
   {
    "duration": 147,
    "start_time": "2021-07-09T21:53:44.144Z"
   },
   {
    "duration": 17,
    "start_time": "2021-07-09T21:53:44.294Z"
   },
   {
    "duration": 202,
    "start_time": "2021-07-09T21:53:44.313Z"
   },
   {
    "duration": 624,
    "start_time": "2021-07-09T21:53:44.518Z"
   },
   {
    "duration": 25,
    "start_time": "2021-07-09T21:53:45.145Z"
   },
   {
    "duration": 4,
    "start_time": "2021-07-09T21:53:45.184Z"
   },
   {
    "duration": 30,
    "start_time": "2021-07-09T21:53:45.190Z"
   },
   {
    "duration": 12,
    "start_time": "2021-07-09T21:53:45.224Z"
   },
   {
    "duration": 14,
    "start_time": "2021-07-09T21:53:45.238Z"
   },
   {
    "duration": 31,
    "start_time": "2021-07-09T21:53:45.255Z"
   },
   {
    "duration": 9,
    "start_time": "2021-07-09T21:53:45.288Z"
   },
   {
    "duration": 19,
    "start_time": "2021-07-09T21:53:45.300Z"
   },
   {
    "duration": 21,
    "start_time": "2021-07-09T21:53:45.322Z"
   },
   {
    "duration": 42,
    "start_time": "2021-07-09T21:53:45.345Z"
   },
   {
    "duration": 50,
    "start_time": "2021-07-09T21:53:45.389Z"
   },
   {
    "duration": 11,
    "start_time": "2021-07-09T21:53:45.444Z"
   },
   {
    "duration": 39,
    "start_time": "2021-07-09T21:53:45.458Z"
   },
   {
    "duration": 8,
    "start_time": "2021-07-09T21:53:45.500Z"
   },
   {
    "duration": 20,
    "start_time": "2021-07-09T21:53:45.511Z"
   },
   {
    "duration": 9,
    "start_time": "2021-07-09T21:53:45.533Z"
   },
   {
    "duration": 65,
    "start_time": "2021-07-09T21:53:45.545Z"
   },
   {
    "duration": 23,
    "start_time": "2021-07-09T21:53:45.612Z"
   },
   {
    "duration": 16,
    "start_time": "2021-07-09T21:53:45.637Z"
   },
   {
    "duration": 23,
    "start_time": "2021-07-09T21:53:45.686Z"
   },
   {
    "duration": 444,
    "start_time": "2021-07-09T21:53:45.712Z"
   },
   {
    "duration": 426,
    "start_time": "2021-07-09T21:53:46.159Z"
   },
   {
    "duration": 393,
    "start_time": "2021-07-09T21:53:46.587Z"
   },
   {
    "duration": 409,
    "start_time": "2021-07-09T21:53:46.985Z"
   },
   {
    "duration": 418,
    "start_time": "2021-07-09T21:53:47.397Z"
   },
   {
    "duration": 11,
    "start_time": "2021-07-09T21:53:47.817Z"
   },
   {
    "duration": 13,
    "start_time": "2021-07-09T21:53:47.831Z"
   },
   {
    "duration": 53,
    "start_time": "2021-07-09T21:53:47.847Z"
   },
   {
    "duration": 21,
    "start_time": "2021-07-09T21:53:47.902Z"
   },
   {
    "duration": 949,
    "start_time": "2021-07-09T21:53:47.926Z"
   },
   {
    "duration": 888,
    "start_time": "2021-07-09T21:53:48.877Z"
   },
   {
    "duration": 8,
    "start_time": "2021-07-09T21:53:49.768Z"
   },
   {
    "duration": 6,
    "start_time": "2021-07-09T21:53:49.786Z"
   },
   {
    "duration": 16,
    "start_time": "2021-07-09T21:53:49.794Z"
   },
   {
    "duration": 36,
    "start_time": "2021-07-09T21:53:49.813Z"
   },
   {
    "duration": 1321,
    "start_time": "2021-07-09T21:53:49.886Z"
   },
   {
    "duration": 35,
    "start_time": "2021-07-09T21:53:51.210Z"
   },
   {
    "duration": 11,
    "start_time": "2021-07-09T21:53:51.248Z"
   },
   {
    "duration": 19,
    "start_time": "2021-07-09T21:53:51.286Z"
   },
   {
    "duration": 42,
    "start_time": "2021-07-09T21:53:51.308Z"
   },
   {
    "duration": 1306,
    "start_time": "2021-07-09T21:54:17.044Z"
   },
   {
    "duration": 1338,
    "start_time": "2021-07-09T21:54:48.360Z"
   },
   {
    "duration": 1521,
    "start_time": "2021-07-09T21:54:56.790Z"
   },
   {
    "duration": 1380,
    "start_time": "2021-07-09T21:55:05.509Z"
   },
   {
    "duration": 11,
    "start_time": "2021-07-09T21:57:01.064Z"
   },
   {
    "duration": 43,
    "start_time": "2021-07-09T21:59:37.042Z"
   },
   {
    "duration": 81,
    "start_time": "2021-07-09T22:00:20.677Z"
   },
   {
    "duration": 36,
    "start_time": "2021-07-09T22:05:52.693Z"
   },
   {
    "duration": 12,
    "start_time": "2021-07-09T22:07:38.148Z"
   },
   {
    "duration": 16,
    "start_time": "2021-07-09T22:09:33.102Z"
   },
   {
    "duration": 34,
    "start_time": "2021-07-09T22:09:37.817Z"
   },
   {
    "duration": 1645,
    "start_time": "2021-07-09T22:10:10.195Z"
   },
   {
    "duration": 406,
    "start_time": "2021-07-09T22:10:11.842Z"
   },
   {
    "duration": 41,
    "start_time": "2021-07-09T22:10:12.251Z"
   },
   {
    "duration": 203,
    "start_time": "2021-07-09T22:10:12.294Z"
   },
   {
    "duration": 11,
    "start_time": "2021-07-09T22:10:12.499Z"
   },
   {
    "duration": 392,
    "start_time": "2021-07-09T22:10:12.512Z"
   },
   {
    "duration": 25,
    "start_time": "2021-07-09T22:10:12.906Z"
   },
   {
    "duration": 156,
    "start_time": "2021-07-09T22:10:12.935Z"
   },
   {
    "duration": 17,
    "start_time": "2021-07-09T22:10:13.094Z"
   },
   {
    "duration": 212,
    "start_time": "2021-07-09T22:10:13.114Z"
   },
   {
    "duration": 524,
    "start_time": "2021-07-09T22:10:13.329Z"
   },
   {
    "duration": 38,
    "start_time": "2021-07-09T22:10:13.856Z"
   },
   {
    "duration": 4,
    "start_time": "2021-07-09T22:10:13.897Z"
   },
   {
    "duration": 31,
    "start_time": "2021-07-09T22:10:13.904Z"
   },
   {
    "duration": 12,
    "start_time": "2021-07-09T22:10:13.938Z"
   },
   {
    "duration": 12,
    "start_time": "2021-07-09T22:10:13.953Z"
   },
   {
    "duration": 8,
    "start_time": "2021-07-09T22:10:13.986Z"
   },
   {
    "duration": 10,
    "start_time": "2021-07-09T22:10:13.997Z"
   },
   {
    "duration": 18,
    "start_time": "2021-07-09T22:10:14.009Z"
   },
   {
    "duration": 63,
    "start_time": "2021-07-09T22:10:14.030Z"
   },
   {
    "duration": 9,
    "start_time": "2021-07-09T22:10:14.096Z"
   },
   {
    "duration": 78,
    "start_time": "2021-07-09T22:10:14.107Z"
   },
   {
    "duration": 11,
    "start_time": "2021-07-09T22:10:14.191Z"
   },
   {
    "duration": 13,
    "start_time": "2021-07-09T22:10:14.205Z"
   },
   {
    "duration": 8,
    "start_time": "2021-07-09T22:10:14.220Z"
   },
   {
    "duration": 57,
    "start_time": "2021-07-09T22:10:14.231Z"
   },
   {
    "duration": 10,
    "start_time": "2021-07-09T22:10:14.290Z"
   },
   {
    "duration": 28,
    "start_time": "2021-07-09T22:10:14.303Z"
   },
   {
    "duration": 56,
    "start_time": "2021-07-09T22:10:14.334Z"
   },
   {
    "duration": 16,
    "start_time": "2021-07-09T22:10:14.393Z"
   },
   {
    "duration": 23,
    "start_time": "2021-07-09T22:10:14.412Z"
   },
   {
    "duration": 480,
    "start_time": "2021-07-09T22:10:14.437Z"
   },
   {
    "duration": 433,
    "start_time": "2021-07-09T22:10:14.920Z"
   },
   {
    "duration": 383,
    "start_time": "2021-07-09T22:10:15.356Z"
   },
   {
    "duration": 428,
    "start_time": "2021-07-09T22:10:15.742Z"
   },
   {
    "duration": 420,
    "start_time": "2021-07-09T22:10:16.172Z"
   },
   {
    "duration": 12,
    "start_time": "2021-07-09T22:10:16.595Z"
   },
   {
    "duration": 21,
    "start_time": "2021-07-09T22:10:16.610Z"
   },
   {
    "duration": 30,
    "start_time": "2021-07-09T22:10:16.633Z"
   },
   {
    "duration": 23,
    "start_time": "2021-07-09T22:10:16.687Z"
   },
   {
    "duration": 977,
    "start_time": "2021-07-09T22:10:16.712Z"
   },
   {
    "duration": 855,
    "start_time": "2021-07-09T22:10:17.691Z"
   },
   {
    "duration": 8,
    "start_time": "2021-07-09T22:10:18.548Z"
   },
   {
    "duration": 13,
    "start_time": "2021-07-09T22:10:18.559Z"
   },
   {
    "duration": 26,
    "start_time": "2021-07-09T22:10:18.574Z"
   },
   {
    "duration": 34,
    "start_time": "2021-07-09T22:10:18.602Z"
   },
   {
    "duration": 1359,
    "start_time": "2021-07-09T22:10:18.639Z"
   },
   {
    "duration": 36,
    "start_time": "2021-07-09T22:10:20.001Z"
   },
   {
    "duration": 12,
    "start_time": "2021-07-09T22:10:20.039Z"
   },
   {
    "duration": 107,
    "start_time": "2021-07-09T22:10:20.053Z"
   },
   {
    "duration": 31,
    "start_time": "2021-07-09T22:10:20.163Z"
   },
   {
    "duration": 11,
    "start_time": "2021-07-09T22:10:20.196Z"
   },
   {
    "duration": 41,
    "start_time": "2021-07-09T22:10:20.210Z"
   },
   {
    "duration": 32,
    "start_time": "2021-07-09T22:14:49.816Z"
   },
   {
    "duration": 75,
    "start_time": "2021-07-09T22:17:31.081Z"
   },
   {
    "duration": 13,
    "start_time": "2021-07-09T22:17:55.566Z"
   },
   {
    "duration": 8,
    "start_time": "2021-07-09T22:18:22.556Z"
   },
   {
    "duration": 35,
    "start_time": "2021-07-09T22:19:01.063Z"
   },
   {
    "duration": 12,
    "start_time": "2021-07-09T22:24:59.479Z"
   },
   {
    "duration": 1509,
    "start_time": "2021-07-09T22:25:05.989Z"
   },
   {
    "duration": 376,
    "start_time": "2021-07-09T22:25:07.500Z"
   },
   {
    "duration": 24,
    "start_time": "2021-07-09T22:25:07.886Z"
   },
   {
    "duration": 193,
    "start_time": "2021-07-09T22:25:07.913Z"
   },
   {
    "duration": 9,
    "start_time": "2021-07-09T22:25:08.109Z"
   },
   {
    "duration": 351,
    "start_time": "2021-07-09T22:25:08.121Z"
   },
   {
    "duration": 27,
    "start_time": "2021-07-09T22:25:08.475Z"
   },
   {
    "duration": 132,
    "start_time": "2021-07-09T22:25:08.505Z"
   },
   {
    "duration": 16,
    "start_time": "2021-07-09T22:25:08.640Z"
   },
   {
    "duration": 193,
    "start_time": "2021-07-09T22:25:08.659Z"
   },
   {
    "duration": 494,
    "start_time": "2021-07-09T22:25:08.855Z"
   },
   {
    "duration": 40,
    "start_time": "2021-07-09T22:25:09.352Z"
   },
   {
    "duration": 4,
    "start_time": "2021-07-09T22:25:09.394Z"
   },
   {
    "duration": 18,
    "start_time": "2021-07-09T22:25:09.401Z"
   },
   {
    "duration": 13,
    "start_time": "2021-07-09T22:25:09.422Z"
   },
   {
    "duration": 13,
    "start_time": "2021-07-09T22:25:09.437Z"
   },
   {
    "duration": 40,
    "start_time": "2021-07-09T22:25:09.453Z"
   },
   {
    "duration": 11,
    "start_time": "2021-07-09T22:25:09.496Z"
   },
   {
    "duration": 15,
    "start_time": "2021-07-09T22:25:09.509Z"
   },
   {
    "duration": 63,
    "start_time": "2021-07-09T22:25:09.526Z"
   },
   {
    "duration": 8,
    "start_time": "2021-07-09T22:25:09.591Z"
   },
   {
    "duration": 46,
    "start_time": "2021-07-09T22:25:09.602Z"
   },
   {
    "duration": 11,
    "start_time": "2021-07-09T22:25:09.686Z"
   },
   {
    "duration": 13,
    "start_time": "2021-07-09T22:25:09.701Z"
   },
   {
    "duration": 9,
    "start_time": "2021-07-09T22:25:09.716Z"
   },
   {
    "duration": 28,
    "start_time": "2021-07-09T22:25:09.728Z"
   },
   {
    "duration": 12,
    "start_time": "2021-07-09T22:25:09.786Z"
   },
   {
    "duration": 28,
    "start_time": "2021-07-09T22:25:09.800Z"
   },
   {
    "duration": 22,
    "start_time": "2021-07-09T22:25:09.830Z"
   },
   {
    "duration": 44,
    "start_time": "2021-07-09T22:25:09.855Z"
   },
   {
    "duration": 23,
    "start_time": "2021-07-09T22:25:09.901Z"
   },
   {
    "duration": 452,
    "start_time": "2021-07-09T22:25:09.927Z"
   },
   {
    "duration": 485,
    "start_time": "2021-07-09T22:25:10.386Z"
   },
   {
    "duration": 358,
    "start_time": "2021-07-09T22:25:10.874Z"
   },
   {
    "duration": 398,
    "start_time": "2021-07-09T22:25:11.235Z"
   },
   {
    "duration": 389,
    "start_time": "2021-07-09T22:25:11.636Z"
   },
   {
    "duration": 12,
    "start_time": "2021-07-09T22:25:12.027Z"
   },
   {
    "duration": 14,
    "start_time": "2021-07-09T22:25:12.041Z"
   },
   {
    "duration": 44,
    "start_time": "2021-07-09T22:25:12.057Z"
   },
   {
    "duration": 21,
    "start_time": "2021-07-09T22:25:12.104Z"
   },
   {
    "duration": 932,
    "start_time": "2021-07-09T22:25:12.128Z"
   },
   {
    "duration": 993,
    "start_time": "2021-07-09T22:25:13.063Z"
   },
   {
    "duration": 9,
    "start_time": "2021-07-09T22:25:14.060Z"
   },
   {
    "duration": 7,
    "start_time": "2021-07-09T22:25:14.086Z"
   },
   {
    "duration": 16,
    "start_time": "2021-07-09T22:25:14.096Z"
   },
   {
    "duration": 34,
    "start_time": "2021-07-09T22:25:14.114Z"
   },
   {
    "duration": 1284,
    "start_time": "2021-07-09T22:25:14.186Z"
   },
   {
    "duration": 44,
    "start_time": "2021-07-09T22:25:15.473Z"
   },
   {
    "duration": 32,
    "start_time": "2021-07-09T22:25:15.519Z"
   },
   {
    "duration": 36,
    "start_time": "2021-07-09T22:25:15.554Z"
   },
   {
    "duration": 7,
    "start_time": "2021-07-09T22:25:15.592Z"
   },
   {
    "duration": 45,
    "start_time": "2021-07-09T22:25:15.601Z"
   },
   {
    "duration": 15,
    "start_time": "2021-07-09T22:25:15.649Z"
   },
   {
    "duration": 35,
    "start_time": "2021-07-09T22:25:15.667Z"
   },
   {
    "duration": 41,
    "start_time": "2021-07-09T22:25:15.705Z"
   },
   {
    "duration": 13,
    "start_time": "2021-07-09T22:25:44.714Z"
   },
   {
    "duration": 8,
    "start_time": "2021-07-09T22:26:16.501Z"
   },
   {
    "duration": 1641,
    "start_time": "2021-07-09T22:26:23.662Z"
   },
   {
    "duration": 385,
    "start_time": "2021-07-09T22:26:25.305Z"
   },
   {
    "duration": 23,
    "start_time": "2021-07-09T22:26:25.693Z"
   },
   {
    "duration": 195,
    "start_time": "2021-07-09T22:26:25.719Z"
   },
   {
    "duration": 9,
    "start_time": "2021-07-09T22:26:25.916Z"
   },
   {
    "duration": 358,
    "start_time": "2021-07-09T22:26:25.927Z"
   },
   {
    "duration": 22,
    "start_time": "2021-07-09T22:26:26.287Z"
   },
   {
    "duration": 140,
    "start_time": "2021-07-09T22:26:26.313Z"
   },
   {
    "duration": 15,
    "start_time": "2021-07-09T22:26:26.456Z"
   },
   {
    "duration": 182,
    "start_time": "2021-07-09T22:26:26.485Z"
   },
   {
    "duration": 494,
    "start_time": "2021-07-09T22:26:26.669Z"
   },
   {
    "duration": 36,
    "start_time": "2021-07-09T22:26:27.166Z"
   },
   {
    "duration": 3,
    "start_time": "2021-07-09T22:26:27.205Z"
   },
   {
    "duration": 25,
    "start_time": "2021-07-09T22:26:27.211Z"
   },
   {
    "duration": 11,
    "start_time": "2021-07-09T22:26:27.238Z"
   },
   {
    "duration": 33,
    "start_time": "2021-07-09T22:26:27.252Z"
   },
   {
    "duration": 7,
    "start_time": "2021-07-09T22:26:27.288Z"
   },
   {
    "duration": 17,
    "start_time": "2021-07-09T22:26:27.298Z"
   },
   {
    "duration": 19,
    "start_time": "2021-07-09T22:26:27.317Z"
   },
   {
    "duration": 49,
    "start_time": "2021-07-09T22:26:27.338Z"
   },
   {
    "duration": 10,
    "start_time": "2021-07-09T22:26:27.389Z"
   },
   {
    "duration": 63,
    "start_time": "2021-07-09T22:26:27.401Z"
   },
   {
    "duration": 19,
    "start_time": "2021-07-09T22:26:27.469Z"
   },
   {
    "duration": 28,
    "start_time": "2021-07-09T22:26:27.492Z"
   },
   {
    "duration": 9,
    "start_time": "2021-07-09T22:26:27.523Z"
   },
   {
    "duration": 23,
    "start_time": "2021-07-09T22:26:27.534Z"
   },
   {
    "duration": 31,
    "start_time": "2021-07-09T22:26:27.559Z"
   },
   {
    "duration": 25,
    "start_time": "2021-07-09T22:26:27.593Z"
   },
   {
    "duration": 21,
    "start_time": "2021-07-09T22:26:27.620Z"
   },
   {
    "duration": 51,
    "start_time": "2021-07-09T22:26:27.644Z"
   },
   {
    "duration": 23,
    "start_time": "2021-07-09T22:26:27.697Z"
   },
   {
    "duration": 423,
    "start_time": "2021-07-09T22:26:27.722Z"
   },
   {
    "duration": 398,
    "start_time": "2021-07-09T22:26:28.147Z"
   },
   {
    "duration": 366,
    "start_time": "2021-07-09T22:26:28.548Z"
   },
   {
    "duration": 450,
    "start_time": "2021-07-09T22:26:28.917Z"
   },
   {
    "duration": 402,
    "start_time": "2021-07-09T22:26:29.369Z"
   },
   {
    "duration": 17,
    "start_time": "2021-07-09T22:26:29.774Z"
   },
   {
    "duration": 20,
    "start_time": "2021-07-09T22:26:29.793Z"
   },
   {
    "duration": 24,
    "start_time": "2021-07-09T22:26:29.816Z"
   },
   {
    "duration": 53,
    "start_time": "2021-07-09T22:26:29.842Z"
   },
   {
    "duration": 881,
    "start_time": "2021-07-09T22:26:29.898Z"
   },
   {
    "duration": 962,
    "start_time": "2021-07-09T22:26:30.781Z"
   },
   {
    "duration": 8,
    "start_time": "2021-07-09T22:26:31.745Z"
   },
   {
    "duration": 12,
    "start_time": "2021-07-09T22:26:31.756Z"
   },
   {
    "duration": 12,
    "start_time": "2021-07-09T22:26:31.787Z"
   },
   {
    "duration": 38,
    "start_time": "2021-07-09T22:26:31.802Z"
   },
   {
    "duration": 1388,
    "start_time": "2021-07-09T22:26:31.843Z"
   },
   {
    "duration": 53,
    "start_time": "2021-07-09T22:26:33.233Z"
   },
   {
    "duration": 33,
    "start_time": "2021-07-09T22:26:33.288Z"
   },
   {
    "duration": 22,
    "start_time": "2021-07-09T22:26:33.324Z"
   },
   {
    "duration": 11,
    "start_time": "2021-07-09T22:26:33.348Z"
   },
   {
    "duration": 55,
    "start_time": "2021-07-09T22:26:33.361Z"
   },
   {
    "duration": 21,
    "start_time": "2021-07-09T22:26:33.419Z"
   },
   {
    "duration": 17,
    "start_time": "2021-07-09T22:26:33.442Z"
   },
   {
    "duration": 32,
    "start_time": "2021-07-09T22:26:33.462Z"
   },
   {
    "duration": 61,
    "start_time": "2021-07-09T22:26:33.496Z"
   },
   {
    "duration": 46,
    "start_time": "2021-07-09T22:29:01.723Z"
   },
   {
    "duration": 1574,
    "start_time": "2021-07-09T22:29:18.929Z"
   },
   {
    "duration": 389,
    "start_time": "2021-07-09T22:29:20.506Z"
   },
   {
    "duration": 25,
    "start_time": "2021-07-09T22:29:20.898Z"
   },
   {
    "duration": 210,
    "start_time": "2021-07-09T22:29:20.926Z"
   },
   {
    "duration": 10,
    "start_time": "2021-07-09T22:29:21.139Z"
   },
   {
    "duration": 366,
    "start_time": "2021-07-09T22:29:21.152Z"
   },
   {
    "duration": 23,
    "start_time": "2021-07-09T22:29:21.521Z"
   },
   {
    "duration": 137,
    "start_time": "2021-07-09T22:29:21.548Z"
   },
   {
    "duration": 17,
    "start_time": "2021-07-09T22:29:21.688Z"
   },
   {
    "duration": 194,
    "start_time": "2021-07-09T22:29:21.707Z"
   },
   {
    "duration": 608,
    "start_time": "2021-07-09T22:29:21.904Z"
   },
   {
    "duration": 25,
    "start_time": "2021-07-09T22:29:22.514Z"
   },
   {
    "duration": 4,
    "start_time": "2021-07-09T22:29:22.541Z"
   },
   {
    "duration": 39,
    "start_time": "2021-07-09T22:29:22.547Z"
   },
   {
    "duration": 11,
    "start_time": "2021-07-09T22:29:22.588Z"
   },
   {
    "duration": 10,
    "start_time": "2021-07-09T22:29:22.602Z"
   },
   {
    "duration": 6,
    "start_time": "2021-07-09T22:29:22.615Z"
   },
   {
    "duration": 9,
    "start_time": "2021-07-09T22:29:22.623Z"
   },
   {
    "duration": 62,
    "start_time": "2021-07-09T22:29:22.635Z"
   },
   {
    "duration": 20,
    "start_time": "2021-07-09T22:29:22.700Z"
   },
   {
    "duration": 8,
    "start_time": "2021-07-09T22:29:22.723Z"
   },
   {
    "duration": 86,
    "start_time": "2021-07-09T22:29:22.733Z"
   },
   {
    "duration": 10,
    "start_time": "2021-07-09T22:29:22.825Z"
   },
   {
    "duration": 13,
    "start_time": "2021-07-09T22:29:22.838Z"
   },
   {
    "duration": 34,
    "start_time": "2021-07-09T22:29:22.853Z"
   },
   {
    "duration": 18,
    "start_time": "2021-07-09T22:29:22.890Z"
   },
   {
    "duration": 9,
    "start_time": "2021-07-09T22:29:22.911Z"
   },
   {
    "duration": 29,
    "start_time": "2021-07-09T22:29:22.922Z"
   },
   {
    "duration": 50,
    "start_time": "2021-07-09T22:29:22.954Z"
   },
   {
    "duration": 15,
    "start_time": "2021-07-09T22:29:23.006Z"
   },
   {
    "duration": 23,
    "start_time": "2021-07-09T22:29:23.023Z"
   },
   {
    "duration": 467,
    "start_time": "2021-07-09T22:29:23.048Z"
   },
   {
    "duration": 401,
    "start_time": "2021-07-09T22:29:23.517Z"
   },
   {
    "duration": 394,
    "start_time": "2021-07-09T22:29:23.920Z"
   },
   {
    "duration": 424,
    "start_time": "2021-07-09T22:29:24.316Z"
   },
   {
    "duration": 542,
    "start_time": "2021-07-09T22:29:24.743Z"
   },
   {
    "duration": 12,
    "start_time": "2021-07-09T22:29:25.288Z"
   },
   {
    "duration": 14,
    "start_time": "2021-07-09T22:29:25.303Z"
   },
   {
    "duration": 24,
    "start_time": "2021-07-09T22:29:25.319Z"
   },
   {
    "duration": 55,
    "start_time": "2021-07-09T22:29:25.346Z"
   },
   {
    "duration": 862,
    "start_time": "2021-07-09T22:29:25.404Z"
   },
   {
    "duration": 940,
    "start_time": "2021-07-09T22:29:26.269Z"
   },
   {
    "duration": 9,
    "start_time": "2021-07-09T22:29:27.213Z"
   },
   {
    "duration": 12,
    "start_time": "2021-07-09T22:29:27.225Z"
   },
   {
    "duration": 17,
    "start_time": "2021-07-09T22:29:27.239Z"
   },
   {
    "duration": 35,
    "start_time": "2021-07-09T22:29:27.287Z"
   },
   {
    "duration": 1256,
    "start_time": "2021-07-09T22:29:27.325Z"
   },
   {
    "duration": 34,
    "start_time": "2021-07-09T22:29:28.586Z"
   },
   {
    "duration": 29,
    "start_time": "2021-07-09T22:29:28.623Z"
   },
   {
    "duration": 37,
    "start_time": "2021-07-09T22:29:28.655Z"
   },
   {
    "duration": 6,
    "start_time": "2021-07-09T22:29:28.695Z"
   },
   {
    "duration": 32,
    "start_time": "2021-07-09T22:29:28.704Z"
   },
   {
    "duration": 49,
    "start_time": "2021-07-09T22:29:28.738Z"
   },
   {
    "duration": 8,
    "start_time": "2021-07-09T22:29:28.790Z"
   },
   {
    "duration": 14,
    "start_time": "2021-07-09T22:29:28.801Z"
   },
   {
    "duration": 82,
    "start_time": "2021-07-09T22:29:28.817Z"
   },
   {
    "duration": 8,
    "start_time": "2021-07-09T22:30:28.193Z"
   },
   {
    "duration": 26,
    "start_time": "2021-07-09T22:30:40.114Z"
   },
   {
    "duration": 7,
    "start_time": "2021-07-09T22:32:11.252Z"
   },
   {
    "duration": 26,
    "start_time": "2021-07-09T22:32:48.618Z"
   },
   {
    "duration": 8,
    "start_time": "2021-07-09T22:33:33.162Z"
   },
   {
    "duration": 8,
    "start_time": "2021-07-09T22:34:20.207Z"
   },
   {
    "duration": 1477,
    "start_time": "2021-07-09T22:34:27.236Z"
   },
   {
    "duration": 439,
    "start_time": "2021-07-09T22:34:28.716Z"
   },
   {
    "duration": 37,
    "start_time": "2021-07-09T22:34:29.158Z"
   },
   {
    "duration": 193,
    "start_time": "2021-07-09T22:34:29.197Z"
   },
   {
    "duration": 8,
    "start_time": "2021-07-09T22:34:29.392Z"
   },
   {
    "duration": 356,
    "start_time": "2021-07-09T22:34:29.402Z"
   },
   {
    "duration": 30,
    "start_time": "2021-07-09T22:34:29.760Z"
   },
   {
    "duration": 130,
    "start_time": "2021-07-09T22:34:29.794Z"
   },
   {
    "duration": 15,
    "start_time": "2021-07-09T22:34:29.927Z"
   },
   {
    "duration": 191,
    "start_time": "2021-07-09T22:34:29.944Z"
   },
   {
    "duration": 511,
    "start_time": "2021-07-09T22:34:30.138Z"
   },
   {
    "duration": 43,
    "start_time": "2021-07-09T22:34:30.652Z"
   },
   {
    "duration": 4,
    "start_time": "2021-07-09T22:34:30.698Z"
   },
   {
    "duration": 37,
    "start_time": "2021-07-09T22:34:30.704Z"
   },
   {
    "duration": 16,
    "start_time": "2021-07-09T22:34:30.743Z"
   },
   {
    "duration": 20,
    "start_time": "2021-07-09T22:34:30.762Z"
   },
   {
    "duration": 8,
    "start_time": "2021-07-09T22:34:30.785Z"
   },
   {
    "duration": 23,
    "start_time": "2021-07-09T22:34:30.797Z"
   },
   {
    "duration": 19,
    "start_time": "2021-07-09T22:34:30.823Z"
   },
   {
    "duration": 44,
    "start_time": "2021-07-09T22:34:30.846Z"
   },
   {
    "duration": 7,
    "start_time": "2021-07-09T22:34:30.892Z"
   },
   {
    "duration": 52,
    "start_time": "2021-07-09T22:34:30.902Z"
   },
   {
    "duration": 31,
    "start_time": "2021-07-09T22:34:30.959Z"
   },
   {
    "duration": 14,
    "start_time": "2021-07-09T22:34:30.993Z"
   },
   {
    "duration": 10,
    "start_time": "2021-07-09T22:34:31.010Z"
   },
   {
    "duration": 21,
    "start_time": "2021-07-09T22:34:31.022Z"
   },
   {
    "duration": 48,
    "start_time": "2021-07-09T22:34:31.045Z"
   },
   {
    "duration": 28,
    "start_time": "2021-07-09T22:34:31.096Z"
   },
   {
    "duration": 23,
    "start_time": "2021-07-09T22:34:31.126Z"
   },
   {
    "duration": 49,
    "start_time": "2021-07-09T22:34:31.151Z"
   },
   {
    "duration": 24,
    "start_time": "2021-07-09T22:34:31.203Z"
   },
   {
    "duration": 459,
    "start_time": "2021-07-09T22:34:31.230Z"
   },
   {
    "duration": 425,
    "start_time": "2021-07-09T22:34:31.691Z"
   },
   {
    "duration": 403,
    "start_time": "2021-07-09T22:34:32.119Z"
   },
   {
    "duration": 523,
    "start_time": "2021-07-09T22:34:32.525Z"
   },
   {
    "duration": 407,
    "start_time": "2021-07-09T22:34:33.050Z"
   },
   {
    "duration": 12,
    "start_time": "2021-07-09T22:34:33.459Z"
   },
   {
    "duration": 13,
    "start_time": "2021-07-09T22:34:33.485Z"
   },
   {
    "duration": 50,
    "start_time": "2021-07-09T22:34:33.500Z"
   },
   {
    "duration": 22,
    "start_time": "2021-07-09T22:34:33.552Z"
   },
   {
    "duration": 897,
    "start_time": "2021-07-09T22:34:33.576Z"
   },
   {
    "duration": 860,
    "start_time": "2021-07-09T22:34:34.475Z"
   },
   {
    "duration": 8,
    "start_time": "2021-07-09T22:34:35.337Z"
   },
   {
    "duration": 10,
    "start_time": "2021-07-09T22:34:35.348Z"
   },
   {
    "duration": 33,
    "start_time": "2021-07-09T22:34:35.361Z"
   },
   {
    "duration": 33,
    "start_time": "2021-07-09T22:34:35.397Z"
   },
   {
    "duration": 1249,
    "start_time": "2021-07-09T22:34:35.433Z"
   },
   {
    "duration": 15,
    "start_time": "2021-07-09T22:34:36.685Z"
   },
   {
    "duration": 9,
    "start_time": "2021-07-09T22:34:36.703Z"
   },
   {
    "duration": 10,
    "start_time": "2021-07-09T22:34:36.715Z"
   },
   {
    "duration": 68,
    "start_time": "2021-07-09T22:34:36.728Z"
   },
   {
    "duration": 11,
    "start_time": "2021-07-09T22:34:36.798Z"
   },
   {
    "duration": 9,
    "start_time": "2021-07-09T22:34:36.812Z"
   },
   {
    "duration": 69,
    "start_time": "2021-07-09T22:34:36.823Z"
   },
   {
    "duration": 14,
    "start_time": "2021-07-09T22:34:36.895Z"
   },
   {
    "duration": 7,
    "start_time": "2021-07-09T22:34:36.912Z"
   },
   {
    "duration": 18,
    "start_time": "2021-07-09T22:34:36.922Z"
   },
   {
    "duration": 50,
    "start_time": "2021-07-09T22:34:36.986Z"
   },
   {
    "duration": 19,
    "start_time": "2021-07-09T22:38:13.525Z"
   },
   {
    "duration": 48,
    "start_time": "2021-07-09T22:38:45.028Z"
   },
   {
    "duration": 113,
    "start_time": "2021-07-09T22:38:55.729Z"
   },
   {
    "duration": 21,
    "start_time": "2021-07-09T22:39:00.498Z"
   },
   {
    "duration": 46,
    "start_time": "2021-07-09T22:39:11.280Z"
   },
   {
    "duration": 29,
    "start_time": "2021-07-09T22:39:20.049Z"
   },
   {
    "duration": 16,
    "start_time": "2021-07-09T22:40:13.489Z"
   },
   {
    "duration": 4,
    "start_time": "2021-07-10T00:02:03.631Z"
   },
   {
    "duration": 4,
    "start_time": "2021-07-10T00:05:42.679Z"
   },
   {
    "duration": 461,
    "start_time": "2021-07-10T00:06:24.845Z"
   },
   {
    "duration": 1532,
    "start_time": "2021-07-10T00:06:51.666Z"
   },
   {
    "duration": 376,
    "start_time": "2021-07-10T00:06:53.200Z"
   },
   {
    "duration": 26,
    "start_time": "2021-07-10T00:06:53.585Z"
   },
   {
    "duration": 205,
    "start_time": "2021-07-10T00:06:53.615Z"
   },
   {
    "duration": 11,
    "start_time": "2021-07-10T00:06:53.823Z"
   },
   {
    "duration": 363,
    "start_time": "2021-07-10T00:06:53.837Z"
   },
   {
    "duration": 23,
    "start_time": "2021-07-10T00:06:54.203Z"
   },
   {
    "duration": 140,
    "start_time": "2021-07-10T00:06:54.230Z"
   },
   {
    "duration": 24,
    "start_time": "2021-07-10T00:06:54.373Z"
   },
   {
    "duration": 188,
    "start_time": "2021-07-10T00:06:54.399Z"
   },
   {
    "duration": 500,
    "start_time": "2021-07-10T00:06:54.589Z"
   },
   {
    "duration": 25,
    "start_time": "2021-07-10T00:06:55.092Z"
   },
   {
    "duration": 4,
    "start_time": "2021-07-10T00:06:55.121Z"
   },
   {
    "duration": 20,
    "start_time": "2021-07-10T00:06:55.128Z"
   },
   {
    "duration": 43,
    "start_time": "2021-07-10T00:06:55.150Z"
   },
   {
    "duration": 13,
    "start_time": "2021-07-10T00:06:55.195Z"
   },
   {
    "duration": 7,
    "start_time": "2021-07-10T00:06:55.212Z"
   },
   {
    "duration": 13,
    "start_time": "2021-07-10T00:06:55.223Z"
   },
   {
    "duration": 14,
    "start_time": "2021-07-10T00:06:55.286Z"
   },
   {
    "duration": 22,
    "start_time": "2021-07-10T00:06:55.303Z"
   },
   {
    "duration": 10,
    "start_time": "2021-07-10T00:06:55.328Z"
   },
   {
    "duration": 99,
    "start_time": "2021-07-10T00:06:55.341Z"
   },
   {
    "duration": 11,
    "start_time": "2021-07-10T00:06:55.448Z"
   },
   {
    "duration": 14,
    "start_time": "2021-07-10T00:06:55.488Z"
   },
   {
    "duration": 11,
    "start_time": "2021-07-10T00:06:55.505Z"
   },
   {
    "duration": 19,
    "start_time": "2021-07-10T00:06:55.519Z"
   },
   {
    "duration": 53,
    "start_time": "2021-07-10T00:06:55.541Z"
   },
   {
    "duration": 28,
    "start_time": "2021-07-10T00:06:55.597Z"
   },
   {
    "duration": 60,
    "start_time": "2021-07-10T00:06:55.628Z"
   },
   {
    "duration": 18,
    "start_time": "2021-07-10T00:06:55.691Z"
   },
   {
    "duration": 25,
    "start_time": "2021-07-10T00:06:55.712Z"
   },
   {
    "duration": 464,
    "start_time": "2021-07-10T00:06:55.740Z"
   },
   {
    "duration": 406,
    "start_time": "2021-07-10T00:06:56.207Z"
   },
   {
    "duration": 373,
    "start_time": "2021-07-10T00:06:56.615Z"
   },
   {
    "duration": 405,
    "start_time": "2021-07-10T00:06:56.991Z"
   },
   {
    "duration": 395,
    "start_time": "2021-07-10T00:06:57.399Z"
   },
   {
    "duration": 11,
    "start_time": "2021-07-10T00:06:57.797Z"
   },
   {
    "duration": 13,
    "start_time": "2021-07-10T00:06:57.811Z"
   },
   {
    "duration": 23,
    "start_time": "2021-07-10T00:06:57.826Z"
   },
   {
    "duration": 49,
    "start_time": "2021-07-10T00:06:57.852Z"
   },
   {
    "duration": 916,
    "start_time": "2021-07-10T00:06:57.903Z"
   },
   {
    "duration": 938,
    "start_time": "2021-07-10T00:06:58.822Z"
   },
   {
    "duration": 7,
    "start_time": "2021-07-10T00:06:59.762Z"
   },
   {
    "duration": 18,
    "start_time": "2021-07-10T00:06:59.771Z"
   },
   {
    "duration": 14,
    "start_time": "2021-07-10T00:06:59.791Z"
   },
   {
    "duration": 34,
    "start_time": "2021-07-10T00:06:59.807Z"
   },
   {
    "duration": 1253,
    "start_time": "2021-07-10T00:06:59.843Z"
   },
   {
    "duration": 10,
    "start_time": "2021-07-10T00:07:01.099Z"
   },
   {
    "duration": 16,
    "start_time": "2021-07-10T00:07:01.111Z"
   },
   {
    "duration": 13,
    "start_time": "2021-07-10T00:07:01.130Z"
   },
   {
    "duration": 51,
    "start_time": "2021-07-10T00:07:01.145Z"
   },
   {
    "duration": 13,
    "start_time": "2021-07-10T00:07:01.198Z"
   },
   {
    "duration": 8,
    "start_time": "2021-07-10T00:07:01.213Z"
   },
   {
    "duration": 63,
    "start_time": "2021-07-10T00:07:01.223Z"
   },
   {
    "duration": 12,
    "start_time": "2021-07-10T00:07:01.288Z"
   },
   {
    "duration": 11,
    "start_time": "2021-07-10T00:07:01.302Z"
   },
   {
    "duration": 39,
    "start_time": "2021-07-10T00:07:01.315Z"
   },
   {
    "duration": 39,
    "start_time": "2021-07-10T00:07:01.356Z"
   },
   {
    "duration": 4,
    "start_time": "2021-07-10T00:07:01.397Z"
   },
   {
    "duration": 7,
    "start_time": "2021-07-10T00:07:01.404Z"
   },
   {
    "duration": 12,
    "start_time": "2021-07-10T00:07:01.413Z"
   },
   {
    "duration": 9,
    "start_time": "2021-07-10T01:50:10.521Z"
   },
   {
    "duration": 7860,
    "start_time": "2021-07-10T01:50:22.985Z"
   },
   {
    "duration": 1490,
    "start_time": "2021-07-10T01:50:44.297Z"
   },
   {
    "duration": 383,
    "start_time": "2021-07-10T01:50:45.790Z"
   },
   {
    "duration": 24,
    "start_time": "2021-07-10T01:50:46.186Z"
   },
   {
    "duration": 202,
    "start_time": "2021-07-10T01:50:46.212Z"
   },
   {
    "duration": 10,
    "start_time": "2021-07-10T01:50:46.416Z"
   },
   {
    "duration": 351,
    "start_time": "2021-07-10T01:50:46.428Z"
   },
   {
    "duration": 22,
    "start_time": "2021-07-10T01:50:46.786Z"
   },
   {
    "duration": 130,
    "start_time": "2021-07-10T01:50:46.811Z"
   },
   {
    "duration": 15,
    "start_time": "2021-07-10T01:50:46.944Z"
   },
   {
    "duration": 203,
    "start_time": "2021-07-10T01:50:46.962Z"
   },
   {
    "duration": 497,
    "start_time": "2021-07-10T01:50:47.168Z"
   },
   {
    "duration": 36,
    "start_time": "2021-07-10T01:50:47.668Z"
   },
   {
    "duration": 5,
    "start_time": "2021-07-10T01:50:47.707Z"
   },
   {
    "duration": 32,
    "start_time": "2021-07-10T01:50:47.715Z"
   },
   {
    "duration": 14,
    "start_time": "2021-07-10T01:50:47.750Z"
   },
   {
    "duration": 25,
    "start_time": "2021-07-10T01:50:47.767Z"
   },
   {
    "duration": 10,
    "start_time": "2021-07-10T01:50:47.795Z"
   },
   {
    "duration": 11,
    "start_time": "2021-07-10T01:50:47.808Z"
   },
   {
    "duration": 14,
    "start_time": "2021-07-10T01:50:47.822Z"
   },
   {
    "duration": 59,
    "start_time": "2021-07-10T01:50:47.839Z"
   },
   {
    "duration": 11,
    "start_time": "2021-07-10T01:50:47.900Z"
   },
   {
    "duration": 73,
    "start_time": "2021-07-10T01:50:47.919Z"
   },
   {
    "duration": 10,
    "start_time": "2021-07-10T01:50:47.996Z"
   },
   {
    "duration": 13,
    "start_time": "2021-07-10T01:50:48.008Z"
   },
   {
    "duration": 9,
    "start_time": "2021-07-10T01:50:48.023Z"
   },
   {
    "duration": 60,
    "start_time": "2021-07-10T01:50:48.034Z"
   },
   {
    "duration": 10,
    "start_time": "2021-07-10T01:50:48.096Z"
   },
   {
    "duration": 28,
    "start_time": "2021-07-10T01:50:48.109Z"
   },
   {
    "duration": 53,
    "start_time": "2021-07-10T01:50:48.139Z"
   },
   {
    "duration": 14,
    "start_time": "2021-07-10T01:50:48.195Z"
   },
   {
    "duration": 23,
    "start_time": "2021-07-10T01:50:48.211Z"
   },
   {
    "duration": 428,
    "start_time": "2021-07-10T01:50:48.237Z"
   },
   {
    "duration": 405,
    "start_time": "2021-07-10T01:50:48.668Z"
   },
   {
    "duration": 369,
    "start_time": "2021-07-10T01:50:49.085Z"
   },
   {
    "duration": 407,
    "start_time": "2021-07-10T01:50:49.458Z"
   },
   {
    "duration": 391,
    "start_time": "2021-07-10T01:50:49.868Z"
   },
   {
    "duration": 23,
    "start_time": "2021-07-10T01:50:50.262Z"
   },
   {
    "duration": 12,
    "start_time": "2021-07-10T01:50:50.287Z"
   },
   {
    "duration": 26,
    "start_time": "2021-07-10T01:50:50.301Z"
   },
   {
    "duration": 21,
    "start_time": "2021-07-10T01:50:50.329Z"
   },
   {
    "duration": 876,
    "start_time": "2021-07-10T01:50:50.385Z"
   },
   {
    "duration": 853,
    "start_time": "2021-07-10T01:50:51.263Z"
   },
   {
    "duration": 8,
    "start_time": "2021-07-10T01:50:52.119Z"
   },
   {
    "duration": 8,
    "start_time": "2021-07-10T01:50:52.129Z"
   },
   {
    "duration": 16,
    "start_time": "2021-07-10T01:50:52.139Z"
   },
   {
    "duration": 59,
    "start_time": "2021-07-10T01:50:52.157Z"
   },
   {
    "duration": 1253,
    "start_time": "2021-07-10T01:50:52.219Z"
   },
   {
    "duration": 14,
    "start_time": "2021-07-10T01:50:53.474Z"
   },
   {
    "duration": 6,
    "start_time": "2021-07-10T01:50:53.491Z"
   },
   {
    "duration": 16,
    "start_time": "2021-07-10T01:50:53.499Z"
   },
   {
    "duration": 26,
    "start_time": "2021-07-10T01:50:53.518Z"
   },
   {
    "duration": 49,
    "start_time": "2021-07-10T01:50:53.547Z"
   },
   {
    "duration": 8,
    "start_time": "2021-07-10T01:50:53.599Z"
   },
   {
    "duration": 33,
    "start_time": "2021-07-10T01:50:53.610Z"
   },
   {
    "duration": 51,
    "start_time": "2021-07-10T01:50:53.646Z"
   },
   {
    "duration": 8,
    "start_time": "2021-07-10T01:50:53.700Z"
   },
   {
    "duration": 34,
    "start_time": "2021-07-10T01:50:53.711Z"
   },
   {
    "duration": 19,
    "start_time": "2021-07-10T01:50:53.785Z"
   },
   {
    "duration": 5,
    "start_time": "2021-07-10T01:50:53.807Z"
   },
   {
    "duration": 7,
    "start_time": "2021-07-10T01:50:53.815Z"
   },
   {
    "duration": 6,
    "start_time": "2021-07-10T01:50:53.825Z"
   },
   {
    "duration": 77,
    "start_time": "2021-07-10T01:50:53.833Z"
   },
   {
    "duration": 7565,
    "start_time": "2021-07-10T01:51:18.268Z"
   },
   {
    "duration": 1535,
    "start_time": "2021-07-10T01:51:32.084Z"
   },
   {
    "duration": 392,
    "start_time": "2021-07-10T01:51:33.621Z"
   },
   {
    "duration": 25,
    "start_time": "2021-07-10T01:51:34.016Z"
   },
   {
    "duration": 205,
    "start_time": "2021-07-10T01:51:34.044Z"
   },
   {
    "duration": 9,
    "start_time": "2021-07-10T01:51:34.251Z"
   },
   {
    "duration": 360,
    "start_time": "2021-07-10T01:51:34.262Z"
   },
   {
    "duration": 24,
    "start_time": "2021-07-10T01:51:34.624Z"
   },
   {
    "duration": 143,
    "start_time": "2021-07-10T01:51:34.651Z"
   },
   {
    "duration": 18,
    "start_time": "2021-07-10T01:51:34.797Z"
   },
   {
    "duration": 302,
    "start_time": "2021-07-10T01:51:34.818Z"
   },
   {
    "duration": 504,
    "start_time": "2021-07-10T01:51:35.123Z"
   },
   {
    "duration": 24,
    "start_time": "2021-07-10T01:51:35.630Z"
   },
   {
    "duration": 3,
    "start_time": "2021-07-10T01:51:35.657Z"
   },
   {
    "duration": 15,
    "start_time": "2021-07-10T01:51:35.685Z"
   },
   {
    "duration": 11,
    "start_time": "2021-07-10T01:51:35.703Z"
   },
   {
    "duration": 14,
    "start_time": "2021-07-10T01:51:35.716Z"
   },
   {
    "duration": 10,
    "start_time": "2021-07-10T01:51:35.733Z"
   },
   {
    "duration": 41,
    "start_time": "2021-07-10T01:51:35.746Z"
   },
   {
    "duration": 12,
    "start_time": "2021-07-10T01:51:35.790Z"
   },
   {
    "duration": 22,
    "start_time": "2021-07-10T01:51:35.805Z"
   },
   {
    "duration": 8,
    "start_time": "2021-07-10T01:51:35.830Z"
   },
   {
    "duration": 94,
    "start_time": "2021-07-10T01:51:35.841Z"
   },
   {
    "duration": 11,
    "start_time": "2021-07-10T01:51:35.941Z"
   },
   {
    "duration": 38,
    "start_time": "2021-07-10T01:51:35.956Z"
   },
   {
    "duration": 8,
    "start_time": "2021-07-10T01:51:35.997Z"
   },
   {
    "duration": 19,
    "start_time": "2021-07-10T01:51:36.008Z"
   },
   {
    "duration": 11,
    "start_time": "2021-07-10T01:51:36.029Z"
   },
   {
    "duration": 61,
    "start_time": "2021-07-10T01:51:36.042Z"
   },
   {
    "duration": 22,
    "start_time": "2021-07-10T01:51:36.105Z"
   },
   {
    "duration": 17,
    "start_time": "2021-07-10T01:51:36.130Z"
   },
   {
    "duration": 55,
    "start_time": "2021-07-10T01:51:36.150Z"
   },
   {
    "duration": 459,
    "start_time": "2021-07-10T01:51:36.209Z"
   },
   {
    "duration": 419,
    "start_time": "2021-07-10T01:51:36.670Z"
   },
   {
    "duration": 370,
    "start_time": "2021-07-10T01:51:37.091Z"
   },
   {
    "duration": 412,
    "start_time": "2021-07-10T01:51:37.463Z"
   },
   {
    "duration": 403,
    "start_time": "2021-07-10T01:51:37.878Z"
   },
   {
    "duration": 14,
    "start_time": "2021-07-10T01:51:38.284Z"
   },
   {
    "duration": 15,
    "start_time": "2021-07-10T01:51:38.301Z"
   },
   {
    "duration": 26,
    "start_time": "2021-07-10T01:51:38.319Z"
   },
   {
    "duration": 58,
    "start_time": "2021-07-10T01:51:38.348Z"
   },
   {
    "duration": 976,
    "start_time": "2021-07-10T01:51:38.409Z"
   },
   {
    "duration": 881,
    "start_time": "2021-07-10T01:51:39.388Z"
   },
   {
    "duration": 16,
    "start_time": "2021-07-10T01:51:40.271Z"
   },
   {
    "duration": 5,
    "start_time": "2021-07-10T01:51:40.289Z"
   },
   {
    "duration": 15,
    "start_time": "2021-07-10T01:51:40.297Z"
   },
   {
    "duration": 76,
    "start_time": "2021-07-10T01:51:40.315Z"
   },
   {
    "duration": 1278,
    "start_time": "2021-07-10T01:51:40.393Z"
   },
   {
    "duration": 20,
    "start_time": "2021-07-10T01:51:41.675Z"
   },
   {
    "duration": 9,
    "start_time": "2021-07-10T01:51:41.698Z"
   },
   {
    "duration": 8,
    "start_time": "2021-07-10T01:51:41.710Z"
   },
   {
    "duration": 72,
    "start_time": "2021-07-10T01:51:41.721Z"
   },
   {
    "duration": 14,
    "start_time": "2021-07-10T01:51:41.797Z"
   },
   {
    "duration": 6,
    "start_time": "2021-07-10T01:51:41.813Z"
   },
   {
    "duration": 65,
    "start_time": "2021-07-10T01:51:41.821Z"
   },
   {
    "duration": 12,
    "start_time": "2021-07-10T01:51:41.888Z"
   },
   {
    "duration": 7,
    "start_time": "2021-07-10T01:51:41.902Z"
   },
   {
    "duration": 38,
    "start_time": "2021-07-10T01:51:41.912Z"
   },
   {
    "duration": 46,
    "start_time": "2021-07-10T01:51:41.952Z"
   },
   {
    "duration": 4,
    "start_time": "2021-07-10T01:51:42.001Z"
   },
   {
    "duration": 16,
    "start_time": "2021-07-10T01:51:42.008Z"
   },
   {
    "duration": 13,
    "start_time": "2021-07-10T01:51:42.027Z"
   },
   {
    "duration": 48,
    "start_time": "2021-07-10T01:51:42.043Z"
   },
   {
    "duration": 95,
    "start_time": "2021-07-10T01:54:26.164Z"
   },
   {
    "duration": 5,
    "start_time": "2021-07-10T01:54:34.753Z"
   },
   {
    "duration": 6,
    "start_time": "2021-07-10T01:55:06.650Z"
   },
   {
    "duration": 458,
    "start_time": "2021-07-10T01:56:41.210Z"
   },
   {
    "duration": 1507,
    "start_time": "2021-07-10T01:56:50.665Z"
   },
   {
    "duration": 379,
    "start_time": "2021-07-10T01:56:52.175Z"
   },
   {
    "duration": 36,
    "start_time": "2021-07-10T01:56:52.561Z"
   },
   {
    "duration": 187,
    "start_time": "2021-07-10T01:56:52.600Z"
   },
   {
    "duration": 10,
    "start_time": "2021-07-10T01:56:52.789Z"
   },
   {
    "duration": 350,
    "start_time": "2021-07-10T01:56:52.801Z"
   },
   {
    "duration": 35,
    "start_time": "2021-07-10T01:56:53.155Z"
   },
   {
    "duration": 131,
    "start_time": "2021-07-10T01:56:53.193Z"
   },
   {
    "duration": 16,
    "start_time": "2021-07-10T01:56:53.327Z"
   },
   {
    "duration": 192,
    "start_time": "2021-07-10T01:56:53.345Z"
   },
   {
    "duration": 496,
    "start_time": "2021-07-10T01:56:53.540Z"
   },
   {
    "duration": 24,
    "start_time": "2021-07-10T01:56:54.038Z"
   },
   {
    "duration": 3,
    "start_time": "2021-07-10T01:56:54.065Z"
   },
   {
    "duration": 16,
    "start_time": "2021-07-10T01:56:54.086Z"
   },
   {
    "duration": 11,
    "start_time": "2021-07-10T01:56:54.104Z"
   },
   {
    "duration": 12,
    "start_time": "2021-07-10T01:56:54.118Z"
   },
   {
    "duration": 6,
    "start_time": "2021-07-10T01:56:54.133Z"
   },
   {
    "duration": 51,
    "start_time": "2021-07-10T01:56:54.141Z"
   },
   {
    "duration": 15,
    "start_time": "2021-07-10T01:56:54.195Z"
   },
   {
    "duration": 20,
    "start_time": "2021-07-10T01:56:54.213Z"
   },
   {
    "duration": 8,
    "start_time": "2021-07-10T01:56:54.236Z"
   },
   {
    "duration": 46,
    "start_time": "2021-07-10T01:56:54.288Z"
   },
   {
    "duration": 11,
    "start_time": "2021-07-10T01:56:54.337Z"
   },
   {
    "duration": 41,
    "start_time": "2021-07-10T01:56:54.350Z"
   },
   {
    "duration": 9,
    "start_time": "2021-07-10T01:56:54.394Z"
   },
   {
    "duration": 22,
    "start_time": "2021-07-10T01:56:54.405Z"
   },
   {
    "duration": 14,
    "start_time": "2021-07-10T01:56:54.430Z"
   },
   {
    "duration": 25,
    "start_time": "2021-07-10T01:56:54.486Z"
   },
   {
    "duration": 22,
    "start_time": "2021-07-10T01:56:54.513Z"
   },
   {
    "duration": 16,
    "start_time": "2021-07-10T01:56:54.537Z"
   },
   {
    "duration": 23,
    "start_time": "2021-07-10T01:56:54.586Z"
   },
   {
    "duration": 445,
    "start_time": "2021-07-10T01:56:54.611Z"
   },
   {
    "duration": 419,
    "start_time": "2021-07-10T01:56:55.059Z"
   },
   {
    "duration": 357,
    "start_time": "2021-07-10T01:56:55.485Z"
   },
   {
    "duration": 393,
    "start_time": "2021-07-10T01:56:55.845Z"
   },
   {
    "duration": 390,
    "start_time": "2021-07-10T01:56:56.241Z"
   },
   {
    "duration": 14,
    "start_time": "2021-07-10T01:56:56.635Z"
   },
   {
    "duration": 40,
    "start_time": "2021-07-10T01:56:56.652Z"
   },
   {
    "duration": 24,
    "start_time": "2021-07-10T01:56:56.695Z"
   },
   {
    "duration": 22,
    "start_time": "2021-07-10T01:56:56.722Z"
   },
   {
    "duration": 890,
    "start_time": "2021-07-10T01:56:56.785Z"
   },
   {
    "duration": 856,
    "start_time": "2021-07-10T01:56:57.678Z"
   },
   {
    "duration": 8,
    "start_time": "2021-07-10T01:56:58.538Z"
   },
   {
    "duration": 8,
    "start_time": "2021-07-10T01:56:58.550Z"
   },
   {
    "duration": 16,
    "start_time": "2021-07-10T01:56:58.586Z"
   },
   {
    "duration": 33,
    "start_time": "2021-07-10T01:56:58.604Z"
   },
   {
    "duration": 1329,
    "start_time": "2021-07-10T01:56:58.639Z"
   },
   {
    "duration": 16,
    "start_time": "2021-07-10T01:56:59.970Z"
   },
   {
    "duration": 7,
    "start_time": "2021-07-10T01:56:59.989Z"
   },
   {
    "duration": 20,
    "start_time": "2021-07-10T01:56:59.998Z"
   },
   {
    "duration": 43,
    "start_time": "2021-07-10T01:57:00.020Z"
   },
   {
    "duration": 23,
    "start_time": "2021-07-10T01:57:00.066Z"
   },
   {
    "duration": 7,
    "start_time": "2021-07-10T01:57:00.091Z"
   },
   {
    "duration": 48,
    "start_time": "2021-07-10T01:57:00.100Z"
   },
   {
    "duration": 11,
    "start_time": "2021-07-10T01:57:00.150Z"
   },
   {
    "duration": 26,
    "start_time": "2021-07-10T01:57:00.163Z"
   },
   {
    "duration": 42,
    "start_time": "2021-07-10T01:57:00.191Z"
   },
   {
    "duration": 14,
    "start_time": "2021-07-10T01:57:00.235Z"
   },
   {
    "duration": 21,
    "start_time": "2021-07-10T01:57:00.251Z"
   },
   {
    "duration": 20,
    "start_time": "2021-07-10T01:57:00.274Z"
   },
   {
    "duration": 9,
    "start_time": "2021-07-10T01:57:00.296Z"
   },
   {
    "duration": 20,
    "start_time": "2021-07-10T01:57:00.307Z"
   },
   {
    "duration": 27,
    "start_time": "2021-07-10T01:57:00.330Z"
   },
   {
    "duration": 13,
    "start_time": "2021-07-10T01:57:00.359Z"
   },
   {
    "duration": 1483,
    "start_time": "2021-07-10T01:58:08.817Z"
   },
   {
    "duration": 376,
    "start_time": "2021-07-10T01:58:10.304Z"
   },
   {
    "duration": 24,
    "start_time": "2021-07-10T01:58:10.690Z"
   },
   {
    "duration": 200,
    "start_time": "2021-07-10T01:58:10.716Z"
   },
   {
    "duration": 10,
    "start_time": "2021-07-10T01:58:10.919Z"
   },
   {
    "duration": 356,
    "start_time": "2021-07-10T01:58:10.931Z"
   },
   {
    "duration": 23,
    "start_time": "2021-07-10T01:58:11.291Z"
   },
   {
    "duration": 130,
    "start_time": "2021-07-10T01:58:11.317Z"
   },
   {
    "duration": 15,
    "start_time": "2021-07-10T01:58:11.449Z"
   },
   {
    "duration": 191,
    "start_time": "2021-07-10T01:58:11.467Z"
   },
   {
    "duration": 496,
    "start_time": "2021-07-10T01:58:11.660Z"
   },
   {
    "duration": 36,
    "start_time": "2021-07-10T01:58:12.158Z"
   },
   {
    "duration": 3,
    "start_time": "2021-07-10T01:58:12.197Z"
   },
   {
    "duration": 17,
    "start_time": "2021-07-10T01:58:12.203Z"
   },
   {
    "duration": 10,
    "start_time": "2021-07-10T01:58:12.223Z"
   },
   {
    "duration": 13,
    "start_time": "2021-07-10T01:58:12.236Z"
   },
   {
    "duration": 36,
    "start_time": "2021-07-10T01:58:12.252Z"
   },
   {
    "duration": 9,
    "start_time": "2021-07-10T01:58:12.291Z"
   },
   {
    "duration": 14,
    "start_time": "2021-07-10T01:58:12.302Z"
   },
   {
    "duration": 20,
    "start_time": "2021-07-10T01:58:12.319Z"
   },
   {
    "duration": 50,
    "start_time": "2021-07-10T01:58:12.342Z"
   },
   {
    "duration": 46,
    "start_time": "2021-07-10T01:58:12.398Z"
   },
   {
    "duration": 38,
    "start_time": "2021-07-10T01:58:12.448Z"
   },
   {
    "duration": 14,
    "start_time": "2021-07-10T01:58:12.488Z"
   },
   {
    "duration": 9,
    "start_time": "2021-07-10T01:58:12.504Z"
   },
   {
    "duration": 20,
    "start_time": "2021-07-10T01:58:12.515Z"
   },
   {
    "duration": 49,
    "start_time": "2021-07-10T01:58:12.538Z"
   },
   {
    "duration": 24,
    "start_time": "2021-07-10T01:58:12.590Z"
   },
   {
    "duration": 22,
    "start_time": "2021-07-10T01:58:12.616Z"
   },
   {
    "duration": 48,
    "start_time": "2021-07-10T01:58:12.640Z"
   },
   {
    "duration": 23,
    "start_time": "2021-07-10T01:58:12.691Z"
   },
   {
    "duration": 432,
    "start_time": "2021-07-10T01:58:12.717Z"
   },
   {
    "duration": 394,
    "start_time": "2021-07-10T01:58:13.151Z"
   },
   {
    "duration": 370,
    "start_time": "2021-07-10T01:58:13.548Z"
   },
   {
    "duration": 411,
    "start_time": "2021-07-10T01:58:13.921Z"
   },
   {
    "duration": 395,
    "start_time": "2021-07-10T01:58:14.336Z"
   },
   {
    "duration": 14,
    "start_time": "2021-07-10T01:58:14.735Z"
   },
   {
    "duration": 40,
    "start_time": "2021-07-10T01:58:14.752Z"
   },
   {
    "duration": 27,
    "start_time": "2021-07-10T01:58:14.795Z"
   },
   {
    "duration": 19,
    "start_time": "2021-07-10T01:58:14.825Z"
   },
   {
    "duration": 919,
    "start_time": "2021-07-10T01:58:14.846Z"
   },
   {
    "duration": 935,
    "start_time": "2021-07-10T01:58:15.768Z"
   },
   {
    "duration": 9,
    "start_time": "2021-07-10T01:58:16.706Z"
   },
   {
    "duration": 11,
    "start_time": "2021-07-10T01:58:16.718Z"
   },
   {
    "duration": 32,
    "start_time": "2021-07-10T01:58:16.732Z"
   },
   {
    "duration": 46,
    "start_time": "2021-07-10T01:58:16.767Z"
   },
   {
    "duration": 1254,
    "start_time": "2021-07-10T01:58:16.816Z"
   },
   {
    "duration": 15,
    "start_time": "2021-07-10T01:58:18.072Z"
   },
   {
    "duration": 8,
    "start_time": "2021-07-10T01:58:18.090Z"
   },
   {
    "duration": 11,
    "start_time": "2021-07-10T01:58:18.101Z"
   },
   {
    "duration": 26,
    "start_time": "2021-07-10T01:58:18.114Z"
   },
   {
    "duration": 47,
    "start_time": "2021-07-10T01:58:18.143Z"
   },
   {
    "duration": 7,
    "start_time": "2021-07-10T01:58:18.193Z"
   },
   {
    "duration": 35,
    "start_time": "2021-07-10T01:58:18.203Z"
   },
   {
    "duration": 11,
    "start_time": "2021-07-10T01:58:18.240Z"
   },
   {
    "duration": 7,
    "start_time": "2021-07-10T01:58:18.286Z"
   },
   {
    "duration": 36,
    "start_time": "2021-07-10T01:58:18.296Z"
   },
   {
    "duration": 19,
    "start_time": "2021-07-10T01:58:18.335Z"
   },
   {
    "duration": 30,
    "start_time": "2021-07-10T01:58:18.356Z"
   },
   {
    "duration": 6,
    "start_time": "2021-07-10T01:58:18.389Z"
   },
   {
    "duration": 8,
    "start_time": "2021-07-10T01:58:18.397Z"
   },
   {
    "duration": 18,
    "start_time": "2021-07-10T01:58:18.407Z"
   },
   {
    "duration": 6,
    "start_time": "2021-07-10T01:58:18.428Z"
   },
   {
    "duration": 7,
    "start_time": "2021-07-10T01:58:18.437Z"
   },
   {
    "duration": 1047,
    "start_time": "2021-07-10T09:19:20.951Z"
   },
   {
    "duration": 265,
    "start_time": "2021-07-10T09:19:21.999Z"
   },
   {
    "duration": 14,
    "start_time": "2021-07-10T09:19:22.266Z"
   },
   {
    "duration": 131,
    "start_time": "2021-07-10T09:19:22.281Z"
   },
   {
    "duration": 5,
    "start_time": "2021-07-10T09:19:22.413Z"
   },
   {
    "duration": 245,
    "start_time": "2021-07-10T09:19:22.420Z"
   },
   {
    "duration": 13,
    "start_time": "2021-07-10T09:19:22.666Z"
   },
   {
    "duration": 86,
    "start_time": "2021-07-10T09:19:22.681Z"
   },
   {
    "duration": 8,
    "start_time": "2021-07-10T09:19:22.769Z"
   },
   {
    "duration": 102,
    "start_time": "2021-07-10T09:19:22.778Z"
   },
   {
    "duration": 333,
    "start_time": "2021-07-10T09:19:22.882Z"
   },
   {
    "duration": 13,
    "start_time": "2021-07-10T09:19:23.217Z"
   },
   {
    "duration": 2,
    "start_time": "2021-07-10T09:19:23.231Z"
   },
   {
    "duration": 10,
    "start_time": "2021-07-10T09:19:23.235Z"
   },
   {
    "duration": 6,
    "start_time": "2021-07-10T09:19:23.246Z"
   },
   {
    "duration": 6,
    "start_time": "2021-07-10T09:19:23.254Z"
   },
   {
    "duration": 4,
    "start_time": "2021-07-10T09:19:23.261Z"
   },
   {
    "duration": 5,
    "start_time": "2021-07-10T09:19:23.291Z"
   },
   {
    "duration": 9,
    "start_time": "2021-07-10T09:19:23.297Z"
   },
   {
    "duration": 14,
    "start_time": "2021-07-10T09:19:23.307Z"
   },
   {
    "duration": 4,
    "start_time": "2021-07-10T09:19:23.323Z"
   },
   {
    "duration": 34,
    "start_time": "2021-07-10T09:19:23.329Z"
   },
   {
    "duration": 7,
    "start_time": "2021-07-10T09:19:23.393Z"
   },
   {
    "duration": 9,
    "start_time": "2021-07-10T09:19:23.402Z"
   },
   {
    "duration": 5,
    "start_time": "2021-07-10T09:19:23.412Z"
   },
   {
    "duration": 14,
    "start_time": "2021-07-10T09:19:23.418Z"
   },
   {
    "duration": 5,
    "start_time": "2021-07-10T09:19:23.434Z"
   },
   {
    "duration": 4,
    "start_time": "2021-07-10T09:19:23.441Z"
   },
   {
    "duration": 18,
    "start_time": "2021-07-10T09:19:23.446Z"
   },
   {
    "duration": 32,
    "start_time": "2021-07-10T09:19:23.465Z"
   },
   {
    "duration": 2,
    "start_time": "2021-07-10T09:19:23.498Z"
   },
   {
    "duration": 241,
    "start_time": "2021-07-10T09:19:23.502Z"
   },
   {
    "duration": 220,
    "start_time": "2021-07-10T09:19:23.744Z"
   },
   {
    "duration": 202,
    "start_time": "2021-07-10T09:19:23.966Z"
   },
   {
    "duration": 215,
    "start_time": "2021-07-10T09:19:24.169Z"
   },
   {
    "duration": 220,
    "start_time": "2021-07-10T09:19:24.386Z"
   },
   {
    "duration": 8,
    "start_time": "2021-07-10T09:19:24.607Z"
   },
   {
    "duration": 8,
    "start_time": "2021-07-10T09:19:24.616Z"
   },
   {
    "duration": 13,
    "start_time": "2021-07-10T09:19:24.626Z"
   },
   {
    "duration": 11,
    "start_time": "2021-07-10T09:19:24.640Z"
   },
   {
    "duration": 689,
    "start_time": "2021-07-10T09:19:24.652Z"
   },
   {
    "duration": 725,
    "start_time": "2021-07-10T09:19:25.343Z"
   },
   {
    "duration": 4,
    "start_time": "2021-07-10T09:19:26.069Z"
   },
   {
    "duration": 5,
    "start_time": "2021-07-10T09:19:26.075Z"
   },
   {
    "duration": 14,
    "start_time": "2021-07-10T09:19:26.082Z"
   },
   {
    "duration": 17,
    "start_time": "2021-07-10T09:19:26.098Z"
   },
   {
    "duration": 955,
    "start_time": "2021-07-10T09:19:26.117Z"
   },
   {
    "duration": 17,
    "start_time": "2021-07-10T09:19:27.074Z"
   },
   {
    "duration": 5,
    "start_time": "2021-07-10T09:19:27.093Z"
   },
   {
    "duration": 20,
    "start_time": "2021-07-10T09:19:27.099Z"
   },
   {
    "duration": 26,
    "start_time": "2021-07-10T09:19:27.120Z"
   },
   {
    "duration": 22,
    "start_time": "2021-07-10T09:19:27.147Z"
   },
   {
    "duration": 4,
    "start_time": "2021-07-10T09:19:27.170Z"
   },
   {
    "duration": 24,
    "start_time": "2021-07-10T09:19:27.175Z"
   },
   {
    "duration": 9,
    "start_time": "2021-07-10T09:19:27.200Z"
   },
   {
    "duration": 4,
    "start_time": "2021-07-10T09:19:27.211Z"
   },
   {
    "duration": 37,
    "start_time": "2021-07-10T09:19:27.216Z"
   },
   {
    "duration": 13,
    "start_time": "2021-07-10T09:19:27.254Z"
   },
   {
    "duration": 3,
    "start_time": "2021-07-10T09:19:27.268Z"
   },
   {
    "duration": 17,
    "start_time": "2021-07-10T09:19:27.272Z"
   },
   {
    "duration": 17,
    "start_time": "2021-07-10T09:19:27.290Z"
   },
   {
    "duration": 16,
    "start_time": "2021-07-10T09:19:27.309Z"
   },
   {
    "duration": 12,
    "start_time": "2021-07-10T09:19:27.327Z"
   },
   {
    "duration": 15,
    "start_time": "2021-07-10T09:19:27.341Z"
   },
   {
    "duration": 3,
    "start_time": "2021-07-10T09:35:11.729Z"
   },
   {
    "duration": 310,
    "start_time": "2021-07-10T10:08:56.589Z"
   },
   {
    "duration": 3,
    "start_time": "2021-07-10T10:09:27.450Z"
   },
   {
    "duration": 226,
    "start_time": "2021-07-10T10:09:40.973Z"
   },
   {
    "duration": 3,
    "start_time": "2021-07-10T10:10:00.976Z"
   },
   {
    "duration": 17,
    "start_time": "2021-07-10T10:10:40.801Z"
   },
   {
    "duration": 24,
    "start_time": "2021-07-10T10:11:50.744Z"
   },
   {
    "duration": 18,
    "start_time": "2021-07-10T10:12:05.479Z"
   },
   {
    "duration": 24,
    "start_time": "2021-07-10T10:13:21.925Z"
   },
   {
    "duration": 18,
    "start_time": "2021-07-10T10:13:26.336Z"
   },
   {
    "duration": 26,
    "start_time": "2021-07-10T10:13:36.712Z"
   },
   {
    "duration": 232,
    "start_time": "2021-07-10T10:13:38.552Z"
   },
   {
    "duration": 25,
    "start_time": "2021-07-10T10:14:11.269Z"
   },
   {
    "duration": 227,
    "start_time": "2021-07-10T10:14:12.275Z"
   },
   {
    "duration": 5,
    "start_time": "2021-07-10T10:14:21.339Z"
   },
   {
    "duration": 227,
    "start_time": "2021-07-10T10:16:37.091Z"
   },
   {
    "duration": 228,
    "start_time": "2021-07-10T10:17:11.331Z"
   },
   {
    "duration": 1116,
    "start_time": "2021-07-10T10:17:23.599Z"
   },
   {
    "duration": 272,
    "start_time": "2021-07-10T10:17:24.716Z"
   },
   {
    "duration": 14,
    "start_time": "2021-07-10T10:17:24.990Z"
   },
   {
    "duration": 106,
    "start_time": "2021-07-10T10:17:25.006Z"
   },
   {
    "duration": 5,
    "start_time": "2021-07-10T10:17:25.114Z"
   },
   {
    "duration": 260,
    "start_time": "2021-07-10T10:17:25.120Z"
   },
   {
    "duration": 17,
    "start_time": "2021-07-10T10:17:25.381Z"
   },
   {
    "duration": 91,
    "start_time": "2021-07-10T10:17:25.401Z"
   },
   {
    "duration": 8,
    "start_time": "2021-07-10T10:17:25.494Z"
   },
   {
    "duration": 103,
    "start_time": "2021-07-10T10:17:25.503Z"
   },
   {
    "duration": 343,
    "start_time": "2021-07-10T10:17:25.608Z"
   },
   {
    "duration": 13,
    "start_time": "2021-07-10T10:17:25.952Z"
   },
   {
    "duration": 2,
    "start_time": "2021-07-10T10:17:25.967Z"
   },
   {
    "duration": 22,
    "start_time": "2021-07-10T10:17:25.970Z"
   },
   {
    "duration": 6,
    "start_time": "2021-07-10T10:17:25.993Z"
   },
   {
    "duration": 6,
    "start_time": "2021-07-10T10:17:26.001Z"
   },
   {
    "duration": 4,
    "start_time": "2021-07-10T10:17:26.008Z"
   },
   {
    "duration": 7,
    "start_time": "2021-07-10T10:17:26.013Z"
   },
   {
    "duration": 13,
    "start_time": "2021-07-10T10:17:26.021Z"
   },
   {
    "duration": 16,
    "start_time": "2021-07-10T10:17:26.036Z"
   },
   {
    "duration": 6,
    "start_time": "2021-07-10T10:17:26.053Z"
   },
   {
    "duration": 60,
    "start_time": "2021-07-10T10:17:26.060Z"
   },
   {
    "duration": 7,
    "start_time": "2021-07-10T10:17:26.123Z"
   },
   {
    "duration": 10,
    "start_time": "2021-07-10T10:17:26.132Z"
   },
   {
    "duration": 5,
    "start_time": "2021-07-10T10:17:26.144Z"
   },
   {
    "duration": 42,
    "start_time": "2021-07-10T10:17:26.150Z"
   },
   {
    "duration": 6,
    "start_time": "2021-07-10T10:17:26.194Z"
   },
   {
    "duration": 2,
    "start_time": "2021-07-10T10:17:26.201Z"
   },
   {
    "duration": 17,
    "start_time": "2021-07-10T10:17:26.204Z"
   },
   {
    "duration": 8,
    "start_time": "2021-07-10T10:17:26.222Z"
   },
   {
    "duration": 3,
    "start_time": "2021-07-10T10:17:26.231Z"
   },
   {
    "duration": 295,
    "start_time": "2021-07-10T10:17:26.235Z"
   },
   {
    "duration": 217,
    "start_time": "2021-07-10T10:17:26.531Z"
   },
   {
    "duration": 202,
    "start_time": "2021-07-10T10:17:26.750Z"
   },
   {
    "duration": 222,
    "start_time": "2021-07-10T10:17:26.954Z"
   },
   {
    "duration": 213,
    "start_time": "2021-07-10T10:17:27.178Z"
   },
   {
    "duration": 8,
    "start_time": "2021-07-10T10:17:27.392Z"
   },
   {
    "duration": 8,
    "start_time": "2021-07-10T10:17:27.402Z"
   },
   {
    "duration": 13,
    "start_time": "2021-07-10T10:17:27.411Z"
   },
   {
    "duration": 11,
    "start_time": "2021-07-10T10:17:27.426Z"
   },
   {
    "duration": 702,
    "start_time": "2021-07-10T10:17:27.438Z"
   },
   {
    "duration": 617,
    "start_time": "2021-07-10T10:17:28.141Z"
   },
   {
    "duration": 5,
    "start_time": "2021-07-10T10:17:28.760Z"
   },
   {
    "duration": 5,
    "start_time": "2021-07-10T10:17:28.767Z"
   },
   {
    "duration": 22,
    "start_time": "2021-07-10T10:17:28.774Z"
   },
   {
    "duration": 19,
    "start_time": "2021-07-10T10:17:28.797Z"
   },
   {
    "duration": 960,
    "start_time": "2021-07-10T10:17:28.818Z"
   },
   {
    "duration": 12,
    "start_time": "2021-07-10T10:17:29.779Z"
   },
   {
    "duration": 5,
    "start_time": "2021-07-10T10:17:29.792Z"
   },
   {
    "duration": 5,
    "start_time": "2021-07-10T10:17:29.798Z"
   },
   {
    "duration": 15,
    "start_time": "2021-07-10T10:17:29.804Z"
   },
   {
    "duration": 6,
    "start_time": "2021-07-10T10:17:29.821Z"
   },
   {
    "duration": 4,
    "start_time": "2021-07-10T10:17:29.828Z"
   },
   {
    "duration": 20,
    "start_time": "2021-07-10T10:17:29.834Z"
   },
   {
    "duration": 38,
    "start_time": "2021-07-10T10:17:29.856Z"
   },
   {
    "duration": 5,
    "start_time": "2021-07-10T10:17:29.895Z"
   },
   {
    "duration": 18,
    "start_time": "2021-07-10T10:17:29.901Z"
   },
   {
    "duration": 11,
    "start_time": "2021-07-10T10:17:29.920Z"
   },
   {
    "duration": 2,
    "start_time": "2021-07-10T10:17:29.932Z"
   },
   {
    "duration": 7,
    "start_time": "2021-07-10T10:17:29.936Z"
   },
   {
    "duration": 8,
    "start_time": "2021-07-10T10:17:29.944Z"
   },
   {
    "duration": 13,
    "start_time": "2021-07-10T10:17:29.954Z"
   },
   {
    "duration": 22,
    "start_time": "2021-07-10T10:17:29.969Z"
   },
   {
    "duration": 4,
    "start_time": "2021-07-10T10:17:29.992Z"
   },
   {
    "duration": 7,
    "start_time": "2021-07-10T10:17:29.997Z"
   },
   {
    "duration": 26,
    "start_time": "2021-07-10T10:17:30.005Z"
   },
   {
    "duration": 297,
    "start_time": "2021-07-10T10:17:30.033Z"
   },
   {
    "duration": 4,
    "start_time": "2021-07-10T10:17:30.335Z"
   },
   {
    "duration": 339,
    "start_time": "2021-07-10T10:17:45.645Z"
   },
   {
    "duration": 1741,
    "start_time": "2021-07-10T10:17:52.677Z"
   },
   {
    "duration": 274,
    "start_time": "2021-07-10T10:17:54.420Z"
   },
   {
    "duration": 14,
    "start_time": "2021-07-10T10:17:54.697Z"
   },
   {
    "duration": 126,
    "start_time": "2021-07-10T10:17:54.713Z"
   },
   {
    "duration": 7,
    "start_time": "2021-07-10T10:17:54.841Z"
   },
   {
    "duration": 259,
    "start_time": "2021-07-10T10:17:54.850Z"
   },
   {
    "duration": 13,
    "start_time": "2021-07-10T10:17:55.111Z"
   },
   {
    "duration": 87,
    "start_time": "2021-07-10T10:17:55.126Z"
   },
   {
    "duration": 9,
    "start_time": "2021-07-10T10:17:55.215Z"
   },
   {
    "duration": 102,
    "start_time": "2021-07-10T10:17:55.225Z"
   },
   {
    "duration": 352,
    "start_time": "2021-07-10T10:17:55.329Z"
   },
   {
    "duration": 20,
    "start_time": "2021-07-10T10:17:55.683Z"
   },
   {
    "duration": 3,
    "start_time": "2021-07-10T10:17:55.704Z"
   },
   {
    "duration": 12,
    "start_time": "2021-07-10T10:17:55.708Z"
   },
   {
    "duration": 7,
    "start_time": "2021-07-10T10:17:55.722Z"
   },
   {
    "duration": 7,
    "start_time": "2021-07-10T10:17:55.730Z"
   },
   {
    "duration": 4,
    "start_time": "2021-07-10T10:17:55.738Z"
   },
   {
    "duration": 7,
    "start_time": "2021-07-10T10:17:55.744Z"
   },
   {
    "duration": 14,
    "start_time": "2021-07-10T10:17:55.752Z"
   },
   {
    "duration": 17,
    "start_time": "2021-07-10T10:17:55.792Z"
   },
   {
    "duration": 6,
    "start_time": "2021-07-10T10:17:55.810Z"
   },
   {
    "duration": 42,
    "start_time": "2021-07-10T10:17:55.817Z"
   },
   {
    "duration": 7,
    "start_time": "2021-07-10T10:17:55.863Z"
   },
   {
    "duration": 10,
    "start_time": "2021-07-10T10:17:55.892Z"
   },
   {
    "duration": 6,
    "start_time": "2021-07-10T10:17:55.903Z"
   },
   {
    "duration": 13,
    "start_time": "2021-07-10T10:17:55.910Z"
   },
   {
    "duration": 6,
    "start_time": "2021-07-10T10:17:55.925Z"
   },
   {
    "duration": 4,
    "start_time": "2021-07-10T10:17:55.932Z"
   },
   {
    "duration": 20,
    "start_time": "2021-07-10T10:17:55.937Z"
   },
   {
    "duration": 34,
    "start_time": "2021-07-10T10:17:55.958Z"
   },
   {
    "duration": 2,
    "start_time": "2021-07-10T10:17:55.993Z"
   },
   {
    "duration": 238,
    "start_time": "2021-07-10T10:17:55.997Z"
   },
   {
    "duration": 232,
    "start_time": "2021-07-10T10:17:56.236Z"
   },
   {
    "duration": 207,
    "start_time": "2021-07-10T10:17:56.469Z"
   },
   {
    "duration": 219,
    "start_time": "2021-07-10T10:17:56.677Z"
   },
   {
    "duration": 214,
    "start_time": "2021-07-10T10:17:56.897Z"
   },
   {
    "duration": 7,
    "start_time": "2021-07-10T10:17:57.113Z"
   },
   {
    "duration": 9,
    "start_time": "2021-07-10T10:17:57.122Z"
   },
   {
    "duration": 14,
    "start_time": "2021-07-10T10:17:57.132Z"
   },
   {
    "duration": 12,
    "start_time": "2021-07-10T10:17:57.148Z"
   },
   {
    "duration": 671,
    "start_time": "2021-07-10T10:17:57.161Z"
   },
   {
    "duration": 525,
    "start_time": "2021-07-10T10:17:57.834Z"
   },
   {
    "duration": 5,
    "start_time": "2021-07-10T10:17:58.360Z"
   },
   {
    "duration": 7,
    "start_time": "2021-07-10T10:17:58.366Z"
   },
   {
    "duration": 16,
    "start_time": "2021-07-10T10:17:58.375Z"
   },
   {
    "duration": 18,
    "start_time": "2021-07-10T10:17:58.392Z"
   },
   {
    "duration": 960,
    "start_time": "2021-07-10T10:17:58.412Z"
   },
   {
    "duration": 6,
    "start_time": "2021-07-10T10:17:59.373Z"
   },
   {
    "duration": 14,
    "start_time": "2021-07-10T10:17:59.381Z"
   },
   {
    "duration": 4,
    "start_time": "2021-07-10T10:17:59.397Z"
   },
   {
    "duration": 14,
    "start_time": "2021-07-10T10:17:59.403Z"
   },
   {
    "duration": 6,
    "start_time": "2021-07-10T10:17:59.418Z"
   },
   {
    "duration": 7,
    "start_time": "2021-07-10T10:17:59.426Z"
   },
   {
    "duration": 23,
    "start_time": "2021-07-10T10:17:59.434Z"
   },
   {
    "duration": 34,
    "start_time": "2021-07-10T10:17:59.458Z"
   },
   {
    "duration": 5,
    "start_time": "2021-07-10T10:17:59.493Z"
   },
   {
    "duration": 29,
    "start_time": "2021-07-10T10:17:59.499Z"
   },
   {
    "duration": 9,
    "start_time": "2021-07-10T10:17:59.530Z"
   },
   {
    "duration": 9,
    "start_time": "2021-07-10T10:17:59.541Z"
   },
   {
    "duration": 9,
    "start_time": "2021-07-10T10:17:59.551Z"
   },
   {
    "duration": 15,
    "start_time": "2021-07-10T10:17:59.561Z"
   },
   {
    "duration": 23,
    "start_time": "2021-07-10T10:17:59.577Z"
   },
   {
    "duration": 10,
    "start_time": "2021-07-10T10:17:59.601Z"
   },
   {
    "duration": 13,
    "start_time": "2021-07-10T10:17:59.612Z"
   },
   {
    "duration": 17,
    "start_time": "2021-07-10T10:17:59.626Z"
   },
   {
    "duration": 35,
    "start_time": "2021-07-10T10:17:59.644Z"
   },
   {
    "duration": 54,
    "start_time": "2021-07-10T10:17:59.681Z"
   },
   {
    "duration": 22,
    "start_time": "2021-07-10T10:17:59.740Z"
   },
   {
    "duration": 382,
    "start_time": "2021-07-10T10:20:11.307Z"
   },
   {
    "duration": 1078,
    "start_time": "2021-07-10T10:20:41.522Z"
   },
   {
    "duration": 270,
    "start_time": "2021-07-10T10:20:42.602Z"
   },
   {
    "duration": 17,
    "start_time": "2021-07-10T10:20:42.874Z"
   },
   {
    "duration": 99,
    "start_time": "2021-07-10T10:20:42.893Z"
   },
   {
    "duration": 5,
    "start_time": "2021-07-10T10:20:42.993Z"
   },
   {
    "duration": 251,
    "start_time": "2021-07-10T10:20:43.000Z"
   },
   {
    "duration": 13,
    "start_time": "2021-07-10T10:20:43.252Z"
   },
   {
    "duration": 91,
    "start_time": "2021-07-10T10:20:43.267Z"
   },
   {
    "duration": 8,
    "start_time": "2021-07-10T10:20:43.359Z"
   },
   {
    "duration": 104,
    "start_time": "2021-07-10T10:20:43.369Z"
   },
   {
    "duration": 351,
    "start_time": "2021-07-10T10:20:43.474Z"
   },
   {
    "duration": 14,
    "start_time": "2021-07-10T10:20:43.826Z"
   },
   {
    "duration": 2,
    "start_time": "2021-07-10T10:20:43.841Z"
   },
   {
    "duration": 11,
    "start_time": "2021-07-10T10:20:43.845Z"
   },
   {
    "duration": 7,
    "start_time": "2021-07-10T10:20:43.857Z"
   },
   {
    "duration": 27,
    "start_time": "2021-07-10T10:20:43.865Z"
   },
   {
    "duration": 4,
    "start_time": "2021-07-10T10:20:43.893Z"
   },
   {
    "duration": 5,
    "start_time": "2021-07-10T10:20:43.898Z"
   },
   {
    "duration": 10,
    "start_time": "2021-07-10T10:20:43.905Z"
   },
   {
    "duration": 18,
    "start_time": "2021-07-10T10:20:43.916Z"
   },
   {
    "duration": 5,
    "start_time": "2021-07-10T10:20:43.936Z"
   },
   {
    "duration": 59,
    "start_time": "2021-07-10T10:20:43.942Z"
   },
   {
    "duration": 7,
    "start_time": "2021-07-10T10:20:44.005Z"
   },
   {
    "duration": 9,
    "start_time": "2021-07-10T10:20:44.014Z"
   },
   {
    "duration": 5,
    "start_time": "2021-07-10T10:20:44.024Z"
   },
   {
    "duration": 13,
    "start_time": "2021-07-10T10:20:44.031Z"
   },
   {
    "duration": 5,
    "start_time": "2021-07-10T10:20:44.046Z"
   },
   {
    "duration": 5,
    "start_time": "2021-07-10T10:20:44.053Z"
   },
   {
    "duration": 41,
    "start_time": "2021-07-10T10:20:44.059Z"
   },
   {
    "duration": 8,
    "start_time": "2021-07-10T10:20:44.101Z"
   },
   {
    "duration": 2,
    "start_time": "2021-07-10T10:20:44.111Z"
   },
   {
    "duration": 245,
    "start_time": "2021-07-10T10:20:44.114Z"
   },
   {
    "duration": 220,
    "start_time": "2021-07-10T10:20:44.361Z"
   },
   {
    "duration": 209,
    "start_time": "2021-07-10T10:20:44.582Z"
   },
   {
    "duration": 218,
    "start_time": "2021-07-10T10:20:44.793Z"
   },
   {
    "duration": 212,
    "start_time": "2021-07-10T10:20:45.012Z"
   },
   {
    "duration": 7,
    "start_time": "2021-07-10T10:20:45.226Z"
   },
   {
    "duration": 9,
    "start_time": "2021-07-10T10:20:45.235Z"
   },
   {
    "duration": 14,
    "start_time": "2021-07-10T10:20:45.245Z"
   },
   {
    "duration": 31,
    "start_time": "2021-07-10T10:20:45.260Z"
   },
   {
    "duration": 640,
    "start_time": "2021-07-10T10:20:45.293Z"
   },
   {
    "duration": 531,
    "start_time": "2021-07-10T10:20:45.934Z"
   },
   {
    "duration": 5,
    "start_time": "2021-07-10T10:20:46.466Z"
   },
   {
    "duration": 6,
    "start_time": "2021-07-10T10:20:46.472Z"
   },
   {
    "duration": 15,
    "start_time": "2021-07-10T10:20:46.479Z"
   },
   {
    "duration": 19,
    "start_time": "2021-07-10T10:20:46.495Z"
   },
   {
    "duration": 1060,
    "start_time": "2021-07-10T10:20:46.515Z"
   },
   {
    "duration": 6,
    "start_time": "2021-07-10T10:20:47.577Z"
   },
   {
    "duration": 8,
    "start_time": "2021-07-10T10:20:47.585Z"
   },
   {
    "duration": 5,
    "start_time": "2021-07-10T10:20:47.595Z"
   },
   {
    "duration": 14,
    "start_time": "2021-07-10T10:20:47.601Z"
   },
   {
    "duration": 8,
    "start_time": "2021-07-10T10:20:47.617Z"
   },
   {
    "duration": 5,
    "start_time": "2021-07-10T10:20:47.626Z"
   },
   {
    "duration": 18,
    "start_time": "2021-07-10T10:20:47.632Z"
   },
   {
    "duration": 9,
    "start_time": "2021-07-10T10:20:47.651Z"
   },
   {
    "duration": 30,
    "start_time": "2021-07-10T10:20:47.662Z"
   },
   {
    "duration": 17,
    "start_time": "2021-07-10T10:20:47.694Z"
   },
   {
    "duration": 10,
    "start_time": "2021-07-10T10:20:47.713Z"
   },
   {
    "duration": 3,
    "start_time": "2021-07-10T10:20:47.724Z"
   },
   {
    "duration": 8,
    "start_time": "2021-07-10T10:20:47.728Z"
   },
   {
    "duration": 8,
    "start_time": "2021-07-10T10:20:47.737Z"
   },
   {
    "duration": 13,
    "start_time": "2021-07-10T10:20:47.746Z"
   },
   {
    "duration": 8,
    "start_time": "2021-07-10T10:20:47.760Z"
   },
   {
    "duration": 22,
    "start_time": "2021-07-10T10:20:47.770Z"
   },
   {
    "duration": 6,
    "start_time": "2021-07-10T10:20:47.794Z"
   },
   {
    "duration": 23,
    "start_time": "2021-07-10T10:20:47.802Z"
   },
   {
    "duration": 377,
    "start_time": "2021-07-10T10:20:47.826Z"
   },
   {
    "duration": -1380,
    "start_time": "2021-07-10T10:20:49.585Z"
   },
   {
    "duration": 266,
    "start_time": "2021-07-10T10:29:53.161Z"
   },
   {
    "duration": 1110,
    "start_time": "2021-07-10T10:30:08.010Z"
   },
   {
    "duration": 287,
    "start_time": "2021-07-10T10:30:09.121Z"
   },
   {
    "duration": 14,
    "start_time": "2021-07-10T10:30:09.412Z"
   },
   {
    "duration": 125,
    "start_time": "2021-07-10T10:30:09.428Z"
   },
   {
    "duration": 7,
    "start_time": "2021-07-10T10:30:09.555Z"
   },
   {
    "duration": 273,
    "start_time": "2021-07-10T10:30:09.564Z"
   },
   {
    "duration": 14,
    "start_time": "2021-07-10T10:30:09.839Z"
   },
   {
    "duration": 93,
    "start_time": "2021-07-10T10:30:09.855Z"
   },
   {
    "duration": 8,
    "start_time": "2021-07-10T10:30:09.950Z"
   },
   {
    "duration": 115,
    "start_time": "2021-07-10T10:30:09.960Z"
   },
   {
    "duration": 368,
    "start_time": "2021-07-10T10:30:10.077Z"
   },
   {
    "duration": 13,
    "start_time": "2021-07-10T10:30:10.447Z"
   },
   {
    "duration": 3,
    "start_time": "2021-07-10T10:30:10.461Z"
   },
   {
    "duration": 33,
    "start_time": "2021-07-10T10:30:10.465Z"
   },
   {
    "duration": 7,
    "start_time": "2021-07-10T10:30:10.500Z"
   },
   {
    "duration": 6,
    "start_time": "2021-07-10T10:30:10.508Z"
   },
   {
    "duration": 3,
    "start_time": "2021-07-10T10:30:10.516Z"
   },
   {
    "duration": 5,
    "start_time": "2021-07-10T10:30:10.521Z"
   },
   {
    "duration": 10,
    "start_time": "2021-07-10T10:30:10.527Z"
   },
   {
    "duration": 23,
    "start_time": "2021-07-10T10:30:10.539Z"
   },
   {
    "duration": 4,
    "start_time": "2021-07-10T10:30:10.564Z"
   },
   {
    "duration": 39,
    "start_time": "2021-07-10T10:30:10.572Z"
   },
   {
    "duration": 8,
    "start_time": "2021-07-10T10:30:10.613Z"
   },
   {
    "duration": 11,
    "start_time": "2021-07-10T10:30:10.622Z"
   },
   {
    "duration": 8,
    "start_time": "2021-07-10T10:30:10.634Z"
   },
   {
    "duration": 15,
    "start_time": "2021-07-10T10:30:10.644Z"
   },
   {
    "duration": 7,
    "start_time": "2021-07-10T10:30:10.660Z"
   },
   {
    "duration": 6,
    "start_time": "2021-07-10T10:30:10.668Z"
   },
   {
    "duration": 21,
    "start_time": "2021-07-10T10:30:10.675Z"
   },
   {
    "duration": 8,
    "start_time": "2021-07-10T10:30:10.697Z"
   },
   {
    "duration": 3,
    "start_time": "2021-07-10T10:30:10.706Z"
   },
   {
    "duration": 242,
    "start_time": "2021-07-10T10:30:10.710Z"
   },
   {
    "duration": 228,
    "start_time": "2021-07-10T10:30:10.954Z"
   },
   {
    "duration": 310,
    "start_time": "2021-07-10T10:30:11.184Z"
   },
   {
    "duration": 312,
    "start_time": "2021-07-10T10:30:11.495Z"
   },
   {
    "duration": 309,
    "start_time": "2021-07-10T10:30:11.808Z"
   },
   {
    "duration": 8,
    "start_time": "2021-07-10T10:30:12.119Z"
   },
   {
    "duration": 11,
    "start_time": "2021-07-10T10:30:12.128Z"
   },
   {
    "duration": 15,
    "start_time": "2021-07-10T10:30:12.140Z"
   },
   {
    "duration": 12,
    "start_time": "2021-07-10T10:30:12.156Z"
   },
   {
    "duration": 754,
    "start_time": "2021-07-10T10:30:12.192Z"
   },
   {
    "duration": 721,
    "start_time": "2021-07-10T10:30:12.947Z"
   },
   {
    "duration": 5,
    "start_time": "2021-07-10T10:30:13.670Z"
   },
   {
    "duration": 15,
    "start_time": "2021-07-10T10:30:13.676Z"
   },
   {
    "duration": 14,
    "start_time": "2021-07-10T10:30:13.693Z"
   },
   {
    "duration": 18,
    "start_time": "2021-07-10T10:30:13.709Z"
   },
   {
    "duration": 1075,
    "start_time": "2021-07-10T10:30:13.729Z"
   },
   {
    "duration": 8,
    "start_time": "2021-07-10T10:30:14.806Z"
   },
   {
    "duration": 10,
    "start_time": "2021-07-10T10:30:14.816Z"
   },
   {
    "duration": 7,
    "start_time": "2021-07-10T10:30:14.828Z"
   },
   {
    "duration": 15,
    "start_time": "2021-07-10T10:30:14.837Z"
   },
   {
    "duration": 9,
    "start_time": "2021-07-10T10:30:14.854Z"
   },
   {
    "duration": 31,
    "start_time": "2021-07-10T10:30:14.865Z"
   },
   {
    "duration": 26,
    "start_time": "2021-07-10T10:30:14.898Z"
   },
   {
    "duration": 8,
    "start_time": "2021-07-10T10:30:14.926Z"
   },
   {
    "duration": 12,
    "start_time": "2021-07-10T10:30:14.936Z"
   },
   {
    "duration": 21,
    "start_time": "2021-07-10T10:30:14.949Z"
   },
   {
    "duration": 23,
    "start_time": "2021-07-10T10:30:14.972Z"
   },
   {
    "duration": 2,
    "start_time": "2021-07-10T10:30:14.997Z"
   },
   {
    "duration": 8,
    "start_time": "2021-07-10T10:30:15.001Z"
   },
   {
    "duration": 12,
    "start_time": "2021-07-10T10:30:15.011Z"
   },
   {
    "duration": 15,
    "start_time": "2021-07-10T10:30:15.024Z"
   },
   {
    "duration": 370,
    "start_time": "2021-07-10T10:30:15.041Z"
   },
   {
    "duration": -1364,
    "start_time": "2021-07-10T10:30:16.776Z"
   },
   {
    "duration": -1375,
    "start_time": "2021-07-10T10:30:16.788Z"
   },
   {
    "duration": -1383,
    "start_time": "2021-07-10T10:30:16.797Z"
   },
   {
    "duration": -1401,
    "start_time": "2021-07-10T10:30:16.816Z"
   },
   {
    "duration": -1411,
    "start_time": "2021-07-10T10:30:16.827Z"
   },
   {
    "duration": 241,
    "start_time": "2021-07-10T10:31:17.933Z"
   },
   {
    "duration": 5576,
    "start_time": "2021-07-10T10:35:19.855Z"
   },
   {
    "duration": 1083,
    "start_time": "2021-07-10T10:35:49.411Z"
   },
   {
    "duration": 276,
    "start_time": "2021-07-10T10:35:50.496Z"
   },
   {
    "duration": 13,
    "start_time": "2021-07-10T10:35:50.774Z"
   },
   {
    "duration": 105,
    "start_time": "2021-07-10T10:35:50.791Z"
   },
   {
    "duration": 6,
    "start_time": "2021-07-10T10:35:50.898Z"
   },
   {
    "duration": 256,
    "start_time": "2021-07-10T10:35:50.905Z"
   },
   {
    "duration": 13,
    "start_time": "2021-07-10T10:35:51.163Z"
   },
   {
    "duration": 92,
    "start_time": "2021-07-10T10:35:51.178Z"
   },
   {
    "duration": 19,
    "start_time": "2021-07-10T10:35:51.272Z"
   },
   {
    "duration": 99,
    "start_time": "2021-07-10T10:35:51.293Z"
   },
   {
    "duration": 353,
    "start_time": "2021-07-10T10:35:51.393Z"
   },
   {
    "duration": 15,
    "start_time": "2021-07-10T10:35:51.748Z"
   },
   {
    "duration": 3,
    "start_time": "2021-07-10T10:35:51.764Z"
   },
   {
    "duration": 23,
    "start_time": "2021-07-10T10:35:51.768Z"
   },
   {
    "duration": 8,
    "start_time": "2021-07-10T10:35:51.793Z"
   },
   {
    "duration": 8,
    "start_time": "2021-07-10T10:35:51.802Z"
   },
   {
    "duration": 4,
    "start_time": "2021-07-10T10:35:51.812Z"
   },
   {
    "duration": 9,
    "start_time": "2021-07-10T10:35:51.817Z"
   },
   {
    "duration": 16,
    "start_time": "2021-07-10T10:35:51.827Z"
   },
   {
    "duration": 19,
    "start_time": "2021-07-10T10:35:51.844Z"
   },
   {
    "duration": 27,
    "start_time": "2021-07-10T10:35:51.865Z"
   },
   {
    "duration": 37,
    "start_time": "2021-07-10T10:35:51.894Z"
   },
   {
    "duration": 8,
    "start_time": "2021-07-10T10:35:51.935Z"
   },
   {
    "duration": 10,
    "start_time": "2021-07-10T10:35:51.946Z"
   },
   {
    "duration": 35,
    "start_time": "2021-07-10T10:35:51.957Z"
   },
   {
    "duration": 15,
    "start_time": "2021-07-10T10:35:51.994Z"
   },
   {
    "duration": 6,
    "start_time": "2021-07-10T10:35:52.011Z"
   },
   {
    "duration": 3,
    "start_time": "2021-07-10T10:35:52.018Z"
   },
   {
    "duration": 22,
    "start_time": "2021-07-10T10:35:52.022Z"
   },
   {
    "duration": 8,
    "start_time": "2021-07-10T10:35:52.045Z"
   },
   {
    "duration": 1,
    "start_time": "2021-07-10T10:35:52.055Z"
   },
   {
    "duration": 354,
    "start_time": "2021-07-10T10:35:52.058Z"
   },
   {
    "duration": 214,
    "start_time": "2021-07-10T10:35:52.413Z"
   },
   {
    "duration": 213,
    "start_time": "2021-07-10T10:35:52.628Z"
   },
   {
    "duration": 231,
    "start_time": "2021-07-10T10:35:52.842Z"
   },
   {
    "duration": 222,
    "start_time": "2021-07-10T10:35:53.075Z"
   },
   {
    "duration": 9,
    "start_time": "2021-07-10T10:35:53.298Z"
   },
   {
    "duration": 9,
    "start_time": "2021-07-10T10:35:53.308Z"
   },
   {
    "duration": 15,
    "start_time": "2021-07-10T10:35:53.319Z"
   },
   {
    "duration": 12,
    "start_time": "2021-07-10T10:35:53.335Z"
   },
   {
    "duration": 709,
    "start_time": "2021-07-10T10:35:53.349Z"
   },
   {
    "duration": 626,
    "start_time": "2021-07-10T10:35:54.060Z"
   },
   {
    "duration": 5,
    "start_time": "2021-07-10T10:35:54.688Z"
   },
   {
    "duration": 6,
    "start_time": "2021-07-10T10:35:54.694Z"
   },
   {
    "duration": 10,
    "start_time": "2021-07-10T10:35:54.701Z"
   },
   {
    "duration": 18,
    "start_time": "2021-07-10T10:35:54.712Z"
   },
   {
    "duration": 1043,
    "start_time": "2021-07-10T10:35:54.732Z"
   },
   {
    "duration": 6,
    "start_time": "2021-07-10T10:35:55.776Z"
   },
   {
    "duration": 9,
    "start_time": "2021-07-10T10:35:55.783Z"
   },
   {
    "duration": 6,
    "start_time": "2021-07-10T10:35:55.794Z"
   },
   {
    "duration": 15,
    "start_time": "2021-07-10T10:35:55.801Z"
   },
   {
    "duration": 7,
    "start_time": "2021-07-10T10:35:55.817Z"
   },
   {
    "duration": 4,
    "start_time": "2021-07-10T10:35:55.825Z"
   },
   {
    "duration": 20,
    "start_time": "2021-07-10T10:35:55.831Z"
   },
   {
    "duration": 39,
    "start_time": "2021-07-10T10:35:55.852Z"
   },
   {
    "duration": 4,
    "start_time": "2021-07-10T10:35:55.893Z"
   },
   {
    "duration": 21,
    "start_time": "2021-07-10T10:35:55.899Z"
   },
   {
    "duration": 11,
    "start_time": "2021-07-10T10:35:55.921Z"
   },
   {
    "duration": 3,
    "start_time": "2021-07-10T10:35:55.934Z"
   },
   {
    "duration": 7,
    "start_time": "2021-07-10T10:35:55.939Z"
   },
   {
    "duration": 8,
    "start_time": "2021-07-10T10:35:55.947Z"
   },
   {
    "duration": 376,
    "start_time": "2021-07-10T10:35:55.956Z"
   },
   {
    "duration": -1370,
    "start_time": "2021-07-10T10:35:57.704Z"
   },
   {
    "duration": -1377,
    "start_time": "2021-07-10T10:35:57.712Z"
   },
   {
    "duration": -1382,
    "start_time": "2021-07-10T10:35:57.718Z"
   },
   {
    "duration": -1389,
    "start_time": "2021-07-10T10:35:57.726Z"
   },
   {
    "duration": -1395,
    "start_time": "2021-07-10T10:35:57.733Z"
   },
   {
    "duration": -1402,
    "start_time": "2021-07-10T10:35:57.740Z"
   },
   {
    "duration": 9,
    "start_time": "2021-07-10T10:39:44.732Z"
   },
   {
    "duration": 14,
    "start_time": "2021-07-10T10:40:13.947Z"
   },
   {
    "duration": 10,
    "start_time": "2021-07-10T10:42:23.693Z"
   },
   {
    "duration": 5751,
    "start_time": "2021-07-10T10:48:10.410Z"
   },
   {
    "duration": 1122,
    "start_time": "2021-07-10T10:48:26.977Z"
   },
   {
    "duration": 273,
    "start_time": "2021-07-10T10:48:28.101Z"
   },
   {
    "duration": 18,
    "start_time": "2021-07-10T10:48:28.376Z"
   },
   {
    "duration": 106,
    "start_time": "2021-07-10T10:48:28.395Z"
   },
   {
    "duration": 6,
    "start_time": "2021-07-10T10:48:28.502Z"
   },
   {
    "duration": 252,
    "start_time": "2021-07-10T10:48:28.509Z"
   },
   {
    "duration": 13,
    "start_time": "2021-07-10T10:48:28.763Z"
   },
   {
    "duration": 93,
    "start_time": "2021-07-10T10:48:28.778Z"
   },
   {
    "duration": 9,
    "start_time": "2021-07-10T10:48:28.873Z"
   },
   {
    "duration": 100,
    "start_time": "2021-07-10T10:48:28.891Z"
   },
   {
    "duration": 339,
    "start_time": "2021-07-10T10:48:28.993Z"
   },
   {
    "duration": 13,
    "start_time": "2021-07-10T10:48:29.334Z"
   },
   {
    "duration": 2,
    "start_time": "2021-07-10T10:48:29.349Z"
   },
   {
    "duration": 11,
    "start_time": "2021-07-10T10:48:29.353Z"
   },
   {
    "duration": 7,
    "start_time": "2021-07-10T10:48:29.365Z"
   },
   {
    "duration": 22,
    "start_time": "2021-07-10T10:48:29.373Z"
   },
   {
    "duration": 4,
    "start_time": "2021-07-10T10:48:29.396Z"
   },
   {
    "duration": 6,
    "start_time": "2021-07-10T10:48:29.402Z"
   },
   {
    "duration": 13,
    "start_time": "2021-07-10T10:48:29.409Z"
   },
   {
    "duration": 15,
    "start_time": "2021-07-10T10:48:29.423Z"
   },
   {
    "duration": 6,
    "start_time": "2021-07-10T10:48:29.440Z"
   },
   {
    "duration": 71,
    "start_time": "2021-07-10T10:48:29.448Z"
   },
   {
    "duration": 7,
    "start_time": "2021-07-10T10:48:29.524Z"
   },
   {
    "duration": 10,
    "start_time": "2021-07-10T10:48:29.533Z"
   },
   {
    "duration": 6,
    "start_time": "2021-07-10T10:48:29.545Z"
   },
   {
    "duration": 12,
    "start_time": "2021-07-10T10:48:29.552Z"
   },
   {
    "duration": 7,
    "start_time": "2021-07-10T10:48:29.591Z"
   },
   {
    "duration": 2,
    "start_time": "2021-07-10T10:48:29.599Z"
   },
   {
    "duration": 17,
    "start_time": "2021-07-10T10:48:29.602Z"
   },
   {
    "duration": 9,
    "start_time": "2021-07-10T10:48:29.620Z"
   },
   {
    "duration": 14,
    "start_time": "2021-07-10T10:48:29.630Z"
   },
   {
    "duration": 237,
    "start_time": "2021-07-10T10:48:29.646Z"
   },
   {
    "duration": 221,
    "start_time": "2021-07-10T10:48:29.885Z"
   },
   {
    "duration": 205,
    "start_time": "2021-07-10T10:48:30.108Z"
   },
   {
    "duration": 233,
    "start_time": "2021-07-10T10:48:30.315Z"
   },
   {
    "duration": 222,
    "start_time": "2021-07-10T10:48:30.550Z"
   },
   {
    "duration": 9,
    "start_time": "2021-07-10T10:48:30.774Z"
   },
   {
    "duration": 7,
    "start_time": "2021-07-10T10:48:30.791Z"
   },
   {
    "duration": 18,
    "start_time": "2021-07-10T10:48:30.800Z"
   },
   {
    "duration": 17,
    "start_time": "2021-07-10T10:48:30.820Z"
   },
   {
    "duration": 594,
    "start_time": "2021-07-10T10:48:30.838Z"
   },
   {
    "duration": 533,
    "start_time": "2021-07-10T10:48:31.434Z"
   },
   {
    "duration": 4,
    "start_time": "2021-07-10T10:48:31.969Z"
   },
   {
    "duration": 8,
    "start_time": "2021-07-10T10:48:31.975Z"
   },
   {
    "duration": 14,
    "start_time": "2021-07-10T10:48:31.984Z"
   },
   {
    "duration": 17,
    "start_time": "2021-07-10T10:48:32.000Z"
   },
   {
    "duration": 954,
    "start_time": "2021-07-10T10:48:32.018Z"
   },
   {
    "duration": 5,
    "start_time": "2021-07-10T10:48:32.974Z"
   },
   {
    "duration": 11,
    "start_time": "2021-07-10T10:48:32.981Z"
   },
   {
    "duration": 7,
    "start_time": "2021-07-10T10:48:32.994Z"
   },
   {
    "duration": 14,
    "start_time": "2021-07-10T10:48:33.002Z"
   },
   {
    "duration": 6,
    "start_time": "2021-07-10T10:48:33.018Z"
   },
   {
    "duration": 4,
    "start_time": "2021-07-10T10:48:33.026Z"
   },
   {
    "duration": 21,
    "start_time": "2021-07-10T10:48:33.031Z"
   },
   {
    "duration": 9,
    "start_time": "2021-07-10T10:48:33.054Z"
   },
   {
    "duration": 28,
    "start_time": "2021-07-10T10:48:33.064Z"
   },
   {
    "duration": 19,
    "start_time": "2021-07-10T10:48:33.093Z"
   },
   {
    "duration": 12,
    "start_time": "2021-07-10T10:48:33.113Z"
   },
   {
    "duration": 3,
    "start_time": "2021-07-10T10:48:33.126Z"
   },
   {
    "duration": 9,
    "start_time": "2021-07-10T10:48:33.130Z"
   },
   {
    "duration": 8,
    "start_time": "2021-07-10T10:48:33.140Z"
   },
   {
    "duration": 14,
    "start_time": "2021-07-10T10:48:33.149Z"
   },
   {
    "duration": 6,
    "start_time": "2021-07-10T10:48:33.165Z"
   },
   {
    "duration": 19,
    "start_time": "2021-07-10T10:48:33.172Z"
   },
   {
    "duration": 2,
    "start_time": "2021-07-10T10:48:33.193Z"
   },
   {
    "duration": 22,
    "start_time": "2021-07-10T10:48:33.196Z"
   },
   {
    "duration": 31,
    "start_time": "2021-07-10T10:48:33.220Z"
   },
   {
    "duration": 21,
    "start_time": "2021-07-10T10:48:33.255Z"
   },
   {
    "duration": 17,
    "start_time": "2021-07-10T10:49:22.785Z"
   },
   {
    "duration": 17,
    "start_time": "2021-07-10T10:49:30.975Z"
   },
   {
    "duration": 19,
    "start_time": "2021-07-10T10:50:01.297Z"
   },
   {
    "duration": 22,
    "start_time": "2021-07-10T10:50:11.300Z"
   },
   {
    "duration": 18,
    "start_time": "2021-07-10T10:50:22.565Z"
   },
   {
    "duration": 1090,
    "start_time": "2021-07-10T11:18:16.306Z"
   },
   {
    "duration": 271,
    "start_time": "2021-07-10T11:18:17.397Z"
   },
   {
    "duration": 13,
    "start_time": "2021-07-10T11:18:17.670Z"
   },
   {
    "duration": 99,
    "start_time": "2021-07-10T11:18:17.685Z"
   },
   {
    "duration": 10,
    "start_time": "2021-07-10T11:18:17.785Z"
   },
   {
    "duration": 248,
    "start_time": "2021-07-10T11:18:17.796Z"
   },
   {
    "duration": 13,
    "start_time": "2021-07-10T11:18:18.046Z"
   },
   {
    "duration": 89,
    "start_time": "2021-07-10T11:18:18.061Z"
   },
   {
    "duration": 8,
    "start_time": "2021-07-10T11:18:18.152Z"
   },
   {
    "duration": 100,
    "start_time": "2021-07-10T11:18:18.162Z"
   },
   {
    "duration": 334,
    "start_time": "2021-07-10T11:18:18.263Z"
   },
   {
    "duration": 13,
    "start_time": "2021-07-10T11:18:18.599Z"
   },
   {
    "duration": 3,
    "start_time": "2021-07-10T11:18:18.613Z"
   },
   {
    "duration": 12,
    "start_time": "2021-07-10T11:18:18.617Z"
   },
   {
    "duration": 7,
    "start_time": "2021-07-10T11:18:18.630Z"
   },
   {
    "duration": 7,
    "start_time": "2021-07-10T11:18:18.638Z"
   },
   {
    "duration": 4,
    "start_time": "2021-07-10T11:18:18.646Z"
   },
   {
    "duration": 5,
    "start_time": "2021-07-10T11:18:18.652Z"
   },
   {
    "duration": 8,
    "start_time": "2021-07-10T11:18:18.691Z"
   },
   {
    "duration": 15,
    "start_time": "2021-07-10T11:18:18.700Z"
   },
   {
    "duration": 5,
    "start_time": "2021-07-10T11:18:18.717Z"
   },
   {
    "duration": 37,
    "start_time": "2021-07-10T11:18:18.723Z"
   },
   {
    "duration": 29,
    "start_time": "2021-07-10T11:18:18.763Z"
   },
   {
    "duration": 10,
    "start_time": "2021-07-10T11:18:18.794Z"
   },
   {
    "duration": 5,
    "start_time": "2021-07-10T11:18:18.805Z"
   },
   {
    "duration": 13,
    "start_time": "2021-07-10T11:18:18.812Z"
   },
   {
    "duration": 5,
    "start_time": "2021-07-10T11:18:18.827Z"
   },
   {
    "duration": 3,
    "start_time": "2021-07-10T11:18:18.834Z"
   },
   {
    "duration": 18,
    "start_time": "2021-07-10T11:18:18.839Z"
   },
   {
    "duration": 32,
    "start_time": "2021-07-10T11:18:18.859Z"
   },
   {
    "duration": 2,
    "start_time": "2021-07-10T11:18:18.892Z"
   },
   {
    "duration": 232,
    "start_time": "2021-07-10T11:18:18.896Z"
   },
   {
    "duration": 229,
    "start_time": "2021-07-10T11:18:19.130Z"
   },
   {
    "duration": 205,
    "start_time": "2021-07-10T11:18:19.361Z"
   },
   {
    "duration": 220,
    "start_time": "2021-07-10T11:18:19.567Z"
   },
   {
    "duration": 211,
    "start_time": "2021-07-10T11:18:19.789Z"
   },
   {
    "duration": 9,
    "start_time": "2021-07-10T11:18:20.002Z"
   },
   {
    "duration": 11,
    "start_time": "2021-07-10T11:18:20.012Z"
   },
   {
    "duration": 16,
    "start_time": "2021-07-10T11:18:20.025Z"
   },
   {
    "duration": 12,
    "start_time": "2021-07-10T11:18:20.042Z"
   },
   {
    "duration": 783,
    "start_time": "2021-07-10T11:18:20.055Z"
   },
   {
    "duration": 633,
    "start_time": "2021-07-10T11:18:20.840Z"
   },
   {
    "duration": 4,
    "start_time": "2021-07-10T11:18:21.475Z"
   },
   {
    "duration": 12,
    "start_time": "2021-07-10T11:18:21.481Z"
   },
   {
    "duration": 10,
    "start_time": "2021-07-10T11:18:21.494Z"
   },
   {
    "duration": 20,
    "start_time": "2021-07-10T11:18:21.505Z"
   },
   {
    "duration": 946,
    "start_time": "2021-07-10T11:18:21.526Z"
   },
   {
    "duration": 6,
    "start_time": "2021-07-10T11:18:22.474Z"
   },
   {
    "duration": 13,
    "start_time": "2021-07-10T11:18:22.481Z"
   },
   {
    "duration": 8,
    "start_time": "2021-07-10T11:18:22.495Z"
   },
   {
    "duration": 23,
    "start_time": "2021-07-10T11:18:22.504Z"
   },
   {
    "duration": 7,
    "start_time": "2021-07-10T11:18:22.529Z"
   },
   {
    "duration": 5,
    "start_time": "2021-07-10T11:18:22.537Z"
   },
   {
    "duration": 28,
    "start_time": "2021-07-10T11:18:22.544Z"
   },
   {
    "duration": 19,
    "start_time": "2021-07-10T11:18:22.574Z"
   },
   {
    "duration": 5,
    "start_time": "2021-07-10T11:18:22.595Z"
   },
   {
    "duration": 23,
    "start_time": "2021-07-10T11:18:22.601Z"
   },
   {
    "duration": 12,
    "start_time": "2021-07-10T11:18:22.626Z"
   },
   {
    "duration": 7,
    "start_time": "2021-07-10T11:18:22.639Z"
   },
   {
    "duration": 23,
    "start_time": "2021-07-10T11:18:22.647Z"
   },
   {
    "duration": 24,
    "start_time": "2021-07-10T11:18:22.671Z"
   },
   {
    "duration": 348,
    "start_time": "2021-07-10T11:18:22.697Z"
   },
   {
    "duration": -1341,
    "start_time": "2021-07-10T11:18:24.389Z"
   },
   {
    "duration": -1347,
    "start_time": "2021-07-10T11:18:24.396Z"
   },
   {
    "duration": -1354,
    "start_time": "2021-07-10T11:18:24.404Z"
   },
   {
    "duration": -1360,
    "start_time": "2021-07-10T11:18:24.411Z"
   },
   {
    "duration": -1364,
    "start_time": "2021-07-10T11:18:24.417Z"
   },
   {
    "duration": 106,
    "start_time": "2021-07-10T11:22:41.616Z"
   },
   {
    "duration": 95,
    "start_time": "2021-07-10T11:22:54.929Z"
   },
   {
    "duration": 265,
    "start_time": "2021-07-10T11:23:12.611Z"
   },
   {
    "duration": 3,
    "start_time": "2021-07-10T11:23:25.448Z"
   },
   {
    "duration": 3,
    "start_time": "2021-07-10T11:23:33.560Z"
   },
   {
    "duration": 5945,
    "start_time": "2021-07-10T11:23:43.356Z"
   },
   {
    "duration": 5576,
    "start_time": "2021-07-10T11:24:42.900Z"
   },
   {
    "duration": 5614,
    "start_time": "2021-07-10T11:24:55.457Z"
   },
   {
    "duration": 5897,
    "start_time": "2021-07-10T11:25:06.150Z"
   },
   {
    "duration": 4,
    "start_time": "2021-07-10T11:25:29.726Z"
   },
   {
    "duration": 3,
    "start_time": "2021-07-10T11:25:31.693Z"
   },
   {
    "duration": 267,
    "start_time": "2021-07-10T11:25:50.796Z"
   },
   {
    "duration": 275,
    "start_time": "2021-07-10T11:26:16.052Z"
   },
   {
    "duration": 228,
    "start_time": "2021-07-10T11:28:12.410Z"
   },
   {
    "duration": 227,
    "start_time": "2021-07-10T11:28:51.310Z"
   },
   {
    "duration": 3,
    "start_time": "2021-07-10T11:29:04.085Z"
   },
   {
    "duration": 5,
    "start_time": "2021-07-10T11:29:20.292Z"
   },
   {
    "duration": 35,
    "start_time": "2021-07-10T11:30:39.222Z"
   },
   {
    "duration": 5,
    "start_time": "2021-07-10T11:30:42.787Z"
   },
   {
    "duration": 5,
    "start_time": "2021-07-10T11:30:49.789Z"
   },
   {
    "duration": 98,
    "start_time": "2021-07-10T11:30:58.202Z"
   },
   {
    "duration": 1064,
    "start_time": "2021-07-10T11:31:13.742Z"
   },
   {
    "duration": 284,
    "start_time": "2021-07-10T11:31:14.808Z"
   },
   {
    "duration": 13,
    "start_time": "2021-07-10T11:31:15.094Z"
   },
   {
    "duration": 110,
    "start_time": "2021-07-10T11:31:15.109Z"
   },
   {
    "duration": 5,
    "start_time": "2021-07-10T11:31:15.221Z"
   },
   {
    "duration": 264,
    "start_time": "2021-07-10T11:31:15.228Z"
   },
   {
    "duration": 13,
    "start_time": "2021-07-10T11:31:15.494Z"
   },
   {
    "duration": 91,
    "start_time": "2021-07-10T11:31:15.509Z"
   },
   {
    "duration": 8,
    "start_time": "2021-07-10T11:31:15.602Z"
   },
   {
    "duration": 107,
    "start_time": "2021-07-10T11:31:15.612Z"
   },
   {
    "duration": 368,
    "start_time": "2021-07-10T11:31:15.721Z"
   },
   {
    "duration": 13,
    "start_time": "2021-07-10T11:31:16.091Z"
   },
   {
    "duration": 2,
    "start_time": "2021-07-10T11:31:16.106Z"
   },
   {
    "duration": 11,
    "start_time": "2021-07-10T11:31:16.110Z"
   },
   {
    "duration": 6,
    "start_time": "2021-07-10T11:31:16.123Z"
   },
   {
    "duration": 5,
    "start_time": "2021-07-10T11:31:16.131Z"
   },
   {
    "duration": 4,
    "start_time": "2021-07-10T11:31:16.138Z"
   },
   {
    "duration": 8,
    "start_time": "2021-07-10T11:31:16.143Z"
   },
   {
    "duration": 39,
    "start_time": "2021-07-10T11:31:16.153Z"
   },
   {
    "duration": 17,
    "start_time": "2021-07-10T11:31:16.193Z"
   },
   {
    "duration": 6,
    "start_time": "2021-07-10T11:31:16.212Z"
   },
   {
    "duration": 41,
    "start_time": "2021-07-10T11:31:16.219Z"
   },
   {
    "duration": 28,
    "start_time": "2021-07-10T11:31:16.264Z"
   },
   {
    "duration": 10,
    "start_time": "2021-07-10T11:31:16.295Z"
   },
   {
    "duration": 7,
    "start_time": "2021-07-10T11:31:16.306Z"
   },
   {
    "duration": 14,
    "start_time": "2021-07-10T11:31:16.315Z"
   },
   {
    "duration": 8,
    "start_time": "2021-07-10T11:31:16.331Z"
   },
   {
    "duration": 3,
    "start_time": "2021-07-10T11:31:16.340Z"
   },
   {
    "duration": 52,
    "start_time": "2021-07-10T11:31:16.344Z"
   },
   {
    "duration": 9,
    "start_time": "2021-07-10T11:31:16.398Z"
   },
   {
    "duration": 2,
    "start_time": "2021-07-10T11:31:16.409Z"
   },
   {
    "duration": 244,
    "start_time": "2021-07-10T11:31:16.413Z"
   },
   {
    "duration": 224,
    "start_time": "2021-07-10T11:31:16.659Z"
   },
   {
    "duration": 207,
    "start_time": "2021-07-10T11:31:16.884Z"
   },
   {
    "duration": 230,
    "start_time": "2021-07-10T11:31:17.093Z"
   },
   {
    "duration": 224,
    "start_time": "2021-07-10T11:31:17.324Z"
   },
   {
    "duration": 7,
    "start_time": "2021-07-10T11:31:17.549Z"
   },
   {
    "duration": 8,
    "start_time": "2021-07-10T11:31:17.558Z"
   },
   {
    "duration": 25,
    "start_time": "2021-07-10T11:31:17.567Z"
   },
   {
    "duration": 11,
    "start_time": "2021-07-10T11:31:17.593Z"
   },
   {
    "duration": 617,
    "start_time": "2021-07-10T11:31:17.605Z"
   },
   {
    "duration": 521,
    "start_time": "2021-07-10T11:31:18.223Z"
   },
   {
    "duration": 4,
    "start_time": "2021-07-10T11:31:18.746Z"
   },
   {
    "duration": 12,
    "start_time": "2021-07-10T11:31:18.752Z"
   },
   {
    "duration": 12,
    "start_time": "2021-07-10T11:31:18.765Z"
   },
   {
    "duration": 28,
    "start_time": "2021-07-10T11:31:18.778Z"
   },
   {
    "duration": 973,
    "start_time": "2021-07-10T11:31:18.807Z"
   },
   {
    "duration": 6,
    "start_time": "2021-07-10T11:31:19.781Z"
   },
   {
    "duration": 4,
    "start_time": "2021-07-10T11:31:19.791Z"
   },
   {
    "duration": 4,
    "start_time": "2021-07-10T11:31:19.797Z"
   },
   {
    "duration": 15,
    "start_time": "2021-07-10T11:31:19.803Z"
   },
   {
    "duration": 8,
    "start_time": "2021-07-10T11:31:19.819Z"
   },
   {
    "duration": 4,
    "start_time": "2021-07-10T11:31:19.828Z"
   },
   {
    "duration": 20,
    "start_time": "2021-07-10T11:31:19.833Z"
   },
   {
    "duration": 41,
    "start_time": "2021-07-10T11:31:19.854Z"
   },
   {
    "duration": 4,
    "start_time": "2021-07-10T11:31:19.897Z"
   },
   {
    "duration": 21,
    "start_time": "2021-07-10T11:31:19.903Z"
   },
   {
    "duration": 10,
    "start_time": "2021-07-10T11:31:19.925Z"
   },
   {
    "duration": 3,
    "start_time": "2021-07-10T11:31:19.937Z"
   },
   {
    "duration": 8,
    "start_time": "2021-07-10T11:31:19.941Z"
   },
   {
    "duration": 16,
    "start_time": "2021-07-10T11:31:19.951Z"
   },
   {
    "duration": 54,
    "start_time": "2021-07-10T11:31:19.968Z"
   },
   {
    "duration": 5,
    "start_time": "2021-07-10T11:31:20.024Z"
   },
   {
    "duration": 6,
    "start_time": "2021-07-10T11:31:20.030Z"
   },
   {
    "duration": 19,
    "start_time": "2021-07-10T11:31:20.038Z"
   },
   {
    "duration": 44,
    "start_time": "2021-07-10T11:31:20.058Z"
   },
   {
    "duration": 18,
    "start_time": "2021-07-10T11:31:20.104Z"
   },
   {
    "duration": 6,
    "start_time": "2021-07-10T11:32:36.334Z"
   },
   {
    "duration": 35,
    "start_time": "2021-07-10T11:33:07.521Z"
   },
   {
    "duration": 5,
    "start_time": "2021-07-10T11:33:08.905Z"
   },
   {
    "duration": 36,
    "start_time": "2021-07-10T11:33:15.772Z"
   },
   {
    "duration": 5,
    "start_time": "2021-07-10T11:33:16.909Z"
   },
   {
    "duration": 36,
    "start_time": "2021-07-10T11:33:29.333Z"
   },
   {
    "duration": 6,
    "start_time": "2021-07-10T11:33:30.261Z"
   },
   {
    "duration": 1132,
    "start_time": "2021-07-10T11:33:48.475Z"
   },
   {
    "duration": 286,
    "start_time": "2021-07-10T11:33:49.609Z"
   },
   {
    "duration": 15,
    "start_time": "2021-07-10T11:33:49.897Z"
   },
   {
    "duration": 112,
    "start_time": "2021-07-10T11:33:49.914Z"
   },
   {
    "duration": 7,
    "start_time": "2021-07-10T11:33:50.028Z"
   },
   {
    "duration": 270,
    "start_time": "2021-07-10T11:33:50.037Z"
   },
   {
    "duration": 14,
    "start_time": "2021-07-10T11:33:50.309Z"
   },
   {
    "duration": 94,
    "start_time": "2021-07-10T11:33:50.326Z"
   },
   {
    "duration": 10,
    "start_time": "2021-07-10T11:33:50.423Z"
   },
   {
    "duration": 111,
    "start_time": "2021-07-10T11:33:50.434Z"
   },
   {
    "duration": 365,
    "start_time": "2021-07-10T11:33:50.547Z"
   },
   {
    "duration": 15,
    "start_time": "2021-07-10T11:33:50.913Z"
   },
   {
    "duration": 4,
    "start_time": "2021-07-10T11:33:50.929Z"
   },
   {
    "duration": 15,
    "start_time": "2021-07-10T11:33:50.934Z"
   },
   {
    "duration": 7,
    "start_time": "2021-07-10T11:33:50.951Z"
   },
   {
    "duration": 6,
    "start_time": "2021-07-10T11:33:50.959Z"
   },
   {
    "duration": 26,
    "start_time": "2021-07-10T11:33:50.967Z"
   },
   {
    "duration": 5,
    "start_time": "2021-07-10T11:33:50.995Z"
   },
   {
    "duration": 14,
    "start_time": "2021-07-10T11:33:51.001Z"
   },
   {
    "duration": 16,
    "start_time": "2021-07-10T11:33:51.016Z"
   },
   {
    "duration": 5,
    "start_time": "2021-07-10T11:33:51.034Z"
   },
   {
    "duration": 67,
    "start_time": "2021-07-10T11:33:51.041Z"
   },
   {
    "duration": 8,
    "start_time": "2021-07-10T11:33:51.111Z"
   },
   {
    "duration": 10,
    "start_time": "2021-07-10T11:33:51.121Z"
   },
   {
    "duration": 6,
    "start_time": "2021-07-10T11:33:51.132Z"
   },
   {
    "duration": 15,
    "start_time": "2021-07-10T11:33:51.139Z"
   },
   {
    "duration": 6,
    "start_time": "2021-07-10T11:33:51.156Z"
   },
   {
    "duration": 2,
    "start_time": "2021-07-10T11:33:51.191Z"
   },
   {
    "duration": 17,
    "start_time": "2021-07-10T11:33:51.195Z"
   },
   {
    "duration": 8,
    "start_time": "2021-07-10T11:33:51.214Z"
   },
   {
    "duration": 3,
    "start_time": "2021-07-10T11:33:51.224Z"
   },
   {
    "duration": 246,
    "start_time": "2021-07-10T11:33:51.229Z"
   },
   {
    "duration": 223,
    "start_time": "2021-07-10T11:33:51.477Z"
   },
   {
    "duration": 214,
    "start_time": "2021-07-10T11:33:51.703Z"
   },
   {
    "duration": 225,
    "start_time": "2021-07-10T11:33:51.919Z"
   },
   {
    "duration": 215,
    "start_time": "2021-07-10T11:33:52.146Z"
   },
   {
    "duration": 8,
    "start_time": "2021-07-10T11:33:52.363Z"
   },
   {
    "duration": 21,
    "start_time": "2021-07-10T11:33:52.372Z"
   },
   {
    "duration": 18,
    "start_time": "2021-07-10T11:33:52.395Z"
   },
   {
    "duration": 12,
    "start_time": "2021-07-10T11:33:52.414Z"
   },
   {
    "duration": 739,
    "start_time": "2021-07-10T11:33:52.427Z"
   },
   {
    "duration": 732,
    "start_time": "2021-07-10T11:33:53.168Z"
   },
   {
    "duration": 5,
    "start_time": "2021-07-10T11:33:53.902Z"
   },
   {
    "duration": 12,
    "start_time": "2021-07-10T11:33:53.908Z"
   },
   {
    "duration": 16,
    "start_time": "2021-07-10T11:33:53.921Z"
   },
   {
    "duration": 20,
    "start_time": "2021-07-10T11:33:53.939Z"
   },
   {
    "duration": 1039,
    "start_time": "2021-07-10T11:33:53.961Z"
   },
   {
    "duration": 7,
    "start_time": "2021-07-10T11:33:55.002Z"
   },
   {
    "duration": 7,
    "start_time": "2021-07-10T11:33:55.011Z"
   },
   {
    "duration": 13,
    "start_time": "2021-07-10T11:33:55.020Z"
   },
   {
    "duration": 18,
    "start_time": "2021-07-10T11:33:55.035Z"
   },
   {
    "duration": 12,
    "start_time": "2021-07-10T11:33:55.055Z"
   },
   {
    "duration": 24,
    "start_time": "2021-07-10T11:33:55.069Z"
   },
   {
    "duration": 22,
    "start_time": "2021-07-10T11:33:55.094Z"
   },
   {
    "duration": 13,
    "start_time": "2021-07-10T11:33:55.118Z"
   },
   {
    "duration": 5,
    "start_time": "2021-07-10T11:33:55.132Z"
   },
   {
    "duration": 23,
    "start_time": "2021-07-10T11:33:55.139Z"
   },
   {
    "duration": 10,
    "start_time": "2021-07-10T11:33:55.163Z"
   },
   {
    "duration": 18,
    "start_time": "2021-07-10T11:33:55.174Z"
   },
   {
    "duration": 22,
    "start_time": "2021-07-10T11:33:55.193Z"
   },
   {
    "duration": 20,
    "start_time": "2021-07-10T11:33:55.216Z"
   },
   {
    "duration": 7,
    "start_time": "2021-07-10T11:33:55.237Z"
   },
   {
    "duration": 37,
    "start_time": "2021-07-10T11:33:55.246Z"
   },
   {
    "duration": 3,
    "start_time": "2021-07-10T11:33:55.285Z"
   },
   {
    "duration": 4,
    "start_time": "2021-07-10T11:33:55.290Z"
   },
   {
    "duration": 25,
    "start_time": "2021-07-10T11:33:55.295Z"
   },
   {
    "duration": 33,
    "start_time": "2021-07-10T11:33:55.321Z"
   },
   {
    "duration": 16,
    "start_time": "2021-07-10T11:33:55.358Z"
   },
   {
    "duration": 5,
    "start_time": "2021-07-10T11:36:23.915Z"
   },
   {
    "duration": 5,
    "start_time": "2021-07-10T11:36:25.432Z"
   },
   {
    "duration": 757,
    "start_time": "2021-07-10T11:36:37.085Z"
   },
   {
    "duration": 74,
    "start_time": "2021-07-10T11:37:43.446Z"
   },
   {
    "duration": 6,
    "start_time": "2021-07-10T11:37:45.035Z"
   },
   {
    "duration": 7,
    "start_time": "2021-07-10T11:38:17.717Z"
   },
   {
    "duration": 10,
    "start_time": "2021-07-10T11:38:33.908Z"
   },
   {
    "duration": 1146,
    "start_time": "2021-07-10T11:38:45.960Z"
   },
   {
    "duration": 283,
    "start_time": "2021-07-10T11:38:47.108Z"
   },
   {
    "duration": 14,
    "start_time": "2021-07-10T11:38:47.394Z"
   },
   {
    "duration": 112,
    "start_time": "2021-07-10T11:38:47.409Z"
   },
   {
    "duration": 6,
    "start_time": "2021-07-10T11:38:47.522Z"
   },
   {
    "duration": 271,
    "start_time": "2021-07-10T11:38:47.529Z"
   },
   {
    "duration": 13,
    "start_time": "2021-07-10T11:38:47.802Z"
   },
   {
    "duration": 89,
    "start_time": "2021-07-10T11:38:47.817Z"
   },
   {
    "duration": 8,
    "start_time": "2021-07-10T11:38:47.908Z"
   },
   {
    "duration": 113,
    "start_time": "2021-07-10T11:38:47.918Z"
   },
   {
    "duration": 363,
    "start_time": "2021-07-10T11:38:48.032Z"
   },
   {
    "duration": 14,
    "start_time": "2021-07-10T11:38:48.397Z"
   },
   {
    "duration": 3,
    "start_time": "2021-07-10T11:38:48.413Z"
   },
   {
    "duration": 14,
    "start_time": "2021-07-10T11:38:48.417Z"
   },
   {
    "duration": 8,
    "start_time": "2021-07-10T11:38:48.432Z"
   },
   {
    "duration": 7,
    "start_time": "2021-07-10T11:38:48.442Z"
   },
   {
    "duration": 5,
    "start_time": "2021-07-10T11:38:48.451Z"
   },
   {
    "duration": 39,
    "start_time": "2021-07-10T11:38:48.457Z"
   },
   {
    "duration": 11,
    "start_time": "2021-07-10T11:38:48.497Z"
   },
   {
    "duration": 17,
    "start_time": "2021-07-10T11:38:48.509Z"
   },
   {
    "duration": 5,
    "start_time": "2021-07-10T11:38:48.528Z"
   },
   {
    "duration": 62,
    "start_time": "2021-07-10T11:38:48.536Z"
   },
   {
    "duration": 8,
    "start_time": "2021-07-10T11:38:48.600Z"
   },
   {
    "duration": 10,
    "start_time": "2021-07-10T11:38:48.609Z"
   },
   {
    "duration": 6,
    "start_time": "2021-07-10T11:38:48.620Z"
   },
   {
    "duration": 13,
    "start_time": "2021-07-10T11:38:48.627Z"
   },
   {
    "duration": 6,
    "start_time": "2021-07-10T11:38:48.642Z"
   },
   {
    "duration": 3,
    "start_time": "2021-07-10T11:38:48.649Z"
   },
   {
    "duration": 46,
    "start_time": "2021-07-10T11:38:48.654Z"
   },
   {
    "duration": 8,
    "start_time": "2021-07-10T11:38:48.702Z"
   },
   {
    "duration": 2,
    "start_time": "2021-07-10T11:38:48.712Z"
   },
   {
    "duration": 246,
    "start_time": "2021-07-10T11:38:48.715Z"
   },
   {
    "duration": 221,
    "start_time": "2021-07-10T11:38:48.963Z"
   },
   {
    "duration": 206,
    "start_time": "2021-07-10T11:38:49.185Z"
   },
   {
    "duration": 222,
    "start_time": "2021-07-10T11:38:49.393Z"
   },
   {
    "duration": 214,
    "start_time": "2021-07-10T11:38:49.617Z"
   },
   {
    "duration": 7,
    "start_time": "2021-07-10T11:38:49.833Z"
   },
   {
    "duration": 9,
    "start_time": "2021-07-10T11:38:49.841Z"
   },
   {
    "duration": 14,
    "start_time": "2021-07-10T11:38:49.851Z"
   },
   {
    "duration": 28,
    "start_time": "2021-07-10T11:38:49.866Z"
   },
   {
    "duration": 638,
    "start_time": "2021-07-10T11:38:49.895Z"
   },
   {
    "duration": 615,
    "start_time": "2021-07-10T11:38:50.535Z"
   },
   {
    "duration": 6,
    "start_time": "2021-07-10T11:38:51.152Z"
   },
   {
    "duration": 8,
    "start_time": "2021-07-10T11:38:51.160Z"
   },
   {
    "duration": 22,
    "start_time": "2021-07-10T11:38:51.169Z"
   },
   {
    "duration": 19,
    "start_time": "2021-07-10T11:38:51.193Z"
   },
   {
    "duration": 985,
    "start_time": "2021-07-10T11:38:51.214Z"
   },
   {
    "duration": 8,
    "start_time": "2021-07-10T11:38:52.201Z"
   },
   {
    "duration": 5,
    "start_time": "2021-07-10T11:38:52.211Z"
   },
   {
    "duration": 11,
    "start_time": "2021-07-10T11:38:52.218Z"
   },
   {
    "duration": 14,
    "start_time": "2021-07-10T11:38:52.231Z"
   },
   {
    "duration": 7,
    "start_time": "2021-07-10T11:38:52.247Z"
   },
   {
    "duration": 36,
    "start_time": "2021-07-10T11:38:52.256Z"
   },
   {
    "duration": 18,
    "start_time": "2021-07-10T11:38:52.294Z"
   },
   {
    "duration": 8,
    "start_time": "2021-07-10T11:38:52.314Z"
   },
   {
    "duration": 5,
    "start_time": "2021-07-10T11:38:52.323Z"
   },
   {
    "duration": 22,
    "start_time": "2021-07-10T11:38:52.330Z"
   },
   {
    "duration": 39,
    "start_time": "2021-07-10T11:38:52.353Z"
   },
   {
    "duration": 3,
    "start_time": "2021-07-10T11:38:52.394Z"
   },
   {
    "duration": 8,
    "start_time": "2021-07-10T11:38:52.398Z"
   },
   {
    "duration": 24,
    "start_time": "2021-07-10T11:38:52.407Z"
   },
   {
    "duration": 76,
    "start_time": "2021-07-10T11:38:52.432Z"
   },
   {
    "duration": 9,
    "start_time": "2021-07-10T11:38:52.510Z"
   },
   {
    "duration": 12,
    "start_time": "2021-07-10T11:38:52.520Z"
   },
   {
    "duration": 23,
    "start_time": "2021-07-10T11:38:52.533Z"
   },
   {
    "duration": 31,
    "start_time": "2021-07-10T11:38:52.558Z"
   },
   {
    "duration": 16,
    "start_time": "2021-07-10T11:38:52.593Z"
   },
   {
    "duration": 10,
    "start_time": "2021-07-10T11:39:04.972Z"
   },
   {
    "duration": 6,
    "start_time": "2021-07-10T11:39:14.319Z"
   },
   {
    "duration": 6,
    "start_time": "2021-07-10T11:40:37.474Z"
   },
   {
    "duration": 4,
    "start_time": "2021-07-10T11:41:10.200Z"
   },
   {
    "duration": 6,
    "start_time": "2021-07-10T11:41:15.354Z"
   },
   {
    "duration": 344,
    "start_time": "2021-07-10T11:41:24.388Z"
   },
   {
    "duration": 240,
    "start_time": "2021-07-10T11:43:11.897Z"
   },
   {
    "duration": 231,
    "start_time": "2021-07-10T11:43:18.398Z"
   },
   {
    "duration": 5699,
    "start_time": "2021-07-10T11:43:22.516Z"
   },
   {
    "duration": 594,
    "start_time": "2021-07-10T11:43:28.216Z"
   },
   {
    "duration": 6188,
    "start_time": "2021-07-10T11:44:07.173Z"
   },
   {
    "duration": 1552,
    "start_time": "2021-07-10T11:44:21.287Z"
   },
   {
    "duration": 5831,
    "start_time": "2021-07-10T11:44:47.353Z"
   },
   {
    "duration": 3225,
    "start_time": "2021-07-10T11:46:02.172Z"
   },
   {
    "duration": 2968,
    "start_time": "2021-07-10T11:46:35.480Z"
   },
   {
    "duration": 258,
    "start_time": "2021-07-10T11:48:55.278Z"
   },
   {
    "duration": 1475,
    "start_time": "2021-07-10T11:49:27.149Z"
   },
   {
    "duration": 413,
    "start_time": "2021-07-10T11:49:28.626Z"
   },
   {
    "duration": 22,
    "start_time": "2021-07-10T11:49:29.041Z"
   },
   {
    "duration": 147,
    "start_time": "2021-07-10T11:49:29.065Z"
   },
   {
    "duration": 7,
    "start_time": "2021-07-10T11:49:29.214Z"
   },
   {
    "duration": 381,
    "start_time": "2021-07-10T11:49:29.223Z"
   },
   {
    "duration": 21,
    "start_time": "2021-07-10T11:49:29.607Z"
   },
   {
    "duration": 131,
    "start_time": "2021-07-10T11:49:29.631Z"
   },
   {
    "duration": 13,
    "start_time": "2021-07-10T11:49:29.765Z"
   },
   {
    "duration": 145,
    "start_time": "2021-07-10T11:49:29.780Z"
   },
   {
    "duration": 520,
    "start_time": "2021-07-10T11:49:29.927Z"
   },
   {
    "duration": 22,
    "start_time": "2021-07-10T11:49:30.449Z"
   },
   {
    "duration": 3,
    "start_time": "2021-07-10T11:49:30.473Z"
   },
   {
    "duration": 25,
    "start_time": "2021-07-10T11:49:30.477Z"
   },
   {
    "duration": 21,
    "start_time": "2021-07-10T11:49:30.504Z"
   },
   {
    "duration": 23,
    "start_time": "2021-07-10T11:49:30.526Z"
   },
   {
    "duration": 20,
    "start_time": "2021-07-10T11:49:30.551Z"
   },
   {
    "duration": 21,
    "start_time": "2021-07-10T11:49:30.572Z"
   },
   {
    "duration": 31,
    "start_time": "2021-07-10T11:49:30.594Z"
   },
   {
    "duration": 24,
    "start_time": "2021-07-10T11:49:30.626Z"
   },
   {
    "duration": 14,
    "start_time": "2021-07-10T11:49:30.652Z"
   },
   {
    "duration": 48,
    "start_time": "2021-07-10T11:49:30.668Z"
   },
   {
    "duration": 8,
    "start_time": "2021-07-10T11:49:30.720Z"
   },
   {
    "duration": 22,
    "start_time": "2021-07-10T11:49:30.730Z"
   },
   {
    "duration": 6,
    "start_time": "2021-07-10T11:49:30.753Z"
   },
   {
    "duration": 26,
    "start_time": "2021-07-10T11:49:30.760Z"
   },
   {
    "duration": 6,
    "start_time": "2021-07-10T11:49:30.787Z"
   },
   {
    "duration": 8,
    "start_time": "2021-07-10T11:49:30.795Z"
   },
   {
    "duration": 23,
    "start_time": "2021-07-10T11:49:30.805Z"
   },
   {
    "duration": 8,
    "start_time": "2021-07-10T11:49:30.830Z"
   },
   {
    "duration": 2,
    "start_time": "2021-07-10T11:49:30.840Z"
   },
   {
    "duration": 240,
    "start_time": "2021-07-10T11:49:30.843Z"
   },
   {
    "duration": 221,
    "start_time": "2021-07-10T11:49:31.085Z"
   },
   {
    "duration": 319,
    "start_time": "2021-07-10T11:49:31.307Z"
   },
   {
    "duration": 227,
    "start_time": "2021-07-10T11:49:31.628Z"
   },
   {
    "duration": 217,
    "start_time": "2021-07-10T11:49:31.857Z"
   },
   {
    "duration": 18,
    "start_time": "2021-07-10T11:49:32.075Z"
   },
   {
    "duration": 10,
    "start_time": "2021-07-10T11:49:32.094Z"
   },
   {
    "duration": 14,
    "start_time": "2021-07-10T11:49:32.105Z"
   },
   {
    "duration": 11,
    "start_time": "2021-07-10T11:49:32.121Z"
   },
   {
    "duration": 709,
    "start_time": "2021-07-10T11:49:32.134Z"
   },
   {
    "duration": 643,
    "start_time": "2021-07-10T11:49:32.845Z"
   },
   {
    "duration": 5,
    "start_time": "2021-07-10T11:49:33.489Z"
   },
   {
    "duration": 11,
    "start_time": "2021-07-10T11:49:33.495Z"
   },
   {
    "duration": 10,
    "start_time": "2021-07-10T11:49:33.507Z"
   },
   {
    "duration": 18,
    "start_time": "2021-07-10T11:49:33.518Z"
   },
   {
    "duration": 1163,
    "start_time": "2021-07-10T11:49:33.538Z"
   },
   {
    "duration": 6,
    "start_time": "2021-07-10T11:49:34.703Z"
   },
   {
    "duration": 7,
    "start_time": "2021-07-10T11:49:34.710Z"
   },
   {
    "duration": 10,
    "start_time": "2021-07-10T11:49:34.719Z"
   },
   {
    "duration": 22,
    "start_time": "2021-07-10T11:49:34.731Z"
   },
   {
    "duration": 8,
    "start_time": "2021-07-10T11:49:34.755Z"
   },
   {
    "duration": 29,
    "start_time": "2021-07-10T11:49:34.765Z"
   },
   {
    "duration": 21,
    "start_time": "2021-07-10T11:49:34.795Z"
   },
   {
    "duration": 11,
    "start_time": "2021-07-10T11:49:34.817Z"
   },
   {
    "duration": 6,
    "start_time": "2021-07-10T11:49:34.830Z"
   },
   {
    "duration": 34,
    "start_time": "2021-07-10T11:49:34.837Z"
   },
   {
    "duration": 11,
    "start_time": "2021-07-10T11:49:34.892Z"
   },
   {
    "duration": 2,
    "start_time": "2021-07-10T11:49:34.905Z"
   },
   {
    "duration": 4,
    "start_time": "2021-07-10T11:49:34.909Z"
   },
   {
    "duration": 14,
    "start_time": "2021-07-10T11:49:34.915Z"
   },
   {
    "duration": 6679,
    "start_time": "2021-07-10T11:49:34.931Z"
   },
   {
    "duration": 340,
    "start_time": "2021-07-10T11:49:41.612Z"
   },
   {
    "duration": -1311,
    "start_time": "2021-07-10T11:49:43.264Z"
   },
   {
    "duration": -1321,
    "start_time": "2021-07-10T11:49:43.275Z"
   },
   {
    "duration": -1330,
    "start_time": "2021-07-10T11:49:43.285Z"
   },
   {
    "duration": -1341,
    "start_time": "2021-07-10T11:49:43.297Z"
   },
   {
    "duration": 615,
    "start_time": "2021-07-10T11:54:24.343Z"
   },
   {
    "duration": 1716,
    "start_time": "2021-07-10T11:55:48.023Z"
   },
   {
    "duration": 171,
    "start_time": "2021-07-10T11:55:52.081Z"
   },
   {
    "duration": 20,
    "start_time": "2021-07-10T11:56:55.482Z"
   },
   {
    "duration": 5,
    "start_time": "2021-07-10T11:57:16.783Z"
   },
   {
    "duration": 6,
    "start_time": "2021-07-10T11:57:19.265Z"
   },
   {
    "duration": 6,
    "start_time": "2021-07-10T11:57:28.925Z"
   },
   {
    "duration": 4,
    "start_time": "2021-07-10T11:58:01.890Z"
   },
   {
    "duration": 6,
    "start_time": "2021-07-10T11:58:03.949Z"
   },
   {
    "duration": 7,
    "start_time": "2021-07-10T11:58:18.331Z"
   },
   {
    "duration": 725,
    "start_time": "2021-07-10T11:58:54.693Z"
   },
   {
    "duration": 5,
    "start_time": "2021-07-10T11:59:10.463Z"
   },
   {
    "duration": 10,
    "start_time": "2021-07-10T11:59:27.849Z"
   },
   {
    "duration": 4,
    "start_time": "2021-07-10T12:00:33.291Z"
   },
   {
    "duration": 10,
    "start_time": "2021-07-10T12:00:35.044Z"
   },
   {
    "duration": 7,
    "start_time": "2021-07-10T12:01:05.032Z"
   },
   {
    "duration": 7,
    "start_time": "2021-07-10T12:01:23.274Z"
   },
   {
    "duration": 4,
    "start_time": "2021-07-10T12:04:37.637Z"
   },
   {
    "duration": 4,
    "start_time": "2021-07-10T12:04:49.300Z"
   },
   {
    "duration": 3,
    "start_time": "2021-07-10T12:06:15.592Z"
   },
   {
    "duration": 17,
    "start_time": "2021-07-10T12:06:16.279Z"
   },
   {
    "duration": 31,
    "start_time": "2021-07-10T12:06:19.781Z"
   },
   {
    "duration": 17,
    "start_time": "2021-07-10T12:06:23.099Z"
   },
   {
    "duration": 28,
    "start_time": "2021-07-10T12:22:02.438Z"
   },
   {
    "duration": 237,
    "start_time": "2021-07-10T12:34:13.506Z"
   },
   {
    "duration": 1104,
    "start_time": "2021-07-10T12:34:21.237Z"
   },
   {
    "duration": 289,
    "start_time": "2021-07-10T12:34:22.343Z"
   },
   {
    "duration": 15,
    "start_time": "2021-07-10T12:34:22.634Z"
   },
   {
    "duration": 111,
    "start_time": "2021-07-10T12:34:22.651Z"
   },
   {
    "duration": 6,
    "start_time": "2021-07-10T12:34:22.763Z"
   },
   {
    "duration": 275,
    "start_time": "2021-07-10T12:34:22.770Z"
   },
   {
    "duration": 13,
    "start_time": "2021-07-10T12:34:23.047Z"
   },
   {
    "duration": 102,
    "start_time": "2021-07-10T12:34:23.062Z"
   },
   {
    "duration": 9,
    "start_time": "2021-07-10T12:34:23.166Z"
   },
   {
    "duration": 108,
    "start_time": "2021-07-10T12:34:23.177Z"
   },
   {
    "duration": 374,
    "start_time": "2021-07-10T12:34:23.291Z"
   },
   {
    "duration": 25,
    "start_time": "2021-07-10T12:34:23.667Z"
   },
   {
    "duration": 2,
    "start_time": "2021-07-10T12:34:23.694Z"
   },
   {
    "duration": 20,
    "start_time": "2021-07-10T12:34:23.698Z"
   },
   {
    "duration": 8,
    "start_time": "2021-07-10T12:34:23.720Z"
   },
   {
    "duration": 7,
    "start_time": "2021-07-10T12:34:23.729Z"
   },
   {
    "duration": 4,
    "start_time": "2021-07-10T12:34:23.737Z"
   },
   {
    "duration": 5,
    "start_time": "2021-07-10T12:34:23.743Z"
   },
   {
    "duration": 13,
    "start_time": "2021-07-10T12:34:23.749Z"
   },
   {
    "duration": 41,
    "start_time": "2021-07-10T12:34:23.763Z"
   },
   {
    "duration": 6,
    "start_time": "2021-07-10T12:34:23.806Z"
   },
   {
    "duration": 40,
    "start_time": "2021-07-10T12:34:23.813Z"
   },
   {
    "duration": 8,
    "start_time": "2021-07-10T12:34:23.856Z"
   },
   {
    "duration": 32,
    "start_time": "2021-07-10T12:34:23.866Z"
   },
   {
    "duration": 7,
    "start_time": "2021-07-10T12:34:23.899Z"
   },
   {
    "duration": 16,
    "start_time": "2021-07-10T12:34:23.908Z"
   },
   {
    "duration": 7,
    "start_time": "2021-07-10T12:34:23.925Z"
   },
   {
    "duration": 6,
    "start_time": "2021-07-10T12:34:23.933Z"
   },
   {
    "duration": 20,
    "start_time": "2021-07-10T12:34:23.941Z"
   },
   {
    "duration": 33,
    "start_time": "2021-07-10T12:34:23.963Z"
   },
   {
    "duration": 2,
    "start_time": "2021-07-10T12:34:23.998Z"
   },
   {
    "duration": 240,
    "start_time": "2021-07-10T12:34:24.002Z"
   },
   {
    "duration": 230,
    "start_time": "2021-07-10T12:34:24.244Z"
   },
   {
    "duration": 220,
    "start_time": "2021-07-10T12:34:24.476Z"
   },
   {
    "duration": 232,
    "start_time": "2021-07-10T12:34:24.698Z"
   },
   {
    "duration": 306,
    "start_time": "2021-07-10T12:34:24.932Z"
   },
   {
    "duration": 9,
    "start_time": "2021-07-10T12:34:25.240Z"
   },
   {
    "duration": 10,
    "start_time": "2021-07-10T12:34:25.250Z"
   },
   {
    "duration": 30,
    "start_time": "2021-07-10T12:34:25.262Z"
   },
   {
    "duration": 13,
    "start_time": "2021-07-10T12:34:25.294Z"
   },
   {
    "duration": 533,
    "start_time": "2021-07-10T12:34:25.308Z"
   },
   {
    "duration": 662,
    "start_time": "2021-07-10T12:34:25.843Z"
   },
   {
    "duration": 5,
    "start_time": "2021-07-10T12:34:26.506Z"
   },
   {
    "duration": 8,
    "start_time": "2021-07-10T12:34:26.512Z"
   },
   {
    "duration": 11,
    "start_time": "2021-07-10T12:34:26.521Z"
   },
   {
    "duration": 19,
    "start_time": "2021-07-10T12:34:26.533Z"
   },
   {
    "duration": 1023,
    "start_time": "2021-07-10T12:34:26.554Z"
   },
   {
    "duration": 15,
    "start_time": "2021-07-10T12:34:27.578Z"
   },
   {
    "duration": 4,
    "start_time": "2021-07-10T12:34:27.595Z"
   },
   {
    "duration": 5,
    "start_time": "2021-07-10T12:34:27.601Z"
   },
   {
    "duration": 16,
    "start_time": "2021-07-10T12:34:27.607Z"
   },
   {
    "duration": 8,
    "start_time": "2021-07-10T12:34:27.625Z"
   },
   {
    "duration": 4,
    "start_time": "2021-07-10T12:34:27.635Z"
   },
   {
    "duration": 20,
    "start_time": "2021-07-10T12:34:27.640Z"
   },
   {
    "duration": 35,
    "start_time": "2021-07-10T12:34:27.662Z"
   },
   {
    "duration": 4,
    "start_time": "2021-07-10T12:34:27.699Z"
   },
   {
    "duration": 21,
    "start_time": "2021-07-10T12:34:27.704Z"
   },
   {
    "duration": 10,
    "start_time": "2021-07-10T12:34:27.726Z"
   },
   {
    "duration": 3,
    "start_time": "2021-07-10T12:34:27.738Z"
   },
   {
    "duration": 13,
    "start_time": "2021-07-10T12:34:27.742Z"
   },
   {
    "duration": 16,
    "start_time": "2021-07-10T12:34:27.756Z"
   },
   {
    "duration": 20,
    "start_time": "2021-07-10T12:34:27.774Z"
   },
   {
    "duration": 7,
    "start_time": "2021-07-10T12:34:27.796Z"
   },
   {
    "duration": 7,
    "start_time": "2021-07-10T12:34:27.804Z"
   },
   {
    "duration": 6,
    "start_time": "2021-07-10T12:34:27.813Z"
   },
   {
    "duration": 24,
    "start_time": "2021-07-10T12:34:27.821Z"
   },
   {
    "duration": 55,
    "start_time": "2021-07-10T12:34:27.846Z"
   },
   {
    "duration": 343,
    "start_time": "2021-07-10T12:34:27.906Z"
   },
   {
    "duration": 241,
    "start_time": "2021-07-10T12:35:31.229Z"
   },
   {
    "duration": 237,
    "start_time": "2021-07-10T12:35:50.783Z"
   },
   {
    "duration": 242,
    "start_time": "2021-07-10T12:36:08.638Z"
   },
   {
    "duration": 249,
    "start_time": "2021-07-10T12:37:58.918Z"
   },
   {
    "duration": 240,
    "start_time": "2021-07-10T12:45:03.895Z"
   },
   {
    "duration": 287,
    "start_time": "2021-07-10T12:46:44.912Z"
   },
   {
    "duration": 558,
    "start_time": "2021-07-10T12:47:02.896Z"
   },
   {
    "duration": 3,
    "start_time": "2021-07-10T12:49:35.764Z"
   },
   {
    "duration": 626,
    "start_time": "2021-07-10T12:49:40.697Z"
   },
   {
    "duration": 3,
    "start_time": "2021-07-10T12:50:12.704Z"
   },
   {
    "duration": 1101,
    "start_time": "2021-07-10T12:50:21.026Z"
   },
   {
    "duration": 287,
    "start_time": "2021-07-10T12:50:22.129Z"
   },
   {
    "duration": 15,
    "start_time": "2021-07-10T12:50:22.418Z"
   },
   {
    "duration": 111,
    "start_time": "2021-07-10T12:50:22.434Z"
   },
   {
    "duration": 5,
    "start_time": "2021-07-10T12:50:22.547Z"
   },
   {
    "duration": 266,
    "start_time": "2021-07-10T12:50:22.554Z"
   },
   {
    "duration": 14,
    "start_time": "2021-07-10T12:50:22.822Z"
   },
   {
    "duration": 95,
    "start_time": "2021-07-10T12:50:22.838Z"
   },
   {
    "duration": 9,
    "start_time": "2021-07-10T12:50:22.935Z"
   },
   {
    "duration": 106,
    "start_time": "2021-07-10T12:50:22.945Z"
   },
   {
    "duration": 352,
    "start_time": "2021-07-10T12:50:23.053Z"
   },
   {
    "duration": 14,
    "start_time": "2021-07-10T12:50:23.406Z"
   },
   {
    "duration": 2,
    "start_time": "2021-07-10T12:50:23.421Z"
   },
   {
    "duration": 14,
    "start_time": "2021-07-10T12:50:23.425Z"
   },
   {
    "duration": 7,
    "start_time": "2021-07-10T12:50:23.440Z"
   },
   {
    "duration": 6,
    "start_time": "2021-07-10T12:50:23.448Z"
   },
   {
    "duration": 3,
    "start_time": "2021-07-10T12:50:23.456Z"
   },
   {
    "duration": 31,
    "start_time": "2021-07-10T12:50:23.461Z"
   },
   {
    "duration": 9,
    "start_time": "2021-07-10T12:50:23.493Z"
   },
   {
    "duration": 16,
    "start_time": "2021-07-10T12:50:23.504Z"
   },
   {
    "duration": 6,
    "start_time": "2021-07-10T12:50:23.521Z"
   },
   {
    "duration": 38,
    "start_time": "2021-07-10T12:50:23.528Z"
   },
   {
    "duration": 29,
    "start_time": "2021-07-10T12:50:23.569Z"
   },
   {
    "duration": 9,
    "start_time": "2021-07-10T12:50:23.600Z"
   },
   {
    "duration": 5,
    "start_time": "2021-07-10T12:50:23.610Z"
   },
   {
    "duration": 14,
    "start_time": "2021-07-10T12:50:23.617Z"
   },
   {
    "duration": 6,
    "start_time": "2021-07-10T12:50:23.632Z"
   },
   {
    "duration": 2,
    "start_time": "2021-07-10T12:50:23.640Z"
   },
   {
    "duration": 17,
    "start_time": "2021-07-10T12:50:23.644Z"
   },
   {
    "duration": 8,
    "start_time": "2021-07-10T12:50:23.691Z"
   },
   {
    "duration": 2,
    "start_time": "2021-07-10T12:50:23.700Z"
   },
   {
    "duration": 243,
    "start_time": "2021-07-10T12:50:23.703Z"
   },
   {
    "duration": 231,
    "start_time": "2021-07-10T12:50:23.947Z"
   },
   {
    "duration": 214,
    "start_time": "2021-07-10T12:50:24.180Z"
   },
   {
    "duration": 233,
    "start_time": "2021-07-10T12:50:24.396Z"
   },
   {
    "duration": 296,
    "start_time": "2021-07-10T12:50:24.631Z"
   },
   {
    "duration": 7,
    "start_time": "2021-07-10T12:50:24.929Z"
   },
   {
    "duration": 11,
    "start_time": "2021-07-10T12:50:24.938Z"
   },
   {
    "duration": 13,
    "start_time": "2021-07-10T12:50:24.951Z"
   },
   {
    "duration": 32,
    "start_time": "2021-07-10T12:50:24.965Z"
   },
   {
    "duration": 537,
    "start_time": "2021-07-10T12:50:24.998Z"
   },
   {
    "duration": 602,
    "start_time": "2021-07-10T12:50:25.537Z"
   },
   {
    "duration": 5,
    "start_time": "2021-07-10T12:50:26.140Z"
   },
   {
    "duration": 18,
    "start_time": "2021-07-10T12:50:26.146Z"
   },
   {
    "duration": 19,
    "start_time": "2021-07-10T12:50:26.166Z"
   },
   {
    "duration": 21,
    "start_time": "2021-07-10T12:50:26.187Z"
   },
   {
    "duration": 987,
    "start_time": "2021-07-10T12:50:26.209Z"
   },
   {
    "duration": 6,
    "start_time": "2021-07-10T12:50:27.198Z"
   },
   {
    "duration": 9,
    "start_time": "2021-07-10T12:50:27.205Z"
   },
   {
    "duration": 14,
    "start_time": "2021-07-10T12:50:27.216Z"
   },
   {
    "duration": 28,
    "start_time": "2021-07-10T12:50:27.232Z"
   },
   {
    "duration": 7,
    "start_time": "2021-07-10T12:50:27.262Z"
   },
   {
    "duration": 12,
    "start_time": "2021-07-10T12:50:27.270Z"
   },
   {
    "duration": 32,
    "start_time": "2021-07-10T12:50:27.284Z"
   },
   {
    "duration": 8,
    "start_time": "2021-07-10T12:50:27.317Z"
   },
   {
    "duration": 20,
    "start_time": "2021-07-10T12:50:27.326Z"
   },
   {
    "duration": 19,
    "start_time": "2021-07-10T12:50:27.348Z"
   },
   {
    "duration": 28,
    "start_time": "2021-07-10T12:50:27.368Z"
   },
   {
    "duration": 9,
    "start_time": "2021-07-10T12:50:27.398Z"
   },
   {
    "duration": 18,
    "start_time": "2021-07-10T12:50:27.408Z"
   },
   {
    "duration": 21,
    "start_time": "2021-07-10T12:50:27.428Z"
   },
   {
    "duration": 15,
    "start_time": "2021-07-10T12:50:27.450Z"
   },
   {
    "duration": 11,
    "start_time": "2021-07-10T12:50:27.467Z"
   },
   {
    "duration": 8,
    "start_time": "2021-07-10T12:50:27.479Z"
   },
   {
    "duration": 17,
    "start_time": "2021-07-10T12:50:27.489Z"
   },
   {
    "duration": 25,
    "start_time": "2021-07-10T12:50:27.507Z"
   },
   {
    "duration": 38,
    "start_time": "2021-07-10T12:50:27.533Z"
   },
   {
    "duration": 612,
    "start_time": "2021-07-10T12:50:27.576Z"
   },
   {
    "duration": 603,
    "start_time": "2021-07-10T12:55:08.407Z"
   },
   {
    "duration": 538,
    "start_time": "2021-07-10T12:59:27.415Z"
   },
   {
    "duration": 5,
    "start_time": "2021-07-10T13:00:50.700Z"
   },
   {
    "duration": 2,
    "start_time": "2021-07-10T13:04:59.268Z"
   },
   {
    "duration": 559,
    "start_time": "2021-07-10T13:05:20.423Z"
   },
   {
    "duration": 641,
    "start_time": "2021-07-10T13:07:31.161Z"
   },
   {
    "duration": 26,
    "start_time": "2021-07-10T13:10:42.483Z"
   },
   {
    "duration": 622,
    "start_time": "2021-07-10T13:11:07.359Z"
   },
   {
    "duration": 3,
    "start_time": "2021-07-10T13:12:25.626Z"
   },
   {
    "duration": 528,
    "start_time": "2021-07-10T13:12:31.499Z"
   },
   {
    "duration": 3,
    "start_time": "2021-07-10T13:14:32.062Z"
   },
   {
    "duration": 709,
    "start_time": "2021-07-10T13:14:36.570Z"
   },
   {
    "duration": 3,
    "start_time": "2021-07-10T13:16:07.925Z"
   },
   {
    "duration": 566,
    "start_time": "2021-07-10T13:16:11.413Z"
   },
   {
    "duration": 3,
    "start_time": "2021-07-10T13:16:52.583Z"
   },
   {
    "duration": 540,
    "start_time": "2021-07-10T13:16:56.946Z"
   },
   {
    "duration": 79,
    "start_time": "2021-07-10T13:17:15.479Z"
   },
   {
    "duration": 88,
    "start_time": "2021-07-10T13:18:02.315Z"
   },
   {
    "duration": 286,
    "start_time": "2021-07-10T13:18:07.121Z"
   },
   {
    "duration": 78,
    "start_time": "2021-07-10T13:21:57.852Z"
   },
   {
    "duration": 77,
    "start_time": "2021-07-10T13:22:29.735Z"
   },
   {
    "duration": 77,
    "start_time": "2021-07-10T13:22:48.053Z"
   },
   {
    "duration": 75,
    "start_time": "2021-07-10T13:23:05.838Z"
   },
   {
    "duration": 228,
    "start_time": "2021-07-10T13:29:22.188Z"
   },
   {
    "duration": 1145,
    "start_time": "2021-07-10T13:29:31.194Z"
   },
   {
    "duration": 286,
    "start_time": "2021-07-10T13:29:32.341Z"
   },
   {
    "duration": 14,
    "start_time": "2021-07-10T13:29:32.629Z"
   },
   {
    "duration": 106,
    "start_time": "2021-07-10T13:29:32.645Z"
   },
   {
    "duration": 6,
    "start_time": "2021-07-10T13:29:32.752Z"
   },
   {
    "duration": 262,
    "start_time": "2021-07-10T13:29:32.759Z"
   },
   {
    "duration": 12,
    "start_time": "2021-07-10T13:29:33.023Z"
   },
   {
    "duration": 94,
    "start_time": "2021-07-10T13:29:33.037Z"
   },
   {
    "duration": 9,
    "start_time": "2021-07-10T13:29:33.133Z"
   },
   {
    "duration": 108,
    "start_time": "2021-07-10T13:29:33.144Z"
   },
   {
    "duration": 444,
    "start_time": "2021-07-10T13:29:33.254Z"
   },
   {
    "duration": 15,
    "start_time": "2021-07-10T13:29:33.700Z"
   },
   {
    "duration": 3,
    "start_time": "2021-07-10T13:29:33.716Z"
   },
   {
    "duration": 11,
    "start_time": "2021-07-10T13:29:33.721Z"
   },
   {
    "duration": 9,
    "start_time": "2021-07-10T13:29:33.733Z"
   },
   {
    "duration": 8,
    "start_time": "2021-07-10T13:29:33.743Z"
   },
   {
    "duration": 40,
    "start_time": "2021-07-10T13:29:33.752Z"
   },
   {
    "duration": 5,
    "start_time": "2021-07-10T13:29:33.794Z"
   },
   {
    "duration": 10,
    "start_time": "2021-07-10T13:29:33.800Z"
   },
   {
    "duration": 14,
    "start_time": "2021-07-10T13:29:33.811Z"
   },
   {
    "duration": 5,
    "start_time": "2021-07-10T13:29:33.827Z"
   },
   {
    "duration": 64,
    "start_time": "2021-07-10T13:29:33.833Z"
   },
   {
    "duration": 8,
    "start_time": "2021-07-10T13:29:33.900Z"
   },
   {
    "duration": 9,
    "start_time": "2021-07-10T13:29:33.910Z"
   },
   {
    "duration": 5,
    "start_time": "2021-07-10T13:29:33.920Z"
   },
   {
    "duration": 14,
    "start_time": "2021-07-10T13:29:33.926Z"
   },
   {
    "duration": 7,
    "start_time": "2021-07-10T13:29:33.941Z"
   },
   {
    "duration": 3,
    "start_time": "2021-07-10T13:29:33.949Z"
   },
   {
    "duration": 43,
    "start_time": "2021-07-10T13:29:33.953Z"
   },
   {
    "duration": 8,
    "start_time": "2021-07-10T13:29:33.997Z"
   },
   {
    "duration": 2,
    "start_time": "2021-07-10T13:29:34.007Z"
   },
   {
    "duration": 245,
    "start_time": "2021-07-10T13:29:34.010Z"
   },
   {
    "duration": 227,
    "start_time": "2021-07-10T13:29:34.256Z"
   },
   {
    "duration": 211,
    "start_time": "2021-07-10T13:29:34.484Z"
   },
   {
    "duration": 224,
    "start_time": "2021-07-10T13:29:34.696Z"
   },
   {
    "duration": 285,
    "start_time": "2021-07-10T13:29:34.921Z"
   },
   {
    "duration": 8,
    "start_time": "2021-07-10T13:29:35.208Z"
   },
   {
    "duration": 10,
    "start_time": "2021-07-10T13:29:35.218Z"
   },
   {
    "duration": 17,
    "start_time": "2021-07-10T13:29:35.230Z"
   },
   {
    "duration": 13,
    "start_time": "2021-07-10T13:29:35.248Z"
   },
   {
    "duration": 683,
    "start_time": "2021-07-10T13:29:35.262Z"
   },
   {
    "duration": 723,
    "start_time": "2021-07-10T13:29:35.946Z"
   },
   {
    "duration": 5,
    "start_time": "2021-07-10T13:29:36.671Z"
   },
   {
    "duration": 4,
    "start_time": "2021-07-10T13:29:36.678Z"
   },
   {
    "duration": 19,
    "start_time": "2021-07-10T13:29:36.684Z"
   },
   {
    "duration": 20,
    "start_time": "2021-07-10T13:29:36.704Z"
   },
   {
    "duration": 1080,
    "start_time": "2021-07-10T13:29:36.725Z"
   },
   {
    "duration": 6,
    "start_time": "2021-07-10T13:29:37.806Z"
   },
   {
    "duration": 5,
    "start_time": "2021-07-10T13:29:37.814Z"
   },
   {
    "duration": 7,
    "start_time": "2021-07-10T13:29:37.821Z"
   },
   {
    "duration": 19,
    "start_time": "2021-07-10T13:29:37.829Z"
   },
   {
    "duration": 8,
    "start_time": "2021-07-10T13:29:37.849Z"
   },
   {
    "duration": 5,
    "start_time": "2021-07-10T13:29:37.858Z"
   },
   {
    "duration": 43,
    "start_time": "2021-07-10T13:29:37.865Z"
   },
   {
    "duration": 7,
    "start_time": "2021-07-10T13:29:37.910Z"
   },
   {
    "duration": 5,
    "start_time": "2021-07-10T13:29:37.919Z"
   },
   {
    "duration": 25,
    "start_time": "2021-07-10T13:29:37.926Z"
   },
   {
    "duration": 40,
    "start_time": "2021-07-10T13:29:37.952Z"
   },
   {
    "duration": 4,
    "start_time": "2021-07-10T13:29:37.993Z"
   },
   {
    "duration": 4,
    "start_time": "2021-07-10T13:29:37.999Z"
   },
   {
    "duration": 17,
    "start_time": "2021-07-10T13:29:38.004Z"
   },
   {
    "duration": 4,
    "start_time": "2021-07-10T13:29:38.023Z"
   },
   {
    "duration": 11,
    "start_time": "2021-07-10T13:29:38.029Z"
   },
   {
    "duration": 8,
    "start_time": "2021-07-10T13:29:38.041Z"
   },
   {
    "duration": 6,
    "start_time": "2021-07-10T13:29:38.051Z"
   },
   {
    "duration": 34,
    "start_time": "2021-07-10T13:29:38.058Z"
   },
   {
    "duration": 309,
    "start_time": "2021-07-10T13:29:38.094Z"
   },
   {
    "duration": 80,
    "start_time": "2021-07-10T13:29:59.055Z"
   },
   {
    "duration": 1166,
    "start_time": "2021-07-10T13:34:57.462Z"
   },
   {
    "duration": 284,
    "start_time": "2021-07-10T13:34:58.630Z"
   },
   {
    "duration": 14,
    "start_time": "2021-07-10T13:34:58.916Z"
   },
   {
    "duration": 107,
    "start_time": "2021-07-10T13:34:58.931Z"
   },
   {
    "duration": 5,
    "start_time": "2021-07-10T13:34:59.040Z"
   },
   {
    "duration": 262,
    "start_time": "2021-07-10T13:34:59.047Z"
   },
   {
    "duration": 13,
    "start_time": "2021-07-10T13:34:59.310Z"
   },
   {
    "duration": 94,
    "start_time": "2021-07-10T13:34:59.326Z"
   },
   {
    "duration": 8,
    "start_time": "2021-07-10T13:34:59.423Z"
   },
   {
    "duration": 108,
    "start_time": "2021-07-10T13:34:59.433Z"
   },
   {
    "duration": 349,
    "start_time": "2021-07-10T13:34:59.542Z"
   },
   {
    "duration": 13,
    "start_time": "2021-07-10T13:34:59.893Z"
   },
   {
    "duration": 2,
    "start_time": "2021-07-10T13:34:59.908Z"
   },
   {
    "duration": 16,
    "start_time": "2021-07-10T13:34:59.911Z"
   },
   {
    "duration": 7,
    "start_time": "2021-07-10T13:34:59.929Z"
   },
   {
    "duration": 7,
    "start_time": "2021-07-10T13:34:59.937Z"
   },
   {
    "duration": 4,
    "start_time": "2021-07-10T13:34:59.945Z"
   },
   {
    "duration": 10,
    "start_time": "2021-07-10T13:34:59.951Z"
   },
   {
    "duration": 33,
    "start_time": "2021-07-10T13:34:59.962Z"
   },
   {
    "duration": 16,
    "start_time": "2021-07-10T13:34:59.997Z"
   },
   {
    "duration": 5,
    "start_time": "2021-07-10T13:35:00.015Z"
   },
   {
    "duration": 41,
    "start_time": "2021-07-10T13:35:00.022Z"
   },
   {
    "duration": 25,
    "start_time": "2021-07-10T13:35:00.067Z"
   },
   {
    "duration": 11,
    "start_time": "2021-07-10T13:35:00.095Z"
   },
   {
    "duration": 6,
    "start_time": "2021-07-10T13:35:00.108Z"
   },
   {
    "duration": 14,
    "start_time": "2021-07-10T13:35:00.115Z"
   },
   {
    "duration": 7,
    "start_time": "2021-07-10T13:35:00.131Z"
   },
   {
    "duration": 3,
    "start_time": "2021-07-10T13:35:00.140Z"
   },
   {
    "duration": 48,
    "start_time": "2021-07-10T13:35:00.145Z"
   },
   {
    "duration": 10,
    "start_time": "2021-07-10T13:35:00.195Z"
   },
   {
    "duration": 2,
    "start_time": "2021-07-10T13:35:00.207Z"
   },
   {
    "duration": 260,
    "start_time": "2021-07-10T13:35:00.210Z"
   },
   {
    "duration": 224,
    "start_time": "2021-07-10T13:35:00.472Z"
   },
   {
    "duration": 217,
    "start_time": "2021-07-10T13:35:00.698Z"
   },
   {
    "duration": 229,
    "start_time": "2021-07-10T13:35:00.916Z"
   },
   {
    "duration": 288,
    "start_time": "2021-07-10T13:35:01.146Z"
   },
   {
    "duration": 8,
    "start_time": "2021-07-10T13:35:01.435Z"
   },
   {
    "duration": 16,
    "start_time": "2021-07-10T13:35:01.444Z"
   },
   {
    "duration": 17,
    "start_time": "2021-07-10T13:35:01.461Z"
   },
   {
    "duration": 13,
    "start_time": "2021-07-10T13:35:01.491Z"
   },
   {
    "duration": 533,
    "start_time": "2021-07-10T13:35:01.505Z"
   },
   {
    "duration": 604,
    "start_time": "2021-07-10T13:35:02.039Z"
   },
   {
    "duration": 4,
    "start_time": "2021-07-10T13:35:02.645Z"
   },
   {
    "duration": 17,
    "start_time": "2021-07-10T13:35:02.651Z"
   },
   {
    "duration": 14,
    "start_time": "2021-07-10T13:35:02.670Z"
   },
   {
    "duration": 25,
    "start_time": "2021-07-10T13:35:02.686Z"
   },
   {
    "duration": 966,
    "start_time": "2021-07-10T13:35:02.712Z"
   },
   {
    "duration": 6,
    "start_time": "2021-07-10T13:35:03.679Z"
   },
   {
    "duration": 7,
    "start_time": "2021-07-10T13:35:03.686Z"
   },
   {
    "duration": 4,
    "start_time": "2021-07-10T13:35:03.694Z"
   },
   {
    "duration": 15,
    "start_time": "2021-07-10T13:35:03.700Z"
   },
   {
    "duration": 6,
    "start_time": "2021-07-10T13:35:03.716Z"
   },
   {
    "duration": 4,
    "start_time": "2021-07-10T13:35:03.724Z"
   },
   {
    "duration": 21,
    "start_time": "2021-07-10T13:35:03.729Z"
   },
   {
    "duration": 6,
    "start_time": "2021-07-10T13:35:03.751Z"
   },
   {
    "duration": 36,
    "start_time": "2021-07-10T13:35:03.758Z"
   },
   {
    "duration": 18,
    "start_time": "2021-07-10T13:35:03.795Z"
   },
   {
    "duration": 12,
    "start_time": "2021-07-10T13:35:03.815Z"
   },
   {
    "duration": 4,
    "start_time": "2021-07-10T13:35:03.828Z"
   },
   {
    "duration": 12,
    "start_time": "2021-07-10T13:35:03.833Z"
   },
   {
    "duration": 16,
    "start_time": "2021-07-10T13:35:03.846Z"
   },
   {
    "duration": 7,
    "start_time": "2021-07-10T13:35:03.863Z"
   },
   {
    "duration": 20,
    "start_time": "2021-07-10T13:35:03.871Z"
   },
   {
    "duration": 6,
    "start_time": "2021-07-10T13:35:03.893Z"
   },
   {
    "duration": 7,
    "start_time": "2021-07-10T13:35:03.901Z"
   },
   {
    "duration": 30,
    "start_time": "2021-07-10T13:35:03.909Z"
   },
   {
    "duration": 84,
    "start_time": "2021-07-10T13:35:03.941Z"
   },
   {
    "duration": 1610,
    "start_time": "2021-07-10T13:42:49.578Z"
   },
   {
    "duration": 396,
    "start_time": "2021-07-10T13:42:51.192Z"
   },
   {
    "duration": 20,
    "start_time": "2021-07-10T13:42:51.591Z"
   },
   {
    "duration": 151,
    "start_time": "2021-07-10T13:42:51.613Z"
   },
   {
    "duration": 9,
    "start_time": "2021-07-10T13:42:51.766Z"
   },
   {
    "duration": 296,
    "start_time": "2021-07-10T13:42:51.777Z"
   },
   {
    "duration": 22,
    "start_time": "2021-07-10T13:42:52.075Z"
   },
   {
    "duration": 94,
    "start_time": "2021-07-10T13:42:52.099Z"
   },
   {
    "duration": 9,
    "start_time": "2021-07-10T13:42:52.195Z"
   },
   {
    "duration": 106,
    "start_time": "2021-07-10T13:42:52.206Z"
   },
   {
    "duration": 463,
    "start_time": "2021-07-10T13:42:52.314Z"
   },
   {
    "duration": 29,
    "start_time": "2021-07-10T13:42:52.779Z"
   },
   {
    "duration": 3,
    "start_time": "2021-07-10T13:42:52.810Z"
   },
   {
    "duration": 22,
    "start_time": "2021-07-10T13:42:52.815Z"
   },
   {
    "duration": 10,
    "start_time": "2021-07-10T13:42:52.839Z"
   },
   {
    "duration": 8,
    "start_time": "2021-07-10T13:42:52.851Z"
   },
   {
    "duration": 12,
    "start_time": "2021-07-10T13:42:52.860Z"
   },
   {
    "duration": 20,
    "start_time": "2021-07-10T13:42:52.874Z"
   },
   {
    "duration": 22,
    "start_time": "2021-07-10T13:42:52.896Z"
   },
   {
    "duration": 30,
    "start_time": "2021-07-10T13:42:52.920Z"
   },
   {
    "duration": 9,
    "start_time": "2021-07-10T13:42:52.952Z"
   },
   {
    "duration": 56,
    "start_time": "2021-07-10T13:42:52.962Z"
   },
   {
    "duration": 7,
    "start_time": "2021-07-10T13:42:53.022Z"
   },
   {
    "duration": 14,
    "start_time": "2021-07-10T13:42:53.031Z"
   },
   {
    "duration": 18,
    "start_time": "2021-07-10T13:42:53.047Z"
   },
   {
    "duration": 30,
    "start_time": "2021-07-10T13:42:53.066Z"
   },
   {
    "duration": 7,
    "start_time": "2021-07-10T13:42:53.098Z"
   },
   {
    "duration": 19,
    "start_time": "2021-07-10T13:42:53.107Z"
   },
   {
    "duration": 17,
    "start_time": "2021-07-10T13:42:53.128Z"
   },
   {
    "duration": 8,
    "start_time": "2021-07-10T13:42:53.147Z"
   },
   {
    "duration": 2,
    "start_time": "2021-07-10T13:42:53.156Z"
   },
   {
    "duration": 294,
    "start_time": "2021-07-10T13:42:53.160Z"
   },
   {
    "duration": 309,
    "start_time": "2021-07-10T13:42:53.456Z"
   },
   {
    "duration": 281,
    "start_time": "2021-07-10T13:42:53.767Z"
   },
   {
    "duration": 265,
    "start_time": "2021-07-10T13:42:54.050Z"
   },
   {
    "duration": 392,
    "start_time": "2021-07-10T13:42:54.317Z"
   },
   {
    "duration": 11,
    "start_time": "2021-07-10T13:42:54.712Z"
   },
   {
    "duration": 10,
    "start_time": "2021-07-10T13:42:54.725Z"
   },
   {
    "duration": 15,
    "start_time": "2021-07-10T13:42:54.736Z"
   },
   {
    "duration": 39,
    "start_time": "2021-07-10T13:42:54.753Z"
   },
   {
    "duration": 716,
    "start_time": "2021-07-10T13:42:54.794Z"
   },
   {
    "duration": 605,
    "start_time": "2021-07-10T13:42:55.512Z"
   },
   {
    "duration": 6,
    "start_time": "2021-07-10T13:42:56.119Z"
   },
   {
    "duration": 10,
    "start_time": "2021-07-10T13:42:56.128Z"
   },
   {
    "duration": 14,
    "start_time": "2021-07-10T13:42:56.140Z"
   },
   {
    "duration": 51,
    "start_time": "2021-07-10T13:42:56.155Z"
   },
   {
    "duration": 1142,
    "start_time": "2021-07-10T13:42:56.208Z"
   },
   {
    "duration": 7,
    "start_time": "2021-07-10T13:42:57.351Z"
   },
   {
    "duration": 5,
    "start_time": "2021-07-10T13:42:57.360Z"
   },
   {
    "duration": 7,
    "start_time": "2021-07-10T13:42:57.366Z"
   },
   {
    "duration": 35,
    "start_time": "2021-07-10T13:42:57.374Z"
   },
   {
    "duration": 8,
    "start_time": "2021-07-10T13:42:57.410Z"
   },
   {
    "duration": 4,
    "start_time": "2021-07-10T13:42:57.419Z"
   },
   {
    "duration": 19,
    "start_time": "2021-07-10T13:42:57.424Z"
   },
   {
    "duration": 8,
    "start_time": "2021-07-10T13:42:57.445Z"
   },
   {
    "duration": 38,
    "start_time": "2021-07-10T13:42:57.454Z"
   },
   {
    "duration": 19,
    "start_time": "2021-07-10T13:42:57.494Z"
   },
   {
    "duration": 11,
    "start_time": "2021-07-10T13:42:57.515Z"
   },
   {
    "duration": 4,
    "start_time": "2021-07-10T13:42:57.527Z"
   },
   {
    "duration": 7,
    "start_time": "2021-07-10T13:42:57.533Z"
   },
   {
    "duration": 19,
    "start_time": "2021-07-10T13:42:57.542Z"
   },
   {
    "duration": 28,
    "start_time": "2021-07-10T13:42:57.563Z"
   },
   {
    "duration": 4,
    "start_time": "2021-07-10T13:42:57.593Z"
   },
   {
    "duration": 4,
    "start_time": "2021-07-10T13:42:57.599Z"
   },
   {
    "duration": 7,
    "start_time": "2021-07-10T13:42:57.605Z"
   },
   {
    "duration": 28,
    "start_time": "2021-07-10T13:42:57.613Z"
   },
   {
    "duration": 1152,
    "start_time": "2021-07-10T13:45:26.881Z"
   },
   {
    "duration": 275,
    "start_time": "2021-07-10T13:45:28.035Z"
   },
   {
    "duration": 13,
    "start_time": "2021-07-10T13:45:28.312Z"
   },
   {
    "duration": 110,
    "start_time": "2021-07-10T13:45:28.326Z"
   },
   {
    "duration": 5,
    "start_time": "2021-07-10T13:45:28.437Z"
   },
   {
    "duration": 258,
    "start_time": "2021-07-10T13:45:28.443Z"
   },
   {
    "duration": 13,
    "start_time": "2021-07-10T13:45:28.703Z"
   },
   {
    "duration": 91,
    "start_time": "2021-07-10T13:45:28.718Z"
   },
   {
    "duration": 8,
    "start_time": "2021-07-10T13:45:28.811Z"
   },
   {
    "duration": 106,
    "start_time": "2021-07-10T13:45:28.821Z"
   },
   {
    "duration": 345,
    "start_time": "2021-07-10T13:45:28.929Z"
   },
   {
    "duration": 19,
    "start_time": "2021-07-10T13:45:29.276Z"
   },
   {
    "duration": 3,
    "start_time": "2021-07-10T13:45:29.296Z"
   },
   {
    "duration": 10,
    "start_time": "2021-07-10T13:45:29.301Z"
   },
   {
    "duration": 7,
    "start_time": "2021-07-10T13:45:29.313Z"
   },
   {
    "duration": 6,
    "start_time": "2021-07-10T13:45:29.321Z"
   },
   {
    "duration": 4,
    "start_time": "2021-07-10T13:45:29.329Z"
   },
   {
    "duration": 8,
    "start_time": "2021-07-10T13:45:29.334Z"
   },
   {
    "duration": 11,
    "start_time": "2021-07-10T13:45:29.343Z"
   },
   {
    "duration": 49,
    "start_time": "2021-07-10T13:45:29.355Z"
   },
   {
    "duration": 5,
    "start_time": "2021-07-10T13:45:29.405Z"
   },
   {
    "duration": 37,
    "start_time": "2021-07-10T13:45:29.412Z"
   },
   {
    "duration": 7,
    "start_time": "2021-07-10T13:45:29.453Z"
   },
   {
    "duration": 31,
    "start_time": "2021-07-10T13:45:29.463Z"
   },
   {
    "duration": 6,
    "start_time": "2021-07-10T13:45:29.495Z"
   },
   {
    "duration": 15,
    "start_time": "2021-07-10T13:45:29.503Z"
   },
   {
    "duration": 8,
    "start_time": "2021-07-10T13:45:29.520Z"
   },
   {
    "duration": 3,
    "start_time": "2021-07-10T13:45:29.530Z"
   },
   {
    "duration": 23,
    "start_time": "2021-07-10T13:45:29.535Z"
   },
   {
    "duration": 35,
    "start_time": "2021-07-10T13:45:29.560Z"
   },
   {
    "duration": 2,
    "start_time": "2021-07-10T13:45:29.596Z"
   },
   {
    "duration": 244,
    "start_time": "2021-07-10T13:45:29.600Z"
   },
   {
    "duration": 221,
    "start_time": "2021-07-10T13:45:29.846Z"
   },
   {
    "duration": 220,
    "start_time": "2021-07-10T13:45:30.068Z"
   },
   {
    "duration": 230,
    "start_time": "2021-07-10T13:45:30.290Z"
   },
   {
    "duration": 300,
    "start_time": "2021-07-10T13:45:30.521Z"
   },
   {
    "duration": 7,
    "start_time": "2021-07-10T13:45:30.823Z"
   },
   {
    "duration": 15,
    "start_time": "2021-07-10T13:45:30.832Z"
   },
   {
    "duration": 23,
    "start_time": "2021-07-10T13:45:30.848Z"
   },
   {
    "duration": 23,
    "start_time": "2021-07-10T13:45:30.873Z"
   },
   {
    "duration": 539,
    "start_time": "2021-07-10T13:45:30.898Z"
   },
   {
    "duration": 532,
    "start_time": "2021-07-10T13:45:31.438Z"
   },
   {
    "duration": 5,
    "start_time": "2021-07-10T13:45:31.972Z"
   },
   {
    "duration": 14,
    "start_time": "2021-07-10T13:45:31.978Z"
   },
   {
    "duration": 23,
    "start_time": "2021-07-10T13:45:31.993Z"
   },
   {
    "duration": 22,
    "start_time": "2021-07-10T13:45:32.017Z"
   },
   {
    "duration": 1058,
    "start_time": "2021-07-10T13:45:32.041Z"
   },
   {
    "duration": 6,
    "start_time": "2021-07-10T13:45:33.100Z"
   },
   {
    "duration": 21,
    "start_time": "2021-07-10T13:45:33.108Z"
   },
   {
    "duration": 20,
    "start_time": "2021-07-10T13:45:33.130Z"
   },
   {
    "duration": 22,
    "start_time": "2021-07-10T13:45:33.152Z"
   },
   {
    "duration": 16,
    "start_time": "2021-07-10T13:45:33.175Z"
   },
   {
    "duration": 13,
    "start_time": "2021-07-10T13:45:33.192Z"
   },
   {
    "duration": 23,
    "start_time": "2021-07-10T13:45:33.206Z"
   },
   {
    "duration": 15,
    "start_time": "2021-07-10T13:45:33.230Z"
   },
   {
    "duration": 12,
    "start_time": "2021-07-10T13:45:33.246Z"
   },
   {
    "duration": 30,
    "start_time": "2021-07-10T13:45:33.259Z"
   },
   {
    "duration": 11,
    "start_time": "2021-07-10T13:45:33.291Z"
   },
   {
    "duration": 3,
    "start_time": "2021-07-10T13:45:33.303Z"
   },
   {
    "duration": 14,
    "start_time": "2021-07-10T13:45:33.307Z"
   },
   {
    "duration": 19,
    "start_time": "2021-07-10T13:45:33.323Z"
   },
   {
    "duration": 11,
    "start_time": "2021-07-10T13:45:33.344Z"
   },
   {
    "duration": 14,
    "start_time": "2021-07-10T13:45:33.356Z"
   },
   {
    "duration": 13,
    "start_time": "2021-07-10T13:45:33.371Z"
   },
   {
    "duration": 8,
    "start_time": "2021-07-10T13:45:33.386Z"
   },
   {
    "duration": 29,
    "start_time": "2021-07-10T13:45:33.395Z"
   },
   {
    "duration": 1205,
    "start_time": "2021-07-10T13:50:12.588Z"
   },
   {
    "duration": 272,
    "start_time": "2021-07-10T13:50:13.795Z"
   },
   {
    "duration": 15,
    "start_time": "2021-07-10T13:50:14.069Z"
   },
   {
    "duration": 100,
    "start_time": "2021-07-10T13:50:14.092Z"
   },
   {
    "duration": 6,
    "start_time": "2021-07-10T13:50:14.194Z"
   },
   {
    "duration": 254,
    "start_time": "2021-07-10T13:50:14.201Z"
   },
   {
    "duration": 12,
    "start_time": "2021-07-10T13:50:14.457Z"
   },
   {
    "duration": 96,
    "start_time": "2021-07-10T13:50:14.472Z"
   },
   {
    "duration": 9,
    "start_time": "2021-07-10T13:50:14.570Z"
   },
   {
    "duration": 103,
    "start_time": "2021-07-10T13:50:14.581Z"
   },
   {
    "duration": 329,
    "start_time": "2021-07-10T13:50:14.691Z"
   },
   {
    "duration": 15,
    "start_time": "2021-07-10T13:50:15.021Z"
   },
   {
    "duration": 2,
    "start_time": "2021-07-10T13:50:15.038Z"
   },
   {
    "duration": 11,
    "start_time": "2021-07-10T13:50:15.042Z"
   },
   {
    "duration": 6,
    "start_time": "2021-07-10T13:50:15.055Z"
   },
   {
    "duration": 31,
    "start_time": "2021-07-10T13:50:15.062Z"
   },
   {
    "duration": 5,
    "start_time": "2021-07-10T13:50:15.094Z"
   },
   {
    "duration": 8,
    "start_time": "2021-07-10T13:50:15.100Z"
   },
   {
    "duration": 9,
    "start_time": "2021-07-10T13:50:15.109Z"
   },
   {
    "duration": 16,
    "start_time": "2021-07-10T13:50:15.119Z"
   },
   {
    "duration": 5,
    "start_time": "2021-07-10T13:50:15.137Z"
   },
   {
    "duration": 64,
    "start_time": "2021-07-10T13:50:15.143Z"
   },
   {
    "duration": 8,
    "start_time": "2021-07-10T13:50:15.210Z"
   },
   {
    "duration": 9,
    "start_time": "2021-07-10T13:50:15.220Z"
   },
   {
    "duration": 5,
    "start_time": "2021-07-10T13:50:15.230Z"
   },
   {
    "duration": 14,
    "start_time": "2021-07-10T13:50:15.237Z"
   },
   {
    "duration": 6,
    "start_time": "2021-07-10T13:50:15.252Z"
   },
   {
    "duration": 4,
    "start_time": "2021-07-10T13:50:15.260Z"
   },
   {
    "duration": 13,
    "start_time": "2021-07-10T13:50:15.291Z"
   },
   {
    "duration": 9,
    "start_time": "2021-07-10T13:50:15.305Z"
   },
   {
    "duration": 2,
    "start_time": "2021-07-10T13:50:15.315Z"
   },
   {
    "duration": 245,
    "start_time": "2021-07-10T13:50:15.319Z"
   },
   {
    "duration": 223,
    "start_time": "2021-07-10T13:50:15.565Z"
   },
   {
    "duration": 206,
    "start_time": "2021-07-10T13:50:15.790Z"
   },
   {
    "duration": 217,
    "start_time": "2021-07-10T13:50:15.998Z"
   },
   {
    "duration": 278,
    "start_time": "2021-07-10T13:50:16.216Z"
   },
   {
    "duration": 8,
    "start_time": "2021-07-10T13:50:16.496Z"
   },
   {
    "duration": 9,
    "start_time": "2021-07-10T13:50:16.505Z"
   },
   {
    "duration": 15,
    "start_time": "2021-07-10T13:50:16.515Z"
   },
   {
    "duration": 11,
    "start_time": "2021-07-10T13:50:16.532Z"
   },
   {
    "duration": 589,
    "start_time": "2021-07-10T13:50:16.545Z"
   },
   {
    "duration": 616,
    "start_time": "2021-07-10T13:50:17.136Z"
   },
   {
    "duration": 5,
    "start_time": "2021-07-10T13:50:17.753Z"
   },
   {
    "duration": 5,
    "start_time": "2021-07-10T13:50:17.760Z"
   },
   {
    "duration": 30,
    "start_time": "2021-07-10T13:50:17.767Z"
   },
   {
    "duration": 18,
    "start_time": "2021-07-10T13:50:17.799Z"
   },
   {
    "duration": 952,
    "start_time": "2021-07-10T13:50:17.819Z"
   },
   {
    "duration": 7,
    "start_time": "2021-07-10T13:50:18.773Z"
   },
   {
    "duration": 11,
    "start_time": "2021-07-10T13:50:18.781Z"
   },
   {
    "duration": 7,
    "start_time": "2021-07-10T13:50:18.794Z"
   },
   {
    "duration": 15,
    "start_time": "2021-07-10T13:50:18.802Z"
   },
   {
    "duration": 7,
    "start_time": "2021-07-10T13:50:18.819Z"
   },
   {
    "duration": 4,
    "start_time": "2021-07-10T13:50:18.827Z"
   },
   {
    "duration": 24,
    "start_time": "2021-07-10T13:50:18.833Z"
   },
   {
    "duration": 33,
    "start_time": "2021-07-10T13:50:18.858Z"
   },
   {
    "duration": 4,
    "start_time": "2021-07-10T13:50:18.893Z"
   },
   {
    "duration": 21,
    "start_time": "2021-07-10T13:50:18.898Z"
   },
   {
    "duration": 10,
    "start_time": "2021-07-10T13:50:18.920Z"
   },
   {
    "duration": 3,
    "start_time": "2021-07-10T13:50:18.932Z"
   },
   {
    "duration": 7,
    "start_time": "2021-07-10T13:50:18.937Z"
   },
   {
    "duration": 14,
    "start_time": "2021-07-10T13:50:18.945Z"
   },
   {
    "duration": 6,
    "start_time": "2021-07-10T13:50:18.961Z"
   },
   {
    "duration": 25,
    "start_time": "2021-07-10T13:50:18.968Z"
   },
   {
    "duration": 7,
    "start_time": "2021-07-10T13:50:18.994Z"
   },
   {
    "duration": 7,
    "start_time": "2021-07-10T13:50:19.003Z"
   },
   {
    "duration": 27,
    "start_time": "2021-07-10T13:50:19.012Z"
   },
   {
    "duration": 351979,
    "start_time": "2021-07-10T13:50:19.040Z"
   },
   {
    "duration": 179493,
    "start_time": "2021-07-10T14:03:14.927Z"
   },
   {
    "duration": 181389,
    "start_time": "2021-07-10T14:17:54.364Z"
   },
   {
    "duration": 318,
    "start_time": "2021-07-10T14:22:39.385Z"
   },
   {
    "duration": 236,
    "start_time": "2021-07-10T14:22:55.445Z"
   },
   {
    "duration": 3,
    "start_time": "2021-07-10T14:23:39.254Z"
   },
   {
    "duration": 172503,
    "start_time": "2021-07-10T14:23:55.026Z"
   },
   {
    "duration": 10,
    "start_time": "2021-07-10T14:34:53.595Z"
   },
   {
    "duration": 7,
    "start_time": "2021-07-10T14:35:04.196Z"
   },
   {
    "duration": 4,
    "start_time": "2021-07-10T14:36:13.637Z"
   },
   {
    "duration": 83984,
    "start_time": "2021-07-10T14:36:28.275Z"
   },
   {
    "duration": 3,
    "start_time": "2021-07-10T14:43:23.937Z"
   },
   {
    "duration": 53092,
    "start_time": "2021-07-10T14:43:25.539Z"
   },
   {
    "duration": 4,
    "start_time": "2021-07-10T14:46:13.034Z"
   },
   {
    "duration": 3,
    "start_time": "2021-07-10T14:46:15.511Z"
   },
   {
    "duration": 4,
    "start_time": "2021-07-10T14:46:24.042Z"
   },
   {
    "duration": 2099,
    "start_time": "2021-07-10T14:46:24.850Z"
   },
   {
    "duration": 1150,
    "start_time": "2021-07-10T14:47:01.874Z"
   },
   {
    "duration": 286,
    "start_time": "2021-07-10T14:47:03.026Z"
   },
   {
    "duration": 15,
    "start_time": "2021-07-10T14:47:03.314Z"
   },
   {
    "duration": 107,
    "start_time": "2021-07-10T14:47:03.330Z"
   },
   {
    "duration": 5,
    "start_time": "2021-07-10T14:47:03.438Z"
   },
   {
    "duration": 266,
    "start_time": "2021-07-10T14:47:03.445Z"
   },
   {
    "duration": 13,
    "start_time": "2021-07-10T14:47:03.713Z"
   },
   {
    "duration": 92,
    "start_time": "2021-07-10T14:47:03.728Z"
   },
   {
    "duration": 9,
    "start_time": "2021-07-10T14:47:03.822Z"
   },
   {
    "duration": 107,
    "start_time": "2021-07-10T14:47:03.832Z"
   },
   {
    "duration": 373,
    "start_time": "2021-07-10T14:47:03.941Z"
   },
   {
    "duration": 13,
    "start_time": "2021-07-10T14:47:04.316Z"
   },
   {
    "duration": 2,
    "start_time": "2021-07-10T14:47:04.331Z"
   },
   {
    "duration": 11,
    "start_time": "2021-07-10T14:47:04.334Z"
   },
   {
    "duration": 6,
    "start_time": "2021-07-10T14:47:04.347Z"
   },
   {
    "duration": 6,
    "start_time": "2021-07-10T14:47:04.355Z"
   },
   {
    "duration": 6,
    "start_time": "2021-07-10T14:47:04.362Z"
   },
   {
    "duration": 5,
    "start_time": "2021-07-10T14:47:04.391Z"
   },
   {
    "duration": 9,
    "start_time": "2021-07-10T14:47:04.398Z"
   },
   {
    "duration": 15,
    "start_time": "2021-07-10T14:47:04.409Z"
   },
   {
    "duration": 7,
    "start_time": "2021-07-10T14:47:04.426Z"
   },
   {
    "duration": 67,
    "start_time": "2021-07-10T14:47:04.434Z"
   },
   {
    "duration": 8,
    "start_time": "2021-07-10T14:47:04.505Z"
   },
   {
    "duration": 10,
    "start_time": "2021-07-10T14:47:04.516Z"
   },
   {
    "duration": 7,
    "start_time": "2021-07-10T14:47:04.528Z"
   },
   {
    "duration": 14,
    "start_time": "2021-07-10T14:47:04.536Z"
   },
   {
    "duration": 40,
    "start_time": "2021-07-10T14:47:04.552Z"
   },
   {
    "duration": 2,
    "start_time": "2021-07-10T14:47:04.594Z"
   },
   {
    "duration": 16,
    "start_time": "2021-07-10T14:47:04.597Z"
   },
   {
    "duration": 8,
    "start_time": "2021-07-10T14:47:04.615Z"
   },
   {
    "duration": 2,
    "start_time": "2021-07-10T14:47:04.624Z"
   },
   {
    "duration": 252,
    "start_time": "2021-07-10T14:47:04.627Z"
   },
   {
    "duration": 225,
    "start_time": "2021-07-10T14:47:04.881Z"
   },
   {
    "duration": 209,
    "start_time": "2021-07-10T14:47:05.107Z"
   },
   {
    "duration": 223,
    "start_time": "2021-07-10T14:47:05.317Z"
   },
   {
    "duration": 287,
    "start_time": "2021-07-10T14:47:05.542Z"
   },
   {
    "duration": 8,
    "start_time": "2021-07-10T14:47:05.831Z"
   },
   {
    "duration": 25,
    "start_time": "2021-07-10T14:47:05.840Z"
   },
   {
    "duration": 19,
    "start_time": "2021-07-10T14:47:05.866Z"
   },
   {
    "duration": 11,
    "start_time": "2021-07-10T14:47:05.887Z"
   },
   {
    "duration": 645,
    "start_time": "2021-07-10T14:47:05.900Z"
   },
   {
    "duration": 724,
    "start_time": "2021-07-10T14:47:06.546Z"
   },
   {
    "duration": 5,
    "start_time": "2021-07-10T14:47:07.272Z"
   },
   {
    "duration": 14,
    "start_time": "2021-07-10T14:47:07.278Z"
   },
   {
    "duration": 10,
    "start_time": "2021-07-10T14:47:07.293Z"
   },
   {
    "duration": 18,
    "start_time": "2021-07-10T14:47:07.305Z"
   },
   {
    "duration": 1073,
    "start_time": "2021-07-10T14:47:07.324Z"
   },
   {
    "duration": 6,
    "start_time": "2021-07-10T14:47:08.399Z"
   },
   {
    "duration": 5,
    "start_time": "2021-07-10T14:47:08.406Z"
   },
   {
    "duration": 5,
    "start_time": "2021-07-10T14:47:08.412Z"
   },
   {
    "duration": 15,
    "start_time": "2021-07-10T14:47:08.418Z"
   },
   {
    "duration": 8,
    "start_time": "2021-07-10T14:47:08.434Z"
   },
   {
    "duration": 4,
    "start_time": "2021-07-10T14:47:08.444Z"
   },
   {
    "duration": 47,
    "start_time": "2021-07-10T14:47:08.449Z"
   },
   {
    "duration": 8,
    "start_time": "2021-07-10T14:47:08.497Z"
   },
   {
    "duration": 4,
    "start_time": "2021-07-10T14:47:08.507Z"
   },
   {
    "duration": 21,
    "start_time": "2021-07-10T14:47:08.512Z"
   },
   {
    "duration": 14,
    "start_time": "2021-07-10T14:47:08.535Z"
   },
   {
    "duration": 311,
    "start_time": "2021-07-10T14:47:08.550Z"
   },
   {
    "duration": -1161,
    "start_time": "2021-07-10T14:47:10.024Z"
   },
   {
    "duration": -1165,
    "start_time": "2021-07-10T14:47:10.029Z"
   },
   {
    "duration": -1169,
    "start_time": "2021-07-10T14:47:10.033Z"
   },
   {
    "duration": -1172,
    "start_time": "2021-07-10T14:47:10.037Z"
   },
   {
    "duration": -1175,
    "start_time": "2021-07-10T14:47:10.041Z"
   },
   {
    "duration": -1178,
    "start_time": "2021-07-10T14:47:10.045Z"
   },
   {
    "duration": -1181,
    "start_time": "2021-07-10T14:47:10.049Z"
   },
   {
    "duration": -1186,
    "start_time": "2021-07-10T14:47:10.055Z"
   },
   {
    "duration": -1191,
    "start_time": "2021-07-10T14:47:10.060Z"
   },
   {
    "duration": -1195,
    "start_time": "2021-07-10T14:47:10.065Z"
   },
   {
    "duration": -1198,
    "start_time": "2021-07-10T14:47:10.069Z"
   },
   {
    "duration": 4,
    "start_time": "2021-07-10T14:47:45.352Z"
   },
   {
    "duration": 3,
    "start_time": "2021-07-10T14:47:52.901Z"
   },
   {
    "duration": 11,
    "start_time": "2021-07-10T14:47:54.058Z"
   },
   {
    "duration": 4,
    "start_time": "2021-07-10T14:47:54.967Z"
   },
   {
    "duration": 5,
    "start_time": "2021-07-10T14:47:55.796Z"
   },
   {
    "duration": 4,
    "start_time": "2021-07-10T14:47:56.445Z"
   },
   {
    "duration": 3,
    "start_time": "2021-07-10T14:47:57.717Z"
   },
   {
    "duration": 25,
    "start_time": "2021-07-10T14:47:58.257Z"
   },
   {
    "duration": 3,
    "start_time": "2021-07-10T14:48:00.214Z"
   },
   {
    "duration": 4,
    "start_time": "2021-07-10T14:48:01.862Z"
   },
   {
    "duration": 1997,
    "start_time": "2021-07-10T14:48:02.426Z"
   },
   {
    "duration": 5,
    "start_time": "2021-07-10T14:48:53.801Z"
   },
   {
    "duration": 264,
    "start_time": "2021-07-10T14:49:43.708Z"
   },
   {
    "duration": 1113,
    "start_time": "2021-07-10T14:49:51.625Z"
   },
   {
    "duration": 308,
    "start_time": "2021-07-10T14:49:52.740Z"
   },
   {
    "duration": 14,
    "start_time": "2021-07-10T14:49:53.050Z"
   },
   {
    "duration": 112,
    "start_time": "2021-07-10T14:49:53.066Z"
   },
   {
    "duration": 12,
    "start_time": "2021-07-10T14:49:53.180Z"
   },
   {
    "duration": 265,
    "start_time": "2021-07-10T14:49:53.193Z"
   },
   {
    "duration": 13,
    "start_time": "2021-07-10T14:49:53.460Z"
   },
   {
    "duration": 94,
    "start_time": "2021-07-10T14:49:53.476Z"
   },
   {
    "duration": 22,
    "start_time": "2021-07-10T14:49:53.572Z"
   },
   {
    "duration": 104,
    "start_time": "2021-07-10T14:49:53.596Z"
   },
   {
    "duration": 381,
    "start_time": "2021-07-10T14:49:53.702Z"
   },
   {
    "duration": 20,
    "start_time": "2021-07-10T14:49:54.085Z"
   },
   {
    "duration": 3,
    "start_time": "2021-07-10T14:49:54.107Z"
   },
   {
    "duration": 14,
    "start_time": "2021-07-10T14:49:54.112Z"
   },
   {
    "duration": 9,
    "start_time": "2021-07-10T14:49:54.127Z"
   },
   {
    "duration": 8,
    "start_time": "2021-07-10T14:49:54.138Z"
   },
   {
    "duration": 6,
    "start_time": "2021-07-10T14:49:54.147Z"
   },
   {
    "duration": 41,
    "start_time": "2021-07-10T14:49:54.154Z"
   },
   {
    "duration": 12,
    "start_time": "2021-07-10T14:49:54.196Z"
   },
   {
    "duration": 18,
    "start_time": "2021-07-10T14:49:54.209Z"
   },
   {
    "duration": 7,
    "start_time": "2021-07-10T14:49:54.228Z"
   },
   {
    "duration": 70,
    "start_time": "2021-07-10T14:49:54.237Z"
   },
   {
    "duration": 8,
    "start_time": "2021-07-10T14:49:54.311Z"
   },
   {
    "duration": 12,
    "start_time": "2021-07-10T14:49:54.322Z"
   },
   {
    "duration": 7,
    "start_time": "2021-07-10T14:49:54.336Z"
   },
   {
    "duration": 16,
    "start_time": "2021-07-10T14:49:54.345Z"
   },
   {
    "duration": 29,
    "start_time": "2021-07-10T14:49:54.363Z"
   },
   {
    "duration": 3,
    "start_time": "2021-07-10T14:49:54.394Z"
   },
   {
    "duration": 20,
    "start_time": "2021-07-10T14:49:54.398Z"
   },
   {
    "duration": 11,
    "start_time": "2021-07-10T14:49:54.420Z"
   },
   {
    "duration": 2,
    "start_time": "2021-07-10T14:49:54.433Z"
   },
   {
    "duration": 376,
    "start_time": "2021-07-10T14:49:54.437Z"
   },
   {
    "duration": 368,
    "start_time": "2021-07-10T14:49:54.815Z"
   },
   {
    "duration": 229,
    "start_time": "2021-07-10T14:49:55.185Z"
   },
   {
    "duration": 246,
    "start_time": "2021-07-10T14:49:55.416Z"
   },
   {
    "duration": 310,
    "start_time": "2021-07-10T14:49:55.663Z"
   },
   {
    "duration": 16,
    "start_time": "2021-07-10T14:49:55.975Z"
   },
   {
    "duration": 7,
    "start_time": "2021-07-10T14:49:55.993Z"
   },
   {
    "duration": 16,
    "start_time": "2021-07-10T14:49:56.002Z"
   },
   {
    "duration": 14,
    "start_time": "2021-07-10T14:49:56.019Z"
   },
   {
    "duration": 728,
    "start_time": "2021-07-10T14:49:56.035Z"
   },
   {
    "duration": 722,
    "start_time": "2021-07-10T14:49:56.765Z"
   },
   {
    "duration": 5,
    "start_time": "2021-07-10T14:49:57.489Z"
   },
   {
    "duration": 8,
    "start_time": "2021-07-10T14:49:57.495Z"
   },
   {
    "duration": 10,
    "start_time": "2021-07-10T14:49:57.504Z"
   },
   {
    "duration": 19,
    "start_time": "2021-07-10T14:49:57.516Z"
   },
   {
    "duration": 1040,
    "start_time": "2021-07-10T14:49:57.537Z"
   },
   {
    "duration": 6,
    "start_time": "2021-07-10T14:49:58.579Z"
   },
   {
    "duration": 8,
    "start_time": "2021-07-10T14:49:58.591Z"
   },
   {
    "duration": 6,
    "start_time": "2021-07-10T14:49:58.600Z"
   },
   {
    "duration": 17,
    "start_time": "2021-07-10T14:49:58.608Z"
   },
   {
    "duration": 7,
    "start_time": "2021-07-10T14:49:58.627Z"
   },
   {
    "duration": 10,
    "start_time": "2021-07-10T14:49:58.635Z"
   },
   {
    "duration": 22,
    "start_time": "2021-07-10T14:49:58.647Z"
   },
   {
    "duration": 22,
    "start_time": "2021-07-10T14:49:58.671Z"
   },
   {
    "duration": 4,
    "start_time": "2021-07-10T14:49:58.694Z"
   },
   {
    "duration": 22,
    "start_time": "2021-07-10T14:49:58.700Z"
   },
   {
    "duration": 11,
    "start_time": "2021-07-10T14:49:58.724Z"
   },
   {
    "duration": 5,
    "start_time": "2021-07-10T14:49:58.736Z"
   },
   {
    "duration": 22,
    "start_time": "2021-07-10T14:49:58.742Z"
   },
   {
    "duration": 19,
    "start_time": "2021-07-10T14:49:58.765Z"
   },
   {
    "duration": 8,
    "start_time": "2021-07-10T14:49:58.785Z"
   },
   {
    "duration": 12,
    "start_time": "2021-07-10T14:49:58.794Z"
   },
   {
    "duration": 17,
    "start_time": "2021-07-10T14:49:58.808Z"
   },
   {
    "duration": 15,
    "start_time": "2021-07-10T14:49:58.827Z"
   },
   {
    "duration": 348,
    "start_time": "2021-07-10T14:49:58.844Z"
   },
   {
    "duration": -1168,
    "start_time": "2021-07-10T14:50:00.362Z"
   },
   {
    "duration": -1171,
    "start_time": "2021-07-10T14:50:00.367Z"
   },
   {
    "duration": -1174,
    "start_time": "2021-07-10T14:50:00.371Z"
   },
   {
    "duration": -1178,
    "start_time": "2021-07-10T14:50:00.376Z"
   },
   {
    "duration": 244,
    "start_time": "2021-07-10T14:52:22.569Z"
   },
   {
    "duration": 1101,
    "start_time": "2021-07-10T14:52:36.959Z"
   },
   {
    "duration": 283,
    "start_time": "2021-07-10T14:52:38.062Z"
   },
   {
    "duration": 15,
    "start_time": "2021-07-10T14:52:38.346Z"
   },
   {
    "duration": 108,
    "start_time": "2021-07-10T14:52:38.363Z"
   },
   {
    "duration": 6,
    "start_time": "2021-07-10T14:52:38.472Z"
   },
   {
    "duration": 267,
    "start_time": "2021-07-10T14:52:38.479Z"
   },
   {
    "duration": 13,
    "start_time": "2021-07-10T14:52:38.748Z"
   },
   {
    "duration": 102,
    "start_time": "2021-07-10T14:52:38.763Z"
   },
   {
    "duration": 8,
    "start_time": "2021-07-10T14:52:38.867Z"
   },
   {
    "duration": 105,
    "start_time": "2021-07-10T14:52:38.877Z"
   },
   {
    "duration": 374,
    "start_time": "2021-07-10T14:52:38.991Z"
   },
   {
    "duration": 25,
    "start_time": "2021-07-10T14:52:39.367Z"
   },
   {
    "duration": 3,
    "start_time": "2021-07-10T14:52:39.393Z"
   },
   {
    "duration": 11,
    "start_time": "2021-07-10T14:52:39.397Z"
   },
   {
    "duration": 6,
    "start_time": "2021-07-10T14:52:39.410Z"
   },
   {
    "duration": 7,
    "start_time": "2021-07-10T14:52:39.418Z"
   },
   {
    "duration": 7,
    "start_time": "2021-07-10T14:52:39.426Z"
   },
   {
    "duration": 11,
    "start_time": "2021-07-10T14:52:39.434Z"
   },
   {
    "duration": 16,
    "start_time": "2021-07-10T14:52:39.446Z"
   },
   {
    "duration": 35,
    "start_time": "2021-07-10T14:52:39.463Z"
   },
   {
    "duration": 5,
    "start_time": "2021-07-10T14:52:39.500Z"
   },
   {
    "duration": 45,
    "start_time": "2021-07-10T14:52:39.506Z"
   },
   {
    "duration": 7,
    "start_time": "2021-07-10T14:52:39.555Z"
   },
   {
    "duration": 26,
    "start_time": "2021-07-10T14:52:39.565Z"
   },
   {
    "duration": 6,
    "start_time": "2021-07-10T14:52:39.593Z"
   },
   {
    "duration": 27,
    "start_time": "2021-07-10T14:52:39.600Z"
   },
   {
    "duration": 7,
    "start_time": "2021-07-10T14:52:39.629Z"
   },
   {
    "duration": 4,
    "start_time": "2021-07-10T14:52:39.637Z"
   },
   {
    "duration": 20,
    "start_time": "2021-07-10T14:52:39.642Z"
   },
   {
    "duration": 9,
    "start_time": "2021-07-10T14:52:39.664Z"
   },
   {
    "duration": 17,
    "start_time": "2021-07-10T14:52:39.675Z"
   },
   {
    "duration": 240,
    "start_time": "2021-07-10T14:52:39.694Z"
   },
   {
    "duration": 214,
    "start_time": "2021-07-10T14:52:39.936Z"
   },
   {
    "duration": 205,
    "start_time": "2021-07-10T14:52:40.151Z"
   },
   {
    "duration": 221,
    "start_time": "2021-07-10T14:52:40.357Z"
   },
   {
    "duration": 280,
    "start_time": "2021-07-10T14:52:40.580Z"
   },
   {
    "duration": 8,
    "start_time": "2021-07-10T14:52:40.862Z"
   },
   {
    "duration": 21,
    "start_time": "2021-07-10T14:52:40.871Z"
   },
   {
    "duration": 17,
    "start_time": "2021-07-10T14:52:40.893Z"
   },
   {
    "duration": 12,
    "start_time": "2021-07-10T14:52:40.911Z"
   },
   {
    "duration": 520,
    "start_time": "2021-07-10T14:52:40.924Z"
   },
   {
    "duration": 616,
    "start_time": "2021-07-10T14:52:41.445Z"
   },
   {
    "duration": 4,
    "start_time": "2021-07-10T14:52:42.063Z"
   },
   {
    "duration": 8,
    "start_time": "2021-07-10T14:52:42.069Z"
   },
   {
    "duration": 18,
    "start_time": "2021-07-10T14:52:42.079Z"
   },
   {
    "duration": 18,
    "start_time": "2021-07-10T14:52:42.098Z"
   },
   {
    "duration": 956,
    "start_time": "2021-07-10T14:52:42.118Z"
   },
   {
    "duration": 6,
    "start_time": "2021-07-10T14:52:43.075Z"
   },
   {
    "duration": 5,
    "start_time": "2021-07-10T14:52:43.090Z"
   },
   {
    "duration": 6,
    "start_time": "2021-07-10T14:52:43.096Z"
   },
   {
    "duration": 14,
    "start_time": "2021-07-10T14:52:43.103Z"
   },
   {
    "duration": 8,
    "start_time": "2021-07-10T14:52:43.118Z"
   },
   {
    "duration": 4,
    "start_time": "2021-07-10T14:52:43.127Z"
   },
   {
    "duration": 21,
    "start_time": "2021-07-10T14:52:43.132Z"
   },
   {
    "duration": 6,
    "start_time": "2021-07-10T14:52:43.155Z"
   },
   {
    "duration": 5,
    "start_time": "2021-07-10T14:52:43.191Z"
   },
   {
    "duration": 20,
    "start_time": "2021-07-10T14:52:43.197Z"
   },
   {
    "duration": 12,
    "start_time": "2021-07-10T14:52:43.219Z"
   },
   {
    "duration": 4,
    "start_time": "2021-07-10T14:52:43.232Z"
   },
   {
    "duration": 13,
    "start_time": "2021-07-10T14:52:43.238Z"
   },
   {
    "duration": 17,
    "start_time": "2021-07-10T14:52:43.252Z"
   },
   {
    "duration": 21,
    "start_time": "2021-07-10T14:52:43.271Z"
   },
   {
    "duration": 4,
    "start_time": "2021-07-10T14:52:43.294Z"
   },
   {
    "duration": 8,
    "start_time": "2021-07-10T14:52:43.299Z"
   },
   {
    "duration": 7,
    "start_time": "2021-07-10T14:52:43.309Z"
   },
   {
    "duration": 396,
    "start_time": "2021-07-10T14:52:43.317Z"
   },
   {
    "duration": -1161,
    "start_time": "2021-07-10T14:52:44.877Z"
   },
   {
    "duration": -1165,
    "start_time": "2021-07-10T14:52:44.882Z"
   },
   {
    "duration": -1170,
    "start_time": "2021-07-10T14:52:44.888Z"
   },
   {
    "duration": -1172,
    "start_time": "2021-07-10T14:52:44.891Z"
   },
   {
    "duration": 256,
    "start_time": "2021-07-10T14:52:56.426Z"
   },
   {
    "duration": 31,
    "start_time": "2021-07-10T14:53:05.136Z"
   },
   {
    "duration": 243,
    "start_time": "2021-07-10T14:53:09.473Z"
   },
   {
    "duration": 23,
    "start_time": "2021-07-10T14:53:15.038Z"
   },
   {
    "duration": 1191,
    "start_time": "2021-07-10T14:53:53.260Z"
   },
   {
    "duration": 306,
    "start_time": "2021-07-10T14:53:54.455Z"
   },
   {
    "duration": 16,
    "start_time": "2021-07-10T14:53:54.763Z"
   },
   {
    "duration": 123,
    "start_time": "2021-07-10T14:53:54.781Z"
   },
   {
    "duration": 7,
    "start_time": "2021-07-10T14:53:54.907Z"
   },
   {
    "duration": 286,
    "start_time": "2021-07-10T14:53:54.917Z"
   },
   {
    "duration": 13,
    "start_time": "2021-07-10T14:53:55.206Z"
   },
   {
    "duration": 97,
    "start_time": "2021-07-10T14:53:55.221Z"
   },
   {
    "duration": 9,
    "start_time": "2021-07-10T14:53:55.320Z"
   },
   {
    "duration": 111,
    "start_time": "2021-07-10T14:53:55.330Z"
   },
   {
    "duration": 372,
    "start_time": "2021-07-10T14:53:55.443Z"
   },
   {
    "duration": 14,
    "start_time": "2021-07-10T14:53:55.816Z"
   },
   {
    "duration": 3,
    "start_time": "2021-07-10T14:53:55.832Z"
   },
   {
    "duration": 22,
    "start_time": "2021-07-10T14:53:55.836Z"
   },
   {
    "duration": 12,
    "start_time": "2021-07-10T14:53:55.859Z"
   },
   {
    "duration": 9,
    "start_time": "2021-07-10T14:53:55.873Z"
   },
   {
    "duration": 14,
    "start_time": "2021-07-10T14:53:55.883Z"
   },
   {
    "duration": 27,
    "start_time": "2021-07-10T14:53:55.898Z"
   },
   {
    "duration": 22,
    "start_time": "2021-07-10T14:53:55.926Z"
   },
   {
    "duration": 24,
    "start_time": "2021-07-10T14:53:55.950Z"
   },
   {
    "duration": 7,
    "start_time": "2021-07-10T14:53:55.976Z"
   },
   {
    "duration": 45,
    "start_time": "2021-07-10T14:53:55.986Z"
   },
   {
    "duration": 11,
    "start_time": "2021-07-10T14:53:56.033Z"
   },
   {
    "duration": 18,
    "start_time": "2021-07-10T14:53:56.045Z"
   },
   {
    "duration": 13,
    "start_time": "2021-07-10T14:53:56.064Z"
   },
   {
    "duration": 27,
    "start_time": "2021-07-10T14:53:56.078Z"
   },
   {
    "duration": 9,
    "start_time": "2021-07-10T14:53:56.106Z"
   },
   {
    "duration": 8,
    "start_time": "2021-07-10T14:53:56.116Z"
   },
   {
    "duration": 24,
    "start_time": "2021-07-10T14:53:56.126Z"
   },
   {
    "duration": 12,
    "start_time": "2021-07-10T14:53:56.152Z"
   },
   {
    "duration": 7,
    "start_time": "2021-07-10T14:53:56.166Z"
   },
   {
    "duration": 258,
    "start_time": "2021-07-10T14:53:56.174Z"
   },
   {
    "duration": 223,
    "start_time": "2021-07-10T14:53:56.434Z"
   },
   {
    "duration": 214,
    "start_time": "2021-07-10T14:53:56.658Z"
   },
   {
    "duration": 232,
    "start_time": "2021-07-10T14:53:56.873Z"
   },
   {
    "duration": 286,
    "start_time": "2021-07-10T14:53:57.106Z"
   },
   {
    "duration": 9,
    "start_time": "2021-07-10T14:53:57.393Z"
   },
   {
    "duration": 10,
    "start_time": "2021-07-10T14:53:57.404Z"
   },
   {
    "duration": 13,
    "start_time": "2021-07-10T14:53:57.415Z"
   },
   {
    "duration": 11,
    "start_time": "2021-07-10T14:53:57.430Z"
   },
   {
    "duration": 596,
    "start_time": "2021-07-10T14:53:57.443Z"
   },
   {
    "duration": 613,
    "start_time": "2021-07-10T14:53:58.041Z"
   },
   {
    "duration": 5,
    "start_time": "2021-07-10T14:53:58.656Z"
   },
   {
    "duration": 7,
    "start_time": "2021-07-10T14:53:58.662Z"
   },
   {
    "duration": 21,
    "start_time": "2021-07-10T14:53:58.670Z"
   },
   {
    "duration": 18,
    "start_time": "2021-07-10T14:53:58.692Z"
   },
   {
    "duration": 959,
    "start_time": "2021-07-10T14:53:58.712Z"
   },
   {
    "duration": 6,
    "start_time": "2021-07-10T14:53:59.672Z"
   },
   {
    "duration": 13,
    "start_time": "2021-07-10T14:53:59.680Z"
   },
   {
    "duration": 6,
    "start_time": "2021-07-10T14:53:59.694Z"
   },
   {
    "duration": 14,
    "start_time": "2021-07-10T14:53:59.701Z"
   },
   {
    "duration": 8,
    "start_time": "2021-07-10T14:53:59.717Z"
   },
   {
    "duration": 4,
    "start_time": "2021-07-10T14:53:59.726Z"
   },
   {
    "duration": 18,
    "start_time": "2021-07-10T14:53:59.731Z"
   },
   {
    "duration": 11,
    "start_time": "2021-07-10T14:53:59.750Z"
   },
   {
    "duration": 30,
    "start_time": "2021-07-10T14:53:59.762Z"
   },
   {
    "duration": 18,
    "start_time": "2021-07-10T14:53:59.794Z"
   },
   {
    "duration": 11,
    "start_time": "2021-07-10T14:53:59.813Z"
   },
   {
    "duration": 3,
    "start_time": "2021-07-10T14:53:59.825Z"
   },
   {
    "duration": 12,
    "start_time": "2021-07-10T14:53:59.830Z"
   },
   {
    "duration": 16,
    "start_time": "2021-07-10T14:53:59.844Z"
   },
   {
    "duration": 6,
    "start_time": "2021-07-10T14:53:59.861Z"
   },
   {
    "duration": 9,
    "start_time": "2021-07-10T14:53:59.868Z"
   },
   {
    "duration": 8,
    "start_time": "2021-07-10T14:53:59.878Z"
   },
   {
    "duration": 3,
    "start_time": "2021-07-10T14:53:59.891Z"
   },
   {
    "duration": 34,
    "start_time": "2021-07-10T14:53:59.895Z"
   },
   {
    "duration": 2,
    "start_time": "2021-07-10T14:53:59.934Z"
   },
   {
    "duration": 5,
    "start_time": "2021-07-10T14:53:59.938Z"
   },
   {
    "duration": 2358,
    "start_time": "2021-07-10T14:53:59.944Z"
   },
   {
    "duration": 9,
    "start_time": "2021-07-10T14:54:43.594Z"
   },
   {
    "duration": 12,
    "start_time": "2021-07-10T14:55:02.635Z"
   },
   {
    "duration": 9,
    "start_time": "2021-07-10T14:55:24.092Z"
   },
   {
    "duration": 3,
    "start_time": "2021-07-10T14:55:35.206Z"
   },
   {
    "duration": 1914,
    "start_time": "2021-07-10T14:55:35.988Z"
   },
   {
    "duration": 3,
    "start_time": "2021-07-10T16:03:20.942Z"
   },
   {
    "duration": 1153,
    "start_time": "2021-07-10T16:03:28.384Z"
   },
   {
    "duration": 299,
    "start_time": "2021-07-10T16:03:29.540Z"
   },
   {
    "duration": 15,
    "start_time": "2021-07-10T16:03:29.842Z"
   },
   {
    "duration": 115,
    "start_time": "2021-07-10T16:03:29.858Z"
   },
   {
    "duration": 6,
    "start_time": "2021-07-10T16:03:29.975Z"
   },
   {
    "duration": 266,
    "start_time": "2021-07-10T16:03:29.991Z"
   },
   {
    "duration": 15,
    "start_time": "2021-07-10T16:03:30.260Z"
   },
   {
    "duration": 100,
    "start_time": "2021-07-10T16:03:30.278Z"
   },
   {
    "duration": 11,
    "start_time": "2021-07-10T16:03:30.391Z"
   },
   {
    "duration": 112,
    "start_time": "2021-07-10T16:03:30.404Z"
   },
   {
    "duration": 379,
    "start_time": "2021-07-10T16:03:30.518Z"
   },
   {
    "duration": 15,
    "start_time": "2021-07-10T16:03:30.898Z"
   },
   {
    "duration": 2,
    "start_time": "2021-07-10T16:03:30.914Z"
   },
   {
    "duration": 23,
    "start_time": "2021-07-10T16:03:30.918Z"
   },
   {
    "duration": 9,
    "start_time": "2021-07-10T16:03:30.943Z"
   },
   {
    "duration": 11,
    "start_time": "2021-07-10T16:03:30.953Z"
   },
   {
    "duration": 5,
    "start_time": "2021-07-10T16:03:30.965Z"
   },
   {
    "duration": 20,
    "start_time": "2021-07-10T16:03:30.971Z"
   },
   {
    "duration": 35,
    "start_time": "2021-07-10T16:03:30.992Z"
   },
   {
    "duration": 16,
    "start_time": "2021-07-10T16:03:31.028Z"
   },
   {
    "duration": 5,
    "start_time": "2021-07-10T16:03:31.046Z"
   },
   {
    "duration": 41,
    "start_time": "2021-07-10T16:03:31.055Z"
   },
   {
    "duration": 8,
    "start_time": "2021-07-10T16:03:31.099Z"
   },
   {
    "duration": 15,
    "start_time": "2021-07-10T16:03:31.108Z"
   },
   {
    "duration": 12,
    "start_time": "2021-07-10T16:03:31.124Z"
   },
   {
    "duration": 19,
    "start_time": "2021-07-10T16:03:31.137Z"
   },
   {
    "duration": 6,
    "start_time": "2021-07-10T16:03:31.157Z"
   },
   {
    "duration": 10,
    "start_time": "2021-07-10T16:03:31.165Z"
   },
   {
    "duration": 22,
    "start_time": "2021-07-10T16:03:31.177Z"
   },
   {
    "duration": 7,
    "start_time": "2021-07-10T16:03:31.201Z"
   },
   {
    "duration": 5,
    "start_time": "2021-07-10T16:03:31.210Z"
   },
   {
    "duration": 236,
    "start_time": "2021-07-10T16:03:31.216Z"
   },
   {
    "duration": 215,
    "start_time": "2021-07-10T16:03:31.453Z"
   },
   {
    "duration": 202,
    "start_time": "2021-07-10T16:03:31.669Z"
   },
   {
    "duration": 221,
    "start_time": "2021-07-10T16:03:31.872Z"
   },
   {
    "duration": 380,
    "start_time": "2021-07-10T16:03:32.094Z"
   },
   {
    "duration": 8,
    "start_time": "2021-07-10T16:03:32.475Z"
   },
   {
    "duration": 12,
    "start_time": "2021-07-10T16:03:32.485Z"
   },
   {
    "duration": 14,
    "start_time": "2021-07-10T16:03:32.498Z"
   },
   {
    "duration": 11,
    "start_time": "2021-07-10T16:03:32.513Z"
   },
   {
    "duration": 596,
    "start_time": "2021-07-10T16:03:32.526Z"
   },
   {
    "duration": 536,
    "start_time": "2021-07-10T16:03:33.124Z"
   },
   {
    "duration": 4,
    "start_time": "2021-07-10T16:03:33.662Z"
   },
   {
    "duration": 7,
    "start_time": "2021-07-10T16:03:33.668Z"
   },
   {
    "duration": 18,
    "start_time": "2021-07-10T16:03:33.676Z"
   },
   {
    "duration": 17,
    "start_time": "2021-07-10T16:03:33.696Z"
   },
   {
    "duration": 1057,
    "start_time": "2021-07-10T16:03:33.715Z"
   },
   {
    "duration": 6,
    "start_time": "2021-07-10T16:03:34.774Z"
   },
   {
    "duration": 11,
    "start_time": "2021-07-10T16:03:34.781Z"
   },
   {
    "duration": 7,
    "start_time": "2021-07-10T16:03:34.793Z"
   },
   {
    "duration": 14,
    "start_time": "2021-07-10T16:03:34.801Z"
   },
   {
    "duration": 8,
    "start_time": "2021-07-10T16:03:34.817Z"
   },
   {
    "duration": 4,
    "start_time": "2021-07-10T16:03:34.826Z"
   },
   {
    "duration": 22,
    "start_time": "2021-07-10T16:03:34.831Z"
   },
   {
    "duration": 6,
    "start_time": "2021-07-10T16:03:34.854Z"
   },
   {
    "duration": 30,
    "start_time": "2021-07-10T16:03:34.862Z"
   },
   {
    "duration": 18,
    "start_time": "2021-07-10T16:03:34.894Z"
   },
   {
    "duration": 14,
    "start_time": "2021-07-10T16:03:34.913Z"
   },
   {
    "duration": 3,
    "start_time": "2021-07-10T16:03:34.928Z"
   },
   {
    "duration": 9,
    "start_time": "2021-07-10T16:03:34.932Z"
   },
   {
    "duration": 14,
    "start_time": "2021-07-10T16:03:34.943Z"
   },
   {
    "duration": 5,
    "start_time": "2021-07-10T16:03:34.958Z"
   },
   {
    "duration": 10,
    "start_time": "2021-07-10T16:03:34.964Z"
   },
   {
    "duration": 17,
    "start_time": "2021-07-10T16:03:34.975Z"
   },
   {
    "duration": 9,
    "start_time": "2021-07-10T16:03:34.993Z"
   },
   {
    "duration": 36,
    "start_time": "2021-07-10T16:03:35.004Z"
   },
   {
    "duration": 3,
    "start_time": "2021-07-10T16:03:35.044Z"
   },
   {
    "duration": 10,
    "start_time": "2021-07-10T16:03:35.049Z"
   },
   {
    "duration": 696,
    "start_time": "2021-07-10T16:03:35.060Z"
   },
   {
    "duration": 3,
    "start_time": "2021-07-10T16:04:08.445Z"
   },
   {
    "duration": 599,
    "start_time": "2021-07-10T16:04:12.338Z"
   },
   {
    "duration": 1130,
    "start_time": "2021-07-10T16:04:36.195Z"
   },
   {
    "duration": 282,
    "start_time": "2021-07-10T16:04:37.326Z"
   },
   {
    "duration": 15,
    "start_time": "2021-07-10T16:04:37.610Z"
   },
   {
    "duration": 105,
    "start_time": "2021-07-10T16:04:37.627Z"
   },
   {
    "duration": 6,
    "start_time": "2021-07-10T16:04:37.734Z"
   },
   {
    "duration": 267,
    "start_time": "2021-07-10T16:04:37.742Z"
   },
   {
    "duration": 14,
    "start_time": "2021-07-10T16:04:38.010Z"
   },
   {
    "duration": 91,
    "start_time": "2021-07-10T16:04:38.026Z"
   },
   {
    "duration": 9,
    "start_time": "2021-07-10T16:04:38.119Z"
   },
   {
    "duration": 107,
    "start_time": "2021-07-10T16:04:38.129Z"
   },
   {
    "duration": 364,
    "start_time": "2021-07-10T16:04:38.238Z"
   },
   {
    "duration": 14,
    "start_time": "2021-07-10T16:04:38.604Z"
   },
   {
    "duration": 2,
    "start_time": "2021-07-10T16:04:38.620Z"
   },
   {
    "duration": 11,
    "start_time": "2021-07-10T16:04:38.624Z"
   },
   {
    "duration": 7,
    "start_time": "2021-07-10T16:04:38.637Z"
   },
   {
    "duration": 6,
    "start_time": "2021-07-10T16:04:38.645Z"
   },
   {
    "duration": 3,
    "start_time": "2021-07-10T16:04:38.653Z"
   },
   {
    "duration": 34,
    "start_time": "2021-07-10T16:04:38.658Z"
   },
   {
    "duration": 9,
    "start_time": "2021-07-10T16:04:38.693Z"
   },
   {
    "duration": 19,
    "start_time": "2021-07-10T16:04:38.703Z"
   },
   {
    "duration": 8,
    "start_time": "2021-07-10T16:04:38.723Z"
   },
   {
    "duration": 42,
    "start_time": "2021-07-10T16:04:38.732Z"
   },
   {
    "duration": 8,
    "start_time": "2021-07-10T16:04:38.793Z"
   },
   {
    "duration": 31,
    "start_time": "2021-07-10T16:04:38.804Z"
   },
   {
    "duration": 7,
    "start_time": "2021-07-10T16:04:38.837Z"
   },
   {
    "duration": 14,
    "start_time": "2021-07-10T16:04:38.845Z"
   },
   {
    "duration": 8,
    "start_time": "2021-07-10T16:04:38.861Z"
   },
   {
    "duration": 3,
    "start_time": "2021-07-10T16:04:38.870Z"
   },
   {
    "duration": 14,
    "start_time": "2021-07-10T16:04:38.891Z"
   },
   {
    "duration": 9,
    "start_time": "2021-07-10T16:04:38.907Z"
   },
   {
    "duration": 6,
    "start_time": "2021-07-10T16:04:38.917Z"
   },
   {
    "duration": 246,
    "start_time": "2021-07-10T16:04:38.925Z"
   },
   {
    "duration": 224,
    "start_time": "2021-07-10T16:04:39.173Z"
   },
   {
    "duration": 211,
    "start_time": "2021-07-10T16:04:39.399Z"
   },
   {
    "duration": 226,
    "start_time": "2021-07-10T16:04:39.612Z"
   },
   {
    "duration": 287,
    "start_time": "2021-07-10T16:04:39.840Z"
   },
   {
    "duration": 9,
    "start_time": "2021-07-10T16:04:40.129Z"
   },
   {
    "duration": 17,
    "start_time": "2021-07-10T16:04:40.140Z"
   },
   {
    "duration": 17,
    "start_time": "2021-07-10T16:04:40.158Z"
   },
   {
    "duration": 23,
    "start_time": "2021-07-10T16:04:40.177Z"
   },
   {
    "duration": 536,
    "start_time": "2021-07-10T16:04:40.202Z"
   },
   {
    "duration": 618,
    "start_time": "2021-07-10T16:04:40.740Z"
   },
   {
    "duration": 5,
    "start_time": "2021-07-10T16:04:41.360Z"
   },
   {
    "duration": 8,
    "start_time": "2021-07-10T16:04:41.366Z"
   },
   {
    "duration": 19,
    "start_time": "2021-07-10T16:04:41.375Z"
   },
   {
    "duration": 19,
    "start_time": "2021-07-10T16:04:41.396Z"
   },
   {
    "duration": 960,
    "start_time": "2021-07-10T16:04:41.416Z"
   },
   {
    "duration": 6,
    "start_time": "2021-07-10T16:04:42.378Z"
   },
   {
    "duration": 5,
    "start_time": "2021-07-10T16:04:42.391Z"
   },
   {
    "duration": 5,
    "start_time": "2021-07-10T16:04:42.398Z"
   },
   {
    "duration": 14,
    "start_time": "2021-07-10T16:04:42.405Z"
   },
   {
    "duration": 8,
    "start_time": "2021-07-10T16:04:42.420Z"
   },
   {
    "duration": 4,
    "start_time": "2021-07-10T16:04:42.430Z"
   },
   {
    "duration": 19,
    "start_time": "2021-07-10T16:04:42.435Z"
   },
   {
    "duration": 39,
    "start_time": "2021-07-10T16:04:42.456Z"
   },
   {
    "duration": 4,
    "start_time": "2021-07-10T16:04:42.496Z"
   },
   {
    "duration": 19,
    "start_time": "2021-07-10T16:04:42.502Z"
   },
   {
    "duration": 9,
    "start_time": "2021-07-10T16:04:42.523Z"
   },
   {
    "duration": 3,
    "start_time": "2021-07-10T16:04:42.534Z"
   },
   {
    "duration": 16,
    "start_time": "2021-07-10T16:04:42.538Z"
   },
   {
    "duration": 17,
    "start_time": "2021-07-10T16:04:42.555Z"
   },
   {
    "duration": 18,
    "start_time": "2021-07-10T16:04:42.573Z"
   },
   {
    "duration": 4,
    "start_time": "2021-07-10T16:04:42.592Z"
   },
   {
    "duration": 9,
    "start_time": "2021-07-10T16:04:42.597Z"
   },
   {
    "duration": 6,
    "start_time": "2021-07-10T16:04:42.608Z"
   },
   {
    "duration": 39,
    "start_time": "2021-07-10T16:04:42.615Z"
   },
   {
    "duration": 3,
    "start_time": "2021-07-10T16:04:42.656Z"
   },
   {
    "duration": 4,
    "start_time": "2021-07-10T16:04:42.663Z"
   },
   {
    "duration": 481,
    "start_time": "2021-07-10T16:04:42.668Z"
   },
   {
    "duration": 3,
    "start_time": "2021-07-10T16:05:52.228Z"
   },
   {
    "duration": 1127,
    "start_time": "2021-07-10T16:06:00.318Z"
   },
   {
    "duration": 287,
    "start_time": "2021-07-10T16:06:01.447Z"
   },
   {
    "duration": 14,
    "start_time": "2021-07-10T16:06:01.736Z"
   },
   {
    "duration": 106,
    "start_time": "2021-07-10T16:06:01.752Z"
   },
   {
    "duration": 6,
    "start_time": "2021-07-10T16:06:01.860Z"
   },
   {
    "duration": 270,
    "start_time": "2021-07-10T16:06:01.868Z"
   },
   {
    "duration": 13,
    "start_time": "2021-07-10T16:06:02.140Z"
   },
   {
    "duration": 92,
    "start_time": "2021-07-10T16:06:02.156Z"
   },
   {
    "duration": 8,
    "start_time": "2021-07-10T16:06:02.250Z"
   },
   {
    "duration": 112,
    "start_time": "2021-07-10T16:06:02.260Z"
   },
   {
    "duration": 368,
    "start_time": "2021-07-10T16:06:02.374Z"
   },
   {
    "duration": 15,
    "start_time": "2021-07-10T16:06:02.744Z"
   },
   {
    "duration": 3,
    "start_time": "2021-07-10T16:06:02.761Z"
   },
   {
    "duration": 29,
    "start_time": "2021-07-10T16:06:02.766Z"
   },
   {
    "duration": 8,
    "start_time": "2021-07-10T16:06:02.797Z"
   },
   {
    "duration": 8,
    "start_time": "2021-07-10T16:06:02.807Z"
   },
   {
    "duration": 9,
    "start_time": "2021-07-10T16:06:02.816Z"
   },
   {
    "duration": 6,
    "start_time": "2021-07-10T16:06:02.826Z"
   },
   {
    "duration": 12,
    "start_time": "2021-07-10T16:06:02.833Z"
   },
   {
    "duration": 24,
    "start_time": "2021-07-10T16:06:02.846Z"
   },
   {
    "duration": 23,
    "start_time": "2021-07-10T16:06:02.871Z"
   },
   {
    "duration": 59,
    "start_time": "2021-07-10T16:06:02.895Z"
   },
   {
    "duration": 7,
    "start_time": "2021-07-10T16:06:02.958Z"
   },
   {
    "duration": 16,
    "start_time": "2021-07-10T16:06:02.967Z"
   },
   {
    "duration": 16,
    "start_time": "2021-07-10T16:06:02.984Z"
   },
   {
    "duration": 24,
    "start_time": "2021-07-10T16:06:03.002Z"
   },
   {
    "duration": 13,
    "start_time": "2021-07-10T16:06:03.027Z"
   },
   {
    "duration": 25,
    "start_time": "2021-07-10T16:06:03.042Z"
   },
   {
    "duration": 27,
    "start_time": "2021-07-10T16:06:03.069Z"
   },
   {
    "duration": 13,
    "start_time": "2021-07-10T16:06:03.097Z"
   },
   {
    "duration": 14,
    "start_time": "2021-07-10T16:06:03.112Z"
   },
   {
    "duration": 244,
    "start_time": "2021-07-10T16:06:03.127Z"
   },
   {
    "duration": 221,
    "start_time": "2021-07-10T16:06:03.372Z"
   },
   {
    "duration": 212,
    "start_time": "2021-07-10T16:06:03.595Z"
   },
   {
    "duration": 226,
    "start_time": "2021-07-10T16:06:03.809Z"
   },
   {
    "duration": 280,
    "start_time": "2021-07-10T16:06:04.037Z"
   },
   {
    "duration": 8,
    "start_time": "2021-07-10T16:06:04.318Z"
   },
   {
    "duration": 12,
    "start_time": "2021-07-10T16:06:04.328Z"
   },
   {
    "duration": 22,
    "start_time": "2021-07-10T16:06:04.342Z"
   },
   {
    "duration": 17,
    "start_time": "2021-07-10T16:06:04.366Z"
   },
   {
    "duration": 549,
    "start_time": "2021-07-10T16:06:04.384Z"
   },
   {
    "duration": 528,
    "start_time": "2021-07-10T16:06:04.934Z"
   },
   {
    "duration": 5,
    "start_time": "2021-07-10T16:06:05.463Z"
   },
   {
    "duration": 5,
    "start_time": "2021-07-10T16:06:05.469Z"
   },
   {
    "duration": 19,
    "start_time": "2021-07-10T16:06:05.476Z"
   },
   {
    "duration": 18,
    "start_time": "2021-07-10T16:06:05.497Z"
   },
   {
    "duration": 962,
    "start_time": "2021-07-10T16:06:05.516Z"
   },
   {
    "duration": 6,
    "start_time": "2021-07-10T16:06:06.479Z"
   },
   {
    "duration": 4,
    "start_time": "2021-07-10T16:06:06.491Z"
   },
   {
    "duration": 8,
    "start_time": "2021-07-10T16:06:06.497Z"
   },
   {
    "duration": 14,
    "start_time": "2021-07-10T16:06:06.506Z"
   },
   {
    "duration": 7,
    "start_time": "2021-07-10T16:06:06.522Z"
   },
   {
    "duration": 4,
    "start_time": "2021-07-10T16:06:06.531Z"
   },
   {
    "duration": 21,
    "start_time": "2021-07-10T16:06:06.536Z"
   },
   {
    "duration": 35,
    "start_time": "2021-07-10T16:06:06.559Z"
   },
   {
    "duration": 5,
    "start_time": "2021-07-10T16:06:06.595Z"
   },
   {
    "duration": 20,
    "start_time": "2021-07-10T16:06:06.601Z"
   },
   {
    "duration": 10,
    "start_time": "2021-07-10T16:06:06.622Z"
   },
   {
    "duration": 3,
    "start_time": "2021-07-10T16:06:06.633Z"
   },
   {
    "duration": 9,
    "start_time": "2021-07-10T16:06:06.637Z"
   },
   {
    "duration": 19,
    "start_time": "2021-07-10T16:06:06.647Z"
   },
   {
    "duration": 6,
    "start_time": "2021-07-10T16:06:06.667Z"
   },
   {
    "duration": 20,
    "start_time": "2021-07-10T16:06:06.674Z"
   },
   {
    "duration": 7,
    "start_time": "2021-07-10T16:06:06.696Z"
   },
   {
    "duration": 6,
    "start_time": "2021-07-10T16:06:06.705Z"
   },
   {
    "duration": 36,
    "start_time": "2021-07-10T16:06:06.713Z"
   },
   {
    "duration": 3,
    "start_time": "2021-07-10T16:06:06.750Z"
   },
   {
    "duration": 5,
    "start_time": "2021-07-10T16:06:06.757Z"
   },
   {
    "duration": 474,
    "start_time": "2021-07-10T16:06:06.764Z"
   },
   {
    "duration": 1230,
    "start_time": "2021-07-10T16:06:43.801Z"
   },
   {
    "duration": 281,
    "start_time": "2021-07-10T16:06:45.033Z"
   },
   {
    "duration": 14,
    "start_time": "2021-07-10T16:06:45.316Z"
   },
   {
    "duration": 106,
    "start_time": "2021-07-10T16:06:45.332Z"
   },
   {
    "duration": 6,
    "start_time": "2021-07-10T16:06:45.439Z"
   },
   {
    "duration": 269,
    "start_time": "2021-07-10T16:06:45.446Z"
   },
   {
    "duration": 14,
    "start_time": "2021-07-10T16:06:45.716Z"
   },
   {
    "duration": 88,
    "start_time": "2021-07-10T16:06:45.732Z"
   },
   {
    "duration": 9,
    "start_time": "2021-07-10T16:06:45.822Z"
   },
   {
    "duration": 107,
    "start_time": "2021-07-10T16:06:45.833Z"
   },
   {
    "duration": 363,
    "start_time": "2021-07-10T16:06:45.942Z"
   },
   {
    "duration": 14,
    "start_time": "2021-07-10T16:06:46.307Z"
   },
   {
    "duration": 3,
    "start_time": "2021-07-10T16:06:46.323Z"
   },
   {
    "duration": 10,
    "start_time": "2021-07-10T16:06:46.328Z"
   },
   {
    "duration": 7,
    "start_time": "2021-07-10T16:06:46.340Z"
   },
   {
    "duration": 7,
    "start_time": "2021-07-10T16:06:46.349Z"
   },
   {
    "duration": 34,
    "start_time": "2021-07-10T16:06:46.358Z"
   },
   {
    "duration": 6,
    "start_time": "2021-07-10T16:06:46.394Z"
   },
   {
    "duration": 11,
    "start_time": "2021-07-10T16:06:46.401Z"
   },
   {
    "duration": 17,
    "start_time": "2021-07-10T16:06:46.414Z"
   },
   {
    "duration": 7,
    "start_time": "2021-07-10T16:06:46.432Z"
   },
   {
    "duration": 70,
    "start_time": "2021-07-10T16:06:46.440Z"
   },
   {
    "duration": 8,
    "start_time": "2021-07-10T16:06:46.514Z"
   },
   {
    "duration": 11,
    "start_time": "2021-07-10T16:06:46.525Z"
   },
   {
    "duration": 7,
    "start_time": "2021-07-10T16:06:46.537Z"
   },
   {
    "duration": 46,
    "start_time": "2021-07-10T16:06:46.545Z"
   },
   {
    "duration": 8,
    "start_time": "2021-07-10T16:06:46.593Z"
   },
   {
    "duration": 3,
    "start_time": "2021-07-10T16:06:46.603Z"
   },
   {
    "duration": 15,
    "start_time": "2021-07-10T16:06:46.607Z"
   },
   {
    "duration": 8,
    "start_time": "2021-07-10T16:06:46.623Z"
   },
   {
    "duration": 2,
    "start_time": "2021-07-10T16:06:46.633Z"
   },
   {
    "duration": 261,
    "start_time": "2021-07-10T16:06:46.636Z"
   },
   {
    "duration": 226,
    "start_time": "2021-07-10T16:06:46.899Z"
   },
   {
    "duration": 217,
    "start_time": "2021-07-10T16:06:47.127Z"
   },
   {
    "duration": 227,
    "start_time": "2021-07-10T16:06:47.345Z"
   },
   {
    "duration": 280,
    "start_time": "2021-07-10T16:06:47.574Z"
   },
   {
    "duration": 7,
    "start_time": "2021-07-10T16:06:47.856Z"
   },
   {
    "duration": 15,
    "start_time": "2021-07-10T16:06:47.865Z"
   },
   {
    "duration": 19,
    "start_time": "2021-07-10T16:06:47.882Z"
   },
   {
    "duration": 11,
    "start_time": "2021-07-10T16:06:47.902Z"
   },
   {
    "duration": 533,
    "start_time": "2021-07-10T16:06:47.915Z"
   },
   {
    "duration": 607,
    "start_time": "2021-07-10T16:06:48.450Z"
   },
   {
    "duration": 5,
    "start_time": "2021-07-10T16:06:49.058Z"
   },
   {
    "duration": 6,
    "start_time": "2021-07-10T16:06:49.064Z"
   },
   {
    "duration": 20,
    "start_time": "2021-07-10T16:06:49.071Z"
   },
   {
    "duration": 17,
    "start_time": "2021-07-10T16:06:49.093Z"
   },
   {
    "duration": 958,
    "start_time": "2021-07-10T16:06:49.112Z"
   },
   {
    "duration": 5,
    "start_time": "2021-07-10T16:06:50.072Z"
   },
   {
    "duration": 13,
    "start_time": "2021-07-10T16:06:50.079Z"
   },
   {
    "duration": 4,
    "start_time": "2021-07-10T16:06:50.093Z"
   },
   {
    "duration": 14,
    "start_time": "2021-07-10T16:06:50.099Z"
   },
   {
    "duration": 8,
    "start_time": "2021-07-10T16:06:50.115Z"
   },
   {
    "duration": 3,
    "start_time": "2021-07-10T16:06:50.125Z"
   },
   {
    "duration": 19,
    "start_time": "2021-07-10T16:06:50.130Z"
   },
   {
    "duration": 6,
    "start_time": "2021-07-10T16:06:50.151Z"
   },
   {
    "duration": 33,
    "start_time": "2021-07-10T16:06:50.158Z"
   },
   {
    "duration": 18,
    "start_time": "2021-07-10T16:06:50.192Z"
   },
   {
    "duration": 11,
    "start_time": "2021-07-10T16:06:50.211Z"
   },
   {
    "duration": 2,
    "start_time": "2021-07-10T16:06:50.224Z"
   },
   {
    "duration": 8,
    "start_time": "2021-07-10T16:06:50.228Z"
   },
   {
    "duration": 21,
    "start_time": "2021-07-10T16:06:50.237Z"
   },
   {
    "duration": 6,
    "start_time": "2021-07-10T16:06:50.259Z"
   },
   {
    "duration": 8,
    "start_time": "2021-07-10T16:06:50.267Z"
   },
   {
    "duration": 8,
    "start_time": "2021-07-10T16:06:50.277Z"
   },
   {
    "duration": 3,
    "start_time": "2021-07-10T16:06:50.291Z"
   },
   {
    "duration": 36,
    "start_time": "2021-07-10T16:06:50.295Z"
   },
   {
    "duration": 2,
    "start_time": "2021-07-10T16:06:50.333Z"
   },
   {
    "duration": 5,
    "start_time": "2021-07-10T16:06:50.339Z"
   },
   {
    "duration": 52502,
    "start_time": "2021-07-10T16:06:50.345Z"
   },
   {
    "duration": 4,
    "start_time": "2021-07-10T16:09:33.317Z"
   },
   {
    "duration": 68595,
    "start_time": "2021-07-10T16:09:40.629Z"
   },
   {
    "duration": 3,
    "start_time": "2021-07-10T16:11:02.853Z"
   },
   {
    "duration": 3,
    "start_time": "2021-07-10T16:11:44.092Z"
   },
   {
    "duration": 83023,
    "start_time": "2021-07-10T16:11:45.883Z"
   },
   {
    "duration": 3,
    "start_time": "2021-07-10T16:13:43.961Z"
   },
   {
    "duration": 1160,
    "start_time": "2021-07-10T16:17:39.867Z"
   },
   {
    "duration": 288,
    "start_time": "2021-07-10T16:17:41.029Z"
   },
   {
    "duration": 25,
    "start_time": "2021-07-10T16:17:41.319Z"
   },
   {
    "duration": 107,
    "start_time": "2021-07-10T16:17:41.347Z"
   },
   {
    "duration": 6,
    "start_time": "2021-07-10T16:17:41.455Z"
   },
   {
    "duration": 263,
    "start_time": "2021-07-10T16:17:41.462Z"
   },
   {
    "duration": 13,
    "start_time": "2021-07-10T16:17:41.727Z"
   },
   {
    "duration": 100,
    "start_time": "2021-07-10T16:17:41.743Z"
   },
   {
    "duration": 9,
    "start_time": "2021-07-10T16:17:41.845Z"
   },
   {
    "duration": 108,
    "start_time": "2021-07-10T16:17:41.856Z"
   },
   {
    "duration": 358,
    "start_time": "2021-07-10T16:17:41.966Z"
   },
   {
    "duration": 15,
    "start_time": "2021-07-10T16:17:42.326Z"
   },
   {
    "duration": 3,
    "start_time": "2021-07-10T16:17:42.343Z"
   },
   {
    "duration": 14,
    "start_time": "2021-07-10T16:17:42.348Z"
   },
   {
    "duration": 28,
    "start_time": "2021-07-10T16:17:42.363Z"
   },
   {
    "duration": 9,
    "start_time": "2021-07-10T16:17:42.392Z"
   },
   {
    "duration": 5,
    "start_time": "2021-07-10T16:17:42.403Z"
   },
   {
    "duration": 6,
    "start_time": "2021-07-10T16:17:42.410Z"
   },
   {
    "duration": 13,
    "start_time": "2021-07-10T16:17:42.417Z"
   },
   {
    "duration": 15,
    "start_time": "2021-07-10T16:17:42.431Z"
   },
   {
    "duration": 5,
    "start_time": "2021-07-10T16:17:42.448Z"
   },
   {
    "duration": 70,
    "start_time": "2021-07-10T16:17:42.455Z"
   },
   {
    "duration": 7,
    "start_time": "2021-07-10T16:17:42.529Z"
   },
   {
    "duration": 10,
    "start_time": "2021-07-10T16:17:42.539Z"
   },
   {
    "duration": 6,
    "start_time": "2021-07-10T16:17:42.550Z"
   },
   {
    "duration": 44,
    "start_time": "2021-07-10T16:17:42.557Z"
   },
   {
    "duration": 9,
    "start_time": "2021-07-10T16:17:42.603Z"
   },
   {
    "duration": 2,
    "start_time": "2021-07-10T16:17:42.614Z"
   },
   {
    "duration": 17,
    "start_time": "2021-07-10T16:17:42.617Z"
   },
   {
    "duration": 8,
    "start_time": "2021-07-10T16:17:42.636Z"
   },
   {
    "duration": 2,
    "start_time": "2021-07-10T16:17:42.645Z"
   },
   {
    "duration": 256,
    "start_time": "2021-07-10T16:17:42.649Z"
   },
   {
    "duration": 216,
    "start_time": "2021-07-10T16:17:42.907Z"
   },
   {
    "duration": 211,
    "start_time": "2021-07-10T16:17:43.125Z"
   },
   {
    "duration": 224,
    "start_time": "2021-07-10T16:17:43.338Z"
   },
   {
    "duration": 282,
    "start_time": "2021-07-10T16:17:43.564Z"
   },
   {
    "duration": 8,
    "start_time": "2021-07-10T16:17:43.847Z"
   },
   {
    "duration": 11,
    "start_time": "2021-07-10T16:17:43.856Z"
   },
   {
    "duration": 27,
    "start_time": "2021-07-10T16:17:43.868Z"
   },
   {
    "duration": 11,
    "start_time": "2021-07-10T16:17:43.896Z"
   },
   {
    "duration": 531,
    "start_time": "2021-07-10T16:17:43.909Z"
   },
   {
    "duration": 612,
    "start_time": "2021-07-10T16:17:44.442Z"
   },
   {
    "duration": 5,
    "start_time": "2021-07-10T16:17:45.055Z"
   },
   {
    "duration": 9,
    "start_time": "2021-07-10T16:17:45.061Z"
   },
   {
    "duration": 17,
    "start_time": "2021-07-10T16:17:45.071Z"
   },
   {
    "duration": 19,
    "start_time": "2021-07-10T16:17:45.091Z"
   },
   {
    "duration": 967,
    "start_time": "2021-07-10T16:17:45.111Z"
   },
   {
    "duration": 6,
    "start_time": "2021-07-10T16:17:46.079Z"
   },
   {
    "duration": 4,
    "start_time": "2021-07-10T16:17:46.091Z"
   },
   {
    "duration": 7,
    "start_time": "2021-07-10T16:17:46.097Z"
   },
   {
    "duration": 17,
    "start_time": "2021-07-10T16:17:46.105Z"
   },
   {
    "duration": 8,
    "start_time": "2021-07-10T16:17:46.123Z"
   },
   {
    "duration": 4,
    "start_time": "2021-07-10T16:17:46.132Z"
   },
   {
    "duration": 18,
    "start_time": "2021-07-10T16:17:46.138Z"
   },
   {
    "duration": 34,
    "start_time": "2021-07-10T16:17:46.158Z"
   },
   {
    "duration": 4,
    "start_time": "2021-07-10T16:17:46.193Z"
   },
   {
    "duration": 19,
    "start_time": "2021-07-10T16:17:46.199Z"
   },
   {
    "duration": 10,
    "start_time": "2021-07-10T16:17:46.219Z"
   },
   {
    "duration": 2,
    "start_time": "2021-07-10T16:17:46.231Z"
   },
   {
    "duration": 12,
    "start_time": "2021-07-10T16:17:46.235Z"
   },
   {
    "duration": 15,
    "start_time": "2021-07-10T16:17:46.249Z"
   },
   {
    "duration": 5,
    "start_time": "2021-07-10T16:17:46.266Z"
   },
   {
    "duration": 19,
    "start_time": "2021-07-10T16:17:46.272Z"
   },
   {
    "duration": 3,
    "start_time": "2021-07-10T16:17:46.293Z"
   },
   {
    "duration": 6,
    "start_time": "2021-07-10T16:17:46.298Z"
   },
   {
    "duration": 35,
    "start_time": "2021-07-10T16:17:46.305Z"
   },
   {
    "duration": 3,
    "start_time": "2021-07-10T16:17:46.342Z"
   },
   {
    "duration": 3,
    "start_time": "2021-07-10T16:17:46.349Z"
   },
   {
    "duration": 344112,
    "start_time": "2021-07-10T16:17:46.353Z"
   },
   {
    "duration": 4,
    "start_time": "2021-07-10T16:23:31.264Z"
   },
   {
    "duration": 3,
    "start_time": "2021-07-10T16:24:34.090Z"
   },
   {
    "duration": 3,
    "start_time": "2021-07-10T16:27:39.839Z"
   },
   {
    "duration": 39795,
    "start_time": "2021-07-10T16:27:41.232Z"
   },
   {
    "duration": 4,
    "start_time": "2021-07-10T16:29:19.307Z"
   },
   {
    "duration": 260,
    "start_time": "2021-07-10T16:29:20.400Z"
   },
   {
    "duration": 221,
    "start_time": "2021-07-10T16:33:23.246Z"
   },
   {
    "duration": 177,
    "start_time": "2021-07-10T16:33:24.535Z"
   },
   {
    "duration": 3,
    "start_time": "2021-07-10T16:34:09.624Z"
   },
   {
    "duration": 180,
    "start_time": "2021-07-10T16:34:19.254Z"
   },
   {
    "duration": 1113,
    "start_time": "2021-07-10T16:35:01.712Z"
   },
   {
    "duration": 281,
    "start_time": "2021-07-10T16:35:02.827Z"
   },
   {
    "duration": 16,
    "start_time": "2021-07-10T16:35:03.110Z"
   },
   {
    "duration": 115,
    "start_time": "2021-07-10T16:35:03.128Z"
   },
   {
    "duration": 5,
    "start_time": "2021-07-10T16:35:03.245Z"
   },
   {
    "duration": 265,
    "start_time": "2021-07-10T16:35:03.252Z"
   },
   {
    "duration": 14,
    "start_time": "2021-07-10T16:35:03.519Z"
   },
   {
    "duration": 90,
    "start_time": "2021-07-10T16:35:03.535Z"
   },
   {
    "duration": 8,
    "start_time": "2021-07-10T16:35:03.627Z"
   },
   {
    "duration": 106,
    "start_time": "2021-07-10T16:35:03.637Z"
   },
   {
    "duration": 372,
    "start_time": "2021-07-10T16:35:03.744Z"
   },
   {
    "duration": 15,
    "start_time": "2021-07-10T16:35:04.117Z"
   },
   {
    "duration": 3,
    "start_time": "2021-07-10T16:35:04.133Z"
   },
   {
    "duration": 22,
    "start_time": "2021-07-10T16:35:04.137Z"
   },
   {
    "duration": 13,
    "start_time": "2021-07-10T16:35:04.160Z"
   },
   {
    "duration": 9,
    "start_time": "2021-07-10T16:35:04.175Z"
   },
   {
    "duration": 15,
    "start_time": "2021-07-10T16:35:04.186Z"
   },
   {
    "duration": 10,
    "start_time": "2021-07-10T16:35:04.202Z"
   },
   {
    "duration": 19,
    "start_time": "2021-07-10T16:35:04.213Z"
   },
   {
    "duration": 18,
    "start_time": "2021-07-10T16:35:04.233Z"
   },
   {
    "duration": 6,
    "start_time": "2021-07-10T16:35:04.252Z"
   },
   {
    "duration": 43,
    "start_time": "2021-07-10T16:35:04.260Z"
   },
   {
    "duration": 8,
    "start_time": "2021-07-10T16:35:04.307Z"
   },
   {
    "duration": 10,
    "start_time": "2021-07-10T16:35:04.317Z"
   },
   {
    "duration": 6,
    "start_time": "2021-07-10T16:35:04.329Z"
   },
   {
    "duration": 16,
    "start_time": "2021-07-10T16:35:04.336Z"
   },
   {
    "duration": 7,
    "start_time": "2021-07-10T16:35:04.353Z"
   },
   {
    "duration": 30,
    "start_time": "2021-07-10T16:35:04.362Z"
   },
   {
    "duration": 17,
    "start_time": "2021-07-10T16:35:04.393Z"
   },
   {
    "duration": 9,
    "start_time": "2021-07-10T16:35:04.412Z"
   },
   {
    "duration": 2,
    "start_time": "2021-07-10T16:35:04.422Z"
   },
   {
    "duration": 245,
    "start_time": "2021-07-10T16:35:04.426Z"
   },
   {
    "duration": 221,
    "start_time": "2021-07-10T16:35:04.673Z"
   },
   {
    "duration": 203,
    "start_time": "2021-07-10T16:35:04.895Z"
   },
   {
    "duration": 222,
    "start_time": "2021-07-10T16:35:05.100Z"
   },
   {
    "duration": 285,
    "start_time": "2021-07-10T16:35:05.324Z"
   },
   {
    "duration": 9,
    "start_time": "2021-07-10T16:35:05.611Z"
   },
   {
    "duration": 9,
    "start_time": "2021-07-10T16:35:05.622Z"
   },
   {
    "duration": 15,
    "start_time": "2021-07-10T16:35:05.632Z"
   },
   {
    "duration": 13,
    "start_time": "2021-07-10T16:35:05.649Z"
   },
   {
    "duration": 575,
    "start_time": "2021-07-10T16:35:05.663Z"
   },
   {
    "duration": 602,
    "start_time": "2021-07-10T16:35:06.240Z"
   },
   {
    "duration": 5,
    "start_time": "2021-07-10T16:35:06.843Z"
   },
   {
    "duration": 23,
    "start_time": "2021-07-10T16:35:06.849Z"
   },
   {
    "duration": 22,
    "start_time": "2021-07-10T16:35:06.873Z"
   },
   {
    "duration": 20,
    "start_time": "2021-07-10T16:35:06.896Z"
   },
   {
    "duration": 955,
    "start_time": "2021-07-10T16:35:06.917Z"
   },
   {
    "duration": 5,
    "start_time": "2021-07-10T16:35:07.874Z"
   },
   {
    "duration": 11,
    "start_time": "2021-07-10T16:35:07.881Z"
   },
   {
    "duration": 6,
    "start_time": "2021-07-10T16:35:07.893Z"
   },
   {
    "duration": 15,
    "start_time": "2021-07-10T16:35:07.900Z"
   },
   {
    "duration": 7,
    "start_time": "2021-07-10T16:35:07.916Z"
   },
   {
    "duration": 4,
    "start_time": "2021-07-10T16:35:07.924Z"
   },
   {
    "duration": 18,
    "start_time": "2021-07-10T16:35:07.929Z"
   },
   {
    "duration": 7,
    "start_time": "2021-07-10T16:35:07.949Z"
   },
   {
    "duration": 35,
    "start_time": "2021-07-10T16:35:07.957Z"
   },
   {
    "duration": 18,
    "start_time": "2021-07-10T16:35:07.994Z"
   },
   {
    "duration": 12,
    "start_time": "2021-07-10T16:35:08.014Z"
   },
   {
    "duration": 2,
    "start_time": "2021-07-10T16:35:08.028Z"
   },
   {
    "duration": 11,
    "start_time": "2021-07-10T16:35:08.032Z"
   },
   {
    "duration": 15,
    "start_time": "2021-07-10T16:35:08.044Z"
   },
   {
    "duration": 5,
    "start_time": "2021-07-10T16:35:08.061Z"
   },
   {
    "duration": 9,
    "start_time": "2021-07-10T16:35:08.067Z"
   },
   {
    "duration": 14,
    "start_time": "2021-07-10T16:35:08.077Z"
   },
   {
    "duration": 2,
    "start_time": "2021-07-10T16:35:08.092Z"
   },
   {
    "duration": 34,
    "start_time": "2021-07-10T16:35:08.096Z"
   },
   {
    "duration": 2,
    "start_time": "2021-07-10T16:35:08.132Z"
   },
   {
    "duration": 5,
    "start_time": "2021-07-10T16:35:08.138Z"
   },
   {
    "duration": 39187,
    "start_time": "2021-07-10T16:35:08.145Z"
   },
   {
    "duration": 3,
    "start_time": "2021-07-10T16:35:47.334Z"
   },
   {
    "duration": 260,
    "start_time": "2021-07-10T16:35:47.338Z"
   },
   {
    "duration": 4,
    "start_time": "2021-07-10T16:36:27.558Z"
   },
   {
    "duration": 178,
    "start_time": "2021-07-10T16:36:29.111Z"
   },
   {
    "duration": 3,
    "start_time": "2021-07-10T16:37:27.922Z"
   },
   {
    "duration": 1164,
    "start_time": "2021-07-10T16:37:34.658Z"
   },
   {
    "duration": 282,
    "start_time": "2021-07-10T16:37:35.824Z"
   },
   {
    "duration": 17,
    "start_time": "2021-07-10T16:37:36.111Z"
   },
   {
    "duration": 121,
    "start_time": "2021-07-10T16:37:36.130Z"
   },
   {
    "duration": 7,
    "start_time": "2021-07-10T16:37:36.253Z"
   },
   {
    "duration": 372,
    "start_time": "2021-07-10T16:37:36.261Z"
   },
   {
    "duration": 13,
    "start_time": "2021-07-10T16:37:36.635Z"
   },
   {
    "duration": 96,
    "start_time": "2021-07-10T16:37:36.650Z"
   },
   {
    "duration": 9,
    "start_time": "2021-07-10T16:37:36.748Z"
   },
   {
    "duration": 111,
    "start_time": "2021-07-10T16:37:36.758Z"
   },
   {
    "duration": 469,
    "start_time": "2021-07-10T16:37:36.870Z"
   },
   {
    "duration": 14,
    "start_time": "2021-07-10T16:37:37.341Z"
   },
   {
    "duration": 2,
    "start_time": "2021-07-10T16:37:37.357Z"
   },
   {
    "duration": 13,
    "start_time": "2021-07-10T16:37:37.361Z"
   },
   {
    "duration": 17,
    "start_time": "2021-07-10T16:37:37.375Z"
   },
   {
    "duration": 10,
    "start_time": "2021-07-10T16:37:37.393Z"
   },
   {
    "duration": 4,
    "start_time": "2021-07-10T16:37:37.404Z"
   },
   {
    "duration": 14,
    "start_time": "2021-07-10T16:37:37.409Z"
   },
   {
    "duration": 17,
    "start_time": "2021-07-10T16:37:37.424Z"
   },
   {
    "duration": 16,
    "start_time": "2021-07-10T16:37:37.442Z"
   },
   {
    "duration": 6,
    "start_time": "2021-07-10T16:37:37.460Z"
   },
   {
    "duration": 53,
    "start_time": "2021-07-10T16:37:37.469Z"
   },
   {
    "duration": 7,
    "start_time": "2021-07-10T16:37:37.525Z"
   },
   {
    "duration": 9,
    "start_time": "2021-07-10T16:37:37.534Z"
   },
   {
    "duration": 5,
    "start_time": "2021-07-10T16:37:37.545Z"
   },
   {
    "duration": 25,
    "start_time": "2021-07-10T16:37:37.552Z"
   },
   {
    "duration": 7,
    "start_time": "2021-07-10T16:37:37.591Z"
   },
   {
    "duration": 4,
    "start_time": "2021-07-10T16:37:37.599Z"
   },
   {
    "duration": 20,
    "start_time": "2021-07-10T16:37:37.604Z"
   },
   {
    "duration": 8,
    "start_time": "2021-07-10T16:37:37.625Z"
   },
   {
    "duration": 9,
    "start_time": "2021-07-10T16:37:37.635Z"
   },
   {
    "duration": 237,
    "start_time": "2021-07-10T16:37:37.646Z"
   },
   {
    "duration": 219,
    "start_time": "2021-07-10T16:37:37.884Z"
   },
   {
    "duration": 204,
    "start_time": "2021-07-10T16:37:38.105Z"
   },
   {
    "duration": 219,
    "start_time": "2021-07-10T16:37:38.310Z"
   },
   {
    "duration": 291,
    "start_time": "2021-07-10T16:37:38.531Z"
   },
   {
    "duration": 8,
    "start_time": "2021-07-10T16:37:38.824Z"
   },
   {
    "duration": 9,
    "start_time": "2021-07-10T16:37:38.834Z"
   },
   {
    "duration": 21,
    "start_time": "2021-07-10T16:37:38.844Z"
   },
   {
    "duration": 26,
    "start_time": "2021-07-10T16:37:38.866Z"
   },
   {
    "duration": 547,
    "start_time": "2021-07-10T16:37:38.893Z"
   },
   {
    "duration": 717,
    "start_time": "2021-07-10T16:37:39.442Z"
   },
   {
    "duration": 5,
    "start_time": "2021-07-10T16:37:40.160Z"
   },
   {
    "duration": 9,
    "start_time": "2021-07-10T16:37:40.166Z"
   },
   {
    "duration": 15,
    "start_time": "2021-07-10T16:37:40.176Z"
   },
   {
    "duration": 18,
    "start_time": "2021-07-10T16:37:40.192Z"
   },
   {
    "duration": 1070,
    "start_time": "2021-07-10T16:37:40.211Z"
   },
   {
    "duration": 11,
    "start_time": "2021-07-10T16:37:41.283Z"
   },
   {
    "duration": 6,
    "start_time": "2021-07-10T16:37:41.296Z"
   },
   {
    "duration": 7,
    "start_time": "2021-07-10T16:37:41.303Z"
   },
   {
    "duration": 15,
    "start_time": "2021-07-10T16:37:41.317Z"
   },
   {
    "duration": 10,
    "start_time": "2021-07-10T16:37:41.334Z"
   },
   {
    "duration": 6,
    "start_time": "2021-07-10T16:37:41.345Z"
   },
   {
    "duration": 55,
    "start_time": "2021-07-10T16:37:41.353Z"
   },
   {
    "duration": 8,
    "start_time": "2021-07-10T16:37:41.410Z"
   },
   {
    "duration": 5,
    "start_time": "2021-07-10T16:37:41.420Z"
   },
   {
    "duration": 17,
    "start_time": "2021-07-10T16:37:41.427Z"
   },
   {
    "duration": 12,
    "start_time": "2021-07-10T16:37:41.446Z"
   },
   {
    "duration": 3,
    "start_time": "2021-07-10T16:37:41.492Z"
   },
   {
    "duration": 9,
    "start_time": "2021-07-10T16:37:41.497Z"
   },
   {
    "duration": 11,
    "start_time": "2021-07-10T16:37:41.508Z"
   },
   {
    "duration": 4,
    "start_time": "2021-07-10T16:37:41.521Z"
   },
   {
    "duration": 9,
    "start_time": "2021-07-10T16:37:41.526Z"
   },
   {
    "duration": 9,
    "start_time": "2021-07-10T16:37:41.536Z"
   },
   {
    "duration": 8,
    "start_time": "2021-07-10T16:37:41.546Z"
   },
   {
    "duration": 36,
    "start_time": "2021-07-10T16:37:41.556Z"
   },
   {
    "duration": 3,
    "start_time": "2021-07-10T16:37:41.596Z"
   },
   {
    "duration": 6,
    "start_time": "2021-07-10T16:37:41.601Z"
   },
   {
    "duration": 24636,
    "start_time": "2021-07-10T16:37:41.609Z"
   },
   {
    "duration": 3,
    "start_time": "2021-07-10T16:38:06.247Z"
   },
   {
    "duration": 265,
    "start_time": "2021-07-10T16:38:06.251Z"
   },
   {
    "duration": 3,
    "start_time": "2021-07-10T16:38:44.597Z"
   },
   {
    "duration": 23651,
    "start_time": "2021-07-10T16:38:45.477Z"
   },
   {
    "duration": 3,
    "start_time": "2021-07-10T16:39:22.787Z"
   },
   {
    "duration": 3,
    "start_time": "2021-07-10T16:41:41.994Z"
   },
   {
    "duration": 183,
    "start_time": "2021-07-10T16:41:43.436Z"
   },
   {
    "duration": 9,
    "start_time": "2021-07-10T16:43:23.939Z"
   },
   {
    "duration": 233,
    "start_time": "2021-07-10T16:43:58.823Z"
   },
   {
    "duration": 193,
    "start_time": "2021-07-10T16:44:00.168Z"
   },
   {
    "duration": 3,
    "start_time": "2021-07-10T16:46:01.829Z"
   },
   {
    "duration": 3,
    "start_time": "2021-07-10T16:46:50.521Z"
   },
   {
    "duration": 169,
    "start_time": "2021-07-10T16:46:51.619Z"
   },
   {
    "duration": 235,
    "start_time": "2021-07-10T16:47:09.586Z"
   },
   {
    "duration": 172,
    "start_time": "2021-07-10T16:47:10.554Z"
   },
   {
    "duration": 3,
    "start_time": "2021-07-10T16:47:44.900Z"
   },
   {
    "duration": 10457,
    "start_time": "2021-07-10T16:47:46.044Z"
   },
   {
    "duration": 3,
    "start_time": "2021-07-10T16:51:24.569Z"
   },
   {
    "duration": 21747,
    "start_time": "2021-07-10T16:51:25.652Z"
   },
   {
    "duration": 1151,
    "start_time": "2021-07-10T16:55:42.076Z"
   },
   {
    "duration": 288,
    "start_time": "2021-07-10T16:55:43.229Z"
   },
   {
    "duration": 15,
    "start_time": "2021-07-10T16:55:43.519Z"
   },
   {
    "duration": 111,
    "start_time": "2021-07-10T16:55:43.536Z"
   },
   {
    "duration": 6,
    "start_time": "2021-07-10T16:55:43.648Z"
   },
   {
    "duration": 264,
    "start_time": "2021-07-10T16:55:43.655Z"
   },
   {
    "duration": 13,
    "start_time": "2021-07-10T16:55:43.920Z"
   },
   {
    "duration": 98,
    "start_time": "2021-07-10T16:55:43.936Z"
   },
   {
    "duration": 8,
    "start_time": "2021-07-10T16:55:44.036Z"
   },
   {
    "duration": 108,
    "start_time": "2021-07-10T16:55:44.045Z"
   },
   {
    "duration": 352,
    "start_time": "2021-07-10T16:55:44.155Z"
   },
   {
    "duration": 14,
    "start_time": "2021-07-10T16:55:44.508Z"
   },
   {
    "duration": 2,
    "start_time": "2021-07-10T16:55:44.524Z"
   },
   {
    "duration": 16,
    "start_time": "2021-07-10T16:55:44.528Z"
   },
   {
    "duration": 7,
    "start_time": "2021-07-10T16:55:44.546Z"
   },
   {
    "duration": 7,
    "start_time": "2021-07-10T16:55:44.554Z"
   },
   {
    "duration": 28,
    "start_time": "2021-07-10T16:55:44.563Z"
   },
   {
    "duration": 6,
    "start_time": "2021-07-10T16:55:44.593Z"
   },
   {
    "duration": 10,
    "start_time": "2021-07-10T16:55:44.601Z"
   },
   {
    "duration": 16,
    "start_time": "2021-07-10T16:55:44.613Z"
   },
   {
    "duration": 5,
    "start_time": "2021-07-10T16:55:44.630Z"
   },
   {
    "duration": 68,
    "start_time": "2021-07-10T16:55:44.636Z"
   },
   {
    "duration": 7,
    "start_time": "2021-07-10T16:55:44.708Z"
   },
   {
    "duration": 10,
    "start_time": "2021-07-10T16:55:44.717Z"
   },
   {
    "duration": 5,
    "start_time": "2021-07-10T16:55:44.728Z"
   },
   {
    "duration": 14,
    "start_time": "2021-07-10T16:55:44.735Z"
   },
   {
    "duration": 6,
    "start_time": "2021-07-10T16:55:44.751Z"
   },
   {
    "duration": 3,
    "start_time": "2021-07-10T16:55:44.758Z"
   },
   {
    "duration": 13,
    "start_time": "2021-07-10T16:55:44.791Z"
   },
   {
    "duration": 8,
    "start_time": "2021-07-10T16:55:44.805Z"
   },
   {
    "duration": 3,
    "start_time": "2021-07-10T16:55:44.815Z"
   },
   {
    "duration": 246,
    "start_time": "2021-07-10T16:55:44.819Z"
   },
   {
    "duration": 224,
    "start_time": "2021-07-10T16:55:45.067Z"
   },
   {
    "duration": 209,
    "start_time": "2021-07-10T16:55:45.293Z"
   },
   {
    "duration": 227,
    "start_time": "2021-07-10T16:55:45.503Z"
   },
   {
    "duration": 298,
    "start_time": "2021-07-10T16:55:45.732Z"
   },
   {
    "duration": 9,
    "start_time": "2021-07-10T16:55:46.032Z"
   },
   {
    "duration": 12,
    "start_time": "2021-07-10T16:55:46.042Z"
   },
   {
    "duration": 16,
    "start_time": "2021-07-10T16:55:46.056Z"
   },
   {
    "duration": 28,
    "start_time": "2021-07-10T16:55:46.073Z"
   },
   {
    "duration": 556,
    "start_time": "2021-07-10T16:55:46.102Z"
   },
   {
    "duration": 608,
    "start_time": "2021-07-10T16:55:46.660Z"
   },
   {
    "duration": 5,
    "start_time": "2021-07-10T16:55:47.269Z"
   },
   {
    "duration": 16,
    "start_time": "2021-07-10T16:55:47.275Z"
   },
   {
    "duration": 11,
    "start_time": "2021-07-10T16:55:47.293Z"
   },
   {
    "duration": 19,
    "start_time": "2021-07-10T16:55:47.306Z"
   },
   {
    "duration": 1073,
    "start_time": "2021-07-10T16:55:47.326Z"
   },
   {
    "duration": 6,
    "start_time": "2021-07-10T16:55:48.400Z"
   },
   {
    "duration": 5,
    "start_time": "2021-07-10T16:55:48.407Z"
   },
   {
    "duration": 7,
    "start_time": "2021-07-10T16:55:48.413Z"
   },
   {
    "duration": 14,
    "start_time": "2021-07-10T16:55:48.421Z"
   },
   {
    "duration": 11,
    "start_time": "2021-07-10T16:55:48.436Z"
   },
   {
    "duration": 4,
    "start_time": "2021-07-10T16:55:48.448Z"
   },
   {
    "duration": 44,
    "start_time": "2021-07-10T16:55:48.454Z"
   },
   {
    "duration": 7,
    "start_time": "2021-07-10T16:55:48.499Z"
   },
   {
    "duration": 5,
    "start_time": "2021-07-10T16:55:48.508Z"
   },
   {
    "duration": 22,
    "start_time": "2021-07-10T16:55:48.515Z"
   },
   {
    "duration": 12,
    "start_time": "2021-07-10T16:55:48.539Z"
   },
   {
    "duration": 3,
    "start_time": "2021-07-10T16:55:48.553Z"
   },
   {
    "duration": 10,
    "start_time": "2021-07-10T16:55:48.557Z"
   },
   {
    "duration": 29,
    "start_time": "2021-07-10T16:55:48.568Z"
   },
   {
    "duration": 4,
    "start_time": "2021-07-10T16:55:48.598Z"
   },
   {
    "duration": 10,
    "start_time": "2021-07-10T16:55:48.603Z"
   },
   {
    "duration": 8,
    "start_time": "2021-07-10T16:55:48.614Z"
   },
   {
    "duration": 8,
    "start_time": "2021-07-10T16:55:48.624Z"
   },
   {
    "duration": 35,
    "start_time": "2021-07-10T16:55:48.633Z"
   },
   {
    "duration": 2,
    "start_time": "2021-07-10T16:55:48.670Z"
   },
   {
    "duration": 14,
    "start_time": "2021-07-10T16:55:48.677Z"
   },
   {
    "duration": 24782,
    "start_time": "2021-07-10T16:55:48.693Z"
   },
   {
    "duration": 3,
    "start_time": "2021-07-10T16:56:13.477Z"
   },
   {
    "duration": 22317,
    "start_time": "2021-07-10T16:56:13.481Z"
   },
   {
    "duration": 91,
    "start_time": "2021-07-10T16:56:35.800Z"
   },
   {
    "duration": 4,
    "start_time": "2021-07-10T16:59:54.013Z"
   },
   {
    "duration": 76453,
    "start_time": "2021-07-10T16:59:56.795Z"
   },
   {
    "duration": 3,
    "start_time": "2021-07-10T17:07:17.118Z"
   },
   {
    "duration": 359638,
    "start_time": "2021-07-10T17:08:30.985Z"
   },
   {
    "duration": 11,
    "start_time": "2021-07-10T17:16:27.520Z"
   },
   {
    "duration": 4,
    "start_time": "2021-07-10T17:23:16.266Z"
   },
   {
    "duration": 1140,
    "start_time": "2021-07-10T17:58:07.002Z"
   },
   {
    "duration": 285,
    "start_time": "2021-07-10T17:58:08.145Z"
   },
   {
    "duration": 13,
    "start_time": "2021-07-10T17:58:08.432Z"
   },
   {
    "duration": 113,
    "start_time": "2021-07-10T17:58:08.446Z"
   },
   {
    "duration": 5,
    "start_time": "2021-07-10T17:58:08.561Z"
   },
   {
    "duration": 270,
    "start_time": "2021-07-10T17:58:08.568Z"
   },
   {
    "duration": 13,
    "start_time": "2021-07-10T17:58:08.840Z"
   },
   {
    "duration": 92,
    "start_time": "2021-07-10T17:58:08.855Z"
   },
   {
    "duration": 8,
    "start_time": "2021-07-10T17:58:08.949Z"
   },
   {
    "duration": 107,
    "start_time": "2021-07-10T17:58:08.958Z"
   },
   {
    "duration": 369,
    "start_time": "2021-07-10T17:58:09.066Z"
   },
   {
    "duration": 13,
    "start_time": "2021-07-10T17:58:09.437Z"
   },
   {
    "duration": 3,
    "start_time": "2021-07-10T17:58:09.452Z"
   },
   {
    "duration": 19,
    "start_time": "2021-07-10T17:58:09.456Z"
   },
   {
    "duration": 14,
    "start_time": "2021-07-10T17:58:09.476Z"
   },
   {
    "duration": 21,
    "start_time": "2021-07-10T17:58:09.492Z"
   },
   {
    "duration": 13,
    "start_time": "2021-07-10T17:58:09.515Z"
   },
   {
    "duration": 9,
    "start_time": "2021-07-10T17:58:09.530Z"
   },
   {
    "duration": 30,
    "start_time": "2021-07-10T17:58:09.541Z"
   },
   {
    "duration": 33,
    "start_time": "2021-07-10T17:58:09.572Z"
   },
   {
    "duration": 8,
    "start_time": "2021-07-10T17:58:09.607Z"
   },
   {
    "duration": 49,
    "start_time": "2021-07-10T17:58:09.619Z"
   },
   {
    "duration": 7,
    "start_time": "2021-07-10T17:58:09.670Z"
   },
   {
    "duration": 22,
    "start_time": "2021-07-10T17:58:09.679Z"
   },
   {
    "duration": 17,
    "start_time": "2021-07-10T17:58:09.703Z"
   },
   {
    "duration": 13,
    "start_time": "2021-07-10T17:58:09.721Z"
   },
   {
    "duration": 13,
    "start_time": "2021-07-10T17:58:09.735Z"
   },
   {
    "duration": 21,
    "start_time": "2021-07-10T17:58:09.749Z"
   },
   {
    "duration": 28,
    "start_time": "2021-07-10T17:58:09.771Z"
   },
   {
    "duration": 13,
    "start_time": "2021-07-10T17:58:09.801Z"
   },
   {
    "duration": 13,
    "start_time": "2021-07-10T17:58:09.815Z"
   },
   {
    "duration": 245,
    "start_time": "2021-07-10T17:58:09.830Z"
   },
   {
    "duration": 217,
    "start_time": "2021-07-10T17:58:10.076Z"
   },
   {
    "duration": 205,
    "start_time": "2021-07-10T17:58:10.295Z"
   },
   {
    "duration": 222,
    "start_time": "2021-07-10T17:58:10.502Z"
   },
   {
    "duration": 290,
    "start_time": "2021-07-10T17:58:10.726Z"
   },
   {
    "duration": 8,
    "start_time": "2021-07-10T17:58:11.017Z"
   },
   {
    "duration": 31,
    "start_time": "2021-07-10T17:58:11.026Z"
   },
   {
    "duration": 25,
    "start_time": "2021-07-10T17:58:11.059Z"
   },
   {
    "duration": 19,
    "start_time": "2021-07-10T17:58:11.085Z"
   },
   {
    "duration": 637,
    "start_time": "2021-07-10T17:58:11.106Z"
   },
   {
    "duration": 638,
    "start_time": "2021-07-10T17:58:11.745Z"
   },
   {
    "duration": 7,
    "start_time": "2021-07-10T17:58:12.385Z"
   },
   {
    "duration": 23,
    "start_time": "2021-07-10T17:58:12.393Z"
   },
   {
    "duration": 19,
    "start_time": "2021-07-10T17:58:12.417Z"
   },
   {
    "duration": 24,
    "start_time": "2021-07-10T17:58:12.437Z"
   },
   {
    "duration": 1010,
    "start_time": "2021-07-10T17:58:12.463Z"
   },
   {
    "duration": 7,
    "start_time": "2021-07-10T17:58:13.475Z"
   },
   {
    "duration": 5,
    "start_time": "2021-07-10T17:58:13.491Z"
   },
   {
    "duration": 5,
    "start_time": "2021-07-10T17:58:13.498Z"
   },
   {
    "duration": 17,
    "start_time": "2021-07-10T17:58:13.505Z"
   },
   {
    "duration": 7,
    "start_time": "2021-07-10T17:58:13.524Z"
   },
   {
    "duration": 8,
    "start_time": "2021-07-10T17:58:13.533Z"
   },
   {
    "duration": 35,
    "start_time": "2021-07-10T17:58:13.543Z"
   },
   {
    "duration": 18,
    "start_time": "2021-07-10T17:58:13.579Z"
   },
   {
    "duration": 6,
    "start_time": "2021-07-10T17:58:13.598Z"
   },
   {
    "duration": 21,
    "start_time": "2021-07-10T17:58:13.605Z"
   },
   {
    "duration": 11,
    "start_time": "2021-07-10T17:58:13.628Z"
   },
   {
    "duration": 4,
    "start_time": "2021-07-10T17:58:13.640Z"
   },
   {
    "duration": 15,
    "start_time": "2021-07-10T17:58:13.645Z"
   },
   {
    "duration": 33,
    "start_time": "2021-07-10T17:58:13.661Z"
   },
   {
    "duration": 3,
    "start_time": "2021-07-10T17:58:13.695Z"
   },
   {
    "duration": 12,
    "start_time": "2021-07-10T17:58:13.699Z"
   },
   {
    "duration": 15,
    "start_time": "2021-07-10T17:58:13.712Z"
   },
   {
    "duration": 7,
    "start_time": "2021-07-10T17:58:13.728Z"
   },
   {
    "duration": 36,
    "start_time": "2021-07-10T17:58:13.737Z"
   },
   {
    "duration": 2,
    "start_time": "2021-07-10T17:58:13.778Z"
   },
   {
    "duration": 10,
    "start_time": "2021-07-10T17:58:13.782Z"
   },
   {
    "duration": 82786,
    "start_time": "2021-07-10T17:58:13.793Z"
   },
   {
    "duration": 11,
    "start_time": "2021-07-10T17:59:36.580Z"
   },
   {
    "duration": 22498,
    "start_time": "2021-07-10T17:59:36.593Z"
   },
   {
    "duration": 5,
    "start_time": "2021-07-10T17:59:59.094Z"
   },
   {
    "duration": 356123,
    "start_time": "2021-07-10T17:59:59.101Z"
   },
   {
    "duration": 3,
    "start_time": "2021-07-10T18:05:55.226Z"
   },
   {
    "duration": 1110,
    "start_time": "2021-07-10T18:27:32.851Z"
   },
   {
    "duration": 295,
    "start_time": "2021-07-10T18:27:33.963Z"
   },
   {
    "duration": 17,
    "start_time": "2021-07-10T18:27:34.260Z"
   },
   {
    "duration": 118,
    "start_time": "2021-07-10T18:27:34.279Z"
   },
   {
    "duration": 6,
    "start_time": "2021-07-10T18:27:34.399Z"
   },
   {
    "duration": 286,
    "start_time": "2021-07-10T18:27:34.407Z"
   },
   {
    "duration": 16,
    "start_time": "2021-07-10T18:27:34.695Z"
   },
   {
    "duration": 108,
    "start_time": "2021-07-10T18:27:34.714Z"
   },
   {
    "duration": 10,
    "start_time": "2021-07-10T18:27:34.824Z"
   },
   {
    "duration": 112,
    "start_time": "2021-07-10T18:27:34.835Z"
   },
   {
    "duration": 383,
    "start_time": "2021-07-10T18:27:34.949Z"
   },
   {
    "duration": 13,
    "start_time": "2021-07-10T18:27:35.334Z"
   },
   {
    "duration": 2,
    "start_time": "2021-07-10T18:27:35.349Z"
   },
   {
    "duration": 18,
    "start_time": "2021-07-10T18:27:35.352Z"
   },
   {
    "duration": 20,
    "start_time": "2021-07-10T18:27:35.372Z"
   },
   {
    "duration": 8,
    "start_time": "2021-07-10T18:27:35.394Z"
   },
   {
    "duration": 4,
    "start_time": "2021-07-10T18:27:35.404Z"
   },
   {
    "duration": 6,
    "start_time": "2021-07-10T18:27:35.409Z"
   },
   {
    "duration": 12,
    "start_time": "2021-07-10T18:27:35.416Z"
   },
   {
    "duration": 16,
    "start_time": "2021-07-10T18:27:35.429Z"
   },
   {
    "duration": 5,
    "start_time": "2021-07-10T18:27:35.446Z"
   },
   {
    "duration": 71,
    "start_time": "2021-07-10T18:27:35.452Z"
   },
   {
    "duration": 7,
    "start_time": "2021-07-10T18:27:35.528Z"
   },
   {
    "duration": 9,
    "start_time": "2021-07-10T18:27:35.538Z"
   },
   {
    "duration": 5,
    "start_time": "2021-07-10T18:27:35.549Z"
   },
   {
    "duration": 38,
    "start_time": "2021-07-10T18:27:35.555Z"
   },
   {
    "duration": 7,
    "start_time": "2021-07-10T18:27:35.594Z"
   },
   {
    "duration": 1,
    "start_time": "2021-07-10T18:27:35.603Z"
   },
   {
    "duration": 17,
    "start_time": "2021-07-10T18:27:35.606Z"
   },
   {
    "duration": 8,
    "start_time": "2021-07-10T18:27:35.624Z"
   },
   {
    "duration": 5,
    "start_time": "2021-07-10T18:27:35.633Z"
   },
   {
    "duration": 259,
    "start_time": "2021-07-10T18:27:35.640Z"
   },
   {
    "duration": 218,
    "start_time": "2021-07-10T18:27:35.900Z"
   },
   {
    "duration": 207,
    "start_time": "2021-07-10T18:27:36.120Z"
   },
   {
    "duration": 219,
    "start_time": "2021-07-10T18:27:36.329Z"
   },
   {
    "duration": 291,
    "start_time": "2021-07-10T18:27:36.549Z"
   },
   {
    "duration": 8,
    "start_time": "2021-07-10T18:27:36.842Z"
   },
   {
    "duration": 11,
    "start_time": "2021-07-10T18:27:36.851Z"
   },
   {
    "duration": 16,
    "start_time": "2021-07-10T18:27:36.863Z"
   },
   {
    "duration": 13,
    "start_time": "2021-07-10T18:27:36.891Z"
   },
   {
    "duration": 529,
    "start_time": "2021-07-10T18:27:36.905Z"
   },
   {
    "duration": 727,
    "start_time": "2021-07-10T18:27:37.436Z"
   },
   {
    "duration": 5,
    "start_time": "2021-07-10T18:27:38.164Z"
   },
   {
    "duration": 9,
    "start_time": "2021-07-10T18:27:38.171Z"
   },
   {
    "duration": 14,
    "start_time": "2021-07-10T18:27:38.181Z"
   },
   {
    "duration": 20,
    "start_time": "2021-07-10T18:27:38.197Z"
   },
   {
    "duration": 1056,
    "start_time": "2021-07-10T18:27:38.218Z"
   },
   {
    "duration": 6,
    "start_time": "2021-07-10T18:27:39.276Z"
   },
   {
    "duration": 10,
    "start_time": "2021-07-10T18:27:39.284Z"
   },
   {
    "duration": 6,
    "start_time": "2021-07-10T18:27:39.296Z"
   },
   {
    "duration": 15,
    "start_time": "2021-07-10T18:27:39.303Z"
   },
   {
    "duration": 7,
    "start_time": "2021-07-10T18:27:39.319Z"
   },
   {
    "duration": 4,
    "start_time": "2021-07-10T18:27:39.328Z"
   },
   {
    "duration": 27,
    "start_time": "2021-07-10T18:27:39.334Z"
   },
   {
    "duration": 31,
    "start_time": "2021-07-10T18:27:39.363Z"
   },
   {
    "duration": 6,
    "start_time": "2021-07-10T18:27:39.396Z"
   },
   {
    "duration": 28,
    "start_time": "2021-07-10T18:27:39.404Z"
   },
   {
    "duration": 13,
    "start_time": "2021-07-10T18:27:39.433Z"
   },
   {
    "duration": 3,
    "start_time": "2021-07-10T18:27:39.447Z"
   },
   {
    "duration": 13,
    "start_time": "2021-07-10T18:27:39.451Z"
   },
   {
    "duration": 14,
    "start_time": "2021-07-10T18:27:39.466Z"
   },
   {
    "duration": 4,
    "start_time": "2021-07-10T18:27:39.491Z"
   },
   {
    "duration": 8,
    "start_time": "2021-07-10T18:27:39.496Z"
   },
   {
    "duration": 9,
    "start_time": "2021-07-10T18:27:39.505Z"
   },
   {
    "duration": 5,
    "start_time": "2021-07-10T18:27:39.515Z"
   },
   {
    "duration": 44,
    "start_time": "2021-07-10T18:27:39.521Z"
   },
   {
    "duration": 4,
    "start_time": "2021-07-10T18:27:39.567Z"
   },
   {
    "duration": 3,
    "start_time": "2021-07-10T18:27:39.575Z"
   },
   {
    "duration": 4,
    "start_time": "2021-07-10T18:27:39.591Z"
   },
   {
    "duration": 7,
    "start_time": "2021-07-10T18:27:39.597Z"
   },
   {
    "duration": 23493,
    "start_time": "2021-07-10T18:27:39.605Z"
   },
   {
    "duration": 90,
    "start_time": "2021-07-10T18:28:03.101Z"
   },
   {
    "duration": 6,
    "start_time": "2021-07-10T18:28:03.194Z"
   },
   {
    "duration": 90,
    "start_time": "2021-07-10T18:28:03.202Z"
   },
   {
    "duration": 1122,
    "start_time": "2021-07-10T18:51:35.308Z"
   },
   {
    "duration": 286,
    "start_time": "2021-07-10T18:51:36.432Z"
   },
   {
    "duration": 14,
    "start_time": "2021-07-10T18:51:36.720Z"
   },
   {
    "duration": 106,
    "start_time": "2021-07-10T18:51:36.736Z"
   },
   {
    "duration": 6,
    "start_time": "2021-07-10T18:51:36.844Z"
   },
   {
    "duration": 272,
    "start_time": "2021-07-10T18:51:36.851Z"
   },
   {
    "duration": 13,
    "start_time": "2021-07-10T18:51:37.125Z"
   },
   {
    "duration": 92,
    "start_time": "2021-07-10T18:51:37.140Z"
   },
   {
    "duration": 8,
    "start_time": "2021-07-10T18:51:37.234Z"
   },
   {
    "duration": 105,
    "start_time": "2021-07-10T18:51:37.244Z"
   },
   {
    "duration": 348,
    "start_time": "2021-07-10T18:51:37.351Z"
   },
   {
    "duration": 14,
    "start_time": "2021-07-10T18:51:37.700Z"
   },
   {
    "duration": 3,
    "start_time": "2021-07-10T18:51:37.715Z"
   },
   {
    "duration": 13,
    "start_time": "2021-07-10T18:51:37.719Z"
   },
   {
    "duration": 7,
    "start_time": "2021-07-10T18:51:37.733Z"
   },
   {
    "duration": 8,
    "start_time": "2021-07-10T18:51:37.741Z"
   },
   {
    "duration": 3,
    "start_time": "2021-07-10T18:51:37.751Z"
   },
   {
    "duration": 9,
    "start_time": "2021-07-10T18:51:37.755Z"
   },
   {
    "duration": 28,
    "start_time": "2021-07-10T18:51:37.766Z"
   },
   {
    "duration": 15,
    "start_time": "2021-07-10T18:51:37.795Z"
   },
   {
    "duration": 4,
    "start_time": "2021-07-10T18:51:37.812Z"
   },
   {
    "duration": 37,
    "start_time": "2021-07-10T18:51:37.818Z"
   },
   {
    "duration": 33,
    "start_time": "2021-07-10T18:51:37.859Z"
   },
   {
    "duration": 10,
    "start_time": "2021-07-10T18:51:37.894Z"
   },
   {
    "duration": 7,
    "start_time": "2021-07-10T18:51:37.905Z"
   },
   {
    "duration": 13,
    "start_time": "2021-07-10T18:51:37.914Z"
   },
   {
    "duration": 8,
    "start_time": "2021-07-10T18:51:37.928Z"
   },
   {
    "duration": 3,
    "start_time": "2021-07-10T18:51:37.937Z"
   },
   {
    "duration": 19,
    "start_time": "2021-07-10T18:51:37.941Z"
   },
   {
    "duration": 9,
    "start_time": "2021-07-10T18:51:37.992Z"
   },
   {
    "duration": 2,
    "start_time": "2021-07-10T18:51:38.003Z"
   },
   {
    "duration": 246,
    "start_time": "2021-07-10T18:51:38.008Z"
   },
   {
    "duration": 217,
    "start_time": "2021-07-10T18:51:38.256Z"
   },
   {
    "duration": 210,
    "start_time": "2021-07-10T18:51:38.475Z"
   },
   {
    "duration": 221,
    "start_time": "2021-07-10T18:51:38.691Z"
   },
   {
    "duration": 291,
    "start_time": "2021-07-10T18:51:38.914Z"
   },
   {
    "duration": 8,
    "start_time": "2021-07-10T18:51:39.207Z"
   },
   {
    "duration": 8,
    "start_time": "2021-07-10T18:51:39.217Z"
   },
   {
    "duration": 13,
    "start_time": "2021-07-10T18:51:39.227Z"
   },
   {
    "duration": 12,
    "start_time": "2021-07-10T18:51:39.242Z"
   },
   {
    "duration": 696,
    "start_time": "2021-07-10T18:51:39.255Z"
   },
   {
    "duration": 716,
    "start_time": "2021-07-10T18:51:39.952Z"
   },
   {
    "duration": 5,
    "start_time": "2021-07-10T18:51:40.670Z"
   },
   {
    "duration": 16,
    "start_time": "2021-07-10T18:51:40.676Z"
   },
   {
    "duration": 11,
    "start_time": "2021-07-10T18:51:40.693Z"
   },
   {
    "duration": 17,
    "start_time": "2021-07-10T18:51:40.706Z"
   },
   {
    "duration": 1062,
    "start_time": "2021-07-10T18:51:40.725Z"
   },
   {
    "duration": 7,
    "start_time": "2021-07-10T18:51:41.789Z"
   },
   {
    "duration": 6,
    "start_time": "2021-07-10T18:51:41.798Z"
   },
   {
    "duration": 6,
    "start_time": "2021-07-10T18:51:41.805Z"
   },
   {
    "duration": 16,
    "start_time": "2021-07-10T18:51:41.812Z"
   },
   {
    "duration": 10,
    "start_time": "2021-07-10T18:51:41.829Z"
   },
   {
    "duration": 7,
    "start_time": "2021-07-10T18:51:41.840Z"
   },
   {
    "duration": 58,
    "start_time": "2021-07-10T18:51:41.848Z"
   },
   {
    "duration": 7,
    "start_time": "2021-07-10T18:51:41.908Z"
   },
   {
    "duration": 6,
    "start_time": "2021-07-10T18:51:41.917Z"
   },
   {
    "duration": 21,
    "start_time": "2021-07-10T18:51:41.924Z"
   },
   {
    "duration": 9,
    "start_time": "2021-07-10T18:51:41.946Z"
   },
   {
    "duration": 12,
    "start_time": "2021-07-10T18:51:41.957Z"
   },
   {
    "duration": 21,
    "start_time": "2021-07-10T18:51:41.970Z"
   },
   {
    "duration": 26,
    "start_time": "2021-07-10T18:51:41.993Z"
   },
   {
    "duration": 19,
    "start_time": "2021-07-10T18:51:42.021Z"
   },
   {
    "duration": 17,
    "start_time": "2021-07-10T18:51:42.041Z"
   },
   {
    "duration": 19,
    "start_time": "2021-07-10T18:51:42.059Z"
   },
   {
    "duration": 18,
    "start_time": "2021-07-10T18:51:42.079Z"
   },
   {
    "duration": 40,
    "start_time": "2021-07-10T18:51:42.098Z"
   },
   {
    "duration": 3,
    "start_time": "2021-07-10T18:51:42.140Z"
   },
   {
    "duration": 14,
    "start_time": "2021-07-10T18:51:42.147Z"
   },
   {
    "duration": 13,
    "start_time": "2021-07-10T18:51:42.162Z"
   },
   {
    "duration": 18,
    "start_time": "2021-07-10T18:51:42.177Z"
   },
   {
    "duration": 14,
    "start_time": "2021-07-10T18:51:42.196Z"
   },
   {
    "duration": 9,
    "start_time": "2021-07-10T18:51:42.211Z"
   },
   {
    "duration": 8,
    "start_time": "2021-07-10T18:51:42.222Z"
   },
   {
    "duration": 12,
    "start_time": "2021-07-10T18:51:42.231Z"
   },
   {
    "duration": 1161,
    "start_time": "2021-07-10T19:02:16.370Z"
   },
   {
    "duration": 286,
    "start_time": "2021-07-10T19:02:17.533Z"
   },
   {
    "duration": 14,
    "start_time": "2021-07-10T19:02:17.820Z"
   },
   {
    "duration": 110,
    "start_time": "2021-07-10T19:02:17.835Z"
   },
   {
    "duration": 6,
    "start_time": "2021-07-10T19:02:17.946Z"
   },
   {
    "duration": 267,
    "start_time": "2021-07-10T19:02:17.953Z"
   },
   {
    "duration": 13,
    "start_time": "2021-07-10T19:02:18.221Z"
   },
   {
    "duration": 94,
    "start_time": "2021-07-10T19:02:18.236Z"
   },
   {
    "duration": 8,
    "start_time": "2021-07-10T19:02:18.332Z"
   },
   {
    "duration": 107,
    "start_time": "2021-07-10T19:02:18.342Z"
   },
   {
    "duration": 366,
    "start_time": "2021-07-10T19:02:18.451Z"
   },
   {
    "duration": 14,
    "start_time": "2021-07-10T19:02:18.818Z"
   },
   {
    "duration": 3,
    "start_time": "2021-07-10T19:02:18.833Z"
   },
   {
    "duration": 14,
    "start_time": "2021-07-10T19:02:18.837Z"
   },
   {
    "duration": 7,
    "start_time": "2021-07-10T19:02:18.853Z"
   },
   {
    "duration": 7,
    "start_time": "2021-07-10T19:02:18.862Z"
   },
   {
    "duration": 5,
    "start_time": "2021-07-10T19:02:18.891Z"
   },
   {
    "duration": 6,
    "start_time": "2021-07-10T19:02:18.898Z"
   },
   {
    "duration": 11,
    "start_time": "2021-07-10T19:02:18.905Z"
   },
   {
    "duration": 16,
    "start_time": "2021-07-10T19:02:18.918Z"
   },
   {
    "duration": 6,
    "start_time": "2021-07-10T19:02:18.936Z"
   },
   {
    "duration": 69,
    "start_time": "2021-07-10T19:02:18.943Z"
   },
   {
    "duration": 7,
    "start_time": "2021-07-10T19:02:19.016Z"
   },
   {
    "duration": 10,
    "start_time": "2021-07-10T19:02:19.025Z"
   },
   {
    "duration": 5,
    "start_time": "2021-07-10T19:02:19.036Z"
   },
   {
    "duration": 15,
    "start_time": "2021-07-10T19:02:19.043Z"
   },
   {
    "duration": 32,
    "start_time": "2021-07-10T19:02:19.060Z"
   },
   {
    "duration": 2,
    "start_time": "2021-07-10T19:02:19.094Z"
   },
   {
    "duration": 16,
    "start_time": "2021-07-10T19:02:19.097Z"
   },
   {
    "duration": 8,
    "start_time": "2021-07-10T19:02:19.115Z"
   },
   {
    "duration": 2,
    "start_time": "2021-07-10T19:02:19.125Z"
   },
   {
    "duration": 262,
    "start_time": "2021-07-10T19:02:19.129Z"
   },
   {
    "duration": 222,
    "start_time": "2021-07-10T19:02:19.392Z"
   },
   {
    "duration": 214,
    "start_time": "2021-07-10T19:02:19.616Z"
   },
   {
    "duration": 225,
    "start_time": "2021-07-10T19:02:19.832Z"
   },
   {
    "duration": 296,
    "start_time": "2021-07-10T19:02:20.059Z"
   },
   {
    "duration": 7,
    "start_time": "2021-07-10T19:02:20.357Z"
   },
   {
    "duration": 10,
    "start_time": "2021-07-10T19:02:20.366Z"
   },
   {
    "duration": 25,
    "start_time": "2021-07-10T19:02:20.378Z"
   },
   {
    "duration": 11,
    "start_time": "2021-07-10T19:02:20.404Z"
   },
   {
    "duration": 633,
    "start_time": "2021-07-10T19:02:20.417Z"
   },
   {
    "duration": 628,
    "start_time": "2021-07-10T19:02:21.051Z"
   },
   {
    "duration": 10,
    "start_time": "2021-07-10T19:02:21.681Z"
   },
   {
    "duration": 4,
    "start_time": "2021-07-10T19:02:21.692Z"
   },
   {
    "duration": 15,
    "start_time": "2021-07-10T19:02:21.698Z"
   },
   {
    "duration": 17,
    "start_time": "2021-07-10T19:02:21.715Z"
   },
   {
    "duration": 1067,
    "start_time": "2021-07-10T19:02:21.733Z"
   },
   {
    "duration": 6,
    "start_time": "2021-07-10T19:02:22.802Z"
   },
   {
    "duration": 16,
    "start_time": "2021-07-10T19:02:22.809Z"
   },
   {
    "duration": 7,
    "start_time": "2021-07-10T19:02:22.826Z"
   },
   {
    "duration": 21,
    "start_time": "2021-07-10T19:02:22.834Z"
   },
   {
    "duration": 8,
    "start_time": "2021-07-10T19:02:22.857Z"
   },
   {
    "duration": 4,
    "start_time": "2021-07-10T19:02:22.866Z"
   },
   {
    "duration": 24,
    "start_time": "2021-07-10T19:02:22.872Z"
   },
   {
    "duration": 7,
    "start_time": "2021-07-10T19:02:22.897Z"
   },
   {
    "duration": 5,
    "start_time": "2021-07-10T19:02:22.905Z"
   },
   {
    "duration": 22,
    "start_time": "2021-07-10T19:02:22.911Z"
   },
   {
    "duration": 13,
    "start_time": "2021-07-10T19:02:22.934Z"
   },
   {
    "duration": 3,
    "start_time": "2021-07-10T19:02:22.949Z"
   },
   {
    "duration": 12,
    "start_time": "2021-07-10T19:02:22.953Z"
   },
   {
    "duration": 17,
    "start_time": "2021-07-10T19:02:22.966Z"
   },
   {
    "duration": 3,
    "start_time": "2021-07-10T19:02:22.991Z"
   },
   {
    "duration": 12,
    "start_time": "2021-07-10T19:02:22.996Z"
   },
   {
    "duration": 8,
    "start_time": "2021-07-10T19:02:23.009Z"
   },
   {
    "duration": 8,
    "start_time": "2021-07-10T19:02:23.019Z"
   },
   {
    "duration": 40,
    "start_time": "2021-07-10T19:02:23.028Z"
   },
   {
    "duration": 2,
    "start_time": "2021-07-10T19:02:23.070Z"
   },
   {
    "duration": 3,
    "start_time": "2021-07-10T19:02:23.077Z"
   },
   {
    "duration": 7,
    "start_time": "2021-07-10T19:02:23.081Z"
   },
   {
    "duration": 9,
    "start_time": "2021-07-10T19:02:23.090Z"
   },
   {
    "duration": 8,
    "start_time": "2021-07-10T19:02:23.100Z"
   },
   {
    "duration": 9,
    "start_time": "2021-07-10T19:02:23.109Z"
   },
   {
    "duration": 8,
    "start_time": "2021-07-10T19:02:23.119Z"
   },
   {
    "duration": 13,
    "start_time": "2021-07-10T19:02:23.128Z"
   },
   {
    "duration": 236817,
    "start_time": "2021-07-10T19:02:23.143Z"
   },
   {
    "duration": 304,
    "start_time": "2021-07-10T19:08:35.387Z"
   },
   {
    "duration": 4,
    "start_time": "2021-07-10T19:08:53.183Z"
   },
   {
    "duration": 22938,
    "start_time": "2021-07-10T19:09:36.746Z"
   },
   {
    "duration": 3,
    "start_time": "2021-07-10T19:10:58.752Z"
   },
   {
    "duration": 96153,
    "start_time": "2021-07-10T19:11:13.812Z"
   },
   {
    "duration": 1145,
    "start_time": "2021-07-10T19:17:14.603Z"
   },
   {
    "duration": 285,
    "start_time": "2021-07-10T19:17:15.750Z"
   },
   {
    "duration": 14,
    "start_time": "2021-07-10T19:17:16.036Z"
   },
   {
    "duration": 114,
    "start_time": "2021-07-10T19:17:16.052Z"
   },
   {
    "duration": 5,
    "start_time": "2021-07-10T19:17:16.168Z"
   },
   {
    "duration": 267,
    "start_time": "2021-07-10T19:17:16.175Z"
   },
   {
    "duration": 14,
    "start_time": "2021-07-10T19:17:16.443Z"
   },
   {
    "duration": 101,
    "start_time": "2021-07-10T19:17:16.459Z"
   },
   {
    "duration": 8,
    "start_time": "2021-07-10T19:17:16.562Z"
   },
   {
    "duration": 105,
    "start_time": "2021-07-10T19:17:16.571Z"
   },
   {
    "duration": 363,
    "start_time": "2021-07-10T19:17:16.677Z"
   },
   {
    "duration": 14,
    "start_time": "2021-07-10T19:17:17.042Z"
   },
   {
    "duration": 3,
    "start_time": "2021-07-10T19:17:17.057Z"
   },
   {
    "duration": 15,
    "start_time": "2021-07-10T19:17:17.061Z"
   },
   {
    "duration": 16,
    "start_time": "2021-07-10T19:17:17.078Z"
   },
   {
    "duration": 6,
    "start_time": "2021-07-10T19:17:17.096Z"
   },
   {
    "duration": 4,
    "start_time": "2021-07-10T19:17:17.103Z"
   },
   {
    "duration": 14,
    "start_time": "2021-07-10T19:17:17.108Z"
   },
   {
    "duration": 16,
    "start_time": "2021-07-10T19:17:17.124Z"
   },
   {
    "duration": 21,
    "start_time": "2021-07-10T19:17:17.141Z"
   },
   {
    "duration": 9,
    "start_time": "2021-07-10T19:17:17.163Z"
   },
   {
    "duration": 48,
    "start_time": "2021-07-10T19:17:17.174Z"
   },
   {
    "duration": 8,
    "start_time": "2021-07-10T19:17:17.225Z"
   },
   {
    "duration": 10,
    "start_time": "2021-07-10T19:17:17.235Z"
   },
   {
    "duration": 7,
    "start_time": "2021-07-10T19:17:17.246Z"
   },
   {
    "duration": 37,
    "start_time": "2021-07-10T19:17:17.254Z"
   },
   {
    "duration": 8,
    "start_time": "2021-07-10T19:17:17.293Z"
   },
   {
    "duration": 4,
    "start_time": "2021-07-10T19:17:17.303Z"
   },
   {
    "duration": 21,
    "start_time": "2021-07-10T19:17:17.308Z"
   },
   {
    "duration": 8,
    "start_time": "2021-07-10T19:17:17.331Z"
   },
   {
    "duration": 3,
    "start_time": "2021-07-10T19:17:17.340Z"
   },
   {
    "duration": 251,
    "start_time": "2021-07-10T19:17:17.345Z"
   },
   {
    "duration": 221,
    "start_time": "2021-07-10T19:17:17.597Z"
   },
   {
    "duration": 209,
    "start_time": "2021-07-10T19:17:17.820Z"
   },
   {
    "duration": 226,
    "start_time": "2021-07-10T19:17:18.031Z"
   },
   {
    "duration": 284,
    "start_time": "2021-07-10T19:17:18.258Z"
   },
   {
    "duration": 8,
    "start_time": "2021-07-10T19:17:18.543Z"
   },
   {
    "duration": 11,
    "start_time": "2021-07-10T19:17:18.553Z"
   },
   {
    "duration": 27,
    "start_time": "2021-07-10T19:17:18.566Z"
   },
   {
    "duration": 11,
    "start_time": "2021-07-10T19:17:18.595Z"
   },
   {
    "duration": 529,
    "start_time": "2021-07-10T19:17:18.608Z"
   },
   {
    "duration": 623,
    "start_time": "2021-07-10T19:17:19.138Z"
   },
   {
    "duration": 5,
    "start_time": "2021-07-10T19:17:19.763Z"
   },
   {
    "duration": 6,
    "start_time": "2021-07-10T19:17:19.769Z"
   },
   {
    "duration": 19,
    "start_time": "2021-07-10T19:17:19.776Z"
   },
   {
    "duration": 19,
    "start_time": "2021-07-10T19:17:19.796Z"
   },
   {
    "duration": 963,
    "start_time": "2021-07-10T19:17:19.817Z"
   },
   {
    "duration": 10,
    "start_time": "2021-07-10T19:17:20.782Z"
   },
   {
    "duration": 4,
    "start_time": "2021-07-10T19:17:20.794Z"
   },
   {
    "duration": 9,
    "start_time": "2021-07-10T19:17:20.800Z"
   },
   {
    "duration": 17,
    "start_time": "2021-07-10T19:17:20.811Z"
   },
   {
    "duration": 8,
    "start_time": "2021-07-10T19:17:20.829Z"
   },
   {
    "duration": 4,
    "start_time": "2021-07-10T19:17:20.839Z"
   },
   {
    "duration": 18,
    "start_time": "2021-07-10T19:17:20.844Z"
   },
   {
    "duration": 28,
    "start_time": "2021-07-10T19:17:20.864Z"
   },
   {
    "duration": 5,
    "start_time": "2021-07-10T19:17:20.893Z"
   },
   {
    "duration": 21,
    "start_time": "2021-07-10T19:17:20.899Z"
   },
   {
    "duration": 10,
    "start_time": "2021-07-10T19:17:20.921Z"
   },
   {
    "duration": 3,
    "start_time": "2021-07-10T19:17:20.932Z"
   },
   {
    "duration": 9,
    "start_time": "2021-07-10T19:17:20.936Z"
   },
   {
    "duration": 15,
    "start_time": "2021-07-10T19:17:20.946Z"
   },
   {
    "duration": 7,
    "start_time": "2021-07-10T19:17:20.962Z"
   },
   {
    "duration": 21,
    "start_time": "2021-07-10T19:17:20.970Z"
   },
   {
    "duration": 9,
    "start_time": "2021-07-10T19:17:20.992Z"
   },
   {
    "duration": 9,
    "start_time": "2021-07-10T19:17:21.003Z"
   },
   {
    "duration": 38,
    "start_time": "2021-07-10T19:17:21.013Z"
   },
   {
    "duration": 3,
    "start_time": "2021-07-10T19:17:21.052Z"
   },
   {
    "duration": 5,
    "start_time": "2021-07-10T19:17:21.059Z"
   },
   {
    "duration": 6,
    "start_time": "2021-07-10T19:17:21.066Z"
   },
   {
    "duration": 7,
    "start_time": "2021-07-10T19:17:21.074Z"
   },
   {
    "duration": 8,
    "start_time": "2021-07-10T19:17:21.083Z"
   },
   {
    "duration": 8,
    "start_time": "2021-07-10T19:17:21.092Z"
   },
   {
    "duration": 9,
    "start_time": "2021-07-10T19:17:21.101Z"
   },
   {
    "duration": 8,
    "start_time": "2021-07-10T19:17:21.112Z"
   },
   {
    "duration": 7,
    "start_time": "2021-07-10T19:17:21.122Z"
   },
   {
    "duration": 640,
    "start_time": "2021-07-10T19:42:22.779Z"
   },
   {
    "duration": 634,
    "start_time": "2021-07-10T19:45:20.657Z"
   },
   {
    "duration": 648,
    "start_time": "2021-07-10T19:49:30.750Z"
   },
   {
    "duration": 1547,
    "start_time": "2021-07-11T04:35:17.470Z"
   },
   {
    "duration": 360,
    "start_time": "2021-07-11T04:35:21.095Z"
   },
   {
    "duration": 23,
    "start_time": "2021-07-11T04:35:21.568Z"
   },
   {
    "duration": 169,
    "start_time": "2021-07-11T04:35:21.789Z"
   },
   {
    "duration": 9,
    "start_time": "2021-07-11T04:35:22.839Z"
   },
   {
    "duration": 327,
    "start_time": "2021-07-11T04:35:23.825Z"
   },
   {
    "duration": 21,
    "start_time": "2021-07-11T04:35:24.154Z"
   },
   {
    "duration": 122,
    "start_time": "2021-07-11T04:35:25.072Z"
   },
   {
    "duration": 15,
    "start_time": "2021-07-11T04:35:25.314Z"
   },
   {
    "duration": 176,
    "start_time": "2021-07-11T04:35:26.089Z"
   },
   {
    "duration": 476,
    "start_time": "2021-07-11T04:35:29.126Z"
   },
   {
    "duration": 25,
    "start_time": "2021-07-11T04:35:29.648Z"
   },
   {
    "duration": 4,
    "start_time": "2021-07-11T04:37:27.126Z"
   },
   {
    "duration": 15,
    "start_time": "2021-07-11T04:37:27.581Z"
   },
   {
    "duration": 11,
    "start_time": "2021-07-11T04:37:28.060Z"
   },
   {
    "duration": 11,
    "start_time": "2021-07-11T04:37:28.266Z"
   },
   {
    "duration": 6,
    "start_time": "2021-07-11T04:37:28.736Z"
   },
   {
    "duration": 8,
    "start_time": "2021-07-11T04:38:05.977Z"
   },
   {
    "duration": 13,
    "start_time": "2021-07-11T04:38:55.028Z"
   },
   {
    "duration": 20,
    "start_time": "2021-07-11T04:38:55.618Z"
   },
   {
    "duration": 10,
    "start_time": "2021-07-11T04:38:56.167Z"
   },
   {
    "duration": 50,
    "start_time": "2021-07-11T04:38:59.948Z"
   },
   {
    "duration": 12,
    "start_time": "2021-07-11T04:39:00.268Z"
   },
   {
    "duration": 13,
    "start_time": "2021-07-11T04:39:02.128Z"
   },
   {
    "duration": 9,
    "start_time": "2021-07-11T04:39:06.058Z"
   },
   {
    "duration": 26,
    "start_time": "2021-07-11T04:39:11.968Z"
   },
   {
    "duration": 10,
    "start_time": "2021-07-11T04:39:12.784Z"
   },
   {
    "duration": 3,
    "start_time": "2021-07-11T04:39:13.618Z"
   },
   {
    "duration": 22,
    "start_time": "2021-07-11T04:39:14.824Z"
   },
   {
    "duration": 15,
    "start_time": "2021-07-11T04:39:15.319Z"
   },
   {
    "duration": 3,
    "start_time": "2021-07-11T04:39:16.565Z"
   },
   {
    "duration": 400,
    "start_time": "2021-07-11T04:41:18.820Z"
   },
   {
    "duration": 466,
    "start_time": "2021-07-11T04:41:20.326Z"
   },
   {
    "duration": 352,
    "start_time": "2021-07-11T04:41:21.904Z"
   },
   {
    "duration": 376,
    "start_time": "2021-07-11T04:41:23.368Z"
   },
   {
    "duration": 435,
    "start_time": "2021-07-11T04:41:24.292Z"
   },
   {
    "duration": 7,
    "start_time": "2021-07-11T04:44:15.143Z"
   },
   {
    "duration": 13,
    "start_time": "2021-07-11T04:44:15.153Z"
   },
   {
    "duration": 13,
    "start_time": "2021-07-11T04:44:15.183Z"
   },
   {
    "duration": 33,
    "start_time": "2021-07-11T04:44:17.902Z"
   },
   {
    "duration": 1234,
    "start_time": "2021-07-11T04:44:18.758Z"
   },
   {
    "duration": 12,
    "start_time": "2021-07-11T04:44:19.995Z"
   },
   {
    "duration": 7,
    "start_time": "2021-07-11T04:44:20.291Z"
   },
   {
    "duration": 7,
    "start_time": "2021-07-11T04:44:20.496Z"
   },
   {
    "duration": 27,
    "start_time": "2021-07-11T04:44:20.997Z"
   },
   {
    "duration": 11,
    "start_time": "2021-07-11T04:44:21.503Z"
   },
   {
    "duration": 7,
    "start_time": "2021-07-11T04:44:22.025Z"
   },
   {
    "duration": 35,
    "start_time": "2021-07-11T04:44:22.256Z"
   },
   {
    "duration": 11,
    "start_time": "2021-07-11T04:44:23.462Z"
   },
   {
    "duration": 7,
    "start_time": "2021-07-11T04:44:23.713Z"
   },
   {
    "duration": 33,
    "start_time": "2021-07-11T04:44:24.081Z"
   },
   {
    "duration": 5,
    "start_time": "2021-07-11T04:45:54.474Z"
   },
   {
    "duration": 4,
    "start_time": "2021-07-11T04:45:57.708Z"
   },
   {
    "duration": 16,
    "start_time": "2021-07-11T04:46:27.636Z"
   },
   {
    "duration": 5,
    "start_time": "2021-07-11T04:46:27.654Z"
   },
   {
    "duration": 20,
    "start_time": "2021-07-11T04:46:27.662Z"
   },
   {
    "duration": 5,
    "start_time": "2021-07-11T04:46:27.712Z"
   },
   {
    "duration": 3,
    "start_time": "2021-07-11T04:46:51.697Z"
   },
   {
    "duration": 38,
    "start_time": "2021-07-11T04:46:52.120Z"
   },
   {
    "duration": 4,
    "start_time": "2021-07-11T04:47:10.235Z"
   },
   {
    "duration": 1543,
    "start_time": "2021-07-11T11:48:28.979Z"
   },
   {
    "duration": 1516,
    "start_time": "2021-07-11T11:56:03.471Z"
   },
   {
    "duration": 366,
    "start_time": "2021-07-11T11:56:04.989Z"
   },
   {
    "duration": 23,
    "start_time": "2021-07-11T11:56:05.358Z"
   },
   {
    "duration": 196,
    "start_time": "2021-07-11T11:56:05.384Z"
   },
   {
    "duration": 11,
    "start_time": "2021-07-11T11:56:05.582Z"
   },
   {
    "duration": 339,
    "start_time": "2021-07-11T11:56:05.596Z"
   },
   {
    "duration": 27,
    "start_time": "2021-07-11T11:56:05.937Z"
   },
   {
    "duration": 126,
    "start_time": "2021-07-11T11:56:05.968Z"
   },
   {
    "duration": 14,
    "start_time": "2021-07-11T11:56:06.097Z"
   },
   {
    "duration": 182,
    "start_time": "2021-07-11T11:56:06.114Z"
   },
   {
    "duration": 458,
    "start_time": "2021-07-11T11:56:06.299Z"
   },
   {
    "duration": 21,
    "start_time": "2021-07-11T11:56:06.759Z"
   },
   {
    "duration": 3,
    "start_time": "2021-07-11T11:56:06.783Z"
   },
   {
    "duration": 16,
    "start_time": "2021-07-11T11:56:06.788Z"
   },
   {
    "duration": 14,
    "start_time": "2021-07-11T11:56:06.806Z"
   },
   {
    "duration": 35,
    "start_time": "2021-07-11T11:56:06.822Z"
   },
   {
    "duration": 5,
    "start_time": "2021-07-11T11:56:06.860Z"
   },
   {
    "duration": 11,
    "start_time": "2021-07-11T11:56:06.868Z"
   },
   {
    "duration": 23,
    "start_time": "2021-07-11T11:56:06.883Z"
   },
   {
    "duration": 49,
    "start_time": "2021-07-11T11:56:06.908Z"
   },
   {
    "duration": 9,
    "start_time": "2021-07-11T11:56:06.959Z"
   },
   {
    "duration": 43,
    "start_time": "2021-07-11T11:56:06.970Z"
   },
   {
    "duration": 39,
    "start_time": "2021-07-11T11:56:07.018Z"
   },
   {
    "duration": 11,
    "start_time": "2021-07-11T11:56:07.061Z"
   },
   {
    "duration": 10,
    "start_time": "2021-07-11T11:56:07.075Z"
   },
   {
    "duration": 19,
    "start_time": "2021-07-11T11:56:07.087Z"
   },
   {
    "duration": 50,
    "start_time": "2021-07-11T11:56:07.108Z"
   },
   {
    "duration": 3,
    "start_time": "2021-07-11T11:56:07.161Z"
   },
   {
    "duration": 27,
    "start_time": "2021-07-11T11:56:07.166Z"
   },
   {
    "duration": 22,
    "start_time": "2021-07-11T11:56:07.196Z"
   },
   {
    "duration": 3,
    "start_time": "2021-07-11T11:56:07.221Z"
   },
   {
    "duration": 404,
    "start_time": "2021-07-11T11:56:07.257Z"
   },
   {
    "duration": 375,
    "start_time": "2021-07-11T11:56:07.664Z"
   },
   {
    "duration": 357,
    "start_time": "2021-07-11T11:56:08.042Z"
   },
   {
    "duration": 375,
    "start_time": "2021-07-11T11:56:08.402Z"
   },
   {
    "duration": 429,
    "start_time": "2021-07-11T11:56:08.779Z"
   },
   {
    "duration": 13,
    "start_time": "2021-07-11T11:56:09.211Z"
   },
   {
    "duration": 35,
    "start_time": "2021-07-11T11:56:09.226Z"
   },
   {
    "duration": 26,
    "start_time": "2021-07-11T11:56:09.264Z"
   },
   {
    "duration": 22,
    "start_time": "2021-07-11T11:56:09.293Z"
   },
   {
    "duration": 838,
    "start_time": "2021-07-11T11:56:09.318Z"
   },
   {
    "duration": 866,
    "start_time": "2021-07-11T11:56:10.159Z"
   },
   {
    "duration": 7,
    "start_time": "2021-07-11T11:56:11.027Z"
   },
   {
    "duration": 21,
    "start_time": "2021-07-11T11:56:11.036Z"
   },
   {
    "duration": 15,
    "start_time": "2021-07-11T11:56:11.059Z"
   },
   {
    "duration": 33,
    "start_time": "2021-07-11T11:56:11.077Z"
   },
   {
    "duration": 1222,
    "start_time": "2021-07-11T11:56:11.112Z"
   },
   {
    "duration": 19,
    "start_time": "2021-07-11T11:56:12.338Z"
   },
   {
    "duration": 8,
    "start_time": "2021-07-11T11:56:12.359Z"
   },
   {
    "duration": 8,
    "start_time": "2021-07-11T11:56:12.371Z"
   },
   {
    "duration": 24,
    "start_time": "2021-07-11T11:56:12.382Z"
   },
   {
    "duration": 54,
    "start_time": "2021-07-11T11:56:12.409Z"
   },
   {
    "duration": 6,
    "start_time": "2021-07-11T11:56:12.465Z"
   },
   {
    "duration": 38,
    "start_time": "2021-07-11T11:56:12.473Z"
   },
   {
    "duration": 43,
    "start_time": "2021-07-11T11:56:12.514Z"
   },
   {
    "duration": 7,
    "start_time": "2021-07-11T11:56:12.559Z"
   },
   {
    "duration": 37,
    "start_time": "2021-07-11T11:56:12.568Z"
   },
   {
    "duration": 15,
    "start_time": "2021-07-11T11:56:12.608Z"
   },
   {
    "duration": 30,
    "start_time": "2021-07-11T11:56:12.625Z"
   },
   {
    "duration": 3,
    "start_time": "2021-07-11T11:56:12.658Z"
   },
   {
    "duration": 19,
    "start_time": "2021-07-11T11:56:12.664Z"
   },
   {
    "duration": 5,
    "start_time": "2021-07-11T11:56:12.686Z"
   },
   {
    "duration": 8,
    "start_time": "2021-07-11T11:56:12.694Z"
   },
   {
    "duration": 5,
    "start_time": "2021-07-11T11:56:12.705Z"
   },
   {
    "duration": 4,
    "start_time": "2021-07-11T11:56:12.713Z"
   },
   {
    "duration": 39,
    "start_time": "2021-07-11T11:56:12.757Z"
   },
   {
    "duration": 4,
    "start_time": "2021-07-11T11:56:12.799Z"
   },
   {
    "duration": 4,
    "start_time": "2021-07-11T11:56:12.811Z"
   },
   {
    "duration": 5,
    "start_time": "2021-07-11T11:56:12.818Z"
   },
   {
    "duration": 5,
    "start_time": "2021-07-11T11:56:12.856Z"
   },
   {
    "duration": 7,
    "start_time": "2021-07-11T11:56:12.863Z"
   },
   {
    "duration": 7,
    "start_time": "2021-07-11T11:56:12.872Z"
   },
   {
    "duration": 11,
    "start_time": "2021-07-11T11:56:12.882Z"
   },
   {
    "duration": 8,
    "start_time": "2021-07-11T11:56:12.895Z"
   },
   {
    "duration": 8,
    "start_time": "2021-07-11T11:56:12.905Z"
   },
   {
    "duration": 866,
    "start_time": "2021-07-11T11:56:12.915Z"
   },
   {
    "duration": 14,
    "start_time": "2021-07-11T11:56:13.783Z"
   }
  ],
  "kernelspec": {
   "display_name": "Python 3",
   "language": "python",
   "name": "python3"
  },
  "language_info": {
   "codemirror_mode": {
    "name": "ipython",
    "version": 3
   },
   "file_extension": ".py",
   "mimetype": "text/x-python",
   "name": "python",
   "nbconvert_exporter": "python",
   "pygments_lexer": "ipython3",
   "version": "3.8.5"
  },
  "toc": {
   "base_numbering": 1,
   "nav_menu": {},
   "number_sections": true,
   "sideBar": true,
   "skip_h1_title": true,
   "title_cell": "Содержание",
   "title_sidebar": "Contents",
   "toc_cell": true,
   "toc_position": {
    "height": "calc(100% - 180px)",
    "left": "10px",
    "top": "150px",
    "width": "289.6px"
   },
   "toc_section_display": true,
   "toc_window_display": true
  }
 },
 "nbformat": 4,
 "nbformat_minor": 2
}
